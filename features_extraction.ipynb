{
 "cells": [
  {
   "cell_type": "code",
   "execution_count": 49,
   "metadata": {},
   "outputs": [],
   "source": [
    "import os\n",
    "import fnmatch\n",
    "import pandas as pd \n",
    "import numpy as np\n",
    "import math\n",
    "import matplotlib.pyplot as plt\n",
    "import networkx as nx\n",
    "import pylab as palt\n",
    "import shutil\n",
    "import pickle\n",
    "from statistics import mean\n",
    "import statistics\n",
    "from scipy.stats import skew\n",
    "import heapq\n",
    "from scipy.signal import argrelextrema\n",
    "from numpy import mean, absolute\n",
    "from scipy.stats import kurtosis\n",
    "from scipy import stats \n",
    "import scipy.signal as sig\n",
    "from pandas import DataFrame"
   ]
  },
  {
   "cell_type": "code",
   "execution_count": 18,
   "metadata": {},
   "outputs": [],
   "source": [
    "def convertFileIntoDictonary(file_path,isAlcoholic,jsonData):\n",
    "    for file in os.listdir(file_path):\n",
    "        data=pd.read_csv('{}/{}'.format(file_path,file))\n",
    "        channelInfo=dict()\n",
    "        for index, row in data.iterrows():\n",
    "            if row[\"Sensor position\"] not in channelInfo: \n",
    "                channelInfo[row[\"Sensor position\"]]=[row[\"Sensor val\"]]\n",
    "            else:\n",
    "                channelInfo[row[\"Sensor position\"]].append(row[\"Sensor val\"])\n",
    "        jsonList = {'file name': file, 'raw signal data': channelInfo, 'connection info': '','nodes features info': '',\n",
    "                            'edges feature info': '','pearson Correlation': '','Granger Causality':'','PLV':'','Partial Correlation': '','PLV' :'','isAlcoholic': isAlcoholic}        \n",
    "        jsonData.append(jsonList)"
   ]
  },
  {
   "cell_type": "code",
   "execution_count": 19,
   "metadata": {},
   "outputs": [],
   "source": [
    "def meanAbsoluteDeviation(jsonData):\n",
    "    \"\"\"\n",
    "    Mean Absolute Deviation (M.A.D)\n",
    "    \"\"\"\n",
    "    \n",
    "    for data in jsonData:\n",
    "        featureDict=dict()\n",
    "        for key in data['raw signal data'].keys():\n",
    "            if key not in featureDict:\n",
    "                featureDict[key]=[np.mean(absolute(data['raw signal data'][key] - np.mean(data['raw signal data'][key])))]\n",
    "            else:\n",
    "                featureDict[key].append(np.mean(absolute(data['raw signal data'][key] - np.mean(data['raw signal data'][key]))))\n",
    "        data['nodes feature info']=featureDict"
   ]
  },
  {
   "cell_type": "code",
   "execution_count": 20,
   "metadata": {},
   "outputs": [],
   "source": [
    "def mean(jsonData):\n",
    "    \"\"\"\n",
    "        mean\n",
    "    \"\"\"\n",
    "    for data in jsonData:\n",
    "        for key in data['raw signal data'].keys():\n",
    "            data['nodes feature info'][key].append(np.mean(data['raw signal data'][key]))"
   ]
  },
  {
   "cell_type": "code",
   "execution_count": 21,
   "metadata": {},
   "outputs": [],
   "source": [
    "def zeroCrossing(jsonData):\n",
    "    \"\"\"\n",
    "    No of time the signal crosses zero within an analysis window.\n",
    "    \"\"\"\n",
    "    for data in jsonData:\n",
    "        for key in data['raw signal data'].keys():\n",
    "            count=0\n",
    "            for k in range(0,len(data['raw signal data'][key])-1):\n",
    "                if k==0:\n",
    "                    if (data['raw signal data'][key][k]>data['raw signal data'][key][k+1]):\n",
    "                        count=count+1\n",
    "                elif k==len(data['raw signal data'][key])-1:\n",
    "                    if (data['raw signal data'][key][k]>data['raw signal data'][key][k-1]):\n",
    "                        count=count+1\n",
    "                else:\n",
    "                    if (data['raw signal data'][key][k]>data['raw signal data'][key][k-1] and data['raw signal data'][key][k]>data['raw signal data'][key][k+1]) or (data['raw signal data'][key][k]<data['raw signal data'][key][k-1] and data['raw signal data'][key][k]<data['raw signal data'][key][k+1]):\n",
    "                        count=count+1\n",
    "            data['nodes feature info'][key].append(count)"
   ]
  },
  {
   "cell_type": "code",
   "execution_count": 22,
   "metadata": {},
   "outputs": [],
   "source": [
    "def varience(jsonData):\n",
    "    \"\"\"\n",
    "        varience\n",
    "    \"\"\"\n",
    "    for data in jsonData:\n",
    "        for key in data['raw signal data'].keys():\n",
    "            data['nodes feature info'][key].append(statistics.median(data['raw signal data'][key]))"
   ]
  },
  {
   "cell_type": "code",
   "execution_count": 23,
   "metadata": {},
   "outputs": [],
   "source": [
    "def SD(jsonData):\n",
    "    \"\"\"\n",
    "        varience\n",
    "    \"\"\"\n",
    "    for data in jsonData:\n",
    "        for key in data['raw signal data'].keys():\n",
    "            data['nodes feature info'][key].append(np.std(data['raw signal data'][key], dtype = np.float64))"
   ]
  },
  {
   "cell_type": "code",
   "execution_count": 24,
   "metadata": {},
   "outputs": [],
   "source": [
    "def skewness(jsonData):\n",
    "    \"\"\"\n",
    "        skewness\n",
    "    \"\"\"\n",
    "    for data in jsonData:\n",
    "        for key in data['raw signal data'].keys():\n",
    "            data['nodes feature info'][key].append(skew(data['raw signal data'][key]))"
   ]
  },
  {
   "cell_type": "code",
   "execution_count": 25,
   "metadata": {},
   "outputs": [],
   "source": [
    "def kurtosisvalue(jsonData):\n",
    "    \"\"\"\n",
    "        kurtosis\n",
    "    \"\"\"\n",
    "    for data in jsonData:\n",
    "        for key in data['raw signal data'].keys():\n",
    "            data['nodes feature info'][key].append(kurtosis(data['raw signal data'][key]))"
   ]
  },
  {
   "cell_type": "code",
   "execution_count": 26,
   "metadata": {},
   "outputs": [],
   "source": [
    "def medianAbsoluteDeviation(jsonData):\n",
    "    \"\"\"\n",
    "        median absolute deviation\n",
    "    \"\"\"\n",
    "    for data in jsonData:\n",
    "        for key in data['raw signal data'].keys():\n",
    "            data['nodes feature info'][key].append(stats.median_abs_deviation(data['raw signal data'][key]))"
   ]
  },
  {
   "cell_type": "code",
   "execution_count": 27,
   "metadata": {},
   "outputs": [],
   "source": [
    "def minimum(jsonData):\n",
    "    \"\"\"\n",
    "        Minimum\n",
    "    \"\"\"\n",
    "    for data in jsonData:\n",
    "        for key in data['raw signal data'].keys():\n",
    "            data['nodes feature info'][key].append(min(data['raw signal data'][key]))"
   ]
  },
  {
   "cell_type": "code",
   "execution_count": 28,
   "metadata": {},
   "outputs": [],
   "source": [
    "def maximum(jsonData):\n",
    "    \"\"\"\n",
    "        maximum\n",
    "    \"\"\"\n",
    "    for data in jsonData:\n",
    "        for key in data['raw signal data'].keys():\n",
    "            data['nodes feature info'][key].append(max(data['raw signal data'][key]))"
   ]
  },
  {
   "cell_type": "code",
   "execution_count": 29,
   "metadata": {},
   "outputs": [],
   "source": [
    "def hilphase(y1,y2):\n",
    "    sig1_hill=sig.hilbert(y1)\n",
    "    sig2_hill=sig.hilbert(y2)\n",
    "    pdt=(np.inner(sig1_hill,np.conj(sig2_hill))/(np.sqrt(np.inner(sig1_hill,\n",
    "               np.conj(sig1_hill))*np.inner(sig2_hill,np.conj(sig2_hill)))))\n",
    "    phase = np.angle(pdt)\n",
    "\n",
    "    return phase"
   ]
  },
  {
   "cell_type": "code",
   "execution_count": 30,
   "metadata": {},
   "outputs": [],
   "source": [
    "def PLV(jsonData):\n",
    "    \"\"\"\n",
    "        PLV\n",
    "    \"\"\"\n",
    "    for data in jsonData:\n",
    "        for key1 in data['raw signal data'].keys():\n",
    "            for key2 in data['raw signal data'].keys():\n",
    "                hilphase(data['raw signal data'][key1],data['raw signal data'][key2])"
   ]
  },
  {
   "cell_type": "code",
   "execution_count": 31,
   "metadata": {},
   "outputs": [],
   "source": [
    "from statsmodels.tsa.stattools import grangercausalitytests\n",
    "maxlag=12\n",
    "test = 'ssr_chi2test'\n",
    "def grangers_causation_matrix(data, variables, test='ssr_chi2test', verbose=False):    \n",
    "    \"\"\"Check Granger Causality of all possible combinations of the Time series.\n",
    "    The rows are the response variable, columns are predictors. The values in the table \n",
    "    are the P-Values. P-Values lesser than the significance level (0.05), implies \n",
    "    the Null Hypothesis that the coefficients of the corresponding past values is \n",
    "    zero, that is, the X does not cause Y can be rejected.\n",
    "\n",
    "    data      : pandas dataframe containing the time series variables\n",
    "    variables : list containing names of the time series variables.\n",
    "    \"\"\"\n",
    "    df = pd.DataFrame(np.zeros((len(variables), len(variables))), columns=variables, index=variables)\n",
    "    for c in df.columns:\n",
    "        for r in df.index:\n",
    "            test_result = grangercausalitytests(data[[r, c]], maxlag=maxlag, verbose=False)\n",
    "            p_values = [round(test_result[i+1][0][test][1],4) for i in range(maxlag)]\n",
    "            if verbose: print(f'Y = {r}, X = {c}, P Values = {p_values}')\n",
    "            min_p_value = np.min(p_values)\n",
    "            df.loc[r, c] = min_p_value\n",
    "    df.columns = [var + '_x' for var in variables]\n",
    "    df.index = [var + '_y' for var in variables]\n",
    "    return df"
   ]
  },
  {
   "cell_type": "code",
   "execution_count": 32,
   "metadata": {},
   "outputs": [],
   "source": [
    "path_alcohol=\"C:\\\\Users\\\\alvin\\\\Desktop\\\\MTP_Project\\\\data\\\\matching condition data\\\\alcohol\"\n",
    "jsonData = []\n",
    "convertFileIntoDictonary(path_alcohol,'Y',jsonData)"
   ]
  },
  {
   "cell_type": "code",
   "execution_count": 33,
   "metadata": {},
   "outputs": [],
   "source": [
    "path_non_alcohol=\"C:\\\\Users\\\\alvin\\\\Desktop\\\\MTP_Project\\\\data\\\\matching condition data\\\\nonalcohol\"\n",
    "convertFileIntoDictonary(path_non_alcohol,'N',jsonData)"
   ]
  },
  {
   "cell_type": "code",
   "execution_count": 34,
   "metadata": {},
   "outputs": [],
   "source": [
    "meanAbsoluteDeviation(jsonData)"
   ]
  },
  {
   "cell_type": "code",
   "execution_count": 35,
   "metadata": {},
   "outputs": [],
   "source": [
    "mean(jsonData)"
   ]
  },
  {
   "cell_type": "code",
   "execution_count": 36,
   "metadata": {},
   "outputs": [],
   "source": [
    "zeroCrossing(jsonData)"
   ]
  },
  {
   "cell_type": "code",
   "execution_count": 37,
   "metadata": {},
   "outputs": [],
   "source": [
    "varience(jsonData)"
   ]
  },
  {
   "cell_type": "code",
   "execution_count": 38,
   "metadata": {},
   "outputs": [],
   "source": [
    "SD(jsonData)"
   ]
  },
  {
   "cell_type": "code",
   "execution_count": 39,
   "metadata": {},
   "outputs": [],
   "source": [
    "skewness(jsonData)"
   ]
  },
  {
   "cell_type": "code",
   "execution_count": 40,
   "metadata": {},
   "outputs": [],
   "source": [
    "kurtosisvalue(jsonData)"
   ]
  },
  {
   "cell_type": "code",
   "execution_count": 41,
   "metadata": {},
   "outputs": [],
   "source": [
    "medianAbsoluteDeviation(jsonData)"
   ]
  },
  {
   "cell_type": "code",
   "execution_count": 42,
   "metadata": {},
   "outputs": [],
   "source": [
    "minimum(jsonData)"
   ]
  },
  {
   "cell_type": "code",
   "execution_count": 43,
   "metadata": {},
   "outputs": [],
   "source": [
    "maximum(jsonData)"
   ]
  },
  {
   "cell_type": "code",
   "execution_count": 53,
   "metadata": {},
   "outputs": [],
   "source": [
    "keys_List=jsonData[0]['raw signal data'].keys()"
   ]
  },
  {
   "cell_type": "code",
   "execution_count": null,
   "metadata": {},
   "outputs": [
    {
     "name": "stderr",
     "output_type": "stream",
     "text": [
      "C:\\Users\\alvin\\anaconda3\\lib\\site-packages\\statsmodels\\base\\model.py:1832: ValueWarning: covariance of constraints does not have full rank. The number of constraints is 11, but rank is 1\n",
      "  warnings.warn('covariance of constraints does not have full '\n",
      "C:\\Users\\alvin\\anaconda3\\lib\\site-packages\\statsmodels\\base\\model.py:1832: ValueWarning: covariance of constraints does not have full rank. The number of constraints is 5, but rank is 1\n",
      "  warnings.warn('covariance of constraints does not have full '\n",
      "C:\\Users\\alvin\\anaconda3\\lib\\site-packages\\statsmodels\\base\\model.py:1832: ValueWarning: covariance of constraints does not have full rank. The number of constraints is 6, but rank is 1\n",
      "  warnings.warn('covariance of constraints does not have full '\n",
      "C:\\Users\\alvin\\anaconda3\\lib\\site-packages\\statsmodels\\base\\model.py:1832: ValueWarning: covariance of constraints does not have full rank. The number of constraints is 7, but rank is 1\n",
      "  warnings.warn('covariance of constraints does not have full '\n",
      "C:\\Users\\alvin\\anaconda3\\lib\\site-packages\\statsmodels\\base\\model.py:1832: ValueWarning: covariance of constraints does not have full rank. The number of constraints is 9, but rank is 1\n",
      "  warnings.warn('covariance of constraints does not have full '\n",
      "C:\\Users\\alvin\\anaconda3\\lib\\site-packages\\statsmodels\\base\\model.py:1832: ValueWarning: covariance of constraints does not have full rank. The number of constraints is 11, but rank is 1\n",
      "  warnings.warn('covariance of constraints does not have full '\n",
      "C:\\Users\\alvin\\anaconda3\\lib\\site-packages\\statsmodels\\base\\model.py:1832: ValueWarning: covariance of constraints does not have full rank. The number of constraints is 4, but rank is 1\n",
      "  warnings.warn('covariance of constraints does not have full '\n",
      "C:\\Users\\alvin\\anaconda3\\lib\\site-packages\\statsmodels\\base\\model.py:1832: ValueWarning: covariance of constraints does not have full rank. The number of constraints is 5, but rank is 1\n",
      "  warnings.warn('covariance of constraints does not have full '\n",
      "C:\\Users\\alvin\\anaconda3\\lib\\site-packages\\statsmodels\\base\\model.py:1832: ValueWarning: covariance of constraints does not have full rank. The number of constraints is 4, but rank is 1\n",
      "  warnings.warn('covariance of constraints does not have full '\n",
      "C:\\Users\\alvin\\anaconda3\\lib\\site-packages\\statsmodels\\base\\model.py:1832: ValueWarning: covariance of constraints does not have full rank. The number of constraints is 5, but rank is 1\n",
      "  warnings.warn('covariance of constraints does not have full '\n",
      "C:\\Users\\alvin\\anaconda3\\lib\\site-packages\\statsmodels\\base\\model.py:1832: ValueWarning: covariance of constraints does not have full rank. The number of constraints is 6, but rank is 1\n",
      "  warnings.warn('covariance of constraints does not have full '\n",
      "C:\\Users\\alvin\\anaconda3\\lib\\site-packages\\statsmodels\\base\\model.py:1832: ValueWarning: covariance of constraints does not have full rank. The number of constraints is 5, but rank is 1\n",
      "  warnings.warn('covariance of constraints does not have full '\n",
      "C:\\Users\\alvin\\anaconda3\\lib\\site-packages\\statsmodels\\base\\model.py:1832: ValueWarning: covariance of constraints does not have full rank. The number of constraints is 8, but rank is 1\n",
      "  warnings.warn('covariance of constraints does not have full '\n",
      "C:\\Users\\alvin\\anaconda3\\lib\\site-packages\\statsmodels\\base\\model.py:1832: ValueWarning: covariance of constraints does not have full rank. The number of constraints is 4, but rank is 1\n",
      "  warnings.warn('covariance of constraints does not have full '\n",
      "C:\\Users\\alvin\\anaconda3\\lib\\site-packages\\statsmodels\\base\\model.py:1832: ValueWarning: covariance of constraints does not have full rank. The number of constraints is 5, but rank is 1\n",
      "  warnings.warn('covariance of constraints does not have full '\n",
      "C:\\Users\\alvin\\anaconda3\\lib\\site-packages\\statsmodels\\base\\model.py:1832: ValueWarning: covariance of constraints does not have full rank. The number of constraints is 6, but rank is 1\n",
      "  warnings.warn('covariance of constraints does not have full '\n",
      "C:\\Users\\alvin\\anaconda3\\lib\\site-packages\\statsmodels\\base\\model.py:1832: ValueWarning: covariance of constraints does not have full rank. The number of constraints is 10, but rank is 1\n",
      "  warnings.warn('covariance of constraints does not have full '\n",
      "C:\\Users\\alvin\\anaconda3\\lib\\site-packages\\statsmodels\\base\\model.py:1832: ValueWarning: covariance of constraints does not have full rank. The number of constraints is 7, but rank is 1\n",
      "  warnings.warn('covariance of constraints does not have full '\n",
      "C:\\Users\\alvin\\anaconda3\\lib\\site-packages\\statsmodels\\base\\model.py:1832: ValueWarning: covariance of constraints does not have full rank. The number of constraints is 4, but rank is 1\n",
      "  warnings.warn('covariance of constraints does not have full '\n",
      "C:\\Users\\alvin\\anaconda3\\lib\\site-packages\\statsmodels\\base\\model.py:1832: ValueWarning: covariance of constraints does not have full rank. The number of constraints is 4, but rank is 1\n",
      "  warnings.warn('covariance of constraints does not have full '\n",
      "C:\\Users\\alvin\\anaconda3\\lib\\site-packages\\statsmodels\\base\\model.py:1832: ValueWarning: covariance of constraints does not have full rank. The number of constraints is 5, but rank is 1\n",
      "  warnings.warn('covariance of constraints does not have full '\n",
      "C:\\Users\\alvin\\anaconda3\\lib\\site-packages\\statsmodels\\base\\model.py:1832: ValueWarning: covariance of constraints does not have full rank. The number of constraints is 7, but rank is 1\n",
      "  warnings.warn('covariance of constraints does not have full '\n",
      "C:\\Users\\alvin\\anaconda3\\lib\\site-packages\\statsmodels\\base\\model.py:1832: ValueWarning: covariance of constraints does not have full rank. The number of constraints is 8, but rank is 1\n",
      "  warnings.warn('covariance of constraints does not have full '\n",
      "C:\\Users\\alvin\\anaconda3\\lib\\site-packages\\statsmodels\\base\\model.py:1832: ValueWarning: covariance of constraints does not have full rank. The number of constraints is 10, but rank is 1\n",
      "  warnings.warn('covariance of constraints does not have full '\n",
      "C:\\Users\\alvin\\anaconda3\\lib\\site-packages\\statsmodels\\base\\model.py:1832: ValueWarning: covariance of constraints does not have full rank. The number of constraints is 5, but rank is 1\n",
      "  warnings.warn('covariance of constraints does not have full '\n"
     ]
    }
   ],
   "source": [
    "for data in jsonData:\n",
    "    List=[]\n",
    "    for key in data['raw signal data'].keys():\n",
    "        List.append(data['raw signal data'][key])\n",
    "    df=DataFrame(List).transpose()\n",
    "    df.columns=keys_List\n",
    "    data['Granger Causality']=grangers_causation_matrix(df, variables = df.columns) "
   ]
  }
 ],
 "metadata": {
  "kernelspec": {
   "display_name": "Python 3",
   "language": "python",
   "name": "python3"
  },
  "language_info": {
   "codemirror_mode": {
    "name": "ipython",
    "version": 3
   },
   "file_extension": ".py",
   "mimetype": "text/x-python",
   "name": "python",
   "nbconvert_exporter": "python",
   "pygments_lexer": "ipython3",
   "version": "3.8.5"
  }
 },
 "nbformat": 4,
 "nbformat_minor": 4
}
