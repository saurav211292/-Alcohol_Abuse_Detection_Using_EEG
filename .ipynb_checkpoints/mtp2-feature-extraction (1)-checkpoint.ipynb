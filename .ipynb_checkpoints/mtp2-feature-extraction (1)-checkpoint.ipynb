{
 "cells": [
  {
   "cell_type": "markdown",
   "metadata": {
    "colab_type": "text",
    "id": "gNjoqo85zGCT"
   },
   "source": [
    "# imports"
   ]
  },
  {
   "cell_type": "code",
   "execution_count": 2,
   "metadata": {
    "colab": {
     "base_uri": "https://localhost:8080/",
     "height": 428
    },
    "colab_type": "code",
    "executionInfo": {
     "elapsed": 74986,
     "status": "ok",
     "timestamp": 1590801440043,
     "user": {
      "displayName": "sachin kumar",
      "photoUrl": "https://lh3.googleusercontent.com/a-/AOh14GilxrxoTXuXScRxNWGUHg9HViW0rvRI8ufn0V_jBwk=s64",
      "userId": "08533866445201955072"
     },
     "user_tz": -330
    },
    "id": "chT2VP3Pd5QC",
    "outputId": "a076cb0c-5539-4bfe-fcac-9c1fe4ab6d00"
   },
   "outputs": [
    {
     "name": "stdout",
     "output_type": "stream",
     "text": [
      "Collecting spectrum\n",
      "\u001b[?25l  Downloading https://files.pythonhosted.org/packages/68/40/1923c4ab434024f1eb9b9ab3b2b0693ddacb21ace92ea280461b37605c0e/spectrum-0.7.6.tar.gz (227kB)\n",
      "\r",
      "\u001b[K     |█▍                              | 10kB 22.6MB/s eta 0:00:01\r",
      "\u001b[K     |██▉                             | 20kB 4.2MB/s eta 0:00:01\r",
      "\u001b[K     |████▎                           | 30kB 5.9MB/s eta 0:00:01\r",
      "\u001b[K     |█████▊                          | 40kB 7.6MB/s eta 0:00:01\r",
      "\u001b[K     |███████▏                        | 51kB 4.9MB/s eta 0:00:01\r",
      "\u001b[K     |████████▋                       | 61kB 5.7MB/s eta 0:00:01\r",
      "\u001b[K     |██████████                      | 71kB 6.5MB/s eta 0:00:01\r",
      "\u001b[K     |███████████▌                    | 81kB 7.2MB/s eta 0:00:01\r",
      "\u001b[K     |█████████████                   | 92kB 5.8MB/s eta 0:00:01\r",
      "\u001b[K     |██████████████▍                 | 102kB 6.3MB/s eta 0:00:01\r",
      "\u001b[K     |███████████████▉                | 112kB 6.3MB/s eta 0:00:01\r",
      "\u001b[K     |█████████████████▎              | 122kB 6.3MB/s eta 0:00:01\r",
      "\u001b[K     |██████████████████▊             | 133kB 6.3MB/s eta 0:00:01\r",
      "\u001b[K     |████████████████████▏           | 143kB 6.3MB/s eta 0:00:01\r",
      "\u001b[K     |█████████████████████▋          | 153kB 6.3MB/s eta 0:00:01\r",
      "\u001b[K     |███████████████████████         | 163kB 6.3MB/s eta 0:00:01\r",
      "\u001b[K     |████████████████████████▌       | 174kB 6.3MB/s eta 0:00:01\r",
      "\u001b[K     |██████████████████████████      | 184kB 6.3MB/s eta 0:00:01\r",
      "\u001b[K     |███████████████████████████▍    | 194kB 6.3MB/s eta 0:00:01\r",
      "\u001b[K     |████████████████████████████▉   | 204kB 6.3MB/s eta 0:00:01\r",
      "\u001b[K     |██████████████████████████████▎ | 215kB 6.3MB/s eta 0:00:01\r",
      "\u001b[K     |███████████████████████████████▊| 225kB 6.3MB/s eta 0:00:01\r",
      "\u001b[K     |████████████████████████████████| 235kB 6.3MB/s \n",
      "\u001b[?25hRequirement already satisfied: numpy in /usr/local/lib/python3.6/dist-packages (from spectrum) (1.18.4)\n",
      "Requirement already satisfied: scipy in /usr/local/lib/python3.6/dist-packages (from spectrum) (1.4.1)\n",
      "Requirement already satisfied: matplotlib in /usr/local/lib/python3.6/dist-packages (from spectrum) (3.2.1)\n",
      "Requirement already satisfied: python-dateutil>=2.1 in /usr/local/lib/python3.6/dist-packages (from matplotlib->spectrum) (2.8.1)\n",
      "Requirement already satisfied: pyparsing!=2.0.4,!=2.1.2,!=2.1.6,>=2.0.1 in /usr/local/lib/python3.6/dist-packages (from matplotlib->spectrum) (2.4.7)\n",
      "Requirement already satisfied: kiwisolver>=1.0.1 in /usr/local/lib/python3.6/dist-packages (from matplotlib->spectrum) (1.2.0)\n",
      "Requirement already satisfied: cycler>=0.10 in /usr/local/lib/python3.6/dist-packages (from matplotlib->spectrum) (0.10.0)\n",
      "Requirement already satisfied: six>=1.5 in /usr/local/lib/python3.6/dist-packages (from python-dateutil>=2.1->matplotlib->spectrum) (1.12.0)\n",
      "Building wheels for collected packages: spectrum\n",
      "  Building wheel for spectrum (setup.py) ... \u001b[?25l\u001b[?25hdone\n",
      "  Created wheel for spectrum: filename=spectrum-0.7.6-cp36-cp36m-linux_x86_64.whl size=234244 sha256=d66cb02524ece3baf213849d477a91ab89f74a2567df756ae8f982f6351b535a\n",
      "  Stored in directory: /root/.cache/pip/wheels/7b/a1/1f/16e3bd0418dc16201a4f2e696ab00de3e3c95549cba7df5d13\n",
      "Successfully built spectrum\n",
      "Installing collected packages: spectrum\n",
      "Successfully installed spectrum-0.7.6\n",
      "Go to this URL in a browser: https://accounts.google.com/o/oauth2/auth?client_id=947318989803-6bn6qk8qdgf4n4g3pfee6491hc0brc4i.apps.googleusercontent.com&redirect_uri=urn%3aietf%3awg%3aoauth%3a2.0%3aoob&response_type=code&scope=email%20https%3a%2f%2fwww.googleapis.com%2fauth%2fdocs.test%20https%3a%2f%2fwww.googleapis.com%2fauth%2fdrive%20https%3a%2f%2fwww.googleapis.com%2fauth%2fdrive.photos.readonly%20https%3a%2f%2fwww.googleapis.com%2fauth%2fpeopleapi.readonly\n",
      "\n",
      "Enter your authorization code:\n",
      "··········\n",
      "Mounted at /content/drive\n"
     ]
    }
   ],
   "source": [
    "!pip install spectrum\n",
    "# import os\n",
    "import glob\n",
    "import pandas as pd\n",
    "import csv\n",
    "import numpy as np\n",
    "from tqdm import tqdm as tqdm\n",
    "import scipy.stats as sp\n",
    "\n",
    "\n",
    "# import csv\n",
    "import pywt\n",
    "#import pyedflib\n",
    "# import numpy as np\n",
    "from spectrum import *\n",
    "# from os import listdir\n",
    "# from nitime import utils\n",
    "# import scipy.stats as sp\n",
    "# from os.path import isfile, join\n",
    "# from matplotlib import pyplot as plt\n",
    "# import pandas as pd\n",
    "# from scipy.signal import argrelextrema\n",
    "\n",
    "# from nitime.viz import plot_tseries\n",
    "# from nitime import algorithms as alg\n",
    "# from nitime.timeseries import TimeSeries\n",
    "# from tqdm import tqdm as tqdm\n",
    "from google.colab import drive\n",
    "drive.mount('/content/drive')"
   ]
  },
  {
   "cell_type": "markdown",
   "metadata": {
    "colab_type": "text",
    "id": "SlGWh8qUzzKI"
   },
   "source": [
    "# features\n"
   ]
  },
  {
   "cell_type": "code",
   "execution_count": 0,
   "metadata": {
    "colab": {},
    "colab_type": "code",
    "id": "YbtXh0TXd5QJ"
   },
   "outputs": [],
   "source": [
    "def coeff_var(a):\n",
    "    b = a #Extracting the data from the 1 channels\n",
    "    output = np.zeros(len(b)) #Initializing the output array with zeros\n",
    "    k = 0; #For counting the current row no.\n",
    "    for i in b:\n",
    "        mean_i = np.mean(i) #Saving the mean of array i\n",
    "        std_i = np.std(i) #Saving the standard deviation of array i\n",
    "        output[k] = std_i/mean_i #computing coefficient of variation\n",
    "        k=k+1\n",
    "    return np.sum(output)/1\n",
    "\n",
    "import heapq\n",
    "from scipy.signal import argrelextrema\n",
    "\n",
    "\n",
    "def first_diff(i):\n",
    "    b=i    \n",
    "    \n",
    "    out = np.zeros(len(b))\n",
    "    \n",
    "    for j in range(len(i)):\n",
    "        out[j] = b[j-1]-b[j]# Obtaining the 1st Diffs\n",
    "        \n",
    "        j=j+1\n",
    "        c=out[1:len(out)]\n",
    "    return c #returns first diff\n",
    "\n",
    "\n",
    "def slope_mean(p):\n",
    "    b = p #Extracting the data from the 1 channels\n",
    "    output = np.zeros(len(b)) #Initializing the output array with zeros\n",
    "    res = np.zeros(len(b)-1)\n",
    "    \n",
    "    k = 0; #For counting the current row no.\n",
    "    for i in b:\n",
    "        x=i\n",
    "        amp_max = i[argrelextrema(x, np.greater)[0]]\n",
    "        t_max = argrelextrema(x, np.greater)[0]\n",
    "        amp_min = i[argrelextrema(x, np.less)[0]]\n",
    "        t_min = argrelextrema(x, np.less)[0]\n",
    "        t = np.concatenate((t_max,t_min),axis=0)\n",
    "        t.sort()#sort on the basis of time\n",
    "\n",
    "        h=0\n",
    "        amp = np.zeros(len(t))\n",
    "        res = np.zeros(len(t)-1)\n",
    "        for l in range(len(t)):\n",
    "            amp[l]=i[t[l]]\n",
    "           \n",
    "        \n",
    "        amp_diff = first_diff(amp)\n",
    "        \n",
    "        t_diff = first_diff(t)\n",
    "        \n",
    "        for q in range(len(amp_diff)):\n",
    "            res[q] = amp_diff[q]/t_diff[q]         \n",
    "        output[k] = np.mean(res) \n",
    "        k=k+1\n",
    "    return np.sum(output)/1\n",
    "\n",
    "\n",
    "\n",
    "import heapq\n",
    "from scipy.signal import argrelextrema\n",
    "\n",
    "\n",
    "def first_diff(i):\n",
    "    b=i    \n",
    "    \n",
    "    out = np.zeros(len(b))\n",
    "    \n",
    "    for j in range(len(i)):\n",
    "        out[j] = b[j-1]-b[j]# Obtaining the 1st Diffs\n",
    "        \n",
    "        j=j+1\n",
    "        c=out[1:len(out)]\n",
    "    return c #returns first diff\n",
    "\n",
    "\n",
    "def slope_var(p):\n",
    "    b = p #Extracting the data from the 1 channels\n",
    "    output = np.zeros(len(b)) #Initializing the output array with zeros\n",
    "    res = np.zeros(len(b)-1)\n",
    "    \n",
    "    k = 0; #For counting the current row no.\n",
    "    for i in b:\n",
    "        x=i\n",
    "        amp_max = i[argrelextrema(x, np.greater)[0]]#storing maxima value\n",
    "        t_max = argrelextrema(x, np.greater)[0]#storing time for maxima\n",
    "        amp_min = i[argrelextrema(x, np.less)[0]]#storing minima value\n",
    "        t_min = argrelextrema(x, np.less)[0]#storing time for minima value\n",
    "        t = np.concatenate((t_max,t_min),axis=0) #making a single matrix of all matrix\n",
    "        t.sort() #sorting according to time\n",
    "\n",
    "        h=0\n",
    "        amp = np.zeros(len(t))\n",
    "        res = np.zeros(len(t)-1)\n",
    "        for l in range(len(t)):\n",
    "            amp[l]=i[t[l]]\n",
    "           \n",
    "        \n",
    "        amp_diff = first_diff(amp)\n",
    "        \n",
    "        t_diff = first_diff(t)\n",
    "        \n",
    "        for q in range(len(amp_diff)):\n",
    "            res[q] = amp_diff[q]/t_diff[q] #calculating slope        \n",
    "    \n",
    "        output[k] = np.var(res) \n",
    "        k=k+1#counting k\n",
    "    return np.sum(output)/1\n",
    "\n",
    "\n",
    "\n",
    "def kurtosis(a):\n",
    "    b = a # Extracting the data from the 1 channels\n",
    "    output = np.zeros(len(b)) # Initializing the output array with zeros (length = 1)\n",
    "    k = 0; # For counting the current row no.\n",
    "    for i in b:\n",
    "        mean_i = np.mean(i) # Saving the mean of array i\n",
    "        std_i = np.std(i) # Saving the standard deviation of array i\n",
    "        t = 0.0\n",
    "        for j in i:\n",
    "            t += (pow((j-mean_i)/std_i,4)-3)\n",
    "        kurtosis_i = t/len(i) # Formula: (1/N)*(summation(x_i-mean)/standard_deviation)^4-3\n",
    "        output[k] = kurtosis_i # Saving the kurtosis in the array created\n",
    "        k +=1 # Updating the current row no.\n",
    "    return np.sum(output)/1\n",
    "\n",
    "def secDiffMean(a):\n",
    "    b = a # Extracting the data of the 1 channels\n",
    "    output = np.zeros(len(b)) # Initializing the output array with zeros (length = 1)\n",
    "    temp1 = np.zeros(len(b[0])-1) # To store the 1st Diffs\n",
    "    k = 0; # For counting the current row no.\n",
    "    for i in b:\n",
    "        t = 0.0\n",
    "        for j in range(len(i)-1):\n",
    "            temp1[j] = abs(i[j+1]-i[j]) # Obtaining the 1st Diffs\n",
    "        for j in range(len(i)-2):\n",
    "            t += abs(temp1[j+1]-temp1[j]) # Summing the 2nd Diffs\n",
    "        output[k] = t/(len(i)-2) # Calculating the mean of the 2nd Diffs\n",
    "        k +=1 # Updating the current row no.\n",
    "    return np.sum(output)/1\n",
    "\n",
    "\n",
    "def secDiffMax(a):\n",
    "    b = a # Extracting the data from the 1 channels\n",
    "    output = np.zeros(len(b)) # Initializing the output array with zeros (length = 1)\n",
    "    temp1 = np.zeros(len(b[0])-1) # To store the 1st Diffs\n",
    "    k = 0; # For counting the current row no.\n",
    "    t = 0.0\n",
    "    for i in b:\n",
    "        for j in range(len(i)-1):\n",
    "            temp1[j] = abs(i[j+1]-i[j]) # Obtaining the 1st Diffs\n",
    "        t = temp1[1] - temp1[0]\n",
    "        for j in range(len(i)-2):\n",
    "            if abs(temp1[j+1]-temp1[j]) > t :\n",
    "                t = temp1[j+1]-temp1[j] # Comparing current Diff with the last updated Diff Max\n",
    "\n",
    "        output[k] = t # Storing the 2nd Diff Max for channel k\n",
    "        k +=1 # Updating the current row no.\n",
    "    return np.sum(output)/1\n",
    "\n",
    "\n",
    "\n",
    "def skewness(arr):\n",
    "    data = arr \n",
    "    skew_array = np.zeros(len(data)) #Initialinling the array as all 0s\n",
    "    index = 0; #current cell position in the output array\n",
    "   \n",
    "    for i in data:\n",
    "        skew_array[index]=sp.stats.skew(i,axis=0,bias=True)\n",
    "        index+=1 #updating the cell position\n",
    "    return np.sum(skew_array)/1\n",
    "\n",
    "def first_diff_mean(arr):\n",
    "    data = arr \n",
    "    diff_mean_array = np.zeros(len(data)) #Initialinling the array as all 0s\n",
    "    index = 0; #current cell position in the output array\n",
    "   \n",
    "    for i in data:\n",
    "        sum=0.0#initializing the sum at the start of each iteration\n",
    "        for j in range(len(i)-1):\n",
    "            sum += abs(i[j+1]-i[j]) # Obtaining the 1st Diffs\n",
    "           \n",
    "        diff_mean_array[index]=sum/(len(i)-1)\n",
    "        index+=1 #updating the cell position\n",
    "    return np.sum(diff_mean_array)/1\n",
    "\n",
    "\n",
    "def first_diff_max(arr):\n",
    "    data = arr \n",
    "    diff_max_array = np.zeros(len(data)) #Initialinling the array as all 0s\n",
    "    first_diff = np.zeros(len(data[0])-1)#Initialinling the array as all 0s \n",
    "    index = 0; #current cell position in the output array\n",
    "   \n",
    "    for i in data:\n",
    "        max=0.0#initializing at the start of each iteration\n",
    "        for j in range(len(i)-1):\n",
    "            first_diff[j] = abs(i[j+1]-i[j]) # Obtaining the 1st Diffs\n",
    "            if first_diff[j]>max: \n",
    "                max=first_diff[j] # finding the maximum of the first differences\n",
    "        diff_max_array[index]=max\n",
    "        index+=1 #updating the cell position\n",
    "    return np.sum(diff_max_array)/1\n",
    "\n",
    "\n",
    "\n",
    "def fractal_dimension(Z, threshold=0.9):\n",
    "    # Only for 2d image\n",
    "    assert(len(Z.shape) == 2)\n",
    "\n",
    "    # From https://github.com/rougier/numpy-100 (#87)\n",
    "    def boxcount(Z, k):\n",
    "        S = np.add.reduceat(Z, np.arange(0, Z.shape[0], k), axis=0)\n",
    "\n",
    "        # We count non-empty (0) and non-full boxes (k*k)\n",
    "        return len(np.where((S > 0) & (S < k*k))[0])\n",
    "\n",
    "\n",
    "    # Transform Z into a binary array\n",
    "    Z = (Z < threshold)\n",
    "\n",
    "    # Minimal dimension of image\n",
    "    p = min(Z.shape)\n",
    "    # Greatest power of 2 less than or equal to p\n",
    "    n = 2**np.floor(np.log(p)/np.log(2))\n",
    "    \n",
    "    # Extract the exponent\n",
    "    n = int(np.log(n)/np.log(2))\n",
    "\n",
    "    # Build successive box sizes (from 2**n down to 2**1)\n",
    "    sizes = 2**np.arange(n, 1, -1)\n",
    "\n",
    "    # Actual box counting with decreasing size\n",
    "    counts = []\n",
    "    for size in sizes:\n",
    "        counts.append(boxcount(Z, size))\n",
    "  \n",
    "    # Fit the successive log(sizes) with log (counts)\n",
    "    coeffs = np.polyfit(np.log(sizes), np.log(counts), 1)\n",
    "    return -coeffs[0]\n",
    "\n",
    "\n",
    "#autogressiveModelParametersBurg\n",
    "\n",
    "def autogressiveModelParametersBurg(labels):\n",
    "    feature = []\n",
    "    a1=[]\n",
    "    a2=[]\n",
    "    a3=[]\n",
    "    model_order = 3\n",
    "    for i in range(len(labels)):\n",
    "        AR, rho, ref = arburg(labels[i], model_order)\n",
    "        feature.append(AR);\n",
    "    for i in range(len(labels)):\n",
    "        a1.append(feature[i][0])\n",
    "        a2.append(feature[i][1])\n",
    "        a3.append(feature[i][2])\n",
    "        \n",
    "    \n",
    "    ar1=np.mean(a1).real\n",
    "    ar2=np.mean(a2).real \n",
    "    ar3=np.mean(a3).real\n",
    "    \n",
    "    br1=np.min(a1).real\n",
    "    br2=np.min(a2).real \n",
    "    br3=np.min(a3).real\n",
    "    \n",
    "    cr1=np.max(a1).real\n",
    "    cr2=np.max(a2).real \n",
    "    cr3=np.max(a3).real\n",
    "    \n",
    "    \n",
    "    \n",
    "    return ar1,ar2,ar3,br1,br2,br3,cr1,cr2,cr3\n",
    "\n",
    "#hjorth(3 feature)\n",
    "\n",
    "def hjorth(input):                                             # function for hjorth \n",
    "    realinput = input\n",
    "    hjorth_activity = np.zeros(len(realinput))\n",
    "    hjorth_mobility = np.zeros(len(realinput))\n",
    "    hjorth_diffmobility = np.zeros(len(realinput))\n",
    "    hjorth_complexity = np.zeros(len(realinput))\n",
    "    diff_input = np.diff(realinput)\n",
    "    diff_diffinput = np.diff(diff_input)\n",
    "    k = 0\n",
    "    for j in realinput:\n",
    "        hjorth_activity[k] = np.var(j)\n",
    "        hjorth_mobility[k] = np.sqrt(np.var(diff_input[k])/hjorth_activity[k])\n",
    "        hjorth_diffmobility[k] = np.sqrt(np.var(diff_diffinput[k])/np.var(diff_input[k]))\n",
    "        hjorth_complexity[k] = hjorth_diffmobility[k]/hjorth_mobility[k]\n",
    "        k = k+1\n",
    "    return np.sum(hjorth_activity)/1, np.sum(hjorth_mobility)/1, np.sum(hjorth_complexity)/1                      \n",
    " #returning hjorth activity, hjorth mobility , hjorth complexity\n",
    "#maxPwelch\n",
    "\n",
    "from scipy import signal\n",
    "\n",
    "def maxPwelch(data_win,Fs):\n",
    " \n",
    "    \n",
    "    BandF = [0.1, 3, 7, 12, 30]\n",
    "    PMax = np.zeros([1,(len(BandF)-1)]);\n",
    "    \n",
    "    for j in range(1):\n",
    "        f,Psd = signal.welch(data_win[j,:], Fs)\n",
    "        \n",
    "        for i in range(len(BandF)-1):\n",
    "            fr = np.where((f>BandF[i]) & (f<=BandF[i+1]))\n",
    "            PMax[j,i] = np.max(Psd[fr])\n",
    "    \n",
    "    return np.sum(PMax[:,0])/1,np.sum(PMax[:,1])/1,np.sum(PMax[:,2])/1,np.sum(PMax[:,3])/1\n",
    "\n",
    "\n",
    "#wavelet_features\n",
    "\n",
    "import pywt\n",
    "def wavelet_features(epoch,channels):\n",
    "    cA_values = []\n",
    "    cD_values = []\n",
    "    cA_mean = []\n",
    "    cA_std = []\n",
    "    cA_Energy =[]\n",
    "    cD_mean = []\n",
    "    cD_std = []\n",
    "    cD_Energy = []\n",
    "    Entropy_D = []\n",
    "    Entropy_A = []\n",
    "    wfeatures = []\n",
    "    for i in range(channels):\n",
    "        cA,cD=pywt.dwt(epoch[i,:],'coif1')\n",
    "        cA_values.append(cA)\n",
    "        cD_values.append(cD)\t\t#calculating the coefficients of wavelet transform.\n",
    "    for x in range(channels):   \n",
    "        cA_mean.append(np.mean(cA_values[x]))\n",
    "        #wfeatures.append(np.mean(cA_values[x]))\n",
    "        \n",
    "        cA_std.append(abs(np.std(cA_values[x])))\n",
    "        #wfeatures.append(abs(np.std(cA_values[x])))\n",
    "        \n",
    "        cA_Energy.append(abs(np.sum(np.square(cA_values[x]))))\n",
    "        #wfeatures.append(abs(np.sum(np.square(cA_values[x]))))\n",
    "        \n",
    "        cD_mean.append(np.mean(cD_values[x]))\t\t# mean and standard deviation values of coefficents of each channel is stored .\n",
    "        #wfeatures.append(np.mean(cD_values[x]))\n",
    "\n",
    "        cD_std.append(abs(np.std(cD_values[x])))\n",
    "        #wfeatures.append(abs(np.std(cD_values[x])))\n",
    "        \n",
    "        cD_Energy.append(abs(np.sum(np.square(cD_values[x]))))\n",
    "        #wfeatures.append(abs(np.sum(np.square(cD_values[x]))))\n",
    "        \n",
    "        Entropy_D.append(abs(np.sum(np.square(cD_values[x]) * np.log(np.square(cD_values[x])))))\n",
    "        #wfeatures.append(abs(np.sum(np.square(cD_values[x]) * np.log(np.square(cD_values[x])))))\n",
    "        \n",
    "        Entropy_A.append(abs(np.sum(np.square(cA_values[x]) * np.log(np.square(cA_values[x]))))) \n",
    "        #wfeatures.append(abs(np.sum(np.square(cA_values[x]) * np.log(np.square(cA_values[x])))))\n",
    "        \n",
    "    a1=np.mean(cA_mean)\n",
    "    b1=np.mean(cA_std) \n",
    "    c1=np.mean(cA_Energy)  \n",
    "    d1=np.mean(cD_mean)\n",
    "    e1=np.mean(cD_std)  \n",
    "    f1=np.mean(cD_Energy)\n",
    "    g1=np.mean(Entropy_D)\n",
    "    h1=np.mean(Entropy_A)\n",
    "    \n",
    "    a2=np.min(cA_mean)\n",
    "    b2=np.min(cA_std) \n",
    "    c2=np.min(cA_Energy)  \n",
    "    d2=np.min(cD_mean)\n",
    "    e2=np.min(cD_std)  \n",
    "    f2=np.min(cD_Energy)\n",
    "    g2=np.min(Entropy_D)\n",
    "    h2=np.min(Entropy_A)\n",
    "    \n",
    "    a3=np.max(cA_mean)\n",
    "    b3=np.max(cA_std) \n",
    "    c3=np.max(cA_Energy)  \n",
    "    d3=np.max(cD_mean)\n",
    "    e3=np.max(cD_std)  \n",
    "    f3=np.max(cD_Energy)\n",
    "    g3=np.max(Entropy_D)\n",
    "    h3=np.max(Entropy_A)\n",
    "  \n",
    "    \n",
    "    return a1,a2,a3,b1,b2,b3,c1,c2,c3,d1,d2,d3,e1,e2,e3,f1,f2,f3,g1,g2,g3,h1,h2,h3"
   ]
  },
  {
   "cell_type": "code",
   "execution_count": 0,
   "metadata": {
    "colab": {},
    "colab_type": "code",
    "id": "xW_AH1_Bd5QP"
   },
   "outputs": [],
   "source": [
    "def getfeatures(sigbufs):\n",
    "    final = pd.DataFrame()\n",
    "    sigbufs=sigbufs.to_numpy()\n",
    "#     for k in range(40):\n",
    "#         rows1=s01_music[k]\n",
    "#         sigbufs=rows1.values\n",
    "#         sigbufs.shape\n",
    "    df = pd.DataFrame(columns=['coeff_var'])\n",
    "\n",
    "\n",
    "  #coeff_var-------------------------------------\n",
    "    feature=[]\n",
    "    for i in tqdm(range(0,64)):\n",
    "        epoch = sigbufs[i:i+1,:]\n",
    "        feature.append(coeff_var(epoch))  \n",
    "    df['coeff_var'] = feature \n",
    "\n",
    "  #fractal_dimension-------------------------------------\n",
    "    feature=[]\n",
    "    ftemp=fractal_dimension(sigbufs)\n",
    "    for i in tqdm(range(0,64)):\n",
    "#         epoch = sigbufs[i:i+1,:]\n",
    "        feature.append(ftemp)  \n",
    "    df['fractal_dimension'] = feature \n",
    "\n",
    "\n",
    "  #kurtosis--------------------------------------\n",
    "    feature=[]\n",
    "    for i in tqdm(range(0,64)):\n",
    "        epoch = sigbufs[i:i+1,:]\n",
    "        feature.append(kurtosis(epoch))\n",
    "    df['kurtosis'] = feature\n",
    "\n",
    "\n",
    "  #secDiffMean-----------------------------------\n",
    "    feature=[]\n",
    "    for i in tqdm(range(0,64)):\n",
    "        epoch = sigbufs[i:i+1,:]\n",
    "        feature.append(secDiffMean(epoch))\n",
    "    df['secDiffMean'] = feature\n",
    "\n",
    "\n",
    "  #secDiffMax------------------------------------\n",
    "    feature=[]\n",
    "    for i in tqdm(range(0,64)):\n",
    "        epoch = sigbufs[i:i+1,:]\n",
    "        feature.append(secDiffMax(epoch))\n",
    "    df['secDiffMax'] = feature\n",
    "\n",
    "\n",
    "  #skewness--------------------------------------\n",
    "    feature=[]\n",
    "    for i in tqdm(range(0,64)):\n",
    "        epoch = sigbufs[i:i+1,:]\n",
    "        feature.append(skewness(epoch))\n",
    "    df['skewness'] = feature\n",
    "\n",
    "\n",
    "  #first_diff_mean------------------------------\n",
    "    feature=[]\n",
    "    for i in tqdm(range(0,64)):\n",
    "        epoch = sigbufs[i:i+1,:]\n",
    "        feature.append(first_diff_mean(epoch))\n",
    "    df['first_diff_mean'] = feature\n",
    "\n",
    "\n",
    "  #first_diff_max-------------------------------\n",
    "    feature=[]\n",
    "    for i in tqdm(range(0,64)):\n",
    "        epoch = sigbufs[i:i+1,:]\n",
    "        feature.append(first_diff_max(epoch))\n",
    "    df['first_diff_max'] = feature\n",
    "\n",
    "\n",
    "  #autogressiveModelParametersBurg--------------\n",
    "    a1=[]\n",
    "    a2=[]\n",
    "    a3=[]\n",
    "    b1=[]\n",
    "    b2=[]\n",
    "    b3=[]\n",
    "    c1=[]\n",
    "    c2=[]\n",
    "    c3=[]\n",
    "\n",
    "    for i in tqdm(range(0,64)):\n",
    "        epoch = sigbufs[i:i+1,:]\n",
    "        aa1,aa2,aa3,bb1,bb2,bb3,cc1,cc2,cc3=autogressiveModelParametersBurg(epoch)\n",
    "        a1.append(aa1)\n",
    "        b1.append(bb1)\n",
    "        c1.append(cc1)\n",
    "        a2.append(aa2)\n",
    "        b2.append(bb2)\n",
    "        c2.append(cc2)\n",
    "        a3.append(aa3)\n",
    "        b3.append(bb3)\n",
    "        c3.append(cc3)\n",
    "\n",
    "    df['AR1_mean']=a1\n",
    "    df['AR1_min']=b1\n",
    "    df['AR1_max']=c1\n",
    "\n",
    "    df['AR2_mean']=a2\n",
    "    df['AR2_min']=b2\n",
    "    df['AR2_max']=c2\n",
    "\n",
    "    df['AR3_mean']=a3\n",
    "    df['AR3_min']=b3\n",
    "    df['AR3_max']=c3\n",
    "\n",
    "\n",
    "  #hjorth----------------------------------------------------------\n",
    "    a1=[]\n",
    "    b1=[]\n",
    "    c1=[]\n",
    "\n",
    "    for i in tqdm(range(0,64)):\n",
    "        epoch = sigbufs[i:i+1,:]\n",
    "        a,b,c=hjorth(epoch)\n",
    "        a1.append(a)\n",
    "        b1.append(b)\n",
    "        c1.append(c)\n",
    "    df['hjorth_activity']=a1\n",
    "    df['hjorth_mobility']=b1\n",
    "    df['hjorth_complexity']=c1\n",
    "\n",
    "\n",
    "  #maxPwelch-----------------------------------------------\n",
    "    a1=[]\n",
    "    b1=[]\n",
    "    c1=[]\n",
    "    d1=[]\n",
    "    e1=[]\n",
    "    f1=[]\n",
    "    g1=[]\n",
    "    h1=[]\n",
    "\n",
    "    for i in tqdm(range(0,64)):\n",
    "        epoch = sigbufs[i:i+1,:]\n",
    "        a,b,c,d=maxPwelch(epoch,128)\n",
    "        e=a/b\n",
    "        f=a/c\n",
    "        g=b/d\n",
    "        h=(a+b)/(c)\n",
    "        a1.append(a)\n",
    "        b1.append(b)\n",
    "        c1.append(c)\n",
    "        d1.append(d)\n",
    "        e1.append(e)\n",
    "        f1.append(f)\n",
    "        g1.append(g)\n",
    "        h1.append(h)\n",
    "\n",
    "\n",
    "    df['PMax1']=a1\n",
    "    df['PMax2']=b1\n",
    "    df['PMax3']=c1\n",
    "    df['PMax4']=d1\n",
    "    df['PRatio1']=e1\n",
    "    df['PRatio2']=f1\n",
    "    df['PRatio3']=g1\n",
    "    df['PRatio4']=h1\n",
    "\n",
    "\n",
    "    #wavelet_features-------------------------------------------\n",
    "    a1=[]\n",
    "    a2=[]\n",
    "    a3=[]\n",
    "    b1=[]\n",
    "    b2=[]\n",
    "    b3=[]\n",
    "    c1=[]\n",
    "    c2=[]\n",
    "    c3=[]\n",
    "    d1=[]\n",
    "    d2=[]\n",
    "    d3=[]\n",
    "    e1=[]\n",
    "    e2=[]\n",
    "    e3=[]\n",
    "    f1=[]\n",
    "    f2=[]\n",
    "    f3=[]\n",
    "    g1=[]\n",
    "    g2=[]\n",
    "    g3=[]\n",
    "    h1=[]\n",
    "    h2=[]\n",
    "    h3=[]\n",
    "\n",
    "    for i in tqdm(range(0,64)):\n",
    "        epoch = sigbufs[i:i+1,:]\n",
    "        aa1,aa2,aa3,bb1,bb2,bb3,cc1,cc2,cc3,dd1,dd2,dd3,ee1,ee2,ee3,ff1,ff2,ff3,gg1,gg2,gg3,hh1,hh2,hh3=wavelet_features(epoch,1)\n",
    "        a1.append(aa1)\n",
    "        b1.append(bb1)\n",
    "        c1.append(cc1)\n",
    "        d1.append(dd1)\n",
    "        e1.append(ee1)\n",
    "        f1.append(ff1)\n",
    "        g1.append(gg1)\n",
    "        h1.append(hh1)\n",
    "        a2.append(aa2)\n",
    "        b2.append(bb2)\n",
    "        c2.append(cc2)\n",
    "        d2.append(dd2)\n",
    "        e2.append(ee2)\n",
    "        f2.append(ff2)\n",
    "        g2.append(gg2)\n",
    "        h2.append(hh2)\n",
    "        a3.append(aa3)\n",
    "        b3.append(bb3)\n",
    "        c3.append(cc3)\n",
    "        d3.append(dd3)\n",
    "        e3.append(ee3)\n",
    "        f3.append(ff3)\n",
    "        g3.append(gg3)\n",
    "        h3.append(hh3)\n",
    "\n",
    "    df['cA_mean_mean']=a1\n",
    "    df['cA_mean_min']=a2\n",
    "    df['cA_mean_max']=a3\n",
    "\n",
    "    df['cA_std_mean']=b1\n",
    "    df['cA_std_min']=b2\n",
    "    df['cA_std_max']=b3\n",
    "\n",
    "    df['cA_Energy_mean']=c1\n",
    "    df['cA_Energy_min']=c2\n",
    "    df['cA_Energy_max']=c3\n",
    "\n",
    "    df['cD_mean_mean']=d1\n",
    "    df['cD_mean_min']=d2\n",
    "    df['cD_mean_max']=d3\n",
    "\n",
    "    df['cD_std_mean']=e1\n",
    "    df['cD_std_min']=e2\n",
    "    df['cD_std_max']=e3\n",
    "\n",
    "    df['cD_Energy_mean']=f1\n",
    "    df['cD_Energy_min']=f2\n",
    "    df['cD_Energy_max']=f3\n",
    "\n",
    "    df['Entropy_D_mean']=g1\n",
    "    df['Entropy_D_min']=g2\n",
    "    df['Entropy_D_max']=g3\n",
    "\n",
    "    df['Entropy_A_mean']=h1\n",
    "    df['Entropy_A_min']=h2\n",
    "    df['Entropy_A_max']=h3\n",
    "    final = pd.concat([final,df])\n",
    "    return final"
   ]
  },
  {
   "cell_type": "markdown",
   "metadata": {
    "colab_type": "text",
    "id": "WH1i5I-9d5QZ"
   },
   "source": [
    " # All basic methods\n"
   ]
  },
  {
   "cell_type": "code",
   "execution_count": 0,
   "metadata": {
    "colab": {},
    "colab_type": "code",
    "id": "-YW8TmN7d5Qa"
   },
   "outputs": [],
   "source": [
    "\n",
    "\n",
    "def coeffVar2(a):\n",
    "    mu = np.mean(a, axis=1)\n",
    "    sig = np.std(a, axis=1)\n",
    "    return np.mean(sig/mu, axis=0)"
   ]
  },
  {
   "cell_type": "code",
   "execution_count": 0,
   "metadata": {
    "colab": {},
    "colab_type": "code",
    "id": "VkUFE7q2d5Qe"
   },
   "outputs": [],
   "source": [
    "def first_diff(i):\n",
    "    b=i    \n",
    "    \n",
    "    out = np.zeros(len(b))\n",
    "    \n",
    "    for j in range(1,len(i)):\n",
    "        out[j] = b[j-1]-b[j]# Obtaining the 1st Diffs\n",
    "        \n",
    "        j=j+1\n",
    "        c=out[1:len(out)]\n",
    "    return c"
   ]
  },
  {
   "cell_type": "code",
   "execution_count": 0,
   "metadata": {
    "colab": {},
    "colab_type": "code",
    "id": "NMMID-A5d5Qi"
   },
   "outputs": [],
   "source": [
    "def coeffVar(a):\n",
    "    b = a #Extracting the data from the 32 channels\n",
    "    output = np.zeros(len(b)) #Initializing the output array with zeros\n",
    "    k = 0; #For counting the current row no.\n",
    "    for i in b:\n",
    "        mean_i = np.mean(i,axis=1) #Saving the mean of array i\n",
    "        std_i = np.std(i,axis=1) #Saving the standard deviation of array i\n",
    "        output[k] = std_i/mean_i #computing coefficient of variation\n",
    "        k=k+1\n",
    "    return np.mean(output,axis=0)"
   ]
  },
  {
   "cell_type": "markdown",
   "metadata": {
    "colab_type": "text",
    "id": "QMO_ksd90ID5"
   },
   "source": [
    "# read files"
   ]
  },
  {
   "cell_type": "code",
   "execution_count": 0,
   "metadata": {
    "colab": {},
    "colab_type": "code",
    "id": "cKL4RL1jf_Kt"
   },
   "outputs": [],
   "source": [
    "# label_file_path='/home/sachin/Documents/5th_Year/9th_sem/MTP/MTP-2/label.csv'\n",
    "X_filename='/content/drive/My Drive/Colab Notebooks/jupyter/X.pickle'\n",
    "y_filename='/content/drive/My Drive/Colab Notebooks/jupyter/y.pickle'\n",
    "X_data=pd.read_pickle(X_filename)\n",
    "y_data=pd.read_pickle(y_filename)\n",
    "X_data=X_data.reshape(977,64,8192)"
   ]
  },
  {
   "cell_type": "code",
   "execution_count": 9,
   "metadata": {
    "colab": {
     "base_uri": "https://localhost:8080/",
     "height": 0
    },
    "colab_type": "code",
    "executionInfo": {
     "elapsed": 173420,
     "status": "ok",
     "timestamp": 1590801538654,
     "user": {
      "displayName": "sachin kumar",
      "photoUrl": "https://lh3.googleusercontent.com/a-/AOh14GilxrxoTXuXScRxNWGUHg9HViW0rvRI8ufn0V_jBwk=s64",
      "userId": "08533866445201955072"
     },
     "user_tz": -330
    },
    "id": "h5Yo3NaZgBKY",
    "outputId": "c8010a8b-7a27-4a73-97e7-1d753b0d7518"
   },
   "outputs": [
    {
     "name": "stdout",
     "output_type": "stream",
     "text": [
      "(977, 64, 8192)\n"
     ]
    }
   ],
   "source": [
    "\n",
    "print(X_data.shape)"
   ]
  },
  {
   "cell_type": "markdown",
   "metadata": {
    "colab_type": "text",
    "id": "58gi8N7q0LwS"
   },
   "source": [
    "# call function"
   ]
  },
  {
   "cell_type": "code",
   "execution_count": 10,
   "metadata": {
    "colab": {
     "base_uri": "https://localhost:8080/",
     "height": 1000
    },
    "colab_type": "code",
    "executionInfo": {
     "elapsed": 10863822,
     "status": "ok",
     "timestamp": 1590812229079,
     "user": {
      "displayName": "sachin kumar",
      "photoUrl": "https://lh3.googleusercontent.com/a-/AOh14GilxrxoTXuXScRxNWGUHg9HViW0rvRI8ufn0V_jBwk=s64",
      "userId": "08533866445201955072"
     },
     "user_tz": -330
    },
    "id": "HEqtsQ66d5Qm",
    "outputId": "af04e759-c2dc-4aaa-cce8-b4609f5afc6d"
   },
   "outputs": [
    {
     "name": "stderr",
     "output_type": "stream",
     "text": [
      "100%|██████████| 64/64 [00:00<00:00, 6249.22it/s]\n",
      "100%|██████████| 64/64 [00:00<00:00, 256876.03it/s]\n",
      "100%|██████████| 64/64 [00:00<00:00, 94.66it/s]\n",
      "100%|██████████| 64/64 [00:00<00:00, 97.40it/s]\n",
      "100%|██████████| 64/64 [00:01<00:00, 55.42it/s]\n",
      "100%|██████████| 64/64 [00:00<00:00, 1502.99it/s]\n",
      "100%|██████████| 64/64 [00:00<00:00, 104.25it/s]\n",
      "100%|██████████| 64/64 [00:00<00:00, 150.36it/s]\n",
      "100%|██████████| 64/64 [00:08<00:00,  7.23it/s]\n",
      "100%|██████████| 64/64 [00:00<00:00, 2848.82it/s]\n",
      "100%|██████████| 64/64 [00:00<00:00, 1035.87it/s]\n",
      "100%|██████████| 64/64 [00:00<00:00, 1018.97it/s]\n",
      "100%|██████████| 64/64 [00:00<00:00, 7728.76it/s]\n"
     ]
    },
    {
     "name": "stdout",
     "output_type": "stream",
     "text": [
      "(1, 3329)\n",
      "(1, 3330)\n"
     ]
    },
    {
     "name": "stderr",
     "output_type": "stream",
     "text": [
      "100%|██████████| 64/64 [00:00<00:00, 16931.72it/s]\n",
      "100%|██████████| 64/64 [00:00<00:00, 99.16it/s] \n",
      "100%|██████████| 64/64 [00:00<00:00, 97.20it/s]\n",
      "100%|██████████| 64/64 [00:00<00:00, 98.43it/s]\n",
      "100%|██████████| 64/64 [00:00<00:00, 2237.67it/s]\n",
      "100%|██████████| 64/64 [00:00<00:00, 185.73it/s]\n",
      "100%|██████████| 64/64 [00:00<00:00, 149.79it/s]\n",
      "100%|██████████| 64/64 [00:09<00:00,  6.68it/s]\n",
      "100%|██████████| 64/64 [00:00<00:00, 3474.98it/s]\n",
      "100%|██████████| 64/64 [00:00<00:00, 1351.58it/s]\n",
      "100%|██████████| 64/64 [00:00<00:00, 1341.55it/s]\n",
      "100%|██████████| 64/64 [00:00<00:00, 7398.79it/s]\n"
     ]
    },
    {
     "name": "stdout",
     "output_type": "stream",
     "text": [
      "(1, 3329)\n",
      "(2, 3330)\n"
     ]
    },
    {
     "name": "stderr",
     "output_type": "stream",
     "text": [
      "100%|██████████| 64/64 [00:00<00:00, 23303.71it/s]\n",
      "100%|██████████| 64/64 [00:00<00:00, 95.73it/s]\n",
      "100%|██████████| 64/64 [00:00<00:00, 91.23it/s]\n",
      "100%|██████████| 64/64 [00:00<00:00, 93.98it/s]\n",
      "100%|██████████| 64/64 [00:00<00:00, 2193.96it/s]\n",
      "100%|██████████| 64/64 [00:00<00:00, 178.49it/s]\n",
      "100%|██████████| 64/64 [00:00<00:00, 151.63it/s]\n",
      "100%|██████████| 64/64 [00:07<00:00,  8.03it/s]\n",
      "100%|██████████| 64/64 [00:00<00:00, 2506.28it/s]\n",
      "100%|██████████| 64/64 [00:00<00:00, 1043.67it/s]\n",
      "100%|██████████| 64/64 [00:00<00:00, 1270.47it/s]\n",
      "100%|██████████| 64/64 [00:00<00:00, 7527.42it/s]\n"
     ]
    },
    {
     "name": "stdout",
     "output_type": "stream",
     "text": [
      "(1, 3329)\n",
      "(3, 3330)\n"
     ]
    },
    {
     "name": "stderr",
     "output_type": "stream",
     "text": [
      "100%|██████████| 64/64 [00:00<00:00, 88974.30it/s]\n",
      "100%|██████████| 64/64 [00:00<00:00, 97.47it/s]\n",
      "100%|██████████| 64/64 [00:00<00:00, 99.99it/s] \n",
      "100%|██████████| 64/64 [00:00<00:00, 98.78it/s]\n",
      "100%|██████████| 64/64 [00:00<00:00, 2310.49it/s]\n",
      "100%|██████████| 64/64 [00:00<00:00, 187.26it/s]\n",
      "100%|██████████| 64/64 [00:00<00:00, 149.52it/s]\n",
      "100%|██████████| 64/64 [00:07<00:00,  8.02it/s]\n",
      "100%|██████████| 64/64 [00:00<00:00, 3272.88it/s]\n",
      "100%|██████████| 64/64 [00:00<00:00, 1172.48it/s]\n",
      "100%|██████████| 64/64 [00:00<00:00, 1356.07it/s]\n",
      "100%|██████████| 64/64 [00:00<00:00, 7454.88it/s]\n"
     ]
    },
    {
     "name": "stdout",
     "output_type": "stream",
     "text": [
      "(1, 3329)\n",
      "(4, 3330)\n"
     ]
    },
    {
     "name": "stderr",
     "output_type": "stream",
     "text": [
      "100%|██████████| 64/64 [00:00<00:00, 39921.99it/s]\n",
      "100%|██████████| 64/64 [00:00<00:00, 94.78it/s]\n",
      "100%|██████████| 64/64 [00:00<00:00, 94.48it/s]\n",
      "100%|██████████| 64/64 [00:00<00:00, 100.95it/s]\n",
      "100%|██████████| 64/64 [00:00<00:00, 2351.13it/s]\n",
      "100%|██████████| 64/64 [00:00<00:00, 186.34it/s]\n",
      "100%|██████████| 64/64 [00:00<00:00, 152.93it/s]\n",
      "100%|██████████| 64/64 [00:07<00:00,  8.03it/s]\n",
      "100%|██████████| 64/64 [00:00<00:00, 3269.34it/s]\n",
      "100%|██████████| 64/64 [00:00<00:00, 1354.05it/s]\n",
      "100%|██████████| 64/64 [00:00<00:00, 1158.83it/s]\n",
      "100%|██████████| 64/64 [00:00<00:00, 7515.20it/s]\n"
     ]
    },
    {
     "name": "stdout",
     "output_type": "stream",
     "text": [
      "(1, 3329)\n",
      "(5, 3330)\n"
     ]
    },
    {
     "name": "stderr",
     "output_type": "stream",
     "text": [
      "100%|██████████| 64/64 [00:00<00:00, 89418.87it/s]\n",
      "100%|██████████| 64/64 [00:00<00:00, 87.10it/s]\n",
      "100%|██████████| 64/64 [00:00<00:00, 95.44it/s]\n",
      "100%|██████████| 64/64 [00:00<00:00, 100.53it/s]\n",
      "100%|██████████| 64/64 [00:00<00:00, 1998.85it/s]\n",
      "100%|██████████| 64/64 [00:00<00:00, 187.60it/s]\n",
      "100%|██████████| 64/64 [00:00<00:00, 147.17it/s]\n",
      "100%|██████████| 64/64 [00:07<00:00,  8.04it/s]\n",
      "100%|██████████| 64/64 [00:00<00:00, 3501.00it/s]\n",
      "100%|██████████| 64/64 [00:00<00:00, 1346.00it/s]\n",
      "100%|██████████| 64/64 [00:00<00:00, 1336.82it/s]\n",
      "100%|██████████| 64/64 [00:00<00:00, 4467.60it/s]\n"
     ]
    },
    {
     "name": "stdout",
     "output_type": "stream",
     "text": [
      "(1, 3329)\n",
      "(6, 3330)\n"
     ]
    },
    {
     "name": "stderr",
     "output_type": "stream",
     "text": [
      "100%|██████████| 64/64 [00:00<00:00, 177419.34it/s]\n",
      "100%|██████████| 64/64 [00:00<00:00, 91.66it/s]\n",
      "100%|██████████| 64/64 [00:00<00:00, 95.82it/s]\n",
      "100%|██████████| 64/64 [00:00<00:00, 99.57it/s]\n",
      "100%|██████████| 64/64 [00:00<00:00, 2269.99it/s]\n",
      "100%|██████████| 64/64 [00:00<00:00, 186.81it/s]\n",
      "100%|██████████| 64/64 [00:00<00:00, 145.92it/s]\n",
      "100%|██████████| 64/64 [00:08<00:00,  7.82it/s]\n",
      "100%|██████████| 64/64 [00:00<00:00, 3369.51it/s]\n",
      "100%|██████████| 64/64 [00:00<00:00, 1240.74it/s]\n",
      "100%|██████████| 64/64 [00:00<00:00, 1219.86it/s]\n",
      "100%|██████████| 64/64 [00:00<00:00, 5436.01it/s]\n"
     ]
    },
    {
     "name": "stdout",
     "output_type": "stream",
     "text": [
      "(1, 3329)\n",
      "(7, 3330)\n"
     ]
    },
    {
     "name": "stderr",
     "output_type": "stream",
     "text": [
      "100%|██████████| 64/64 [00:00<00:00, 76586.44it/s]\n",
      "100%|██████████| 64/64 [00:00<00:00, 94.48it/s]\n",
      "100%|██████████| 64/64 [00:00<00:00, 94.91it/s]\n",
      "100%|██████████| 64/64 [00:00<00:00, 99.96it/s] \n",
      "100%|██████████| 64/64 [00:00<00:00, 2140.29it/s]\n",
      "100%|██████████| 64/64 [00:00<00:00, 179.80it/s]\n",
      "100%|██████████| 64/64 [00:00<00:00, 146.43it/s]\n",
      "100%|██████████| 64/64 [00:08<00:00,  7.77it/s]\n",
      "100%|██████████| 64/64 [00:00<00:00, 3544.54it/s]\n",
      "100%|██████████| 64/64 [00:00<00:00, 1344.97it/s]\n",
      "100%|██████████| 64/64 [00:00<00:00, 1272.30it/s]\n",
      "100%|██████████| 64/64 [00:00<00:00, 6793.08it/s]\n"
     ]
    },
    {
     "name": "stdout",
     "output_type": "stream",
     "text": [
      "(1, 3329)\n",
      "(8, 3330)\n"
     ]
    },
    {
     "name": "stderr",
     "output_type": "stream",
     "text": [
      "100%|██████████| 64/64 [00:00<00:00, 21339.97it/s]\n",
      "100%|██████████| 64/64 [00:00<00:00, 97.06it/s]\n",
      "100%|██████████| 64/64 [00:00<00:00, 96.02it/s]\n",
      "100%|██████████| 64/64 [00:00<00:00, 100.79it/s]\n",
      "100%|██████████| 64/64 [00:00<00:00, 2132.76it/s]\n",
      "100%|██████████| 64/64 [00:00<00:00, 184.80it/s]\n",
      "100%|██████████| 64/64 [00:00<00:00, 150.90it/s]\n",
      "100%|██████████| 64/64 [00:08<00:00,  7.87it/s]\n",
      "100%|██████████| 64/64 [00:00<00:00, 3556.33it/s]\n",
      "100%|██████████| 64/64 [00:00<00:00, 1089.80it/s]\n",
      "100%|██████████| 64/64 [00:00<00:00, 1321.70it/s]\n",
      "100%|██████████| 64/64 [00:00<00:00, 7608.93it/s]\n"
     ]
    },
    {
     "name": "stdout",
     "output_type": "stream",
     "text": [
      "(1, 3329)\n",
      "(9, 3330)\n"
     ]
    },
    {
     "name": "stderr",
     "output_type": "stream",
     "text": [
      "100%|██████████| 64/64 [00:00<00:00, 212537.97it/s]\n",
      "100%|██████████| 64/64 [00:00<00:00, 94.38it/s]\n",
      "100%|██████████| 64/64 [00:00<00:00, 93.53it/s]\n",
      "100%|██████████| 64/64 [00:00<00:00, 98.22it/s]\n",
      "100%|██████████| 64/64 [00:00<00:00, 2161.72it/s]\n",
      "100%|██████████| 64/64 [00:00<00:00, 188.81it/s]\n",
      "100%|██████████| 64/64 [00:00<00:00, 148.25it/s]\n",
      "100%|██████████| 64/64 [00:08<00:00,  7.95it/s]\n",
      "100%|██████████| 64/64 [00:00<00:00, 2812.96it/s]\n",
      "100%|██████████| 64/64 [00:00<00:00, 1290.31it/s]\n",
      "100%|██████████| 64/64 [00:00<00:00, 1354.39it/s]\n",
      "100%|██████████| 64/64 [00:00<00:00, 7177.03it/s]\n"
     ]
    },
    {
     "name": "stdout",
     "output_type": "stream",
     "text": [
      "(1, 3329)\n",
      "(10, 3330)\n"
     ]
    },
    {
     "name": "stderr",
     "output_type": "stream",
     "text": [
      "100%|██████████| 64/64 [00:00<00:00, 22215.96it/s]\n",
      "100%|██████████| 64/64 [00:00<00:00, 92.87it/s]\n",
      "100%|██████████| 64/64 [00:00<00:00, 98.05it/s]\n",
      "100%|██████████| 64/64 [00:00<00:00, 99.40it/s]\n",
      "100%|██████████| 64/64 [00:00<00:00, 2166.37it/s]\n",
      "100%|██████████| 64/64 [00:00<00:00, 190.15it/s]\n",
      "100%|██████████| 64/64 [00:00<00:00, 145.73it/s]\n",
      "100%|██████████| 64/64 [00:08<00:00,  7.85it/s]\n",
      "100%|██████████| 64/64 [00:00<00:00, 3377.65it/s]\n",
      "100%|██████████| 64/64 [00:00<00:00, 1305.13it/s]\n",
      "100%|██████████| 64/64 [00:00<00:00, 1320.94it/s]\n",
      "100%|██████████| 64/64 [00:00<00:00, 6731.08it/s]\n"
     ]
    },
    {
     "name": "stdout",
     "output_type": "stream",
     "text": [
      "(1, 3329)\n",
      "(11, 3330)\n"
     ]
    },
    {
     "name": "stderr",
     "output_type": "stream",
     "text": [
      "100%|██████████| 64/64 [00:00<00:00, 87781.38it/s]\n",
      "100%|██████████| 64/64 [00:00<00:00, 92.76it/s]\n",
      "100%|██████████| 64/64 [00:00<00:00, 94.79it/s]\n",
      "100%|██████████| 64/64 [00:00<00:00, 100.97it/s]\n",
      "100%|██████████| 64/64 [00:00<00:00, 2454.69it/s]\n",
      "100%|██████████| 64/64 [00:00<00:00, 177.30it/s]\n",
      "100%|██████████| 64/64 [00:00<00:00, 148.28it/s]\n",
      "100%|██████████| 64/64 [00:08<00:00,  7.91it/s]\n",
      "100%|██████████| 64/64 [00:00<00:00, 2880.67it/s]\n",
      "100%|██████████| 64/64 [00:00<00:00, 1355.49it/s]\n",
      "100%|██████████| 64/64 [00:00<00:00, 1307.18it/s]\n",
      "100%|██████████| 64/64 [00:00<00:00, 9151.00it/s]\n"
     ]
    },
    {
     "name": "stdout",
     "output_type": "stream",
     "text": [
      "(1, 3329)\n",
      "(12, 3330)\n"
     ]
    },
    {
     "name": "stderr",
     "output_type": "stream",
     "text": [
      "100%|██████████| 64/64 [00:00<00:00, 222953.04it/s]\n",
      "100%|██████████| 64/64 [00:00<00:00, 93.48it/s]\n",
      "100%|██████████| 64/64 [00:00<00:00, 97.00it/s]\n",
      "100%|██████████| 64/64 [00:00<00:00, 101.39it/s]\n",
      "100%|██████████| 64/64 [00:00<00:00, 1981.44it/s]\n",
      "100%|██████████| 64/64 [00:00<00:00, 180.89it/s]\n",
      "100%|██████████| 64/64 [00:00<00:00, 151.02it/s]\n",
      "100%|██████████| 64/64 [00:08<00:00,  7.78it/s]\n",
      "100%|██████████| 64/64 [00:00<00:00, 3520.46it/s]\n",
      "100%|██████████| 64/64 [00:00<00:00, 1319.80it/s]\n",
      "100%|██████████| 64/64 [00:00<00:00, 1326.49it/s]\n",
      "100%|██████████| 64/64 [00:00<00:00, 6066.20it/s]\n"
     ]
    },
    {
     "name": "stdout",
     "output_type": "stream",
     "text": [
      "(1, 3329)\n",
      "(13, 3330)\n"
     ]
    },
    {
     "name": "stderr",
     "output_type": "stream",
     "text": [
      "100%|██████████| 64/64 [00:00<00:00, 90504.20it/s]\n",
      "100%|██████████| 64/64 [00:00<00:00, 94.10it/s]\n",
      "100%|██████████| 64/64 [00:00<00:00, 95.73it/s]\n",
      "100%|██████████| 64/64 [00:00<00:00, 99.78it/s]\n",
      "100%|██████████| 64/64 [00:00<00:00, 2145.80it/s]\n",
      "100%|██████████| 64/64 [00:00<00:00, 187.83it/s]\n",
      "100%|██████████| 64/64 [00:00<00:00, 142.18it/s]\n",
      "100%|██████████| 64/64 [00:08<00:00,  7.81it/s]\n",
      "100%|██████████| 64/64 [00:00<00:00, 3631.19it/s]\n",
      "100%|██████████| 64/64 [00:00<00:00, 1422.53it/s]\n",
      "100%|██████████| 64/64 [00:00<00:00, 1358.17it/s]\n",
      "100%|██████████| 64/64 [00:00<00:00, 7023.06it/s]\n"
     ]
    },
    {
     "name": "stdout",
     "output_type": "stream",
     "text": [
      "(1, 3329)\n",
      "(14, 3330)\n"
     ]
    },
    {
     "name": "stderr",
     "output_type": "stream",
     "text": [
      "100%|██████████| 64/64 [00:00<00:00, 83468.74it/s]\n",
      "100%|██████████| 64/64 [00:00<00:00, 91.23it/s]\n",
      "100%|██████████| 64/64 [00:00<00:00, 94.76it/s]\n",
      "100%|██████████| 64/64 [00:00<00:00, 97.90it/s]\n",
      "100%|██████████| 64/64 [00:00<00:00, 2238.21it/s]\n",
      "100%|██████████| 64/64 [00:00<00:00, 171.96it/s]\n",
      "100%|██████████| 64/64 [00:00<00:00, 150.78it/s]\n",
      "100%|██████████| 64/64 [00:08<00:00,  7.66it/s]\n",
      "100%|██████████| 64/64 [00:00<00:00, 3509.33it/s]\n",
      "100%|██████████| 64/64 [00:00<00:00, 1338.60it/s]\n",
      "100%|██████████| 64/64 [00:00<00:00, 1313.12it/s]\n",
      "100%|██████████| 64/64 [00:00<00:00, 6983.41it/s]\n"
     ]
    },
    {
     "name": "stdout",
     "output_type": "stream",
     "text": [
      "(1, 3329)\n",
      "(15, 3330)\n"
     ]
    },
    {
     "name": "stderr",
     "output_type": "stream",
     "text": [
      "100%|██████████| 64/64 [00:00<00:00, 89210.85it/s]\n",
      "100%|██████████| 64/64 [00:00<00:00, 93.64it/s]\n",
      "100%|██████████| 64/64 [00:00<00:00, 94.00it/s]\n",
      "100%|██████████| 64/64 [00:00<00:00, 98.72it/s]\n",
      "100%|██████████| 64/64 [00:00<00:00, 1936.22it/s]\n",
      "100%|██████████| 64/64 [00:00<00:00, 186.13it/s]\n",
      "100%|██████████| 64/64 [00:00<00:00, 147.82it/s]\n",
      "100%|██████████| 64/64 [00:08<00:00,  7.84it/s]\n",
      "100%|██████████| 64/64 [00:00<00:00, 3340.12it/s]\n",
      "100%|██████████| 64/64 [00:00<00:00, 1168.67it/s]\n",
      "100%|██████████| 64/64 [00:00<00:00, 1296.66it/s]\n",
      "100%|██████████| 64/64 [00:00<00:00, 6910.25it/s]\n"
     ]
    },
    {
     "name": "stdout",
     "output_type": "stream",
     "text": [
      "(1, 3329)\n",
      "(16, 3330)\n"
     ]
    },
    {
     "name": "stderr",
     "output_type": "stream",
     "text": [
      "100%|██████████| 64/64 [00:00<00:00, 223882.78it/s]\n",
      "100%|██████████| 64/64 [00:00<00:00, 92.87it/s]\n",
      "100%|██████████| 64/64 [00:00<00:00, 96.48it/s]\n",
      "100%|██████████| 64/64 [00:00<00:00, 98.32it/s] \n",
      "100%|██████████| 64/64 [00:00<00:00, 2241.31it/s]\n",
      "100%|██████████| 64/64 [00:00<00:00, 183.59it/s]\n",
      "100%|██████████| 64/64 [00:00<00:00, 147.71it/s]\n",
      "100%|██████████| 64/64 [00:08<00:00,  7.81it/s]\n",
      "100%|██████████| 64/64 [00:00<00:00, 3568.10it/s]\n",
      "100%|██████████| 64/64 [00:00<00:00, 1324.19it/s]\n",
      "100%|██████████| 64/64 [00:00<00:00, 1295.93it/s]\n",
      "100%|██████████| 64/64 [00:00<00:00, 7260.31it/s]\n"
     ]
    },
    {
     "name": "stdout",
     "output_type": "stream",
     "text": [
      "(1, 3329)\n",
      "(17, 3330)\n"
     ]
    },
    {
     "name": "stderr",
     "output_type": "stream",
     "text": [
      "100%|██████████| 64/64 [00:00<00:00, 21338.27it/s]\n",
      "100%|██████████| 64/64 [00:00<00:00, 95.53it/s]\n",
      "100%|██████████| 64/64 [00:00<00:00, 96.80it/s]\n",
      "100%|██████████| 64/64 [00:00<00:00, 99.79it/s]\n",
      "100%|██████████| 64/64 [00:00<00:00, 2253.94it/s]\n",
      "100%|██████████| 64/64 [00:00<00:00, 178.90it/s]\n",
      "100%|██████████| 64/64 [00:00<00:00, 151.06it/s]\n",
      "100%|██████████| 64/64 [00:08<00:00,  7.80it/s]\n",
      "100%|██████████| 64/64 [00:00<00:00, 3436.55it/s]\n",
      "100%|██████████| 64/64 [00:00<00:00, 1336.10it/s]\n",
      "100%|██████████| 64/64 [00:00<00:00, 1221.93it/s]\n",
      "100%|██████████| 64/64 [00:00<00:00, 6763.13it/s]\n"
     ]
    },
    {
     "name": "stdout",
     "output_type": "stream",
     "text": [
      "(1, 3329)\n",
      "(18, 3330)\n"
     ]
    },
    {
     "name": "stderr",
     "output_type": "stream",
     "text": [
      "100%|██████████| 64/64 [00:00<00:00, 50984.89it/s]\n",
      "100%|██████████| 64/64 [00:00<00:00, 90.07it/s]\n",
      "100%|██████████| 64/64 [00:00<00:00, 92.73it/s]\n",
      "100%|██████████| 64/64 [00:00<00:00, 95.62it/s]\n",
      "100%|██████████| 64/64 [00:00<00:00, 2263.54it/s]\n",
      "100%|██████████| 64/64 [00:00<00:00, 180.72it/s]\n",
      "100%|██████████| 64/64 [00:00<00:00, 146.69it/s]\n",
      "100%|██████████| 64/64 [00:08<00:00,  7.81it/s]\n",
      "100%|██████████| 64/64 [00:00<00:00, 3552.85it/s]\n",
      "100%|██████████| 64/64 [00:00<00:00, 1382.28it/s]\n",
      "100%|██████████| 64/64 [00:00<00:00, 1140.04it/s]\n",
      "100%|██████████| 64/64 [00:00<00:00, 8403.31it/s]\n"
     ]
    },
    {
     "name": "stdout",
     "output_type": "stream",
     "text": [
      "(1, 3329)\n",
      "(19, 3330)\n"
     ]
    },
    {
     "name": "stderr",
     "output_type": "stream",
     "text": [
      "100%|██████████| 64/64 [00:00<00:00, 74400.07it/s]\n",
      "100%|██████████| 64/64 [00:00<00:00, 92.03it/s]\n",
      "100%|██████████| 64/64 [00:00<00:00, 92.08it/s]\n",
      "100%|██████████| 64/64 [00:00<00:00, 100.63it/s]\n",
      "100%|██████████| 64/64 [00:00<00:00, 2288.16it/s]\n",
      "100%|██████████| 64/64 [00:00<00:00, 175.05it/s]\n",
      "100%|██████████| 64/64 [00:00<00:00, 143.28it/s]\n",
      "100%|██████████| 64/64 [00:08<00:00,  7.78it/s]\n",
      "100%|██████████| 64/64 [00:00<00:00, 3122.90it/s]\n",
      "100%|██████████| 64/64 [00:00<00:00, 1212.13it/s]\n",
      "100%|██████████| 64/64 [00:00<00:00, 1291.38it/s]\n",
      "100%|██████████| 64/64 [00:00<00:00, 7442.90it/s]\n"
     ]
    },
    {
     "name": "stdout",
     "output_type": "stream",
     "text": [
      "(1, 3329)\n",
      "(20, 3330)\n"
     ]
    },
    {
     "name": "stderr",
     "output_type": "stream",
     "text": [
      "100%|██████████| 64/64 [00:00<00:00, 22568.98it/s]\n",
      "100%|██████████| 64/64 [00:00<00:00, 90.99it/s]\n",
      "100%|██████████| 64/64 [00:00<00:00, 95.94it/s]\n",
      "100%|██████████| 64/64 [00:00<00:00, 99.18it/s]\n",
      "100%|██████████| 64/64 [00:00<00:00, 2357.90it/s]\n",
      "100%|██████████| 64/64 [00:00<00:00, 180.73it/s]\n",
      "100%|██████████| 64/64 [00:00<00:00, 150.61it/s]\n",
      "100%|██████████| 64/64 [00:08<00:00,  7.77it/s]\n",
      "100%|██████████| 64/64 [00:00<00:00, 3385.45it/s]\n",
      "100%|██████████| 64/64 [00:00<00:00, 1338.36it/s]\n",
      "100%|██████████| 64/64 [00:00<00:00, 1303.02it/s]\n",
      "100%|██████████| 64/64 [00:00<00:00, 5837.58it/s]\n"
     ]
    },
    {
     "name": "stdout",
     "output_type": "stream",
     "text": [
      "(1, 3329)\n",
      "(21, 3330)\n"
     ]
    },
    {
     "name": "stderr",
     "output_type": "stream",
     "text": [
      "100%|██████████| 64/64 [00:00<00:00, 87239.34it/s]\n",
      "100%|██████████| 64/64 [00:00<00:00, 93.40it/s]\n",
      "100%|██████████| 64/64 [00:00<00:00, 95.73it/s]\n",
      "100%|██████████| 64/64 [00:00<00:00, 100.40it/s]\n",
      "100%|██████████| 64/64 [00:00<00:00, 2236.76it/s]\n",
      "100%|██████████| 64/64 [00:00<00:00, 185.32it/s]\n",
      "100%|██████████| 64/64 [00:00<00:00, 151.73it/s]\n",
      "100%|██████████| 64/64 [00:08<00:00,  7.95it/s]\n",
      "100%|██████████| 64/64 [00:00<00:00, 3417.86it/s]\n",
      "100%|██████████| 64/64 [00:00<00:00, 1326.28it/s]\n",
      "100%|██████████| 64/64 [00:00<00:00, 1143.55it/s]\n",
      "100%|██████████| 64/64 [00:00<00:00, 9173.83it/s]\n"
     ]
    },
    {
     "name": "stdout",
     "output_type": "stream",
     "text": [
      "(1, 3329)\n",
      "(22, 3330)\n"
     ]
    },
    {
     "name": "stderr",
     "output_type": "stream",
     "text": [
      "100%|██████████| 64/64 [00:00<00:00, 191876.67it/s]\n",
      "100%|██████████| 64/64 [00:00<00:00, 93.78it/s]\n",
      "100%|██████████| 64/64 [00:00<00:00, 96.42it/s]\n",
      "100%|██████████| 64/64 [00:00<00:00, 101.28it/s]\n",
      "100%|██████████| 64/64 [00:00<00:00, 2338.76it/s]\n",
      "100%|██████████| 64/64 [00:00<00:00, 183.61it/s]\n",
      "100%|██████████| 64/64 [00:00<00:00, 145.61it/s]\n",
      "100%|██████████| 64/64 [00:08<00:00,  7.89it/s]\n",
      "100%|██████████| 64/64 [00:00<00:00, 3474.67it/s]\n",
      "100%|██████████| 64/64 [00:00<00:00, 1188.59it/s]\n",
      "100%|██████████| 64/64 [00:00<00:00, 849.32it/s]\n",
      "100%|██████████| 64/64 [00:00<00:00, 7253.44it/s]\n"
     ]
    },
    {
     "name": "stdout",
     "output_type": "stream",
     "text": [
      "(1, 3329)\n",
      "(23, 3330)\n"
     ]
    },
    {
     "name": "stderr",
     "output_type": "stream",
     "text": [
      "100%|██████████| 64/64 [00:00<00:00, 48227.71it/s]\n",
      "100%|██████████| 64/64 [00:00<00:00, 90.20it/s]\n",
      "100%|██████████| 64/64 [00:00<00:00, 93.54it/s]\n",
      "100%|██████████| 64/64 [00:00<00:00, 100.32it/s]\n",
      "100%|██████████| 64/64 [00:00<00:00, 1876.66it/s]\n",
      "100%|██████████| 64/64 [00:00<00:00, 184.33it/s]\n",
      "100%|██████████| 64/64 [00:00<00:00, 149.80it/s]\n",
      "100%|██████████| 64/64 [00:08<00:00,  7.72it/s]\n",
      "100%|██████████| 64/64 [00:00<00:00, 3357.63it/s]\n",
      "100%|██████████| 64/64 [00:00<00:00, 1347.03it/s]\n",
      "100%|██████████| 64/64 [00:00<00:00, 1386.90it/s]\n",
      "100%|██████████| 64/64 [00:00<00:00, 6293.32it/s]\n"
     ]
    },
    {
     "name": "stdout",
     "output_type": "stream",
     "text": [
      "(1, 3329)\n",
      "(24, 3330)\n"
     ]
    },
    {
     "name": "stderr",
     "output_type": "stream",
     "text": [
      "100%|██████████| 64/64 [00:00<00:00, 62865.45it/s]\n",
      "100%|██████████| 64/64 [00:00<00:00, 93.49it/s]\n",
      "100%|██████████| 64/64 [00:00<00:00, 95.51it/s]\n",
      "100%|██████████| 64/64 [00:00<00:00, 100.57it/s]\n",
      "100%|██████████| 64/64 [00:00<00:00, 2233.65it/s]\n",
      "100%|██████████| 64/64 [00:00<00:00, 186.98it/s]\n",
      "100%|██████████| 64/64 [00:00<00:00, 146.38it/s]\n",
      "100%|██████████| 64/64 [00:08<00:00,  7.79it/s]\n",
      "100%|██████████| 64/64 [00:00<00:00, 3649.40it/s]\n",
      "100%|██████████| 64/64 [00:00<00:00, 1187.91it/s]\n",
      "100%|██████████| 64/64 [00:00<00:00, 1331.67it/s]\n",
      "100%|██████████| 64/64 [00:00<00:00, 4286.60it/s]\n"
     ]
    },
    {
     "name": "stdout",
     "output_type": "stream",
     "text": [
      "(1, 3329)\n",
      "(25, 3330)\n"
     ]
    },
    {
     "name": "stderr",
     "output_type": "stream",
     "text": [
      "100%|██████████| 64/64 [00:00<00:00, 80418.05it/s]\n",
      "100%|██████████| 64/64 [00:00<00:00, 93.09it/s]\n",
      "100%|██████████| 64/64 [00:00<00:00, 94.14it/s]\n",
      "100%|██████████| 64/64 [00:00<00:00, 98.17it/s]\n",
      "100%|██████████| 64/64 [00:00<00:00, 2265.55it/s]\n",
      "100%|██████████| 64/64 [00:00<00:00, 181.96it/s]\n",
      "100%|██████████| 64/64 [00:00<00:00, 147.27it/s]\n",
      "100%|██████████| 64/64 [00:08<00:00,  7.84it/s]\n",
      "100%|██████████| 64/64 [00:00<00:00, 3314.80it/s]\n",
      "100%|██████████| 64/64 [00:00<00:00, 1319.68it/s]\n",
      "100%|██████████| 64/64 [00:00<00:00, 1294.69it/s]\n",
      "100%|██████████| 64/64 [00:00<00:00, 7488.16it/s]\n"
     ]
    },
    {
     "name": "stdout",
     "output_type": "stream",
     "text": [
      "(1, 3329)\n",
      "(26, 3330)\n"
     ]
    },
    {
     "name": "stderr",
     "output_type": "stream",
     "text": [
      "100%|██████████| 64/64 [00:00<00:00, 101873.04it/s]\n",
      "100%|██████████| 64/64 [00:00<00:00, 92.79it/s]\n",
      "100%|██████████| 64/64 [00:00<00:00, 94.73it/s]\n",
      "100%|██████████| 64/64 [00:00<00:00, 97.58it/s]\n",
      "100%|██████████| 64/64 [00:00<00:00, 2232.16it/s]\n",
      "100%|██████████| 64/64 [00:00<00:00, 176.29it/s]\n",
      "100%|██████████| 64/64 [00:00<00:00, 147.46it/s]\n",
      "100%|██████████| 64/64 [00:08<00:00,  7.78it/s]\n",
      "100%|██████████| 64/64 [00:00<00:00, 3513.51it/s]\n",
      "100%|██████████| 64/64 [00:00<00:00, 1330.20it/s]\n",
      "100%|██████████| 64/64 [00:00<00:00, 1323.79it/s]\n",
      "100%|██████████| 64/64 [00:00<00:00, 7497.36it/s]\n"
     ]
    },
    {
     "name": "stdout",
     "output_type": "stream",
     "text": [
      "(1, 3329)\n",
      "(27, 3330)\n"
     ]
    },
    {
     "name": "stderr",
     "output_type": "stream",
     "text": [
      "100%|██████████| 64/64 [00:00<00:00, 84733.41it/s]\n",
      "100%|██████████| 64/64 [00:00<00:00, 92.26it/s]\n",
      "100%|██████████| 64/64 [00:00<00:00, 93.06it/s]\n",
      "100%|██████████| 64/64 [00:00<00:00, 96.16it/s]\n",
      "100%|██████████| 64/64 [00:00<00:00, 2336.07it/s]\n",
      "100%|██████████| 64/64 [00:00<00:00, 177.25it/s]\n",
      "100%|██████████| 64/64 [00:00<00:00, 147.36it/s]\n",
      "100%|██████████| 64/64 [00:08<00:00,  7.72it/s]\n",
      "100%|██████████| 64/64 [00:00<00:00, 3485.31it/s]\n",
      "100%|██████████| 64/64 [00:00<00:00, 1474.38it/s]\n",
      "100%|██████████| 64/64 [00:00<00:00, 1336.18it/s]\n",
      "100%|██████████| 64/64 [00:00<00:00, 7490.66it/s]\n",
      "100%|██████████| 64/64 [00:00<00:00, 47268.09it/s]\n",
      "  0%|          | 0/64 [00:00<?, ?it/s]"
     ]
    },
    {
     "name": "stdout",
     "output_type": "stream",
     "text": [
      "(1, 3329)\n",
      "(28, 3330)\n"
     ]
    },
    {
     "name": "stderr",
     "output_type": "stream",
     "text": [
      "100%|██████████| 64/64 [00:00<00:00, 92.88it/s]\n",
      "100%|██████████| 64/64 [00:00<00:00, 98.45it/s]\n",
      "100%|██████████| 64/64 [00:00<00:00, 97.69it/s]\n",
      "100%|██████████| 64/64 [00:00<00:00, 2216.59it/s]\n",
      "100%|██████████| 64/64 [00:00<00:00, 184.53it/s]\n",
      "100%|██████████| 64/64 [00:00<00:00, 140.30it/s]\n",
      "100%|██████████| 64/64 [00:08<00:00,  7.83it/s]\n",
      "100%|██████████| 64/64 [00:00<00:00, 2102.44it/s]\n",
      "100%|██████████| 64/64 [00:00<00:00, 1239.89it/s]\n",
      "100%|██████████| 64/64 [00:00<00:00, 1265.63it/s]\n",
      "100%|██████████| 64/64 [00:00<00:00, 7424.37it/s]\n"
     ]
    },
    {
     "name": "stdout",
     "output_type": "stream",
     "text": [
      "(1, 3329)\n",
      "(29, 3330)\n"
     ]
    },
    {
     "name": "stderr",
     "output_type": "stream",
     "text": [
      "100%|██████████| 64/64 [00:00<00:00, 75023.88it/s]\n",
      "100%|██████████| 64/64 [00:00<00:00, 91.43it/s]\n",
      "100%|██████████| 64/64 [00:00<00:00, 94.63it/s]\n",
      "100%|██████████| 64/64 [00:00<00:00, 99.61it/s] \n",
      "100%|██████████| 64/64 [00:00<00:00, 2212.64it/s]\n",
      "100%|██████████| 64/64 [00:00<00:00, 181.63it/s]\n",
      "100%|██████████| 64/64 [00:00<00:00, 145.04it/s]\n",
      "100%|██████████| 64/64 [00:08<00:00,  7.83it/s]\n",
      "100%|██████████| 64/64 [00:00<00:00, 3462.03it/s]\n",
      "100%|██████████| 64/64 [00:00<00:00, 1383.65it/s]\n",
      "100%|██████████| 64/64 [00:00<00:00, 1339.10it/s]\n",
      "100%|██████████| 64/64 [00:00<00:00, 6845.05it/s]\n"
     ]
    },
    {
     "name": "stdout",
     "output_type": "stream",
     "text": [
      "(1, 3329)\n",
      "(30, 3330)\n"
     ]
    },
    {
     "name": "stderr",
     "output_type": "stream",
     "text": [
      "100%|██████████| 64/64 [00:00<00:00, 126144.48it/s]\n",
      "100%|██████████| 64/64 [00:00<00:00, 91.06it/s]\n",
      "100%|██████████| 64/64 [00:00<00:00, 92.36it/s]\n",
      "100%|██████████| 64/64 [00:00<00:00, 96.85it/s]\n",
      "100%|██████████| 64/64 [00:00<00:00, 2252.22it/s]\n",
      "100%|██████████| 64/64 [00:00<00:00, 169.67it/s]\n",
      "100%|██████████| 64/64 [00:00<00:00, 153.46it/s]\n",
      "100%|██████████| 64/64 [00:08<00:00,  7.88it/s]\n",
      "100%|██████████| 64/64 [00:00<00:00, 3476.56it/s]\n",
      "100%|██████████| 64/64 [00:00<00:00, 1272.03it/s]\n",
      "100%|██████████| 64/64 [00:00<00:00, 1324.24it/s]\n",
      "100%|██████████| 64/64 [00:00<00:00, 7506.58it/s]\n"
     ]
    },
    {
     "name": "stdout",
     "output_type": "stream",
     "text": [
      "(1, 3329)\n",
      "(31, 3330)\n"
     ]
    },
    {
     "name": "stderr",
     "output_type": "stream",
     "text": [
      "100%|██████████| 64/64 [00:00<00:00, 20914.33it/s]\n",
      "100%|██████████| 64/64 [00:00<00:00, 94.97it/s]\n",
      "100%|██████████| 64/64 [00:00<00:00, 93.42it/s]\n",
      "100%|██████████| 64/64 [00:00<00:00, 97.25it/s]\n",
      "100%|██████████| 64/64 [00:00<00:00, 2021.99it/s]\n",
      "100%|██████████| 64/64 [00:00<00:00, 175.85it/s]\n",
      "100%|██████████| 64/64 [00:00<00:00, 143.96it/s]\n",
      "100%|██████████| 64/64 [00:08<00:00,  7.83it/s]\n",
      "100%|██████████| 64/64 [00:00<00:00, 3046.66it/s]\n",
      "100%|██████████| 64/64 [00:00<00:00, 1203.78it/s]\n",
      "100%|██████████| 64/64 [00:00<00:00, 1284.39it/s]\n",
      "100%|██████████| 64/64 [00:00<00:00, 5974.53it/s]\n"
     ]
    },
    {
     "name": "stdout",
     "output_type": "stream",
     "text": [
      "(1, 3329)\n",
      "(32, 3330)\n"
     ]
    },
    {
     "name": "stderr",
     "output_type": "stream",
     "text": [
      "100%|██████████| 64/64 [00:00<00:00, 193956.25it/s]\n",
      "100%|██████████| 64/64 [00:00<00:00, 90.24it/s]\n",
      "100%|██████████| 64/64 [00:00<00:00, 96.40it/s]\n",
      "100%|██████████| 64/64 [00:00<00:00, 95.87it/s]\n",
      "100%|██████████| 64/64 [00:00<00:00, 2105.10it/s]\n",
      "100%|██████████| 64/64 [00:00<00:00, 186.22it/s]\n",
      "100%|██████████| 64/64 [00:00<00:00, 141.96it/s]\n",
      "100%|██████████| 64/64 [00:08<00:00,  7.92it/s]\n",
      "100%|██████████| 64/64 [00:00<00:00, 3346.32it/s]\n",
      "100%|██████████| 64/64 [00:00<00:00, 1329.72it/s]\n",
      "100%|██████████| 64/64 [00:00<00:00, 1314.59it/s]\n",
      "100%|██████████| 64/64 [00:00<00:00, 6572.70it/s]\n"
     ]
    },
    {
     "name": "stdout",
     "output_type": "stream",
     "text": [
      "(1, 3329)\n",
      "(33, 3330)\n"
     ]
    },
    {
     "name": "stderr",
     "output_type": "stream",
     "text": [
      "100%|██████████| 64/64 [00:00<00:00, 45389.83it/s]\n",
      "100%|██████████| 64/64 [00:00<00:00, 91.21it/s]\n",
      "100%|██████████| 64/64 [00:00<00:00, 93.93it/s]\n",
      "100%|██████████| 64/64 [00:00<00:00, 101.46it/s]\n",
      "100%|██████████| 64/64 [00:00<00:00, 2186.79it/s]\n",
      "100%|██████████| 64/64 [00:00<00:00, 183.98it/s]\n",
      "100%|██████████| 64/64 [00:00<00:00, 153.06it/s]\n",
      "100%|██████████| 64/64 [00:08<00:00,  7.83it/s]\n",
      "100%|██████████| 64/64 [00:00<00:00, 3594.76it/s]\n",
      "100%|██████████| 64/64 [00:00<00:00, 1318.28it/s]\n",
      "100%|██████████| 64/64 [00:00<00:00, 1269.43it/s]\n",
      "100%|██████████| 64/64 [00:00<00:00, 6929.69it/s]\n"
     ]
    },
    {
     "name": "stdout",
     "output_type": "stream",
     "text": [
      "(1, 3329)\n",
      "(34, 3330)\n"
     ]
    },
    {
     "name": "stderr",
     "output_type": "stream",
     "text": [
      "100%|██████████| 64/64 [00:00<00:00, 30741.58it/s]\n",
      "100%|██████████| 64/64 [00:00<00:00, 91.41it/s]\n",
      "100%|██████████| 64/64 [00:00<00:00, 95.19it/s]\n",
      "100%|██████████| 64/64 [00:00<00:00, 98.77it/s]\n",
      "100%|██████████| 64/64 [00:00<00:00, 1712.92it/s]\n",
      "100%|██████████| 64/64 [00:00<00:00, 177.94it/s]\n",
      "100%|██████████| 64/64 [00:00<00:00, 151.37it/s]\n",
      "100%|██████████| 64/64 [00:08<00:00,  7.64it/s]\n",
      "100%|██████████| 64/64 [00:00<00:00, 3396.37it/s]\n",
      "100%|██████████| 64/64 [00:00<00:00, 1142.68it/s]\n",
      "100%|██████████| 64/64 [00:00<00:00, 1356.63it/s]\n",
      "100%|██████████| 64/64 [00:00<00:00, 6493.20it/s]\n"
     ]
    },
    {
     "name": "stdout",
     "output_type": "stream",
     "text": [
      "(1, 3329)\n",
      "(35, 3330)\n"
     ]
    },
    {
     "name": "stderr",
     "output_type": "stream",
     "text": [
      "100%|██████████| 64/64 [00:00<00:00, 186284.15it/s]\n",
      "100%|██████████| 64/64 [00:00<00:00, 91.53it/s]\n",
      "100%|██████████| 64/64 [00:00<00:00, 97.56it/s]\n",
      "100%|██████████| 64/64 [00:00<00:00, 100.09it/s]\n",
      "100%|██████████| 64/64 [00:00<00:00, 1908.40it/s]\n",
      "100%|██████████| 64/64 [00:00<00:00, 186.79it/s]\n",
      "100%|██████████| 64/64 [00:00<00:00, 146.28it/s]\n",
      "100%|██████████| 64/64 [00:08<00:00,  7.82it/s]\n",
      "100%|██████████| 64/64 [00:00<00:00, 3441.30it/s]\n",
      "100%|██████████| 64/64 [00:00<00:00, 1354.94it/s]\n",
      "100%|██████████| 64/64 [00:00<00:00, 1352.53it/s]\n",
      "100%|██████████| 64/64 [00:00<00:00, 6519.38it/s]\n"
     ]
    },
    {
     "name": "stdout",
     "output_type": "stream",
     "text": [
      "(1, 3329)\n",
      "(36, 3330)\n"
     ]
    },
    {
     "name": "stderr",
     "output_type": "stream",
     "text": [
      "100%|██████████| 64/64 [00:00<00:00, 92436.45it/s]\n",
      "100%|██████████| 64/64 [00:00<00:00, 90.41it/s]\n",
      "100%|██████████| 64/64 [00:00<00:00, 92.26it/s]\n",
      "100%|██████████| 64/64 [00:00<00:00, 102.43it/s]\n",
      "100%|██████████| 64/64 [00:00<00:00, 2330.31it/s]\n",
      "100%|██████████| 64/64 [00:00<00:00, 178.85it/s]\n",
      "100%|██████████| 64/64 [00:00<00:00, 150.70it/s]\n",
      "100%|██████████| 64/64 [00:08<00:00,  7.82it/s]\n",
      "100%|██████████| 64/64 [00:00<00:00, 3281.89it/s]\n",
      "100%|██████████| 64/64 [00:00<00:00, 1093.80it/s]\n",
      "100%|██████████| 64/64 [00:00<00:00, 1193.83it/s]\n",
      "100%|██████████| 64/64 [00:00<00:00, 6479.88it/s]\n"
     ]
    },
    {
     "name": "stdout",
     "output_type": "stream",
     "text": [
      "(1, 3329)\n",
      "(37, 3330)\n"
     ]
    },
    {
     "name": "stderr",
     "output_type": "stream",
     "text": [
      "100%|██████████| 64/64 [00:00<00:00, 82468.65it/s]\n",
      "100%|██████████| 64/64 [00:00<00:00, 91.61it/s]\n",
      "100%|██████████| 64/64 [00:00<00:00, 94.08it/s]\n",
      "100%|██████████| 64/64 [00:00<00:00, 101.26it/s]\n",
      "100%|██████████| 64/64 [00:00<00:00, 2323.65it/s]\n",
      "100%|██████████| 64/64 [00:00<00:00, 178.64it/s]\n",
      "100%|██████████| 64/64 [00:00<00:00, 150.02it/s]\n",
      "100%|██████████| 64/64 [00:08<00:00,  7.83it/s]\n",
      "100%|██████████| 64/64 [00:00<00:00, 3123.23it/s]\n",
      "100%|██████████| 64/64 [00:00<00:00, 1335.37it/s]\n",
      "100%|██████████| 64/64 [00:00<00:00, 1285.22it/s]\n",
      "100%|██████████| 64/64 [00:00<00:00, 5963.11it/s]\n"
     ]
    },
    {
     "name": "stdout",
     "output_type": "stream",
     "text": [
      "(1, 3329)\n",
      "(38, 3330)\n"
     ]
    },
    {
     "name": "stderr",
     "output_type": "stream",
     "text": [
      "100%|██████████| 64/64 [00:00<00:00, 134689.14it/s]\n",
      "100%|██████████| 64/64 [00:00<00:00, 91.87it/s]\n",
      "100%|██████████| 64/64 [00:00<00:00, 96.42it/s]\n",
      "100%|██████████| 64/64 [00:00<00:00, 99.23it/s]\n",
      "100%|██████████| 64/64 [00:00<00:00, 2011.04it/s]\n",
      "100%|██████████| 64/64 [00:00<00:00, 186.41it/s]\n",
      "100%|██████████| 64/64 [00:00<00:00, 147.26it/s]\n",
      "100%|██████████| 64/64 [00:08<00:00,  7.79it/s]\n",
      "100%|██████████| 64/64 [00:00<00:00, 3447.98it/s]\n",
      "100%|██████████| 64/64 [00:00<00:00, 1338.46it/s]\n",
      "100%|██████████| 64/64 [00:00<00:00, 1347.22it/s]\n",
      "100%|██████████| 64/64 [00:00<00:00, 5454.79it/s]\n"
     ]
    },
    {
     "name": "stdout",
     "output_type": "stream",
     "text": [
      "(1, 3329)\n",
      "(39, 3330)\n"
     ]
    },
    {
     "name": "stderr",
     "output_type": "stream",
     "text": [
      "100%|██████████| 64/64 [00:00<00:00, 39644.88it/s]\n",
      "100%|██████████| 64/64 [00:00<00:00, 91.41it/s]\n",
      "100%|██████████| 64/64 [00:00<00:00, 93.24it/s]\n",
      "100%|██████████| 64/64 [00:00<00:00, 100.11it/s]\n",
      "100%|██████████| 64/64 [00:00<00:00, 2179.37it/s]\n",
      "100%|██████████| 64/64 [00:00<00:00, 177.23it/s]\n",
      "100%|██████████| 64/64 [00:00<00:00, 144.94it/s]\n",
      "100%|██████████| 64/64 [00:08<00:00,  7.84it/s]\n",
      "100%|██████████| 64/64 [00:00<00:00, 3323.45it/s]\n",
      "100%|██████████| 64/64 [00:00<00:00, 1329.81it/s]\n",
      "100%|██████████| 64/64 [00:00<00:00, 1312.35it/s]\n",
      "100%|██████████| 64/64 [00:00<00:00, 5068.36it/s]\n"
     ]
    },
    {
     "name": "stdout",
     "output_type": "stream",
     "text": [
      "(1, 3329)\n",
      "(40, 3330)\n"
     ]
    },
    {
     "name": "stderr",
     "output_type": "stream",
     "text": [
      "100%|██████████| 64/64 [00:00<00:00, 201376.94it/s]\n",
      "100%|██████████| 64/64 [00:00<00:00, 91.57it/s]\n",
      "100%|██████████| 64/64 [00:00<00:00, 92.36it/s]\n",
      "100%|██████████| 64/64 [00:00<00:00, 99.22it/s]\n",
      "100%|██████████| 64/64 [00:00<00:00, 2076.02it/s]\n",
      "100%|██████████| 64/64 [00:00<00:00, 174.05it/s]\n",
      "100%|██████████| 64/64 [00:00<00:00, 146.12it/s]\n",
      "100%|██████████| 64/64 [00:08<00:00,  7.82it/s]\n",
      "100%|██████████| 64/64 [00:00<00:00, 3659.25it/s]\n",
      "100%|██████████| 64/64 [00:00<00:00, 1374.68it/s]\n",
      "100%|██████████| 64/64 [00:00<00:00, 1351.97it/s]\n",
      "100%|██████████| 64/64 [00:00<00:00, 4936.56it/s]\n"
     ]
    },
    {
     "name": "stdout",
     "output_type": "stream",
     "text": [
      "(1, 3329)\n",
      "(41, 3330)\n"
     ]
    },
    {
     "name": "stderr",
     "output_type": "stream",
     "text": [
      "100%|██████████| 64/64 [00:00<00:00, 158743.62it/s]\n",
      "100%|██████████| 64/64 [00:00<00:00, 92.10it/s]\n",
      "100%|██████████| 64/64 [00:00<00:00, 92.32it/s]\n",
      "100%|██████████| 64/64 [00:00<00:00, 98.11it/s]\n",
      "100%|██████████| 64/64 [00:00<00:00, 2237.30it/s]\n",
      "100%|██████████| 64/64 [00:00<00:00, 179.82it/s]\n",
      "100%|██████████| 64/64 [00:00<00:00, 140.66it/s]\n",
      "100%|██████████| 64/64 [00:08<00:00,  7.63it/s]\n",
      "100%|██████████| 64/64 [00:00<00:00, 3590.68it/s]\n",
      "100%|██████████| 64/64 [00:00<00:00, 1399.92it/s]\n",
      "100%|██████████| 64/64 [00:00<00:00, 1327.65it/s]\n",
      "100%|██████████| 64/64 [00:00<00:00, 6707.87it/s]\n"
     ]
    },
    {
     "name": "stdout",
     "output_type": "stream",
     "text": [
      "(1, 3329)\n",
      "(42, 3330)\n"
     ]
    },
    {
     "name": "stderr",
     "output_type": "stream",
     "text": [
      "100%|██████████| 64/64 [00:00<00:00, 131457.13it/s]\n",
      "100%|██████████| 64/64 [00:00<00:00, 92.03it/s]\n",
      "100%|██████████| 64/64 [00:00<00:00, 96.30it/s]\n",
      "100%|██████████| 64/64 [00:00<00:00, 100.33it/s]\n",
      "100%|██████████| 64/64 [00:00<00:00, 2157.11it/s]\n",
      "100%|██████████| 64/64 [00:00<00:00, 179.45it/s]\n",
      "100%|██████████| 64/64 [00:00<00:00, 147.56it/s]\n",
      "100%|██████████| 64/64 [00:08<00:00,  7.78it/s]\n",
      "100%|██████████| 64/64 [00:00<00:00, 2716.27it/s]\n",
      "100%|██████████| 64/64 [00:00<00:00, 1089.25it/s]\n",
      "100%|██████████| 64/64 [00:00<00:00, 1221.74it/s]\n",
      "100%|██████████| 64/64 [00:00<00:00, 7421.70it/s]\n"
     ]
    },
    {
     "name": "stdout",
     "output_type": "stream",
     "text": [
      "(1, 3329)\n",
      "(43, 3330)\n"
     ]
    },
    {
     "name": "stderr",
     "output_type": "stream",
     "text": [
      "100%|██████████| 64/64 [00:00<00:00, 196368.29it/s]\n",
      "100%|██████████| 64/64 [00:00<00:00, 94.36it/s]\n",
      "100%|██████████| 64/64 [00:00<00:00, 97.11it/s]\n",
      "100%|██████████| 64/64 [00:00<00:00, 101.35it/s]\n",
      "100%|██████████| 64/64 [00:00<00:00, 2196.26it/s]\n",
      "100%|██████████| 64/64 [00:00<00:00, 183.39it/s]\n",
      "100%|██████████| 64/64 [00:00<00:00, 147.32it/s]\n",
      "100%|██████████| 64/64 [00:08<00:00,  7.78it/s]\n",
      "100%|██████████| 64/64 [00:00<00:00, 2780.85it/s]\n",
      "100%|██████████| 64/64 [00:00<00:00, 1419.04it/s]\n",
      "100%|██████████| 64/64 [00:00<00:00, 1305.56it/s]\n",
      "100%|██████████| 64/64 [00:00<00:00, 7786.61it/s]\n"
     ]
    },
    {
     "name": "stdout",
     "output_type": "stream",
     "text": [
      "(1, 3329)\n",
      "(44, 3330)\n"
     ]
    },
    {
     "name": "stderr",
     "output_type": "stream",
     "text": [
      "100%|██████████| 64/64 [00:00<00:00, 67752.51it/s]\n",
      "100%|██████████| 64/64 [00:00<00:00, 91.53it/s]\n",
      "100%|██████████| 64/64 [00:00<00:00, 95.83it/s]\n",
      "100%|██████████| 64/64 [00:00<00:00, 94.67it/s]\n",
      "100%|██████████| 64/64 [00:00<00:00, 2264.17it/s]\n",
      "100%|██████████| 64/64 [00:00<00:00, 187.77it/s]\n",
      "100%|██████████| 64/64 [00:00<00:00, 150.47it/s]\n",
      "100%|██████████| 64/64 [00:08<00:00,  7.79it/s]\n",
      "100%|██████████| 64/64 [00:00<00:00, 3519.96it/s]\n",
      "100%|██████████| 64/64 [00:00<00:00, 1342.98it/s]\n",
      "100%|██████████| 64/64 [00:00<00:00, 1284.26it/s]\n",
      "100%|██████████| 64/64 [00:00<00:00, 10496.42it/s]\n"
     ]
    },
    {
     "name": "stdout",
     "output_type": "stream",
     "text": [
      "(1, 3329)\n",
      "(45, 3330)\n"
     ]
    },
    {
     "name": "stderr",
     "output_type": "stream",
     "text": [
      "100%|██████████| 64/64 [00:00<00:00, 50724.76it/s]\n",
      "100%|██████████| 64/64 [00:00<00:00, 92.25it/s]\n",
      "100%|██████████| 64/64 [00:00<00:00, 96.74it/s]\n",
      "100%|██████████| 64/64 [00:00<00:00, 99.33it/s]\n",
      "100%|██████████| 64/64 [00:00<00:00, 2189.92it/s]\n",
      "100%|██████████| 64/64 [00:00<00:00, 182.69it/s]\n",
      "100%|██████████| 64/64 [00:00<00:00, 140.45it/s]\n",
      "100%|██████████| 64/64 [00:08<00:00,  7.80it/s]\n",
      "100%|██████████| 64/64 [00:00<00:00, 3011.46it/s]\n",
      "100%|██████████| 64/64 [00:00<00:00, 1227.09it/s]\n",
      "100%|██████████| 64/64 [00:00<00:00, 1100.12it/s]\n",
      "100%|██████████| 64/64 [00:00<00:00, 7081.80it/s]\n"
     ]
    },
    {
     "name": "stdout",
     "output_type": "stream",
     "text": [
      "(1, 3329)\n",
      "(46, 3330)\n"
     ]
    },
    {
     "name": "stderr",
     "output_type": "stream",
     "text": [
      "100%|██████████| 64/64 [00:00<00:00, 91553.70it/s]\n",
      "100%|██████████| 64/64 [00:00<00:00, 91.18it/s]\n",
      "100%|██████████| 64/64 [00:00<00:00, 93.58it/s]\n",
      "100%|██████████| 64/64 [00:00<00:00, 96.28it/s]\n",
      "100%|██████████| 64/64 [00:00<00:00, 2158.34it/s]\n",
      "100%|██████████| 64/64 [00:00<00:00, 180.95it/s]\n",
      "100%|██████████| 64/64 [00:00<00:00, 149.54it/s]\n",
      "100%|██████████| 64/64 [00:08<00:00,  7.84it/s]\n",
      "100%|██████████| 64/64 [00:00<00:00, 3571.38it/s]\n",
      "100%|██████████| 64/64 [00:00<00:00, 1398.28it/s]\n",
      "100%|██████████| 64/64 [00:00<00:00, 1280.25it/s]\n",
      "100%|██████████| 64/64 [00:00<00:00, 6306.63it/s]\n"
     ]
    },
    {
     "name": "stdout",
     "output_type": "stream",
     "text": [
      "(1, 3329)\n",
      "(47, 3330)\n"
     ]
    },
    {
     "name": "stderr",
     "output_type": "stream",
     "text": [
      "100%|██████████| 64/64 [00:00<00:00, 153041.88it/s]\n",
      "100%|██████████| 64/64 [00:00<00:00, 91.08it/s]\n",
      "100%|██████████| 64/64 [00:00<00:00, 96.95it/s]\n",
      "100%|██████████| 64/64 [00:00<00:00, 99.04it/s]\n",
      "100%|██████████| 64/64 [00:00<00:00, 2071.77it/s]\n",
      "100%|██████████| 64/64 [00:00<00:00, 184.13it/s]\n",
      "100%|██████████| 64/64 [00:00<00:00, 148.83it/s]\n",
      "100%|██████████| 64/64 [00:08<00:00,  7.85it/s]\n",
      "100%|██████████| 64/64 [00:00<00:00, 3429.74it/s]\n",
      "100%|██████████| 64/64 [00:00<00:00, 1301.68it/s]\n",
      "100%|██████████| 64/64 [00:00<00:00, 1280.62it/s]\n",
      "100%|██████████| 64/64 [00:00<00:00, 4447.46it/s]\n"
     ]
    },
    {
     "name": "stdout",
     "output_type": "stream",
     "text": [
      "(1, 3329)\n",
      "(48, 3330)\n"
     ]
    },
    {
     "name": "stderr",
     "output_type": "stream",
     "text": [
      "100%|██████████| 64/64 [00:00<00:00, 116508.44it/s]\n",
      "100%|██████████| 64/64 [00:00<00:00, 90.09it/s]\n",
      "100%|██████████| 64/64 [00:00<00:00, 92.75it/s]\n",
      "100%|██████████| 64/64 [00:00<00:00, 99.39it/s]\n",
      "100%|██████████| 64/64 [00:00<00:00, 2285.28it/s]\n",
      "100%|██████████| 64/64 [00:00<00:00, 179.31it/s]\n",
      "100%|██████████| 64/64 [00:00<00:00, 145.35it/s]\n",
      "100%|██████████| 64/64 [00:08<00:00,  7.75it/s]\n",
      "100%|██████████| 64/64 [00:00<00:00, 3313.77it/s]\n",
      "100%|██████████| 64/64 [00:00<00:00, 1381.91it/s]\n",
      "100%|██████████| 64/64 [00:00<00:00, 1315.89it/s]\n",
      "100%|██████████| 64/64 [00:00<00:00, 5826.18it/s]\n"
     ]
    },
    {
     "name": "stdout",
     "output_type": "stream",
     "text": [
      "(1, 3329)\n",
      "(49, 3330)\n"
     ]
    },
    {
     "name": "stderr",
     "output_type": "stream",
     "text": [
      "100%|██████████| 64/64 [00:00<00:00, 121080.49it/s]\n",
      "100%|██████████| 64/64 [00:00<00:00, 93.28it/s]\n",
      "100%|██████████| 64/64 [00:00<00:00, 94.73it/s]\n",
      "100%|██████████| 64/64 [00:00<00:00, 97.96it/s]\n",
      "100%|██████████| 64/64 [00:00<00:00, 2215.67it/s]\n",
      "100%|██████████| 64/64 [00:00<00:00, 181.54it/s]\n",
      "100%|██████████| 64/64 [00:00<00:00, 151.58it/s]\n",
      "100%|██████████| 64/64 [00:08<00:00,  7.83it/s]\n",
      "100%|██████████| 64/64 [00:00<00:00, 3491.93it/s]\n",
      "100%|██████████| 64/64 [00:00<00:00, 1361.77it/s]\n",
      "100%|██████████| 64/64 [00:00<00:00, 1330.39it/s]\n",
      "100%|██████████| 64/64 [00:00<00:00, 6963.13it/s]\n"
     ]
    },
    {
     "name": "stdout",
     "output_type": "stream",
     "text": [
      "(1, 3329)\n",
      "(50, 3330)\n"
     ]
    },
    {
     "name": "stderr",
     "output_type": "stream",
     "text": [
      "100%|██████████| 64/64 [00:00<00:00, 121960.68it/s]\n",
      "100%|██████████| 64/64 [00:00<00:00, 88.77it/s]\n",
      "100%|██████████| 64/64 [00:00<00:00, 95.03it/s]\n",
      "100%|██████████| 64/64 [00:00<00:00, 99.31it/s]\n",
      "100%|██████████| 64/64 [00:00<00:00, 2264.19it/s]\n",
      "100%|██████████| 64/64 [00:00<00:00, 179.17it/s]\n",
      "100%|██████████| 64/64 [00:00<00:00, 144.34it/s]\n",
      "100%|██████████| 64/64 [00:08<00:00,  7.81it/s]\n",
      "100%|██████████| 64/64 [00:00<00:00, 3004.28it/s]\n",
      "100%|██████████| 64/64 [00:00<00:00, 1308.65it/s]\n",
      "100%|██████████| 64/64 [00:00<00:00, 1281.41it/s]\n",
      "100%|██████████| 64/64 [00:00<00:00, 5385.40it/s]\n"
     ]
    },
    {
     "name": "stdout",
     "output_type": "stream",
     "text": [
      "(1, 3329)\n",
      "(51, 3330)\n"
     ]
    },
    {
     "name": "stderr",
     "output_type": "stream",
     "text": [
      "100%|██████████| 64/64 [00:00<00:00, 67260.20it/s]\n",
      "100%|██████████| 64/64 [00:00<00:00, 91.81it/s]\n",
      "100%|██████████| 64/64 [00:00<00:00, 94.24it/s]\n",
      "100%|██████████| 64/64 [00:00<00:00, 97.30it/s]\n",
      "100%|██████████| 64/64 [00:00<00:00, 2265.49it/s]\n",
      "100%|██████████| 64/64 [00:00<00:00, 182.75it/s]\n",
      "100%|██████████| 64/64 [00:00<00:00, 147.88it/s]\n",
      "100%|██████████| 64/64 [00:08<00:00,  7.76it/s]\n",
      "100%|██████████| 64/64 [00:00<00:00, 3172.62it/s]\n",
      "100%|██████████| 64/64 [00:00<00:00, 1176.66it/s]\n",
      "100%|██████████| 64/64 [00:00<00:00, 1301.00it/s]\n",
      "100%|██████████| 64/64 [00:00<00:00, 7612.17it/s]\n"
     ]
    },
    {
     "name": "stdout",
     "output_type": "stream",
     "text": [
      "(1, 3329)\n",
      "(52, 3330)\n"
     ]
    },
    {
     "name": "stderr",
     "output_type": "stream",
     "text": [
      "100%|██████████| 64/64 [00:00<00:00, 51267.28it/s]\n",
      "100%|██████████| 64/64 [00:00<00:00, 92.48it/s]\n",
      "100%|██████████| 64/64 [00:00<00:00, 97.02it/s]\n",
      "100%|██████████| 64/64 [00:00<00:00, 99.05it/s]\n",
      "100%|██████████| 64/64 [00:00<00:00, 2294.63it/s]\n",
      "100%|██████████| 64/64 [00:00<00:00, 184.15it/s]\n",
      "100%|██████████| 64/64 [00:00<00:00, 144.00it/s]\n",
      "100%|██████████| 64/64 [00:08<00:00,  7.80it/s]\n",
      "100%|██████████| 64/64 [00:00<00:00, 3263.61it/s]\n",
      "100%|██████████| 64/64 [00:00<00:00, 1320.83it/s]\n",
      "100%|██████████| 64/64 [00:00<00:00, 1333.38it/s]\n",
      "100%|██████████| 64/64 [00:00<00:00, 7035.76it/s]\n"
     ]
    },
    {
     "name": "stdout",
     "output_type": "stream",
     "text": [
      "(1, 3329)\n",
      "(53, 3330)\n"
     ]
    },
    {
     "name": "stderr",
     "output_type": "stream",
     "text": [
      "100%|██████████| 64/64 [00:00<00:00, 48003.48it/s]\n",
      "100%|██████████| 64/64 [00:00<00:00, 92.42it/s]\n",
      "100%|██████████| 64/64 [00:00<00:00, 95.86it/s]\n",
      "100%|██████████| 64/64 [00:00<00:00, 99.46it/s] \n",
      "100%|██████████| 64/64 [00:00<00:00, 2285.63it/s]\n",
      "100%|██████████| 64/64 [00:00<00:00, 175.24it/s]\n",
      "100%|██████████| 64/64 [00:00<00:00, 145.98it/s]\n",
      "100%|██████████| 64/64 [00:08<00:00,  7.79it/s]\n",
      "100%|██████████| 64/64 [00:00<00:00, 3512.96it/s]\n",
      "100%|██████████| 64/64 [00:00<00:00, 1384.36it/s]\n",
      "100%|██████████| 64/64 [00:00<00:00, 1217.62it/s]\n",
      "100%|██████████| 64/64 [00:00<00:00, 7242.29it/s]\n"
     ]
    },
    {
     "name": "stdout",
     "output_type": "stream",
     "text": [
      "(1, 3329)\n",
      "(54, 3330)\n"
     ]
    },
    {
     "name": "stderr",
     "output_type": "stream",
     "text": [
      "100%|██████████| 64/64 [00:00<00:00, 104653.20it/s]\n",
      "100%|██████████| 64/64 [00:00<00:00, 93.29it/s]\n",
      "100%|██████████| 64/64 [00:00<00:00, 94.00it/s]\n",
      "100%|██████████| 64/64 [00:00<00:00, 96.22it/s]\n",
      "100%|██████████| 64/64 [00:00<00:00, 2331.42it/s]\n",
      "100%|██████████| 64/64 [00:00<00:00, 180.69it/s]\n",
      "100%|██████████| 64/64 [00:00<00:00, 152.67it/s]\n",
      "100%|██████████| 64/64 [00:08<00:00,  7.73it/s]\n",
      "100%|██████████| 64/64 [00:00<00:00, 3592.22it/s]\n",
      "100%|██████████| 64/64 [00:00<00:00, 1185.87it/s]\n",
      "100%|██████████| 64/64 [00:00<00:00, 1129.31it/s]\n",
      "100%|██████████| 64/64 [00:00<00:00, 7568.60it/s]\n"
     ]
    },
    {
     "name": "stdout",
     "output_type": "stream",
     "text": [
      "(1, 3329)\n",
      "(55, 3330)\n"
     ]
    },
    {
     "name": "stderr",
     "output_type": "stream",
     "text": [
      "100%|██████████| 64/64 [00:00<00:00, 80442.15it/s]\n",
      "100%|██████████| 64/64 [00:00<00:00, 91.47it/s]\n",
      "100%|██████████| 64/64 [00:00<00:00, 93.88it/s]\n",
      "100%|██████████| 64/64 [00:00<00:00, 98.60it/s]\n",
      "100%|██████████| 64/64 [00:00<00:00, 2259.23it/s]\n",
      "100%|██████████| 64/64 [00:00<00:00, 184.50it/s]\n",
      "100%|██████████| 64/64 [00:00<00:00, 142.64it/s]\n",
      "100%|██████████| 64/64 [00:08<00:00,  7.62it/s]\n",
      "100%|██████████| 64/64 [00:00<00:00, 2946.67it/s]\n",
      "100%|██████████| 64/64 [00:00<00:00, 1356.07it/s]\n",
      "100%|██████████| 64/64 [00:00<00:00, 1308.74it/s]\n",
      "100%|██████████| 64/64 [00:00<00:00, 5206.17it/s]\n"
     ]
    },
    {
     "name": "stdout",
     "output_type": "stream",
     "text": [
      "(1, 3329)\n",
      "(56, 3330)\n"
     ]
    },
    {
     "name": "stderr",
     "output_type": "stream",
     "text": [
      "100%|██████████| 64/64 [00:00<00:00, 65392.32it/s]\n",
      "100%|██████████| 64/64 [00:00<00:00, 91.79it/s]\n",
      "100%|██████████| 64/64 [00:00<00:00, 95.74it/s]\n",
      "100%|██████████| 64/64 [00:00<00:00, 99.60it/s]\n",
      "100%|██████████| 64/64 [00:00<00:00, 2254.30it/s]\n",
      "100%|██████████| 64/64 [00:00<00:00, 176.86it/s]\n",
      "100%|██████████| 64/64 [00:00<00:00, 143.92it/s]\n",
      "100%|██████████| 64/64 [00:08<00:00,  7.77it/s]\n",
      "100%|██████████| 64/64 [00:00<00:00, 2812.46it/s]\n",
      "100%|██████████| 64/64 [00:00<00:00, 1318.83it/s]\n",
      "100%|██████████| 64/64 [00:00<00:00, 1127.62it/s]\n",
      "100%|██████████| 64/64 [00:00<00:00, 7466.08it/s]\n"
     ]
    },
    {
     "name": "stdout",
     "output_type": "stream",
     "text": [
      "(1, 3329)\n",
      "(57, 3330)\n"
     ]
    },
    {
     "name": "stderr",
     "output_type": "stream",
     "text": [
      "100%|██████████| 64/64 [00:00<00:00, 22693.00it/s]\n",
      "100%|██████████| 64/64 [00:00<00:00, 90.70it/s]\n",
      "100%|██████████| 64/64 [00:00<00:00, 97.98it/s]\n",
      "100%|██████████| 64/64 [00:00<00:00, 93.68it/s]\n",
      "100%|██████████| 64/64 [00:00<00:00, 2230.68it/s]\n",
      "100%|██████████| 64/64 [00:00<00:00, 186.97it/s]\n",
      "100%|██████████| 64/64 [00:00<00:00, 145.38it/s]\n",
      "100%|██████████| 64/64 [00:08<00:00,  7.82it/s]\n",
      "100%|██████████| 64/64 [00:00<00:00, 2732.56it/s]\n",
      "100%|██████████| 64/64 [00:00<00:00, 1266.58it/s]\n",
      "100%|██████████| 64/64 [00:00<00:00, 1288.30it/s]\n",
      "100%|██████████| 64/64 [00:00<00:00, 7018.84it/s]\n"
     ]
    },
    {
     "name": "stdout",
     "output_type": "stream",
     "text": [
      "(1, 3329)\n",
      "(58, 3330)\n"
     ]
    },
    {
     "name": "stderr",
     "output_type": "stream",
     "text": [
      "100%|██████████| 64/64 [00:00<00:00, 83702.98it/s]\n",
      "100%|██████████| 64/64 [00:00<00:00, 92.01it/s]\n",
      "100%|██████████| 64/64 [00:00<00:00, 91.19it/s]\n",
      "100%|██████████| 64/64 [00:00<00:00, 100.99it/s]\n",
      "100%|██████████| 64/64 [00:00<00:00, 2144.86it/s]\n",
      "100%|██████████| 64/64 [00:00<00:00, 180.08it/s]\n",
      "100%|██████████| 64/64 [00:00<00:00, 152.05it/s]\n",
      "100%|██████████| 64/64 [00:08<00:00,  7.82it/s]\n",
      "100%|██████████| 64/64 [00:00<00:00, 3428.12it/s]\n",
      "100%|██████████| 64/64 [00:00<00:00, 1353.60it/s]\n",
      "100%|██████████| 64/64 [00:00<00:00, 1189.24it/s]\n",
      "100%|██████████| 64/64 [00:00<00:00, 7505.53it/s]\n"
     ]
    },
    {
     "name": "stdout",
     "output_type": "stream",
     "text": [
      "(1, 3329)\n",
      "(59, 3330)\n"
     ]
    },
    {
     "name": "stderr",
     "output_type": "stream",
     "text": [
      "100%|██████████| 64/64 [00:00<00:00, 48029.25it/s]\n",
      "100%|██████████| 64/64 [00:00<00:00, 90.57it/s]\n",
      "100%|██████████| 64/64 [00:00<00:00, 93.03it/s]\n",
      "100%|██████████| 64/64 [00:00<00:00, 98.26it/s]\n",
      "100%|██████████| 64/64 [00:00<00:00, 2171.23it/s]\n",
      "100%|██████████| 64/64 [00:00<00:00, 182.67it/s]\n",
      "100%|██████████| 64/64 [00:00<00:00, 145.90it/s]\n",
      "100%|██████████| 64/64 [00:08<00:00,  7.74it/s]\n",
      "100%|██████████| 64/64 [00:00<00:00, 3366.89it/s]\n",
      "100%|██████████| 64/64 [00:00<00:00, 1336.84it/s]\n",
      "100%|██████████| 64/64 [00:00<00:00, 1249.16it/s]\n",
      "100%|██████████| 64/64 [00:00<00:00, 6715.25it/s]\n"
     ]
    },
    {
     "name": "stdout",
     "output_type": "stream",
     "text": [
      "(1, 3329)\n",
      "(60, 3330)\n"
     ]
    },
    {
     "name": "stderr",
     "output_type": "stream",
     "text": [
      "100%|██████████| 64/64 [00:00<00:00, 65841.42it/s]\n",
      "100%|██████████| 64/64 [00:00<00:00, 92.35it/s]\n",
      "100%|██████████| 64/64 [00:00<00:00, 96.43it/s]\n",
      "100%|██████████| 64/64 [00:00<00:00, 95.45it/s]\n",
      "100%|██████████| 64/64 [00:00<00:00, 2331.10it/s]\n",
      "100%|██████████| 64/64 [00:00<00:00, 180.48it/s]\n",
      "100%|██████████| 64/64 [00:00<00:00, 145.32it/s]\n",
      "100%|██████████| 64/64 [00:08<00:00,  7.79it/s]\n",
      "100%|██████████| 64/64 [00:00<00:00, 3477.68it/s]\n",
      "100%|██████████| 64/64 [00:00<00:00, 1357.99it/s]\n",
      "100%|██████████| 64/64 [00:00<00:00, 1310.45it/s]\n",
      "100%|██████████| 64/64 [00:00<00:00, 7152.18it/s]\n"
     ]
    },
    {
     "name": "stdout",
     "output_type": "stream",
     "text": [
      "(1, 3329)\n",
      "(61, 3330)\n"
     ]
    },
    {
     "name": "stderr",
     "output_type": "stream",
     "text": [
      "100%|██████████| 64/64 [00:00<00:00, 21334.88it/s]\n",
      "100%|██████████| 64/64 [00:00<00:00, 95.50it/s]\n",
      "100%|██████████| 64/64 [00:00<00:00, 93.51it/s]\n",
      "100%|██████████| 64/64 [00:00<00:00, 101.55it/s]\n",
      "100%|██████████| 64/64 [00:00<00:00, 2141.76it/s]\n",
      "100%|██████████| 64/64 [00:00<00:00, 171.86it/s]\n",
      "100%|██████████| 64/64 [00:00<00:00, 147.82it/s]\n",
      "100%|██████████| 64/64 [00:08<00:00,  7.72it/s]\n",
      "100%|██████████| 64/64 [00:00<00:00, 3442.89it/s]\n",
      "100%|██████████| 64/64 [00:00<00:00, 1333.98it/s]\n",
      "100%|██████████| 64/64 [00:00<00:00, 1032.30it/s]\n",
      "100%|██████████| 64/64 [00:00<00:00, 7377.44it/s]\n"
     ]
    },
    {
     "name": "stdout",
     "output_type": "stream",
     "text": [
      "(1, 3329)\n",
      "(62, 3330)\n"
     ]
    },
    {
     "name": "stderr",
     "output_type": "stream",
     "text": [
      "100%|██████████| 64/64 [00:00<00:00, 63057.42it/s]\n",
      "100%|██████████| 64/64 [00:00<00:00, 90.74it/s]\n",
      "100%|██████████| 64/64 [00:00<00:00, 94.11it/s]\n",
      "100%|██████████| 64/64 [00:00<00:00, 93.00it/s]\n",
      "100%|██████████| 64/64 [00:00<00:00, 2171.83it/s]\n",
      "100%|██████████| 64/64 [00:00<00:00, 182.89it/s]\n",
      "100%|██████████| 64/64 [00:00<00:00, 143.85it/s]\n",
      "100%|██████████| 64/64 [00:08<00:00,  7.69it/s]\n",
      "100%|██████████| 64/64 [00:00<00:00, 3506.71it/s]\n",
      "100%|██████████| 64/64 [00:00<00:00, 1257.45it/s]\n",
      "100%|██████████| 64/64 [00:00<00:00, 1255.79it/s]\n",
      "100%|██████████| 64/64 [00:00<00:00, 6572.21it/s]\n"
     ]
    },
    {
     "name": "stdout",
     "output_type": "stream",
     "text": [
      "(1, 3329)\n",
      "(63, 3330)\n"
     ]
    },
    {
     "name": "stderr",
     "output_type": "stream",
     "text": [
      "100%|██████████| 64/64 [00:00<00:00, 94486.26it/s]\n",
      "100%|██████████| 64/64 [00:00<00:00, 91.06it/s]\n",
      "100%|██████████| 64/64 [00:00<00:00, 95.09it/s]\n",
      "100%|██████████| 64/64 [00:00<00:00, 101.64it/s]\n",
      "100%|██████████| 64/64 [00:00<00:00, 2211.62it/s]\n",
      "100%|██████████| 64/64 [00:00<00:00, 176.33it/s]\n",
      "100%|██████████| 64/64 [00:00<00:00, 147.22it/s]\n",
      "100%|██████████| 64/64 [00:08<00:00,  7.73it/s]\n",
      "100%|██████████| 64/64 [00:00<00:00, 3483.91it/s]\n",
      "100%|██████████| 64/64 [00:00<00:00, 1417.09it/s]\n",
      "100%|██████████| 64/64 [00:00<00:00, 1106.74it/s]\n",
      "100%|██████████| 64/64 [00:00<00:00, 6636.72it/s]\n"
     ]
    },
    {
     "name": "stdout",
     "output_type": "stream",
     "text": [
      "(1, 3329)\n",
      "(64, 3330)\n"
     ]
    },
    {
     "name": "stderr",
     "output_type": "stream",
     "text": [
      "100%|██████████| 64/64 [00:00<00:00, 99053.67it/s]\n",
      "100%|██████████| 64/64 [00:00<00:00, 93.13it/s]\n",
      "100%|██████████| 64/64 [00:00<00:00, 94.02it/s]\n",
      "100%|██████████| 64/64 [00:00<00:00, 98.14it/s]\n",
      "100%|██████████| 64/64 [00:00<00:00, 2241.31it/s]\n",
      "100%|██████████| 64/64 [00:00<00:00, 184.16it/s]\n",
      "100%|██████████| 64/64 [00:00<00:00, 142.70it/s]\n",
      "100%|██████████| 64/64 [00:08<00:00,  7.75it/s]\n",
      "100%|██████████| 64/64 [00:00<00:00, 3514.66it/s]\n",
      "100%|██████████| 64/64 [00:00<00:00, 1391.22it/s]\n",
      "100%|██████████| 64/64 [00:00<00:00, 1325.93it/s]\n",
      "100%|██████████| 64/64 [00:00<00:00, 6266.44it/s]\n"
     ]
    },
    {
     "name": "stdout",
     "output_type": "stream",
     "text": [
      "(1, 3329)\n",
      "(65, 3330)\n"
     ]
    },
    {
     "name": "stderr",
     "output_type": "stream",
     "text": [
      "100%|██████████| 64/64 [00:00<00:00, 82850.45it/s]\n",
      "100%|██████████| 64/64 [00:00<00:00, 90.43it/s]\n",
      "100%|██████████| 64/64 [00:00<00:00, 94.03it/s]\n",
      "100%|██████████| 64/64 [00:00<00:00, 98.22it/s]\n",
      "100%|██████████| 64/64 [00:00<00:00, 2312.21it/s]\n",
      "100%|██████████| 64/64 [00:00<00:00, 175.84it/s]\n",
      "100%|██████████| 64/64 [00:00<00:00, 151.24it/s]\n",
      "100%|██████████| 64/64 [00:08<00:00,  7.81it/s]\n",
      "100%|██████████| 64/64 [00:00<00:00, 3473.05it/s]\n",
      "100%|██████████| 64/64 [00:00<00:00, 1370.51it/s]\n",
      "100%|██████████| 64/64 [00:00<00:00, 1357.10it/s]\n",
      "100%|██████████| 64/64 [00:00<00:00, 5940.81it/s]\n"
     ]
    },
    {
     "name": "stdout",
     "output_type": "stream",
     "text": [
      "(1, 3329)\n",
      "(66, 3330)\n"
     ]
    },
    {
     "name": "stderr",
     "output_type": "stream",
     "text": [
      "100%|██████████| 64/64 [00:00<00:00, 76368.55it/s]\n",
      "100%|██████████| 64/64 [00:00<00:00, 92.02it/s]\n",
      "100%|██████████| 64/64 [00:00<00:00, 94.43it/s]\n",
      "100%|██████████| 64/64 [00:00<00:00, 99.40it/s]\n",
      "100%|██████████| 64/64 [00:00<00:00, 2109.26it/s]\n",
      "100%|██████████| 64/64 [00:00<00:00, 179.72it/s]\n",
      "100%|██████████| 64/64 [00:00<00:00, 148.74it/s]\n",
      "100%|██████████| 64/64 [00:08<00:00,  7.77it/s]\n",
      "100%|██████████| 64/64 [00:00<00:00, 3269.42it/s]\n",
      "100%|██████████| 64/64 [00:00<00:00, 1217.29it/s]\n",
      "100%|██████████| 64/64 [00:00<00:00, 1127.36it/s]\n",
      "100%|██████████| 64/64 [00:00<00:00, 8068.64it/s]\n"
     ]
    },
    {
     "name": "stdout",
     "output_type": "stream",
     "text": [
      "(1, 3329)\n",
      "(67, 3330)\n"
     ]
    },
    {
     "name": "stderr",
     "output_type": "stream",
     "text": [
      "100%|██████████| 64/64 [00:00<00:00, 27872.02it/s]\n",
      "100%|██████████| 64/64 [00:00<00:00, 90.00it/s]\n",
      "100%|██████████| 64/64 [00:00<00:00, 95.57it/s]\n",
      "100%|██████████| 64/64 [00:00<00:00, 97.40it/s]\n",
      "100%|██████████| 64/64 [00:00<00:00, 2309.80it/s]\n",
      "100%|██████████| 64/64 [00:00<00:00, 181.03it/s]\n",
      "100%|██████████| 64/64 [00:00<00:00, 142.88it/s]\n",
      "100%|██████████| 64/64 [00:08<00:00,  7.69it/s]\n",
      "100%|██████████| 64/64 [00:00<00:00, 3204.36it/s]\n",
      "100%|██████████| 64/64 [00:00<00:00, 1314.19it/s]\n",
      "100%|██████████| 64/64 [00:00<00:00, 1316.07it/s]\n",
      "100%|██████████| 64/64 [00:00<00:00, 7357.42it/s]\n"
     ]
    },
    {
     "name": "stdout",
     "output_type": "stream",
     "text": [
      "(1, 3329)\n",
      "(68, 3330)\n"
     ]
    },
    {
     "name": "stderr",
     "output_type": "stream",
     "text": [
      "100%|██████████| 64/64 [00:00<00:00, 213552.47it/s]\n",
      "100%|██████████| 64/64 [00:00<00:00, 89.47it/s]\n",
      "100%|██████████| 64/64 [00:00<00:00, 90.77it/s]\n",
      "100%|██████████| 64/64 [00:00<00:00, 99.35it/s]\n",
      "100%|██████████| 64/64 [00:00<00:00, 2049.61it/s]\n",
      "100%|██████████| 64/64 [00:00<00:00, 173.16it/s]\n",
      "100%|██████████| 64/64 [00:00<00:00, 139.16it/s]\n",
      "100%|██████████| 64/64 [00:08<00:00,  7.71it/s]\n",
      "100%|██████████| 64/64 [00:00<00:00, 2577.02it/s]\n",
      "100%|██████████| 64/64 [00:00<00:00, 1307.48it/s]\n",
      "100%|██████████| 64/64 [00:00<00:00, 1289.12it/s]\n",
      "100%|██████████| 64/64 [00:00<00:00, 6852.21it/s]\n"
     ]
    },
    {
     "name": "stdout",
     "output_type": "stream",
     "text": [
      "(1, 3329)\n",
      "(69, 3330)\n"
     ]
    },
    {
     "name": "stderr",
     "output_type": "stream",
     "text": [
      "100%|██████████| 64/64 [00:00<00:00, 76303.43it/s]\n",
      "100%|██████████| 64/64 [00:00<00:00, 91.87it/s]\n",
      "100%|██████████| 64/64 [00:00<00:00, 93.03it/s]\n",
      "100%|██████████| 64/64 [00:00<00:00, 94.74it/s]\n",
      "100%|██████████| 64/64 [00:00<00:00, 2200.80it/s]\n",
      "100%|██████████| 64/64 [00:00<00:00, 174.71it/s]\n",
      "100%|██████████| 64/64 [00:00<00:00, 145.51it/s]\n",
      "100%|██████████| 64/64 [00:08<00:00,  7.77it/s]\n",
      "100%|██████████| 64/64 [00:00<00:00, 3611.01it/s]\n",
      "100%|██████████| 64/64 [00:00<00:00, 1383.54it/s]\n",
      "100%|██████████| 64/64 [00:00<00:00, 1282.64it/s]\n",
      "100%|██████████| 64/64 [00:00<00:00, 6882.61it/s]\n"
     ]
    },
    {
     "name": "stdout",
     "output_type": "stream",
     "text": [
      "(1, 3329)\n",
      "(70, 3330)\n"
     ]
    },
    {
     "name": "stderr",
     "output_type": "stream",
     "text": [
      "100%|██████████| 64/64 [00:00<00:00, 207928.32it/s]\n",
      "100%|██████████| 64/64 [00:00<00:00, 90.42it/s]\n",
      "100%|██████████| 64/64 [00:00<00:00, 92.94it/s]\n",
      "100%|██████████| 64/64 [00:00<00:00, 99.60it/s]\n",
      "100%|██████████| 64/64 [00:00<00:00, 1739.73it/s]\n",
      "100%|██████████| 64/64 [00:00<00:00, 178.28it/s]\n",
      "100%|██████████| 64/64 [00:00<00:00, 148.44it/s]\n",
      "100%|██████████| 64/64 [00:08<00:00,  7.74it/s]\n",
      "100%|██████████| 64/64 [00:00<00:00, 3590.77it/s]\n",
      "100%|██████████| 64/64 [00:00<00:00, 1371.25it/s]\n",
      "100%|██████████| 64/64 [00:00<00:00, 924.55it/s]\n",
      "100%|██████████| 64/64 [00:00<00:00, 5098.88it/s]\n"
     ]
    },
    {
     "name": "stdout",
     "output_type": "stream",
     "text": [
      "(1, 3329)\n",
      "(71, 3330)\n"
     ]
    },
    {
     "name": "stderr",
     "output_type": "stream",
     "text": [
      "100%|██████████| 64/64 [00:00<00:00, 149130.81it/s]\n",
      "100%|██████████| 64/64 [00:00<00:00, 91.86it/s]\n",
      "100%|██████████| 64/64 [00:00<00:00, 97.06it/s]\n",
      "100%|██████████| 64/64 [00:00<00:00, 96.43it/s]\n",
      "100%|██████████| 64/64 [00:00<00:00, 2019.31it/s]\n",
      "100%|██████████| 64/64 [00:00<00:00, 181.13it/s]\n",
      "100%|██████████| 64/64 [00:00<00:00, 146.47it/s]\n",
      "100%|██████████| 64/64 [00:08<00:00,  7.74it/s]\n",
      "100%|██████████| 64/64 [00:00<00:00, 3468.70it/s]\n",
      "100%|██████████| 64/64 [00:00<00:00, 1391.20it/s]\n",
      "100%|██████████| 64/64 [00:00<00:00, 1314.30it/s]\n",
      "100%|██████████| 64/64 [00:00<00:00, 7163.82it/s]\n"
     ]
    },
    {
     "name": "stdout",
     "output_type": "stream",
     "text": [
      "(1, 3329)\n",
      "(72, 3330)\n"
     ]
    },
    {
     "name": "stderr",
     "output_type": "stream",
     "text": [
      "100%|██████████| 64/64 [00:00<00:00, 24970.74it/s]\n",
      "100%|██████████| 64/64 [00:00<00:00, 93.45it/s]\n",
      "100%|██████████| 64/64 [00:00<00:00, 88.79it/s]\n",
      "100%|██████████| 64/64 [00:00<00:00, 94.15it/s]\n",
      "100%|██████████| 64/64 [00:00<00:00, 2320.14it/s]\n",
      "100%|██████████| 64/64 [00:00<00:00, 182.05it/s]\n",
      "100%|██████████| 64/64 [00:00<00:00, 144.87it/s]\n",
      "100%|██████████| 64/64 [00:08<00:00,  7.70it/s]\n",
      "100%|██████████| 64/64 [00:00<00:00, 3189.02it/s]\n",
      "100%|██████████| 64/64 [00:00<00:00, 1286.68it/s]\n",
      "100%|██████████| 64/64 [00:00<00:00, 1318.99it/s]\n",
      "100%|██████████| 64/64 [00:00<00:00, 7202.07it/s]\n"
     ]
    },
    {
     "name": "stdout",
     "output_type": "stream",
     "text": [
      "(1, 3329)\n",
      "(73, 3330)\n"
     ]
    },
    {
     "name": "stderr",
     "output_type": "stream",
     "text": [
      "100%|██████████| 64/64 [00:00<00:00, 89299.89it/s]\n",
      "100%|██████████| 64/64 [00:00<00:00, 89.30it/s]\n",
      "100%|██████████| 64/64 [00:00<00:00, 92.21it/s]\n",
      "100%|██████████| 64/64 [00:00<00:00, 97.60it/s]\n",
      "100%|██████████| 64/64 [00:00<00:00, 2208.62it/s]\n",
      "100%|██████████| 64/64 [00:00<00:00, 176.54it/s]\n",
      "100%|██████████| 64/64 [00:00<00:00, 146.47it/s]\n",
      "100%|██████████| 64/64 [00:08<00:00,  7.72it/s]\n",
      "100%|██████████| 64/64 [00:00<00:00, 3486.90it/s]\n",
      "100%|██████████| 64/64 [00:00<00:00, 1375.91it/s]\n",
      "100%|██████████| 64/64 [00:00<00:00, 1351.98it/s]\n",
      "100%|██████████| 64/64 [00:00<00:00, 6242.98it/s]\n"
     ]
    },
    {
     "name": "stdout",
     "output_type": "stream",
     "text": [
      "(1, 3329)\n",
      "(74, 3330)\n"
     ]
    },
    {
     "name": "stderr",
     "output_type": "stream",
     "text": [
      "100%|██████████| 64/64 [00:00<00:00, 95055.05it/s]\n",
      "100%|██████████| 64/64 [00:00<00:00, 89.55it/s]\n",
      "100%|██████████| 64/64 [00:00<00:00, 92.83it/s]\n",
      "100%|██████████| 64/64 [00:00<00:00, 93.49it/s]\n",
      "100%|██████████| 64/64 [00:00<00:00, 2222.28it/s]\n",
      "100%|██████████| 64/64 [00:00<00:00, 173.33it/s]\n",
      "100%|██████████| 64/64 [00:00<00:00, 144.89it/s]\n",
      "100%|██████████| 64/64 [00:08<00:00,  7.68it/s]\n",
      "100%|██████████| 64/64 [00:00<00:00, 3487.13it/s]\n",
      "100%|██████████| 64/64 [00:00<00:00, 1393.63it/s]\n",
      "100%|██████████| 64/64 [00:00<00:00, 1309.69it/s]\n",
      "100%|██████████| 64/64 [00:00<00:00, 5558.25it/s]\n"
     ]
    },
    {
     "name": "stdout",
     "output_type": "stream",
     "text": [
      "(1, 3329)\n",
      "(75, 3330)\n"
     ]
    },
    {
     "name": "stderr",
     "output_type": "stream",
     "text": [
      "100%|██████████| 64/64 [00:00<00:00, 87324.48it/s]\n",
      "100%|██████████| 64/64 [00:00<00:00, 92.96it/s]\n",
      "100%|██████████| 64/64 [00:00<00:00, 92.27it/s]\n",
      "100%|██████████| 64/64 [00:00<00:00, 97.12it/s]\n",
      "100%|██████████| 64/64 [00:00<00:00, 2164.75it/s]\n",
      "100%|██████████| 64/64 [00:00<00:00, 173.02it/s]\n",
      "100%|██████████| 64/64 [00:00<00:00, 142.04it/s]\n",
      "100%|██████████| 64/64 [00:08<00:00,  7.78it/s]\n",
      "100%|██████████| 64/64 [00:00<00:00, 3103.48it/s]\n",
      "100%|██████████| 64/64 [00:00<00:00, 1356.24it/s]\n",
      "100%|██████████| 64/64 [00:00<00:00, 1337.48it/s]\n",
      "100%|██████████| 64/64 [00:00<00:00, 5568.97it/s]\n"
     ]
    },
    {
     "name": "stdout",
     "output_type": "stream",
     "text": [
      "(1, 3329)\n",
      "(76, 3330)\n"
     ]
    },
    {
     "name": "stderr",
     "output_type": "stream",
     "text": [
      "100%|██████████| 64/64 [00:00<00:00, 49173.01it/s]\n",
      "100%|██████████| 64/64 [00:00<00:00, 91.45it/s]\n",
      "100%|██████████| 64/64 [00:00<00:00, 93.80it/s]\n",
      "100%|██████████| 64/64 [00:00<00:00, 95.87it/s]\n",
      "100%|██████████| 64/64 [00:00<00:00, 2121.78it/s]\n",
      "100%|██████████| 64/64 [00:00<00:00, 178.86it/s]\n",
      "100%|██████████| 64/64 [00:00<00:00, 148.04it/s]\n",
      "100%|██████████| 64/64 [00:08<00:00,  7.73it/s]\n",
      "100%|██████████| 64/64 [00:00<00:00, 3318.24it/s]\n",
      "100%|██████████| 64/64 [00:00<00:00, 1317.62it/s]\n",
      "100%|██████████| 64/64 [00:00<00:00, 1323.97it/s]\n",
      "100%|██████████| 64/64 [00:00<00:00, 6969.45it/s]\n"
     ]
    },
    {
     "name": "stdout",
     "output_type": "stream",
     "text": [
      "(1, 3329)\n",
      "(77, 3330)\n"
     ]
    },
    {
     "name": "stderr",
     "output_type": "stream",
     "text": [
      "100%|██████████| 64/64 [00:00<00:00, 172294.90it/s]\n",
      "100%|██████████| 64/64 [00:00<00:00, 91.47it/s]\n",
      "100%|██████████| 64/64 [00:00<00:00, 94.24it/s]\n",
      "100%|██████████| 64/64 [00:00<00:00, 95.19it/s]\n",
      "100%|██████████| 64/64 [00:00<00:00, 2203.69it/s]\n",
      "100%|██████████| 64/64 [00:00<00:00, 173.86it/s]\n",
      "100%|██████████| 64/64 [00:00<00:00, 146.21it/s]\n",
      "100%|██████████| 64/64 [00:08<00:00,  7.81it/s]\n",
      "100%|██████████| 64/64 [00:00<00:00, 3375.82it/s]\n",
      "100%|██████████| 64/64 [00:00<00:00, 1225.09it/s]\n",
      "100%|██████████| 64/64 [00:00<00:00, 1327.97it/s]\n",
      "100%|██████████| 64/64 [00:00<00:00, 7269.55it/s]\n"
     ]
    },
    {
     "name": "stdout",
     "output_type": "stream",
     "text": [
      "(1, 3329)\n",
      "(78, 3330)\n"
     ]
    },
    {
     "name": "stderr",
     "output_type": "stream",
     "text": [
      "100%|██████████| 64/64 [00:00<00:00, 82570.12it/s]\n",
      "100%|██████████| 64/64 [00:00<00:00, 92.53it/s]\n",
      "100%|██████████| 64/64 [00:00<00:00, 94.07it/s]\n",
      "100%|██████████| 64/64 [00:00<00:00, 97.60it/s]\n",
      "100%|██████████| 64/64 [00:00<00:00, 2297.99it/s]\n",
      "100%|██████████| 64/64 [00:00<00:00, 181.57it/s]\n",
      "100%|██████████| 64/64 [00:00<00:00, 146.53it/s]\n",
      "100%|██████████| 64/64 [00:08<00:00,  7.76it/s]\n",
      "100%|██████████| 64/64 [00:00<00:00, 3617.19it/s]\n",
      "100%|██████████| 64/64 [00:00<00:00, 1358.96it/s]\n",
      "100%|██████████| 64/64 [00:00<00:00, 1344.75it/s]\n",
      "100%|██████████| 64/64 [00:00<00:00, 6275.52it/s]\n"
     ]
    },
    {
     "name": "stdout",
     "output_type": "stream",
     "text": [
      "(1, 3329)\n",
      "(79, 3330)\n"
     ]
    },
    {
     "name": "stderr",
     "output_type": "stream",
     "text": [
      "100%|██████████| 64/64 [00:00<00:00, 168403.67it/s]\n",
      "100%|██████████| 64/64 [00:00<00:00, 90.98it/s]\n",
      "100%|██████████| 64/64 [00:00<00:00, 94.09it/s]\n",
      "100%|██████████| 64/64 [00:00<00:00, 99.05it/s]\n",
      "100%|██████████| 64/64 [00:00<00:00, 2201.16it/s]\n",
      "100%|██████████| 64/64 [00:00<00:00, 176.89it/s]\n",
      "100%|██████████| 64/64 [00:00<00:00, 137.13it/s]\n",
      "100%|██████████| 64/64 [00:08<00:00,  7.78it/s]\n",
      "100%|██████████| 64/64 [00:00<00:00, 3170.26it/s]\n",
      "100%|██████████| 64/64 [00:00<00:00, 1356.74it/s]\n",
      "100%|██████████| 64/64 [00:00<00:00, 1351.54it/s]\n",
      "100%|██████████| 64/64 [00:00<00:00, 7218.53it/s]\n"
     ]
    },
    {
     "name": "stdout",
     "output_type": "stream",
     "text": [
      "(1, 3329)\n",
      "(80, 3330)\n"
     ]
    },
    {
     "name": "stderr",
     "output_type": "stream",
     "text": [
      "100%|██████████| 64/64 [00:00<00:00, 96978.13it/s]\n",
      "100%|██████████| 64/64 [00:00<00:00, 92.41it/s]\n",
      "100%|██████████| 64/64 [00:00<00:00, 92.33it/s]\n",
      "100%|██████████| 64/64 [00:00<00:00, 96.77it/s]\n",
      "100%|██████████| 64/64 [00:00<00:00, 1993.37it/s]\n",
      "100%|██████████| 64/64 [00:00<00:00, 182.29it/s]\n",
      "100%|██████████| 64/64 [00:00<00:00, 146.46it/s]\n",
      "100%|██████████| 64/64 [00:08<00:00,  7.75it/s]\n",
      "100%|██████████| 64/64 [00:00<00:00, 3518.30it/s]\n",
      "100%|██████████| 64/64 [00:00<00:00, 1335.54it/s]\n",
      "100%|██████████| 64/64 [00:00<00:00, 1322.80it/s]\n",
      "100%|██████████| 64/64 [00:00<00:00, 8360.91it/s]\n"
     ]
    },
    {
     "name": "stdout",
     "output_type": "stream",
     "text": [
      "(1, 3329)\n",
      "(81, 3330)\n"
     ]
    },
    {
     "name": "stderr",
     "output_type": "stream",
     "text": [
      "100%|██████████| 64/64 [00:00<00:00, 70252.67it/s]\n",
      "100%|██████████| 64/64 [00:00<00:00, 84.11it/s]\n",
      "100%|██████████| 64/64 [00:00<00:00, 92.84it/s]\n",
      "100%|██████████| 64/64 [00:00<00:00, 98.85it/s]\n",
      "100%|██████████| 64/64 [00:00<00:00, 2281.59it/s]\n",
      "100%|██████████| 64/64 [00:00<00:00, 181.46it/s]\n",
      "100%|██████████| 64/64 [00:00<00:00, 145.82it/s]\n",
      "100%|██████████| 64/64 [00:08<00:00,  7.78it/s]\n",
      "100%|██████████| 64/64 [00:00<00:00, 3517.24it/s]\n",
      "100%|██████████| 64/64 [00:00<00:00, 1388.69it/s]\n",
      "100%|██████████| 64/64 [00:00<00:00, 1334.30it/s]\n",
      "100%|██████████| 64/64 [00:00<00:00, 5105.37it/s]\n"
     ]
    },
    {
     "name": "stdout",
     "output_type": "stream",
     "text": [
      "(1, 3329)\n",
      "(82, 3330)\n"
     ]
    },
    {
     "name": "stderr",
     "output_type": "stream",
     "text": [
      "100%|██████████| 64/64 [00:00<00:00, 193397.30it/s]\n",
      "100%|██████████| 64/64 [00:00<00:00, 92.33it/s]\n",
      "100%|██████████| 64/64 [00:00<00:00, 90.88it/s]\n",
      "100%|██████████| 64/64 [00:00<00:00, 98.06it/s]\n",
      "100%|██████████| 64/64 [00:00<00:00, 2257.70it/s]\n",
      "100%|██████████| 64/64 [00:00<00:00, 170.50it/s]\n",
      "100%|██████████| 64/64 [00:00<00:00, 152.13it/s]\n",
      "100%|██████████| 64/64 [00:08<00:00,  7.72it/s]\n",
      "100%|██████████| 64/64 [00:00<00:00, 3404.08it/s]\n",
      "100%|██████████| 64/64 [00:00<00:00, 1352.22it/s]\n",
      "100%|██████████| 64/64 [00:00<00:00, 1305.66it/s]\n",
      "100%|██████████| 64/64 [00:00<00:00, 8037.95it/s]\n"
     ]
    },
    {
     "name": "stdout",
     "output_type": "stream",
     "text": [
      "(1, 3329)\n",
      "(83, 3330)\n"
     ]
    },
    {
     "name": "stderr",
     "output_type": "stream",
     "text": [
      "100%|██████████| 64/64 [00:00<00:00, 20587.12it/s]\n",
      "100%|██████████| 64/64 [00:00<00:00, 88.70it/s]\n",
      "100%|██████████| 64/64 [00:00<00:00, 93.84it/s]\n",
      "100%|██████████| 64/64 [00:00<00:00, 95.46it/s]\n",
      "100%|██████████| 64/64 [00:00<00:00, 2298.80it/s]\n",
      "100%|██████████| 64/64 [00:00<00:00, 183.08it/s]\n",
      "100%|██████████| 64/64 [00:00<00:00, 140.35it/s]\n",
      "100%|██████████| 64/64 [00:08<00:00,  7.69it/s]\n",
      "100%|██████████| 64/64 [00:00<00:00, 3552.52it/s]\n",
      "100%|██████████| 64/64 [00:00<00:00, 1414.73it/s]\n",
      "100%|██████████| 64/64 [00:00<00:00, 1332.48it/s]\n",
      "100%|██████████| 64/64 [00:00<00:00, 6544.81it/s]\n"
     ]
    },
    {
     "name": "stdout",
     "output_type": "stream",
     "text": [
      "(1, 3329)\n",
      "(84, 3330)\n"
     ]
    },
    {
     "name": "stderr",
     "output_type": "stream",
     "text": [
      "100%|██████████| 64/64 [00:00<00:00, 98184.15it/s]\n",
      "100%|██████████| 64/64 [00:00<00:00, 91.17it/s]\n",
      "100%|██████████| 64/64 [00:00<00:00, 94.21it/s]\n",
      "100%|██████████| 64/64 [00:00<00:00, 98.71it/s]\n",
      "100%|██████████| 64/64 [00:00<00:00, 1735.12it/s]\n",
      "100%|██████████| 64/64 [00:00<00:00, 181.67it/s]\n",
      "100%|██████████| 64/64 [00:00<00:00, 154.32it/s]\n",
      "100%|██████████| 64/64 [00:08<00:00,  7.84it/s]\n",
      "100%|██████████| 64/64 [00:00<00:00, 3428.29it/s]\n",
      "100%|██████████| 64/64 [00:00<00:00, 1358.84it/s]\n",
      "100%|██████████| 64/64 [00:00<00:00, 858.03it/s]\n",
      "100%|██████████| 64/64 [00:00<00:00, 8104.45it/s]\n"
     ]
    },
    {
     "name": "stdout",
     "output_type": "stream",
     "text": [
      "(1, 3329)\n",
      "(85, 3330)\n"
     ]
    },
    {
     "name": "stderr",
     "output_type": "stream",
     "text": [
      "100%|██████████| 64/64 [00:00<00:00, 23277.44it/s]\n",
      "100%|██████████| 64/64 [00:00<00:00, 91.35it/s]\n",
      "100%|██████████| 64/64 [00:00<00:00, 97.43it/s]\n",
      "100%|██████████| 64/64 [00:00<00:00, 99.47it/s] \n",
      "100%|██████████| 64/64 [00:00<00:00, 2050.00it/s]\n",
      "100%|██████████| 64/64 [00:00<00:00, 185.00it/s]\n",
      "100%|██████████| 64/64 [00:00<00:00, 140.81it/s]\n",
      "100%|██████████| 64/64 [00:08<00:00,  7.76it/s]\n",
      "100%|██████████| 64/64 [00:00<00:00, 3302.64it/s]\n",
      "100%|██████████| 64/64 [00:00<00:00, 1363.82it/s]\n",
      "100%|██████████| 64/64 [00:00<00:00, 1339.68it/s]\n",
      "100%|██████████| 64/64 [00:00<00:00, 6995.06it/s]\n"
     ]
    },
    {
     "name": "stdout",
     "output_type": "stream",
     "text": [
      "(1, 3329)\n",
      "(86, 3330)\n"
     ]
    },
    {
     "name": "stderr",
     "output_type": "stream",
     "text": [
      "100%|██████████| 64/64 [00:00<00:00, 70069.29it/s]\n",
      "100%|██████████| 64/64 [00:00<00:00, 91.05it/s]\n",
      "100%|██████████| 64/64 [00:00<00:00, 92.32it/s]\n",
      "100%|██████████| 64/64 [00:00<00:00, 99.19it/s]\n",
      "100%|██████████| 64/64 [00:00<00:00, 2165.38it/s]\n",
      "100%|██████████| 64/64 [00:00<00:00, 176.59it/s]\n",
      "100%|██████████| 64/64 [00:00<00:00, 150.83it/s]\n",
      "100%|██████████| 64/64 [00:08<00:00,  7.81it/s]\n",
      "100%|██████████| 64/64 [00:00<00:00, 3375.10it/s]\n",
      "100%|██████████| 64/64 [00:00<00:00, 1307.15it/s]\n",
      "100%|██████████| 64/64 [00:00<00:00, 1302.88it/s]\n",
      "100%|██████████| 64/64 [00:00<00:00, 6419.90it/s]\n"
     ]
    },
    {
     "name": "stdout",
     "output_type": "stream",
     "text": [
      "(1, 3329)\n",
      "(87, 3330)\n"
     ]
    },
    {
     "name": "stderr",
     "output_type": "stream",
     "text": [
      "100%|██████████| 64/64 [00:00<00:00, 18454.25it/s]\n",
      "100%|██████████| 64/64 [00:00<00:00, 91.91it/s]\n",
      "100%|██████████| 64/64 [00:00<00:00, 92.34it/s]\n",
      "100%|██████████| 64/64 [00:00<00:00, 99.06it/s]\n",
      "100%|██████████| 64/64 [00:00<00:00, 2250.96it/s]\n",
      "100%|██████████| 64/64 [00:00<00:00, 181.32it/s]\n",
      "100%|██████████| 64/64 [00:00<00:00, 152.05it/s]\n",
      "100%|██████████| 64/64 [00:08<00:00,  7.72it/s]\n",
      "100%|██████████| 64/64 [00:00<00:00, 2898.75it/s]\n",
      "100%|██████████| 64/64 [00:00<00:00, 1139.66it/s]\n",
      "100%|██████████| 64/64 [00:00<00:00, 1244.25it/s]\n",
      "100%|██████████| 64/64 [00:00<00:00, 6838.25it/s]\n"
     ]
    },
    {
     "name": "stdout",
     "output_type": "stream",
     "text": [
      "(1, 3329)\n",
      "(88, 3330)\n"
     ]
    },
    {
     "name": "stderr",
     "output_type": "stream",
     "text": [
      "100%|██████████| 64/64 [00:00<00:00, 87211.00it/s]\n",
      "100%|██████████| 64/64 [00:00<00:00, 90.62it/s]\n",
      "100%|██████████| 64/64 [00:00<00:00, 95.91it/s]\n",
      "100%|██████████| 64/64 [00:00<00:00, 94.44it/s]\n",
      "100%|██████████| 64/64 [00:00<00:00, 2192.65it/s]\n",
      "100%|██████████| 64/64 [00:00<00:00, 177.90it/s]\n",
      "100%|██████████| 64/64 [00:00<00:00, 146.84it/s]\n",
      "100%|██████████| 64/64 [00:08<00:00,  7.81it/s]\n",
      "100%|██████████| 64/64 [00:00<00:00, 3441.83it/s]\n",
      "100%|██████████| 64/64 [00:00<00:00, 1428.34it/s]\n",
      "100%|██████████| 64/64 [00:00<00:00, 1251.63it/s]\n",
      "100%|██████████| 64/64 [00:00<00:00, 6388.89it/s]\n"
     ]
    },
    {
     "name": "stdout",
     "output_type": "stream",
     "text": [
      "(1, 3329)\n",
      "(89, 3330)\n"
     ]
    },
    {
     "name": "stderr",
     "output_type": "stream",
     "text": [
      "100%|██████████| 64/64 [00:00<00:00, 37569.69it/s]\n",
      "100%|██████████| 64/64 [00:00<00:00, 91.33it/s]\n",
      "100%|██████████| 64/64 [00:00<00:00, 93.55it/s]\n",
      "100%|██████████| 64/64 [00:00<00:00, 100.37it/s]\n",
      "100%|██████████| 64/64 [00:00<00:00, 2030.03it/s]\n",
      "100%|██████████| 64/64 [00:00<00:00, 175.40it/s]\n",
      "100%|██████████| 64/64 [00:00<00:00, 148.08it/s]\n",
      "100%|██████████| 64/64 [00:08<00:00,  7.74it/s]\n",
      "100%|██████████| 64/64 [00:00<00:00, 3438.70it/s]\n",
      "100%|██████████| 64/64 [00:00<00:00, 1367.48it/s]\n",
      "100%|██████████| 64/64 [00:00<00:00, 1122.81it/s]\n",
      "100%|██████████| 64/64 [00:00<00:00, 8375.52it/s]\n"
     ]
    },
    {
     "name": "stdout",
     "output_type": "stream",
     "text": [
      "(1, 3329)\n",
      "(90, 3330)\n"
     ]
    },
    {
     "name": "stderr",
     "output_type": "stream",
     "text": [
      "100%|██████████| 64/64 [00:00<00:00, 230416.70it/s]\n",
      "100%|██████████| 64/64 [00:00<00:00, 89.67it/s]\n",
      "100%|██████████| 64/64 [00:00<00:00, 91.11it/s]\n",
      "100%|██████████| 64/64 [00:00<00:00, 96.73it/s]\n",
      "100%|██████████| 64/64 [00:00<00:00, 2176.74it/s]\n",
      "100%|██████████| 64/64 [00:00<00:00, 174.46it/s]\n",
      "100%|██████████| 64/64 [00:00<00:00, 142.54it/s]\n",
      "100%|██████████| 64/64 [00:08<00:00,  7.75it/s]\n",
      "100%|██████████| 64/64 [00:00<00:00, 2808.43it/s]\n",
      "100%|██████████| 64/64 [00:00<00:00, 1333.20it/s]\n",
      "100%|██████████| 64/64 [00:00<00:00, 1256.41it/s]\n",
      "100%|██████████| 64/64 [00:00<00:00, 6757.34it/s]\n"
     ]
    },
    {
     "name": "stdout",
     "output_type": "stream",
     "text": [
      "(1, 3329)\n",
      "(91, 3330)\n"
     ]
    },
    {
     "name": "stderr",
     "output_type": "stream",
     "text": [
      "100%|██████████| 64/64 [00:00<00:00, 70455.50it/s]\n",
      "100%|██████████| 64/64 [00:00<00:00, 92.74it/s]\n",
      "100%|██████████| 64/64 [00:00<00:00, 96.06it/s]\n",
      "100%|██████████| 64/64 [00:00<00:00, 98.96it/s]\n",
      "100%|██████████| 64/64 [00:00<00:00, 2124.34it/s]\n",
      "100%|██████████| 64/64 [00:00<00:00, 175.82it/s]\n",
      "100%|██████████| 64/64 [00:00<00:00, 145.40it/s]\n",
      "100%|██████████| 64/64 [00:08<00:00,  7.72it/s]\n",
      "100%|██████████| 64/64 [00:00<00:00, 3501.41it/s]\n",
      "100%|██████████| 64/64 [00:00<00:00, 1363.10it/s]\n",
      "100%|██████████| 64/64 [00:00<00:00, 1243.57it/s]\n",
      "100%|██████████| 64/64 [00:00<00:00, 6706.86it/s]\n"
     ]
    },
    {
     "name": "stdout",
     "output_type": "stream",
     "text": [
      "(1, 3329)\n",
      "(92, 3330)\n"
     ]
    },
    {
     "name": "stderr",
     "output_type": "stream",
     "text": [
      "100%|██████████| 64/64 [00:00<00:00, 170435.21it/s]\n",
      "100%|██████████| 64/64 [00:00<00:00, 90.24it/s]\n",
      "100%|██████████| 64/64 [00:00<00:00, 95.27it/s]\n",
      "100%|██████████| 64/64 [00:00<00:00, 98.45it/s]\n",
      "100%|██████████| 64/64 [00:00<00:00, 2140.21it/s]\n",
      "100%|██████████| 64/64 [00:00<00:00, 176.36it/s]\n",
      "100%|██████████| 64/64 [00:00<00:00, 139.55it/s]\n",
      "100%|██████████| 64/64 [00:08<00:00,  7.79it/s]\n",
      "100%|██████████| 64/64 [00:00<00:00, 3386.73it/s]\n",
      "100%|██████████| 64/64 [00:00<00:00, 1357.55it/s]\n",
      "100%|██████████| 64/64 [00:00<00:00, 1307.17it/s]\n",
      "100%|██████████| 64/64 [00:00<00:00, 5810.42it/s]\n"
     ]
    },
    {
     "name": "stdout",
     "output_type": "stream",
     "text": [
      "(1, 3329)\n",
      "(93, 3330)\n"
     ]
    },
    {
     "name": "stderr",
     "output_type": "stream",
     "text": [
      "100%|██████████| 64/64 [00:00<00:00, 212201.94it/s]\n",
      "100%|██████████| 64/64 [00:00<00:00, 89.16it/s]\n",
      "100%|██████████| 64/64 [00:00<00:00, 92.02it/s]\n",
      "100%|██████████| 64/64 [00:00<00:00, 94.70it/s]\n",
      "100%|██████████| 64/64 [00:00<00:00, 1998.61it/s]\n",
      "100%|██████████| 64/64 [00:00<00:00, 182.06it/s]\n",
      "100%|██████████| 64/64 [00:00<00:00, 147.74it/s]\n",
      "100%|██████████| 64/64 [00:08<00:00,  7.74it/s]\n",
      "100%|██████████| 64/64 [00:00<00:00, 3296.28it/s]\n",
      "100%|██████████| 64/64 [00:00<00:00, 1341.94it/s]\n",
      "100%|██████████| 64/64 [00:00<00:00, 1300.20it/s]\n",
      "100%|██████████| 64/64 [00:00<00:00, 5926.12it/s]\n"
     ]
    },
    {
     "name": "stdout",
     "output_type": "stream",
     "text": [
      "(1, 3329)\n",
      "(94, 3330)\n"
     ]
    },
    {
     "name": "stderr",
     "output_type": "stream",
     "text": [
      "100%|██████████| 64/64 [00:00<00:00, 87724.01it/s]\n",
      "100%|██████████| 64/64 [00:00<00:00, 91.01it/s]\n",
      "100%|██████████| 64/64 [00:00<00:00, 89.81it/s]\n",
      "100%|██████████| 64/64 [00:00<00:00, 96.14it/s]\n",
      "100%|██████████| 64/64 [00:00<00:00, 1685.45it/s]\n",
      "100%|██████████| 64/64 [00:00<00:00, 181.16it/s]\n",
      "100%|██████████| 64/64 [00:00<00:00, 145.39it/s]\n",
      "100%|██████████| 64/64 [00:08<00:00,  7.65it/s]\n",
      "100%|██████████| 64/64 [00:00<00:00, 3510.38it/s]\n",
      "100%|██████████| 64/64 [00:00<00:00, 1274.79it/s]\n",
      "100%|██████████| 64/64 [00:00<00:00, 1290.64it/s]\n",
      "100%|██████████| 64/64 [00:00<00:00, 7342.93it/s]\n"
     ]
    },
    {
     "name": "stdout",
     "output_type": "stream",
     "text": [
      "(1, 3329)\n",
      "(95, 3330)\n"
     ]
    },
    {
     "name": "stderr",
     "output_type": "stream",
     "text": [
      "100%|██████████| 64/64 [00:00<00:00, 126026.04it/s]\n",
      "100%|██████████| 64/64 [00:00<00:00, 87.45it/s]\n",
      "100%|██████████| 64/64 [00:00<00:00, 91.29it/s]\n",
      "100%|██████████| 64/64 [00:00<00:00, 96.72it/s]\n",
      "100%|██████████| 64/64 [00:00<00:00, 2087.55it/s]\n",
      "100%|██████████| 64/64 [00:00<00:00, 176.40it/s]\n",
      "100%|██████████| 64/64 [00:00<00:00, 146.35it/s]\n",
      "100%|██████████| 64/64 [00:08<00:00,  7.78it/s]\n",
      "100%|██████████| 64/64 [00:00<00:00, 3254.63it/s]\n",
      "100%|██████████| 64/64 [00:00<00:00, 1241.81it/s]\n",
      "100%|██████████| 64/64 [00:00<00:00, 1090.17it/s]\n",
      "100%|██████████| 64/64 [00:00<00:00, 7429.71it/s]\n"
     ]
    },
    {
     "name": "stdout",
     "output_type": "stream",
     "text": [
      "(1, 3329)\n",
      "(96, 3330)\n"
     ]
    },
    {
     "name": "stderr",
     "output_type": "stream",
     "text": [
      "100%|██████████| 64/64 [00:00<00:00, 80490.39it/s]\n",
      "100%|██████████| 64/64 [00:00<00:00, 90.64it/s]\n",
      "100%|██████████| 64/64 [00:00<00:00, 95.18it/s]\n",
      "100%|██████████| 64/64 [00:00<00:00, 97.95it/s]\n",
      "100%|██████████| 64/64 [00:00<00:00, 1881.08it/s]\n",
      "100%|██████████| 64/64 [00:00<00:00, 180.60it/s]\n",
      "100%|██████████| 64/64 [00:00<00:00, 148.02it/s]\n",
      "100%|██████████| 64/64 [00:08<00:00,  7.75it/s]\n",
      "100%|██████████| 64/64 [00:00<00:00, 2645.15it/s]\n",
      "100%|██████████| 64/64 [00:00<00:00, 1296.33it/s]\n",
      "100%|██████████| 64/64 [00:00<00:00, 1235.70it/s]\n",
      "100%|██████████| 64/64 [00:00<00:00, 6174.05it/s]\n"
     ]
    },
    {
     "name": "stdout",
     "output_type": "stream",
     "text": [
      "(1, 3329)\n",
      "(97, 3330)\n"
     ]
    },
    {
     "name": "stderr",
     "output_type": "stream",
     "text": [
      "100%|██████████| 64/64 [00:00<00:00, 40808.07it/s]\n",
      "100%|██████████| 64/64 [00:00<00:00, 90.23it/s]\n",
      "100%|██████████| 64/64 [00:00<00:00, 94.71it/s]\n",
      "100%|██████████| 64/64 [00:00<00:00, 97.36it/s]\n",
      "100%|██████████| 64/64 [00:00<00:00, 1937.07it/s]\n",
      "100%|██████████| 64/64 [00:00<00:00, 175.08it/s]\n",
      "100%|██████████| 64/64 [00:00<00:00, 145.25it/s]\n",
      "100%|██████████| 64/64 [00:08<00:00,  7.70it/s]\n",
      "100%|██████████| 64/64 [00:00<00:00, 3221.70it/s]\n",
      "100%|██████████| 64/64 [00:00<00:00, 1371.28it/s]\n",
      "100%|██████████| 64/64 [00:00<00:00, 1144.38it/s]\n",
      "100%|██████████| 64/64 [00:00<00:00, 6629.67it/s]\n"
     ]
    },
    {
     "name": "stdout",
     "output_type": "stream",
     "text": [
      "(1, 3329)\n",
      "(98, 3330)\n"
     ]
    },
    {
     "name": "stderr",
     "output_type": "stream",
     "text": [
      "100%|██████████| 64/64 [00:00<00:00, 69759.73it/s]\n",
      "100%|██████████| 64/64 [00:00<00:00, 90.92it/s]\n",
      "100%|██████████| 64/64 [00:00<00:00, 96.81it/s]\n",
      "100%|██████████| 64/64 [00:00<00:00, 99.29it/s]\n",
      "100%|██████████| 64/64 [00:00<00:00, 2317.34it/s]\n",
      "100%|██████████| 64/64 [00:00<00:00, 184.26it/s]\n",
      "100%|██████████| 64/64 [00:00<00:00, 149.62it/s]\n",
      "100%|██████████| 64/64 [00:08<00:00,  7.77it/s]\n",
      "100%|██████████| 64/64 [00:00<00:00, 3123.99it/s]\n",
      "100%|██████████| 64/64 [00:00<00:00, 1141.84it/s]\n",
      "100%|██████████| 64/64 [00:00<00:00, 1327.21it/s]\n",
      "100%|██████████| 64/64 [00:00<00:00, 6621.33it/s]\n"
     ]
    },
    {
     "name": "stdout",
     "output_type": "stream",
     "text": [
      "(1, 3329)\n",
      "(99, 3330)\n"
     ]
    },
    {
     "name": "stderr",
     "output_type": "stream",
     "text": [
      "100%|██████████| 64/64 [00:00<00:00, 94519.53it/s]\n",
      "100%|██████████| 64/64 [00:00<00:00, 90.73it/s]\n",
      "100%|██████████| 64/64 [00:00<00:00, 93.37it/s]\n",
      "100%|██████████| 64/64 [00:00<00:00, 97.48it/s]\n",
      "100%|██████████| 64/64 [00:00<00:00, 2199.86it/s]\n",
      "100%|██████████| 64/64 [00:00<00:00, 178.86it/s]\n",
      "100%|██████████| 64/64 [00:00<00:00, 142.18it/s]\n",
      "100%|██████████| 64/64 [00:08<00:00,  7.71it/s]\n",
      "100%|██████████| 64/64 [00:00<00:00, 3562.80it/s]\n",
      "100%|██████████| 64/64 [00:00<00:00, 1388.60it/s]\n",
      "100%|██████████| 64/64 [00:00<00:00, 1067.98it/s]\n",
      "100%|██████████| 64/64 [00:00<00:00, 6499.02it/s]\n"
     ]
    },
    {
     "name": "stdout",
     "output_type": "stream",
     "text": [
      "(1, 3329)\n",
      "(100, 3330)\n"
     ]
    },
    {
     "name": "stderr",
     "output_type": "stream",
     "text": [
      "100%|██████████| 64/64 [00:00<00:00, 80659.69it/s]\n",
      "100%|██████████| 64/64 [00:00<00:00, 89.60it/s]\n",
      "100%|██████████| 64/64 [00:00<00:00, 93.99it/s]\n",
      "100%|██████████| 64/64 [00:00<00:00, 98.66it/s]\n",
      "100%|██████████| 64/64 [00:00<00:00, 2140.45it/s]\n",
      "100%|██████████| 64/64 [00:00<00:00, 180.69it/s]\n",
      "100%|██████████| 64/64 [00:00<00:00, 147.43it/s]\n",
      "100%|██████████| 64/64 [00:08<00:00,  7.74it/s]\n",
      "100%|██████████| 64/64 [00:00<00:00, 3393.62it/s]\n",
      "100%|██████████| 64/64 [00:00<00:00, 1314.49it/s]\n",
      "100%|██████████| 64/64 [00:00<00:00, 1315.62it/s]\n",
      "100%|██████████| 64/64 [00:00<00:00, 6048.70it/s]\n"
     ]
    },
    {
     "name": "stdout",
     "output_type": "stream",
     "text": [
      "(1, 3329)\n",
      "(101, 3330)\n"
     ]
    },
    {
     "name": "stderr",
     "output_type": "stream",
     "text": [
      "100%|██████████| 64/64 [00:00<00:00, 146605.93it/s]\n",
      "100%|██████████| 64/64 [00:00<00:00, 90.85it/s]\n",
      "100%|██████████| 64/64 [00:00<00:00, 91.99it/s]\n",
      "100%|██████████| 64/64 [00:00<00:00, 98.82it/s]\n",
      "100%|██████████| 64/64 [00:00<00:00, 1970.39it/s]\n",
      "100%|██████████| 64/64 [00:00<00:00, 178.53it/s]\n",
      "100%|██████████| 64/64 [00:00<00:00, 146.02it/s]\n",
      "100%|██████████| 64/64 [00:08<00:00,  7.72it/s]\n",
      "100%|██████████| 64/64 [00:00<00:00, 3569.15it/s]\n",
      "100%|██████████| 64/64 [00:00<00:00, 1377.19it/s]\n",
      "100%|██████████| 64/64 [00:00<00:00, 1162.39it/s]\n",
      "100%|██████████| 64/64 [00:00<00:00, 8053.63it/s]\n"
     ]
    },
    {
     "name": "stdout",
     "output_type": "stream",
     "text": [
      "(1, 3329)\n",
      "(102, 3330)\n"
     ]
    },
    {
     "name": "stderr",
     "output_type": "stream",
     "text": [
      "100%|██████████| 64/64 [00:00<00:00, 17711.50it/s]\n",
      "100%|██████████| 64/64 [00:00<00:00, 89.09it/s]\n",
      "100%|██████████| 64/64 [00:00<00:00, 93.16it/s]\n",
      "100%|██████████| 64/64 [00:00<00:00, 97.14it/s]\n",
      "100%|██████████| 64/64 [00:00<00:00, 2134.08it/s]\n",
      "100%|██████████| 64/64 [00:00<00:00, 176.65it/s]\n",
      "100%|██████████| 64/64 [00:00<00:00, 143.70it/s]\n",
      "100%|██████████| 64/64 [00:08<00:00,  7.80it/s]\n",
      "100%|██████████| 64/64 [00:00<00:00, 3288.12it/s]\n",
      "100%|██████████| 64/64 [00:00<00:00, 1297.77it/s]\n",
      "100%|██████████| 64/64 [00:00<00:00, 1307.88it/s]\n",
      "100%|██████████| 64/64 [00:00<00:00, 6364.95it/s]\n"
     ]
    },
    {
     "name": "stdout",
     "output_type": "stream",
     "text": [
      "(1, 3329)\n",
      "(103, 3330)\n"
     ]
    },
    {
     "name": "stderr",
     "output_type": "stream",
     "text": [
      "100%|██████████| 64/64 [00:00<00:00, 46498.43it/s]\n",
      "100%|██████████| 64/64 [00:00<00:00, 95.27it/s]\n",
      "100%|██████████| 64/64 [00:00<00:00, 94.14it/s]\n",
      "100%|██████████| 64/64 [00:00<00:00, 100.22it/s]\n",
      "100%|██████████| 64/64 [00:00<00:00, 2304.80it/s]\n",
      "100%|██████████| 64/64 [00:00<00:00, 177.63it/s]\n",
      "100%|██████████| 64/64 [00:00<00:00, 140.80it/s]\n",
      "100%|██████████| 64/64 [00:08<00:00,  7.77it/s]\n",
      "100%|██████████| 64/64 [00:00<00:00, 3000.92it/s]\n",
      "100%|██████████| 64/64 [00:00<00:00, 1236.88it/s]\n",
      "100%|██████████| 64/64 [00:00<00:00, 1310.09it/s]\n",
      "100%|██████████| 64/64 [00:00<00:00, 7299.00it/s]\n"
     ]
    },
    {
     "name": "stdout",
     "output_type": "stream",
     "text": [
      "(1, 3329)\n",
      "(104, 3330)\n"
     ]
    },
    {
     "name": "stderr",
     "output_type": "stream",
     "text": [
      "100%|██████████| 64/64 [00:00<00:00, 89329.60it/s]\n",
      "100%|██████████| 64/64 [00:00<00:00, 87.53it/s]\n",
      "100%|██████████| 64/64 [00:00<00:00, 94.00it/s]\n",
      "100%|██████████| 64/64 [00:00<00:00, 93.66it/s]\n",
      "100%|██████████| 64/64 [00:00<00:00, 2285.26it/s]\n",
      "100%|██████████| 64/64 [00:00<00:00, 177.33it/s]\n",
      "100%|██████████| 64/64 [00:00<00:00, 143.02it/s]\n",
      "100%|██████████| 64/64 [00:08<00:00,  7.69it/s]\n",
      "100%|██████████| 64/64 [00:00<00:00, 3490.84it/s]\n",
      "100%|██████████| 64/64 [00:00<00:00, 1284.69it/s]\n",
      "100%|██████████| 64/64 [00:00<00:00, 1302.07it/s]\n",
      "100%|██████████| 64/64 [00:00<00:00, 7674.85it/s]\n"
     ]
    },
    {
     "name": "stdout",
     "output_type": "stream",
     "text": [
      "(1, 3329)\n",
      "(105, 3330)\n"
     ]
    },
    {
     "name": "stderr",
     "output_type": "stream",
     "text": [
      "100%|██████████| 64/64 [00:00<00:00, 56799.72it/s]\n",
      "100%|██████████| 64/64 [00:00<00:00, 91.07it/s]\n",
      "100%|██████████| 64/64 [00:00<00:00, 93.74it/s]\n",
      "100%|██████████| 64/64 [00:00<00:00, 98.62it/s]\n",
      "100%|██████████| 64/64 [00:00<00:00, 1591.72it/s]\n",
      "100%|██████████| 64/64 [00:00<00:00, 181.01it/s]\n",
      "100%|██████████| 64/64 [00:00<00:00, 146.34it/s]\n",
      "100%|██████████| 64/64 [00:08<00:00,  7.75it/s]\n",
      "100%|██████████| 64/64 [00:00<00:00, 3484.41it/s]\n",
      "100%|██████████| 64/64 [00:00<00:00, 1384.15it/s]\n",
      "100%|██████████| 64/64 [00:00<00:00, 1207.14it/s]\n",
      "100%|██████████| 64/64 [00:00<00:00, 6566.75it/s]\n"
     ]
    },
    {
     "name": "stdout",
     "output_type": "stream",
     "text": [
      "(1, 3329)\n",
      "(106, 3330)\n"
     ]
    },
    {
     "name": "stderr",
     "output_type": "stream",
     "text": [
      "100%|██████████| 64/64 [00:00<00:00, 202592.80it/s]\n",
      "100%|██████████| 64/64 [00:00<00:00, 91.45it/s]\n",
      "100%|██████████| 64/64 [00:00<00:00, 95.09it/s]\n",
      "100%|██████████| 64/64 [00:00<00:00, 96.53it/s]\n",
      "100%|██████████| 64/64 [00:00<00:00, 2203.34it/s]\n",
      "100%|██████████| 64/64 [00:00<00:00, 181.59it/s]\n",
      "100%|██████████| 64/64 [00:00<00:00, 138.94it/s]\n",
      "100%|██████████| 64/64 [00:08<00:00,  7.76it/s]\n",
      "100%|██████████| 64/64 [00:00<00:00, 3377.78it/s]\n",
      "100%|██████████| 64/64 [00:00<00:00, 1318.44it/s]\n",
      "100%|██████████| 64/64 [00:00<00:00, 1282.91it/s]\n",
      "100%|██████████| 64/64 [00:00<00:00, 6353.80it/s]\n"
     ]
    },
    {
     "name": "stdout",
     "output_type": "stream",
     "text": [
      "(1, 3329)\n",
      "(107, 3330)\n"
     ]
    },
    {
     "name": "stderr",
     "output_type": "stream",
     "text": [
      "100%|██████████| 64/64 [00:00<00:00, 31137.39it/s]\n",
      "100%|██████████| 64/64 [00:00<00:00, 89.85it/s]\n",
      "100%|██████████| 64/64 [00:00<00:00, 92.75it/s]\n",
      "100%|██████████| 64/64 [00:00<00:00, 98.52it/s]\n",
      "100%|██████████| 64/64 [00:00<00:00, 2008.11it/s]\n",
      "100%|██████████| 64/64 [00:00<00:00, 171.36it/s]\n",
      "100%|██████████| 64/64 [00:00<00:00, 151.81it/s]\n",
      "100%|██████████| 64/64 [00:08<00:00,  7.74it/s]\n",
      "100%|██████████| 64/64 [00:00<00:00, 2387.85it/s]\n",
      "100%|██████████| 64/64 [00:00<00:00, 1237.18it/s]\n",
      "100%|██████████| 64/64 [00:00<00:00, 1158.01it/s]\n",
      "100%|██████████| 64/64 [00:00<00:00, 7552.84it/s]\n"
     ]
    },
    {
     "name": "stdout",
     "output_type": "stream",
     "text": [
      "(1, 3329)\n",
      "(108, 3330)\n"
     ]
    },
    {
     "name": "stderr",
     "output_type": "stream",
     "text": [
      "100%|██████████| 64/64 [00:00<00:00, 94719.64it/s]\n",
      "100%|██████████| 64/64 [00:00<00:00, 89.36it/s]\n",
      "100%|██████████| 64/64 [00:00<00:00, 95.38it/s]\n",
      "100%|██████████| 64/64 [00:00<00:00, 96.60it/s]\n",
      "100%|██████████| 64/64 [00:00<00:00, 2159.39it/s]\n",
      "100%|██████████| 64/64 [00:00<00:00, 184.86it/s]\n",
      "100%|██████████| 64/64 [00:00<00:00, 145.10it/s]\n",
      "100%|██████████| 64/64 [00:08<00:00,  7.79it/s]\n",
      "100%|██████████| 64/64 [00:00<00:00, 3485.18it/s]\n",
      "100%|██████████| 64/64 [00:00<00:00, 1379.71it/s]\n",
      "100%|██████████| 64/64 [00:00<00:00, 1324.72it/s]\n",
      "100%|██████████| 64/64 [00:00<00:00, 8009.17it/s]\n"
     ]
    },
    {
     "name": "stdout",
     "output_type": "stream",
     "text": [
      "(1, 3329)\n",
      "(109, 3330)\n"
     ]
    },
    {
     "name": "stderr",
     "output_type": "stream",
     "text": [
      "100%|██████████| 64/64 [00:00<00:00, 22399.49it/s]\n",
      "100%|██████████| 64/64 [00:00<00:00, 90.17it/s]\n",
      "100%|██████████| 64/64 [00:00<00:00, 94.46it/s]\n",
      "100%|██████████| 64/64 [00:00<00:00, 99.89it/s]\n",
      "100%|██████████| 64/64 [00:00<00:00, 2093.91it/s]\n",
      "100%|██████████| 64/64 [00:00<00:00, 170.25it/s]\n",
      "100%|██████████| 64/64 [00:00<00:00, 148.44it/s]\n",
      "100%|██████████| 64/64 [00:08<00:00,  7.76it/s]\n",
      "100%|██████████| 64/64 [00:00<00:00, 3336.26it/s]\n",
      "100%|██████████| 64/64 [00:00<00:00, 1356.00it/s]\n",
      "100%|██████████| 64/64 [00:00<00:00, 1324.47it/s]\n",
      "100%|██████████| 64/64 [00:00<00:00, 3530.09it/s]\n"
     ]
    },
    {
     "name": "stdout",
     "output_type": "stream",
     "text": [
      "(1, 3329)\n",
      "(110, 3330)\n"
     ]
    },
    {
     "name": "stderr",
     "output_type": "stream",
     "text": [
      "100%|██████████| 64/64 [00:00<00:00, 194659.50it/s]\n",
      "100%|██████████| 64/64 [00:00<00:00, 92.44it/s]\n",
      "100%|██████████| 64/64 [00:00<00:00, 92.65it/s]\n",
      "100%|██████████| 64/64 [00:00<00:00, 99.27it/s]\n",
      "100%|██████████| 64/64 [00:00<00:00, 2320.66it/s]\n",
      "100%|██████████| 64/64 [00:00<00:00, 182.61it/s]\n",
      "100%|██████████| 64/64 [00:00<00:00, 147.67it/s]\n",
      "100%|██████████| 64/64 [00:08<00:00,  7.62it/s]\n",
      "100%|██████████| 64/64 [00:00<00:00, 3367.40it/s]\n",
      "100%|██████████| 64/64 [00:00<00:00, 1367.85it/s]\n",
      "100%|██████████| 64/64 [00:00<00:00, 1280.13it/s]\n",
      "100%|██████████| 64/64 [00:00<00:00, 7919.15it/s]\n"
     ]
    },
    {
     "name": "stdout",
     "output_type": "stream",
     "text": [
      "(1, 3329)\n",
      "(111, 3330)\n"
     ]
    },
    {
     "name": "stderr",
     "output_type": "stream",
     "text": [
      "100%|██████████| 64/64 [00:00<00:00, 140542.12it/s]\n",
      "100%|██████████| 64/64 [00:00<00:00, 86.33it/s]\n",
      "100%|██████████| 64/64 [00:00<00:00, 93.56it/s]\n",
      "100%|██████████| 64/64 [00:00<00:00, 100.82it/s]\n",
      "100%|██████████| 64/64 [00:00<00:00, 2116.36it/s]\n",
      "100%|██████████| 64/64 [00:00<00:00, 176.84it/s]\n",
      "100%|██████████| 64/64 [00:00<00:00, 142.37it/s]\n",
      "100%|██████████| 64/64 [00:08<00:00,  7.65it/s]\n",
      "100%|██████████| 64/64 [00:00<00:00, 3106.03it/s]\n",
      "100%|██████████| 64/64 [00:00<00:00, 974.42it/s]\n",
      "100%|██████████| 64/64 [00:00<00:00, 1373.10it/s]\n",
      "100%|██████████| 64/64 [00:00<00:00, 6567.39it/s]\n"
     ]
    },
    {
     "name": "stdout",
     "output_type": "stream",
     "text": [
      "(1, 3329)\n",
      "(112, 3330)\n"
     ]
    },
    {
     "name": "stderr",
     "output_type": "stream",
     "text": [
      "100%|██████████| 64/64 [00:00<00:00, 44005.81it/s]\n",
      "100%|██████████| 64/64 [00:00<00:00, 92.21it/s]\n",
      "100%|██████████| 64/64 [00:00<00:00, 94.88it/s]\n",
      "100%|██████████| 64/64 [00:00<00:00, 97.66it/s]\n",
      "100%|██████████| 64/64 [00:00<00:00, 2197.23it/s]\n",
      "100%|██████████| 64/64 [00:00<00:00, 174.12it/s]\n",
      "100%|██████████| 64/64 [00:00<00:00, 145.76it/s]\n",
      "100%|██████████| 64/64 [00:08<00:00,  7.76it/s]\n",
      "100%|██████████| 64/64 [00:00<00:00, 3351.51it/s]\n",
      "100%|██████████| 64/64 [00:00<00:00, 1342.25it/s]\n",
      "100%|██████████| 64/64 [00:00<00:00, 1340.80it/s]\n",
      "100%|██████████| 64/64 [00:00<00:00, 6839.47it/s]\n"
     ]
    },
    {
     "name": "stdout",
     "output_type": "stream",
     "text": [
      "(1, 3329)\n",
      "(113, 3330)\n"
     ]
    },
    {
     "name": "stderr",
     "output_type": "stream",
     "text": [
      "100%|██████████| 64/64 [00:00<00:00, 67075.33it/s]\n",
      "100%|██████████| 64/64 [00:00<00:00, 90.21it/s]\n",
      "100%|██████████| 64/64 [00:00<00:00, 94.10it/s]\n",
      "100%|██████████| 64/64 [00:00<00:00, 97.16it/s]\n",
      "100%|██████████| 64/64 [00:00<00:00, 2055.80it/s]\n",
      "100%|██████████| 64/64 [00:00<00:00, 178.19it/s]\n",
      "100%|██████████| 64/64 [00:00<00:00, 146.68it/s]\n",
      "100%|██████████| 64/64 [00:08<00:00,  7.70it/s]\n",
      "100%|██████████| 64/64 [00:00<00:00, 3273.00it/s]\n",
      "100%|██████████| 64/64 [00:00<00:00, 1154.26it/s]\n",
      "100%|██████████| 64/64 [00:00<00:00, 1305.52it/s]\n",
      "100%|██████████| 64/64 [00:00<00:00, 7376.83it/s]\n"
     ]
    },
    {
     "name": "stdout",
     "output_type": "stream",
     "text": [
      "(1, 3329)\n",
      "(114, 3330)\n"
     ]
    },
    {
     "name": "stderr",
     "output_type": "stream",
     "text": [
      "100%|██████████| 64/64 [00:00<00:00, 84334.10it/s]\n",
      "100%|██████████| 64/64 [00:00<00:00, 89.06it/s]\n",
      "100%|██████████| 64/64 [00:00<00:00, 95.33it/s]\n",
      "100%|██████████| 64/64 [00:00<00:00, 92.73it/s]\n",
      "100%|██████████| 64/64 [00:00<00:00, 2175.93it/s]\n",
      "100%|██████████| 64/64 [00:00<00:00, 186.56it/s]\n",
      "100%|██████████| 64/64 [00:00<00:00, 145.30it/s]\n",
      "100%|██████████| 64/64 [00:08<00:00,  7.81it/s]\n",
      "100%|██████████| 64/64 [00:00<00:00, 3443.56it/s]\n",
      "100%|██████████| 64/64 [00:00<00:00, 1375.46it/s]\n",
      "100%|██████████| 64/64 [00:00<00:00, 1227.89it/s]\n",
      "100%|██████████| 64/64 [00:00<00:00, 7383.32it/s]\n",
      "100%|██████████| 64/64 [00:00<00:00, 82850.45it/s]\n",
      " 16%|█▌        | 10/64 [00:00<00:00, 95.53it/s]"
     ]
    },
    {
     "name": "stdout",
     "output_type": "stream",
     "text": [
      "(1, 3329)\n",
      "(115, 3330)\n"
     ]
    },
    {
     "name": "stderr",
     "output_type": "stream",
     "text": [
      "100%|██████████| 64/64 [00:00<00:00, 91.22it/s]\n",
      "100%|██████████| 64/64 [00:00<00:00, 93.23it/s]\n",
      "100%|██████████| 64/64 [00:00<00:00, 95.85it/s]\n",
      "100%|██████████| 64/64 [00:00<00:00, 2183.98it/s]\n",
      "100%|██████████| 64/64 [00:00<00:00, 175.42it/s]\n",
      "100%|██████████| 64/64 [00:00<00:00, 143.90it/s]\n",
      "100%|██████████| 64/64 [00:08<00:00,  7.73it/s]\n",
      "100%|██████████| 64/64 [00:00<00:00, 3367.74it/s]\n",
      "100%|██████████| 64/64 [00:00<00:00, 1380.92it/s]\n",
      "100%|██████████| 64/64 [00:00<00:00, 1130.97it/s]\n",
      "100%|██████████| 64/64 [00:00<00:00, 6145.50it/s]\n",
      "100%|██████████| 64/64 [00:00<00:00, 112222.18it/s]\n",
      " 16%|█▌        | 10/64 [00:00<00:00, 93.73it/s]"
     ]
    },
    {
     "name": "stdout",
     "output_type": "stream",
     "text": [
      "(1, 3329)\n",
      "(116, 3330)\n"
     ]
    },
    {
     "name": "stderr",
     "output_type": "stream",
     "text": [
      "100%|██████████| 64/64 [00:00<00:00, 87.68it/s]\n",
      "100%|██████████| 64/64 [00:00<00:00, 91.61it/s]\n",
      "100%|██████████| 64/64 [00:00<00:00, 97.81it/s]\n",
      "100%|██████████| 64/64 [00:00<00:00, 2222.35it/s]\n",
      "100%|██████████| 64/64 [00:00<00:00, 163.03it/s]\n",
      "100%|██████████| 64/64 [00:00<00:00, 144.92it/s]\n",
      "100%|██████████| 64/64 [00:08<00:00,  7.81it/s]\n",
      "100%|██████████| 64/64 [00:00<00:00, 3254.00it/s]\n",
      "100%|██████████| 64/64 [00:00<00:00, 1274.07it/s]\n",
      "100%|██████████| 64/64 [00:00<00:00, 1115.16it/s]\n",
      "100%|██████████| 64/64 [00:00<00:00, 7137.34it/s]\n"
     ]
    },
    {
     "name": "stdout",
     "output_type": "stream",
     "text": [
      "(1, 3329)\n",
      "(117, 3330)\n"
     ]
    },
    {
     "name": "stderr",
     "output_type": "stream",
     "text": [
      "100%|██████████| 64/64 [00:00<00:00, 88797.70it/s]\n",
      "100%|██████████| 64/64 [00:00<00:00, 90.56it/s]\n",
      "100%|██████████| 64/64 [00:00<00:00, 93.10it/s]\n",
      "100%|██████████| 64/64 [00:00<00:00, 96.72it/s]\n",
      "100%|██████████| 64/64 [00:00<00:00, 2274.72it/s]\n",
      "100%|██████████| 64/64 [00:00<00:00, 184.85it/s]\n",
      "100%|██████████| 64/64 [00:00<00:00, 143.70it/s]\n",
      "100%|██████████| 64/64 [00:08<00:00,  7.68it/s]\n",
      "100%|██████████| 64/64 [00:00<00:00, 3177.39it/s]\n",
      "100%|██████████| 64/64 [00:00<00:00, 1284.45it/s]\n",
      "100%|██████████| 64/64 [00:00<00:00, 1269.93it/s]\n",
      "100%|██████████| 64/64 [00:00<00:00, 6721.47it/s]\n",
      "100%|██████████| 64/64 [00:00<00:00, 81122.83it/s]\n",
      " 16%|█▌        | 10/64 [00:00<00:00, 93.20it/s]"
     ]
    },
    {
     "name": "stdout",
     "output_type": "stream",
     "text": [
      "(1, 3329)\n",
      "(118, 3330)\n"
     ]
    },
    {
     "name": "stderr",
     "output_type": "stream",
     "text": [
      "100%|██████████| 64/64 [00:00<00:00, 88.65it/s]\n",
      "100%|██████████| 64/64 [00:00<00:00, 93.95it/s]\n",
      "100%|██████████| 64/64 [00:00<00:00, 100.31it/s]\n",
      "100%|██████████| 64/64 [00:00<00:00, 2110.39it/s]\n",
      "100%|██████████| 64/64 [00:00<00:00, 176.49it/s]\n",
      "100%|██████████| 64/64 [00:00<00:00, 147.76it/s]\n",
      "100%|██████████| 64/64 [00:08<00:00,  7.71it/s]\n",
      "100%|██████████| 64/64 [00:00<00:00, 3624.71it/s]\n",
      "100%|██████████| 64/64 [00:00<00:00, 1317.74it/s]\n",
      "100%|██████████| 64/64 [00:00<00:00, 1218.05it/s]\n",
      "100%|██████████| 64/64 [00:00<00:00, 4943.29it/s]\n"
     ]
    },
    {
     "name": "stdout",
     "output_type": "stream",
     "text": [
      "(1, 3329)\n",
      "(119, 3330)\n"
     ]
    },
    {
     "name": "stderr",
     "output_type": "stream",
     "text": [
      "100%|██████████| 64/64 [00:00<00:00, 121299.35it/s]\n",
      "100%|██████████| 64/64 [00:00<00:00, 91.44it/s]\n",
      "100%|██████████| 64/64 [00:00<00:00, 91.91it/s]\n",
      "100%|██████████| 64/64 [00:00<00:00, 96.10it/s]\n",
      "100%|██████████| 64/64 [00:00<00:00, 2199.89it/s]\n",
      "100%|██████████| 64/64 [00:00<00:00, 182.69it/s]\n",
      "100%|██████████| 64/64 [00:00<00:00, 148.08it/s]\n",
      "100%|██████████| 64/64 [00:08<00:00,  7.79it/s]\n",
      "100%|██████████| 64/64 [00:00<00:00, 3494.53it/s]\n",
      "100%|██████████| 64/64 [00:00<00:00, 1402.95it/s]\n",
      "100%|██████████| 64/64 [00:00<00:00, 1347.53it/s]\n",
      "100%|██████████| 64/64 [00:00<00:00, 5366.35it/s]\n"
     ]
    },
    {
     "name": "stdout",
     "output_type": "stream",
     "text": [
      "(1, 3329)\n",
      "(120, 3330)\n"
     ]
    },
    {
     "name": "stderr",
     "output_type": "stream",
     "text": [
      "100%|██████████| 64/64 [00:00<00:00, 28475.17it/s]\n",
      "100%|██████████| 64/64 [00:00<00:00, 94.14it/s]\n",
      "100%|██████████| 64/64 [00:00<00:00, 95.98it/s]\n",
      "100%|██████████| 64/64 [00:00<00:00, 97.24it/s]\n",
      "100%|██████████| 64/64 [00:00<00:00, 2258.72it/s]\n",
      "100%|██████████| 64/64 [00:00<00:00, 170.55it/s]\n",
      "100%|██████████| 64/64 [00:00<00:00, 148.14it/s]\n",
      "100%|██████████| 64/64 [00:08<00:00,  7.71it/s]\n",
      "100%|██████████| 64/64 [00:00<00:00, 3017.65it/s]\n",
      "100%|██████████| 64/64 [00:00<00:00, 1345.08it/s]\n",
      "100%|██████████| 64/64 [00:00<00:00, 1307.85it/s]\n",
      "100%|██████████| 64/64 [00:00<00:00, 5791.99it/s]\n"
     ]
    },
    {
     "name": "stdout",
     "output_type": "stream",
     "text": [
      "(1, 3329)\n",
      "(121, 3330)\n"
     ]
    },
    {
     "name": "stderr",
     "output_type": "stream",
     "text": [
      "100%|██████████| 64/64 [00:00<00:00, 76065.59it/s]\n",
      "100%|██████████| 64/64 [00:00<00:00, 90.64it/s]\n",
      "100%|██████████| 64/64 [00:00<00:00, 93.10it/s]\n",
      "100%|██████████| 64/64 [00:00<00:00, 98.64it/s]\n",
      "100%|██████████| 64/64 [00:00<00:00, 2158.00it/s]\n",
      "100%|██████████| 64/64 [00:00<00:00, 174.78it/s]\n",
      "100%|██████████| 64/64 [00:00<00:00, 144.14it/s]\n",
      "100%|██████████| 64/64 [00:08<00:00,  7.60it/s]\n",
      "100%|██████████| 64/64 [00:00<00:00, 3417.38it/s]\n",
      "100%|██████████| 64/64 [00:00<00:00, 1333.59it/s]\n",
      "100%|██████████| 64/64 [00:00<00:00, 1303.58it/s]\n",
      "100%|██████████| 64/64 [00:00<00:00, 6672.52it/s]\n"
     ]
    },
    {
     "name": "stdout",
     "output_type": "stream",
     "text": [
      "(1, 3329)\n",
      "(122, 3330)\n"
     ]
    },
    {
     "name": "stderr",
     "output_type": "stream",
     "text": [
      "100%|██████████| 64/64 [00:00<00:00, 94220.94it/s]\n",
      "100%|██████████| 64/64 [00:00<00:00, 90.75it/s]\n",
      "100%|██████████| 64/64 [00:00<00:00, 93.50it/s]\n",
      "100%|██████████| 64/64 [00:00<00:00, 99.29it/s] \n",
      "100%|██████████| 64/64 [00:00<00:00, 1849.10it/s]\n",
      "100%|██████████| 64/64 [00:00<00:00, 184.12it/s]\n",
      "100%|██████████| 64/64 [00:00<00:00, 148.46it/s]\n",
      "100%|██████████| 64/64 [00:08<00:00,  7.70it/s]\n",
      "100%|██████████| 64/64 [00:00<00:00, 3076.73it/s]\n",
      "100%|██████████| 64/64 [00:00<00:00, 1308.50it/s]\n",
      "100%|██████████| 64/64 [00:00<00:00, 1337.24it/s]\n",
      "100%|██████████| 64/64 [00:00<00:00, 7411.45it/s]\n"
     ]
    },
    {
     "name": "stdout",
     "output_type": "stream",
     "text": [
      "(1, 3329)\n",
      "(123, 3330)\n"
     ]
    },
    {
     "name": "stderr",
     "output_type": "stream",
     "text": [
      "100%|██████████| 64/64 [00:00<00:00, 31018.66it/s]\n",
      "100%|██████████| 64/64 [00:00<00:00, 86.11it/s]\n",
      "100%|██████████| 64/64 [00:00<00:00, 92.87it/s]\n",
      "100%|██████████| 64/64 [00:00<00:00, 96.70it/s]\n",
      "100%|██████████| 64/64 [00:00<00:00, 2290.40it/s]\n",
      "100%|██████████| 64/64 [00:00<00:00, 177.40it/s]\n",
      "100%|██████████| 64/64 [00:00<00:00, 147.31it/s]\n",
      "100%|██████████| 64/64 [00:08<00:00,  7.83it/s]\n",
      "100%|██████████| 64/64 [00:00<00:00, 3312.22it/s]\n",
      "100%|██████████| 64/64 [00:00<00:00, 1369.81it/s]\n",
      "100%|██████████| 64/64 [00:00<00:00, 1280.18it/s]\n",
      "100%|██████████| 64/64 [00:00<00:00, 5648.78it/s]\n"
     ]
    },
    {
     "name": "stdout",
     "output_type": "stream",
     "text": [
      "(1, 3329)\n",
      "(124, 3330)\n"
     ]
    },
    {
     "name": "stderr",
     "output_type": "stream",
     "text": [
      "100%|██████████| 64/64 [00:00<00:00, 126919.84it/s]\n",
      "100%|██████████| 64/64 [00:00<00:00, 92.83it/s]\n",
      "100%|██████████| 64/64 [00:00<00:00, 91.04it/s]\n",
      "100%|██████████| 64/64 [00:00<00:00, 98.73it/s]\n",
      "100%|██████████| 64/64 [00:00<00:00, 2355.48it/s]\n",
      "100%|██████████| 64/64 [00:00<00:00, 180.24it/s]\n",
      "100%|██████████| 64/64 [00:00<00:00, 145.02it/s]\n",
      "100%|██████████| 64/64 [00:08<00:00,  7.68it/s]\n",
      "100%|██████████| 64/64 [00:00<00:00, 3483.46it/s]\n",
      "100%|██████████| 64/64 [00:00<00:00, 1336.10it/s]\n",
      "100%|██████████| 64/64 [00:00<00:00, 1327.88it/s]\n",
      "100%|██████████| 64/64 [00:00<00:00, 6622.31it/s]\n"
     ]
    },
    {
     "name": "stdout",
     "output_type": "stream",
     "text": [
      "(1, 3329)\n",
      "(125, 3330)\n"
     ]
    },
    {
     "name": "stderr",
     "output_type": "stream",
     "text": [
      "100%|██████████| 64/64 [00:00<00:00, 216305.77it/s]\n",
      "100%|██████████| 64/64 [00:00<00:00, 89.93it/s]\n",
      "100%|██████████| 64/64 [00:00<00:00, 92.65it/s]\n",
      "100%|██████████| 64/64 [00:00<00:00, 94.46it/s]\n",
      "100%|██████████| 64/64 [00:00<00:00, 2166.95it/s]\n",
      "100%|██████████| 64/64 [00:00<00:00, 178.20it/s]\n",
      "100%|██████████| 64/64 [00:00<00:00, 145.23it/s]\n",
      "100%|██████████| 64/64 [00:08<00:00,  7.67it/s]\n",
      "100%|██████████| 64/64 [00:00<00:00, 3172.28it/s]\n",
      "100%|██████████| 64/64 [00:00<00:00, 1237.34it/s]\n",
      "100%|██████████| 64/64 [00:00<00:00, 1311.48it/s]\n",
      "100%|██████████| 64/64 [00:00<00:00, 6843.30it/s]\n"
     ]
    },
    {
     "name": "stdout",
     "output_type": "stream",
     "text": [
      "(1, 3329)\n",
      "(126, 3330)\n"
     ]
    },
    {
     "name": "stderr",
     "output_type": "stream",
     "text": [
      "100%|██████████| 64/64 [00:00<00:00, 47077.42it/s]\n",
      "100%|██████████| 64/64 [00:00<00:00, 93.94it/s]\n",
      "100%|██████████| 64/64 [00:00<00:00, 93.44it/s]\n",
      "100%|██████████| 64/64 [00:00<00:00, 96.14it/s]\n",
      "100%|██████████| 64/64 [00:00<00:00, 1838.80it/s]\n",
      "100%|██████████| 64/64 [00:00<00:00, 181.24it/s]\n",
      "100%|██████████| 64/64 [00:00<00:00, 133.54it/s]\n",
      "100%|██████████| 64/64 [00:08<00:00,  7.53it/s]\n",
      "100%|██████████| 64/64 [00:00<00:00, 3072.47it/s]\n",
      "100%|██████████| 64/64 [00:00<00:00, 1278.42it/s]\n",
      "100%|██████████| 64/64 [00:00<00:00, 1251.42it/s]\n",
      "100%|██████████| 64/64 [00:00<00:00, 7288.70it/s]\n"
     ]
    },
    {
     "name": "stdout",
     "output_type": "stream",
     "text": [
      "(1, 3329)\n",
      "(127, 3330)\n"
     ]
    },
    {
     "name": "stderr",
     "output_type": "stream",
     "text": [
      "100%|██████████| 64/64 [00:00<00:00, 93206.76it/s]\n",
      "100%|██████████| 64/64 [00:00<00:00, 87.03it/s]\n",
      "100%|██████████| 64/64 [00:00<00:00, 89.01it/s]\n",
      "100%|██████████| 64/64 [00:00<00:00, 92.82it/s]\n",
      "100%|██████████| 64/64 [00:00<00:00, 2242.23it/s]\n",
      "100%|██████████| 64/64 [00:00<00:00, 170.07it/s]\n",
      "100%|██████████| 64/64 [00:00<00:00, 138.89it/s]\n",
      "100%|██████████| 64/64 [00:08<00:00,  7.56it/s]\n",
      "100%|██████████| 64/64 [00:00<00:00, 3510.25it/s]\n",
      "100%|██████████| 64/64 [00:00<00:00, 1320.01it/s]\n",
      "100%|██████████| 64/64 [00:00<00:00, 1219.67it/s]\n",
      "100%|██████████| 64/64 [00:00<00:00, 6233.55it/s]\n"
     ]
    },
    {
     "name": "stdout",
     "output_type": "stream",
     "text": [
      "(1, 3329)\n",
      "(128, 3330)\n"
     ]
    },
    {
     "name": "stderr",
     "output_type": "stream",
     "text": [
      "100%|██████████| 64/64 [00:00<00:00, 105021.70it/s]\n",
      "100%|██████████| 64/64 [00:00<00:00, 85.24it/s]\n",
      "100%|██████████| 64/64 [00:00<00:00, 91.27it/s]\n",
      "100%|██████████| 64/64 [00:00<00:00, 96.92it/s]\n",
      "100%|██████████| 64/64 [00:00<00:00, 2265.99it/s]\n",
      "100%|██████████| 64/64 [00:00<00:00, 175.68it/s]\n",
      "100%|██████████| 64/64 [00:00<00:00, 151.12it/s]\n",
      "100%|██████████| 64/64 [00:08<00:00,  7.63it/s]\n",
      "100%|██████████| 64/64 [00:00<00:00, 3312.26it/s]\n",
      "100%|██████████| 64/64 [00:00<00:00, 985.36it/s]\n",
      "100%|██████████| 64/64 [00:00<00:00, 1305.42it/s]\n",
      "100%|██████████| 64/64 [00:00<00:00, 7118.04it/s]\n"
     ]
    },
    {
     "name": "stdout",
     "output_type": "stream",
     "text": [
      "(1, 3329)\n",
      "(129, 3330)\n"
     ]
    },
    {
     "name": "stderr",
     "output_type": "stream",
     "text": [
      "100%|██████████| 64/64 [00:00<00:00, 24651.98it/s]\n",
      "100%|██████████| 64/64 [00:00<00:00, 88.92it/s]\n",
      "100%|██████████| 64/64 [00:00<00:00, 91.98it/s]\n",
      "100%|██████████| 64/64 [00:00<00:00, 94.97it/s]\n",
      "100%|██████████| 64/64 [00:00<00:00, 2240.66it/s]\n",
      "100%|██████████| 64/64 [00:00<00:00, 179.51it/s]\n",
      "100%|██████████| 64/64 [00:00<00:00, 145.43it/s]\n",
      "100%|██████████| 64/64 [00:08<00:00,  7.59it/s]\n",
      "100%|██████████| 64/64 [00:00<00:00, 3421.26it/s]\n",
      "100%|██████████| 64/64 [00:00<00:00, 1316.93it/s]\n",
      "100%|██████████| 64/64 [00:00<00:00, 1344.19it/s]\n",
      "100%|██████████| 64/64 [00:00<00:00, 7481.06it/s]\n"
     ]
    },
    {
     "name": "stdout",
     "output_type": "stream",
     "text": [
      "(1, 3329)\n",
      "(130, 3330)\n"
     ]
    },
    {
     "name": "stderr",
     "output_type": "stream",
     "text": [
      "100%|██████████| 64/64 [00:00<00:00, 18387.25it/s]\n",
      "100%|██████████| 64/64 [00:00<00:00, 85.25it/s]\n",
      "100%|██████████| 64/64 [00:00<00:00, 89.27it/s]\n",
      "100%|██████████| 64/64 [00:00<00:00, 98.03it/s]\n",
      "100%|██████████| 64/64 [00:00<00:00, 1727.75it/s]\n",
      "100%|██████████| 64/64 [00:00<00:00, 175.53it/s]\n",
      "100%|██████████| 64/64 [00:00<00:00, 142.49it/s]\n",
      "100%|██████████| 64/64 [00:08<00:00,  7.69it/s]\n",
      "100%|██████████| 64/64 [00:00<00:00, 3009.06it/s]\n",
      "100%|██████████| 64/64 [00:00<00:00, 1339.79it/s]\n",
      "100%|██████████| 64/64 [00:00<00:00, 1120.33it/s]\n",
      "100%|██████████| 64/64 [00:00<00:00, 8273.04it/s]\n"
     ]
    },
    {
     "name": "stdout",
     "output_type": "stream",
     "text": [
      "(1, 3329)\n",
      "(131, 3330)\n"
     ]
    },
    {
     "name": "stderr",
     "output_type": "stream",
     "text": [
      "100%|██████████| 64/64 [00:00<00:00, 96490.10it/s]\n",
      "100%|██████████| 64/64 [00:00<00:00, 92.50it/s]\n",
      "100%|██████████| 64/64 [00:00<00:00, 93.01it/s]\n",
      "100%|██████████| 64/64 [00:00<00:00, 96.93it/s]\n",
      "100%|██████████| 64/64 [00:00<00:00, 2250.65it/s]\n",
      "100%|██████████| 64/64 [00:00<00:00, 175.64it/s]\n",
      "100%|██████████| 64/64 [00:00<00:00, 142.94it/s]\n",
      "100%|██████████| 64/64 [00:08<00:00,  7.62it/s]\n",
      "100%|██████████| 64/64 [00:00<00:00, 3397.23it/s]\n",
      "100%|██████████| 64/64 [00:00<00:00, 1337.43it/s]\n",
      "100%|██████████| 64/64 [00:00<00:00, 1329.18it/s]\n",
      "100%|██████████| 64/64 [00:00<00:00, 8949.64it/s]\n"
     ]
    },
    {
     "name": "stdout",
     "output_type": "stream",
     "text": [
      "(1, 3329)\n",
      "(132, 3330)\n"
     ]
    },
    {
     "name": "stderr",
     "output_type": "stream",
     "text": [
      "100%|██████████| 64/64 [00:00<00:00, 129117.58it/s]\n",
      "100%|██████████| 64/64 [00:00<00:00, 90.90it/s]\n",
      "100%|██████████| 64/64 [00:00<00:00, 91.15it/s]\n",
      "100%|██████████| 64/64 [00:00<00:00, 93.22it/s]\n",
      "100%|██████████| 64/64 [00:00<00:00, 2088.16it/s]\n",
      "100%|██████████| 64/64 [00:00<00:00, 167.87it/s]\n",
      "100%|██████████| 64/64 [00:00<00:00, 144.14it/s]\n",
      "100%|██████████| 64/64 [00:08<00:00,  7.59it/s]\n",
      "100%|██████████| 64/64 [00:00<00:00, 3386.56it/s]\n",
      "100%|██████████| 64/64 [00:00<00:00, 1270.25it/s]\n",
      "100%|██████████| 64/64 [00:00<00:00, 1203.30it/s]\n",
      "100%|██████████| 64/64 [00:00<00:00, 7905.86it/s]\n"
     ]
    },
    {
     "name": "stdout",
     "output_type": "stream",
     "text": [
      "(1, 3329)\n",
      "(133, 3330)\n"
     ]
    },
    {
     "name": "stderr",
     "output_type": "stream",
     "text": [
      "100%|██████████| 64/64 [00:00<00:00, 129055.51it/s]\n",
      "100%|██████████| 64/64 [00:00<00:00, 90.40it/s]\n",
      "100%|██████████| 64/64 [00:00<00:00, 93.47it/s]\n",
      "100%|██████████| 64/64 [00:00<00:00, 96.68it/s]\n",
      "100%|██████████| 64/64 [00:00<00:00, 2185.67it/s]\n",
      "100%|██████████| 64/64 [00:00<00:00, 171.57it/s]\n",
      "100%|██████████| 64/64 [00:00<00:00, 141.35it/s]\n",
      "100%|██████████| 64/64 [00:08<00:00,  7.61it/s]\n",
      "100%|██████████| 64/64 [00:00<00:00, 3463.59it/s]\n",
      "100%|██████████| 64/64 [00:00<00:00, 1332.54it/s]\n",
      "100%|██████████| 64/64 [00:00<00:00, 1264.92it/s]\n",
      "100%|██████████| 64/64 [00:00<00:00, 7313.52it/s]\n"
     ]
    },
    {
     "name": "stdout",
     "output_type": "stream",
     "text": [
      "(1, 3329)\n",
      "(134, 3330)\n"
     ]
    },
    {
     "name": "stderr",
     "output_type": "stream",
     "text": [
      "100%|██████████| 64/64 [00:00<00:00, 15009.81it/s]\n",
      "100%|██████████| 64/64 [00:00<00:00, 91.12it/s]\n",
      "100%|██████████| 64/64 [00:00<00:00, 88.69it/s]\n",
      "100%|██████████| 64/64 [00:00<00:00, 97.86it/s]\n",
      "100%|██████████| 64/64 [00:00<00:00, 1434.43it/s]\n",
      "100%|██████████| 64/64 [00:00<00:00, 179.34it/s]\n",
      "100%|██████████| 64/64 [00:00<00:00, 144.97it/s]\n",
      "100%|██████████| 64/64 [00:08<00:00,  7.58it/s]\n",
      "100%|██████████| 64/64 [00:00<00:00, 3234.28it/s]\n",
      "100%|██████████| 64/64 [00:00<00:00, 1320.51it/s]\n",
      "100%|██████████| 64/64 [00:00<00:00, 1250.32it/s]\n",
      "100%|██████████| 64/64 [00:00<00:00, 7186.26it/s]\n"
     ]
    },
    {
     "name": "stdout",
     "output_type": "stream",
     "text": [
      "(1, 3329)\n",
      "(135, 3330)\n"
     ]
    },
    {
     "name": "stderr",
     "output_type": "stream",
     "text": [
      "100%|██████████| 64/64 [00:00<00:00, 31643.93it/s]\n",
      "100%|██████████| 64/64 [00:00<00:00, 90.01it/s]\n",
      "100%|██████████| 64/64 [00:00<00:00, 91.89it/s]\n",
      "100%|██████████| 64/64 [00:00<00:00, 95.61it/s]\n",
      "100%|██████████| 64/64 [00:00<00:00, 2192.04it/s]\n",
      "100%|██████████| 64/64 [00:00<00:00, 182.20it/s]\n",
      "100%|██████████| 64/64 [00:00<00:00, 137.99it/s]\n",
      "100%|██████████| 64/64 [00:08<00:00,  7.64it/s]\n",
      "100%|██████████| 64/64 [00:00<00:00, 3090.01it/s]\n",
      "100%|██████████| 64/64 [00:00<00:00, 1243.26it/s]\n",
      "100%|██████████| 64/64 [00:00<00:00, 1276.41it/s]\n",
      "100%|██████████| 64/64 [00:00<00:00, 7222.41it/s]\n"
     ]
    },
    {
     "name": "stdout",
     "output_type": "stream",
     "text": [
      "(1, 3329)\n",
      "(136, 3330)\n"
     ]
    },
    {
     "name": "stderr",
     "output_type": "stream",
     "text": [
      "100%|██████████| 64/64 [00:00<00:00, 132495.29it/s]\n",
      "100%|██████████| 64/64 [00:00<00:00, 89.48it/s]\n",
      "100%|██████████| 64/64 [00:00<00:00, 92.04it/s]\n",
      "100%|██████████| 64/64 [00:00<00:00, 94.08it/s]\n",
      "100%|██████████| 64/64 [00:00<00:00, 1528.88it/s]\n",
      "100%|██████████| 64/64 [00:00<00:00, 178.16it/s]\n",
      "100%|██████████| 64/64 [00:00<00:00, 146.72it/s]\n",
      "100%|██████████| 64/64 [00:08<00:00,  7.57it/s]\n",
      "100%|██████████| 64/64 [00:00<00:00, 3298.42it/s]\n",
      "100%|██████████| 64/64 [00:00<00:00, 1329.91it/s]\n",
      "100%|██████████| 64/64 [00:00<00:00, 1270.38it/s]\n",
      "100%|██████████| 64/64 [00:00<00:00, 7717.21it/s]\n"
     ]
    },
    {
     "name": "stdout",
     "output_type": "stream",
     "text": [
      "(1, 3329)\n",
      "(137, 3330)\n"
     ]
    },
    {
     "name": "stderr",
     "output_type": "stream",
     "text": [
      "100%|██████████| 64/64 [00:00<00:00, 71908.77it/s]\n",
      "100%|██████████| 64/64 [00:00<00:00, 87.95it/s]\n",
      "100%|██████████| 64/64 [00:00<00:00, 89.71it/s]\n",
      "100%|██████████| 64/64 [00:00<00:00, 96.71it/s]\n",
      "100%|██████████| 64/64 [00:00<00:00, 2378.10it/s]\n",
      "100%|██████████| 64/64 [00:00<00:00, 176.82it/s]\n",
      "100%|██████████| 64/64 [00:00<00:00, 140.93it/s]\n",
      "100%|██████████| 64/64 [00:08<00:00,  7.64it/s]\n",
      "100%|██████████| 64/64 [00:00<00:00, 3630.35it/s]\n",
      "100%|██████████| 64/64 [00:00<00:00, 1139.03it/s]\n",
      "100%|██████████| 64/64 [00:00<00:00, 1075.39it/s]\n",
      "100%|██████████| 64/64 [00:00<00:00, 6551.68it/s]\n"
     ]
    },
    {
     "name": "stdout",
     "output_type": "stream",
     "text": [
      "(1, 3329)\n",
      "(138, 3330)\n"
     ]
    },
    {
     "name": "stderr",
     "output_type": "stream",
     "text": [
      "100%|██████████| 64/64 [00:00<00:00, 31148.23it/s]\n",
      "100%|██████████| 64/64 [00:00<00:00, 90.34it/s]\n",
      "100%|██████████| 64/64 [00:00<00:00, 93.44it/s]\n",
      "100%|██████████| 64/64 [00:00<00:00, 93.45it/s]\n",
      "100%|██████████| 64/64 [00:00<00:00, 2076.73it/s]\n",
      "100%|██████████| 64/64 [00:00<00:00, 178.31it/s]\n",
      "100%|██████████| 64/64 [00:00<00:00, 144.21it/s]\n",
      "100%|██████████| 64/64 [00:08<00:00,  7.56it/s]\n",
      "100%|██████████| 64/64 [00:00<00:00, 2931.09it/s]\n",
      "100%|██████████| 64/64 [00:00<00:00, 1197.76it/s]\n",
      "100%|██████████| 64/64 [00:00<00:00, 1285.35it/s]\n",
      "100%|██████████| 64/64 [00:00<00:00, 9474.97it/s]\n"
     ]
    },
    {
     "name": "stdout",
     "output_type": "stream",
     "text": [
      "(1, 3329)\n",
      "(139, 3330)\n"
     ]
    },
    {
     "name": "stderr",
     "output_type": "stream",
     "text": [
      "100%|██████████| 64/64 [00:00<00:00, 96559.52it/s]\n",
      "100%|██████████| 64/64 [00:00<00:00, 89.92it/s]\n",
      "100%|██████████| 64/64 [00:00<00:00, 92.28it/s]\n",
      "100%|██████████| 64/64 [00:00<00:00, 97.70it/s]\n",
      "100%|██████████| 64/64 [00:00<00:00, 2257.81it/s]\n",
      "100%|██████████| 64/64 [00:00<00:00, 174.40it/s]\n",
      "100%|██████████| 64/64 [00:00<00:00, 139.97it/s]\n",
      "100%|██████████| 64/64 [00:08<00:00,  7.53it/s]\n",
      "100%|██████████| 64/64 [00:00<00:00, 3450.46it/s]\n",
      "100%|██████████| 64/64 [00:00<00:00, 1331.70it/s]\n",
      "100%|██████████| 64/64 [00:00<00:00, 1057.19it/s]\n",
      "100%|██████████| 64/64 [00:00<00:00, 7637.29it/s]\n"
     ]
    },
    {
     "name": "stdout",
     "output_type": "stream",
     "text": [
      "(1, 3329)\n",
      "(140, 3330)\n"
     ]
    },
    {
     "name": "stderr",
     "output_type": "stream",
     "text": [
      "100%|██████████| 64/64 [00:00<00:00, 74297.11it/s]\n",
      "100%|██████████| 64/64 [00:00<00:00, 90.21it/s]\n",
      "100%|██████████| 64/64 [00:00<00:00, 93.69it/s]\n",
      "100%|██████████| 64/64 [00:00<00:00, 96.12it/s]\n",
      "100%|██████████| 64/64 [00:00<00:00, 2179.20it/s]\n",
      "100%|██████████| 64/64 [00:00<00:00, 172.03it/s]\n",
      "100%|██████████| 64/64 [00:00<00:00, 143.44it/s]\n",
      "100%|██████████| 64/64 [00:08<00:00,  7.64it/s]\n",
      "100%|██████████| 64/64 [00:00<00:00, 3326.71it/s]\n",
      "100%|██████████| 64/64 [00:00<00:00, 1264.55it/s]\n",
      "100%|██████████| 64/64 [00:00<00:00, 1252.12it/s]\n",
      "100%|██████████| 64/64 [00:00<00:00, 6626.24it/s]\n"
     ]
    },
    {
     "name": "stdout",
     "output_type": "stream",
     "text": [
      "(1, 3329)\n",
      "(141, 3330)\n"
     ]
    },
    {
     "name": "stderr",
     "output_type": "stream",
     "text": [
      "100%|██████████| 64/64 [00:00<00:00, 109789.55it/s]\n",
      "100%|██████████| 64/64 [00:00<00:00, 93.23it/s]\n",
      "100%|██████████| 64/64 [00:00<00:00, 92.30it/s]\n",
      "100%|██████████| 64/64 [00:00<00:00, 99.81it/s]\n",
      "100%|██████████| 64/64 [00:00<00:00, 2105.95it/s]\n",
      "100%|██████████| 64/64 [00:00<00:00, 173.56it/s]\n",
      "100%|██████████| 64/64 [00:00<00:00, 146.03it/s]\n",
      "100%|██████████| 64/64 [00:08<00:00,  7.65it/s]\n",
      "100%|██████████| 64/64 [00:00<00:00, 3242.72it/s]\n",
      "100%|██████████| 64/64 [00:00<00:00, 1275.14it/s]\n",
      "100%|██████████| 64/64 [00:00<00:00, 1329.24it/s]\n",
      "100%|██████████| 64/64 [00:00<00:00, 7973.73it/s]\n"
     ]
    },
    {
     "name": "stdout",
     "output_type": "stream",
     "text": [
      "(1, 3329)\n",
      "(142, 3330)\n"
     ]
    },
    {
     "name": "stderr",
     "output_type": "stream",
     "text": [
      "100%|██████████| 64/64 [00:00<00:00, 28017.48it/s]\n",
      "100%|██████████| 64/64 [00:00<00:00, 90.39it/s]\n",
      "100%|██████████| 64/64 [00:00<00:00, 92.22it/s]\n",
      "100%|██████████| 64/64 [00:00<00:00, 93.16it/s]\n",
      "100%|██████████| 64/64 [00:00<00:00, 2182.26it/s]\n",
      "100%|██████████| 64/64 [00:00<00:00, 180.33it/s]\n",
      "100%|██████████| 64/64 [00:00<00:00, 140.32it/s]\n",
      "100%|██████████| 64/64 [00:08<00:00,  7.62it/s]\n",
      "100%|██████████| 64/64 [00:00<00:00, 3558.78it/s]\n",
      "100%|██████████| 64/64 [00:00<00:00, 1349.73it/s]\n",
      "100%|██████████| 64/64 [00:00<00:00, 1293.20it/s]\n",
      "100%|██████████| 64/64 [00:00<00:00, 6310.34it/s]\n"
     ]
    },
    {
     "name": "stdout",
     "output_type": "stream",
     "text": [
      "(1, 3329)\n",
      "(143, 3330)\n"
     ]
    },
    {
     "name": "stderr",
     "output_type": "stream",
     "text": [
      "100%|██████████| 64/64 [00:00<00:00, 117993.61it/s]\n",
      "100%|██████████| 64/64 [00:00<00:00, 90.54it/s]\n",
      "100%|██████████| 64/64 [00:00<00:00, 93.18it/s]\n",
      "100%|██████████| 64/64 [00:00<00:00, 99.36it/s]\n",
      "100%|██████████| 64/64 [00:00<00:00, 2133.90it/s]\n",
      "100%|██████████| 64/64 [00:00<00:00, 179.02it/s]\n",
      "100%|██████████| 64/64 [00:00<00:00, 147.35it/s]\n",
      "100%|██████████| 64/64 [00:08<00:00,  7.64it/s]\n",
      "100%|██████████| 64/64 [00:00<00:00, 3534.18it/s]\n",
      "100%|██████████| 64/64 [00:00<00:00, 1336.94it/s]\n",
      "100%|██████████| 64/64 [00:00<00:00, 1183.34it/s]\n",
      "100%|██████████| 64/64 [00:00<00:00, 7420.47it/s]\n"
     ]
    },
    {
     "name": "stdout",
     "output_type": "stream",
     "text": [
      "(1, 3329)\n",
      "(144, 3330)\n"
     ]
    },
    {
     "name": "stderr",
     "output_type": "stream",
     "text": [
      "100%|██████████| 64/64 [00:00<00:00, 23059.48it/s]\n",
      "100%|██████████| 64/64 [00:00<00:00, 91.07it/s]\n",
      "100%|██████████| 64/64 [00:00<00:00, 92.12it/s]\n",
      "100%|██████████| 64/64 [00:00<00:00, 95.57it/s]\n",
      "100%|██████████| 64/64 [00:00<00:00, 2214.78it/s]\n",
      "100%|██████████| 64/64 [00:00<00:00, 175.44it/s]\n",
      "100%|██████████| 64/64 [00:00<00:00, 141.50it/s]\n",
      "100%|██████████| 64/64 [00:08<00:00,  7.69it/s]\n",
      "100%|██████████| 64/64 [00:00<00:00, 2958.98it/s]\n",
      "100%|██████████| 64/64 [00:00<00:00, 1321.03it/s]\n",
      "100%|██████████| 64/64 [00:00<00:00, 1287.92it/s]\n",
      "100%|██████████| 64/64 [00:00<00:00, 7600.96it/s]\n"
     ]
    },
    {
     "name": "stdout",
     "output_type": "stream",
     "text": [
      "(1, 3329)\n",
      "(145, 3330)\n"
     ]
    },
    {
     "name": "stderr",
     "output_type": "stream",
     "text": [
      "100%|██████████| 64/64 [00:00<00:00, 15766.21it/s]\n",
      "100%|██████████| 64/64 [00:00<00:00, 90.46it/s]\n",
      "100%|██████████| 64/64 [00:00<00:00, 88.96it/s]\n",
      "100%|██████████| 64/64 [00:00<00:00, 98.51it/s]\n",
      "100%|██████████| 64/64 [00:00<00:00, 2178.86it/s]\n",
      "100%|██████████| 64/64 [00:00<00:00, 178.55it/s]\n",
      "100%|██████████| 64/64 [00:00<00:00, 148.27it/s]\n",
      "100%|██████████| 64/64 [00:08<00:00,  7.55it/s]\n",
      "100%|██████████| 64/64 [00:00<00:00, 3550.36it/s]\n",
      "100%|██████████| 64/64 [00:00<00:00, 1392.25it/s]\n",
      "100%|██████████| 64/64 [00:00<00:00, 1326.85it/s]\n",
      "100%|██████████| 64/64 [00:00<00:00, 6268.78it/s]\n"
     ]
    },
    {
     "name": "stdout",
     "output_type": "stream",
     "text": [
      "(1, 3329)\n",
      "(146, 3330)\n"
     ]
    },
    {
     "name": "stderr",
     "output_type": "stream",
     "text": [
      "100%|██████████| 64/64 [00:00<00:00, 67547.93it/s]\n",
      "100%|██████████| 64/64 [00:00<00:00, 89.90it/s]\n",
      "100%|██████████| 64/64 [00:00<00:00, 92.02it/s]\n",
      "100%|██████████| 64/64 [00:00<00:00, 97.98it/s]\n",
      "100%|██████████| 64/64 [00:00<00:00, 2143.04it/s]\n",
      "100%|██████████| 64/64 [00:00<00:00, 164.30it/s]\n",
      "100%|██████████| 64/64 [00:00<00:00, 140.17it/s]\n",
      "100%|██████████| 64/64 [00:08<00:00,  7.46it/s]\n",
      "100%|██████████| 64/64 [00:00<00:00, 2631.85it/s]\n",
      "100%|██████████| 64/64 [00:00<00:00, 1367.54it/s]\n",
      "100%|██████████| 64/64 [00:00<00:00, 1135.09it/s]\n",
      "100%|██████████| 64/64 [00:00<00:00, 7966.86it/s]\n"
     ]
    },
    {
     "name": "stdout",
     "output_type": "stream",
     "text": [
      "(1, 3329)\n",
      "(147, 3330)\n"
     ]
    },
    {
     "name": "stderr",
     "output_type": "stream",
     "text": [
      "100%|██████████| 64/64 [00:00<00:00, 15686.97it/s]\n",
      "100%|██████████| 64/64 [00:00<00:00, 92.67it/s]\n",
      "100%|██████████| 64/64 [00:00<00:00, 91.92it/s]\n",
      "100%|██████████| 64/64 [00:00<00:00, 91.97it/s]\n",
      "100%|██████████| 64/64 [00:00<00:00, 2159.61it/s]\n",
      "100%|██████████| 64/64 [00:00<00:00, 176.01it/s]\n",
      "100%|██████████| 64/64 [00:00<00:00, 140.27it/s]\n",
      "100%|██████████| 64/64 [00:08<00:00,  7.58it/s]\n",
      "100%|██████████| 64/64 [00:00<00:00, 3286.63it/s]\n",
      "100%|██████████| 64/64 [00:00<00:00, 981.32it/s]\n",
      "100%|██████████| 64/64 [00:00<00:00, 1057.47it/s]\n",
      "100%|██████████| 64/64 [00:00<00:00, 6565.78it/s]\n"
     ]
    },
    {
     "name": "stdout",
     "output_type": "stream",
     "text": [
      "(1, 3329)\n",
      "(148, 3330)\n"
     ]
    },
    {
     "name": "stderr",
     "output_type": "stream",
     "text": [
      "100%|██████████| 64/64 [00:00<00:00, 203978.31it/s]\n",
      "100%|██████████| 64/64 [00:00<00:00, 90.59it/s]\n",
      "100%|██████████| 64/64 [00:00<00:00, 94.40it/s]\n",
      "100%|██████████| 64/64 [00:00<00:00, 93.94it/s]\n",
      "100%|██████████| 64/64 [00:00<00:00, 2370.90it/s]\n",
      "100%|██████████| 64/64 [00:00<00:00, 174.06it/s]\n",
      "100%|██████████| 64/64 [00:00<00:00, 144.61it/s]\n",
      "100%|██████████| 64/64 [00:08<00:00,  7.55it/s]\n",
      "100%|██████████| 64/64 [00:00<00:00, 3319.63it/s]\n",
      "100%|██████████| 64/64 [00:00<00:00, 1338.95it/s]\n",
      "100%|██████████| 64/64 [00:00<00:00, 1284.45it/s]\n",
      "100%|██████████| 64/64 [00:00<00:00, 7535.66it/s]\n"
     ]
    },
    {
     "name": "stdout",
     "output_type": "stream",
     "text": [
      "(1, 3329)\n",
      "(149, 3330)\n"
     ]
    },
    {
     "name": "stderr",
     "output_type": "stream",
     "text": [
      "100%|██████████| 64/64 [00:00<00:00, 57235.70it/s]\n",
      "100%|██████████| 64/64 [00:00<00:00, 89.25it/s]\n",
      "100%|██████████| 64/64 [00:00<00:00, 90.74it/s]\n",
      "100%|██████████| 64/64 [00:00<00:00, 95.50it/s]\n",
      "100%|██████████| 64/64 [00:00<00:00, 2045.27it/s]\n",
      "100%|██████████| 64/64 [00:00<00:00, 176.38it/s]\n",
      "100%|██████████| 64/64 [00:00<00:00, 143.24it/s]\n",
      "100%|██████████| 64/64 [00:08<00:00,  7.57it/s]\n",
      "100%|██████████| 64/64 [00:00<00:00, 3415.73it/s]\n",
      "100%|██████████| 64/64 [00:00<00:00, 1223.29it/s]\n",
      "100%|██████████| 64/64 [00:00<00:00, 1259.97it/s]\n",
      "100%|██████████| 64/64 [00:00<00:00, 8014.43it/s]\n"
     ]
    },
    {
     "name": "stdout",
     "output_type": "stream",
     "text": [
      "(1, 3329)\n",
      "(150, 3330)\n"
     ]
    },
    {
     "name": "stderr",
     "output_type": "stream",
     "text": [
      "100%|██████████| 64/64 [00:00<00:00, 187063.04it/s]\n",
      "100%|██████████| 64/64 [00:00<00:00, 88.13it/s]\n",
      "100%|██████████| 64/64 [00:00<00:00, 91.26it/s]\n",
      "100%|██████████| 64/64 [00:00<00:00, 95.72it/s]\n",
      "100%|██████████| 64/64 [00:00<00:00, 2130.20it/s]\n",
      "100%|██████████| 64/64 [00:00<00:00, 169.11it/s]\n",
      "100%|██████████| 64/64 [00:00<00:00, 142.90it/s]\n",
      "100%|██████████| 64/64 [00:08<00:00,  7.63it/s]\n",
      "100%|██████████| 64/64 [00:00<00:00, 3362.93it/s]\n",
      "100%|██████████| 64/64 [00:00<00:00, 1287.37it/s]\n",
      "100%|██████████| 64/64 [00:00<00:00, 1323.03it/s]\n",
      "100%|██████████| 64/64 [00:00<00:00, 7650.35it/s]\n"
     ]
    },
    {
     "name": "stdout",
     "output_type": "stream",
     "text": [
      "(1, 3329)\n",
      "(151, 3330)\n"
     ]
    },
    {
     "name": "stderr",
     "output_type": "stream",
     "text": [
      "100%|██████████| 64/64 [00:00<00:00, 6098.45it/s]\n",
      "100%|██████████| 64/64 [00:00<00:00, 88.02it/s]\n",
      "100%|██████████| 64/64 [00:00<00:00, 90.71it/s]\n",
      "100%|██████████| 64/64 [00:00<00:00, 96.97it/s]\n",
      "100%|██████████| 64/64 [00:00<00:00, 2124.61it/s]\n",
      "100%|██████████| 64/64 [00:00<00:00, 179.84it/s]\n",
      "100%|██████████| 64/64 [00:00<00:00, 142.94it/s]\n",
      "100%|██████████| 64/64 [00:08<00:00,  7.58it/s]\n",
      "100%|██████████| 64/64 [00:00<00:00, 3083.73it/s]\n",
      "100%|██████████| 64/64 [00:00<00:00, 1379.82it/s]\n",
      "100%|██████████| 64/64 [00:00<00:00, 1208.67it/s]\n",
      "100%|██████████| 64/64 [00:00<00:00, 7380.48it/s]\n"
     ]
    },
    {
     "name": "stdout",
     "output_type": "stream",
     "text": [
      "(1, 3329)\n",
      "(152, 3330)\n"
     ]
    },
    {
     "name": "stderr",
     "output_type": "stream",
     "text": [
      "100%|██████████| 64/64 [00:00<00:00, 170003.46it/s]\n",
      "100%|██████████| 64/64 [00:00<00:00, 87.58it/s]\n",
      "100%|██████████| 64/64 [00:00<00:00, 89.75it/s]\n",
      "100%|██████████| 64/64 [00:00<00:00, 98.97it/s]\n",
      "100%|██████████| 64/64 [00:00<00:00, 1831.65it/s]\n",
      "100%|██████████| 64/64 [00:00<00:00, 175.04it/s]\n",
      "100%|██████████| 64/64 [00:00<00:00, 143.92it/s]\n",
      "100%|██████████| 64/64 [00:08<00:00,  7.52it/s]\n",
      "100%|██████████| 64/64 [00:00<00:00, 2530.33it/s]\n",
      "100%|██████████| 64/64 [00:00<00:00, 1000.71it/s]\n",
      "100%|██████████| 64/64 [00:00<00:00, 1279.29it/s]\n",
      "100%|██████████| 64/64 [00:00<00:00, 7388.20it/s]\n"
     ]
    },
    {
     "name": "stdout",
     "output_type": "stream",
     "text": [
      "(1, 3329)\n",
      "(153, 3330)\n"
     ]
    },
    {
     "name": "stderr",
     "output_type": "stream",
     "text": [
      "100%|██████████| 64/64 [00:00<00:00, 56017.42it/s]\n",
      "100%|██████████| 64/64 [00:00<00:00, 86.02it/s]\n",
      "100%|██████████| 64/64 [00:00<00:00, 89.77it/s]\n",
      "100%|██████████| 64/64 [00:00<00:00, 96.72it/s]\n",
      "100%|██████████| 64/64 [00:00<00:00, 2268.28it/s]\n",
      "100%|██████████| 64/64 [00:00<00:00, 172.34it/s]\n",
      "100%|██████████| 64/64 [00:00<00:00, 141.38it/s]\n",
      "100%|██████████| 64/64 [00:08<00:00,  7.44it/s]\n",
      "100%|██████████| 64/64 [00:00<00:00, 3450.90it/s]\n",
      "100%|██████████| 64/64 [00:00<00:00, 1189.76it/s]\n",
      "100%|██████████| 64/64 [00:00<00:00, 1285.94it/s]\n",
      "100%|██████████| 64/64 [00:00<00:00, 7033.55it/s]\n"
     ]
    },
    {
     "name": "stdout",
     "output_type": "stream",
     "text": [
      "(1, 3329)\n",
      "(154, 3330)\n"
     ]
    },
    {
     "name": "stderr",
     "output_type": "stream",
     "text": [
      "100%|██████████| 64/64 [00:00<00:00, 81000.44it/s]\n",
      "100%|██████████| 64/64 [00:00<00:00, 91.46it/s]\n",
      "100%|██████████| 64/64 [00:00<00:00, 92.05it/s]\n",
      "100%|██████████| 64/64 [00:00<00:00, 96.71it/s]\n",
      "100%|██████████| 64/64 [00:00<00:00, 2272.08it/s]\n",
      "100%|██████████| 64/64 [00:00<00:00, 177.06it/s]\n",
      "100%|██████████| 64/64 [00:00<00:00, 143.08it/s]\n",
      "100%|██████████| 64/64 [00:08<00:00,  7.54it/s]\n",
      "100%|██████████| 64/64 [00:00<00:00, 2856.91it/s]\n",
      "100%|██████████| 64/64 [00:00<00:00, 1132.51it/s]\n",
      "100%|██████████| 64/64 [00:00<00:00, 1178.51it/s]\n",
      "100%|██████████| 64/64 [00:00<00:00, 7529.11it/s]\n"
     ]
    },
    {
     "name": "stdout",
     "output_type": "stream",
     "text": [
      "(1, 3329)\n",
      "(155, 3330)\n"
     ]
    },
    {
     "name": "stderr",
     "output_type": "stream",
     "text": [
      "100%|██████████| 64/64 [00:00<00:00, 86956.74it/s]\n",
      "100%|██████████| 64/64 [00:00<00:00, 88.00it/s]\n",
      "100%|██████████| 64/64 [00:00<00:00, 93.61it/s]\n",
      "100%|██████████| 64/64 [00:00<00:00, 98.21it/s]\n",
      "100%|██████████| 64/64 [00:00<00:00, 1867.61it/s]\n",
      "100%|██████████| 64/64 [00:00<00:00, 168.37it/s]\n",
      "100%|██████████| 64/64 [00:00<00:00, 145.26it/s]\n",
      "100%|██████████| 64/64 [00:08<00:00,  7.62it/s]\n",
      "100%|██████████| 64/64 [00:00<00:00, 2961.69it/s]\n",
      "100%|██████████| 64/64 [00:00<00:00, 1302.16it/s]\n",
      "100%|██████████| 64/64 [00:00<00:00, 1266.61it/s]\n",
      "100%|██████████| 64/64 [00:00<00:00, 6850.46it/s]\n"
     ]
    },
    {
     "name": "stdout",
     "output_type": "stream",
     "text": [
      "(1, 3329)\n",
      "(156, 3330)\n"
     ]
    },
    {
     "name": "stderr",
     "output_type": "stream",
     "text": [
      "100%|██████████| 64/64 [00:00<00:00, 41956.15it/s]\n",
      "100%|██████████| 64/64 [00:00<00:00, 88.66it/s]\n",
      "100%|██████████| 64/64 [00:00<00:00, 89.58it/s]\n",
      "100%|██████████| 64/64 [00:00<00:00, 95.83it/s]\n",
      "100%|██████████| 64/64 [00:00<00:00, 1986.35it/s]\n",
      "100%|██████████| 64/64 [00:00<00:00, 183.61it/s]\n",
      "100%|██████████| 64/64 [00:00<00:00, 140.50it/s]\n",
      "100%|██████████| 64/64 [00:08<00:00,  7.64it/s]\n",
      "100%|██████████| 64/64 [00:00<00:00, 3399.77it/s]\n",
      "100%|██████████| 64/64 [00:00<00:00, 1390.12it/s]\n",
      "100%|██████████| 64/64 [00:00<00:00, 1301.92it/s]\n",
      "100%|██████████| 64/64 [00:00<00:00, 6511.16it/s]\n"
     ]
    },
    {
     "name": "stdout",
     "output_type": "stream",
     "text": [
      "(1, 3329)\n",
      "(157, 3330)\n"
     ]
    },
    {
     "name": "stderr",
     "output_type": "stream",
     "text": [
      "100%|██████████| 64/64 [00:00<00:00, 20397.83it/s]\n",
      "100%|██████████| 64/64 [00:00<00:00, 87.52it/s]\n",
      "100%|██████████| 64/64 [00:00<00:00, 88.70it/s]\n",
      "100%|██████████| 64/64 [00:00<00:00, 95.40it/s]\n",
      "100%|██████████| 64/64 [00:00<00:00, 2224.45it/s]\n",
      "100%|██████████| 64/64 [00:00<00:00, 176.68it/s]\n",
      "100%|██████████| 64/64 [00:00<00:00, 145.94it/s]\n",
      "100%|██████████| 64/64 [00:08<00:00,  7.56it/s]\n",
      "100%|██████████| 64/64 [00:00<00:00, 3178.03it/s]\n",
      "100%|██████████| 64/64 [00:00<00:00, 1229.73it/s]\n",
      "100%|██████████| 64/64 [00:00<00:00, 1253.70it/s]\n",
      "100%|██████████| 64/64 [00:00<00:00, 7615.84it/s]\n"
     ]
    },
    {
     "name": "stdout",
     "output_type": "stream",
     "text": [
      "(1, 3329)\n",
      "(158, 3330)\n"
     ]
    },
    {
     "name": "stderr",
     "output_type": "stream",
     "text": [
      "100%|██████████| 64/64 [00:00<00:00, 17511.61it/s]\n",
      "100%|██████████| 64/64 [00:00<00:00, 86.39it/s]\n",
      "100%|██████████| 64/64 [00:00<00:00, 91.98it/s]\n",
      "100%|██████████| 64/64 [00:00<00:00, 94.60it/s]\n",
      "100%|██████████| 64/64 [00:00<00:00, 2215.18it/s]\n",
      "100%|██████████| 64/64 [00:00<00:00, 173.20it/s]\n",
      "100%|██████████| 64/64 [00:00<00:00, 149.61it/s]\n",
      "100%|██████████| 64/64 [00:08<00:00,  7.65it/s]\n",
      "100%|██████████| 64/64 [00:00<00:00, 3389.98it/s]\n",
      "100%|██████████| 64/64 [00:00<00:00, 1338.72it/s]\n",
      "100%|██████████| 64/64 [00:00<00:00, 1251.09it/s]\n",
      "100%|██████████| 64/64 [00:00<00:00, 7667.39it/s]\n"
     ]
    },
    {
     "name": "stdout",
     "output_type": "stream",
     "text": [
      "(1, 3329)\n",
      "(159, 3330)\n"
     ]
    },
    {
     "name": "stderr",
     "output_type": "stream",
     "text": [
      "100%|██████████| 64/64 [00:00<00:00, 29446.63it/s]\n",
      "100%|██████████| 64/64 [00:00<00:00, 92.04it/s]\n",
      "100%|██████████| 64/64 [00:00<00:00, 91.61it/s]\n",
      "100%|██████████| 64/64 [00:00<00:00, 97.29it/s]\n",
      "100%|██████████| 64/64 [00:00<00:00, 2175.98it/s]\n",
      "100%|██████████| 64/64 [00:00<00:00, 184.24it/s]\n",
      "100%|██████████| 64/64 [00:00<00:00, 148.35it/s]\n",
      "100%|██████████| 64/64 [00:08<00:00,  7.64it/s]\n",
      "100%|██████████| 64/64 [00:00<00:00, 3486.13it/s]\n",
      "100%|██████████| 64/64 [00:00<00:00, 1314.70it/s]\n",
      "100%|██████████| 64/64 [00:00<00:00, 1284.45it/s]\n",
      "100%|██████████| 64/64 [00:00<00:00, 6896.22it/s]\n"
     ]
    },
    {
     "name": "stdout",
     "output_type": "stream",
     "text": [
      "(1, 3329)\n",
      "(160, 3330)\n"
     ]
    },
    {
     "name": "stderr",
     "output_type": "stream",
     "text": [
      "100%|██████████| 64/64 [00:00<00:00, 100953.54it/s]\n",
      "100%|██████████| 64/64 [00:00<00:00, 86.10it/s]\n",
      "100%|██████████| 64/64 [00:00<00:00, 94.43it/s]\n",
      "100%|██████████| 64/64 [00:00<00:00, 93.72it/s]\n",
      "100%|██████████| 64/64 [00:00<00:00, 1974.23it/s]\n",
      "100%|██████████| 64/64 [00:00<00:00, 172.78it/s]\n",
      "100%|██████████| 64/64 [00:00<00:00, 139.67it/s]\n",
      "100%|██████████| 64/64 [00:08<00:00,  7.64it/s]\n",
      "100%|██████████| 64/64 [00:00<00:00, 3267.03it/s]\n",
      "100%|██████████| 64/64 [00:00<00:00, 1240.47it/s]\n",
      "100%|██████████| 64/64 [00:00<00:00, 1301.30it/s]\n",
      "100%|██████████| 64/64 [00:00<00:00, 7789.77it/s]\n"
     ]
    },
    {
     "name": "stdout",
     "output_type": "stream",
     "text": [
      "(1, 3329)\n",
      "(161, 3330)\n"
     ]
    },
    {
     "name": "stderr",
     "output_type": "stream",
     "text": [
      "100%|██████████| 64/64 [00:00<00:00, 113168.40it/s]\n",
      "100%|██████████| 64/64 [00:00<00:00, 92.82it/s]\n",
      "100%|██████████| 64/64 [00:00<00:00, 95.17it/s]\n",
      "100%|██████████| 64/64 [00:00<00:00, 100.87it/s]\n",
      "100%|██████████| 64/64 [00:00<00:00, 1992.26it/s]\n",
      "100%|██████████| 64/64 [00:00<00:00, 182.13it/s]\n",
      "100%|██████████| 64/64 [00:00<00:00, 151.09it/s]\n",
      "100%|██████████| 64/64 [00:08<00:00,  7.54it/s]\n",
      "100%|██████████| 64/64 [00:00<00:00, 3375.49it/s]\n",
      "100%|██████████| 64/64 [00:00<00:00, 1341.28it/s]\n",
      "100%|██████████| 64/64 [00:00<00:00, 1294.64it/s]\n",
      "100%|██████████| 64/64 [00:00<00:00, 7776.00it/s]\n"
     ]
    },
    {
     "name": "stdout",
     "output_type": "stream",
     "text": [
      "(1, 3329)\n",
      "(162, 3330)\n"
     ]
    },
    {
     "name": "stderr",
     "output_type": "stream",
     "text": [
      "100%|██████████| 64/64 [00:00<00:00, 114569.12it/s]\n",
      "100%|██████████| 64/64 [00:00<00:00, 89.86it/s]\n",
      "100%|██████████| 64/64 [00:00<00:00, 93.66it/s]\n",
      "100%|██████████| 64/64 [00:00<00:00, 96.10it/s]\n",
      "100%|██████████| 64/64 [00:00<00:00, 2149.99it/s]\n",
      "100%|██████████| 64/64 [00:00<00:00, 167.42it/s]\n",
      "100%|██████████| 64/64 [00:00<00:00, 140.79it/s]\n",
      "100%|██████████| 64/64 [00:08<00:00,  7.60it/s]\n",
      "100%|██████████| 64/64 [00:00<00:00, 3314.88it/s]\n",
      "100%|██████████| 64/64 [00:00<00:00, 1237.78it/s]\n",
      "100%|██████████| 64/64 [00:00<00:00, 1109.28it/s]\n",
      "100%|██████████| 64/64 [00:00<00:00, 7413.30it/s]\n"
     ]
    },
    {
     "name": "stdout",
     "output_type": "stream",
     "text": [
      "(1, 3329)\n",
      "(163, 3330)\n"
     ]
    },
    {
     "name": "stderr",
     "output_type": "stream",
     "text": [
      "100%|██████████| 64/64 [00:00<00:00, 29305.18it/s]\n",
      "100%|██████████| 64/64 [00:00<00:00, 90.16it/s]\n",
      "100%|██████████| 64/64 [00:00<00:00, 91.33it/s]\n",
      "100%|██████████| 64/64 [00:00<00:00, 92.34it/s]\n",
      "100%|██████████| 64/64 [00:00<00:00, 2119.46it/s]\n",
      "100%|██████████| 64/64 [00:00<00:00, 175.10it/s]\n",
      "100%|██████████| 64/64 [00:00<00:00, 137.37it/s]\n",
      "100%|██████████| 64/64 [00:08<00:00,  7.63it/s]\n",
      "100%|██████████| 64/64 [00:00<00:00, 3373.15it/s]\n",
      "100%|██████████| 64/64 [00:00<00:00, 1342.98it/s]\n",
      "100%|██████████| 64/64 [00:00<00:00, 1264.15it/s]\n",
      "100%|██████████| 64/64 [00:00<00:00, 9375.04it/s]\n"
     ]
    },
    {
     "name": "stdout",
     "output_type": "stream",
     "text": [
      "(1, 3329)\n",
      "(164, 3330)\n"
     ]
    },
    {
     "name": "stderr",
     "output_type": "stream",
     "text": [
      "100%|██████████| 64/64 [00:00<00:00, 95596.67it/s]\n",
      "100%|██████████| 64/64 [00:00<00:00, 92.91it/s]\n",
      "100%|██████████| 64/64 [00:00<00:00, 93.39it/s]\n",
      "100%|██████████| 64/64 [00:00<00:00, 98.24it/s]\n",
      "100%|██████████| 64/64 [00:00<00:00, 1976.46it/s]\n",
      "100%|██████████| 64/64 [00:00<00:00, 172.34it/s]\n",
      "100%|██████████| 64/64 [00:00<00:00, 145.03it/s]\n",
      "100%|██████████| 64/64 [00:08<00:00,  7.60it/s]\n",
      "100%|██████████| 64/64 [00:00<00:00, 3464.40it/s]\n",
      "100%|██████████| 64/64 [00:00<00:00, 1094.13it/s]\n",
      "100%|██████████| 64/64 [00:00<00:00, 1298.98it/s]\n",
      "100%|██████████| 64/64 [00:00<00:00, 7063.35it/s]\n"
     ]
    },
    {
     "name": "stdout",
     "output_type": "stream",
     "text": [
      "(1, 3329)\n",
      "(165, 3330)\n"
     ]
    },
    {
     "name": "stderr",
     "output_type": "stream",
     "text": [
      "100%|██████████| 64/64 [00:00<00:00, 125086.42it/s]\n",
      "100%|██████████| 64/64 [00:00<00:00, 88.81it/s]\n",
      "100%|██████████| 64/64 [00:00<00:00, 92.71it/s]\n",
      "100%|██████████| 64/64 [00:00<00:00, 97.13it/s]\n",
      "100%|██████████| 64/64 [00:00<00:00, 2157.08it/s]\n",
      "100%|██████████| 64/64 [00:00<00:00, 177.34it/s]\n",
      "100%|██████████| 64/64 [00:00<00:00, 140.73it/s]\n",
      "100%|██████████| 64/64 [00:08<00:00,  7.63it/s]\n",
      "100%|██████████| 64/64 [00:00<00:00, 3353.72it/s]\n",
      "100%|██████████| 64/64 [00:00<00:00, 1317.90it/s]\n",
      "100%|██████████| 64/64 [00:00<00:00, 1273.28it/s]\n",
      "100%|██████████| 64/64 [00:00<00:00, 7425.40it/s]\n"
     ]
    },
    {
     "name": "stdout",
     "output_type": "stream",
     "text": [
      "(1, 3329)\n",
      "(166, 3330)\n"
     ]
    },
    {
     "name": "stderr",
     "output_type": "stream",
     "text": [
      "100%|██████████| 64/64 [00:00<00:00, 16446.24it/s]\n",
      "100%|██████████| 64/64 [00:00<00:00, 89.69it/s]\n",
      "100%|██████████| 64/64 [00:00<00:00, 93.75it/s]\n",
      "100%|██████████| 64/64 [00:00<00:00, 95.26it/s]\n",
      "100%|██████████| 64/64 [00:00<00:00, 2132.78it/s]\n",
      "100%|██████████| 64/64 [00:00<00:00, 176.36it/s]\n",
      "100%|██████████| 64/64 [00:00<00:00, 148.18it/s]\n",
      "100%|██████████| 64/64 [00:08<00:00,  7.63it/s]\n",
      "100%|██████████| 64/64 [00:00<00:00, 3177.80it/s]\n",
      "100%|██████████| 64/64 [00:00<00:00, 1369.05it/s]\n",
      "100%|██████████| 64/64 [00:00<00:00, 1155.15it/s]\n",
      "100%|██████████| 64/64 [00:00<00:00, 7014.62it/s]\n"
     ]
    },
    {
     "name": "stdout",
     "output_type": "stream",
     "text": [
      "(1, 3329)\n",
      "(167, 3330)\n"
     ]
    },
    {
     "name": "stderr",
     "output_type": "stream",
     "text": [
      "100%|██████████| 64/64 [00:00<00:00, 106437.53it/s]\n",
      "100%|██████████| 64/64 [00:00<00:00, 89.07it/s]\n",
      "100%|██████████| 64/64 [00:00<00:00, 90.74it/s]\n",
      "100%|██████████| 64/64 [00:00<00:00, 96.45it/s]\n",
      "100%|██████████| 64/64 [00:00<00:00, 2252.98it/s]\n",
      "100%|██████████| 64/64 [00:00<00:00, 173.79it/s]\n",
      "100%|██████████| 64/64 [00:00<00:00, 143.46it/s]\n",
      "100%|██████████| 64/64 [00:08<00:00,  7.53it/s]\n",
      "100%|██████████| 64/64 [00:00<00:00, 2866.74it/s]\n",
      "100%|██████████| 64/64 [00:00<00:00, 1284.16it/s]\n",
      "100%|██████████| 64/64 [00:00<00:00, 1254.73it/s]\n",
      "100%|██████████| 64/64 [00:00<00:00, 5697.33it/s]\n"
     ]
    },
    {
     "name": "stdout",
     "output_type": "stream",
     "text": [
      "(1, 3329)\n",
      "(168, 3330)\n"
     ]
    },
    {
     "name": "stderr",
     "output_type": "stream",
     "text": [
      "100%|██████████| 64/64 [00:00<00:00, 25082.74it/s]\n",
      "100%|██████████| 64/64 [00:00<00:00, 90.30it/s]\n",
      "100%|██████████| 64/64 [00:00<00:00, 92.39it/s]\n",
      "100%|██████████| 64/64 [00:00<00:00, 97.25it/s]\n",
      "100%|██████████| 64/64 [00:00<00:00, 2034.26it/s]\n",
      "100%|██████████| 64/64 [00:00<00:00, 175.88it/s]\n",
      "100%|██████████| 64/64 [00:00<00:00, 141.99it/s]\n",
      "100%|██████████| 64/64 [00:08<00:00,  7.68it/s]\n",
      "100%|██████████| 64/64 [00:00<00:00, 3525.78it/s]\n",
      "100%|██████████| 64/64 [00:00<00:00, 1249.05it/s]\n",
      "100%|██████████| 64/64 [00:00<00:00, 1308.15it/s]\n",
      "100%|██████████| 64/64 [00:00<00:00, 7267.39it/s]\n"
     ]
    },
    {
     "name": "stdout",
     "output_type": "stream",
     "text": [
      "(1, 3329)\n",
      "(169, 3330)\n"
     ]
    },
    {
     "name": "stderr",
     "output_type": "stream",
     "text": [
      "100%|██████████| 64/64 [00:00<00:00, 25900.76it/s]\n",
      "100%|██████████| 64/64 [00:00<00:00, 91.36it/s]\n",
      "100%|██████████| 64/64 [00:00<00:00, 92.59it/s]\n",
      "100%|██████████| 64/64 [00:00<00:00, 99.28it/s]\n",
      "100%|██████████| 64/64 [00:00<00:00, 2028.68it/s]\n",
      "100%|██████████| 64/64 [00:00<00:00, 175.90it/s]\n",
      "100%|██████████| 64/64 [00:00<00:00, 145.23it/s]\n",
      "100%|██████████| 64/64 [00:08<00:00,  7.67it/s]\n",
      "100%|██████████| 64/64 [00:00<00:00, 3355.99it/s]\n",
      "100%|██████████| 64/64 [00:00<00:00, 1380.29it/s]\n",
      "100%|██████████| 64/64 [00:00<00:00, 1335.48it/s]\n",
      "100%|██████████| 64/64 [00:00<00:00, 7630.56it/s]\n"
     ]
    },
    {
     "name": "stdout",
     "output_type": "stream",
     "text": [
      "(1, 3329)\n",
      "(170, 3330)\n"
     ]
    },
    {
     "name": "stderr",
     "output_type": "stream",
     "text": [
      "100%|██████████| 64/64 [00:00<00:00, 91584.94it/s]\n",
      "100%|██████████| 64/64 [00:00<00:00, 86.67it/s]\n",
      "100%|██████████| 64/64 [00:00<00:00, 91.41it/s]\n",
      "100%|██████████| 64/64 [00:00<00:00, 93.94it/s]\n",
      "100%|██████████| 64/64 [00:00<00:00, 2115.20it/s]\n",
      "100%|██████████| 64/64 [00:00<00:00, 171.20it/s]\n",
      "100%|██████████| 64/64 [00:00<00:00, 144.72it/s]\n",
      "100%|██████████| 64/64 [00:08<00:00,  7.71it/s]\n",
      "100%|██████████| 64/64 [00:00<00:00, 3417.47it/s]\n",
      "100%|██████████| 64/64 [00:00<00:00, 1351.10it/s]\n",
      "100%|██████████| 64/64 [00:00<00:00, 1305.66it/s]\n",
      "100%|██████████| 64/64 [00:00<00:00, 8440.84it/s]\n"
     ]
    },
    {
     "name": "stdout",
     "output_type": "stream",
     "text": [
      "(1, 3329)\n",
      "(171, 3330)\n"
     ]
    },
    {
     "name": "stderr",
     "output_type": "stream",
     "text": [
      "100%|██████████| 64/64 [00:00<00:00, 22741.06it/s]\n",
      "100%|██████████| 64/64 [00:00<00:00, 93.65it/s]\n",
      "100%|██████████| 64/64 [00:00<00:00, 90.22it/s]\n",
      "100%|██████████| 64/64 [00:00<00:00, 96.06it/s]\n",
      "100%|██████████| 64/64 [00:00<00:00, 2084.87it/s]\n",
      "100%|██████████| 64/64 [00:00<00:00, 181.13it/s]\n",
      "100%|██████████| 64/64 [00:00<00:00, 149.24it/s]\n",
      "100%|██████████| 64/64 [00:08<00:00,  7.68it/s]\n",
      "100%|██████████| 64/64 [00:00<00:00, 3471.61it/s]\n",
      "100%|██████████| 64/64 [00:00<00:00, 1340.61it/s]\n",
      "100%|██████████| 64/64 [00:00<00:00, 1313.05it/s]\n",
      "100%|██████████| 64/64 [00:00<00:00, 6185.86it/s]\n"
     ]
    },
    {
     "name": "stdout",
     "output_type": "stream",
     "text": [
      "(1, 3329)\n",
      "(172, 3330)\n"
     ]
    },
    {
     "name": "stderr",
     "output_type": "stream",
     "text": [
      "100%|██████████| 64/64 [00:00<00:00, 76173.51it/s]\n",
      "100%|██████████| 64/64 [00:00<00:00, 93.47it/s]\n",
      "100%|██████████| 64/64 [00:00<00:00, 92.06it/s]\n",
      "100%|██████████| 64/64 [00:00<00:00, 92.65it/s]\n",
      "100%|██████████| 64/64 [00:00<00:00, 2331.69it/s]\n",
      "100%|██████████| 64/64 [00:00<00:00, 172.71it/s]\n",
      "100%|██████████| 64/64 [00:00<00:00, 144.23it/s]\n",
      "100%|██████████| 64/64 [00:08<00:00,  7.66it/s]\n",
      "100%|██████████| 64/64 [00:00<00:00, 2850.57it/s]\n",
      "100%|██████████| 64/64 [00:00<00:00, 1303.47it/s]\n",
      "100%|██████████| 64/64 [00:00<00:00, 1295.88it/s]\n",
      "100%|██████████| 64/64 [00:00<00:00, 6781.24it/s]\n"
     ]
    },
    {
     "name": "stdout",
     "output_type": "stream",
     "text": [
      "(1, 3329)\n",
      "(173, 3330)\n"
     ]
    },
    {
     "name": "stderr",
     "output_type": "stream",
     "text": [
      "100%|██████████| 64/64 [00:00<00:00, 77025.96it/s]\n",
      "100%|██████████| 64/64 [00:00<00:00, 92.18it/s]\n",
      "100%|██████████| 64/64 [00:00<00:00, 92.53it/s]\n",
      "100%|██████████| 64/64 [00:00<00:00, 96.79it/s]\n",
      "100%|██████████| 64/64 [00:00<00:00, 2322.77it/s]\n",
      "100%|██████████| 64/64 [00:00<00:00, 177.34it/s]\n",
      "100%|██████████| 64/64 [00:00<00:00, 146.59it/s]\n",
      "100%|██████████| 64/64 [00:08<00:00,  7.67it/s]\n",
      "100%|██████████| 64/64 [00:00<00:00, 3873.70it/s]\n",
      "100%|██████████| 64/64 [00:00<00:00, 1348.71it/s]\n",
      "100%|██████████| 64/64 [00:00<00:00, 1294.92it/s]\n",
      "100%|██████████| 64/64 [00:00<00:00, 7031.16it/s]\n"
     ]
    },
    {
     "name": "stdout",
     "output_type": "stream",
     "text": [
      "(1, 3329)\n",
      "(174, 3330)\n"
     ]
    },
    {
     "name": "stderr",
     "output_type": "stream",
     "text": [
      "100%|██████████| 64/64 [00:00<00:00, 88040.49it/s]\n",
      "100%|██████████| 64/64 [00:00<00:00, 90.27it/s]\n",
      "100%|██████████| 64/64 [00:00<00:00, 92.96it/s]\n",
      "100%|██████████| 64/64 [00:00<00:00, 94.32it/s]\n",
      "100%|██████████| 64/64 [00:00<00:00, 2206.75it/s]\n",
      "100%|██████████| 64/64 [00:00<00:00, 176.93it/s]\n",
      "100%|██████████| 64/64 [00:00<00:00, 141.72it/s]\n",
      "100%|██████████| 64/64 [00:08<00:00,  7.54it/s]\n",
      "100%|██████████| 64/64 [00:00<00:00, 3313.65it/s]\n",
      "100%|██████████| 64/64 [00:00<00:00, 1313.62it/s]\n",
      "100%|██████████| 64/64 [00:00<00:00, 1271.39it/s]\n",
      "100%|██████████| 64/64 [00:00<00:00, 5138.70it/s]\n"
     ]
    },
    {
     "name": "stdout",
     "output_type": "stream",
     "text": [
      "(1, 3329)\n",
      "(175, 3330)\n"
     ]
    },
    {
     "name": "stderr",
     "output_type": "stream",
     "text": [
      "100%|██████████| 64/64 [00:00<00:00, 73343.02it/s]\n",
      "100%|██████████| 64/64 [00:00<00:00, 92.95it/s]\n",
      "100%|██████████| 64/64 [00:00<00:00, 91.06it/s]\n",
      "100%|██████████| 64/64 [00:00<00:00, 96.00it/s]\n",
      "100%|██████████| 64/64 [00:00<00:00, 2080.38it/s]\n",
      "100%|██████████| 64/64 [00:00<00:00, 166.50it/s]\n",
      "100%|██████████| 64/64 [00:00<00:00, 147.47it/s]\n",
      "100%|██████████| 64/64 [00:08<00:00,  7.73it/s]\n",
      "100%|██████████| 64/64 [00:00<00:00, 3515.85it/s]\n",
      "100%|██████████| 64/64 [00:00<00:00, 1372.54it/s]\n",
      "100%|██████████| 64/64 [00:00<00:00, 1175.63it/s]\n",
      "100%|██████████| 64/64 [00:00<00:00, 8402.52it/s]\n"
     ]
    },
    {
     "name": "stdout",
     "output_type": "stream",
     "text": [
      "(1, 3329)\n",
      "(176, 3330)\n"
     ]
    },
    {
     "name": "stderr",
     "output_type": "stream",
     "text": [
      "100%|██████████| 64/64 [00:00<00:00, 183232.39it/s]\n",
      "100%|██████████| 64/64 [00:00<00:00, 91.89it/s]\n",
      "100%|██████████| 64/64 [00:00<00:00, 96.54it/s]\n",
      "100%|██████████| 64/64 [00:00<00:00, 95.88it/s]\n",
      "100%|██████████| 64/64 [00:00<00:00, 1897.58it/s]\n",
      "100%|██████████| 64/64 [00:00<00:00, 165.37it/s]\n",
      "100%|██████████| 64/64 [00:00<00:00, 143.28it/s]\n",
      "100%|██████████| 64/64 [00:08<00:00,  7.75it/s]\n",
      "100%|██████████| 64/64 [00:00<00:00, 3475.34it/s]\n",
      "100%|██████████| 64/64 [00:00<00:00, 1355.80it/s]\n",
      "100%|██████████| 64/64 [00:00<00:00, 1284.34it/s]\n",
      "100%|██████████| 64/64 [00:00<00:00, 7626.66it/s]\n"
     ]
    },
    {
     "name": "stdout",
     "output_type": "stream",
     "text": [
      "(1, 3329)\n",
      "(177, 3330)\n"
     ]
    },
    {
     "name": "stderr",
     "output_type": "stream",
     "text": [
      "100%|██████████| 64/64 [00:00<00:00, 310330.01it/s]\n",
      "100%|██████████| 64/64 [00:00<00:00, 92.60it/s]\n",
      "100%|██████████| 64/64 [00:00<00:00, 91.01it/s]\n",
      "100%|██████████| 64/64 [00:00<00:00, 99.95it/s]\n",
      "100%|██████████| 64/64 [00:00<00:00, 2267.42it/s]\n",
      "100%|██████████| 64/64 [00:00<00:00, 176.51it/s]\n",
      "100%|██████████| 64/64 [00:00<00:00, 148.77it/s]\n",
      "100%|██████████| 64/64 [00:08<00:00,  7.73it/s]\n",
      "100%|██████████| 64/64 [00:00<00:00, 2312.26it/s]\n",
      "100%|██████████| 64/64 [00:00<00:00, 1412.09it/s]\n",
      "100%|██████████| 64/64 [00:00<00:00, 1285.27it/s]\n",
      "100%|██████████| 64/64 [00:00<00:00, 5212.14it/s]\n"
     ]
    },
    {
     "name": "stdout",
     "output_type": "stream",
     "text": [
      "(1, 3329)\n",
      "(178, 3330)\n"
     ]
    },
    {
     "name": "stderr",
     "output_type": "stream",
     "text": [
      "100%|██████████| 64/64 [00:00<00:00, 93433.85it/s]\n",
      "100%|██████████| 64/64 [00:00<00:00, 87.18it/s]\n",
      "100%|██████████| 64/64 [00:00<00:00, 94.05it/s]\n",
      "100%|██████████| 64/64 [00:00<00:00, 98.08it/s]\n",
      "100%|██████████| 64/64 [00:00<00:00, 1970.80it/s]\n",
      "100%|██████████| 64/64 [00:00<00:00, 181.32it/s]\n",
      "100%|██████████| 64/64 [00:00<00:00, 141.20it/s]\n",
      "100%|██████████| 64/64 [00:08<00:00,  7.69it/s]\n",
      "100%|██████████| 64/64 [00:00<00:00, 3373.15it/s]\n",
      "100%|██████████| 64/64 [00:00<00:00, 1352.01it/s]\n",
      "100%|██████████| 64/64 [00:00<00:00, 1311.04it/s]\n",
      "100%|██████████| 64/64 [00:00<00:00, 6661.59it/s]\n"
     ]
    },
    {
     "name": "stdout",
     "output_type": "stream",
     "text": [
      "(1, 3329)\n",
      "(179, 3330)\n"
     ]
    },
    {
     "name": "stderr",
     "output_type": "stream",
     "text": [
      "100%|██████████| 64/64 [00:00<00:00, 185511.72it/s]\n",
      "100%|██████████| 64/64 [00:00<00:00, 91.18it/s]\n",
      "100%|██████████| 64/64 [00:00<00:00, 90.82it/s]\n",
      "100%|██████████| 64/64 [00:00<00:00, 99.49it/s]\n",
      "100%|██████████| 64/64 [00:00<00:00, 2306.44it/s]\n",
      "100%|██████████| 64/64 [00:00<00:00, 172.98it/s]\n",
      "100%|██████████| 64/64 [00:00<00:00, 147.28it/s]\n",
      "100%|██████████| 64/64 [00:08<00:00,  7.79it/s]\n",
      "100%|██████████| 64/64 [00:00<00:00, 3405.07it/s]\n",
      "100%|██████████| 64/64 [00:00<00:00, 1366.01it/s]\n",
      "100%|██████████| 64/64 [00:00<00:00, 1320.70it/s]\n",
      "100%|██████████| 64/64 [00:00<00:00, 7173.39it/s]\n"
     ]
    },
    {
     "name": "stdout",
     "output_type": "stream",
     "text": [
      "(1, 3329)\n",
      "(180, 3330)\n"
     ]
    },
    {
     "name": "stderr",
     "output_type": "stream",
     "text": [
      "100%|██████████| 64/64 [00:00<00:00, 202745.81it/s]\n",
      "100%|██████████| 64/64 [00:00<00:00, 91.89it/s]\n",
      "100%|██████████| 64/64 [00:00<00:00, 90.68it/s]\n",
      "100%|██████████| 64/64 [00:00<00:00, 95.00it/s]\n",
      "100%|██████████| 64/64 [00:00<00:00, 2283.12it/s]\n",
      "100%|██████████| 64/64 [00:00<00:00, 178.85it/s]\n",
      "100%|██████████| 64/64 [00:00<00:00, 143.15it/s]\n",
      "100%|██████████| 64/64 [00:08<00:00,  7.72it/s]\n",
      "100%|██████████| 64/64 [00:00<00:00, 3389.85it/s]\n",
      "100%|██████████| 64/64 [00:00<00:00, 1340.17it/s]\n",
      "100%|██████████| 64/64 [00:00<00:00, 1326.16it/s]\n",
      "100%|██████████| 64/64 [00:00<00:00, 6535.57it/s]\n"
     ]
    },
    {
     "name": "stdout",
     "output_type": "stream",
     "text": [
      "(1, 3329)\n",
      "(181, 3330)\n"
     ]
    },
    {
     "name": "stderr",
     "output_type": "stream",
     "text": [
      "100%|██████████| 64/64 [00:00<00:00, 22683.41it/s]\n",
      "100%|██████████| 64/64 [00:00<00:00, 89.95it/s]\n",
      "100%|██████████| 64/64 [00:00<00:00, 97.02it/s]\n",
      "100%|██████████| 64/64 [00:00<00:00, 96.60it/s]\n",
      "100%|██████████| 64/64 [00:00<00:00, 2174.98it/s]\n",
      "100%|██████████| 64/64 [00:00<00:00, 178.61it/s]\n",
      "100%|██████████| 64/64 [00:00<00:00, 141.41it/s]\n",
      "100%|██████████| 64/64 [00:08<00:00,  7.70it/s]\n",
      "100%|██████████| 64/64 [00:00<00:00, 2812.67it/s]\n",
      "100%|██████████| 64/64 [00:00<00:00, 1337.57it/s]\n",
      "100%|██████████| 64/64 [00:00<00:00, 1326.94it/s]\n",
      "100%|██████████| 64/64 [00:00<00:00, 7316.51it/s]\n"
     ]
    },
    {
     "name": "stdout",
     "output_type": "stream",
     "text": [
      "(1, 3329)\n",
      "(182, 3330)\n"
     ]
    },
    {
     "name": "stderr",
     "output_type": "stream",
     "text": [
      "100%|██████████| 64/64 [00:00<00:00, 84149.05it/s]\n",
      "100%|██████████| 64/64 [00:00<00:00, 93.50it/s]\n",
      "100%|██████████| 64/64 [00:00<00:00, 95.41it/s]\n",
      "100%|██████████| 64/64 [00:00<00:00, 98.52it/s]\n",
      "100%|██████████| 64/64 [00:00<00:00, 2204.63it/s]\n",
      "100%|██████████| 64/64 [00:00<00:00, 179.23it/s]\n",
      "100%|██████████| 64/64 [00:00<00:00, 149.84it/s]\n",
      "100%|██████████| 64/64 [00:08<00:00,  7.73it/s]\n",
      "100%|██████████| 64/64 [00:00<00:00, 3274.48it/s]\n",
      "100%|██████████| 64/64 [00:00<00:00, 1333.77it/s]\n",
      "100%|██████████| 64/64 [00:00<00:00, 1179.89it/s]\n",
      "100%|██████████| 64/64 [00:00<00:00, 8066.21it/s]\n"
     ]
    },
    {
     "name": "stdout",
     "output_type": "stream",
     "text": [
      "(1, 3329)\n",
      "(183, 3330)\n"
     ]
    },
    {
     "name": "stderr",
     "output_type": "stream",
     "text": [
      "100%|██████████| 64/64 [00:00<00:00, 204444.37it/s]\n",
      "100%|██████████| 64/64 [00:00<00:00, 91.60it/s]\n",
      "100%|██████████| 64/64 [00:00<00:00, 92.63it/s]\n",
      "100%|██████████| 64/64 [00:00<00:00, 96.98it/s]\n",
      "100%|██████████| 64/64 [00:00<00:00, 2210.78it/s]\n",
      "100%|██████████| 64/64 [00:00<00:00, 174.01it/s]\n",
      "100%|██████████| 64/64 [00:00<00:00, 144.38it/s]\n",
      "100%|██████████| 64/64 [00:08<00:00,  7.66it/s]\n",
      "100%|██████████| 64/64 [00:00<00:00, 3402.61it/s]\n",
      "100%|██████████| 64/64 [00:00<00:00, 1301.54it/s]\n",
      "100%|██████████| 64/64 [00:00<00:00, 1319.26it/s]\n",
      "100%|██████████| 64/64 [00:00<00:00, 7187.41it/s]\n"
     ]
    },
    {
     "name": "stdout",
     "output_type": "stream",
     "text": [
      "(1, 3329)\n",
      "(184, 3330)\n"
     ]
    },
    {
     "name": "stderr",
     "output_type": "stream",
     "text": [
      "100%|██████████| 64/64 [00:00<00:00, 75023.88it/s]\n",
      "100%|██████████| 64/64 [00:00<00:00, 90.36it/s]\n",
      "100%|██████████| 64/64 [00:00<00:00, 92.45it/s]\n",
      "100%|██████████| 64/64 [00:00<00:00, 97.51it/s]\n",
      "100%|██████████| 64/64 [00:00<00:00, 2300.69it/s]\n",
      "100%|██████████| 64/64 [00:00<00:00, 174.70it/s]\n",
      "100%|██████████| 64/64 [00:00<00:00, 148.06it/s]\n",
      "100%|██████████| 64/64 [00:08<00:00,  7.76it/s]\n",
      "100%|██████████| 64/64 [00:00<00:00, 3303.74it/s]\n",
      "100%|██████████| 64/64 [00:00<00:00, 1351.63it/s]\n",
      "100%|██████████| 64/64 [00:00<00:00, 1341.55it/s]\n",
      "100%|██████████| 64/64 [00:00<00:00, 5754.49it/s]\n"
     ]
    },
    {
     "name": "stdout",
     "output_type": "stream",
     "text": [
      "(1, 3329)\n",
      "(185, 3330)\n"
     ]
    },
    {
     "name": "stderr",
     "output_type": "stream",
     "text": [
      "100%|██████████| 64/64 [00:00<00:00, 184491.72it/s]\n",
      "100%|██████████| 64/64 [00:00<00:00, 92.84it/s]\n",
      "100%|██████████| 64/64 [00:00<00:00, 93.16it/s]\n",
      "100%|██████████| 64/64 [00:00<00:00, 95.31it/s]\n",
      "100%|██████████| 64/64 [00:00<00:00, 2130.95it/s]\n",
      "100%|██████████| 64/64 [00:00<00:00, 181.35it/s]\n",
      "100%|██████████| 64/64 [00:00<00:00, 145.60it/s]\n",
      "100%|██████████| 64/64 [00:08<00:00,  7.76it/s]\n",
      "100%|██████████| 64/64 [00:00<00:00, 3555.39it/s]\n",
      "100%|██████████| 64/64 [00:00<00:00, 1291.13it/s]\n",
      "100%|██████████| 64/64 [00:00<00:00, 1279.03it/s]\n",
      "100%|██████████| 64/64 [00:00<00:00, 6734.96it/s]\n"
     ]
    },
    {
     "name": "stdout",
     "output_type": "stream",
     "text": [
      "(1, 3329)\n",
      "(186, 3330)\n"
     ]
    },
    {
     "name": "stderr",
     "output_type": "stream",
     "text": [
      "100%|██████████| 64/64 [00:00<00:00, 83210.00it/s]\n",
      "100%|██████████| 64/64 [00:00<00:00, 88.03it/s]\n",
      "100%|██████████| 64/64 [00:00<00:00, 92.83it/s]\n",
      "100%|██████████| 64/64 [00:00<00:00, 96.14it/s]\n",
      "100%|██████████| 64/64 [00:00<00:00, 2279.42it/s]\n",
      "100%|██████████| 64/64 [00:00<00:00, 173.22it/s]\n",
      "100%|██████████| 64/64 [00:00<00:00, 146.84it/s]\n",
      "100%|██████████| 64/64 [00:08<00:00,  7.82it/s]\n",
      "100%|██████████| 64/64 [00:00<00:00, 3437.91it/s]\n",
      "100%|██████████| 64/64 [00:00<00:00, 1383.66it/s]\n",
      "100%|██████████| 64/64 [00:00<00:00, 1307.86it/s]\n",
      "100%|██████████| 64/64 [00:00<00:00, 5190.47it/s]\n"
     ]
    },
    {
     "name": "stdout",
     "output_type": "stream",
     "text": [
      "(1, 3329)\n",
      "(187, 3330)\n"
     ]
    },
    {
     "name": "stderr",
     "output_type": "stream",
     "text": [
      "100%|██████████| 64/64 [00:00<00:00, 195652.66it/s]\n",
      "100%|██████████| 64/64 [00:00<00:00, 93.06it/s]\n",
      "100%|██████████| 64/64 [00:00<00:00, 93.41it/s]\n",
      "100%|██████████| 64/64 [00:00<00:00, 98.08it/s]\n",
      "100%|██████████| 64/64 [00:00<00:00, 2137.43it/s]\n",
      "100%|██████████| 64/64 [00:00<00:00, 173.51it/s]\n",
      "100%|██████████| 64/64 [00:00<00:00, 148.16it/s]\n",
      "100%|██████████| 64/64 [00:08<00:00,  7.79it/s]\n",
      "100%|██████████| 64/64 [00:00<00:00, 3391.01it/s]\n",
      "100%|██████████| 64/64 [00:00<00:00, 1333.92it/s]\n",
      "100%|██████████| 64/64 [00:00<00:00, 1162.53it/s]\n",
      "100%|██████████| 64/64 [00:00<00:00, 9151.62it/s]\n"
     ]
    },
    {
     "name": "stdout",
     "output_type": "stream",
     "text": [
      "(1, 3329)\n",
      "(188, 3330)\n"
     ]
    },
    {
     "name": "stderr",
     "output_type": "stream",
     "text": [
      "100%|██████████| 64/64 [00:00<00:00, 51671.89it/s]\n",
      "100%|██████████| 64/64 [00:00<00:00, 94.10it/s]\n",
      "100%|██████████| 64/64 [00:00<00:00, 92.40it/s]\n",
      "100%|██████████| 64/64 [00:00<00:00, 94.16it/s]\n",
      "100%|██████████| 64/64 [00:00<00:00, 2231.62it/s]\n",
      "100%|██████████| 64/64 [00:00<00:00, 176.79it/s]\n",
      "100%|██████████| 64/64 [00:00<00:00, 148.16it/s]\n",
      "100%|██████████| 64/64 [00:08<00:00,  7.65it/s]\n",
      "100%|██████████| 64/64 [00:00<00:00, 3405.16it/s]\n",
      "100%|██████████| 64/64 [00:00<00:00, 1135.80it/s]\n",
      "100%|██████████| 64/64 [00:00<00:00, 1278.78it/s]\n",
      "100%|██████████| 64/64 [00:00<00:00, 7718.10it/s]\n"
     ]
    },
    {
     "name": "stdout",
     "output_type": "stream",
     "text": [
      "(1, 3329)\n",
      "(189, 3330)\n"
     ]
    },
    {
     "name": "stderr",
     "output_type": "stream",
     "text": [
      "100%|██████████| 64/64 [00:00<00:00, 224256.86it/s]\n",
      "100%|██████████| 64/64 [00:00<00:00, 89.58it/s]\n",
      "100%|██████████| 64/64 [00:00<00:00, 93.25it/s]\n",
      "100%|██████████| 64/64 [00:00<00:00, 99.71it/s] \n",
      "100%|██████████| 64/64 [00:00<00:00, 2319.88it/s]\n",
      "100%|██████████| 64/64 [00:00<00:00, 172.35it/s]\n",
      "100%|██████████| 64/64 [00:00<00:00, 143.98it/s]\n",
      "100%|██████████| 64/64 [00:08<00:00,  7.78it/s]\n",
      "100%|██████████| 64/64 [00:00<00:00, 3347.37it/s]\n",
      "100%|██████████| 64/64 [00:00<00:00, 1352.26it/s]\n",
      "100%|██████████| 64/64 [00:00<00:00, 1297.53it/s]\n",
      "100%|██████████| 64/64 [00:00<00:00, 5727.36it/s]\n"
     ]
    },
    {
     "name": "stdout",
     "output_type": "stream",
     "text": [
      "(1, 3329)\n",
      "(190, 3330)\n"
     ]
    },
    {
     "name": "stderr",
     "output_type": "stream",
     "text": [
      "100%|██████████| 64/64 [00:00<00:00, 24264.26it/s]\n",
      "100%|██████████| 64/64 [00:00<00:00, 87.04it/s]\n",
      "100%|██████████| 64/64 [00:00<00:00, 93.13it/s]\n",
      "100%|██████████| 64/64 [00:00<00:00, 99.08it/s]\n",
      "100%|██████████| 64/64 [00:00<00:00, 2199.30it/s]\n",
      "100%|██████████| 64/64 [00:00<00:00, 180.71it/s]\n",
      "100%|██████████| 64/64 [00:00<00:00, 146.49it/s]\n",
      "100%|██████████| 64/64 [00:08<00:00,  7.70it/s]\n",
      "100%|██████████| 64/64 [00:00<00:00, 3251.87it/s]\n",
      "100%|██████████| 64/64 [00:00<00:00, 1177.88it/s]\n",
      "100%|██████████| 64/64 [00:00<00:00, 1334.94it/s]\n",
      "100%|██████████| 64/64 [00:00<00:00, 7006.38it/s]\n"
     ]
    },
    {
     "name": "stdout",
     "output_type": "stream",
     "text": [
      "(1, 3329)\n",
      "(191, 3330)\n"
     ]
    },
    {
     "name": "stderr",
     "output_type": "stream",
     "text": [
      "100%|██████████| 64/64 [00:00<00:00, 250640.01it/s]\n",
      "100%|██████████| 64/64 [00:00<00:00, 87.37it/s]\n",
      "100%|██████████| 64/64 [00:00<00:00, 93.98it/s]\n",
      "100%|██████████| 64/64 [00:00<00:00, 99.30it/s]\n",
      "100%|██████████| 64/64 [00:00<00:00, 2225.46it/s]\n",
      "100%|██████████| 64/64 [00:00<00:00, 176.37it/s]\n",
      "100%|██████████| 64/64 [00:00<00:00, 147.00it/s]\n",
      "100%|██████████| 64/64 [00:08<00:00,  7.71it/s]\n",
      "100%|██████████| 64/64 [00:00<00:00, 3122.07it/s]\n",
      "100%|██████████| 64/64 [00:00<00:00, 1340.37it/s]\n",
      "100%|██████████| 64/64 [00:00<00:00, 1329.03it/s]\n",
      "100%|██████████| 64/64 [00:00<00:00, 7871.78it/s]\n"
     ]
    },
    {
     "name": "stdout",
     "output_type": "stream",
     "text": [
      "(1, 3329)\n",
      "(192, 3330)\n"
     ]
    },
    {
     "name": "stderr",
     "output_type": "stream",
     "text": [
      "100%|██████████| 64/64 [00:00<00:00, 100499.98it/s]\n",
      "100%|██████████| 64/64 [00:00<00:00, 92.52it/s]\n",
      "100%|██████████| 64/64 [00:00<00:00, 91.25it/s]\n",
      "100%|██████████| 64/64 [00:00<00:00, 98.58it/s]\n",
      "100%|██████████| 64/64 [00:00<00:00, 2223.27it/s]\n",
      "100%|██████████| 64/64 [00:00<00:00, 180.39it/s]\n",
      "100%|██████████| 64/64 [00:00<00:00, 142.62it/s]\n",
      "100%|██████████| 64/64 [00:08<00:00,  7.77it/s]\n",
      "100%|██████████| 64/64 [00:00<00:00, 3410.65it/s]\n",
      "100%|██████████| 64/64 [00:00<00:00, 1356.06it/s]\n",
      "100%|██████████| 64/64 [00:00<00:00, 1268.93it/s]\n",
      "100%|██████████| 64/64 [00:00<00:00, 5069.99it/s]\n"
     ]
    },
    {
     "name": "stdout",
     "output_type": "stream",
     "text": [
      "(1, 3329)\n",
      "(193, 3330)\n"
     ]
    },
    {
     "name": "stderr",
     "output_type": "stream",
     "text": [
      "100%|██████████| 64/64 [00:00<00:00, 85001.73it/s]\n",
      "100%|██████████| 64/64 [00:00<00:00, 87.17it/s]\n",
      "100%|██████████| 64/64 [00:00<00:00, 91.27it/s]\n",
      "100%|██████████| 64/64 [00:00<00:00, 93.57it/s]\n",
      "100%|██████████| 64/64 [00:00<00:00, 2004.15it/s]\n",
      "100%|██████████| 64/64 [00:00<00:00, 177.65it/s]\n",
      "100%|██████████| 64/64 [00:00<00:00, 149.52it/s]\n",
      "100%|██████████| 64/64 [00:08<00:00,  7.73it/s]\n",
      "100%|██████████| 64/64 [00:00<00:00, 3294.05it/s]\n",
      "100%|██████████| 64/64 [00:00<00:00, 1327.74it/s]\n",
      "100%|██████████| 64/64 [00:00<00:00, 1293.12it/s]\n",
      "100%|██████████| 64/64 [00:00<00:00, 7177.61it/s]\n"
     ]
    },
    {
     "name": "stdout",
     "output_type": "stream",
     "text": [
      "(1, 3329)\n",
      "(194, 3330)\n"
     ]
    },
    {
     "name": "stderr",
     "output_type": "stream",
     "text": [
      "100%|██████████| 64/64 [00:00<00:00, 16881.67it/s]\n",
      "100%|██████████| 64/64 [00:00<00:00, 92.03it/s]\n",
      "100%|██████████| 64/64 [00:00<00:00, 90.27it/s]\n",
      "100%|██████████| 64/64 [00:00<00:00, 97.08it/s]\n",
      "100%|██████████| 64/64 [00:00<00:00, 2070.35it/s]\n",
      "100%|██████████| 64/64 [00:00<00:00, 173.64it/s]\n",
      "100%|██████████| 64/64 [00:00<00:00, 142.57it/s]\n",
      "100%|██████████| 64/64 [00:08<00:00,  7.70it/s]\n",
      "100%|██████████| 64/64 [00:00<00:00, 3518.76it/s]\n",
      "100%|██████████| 64/64 [00:00<00:00, 1298.69it/s]\n",
      "100%|██████████| 64/64 [00:00<00:00, 1346.14it/s]\n",
      "100%|██████████| 64/64 [00:00<00:00, 7960.72it/s]\n"
     ]
    },
    {
     "name": "stdout",
     "output_type": "stream",
     "text": [
      "(1, 3329)\n",
      "(195, 3330)\n"
     ]
    },
    {
     "name": "stderr",
     "output_type": "stream",
     "text": [
      "100%|██████████| 64/64 [00:00<00:00, 47151.85it/s]\n",
      "100%|██████████| 64/64 [00:00<00:00, 89.22it/s]\n",
      "100%|██████████| 64/64 [00:00<00:00, 93.72it/s]\n",
      "100%|██████████| 64/64 [00:00<00:00, 94.84it/s]\n",
      "100%|██████████| 64/64 [00:00<00:00, 2137.26it/s]\n",
      "100%|██████████| 64/64 [00:00<00:00, 177.57it/s]\n",
      "100%|██████████| 64/64 [00:00<00:00, 145.37it/s]\n",
      "100%|██████████| 64/64 [00:08<00:00,  7.74it/s]\n",
      "100%|██████████| 64/64 [00:00<00:00, 2976.60it/s]\n",
      "100%|██████████| 64/64 [00:00<00:00, 1297.11it/s]\n",
      "100%|██████████| 64/64 [00:00<00:00, 1273.85it/s]\n",
      "100%|██████████| 64/64 [00:00<00:00, 5413.21it/s]\n"
     ]
    },
    {
     "name": "stdout",
     "output_type": "stream",
     "text": [
      "(1, 3329)\n",
      "(196, 3330)\n"
     ]
    },
    {
     "name": "stderr",
     "output_type": "stream",
     "text": [
      "100%|██████████| 64/64 [00:00<00:00, 22390.15it/s]\n",
      "100%|██████████| 64/64 [00:00<00:00, 91.90it/s]\n",
      "100%|██████████| 64/64 [00:00<00:00, 96.21it/s]\n",
      "100%|██████████| 64/64 [00:00<00:00, 97.28it/s]\n",
      "100%|██████████| 64/64 [00:00<00:00, 1871.09it/s]\n",
      "100%|██████████| 64/64 [00:00<00:00, 179.86it/s]\n",
      "100%|██████████| 64/64 [00:00<00:00, 143.80it/s]\n",
      "100%|██████████| 64/64 [00:08<00:00,  7.74it/s]\n",
      "100%|██████████| 64/64 [00:00<00:00, 2144.38it/s]\n",
      "100%|██████████| 64/64 [00:00<00:00, 1373.36it/s]\n",
      "100%|██████████| 64/64 [00:00<00:00, 1287.66it/s]\n",
      "100%|██████████| 64/64 [00:00<00:00, 5804.26it/s]\n"
     ]
    },
    {
     "name": "stdout",
     "output_type": "stream",
     "text": [
      "(1, 3329)\n",
      "(197, 3330)\n"
     ]
    },
    {
     "name": "stderr",
     "output_type": "stream",
     "text": [
      "100%|██████████| 64/64 [00:00<00:00, 19840.02it/s]\n",
      "100%|██████████| 64/64 [00:00<00:00, 90.34it/s]\n",
      "100%|██████████| 64/64 [00:00<00:00, 92.33it/s]\n",
      "100%|██████████| 64/64 [00:00<00:00, 96.38it/s]\n",
      "100%|██████████| 64/64 [00:00<00:00, 2309.80it/s]\n",
      "100%|██████████| 64/64 [00:00<00:00, 183.40it/s]\n",
      "100%|██████████| 64/64 [00:00<00:00, 142.47it/s]\n",
      "100%|██████████| 64/64 [00:08<00:00,  7.72it/s]\n",
      "100%|██████████| 64/64 [00:00<00:00, 2559.21it/s]\n",
      "100%|██████████| 64/64 [00:00<00:00, 1379.34it/s]\n",
      "100%|██████████| 64/64 [00:00<00:00, 1322.03it/s]\n",
      "100%|██████████| 64/64 [00:00<00:00, 6103.86it/s]\n"
     ]
    },
    {
     "name": "stdout",
     "output_type": "stream",
     "text": [
      "(1, 3329)\n",
      "(198, 3330)\n"
     ]
    },
    {
     "name": "stderr",
     "output_type": "stream",
     "text": [
      "100%|██████████| 64/64 [00:00<00:00, 188375.76it/s]\n",
      "100%|██████████| 64/64 [00:00<00:00, 90.73it/s]\n",
      "100%|██████████| 64/64 [00:00<00:00, 93.62it/s]\n",
      "100%|██████████| 64/64 [00:00<00:00, 96.36it/s]\n",
      "100%|██████████| 64/64 [00:00<00:00, 1979.28it/s]\n",
      "100%|██████████| 64/64 [00:00<00:00, 179.25it/s]\n",
      "100%|██████████| 64/64 [00:00<00:00, 146.87it/s]\n",
      "100%|██████████| 64/64 [00:08<00:00,  7.64it/s]\n",
      "100%|██████████| 64/64 [00:00<00:00, 3356.03it/s]\n",
      "100%|██████████| 64/64 [00:00<00:00, 1303.14it/s]\n",
      "100%|██████████| 64/64 [00:00<00:00, 1299.39it/s]\n",
      "100%|██████████| 64/64 [00:00<00:00, 7773.98it/s]\n"
     ]
    },
    {
     "name": "stdout",
     "output_type": "stream",
     "text": [
      "(1, 3329)\n",
      "(199, 3330)\n"
     ]
    },
    {
     "name": "stderr",
     "output_type": "stream",
     "text": [
      "100%|██████████| 64/64 [00:00<00:00, 85082.55it/s]\n",
      "100%|██████████| 64/64 [00:00<00:00, 88.66it/s]\n",
      "100%|██████████| 64/64 [00:00<00:00, 95.73it/s]\n",
      "100%|██████████| 64/64 [00:00<00:00, 99.19it/s]\n",
      "100%|██████████| 64/64 [00:00<00:00, 2052.35it/s]\n",
      "100%|██████████| 64/64 [00:00<00:00, 178.03it/s]\n",
      "100%|██████████| 64/64 [00:00<00:00, 143.29it/s]\n",
      "100%|██████████| 64/64 [00:08<00:00,  7.66it/s]\n",
      "100%|██████████| 64/64 [00:00<00:00, 2637.95it/s]\n",
      "100%|██████████| 64/64 [00:00<00:00, 1201.47it/s]\n",
      "100%|██████████| 64/64 [00:00<00:00, 1296.01it/s]\n",
      "100%|██████████| 64/64 [00:00<00:00, 8087.11it/s]\n"
     ]
    },
    {
     "name": "stdout",
     "output_type": "stream",
     "text": [
      "(1, 3329)\n",
      "(200, 3330)\n"
     ]
    },
    {
     "name": "stderr",
     "output_type": "stream",
     "text": [
      "100%|██████████| 64/64 [00:00<00:00, 14344.86it/s]\n",
      "100%|██████████| 64/64 [00:00<00:00, 91.96it/s]\n",
      "100%|██████████| 64/64 [00:00<00:00, 88.73it/s]\n",
      "100%|██████████| 64/64 [00:00<00:00, 91.47it/s]\n",
      "100%|██████████| 64/64 [00:00<00:00, 2089.98it/s]\n",
      "100%|██████████| 64/64 [00:00<00:00, 171.63it/s]\n",
      "100%|██████████| 64/64 [00:00<00:00, 140.07it/s]\n",
      "100%|██████████| 64/64 [00:08<00:00,  7.71it/s]\n",
      "100%|██████████| 64/64 [00:00<00:00, 3391.13it/s]\n",
      "100%|██████████| 64/64 [00:00<00:00, 1352.47it/s]\n",
      "100%|██████████| 64/64 [00:00<00:00, 1223.82it/s]\n",
      "100%|██████████| 64/64 [00:00<00:00, 7281.58it/s]\n"
     ]
    },
    {
     "name": "stdout",
     "output_type": "stream",
     "text": [
      "(1, 3329)\n",
      "(201, 3330)\n"
     ]
    },
    {
     "name": "stderr",
     "output_type": "stream",
     "text": [
      "100%|██████████| 64/64 [00:00<00:00, 48797.57it/s]\n",
      "100%|██████████| 64/64 [00:00<00:00, 87.78it/s]\n",
      "100%|██████████| 64/64 [00:00<00:00, 88.99it/s]\n",
      "100%|██████████| 64/64 [00:00<00:00, 96.27it/s]\n",
      "100%|██████████| 64/64 [00:00<00:00, 2158.12it/s]\n",
      "100%|██████████| 64/64 [00:00<00:00, 175.48it/s]\n",
      "100%|██████████| 64/64 [00:00<00:00, 140.53it/s]\n",
      "100%|██████████| 64/64 [00:08<00:00,  7.65it/s]\n",
      "100%|██████████| 64/64 [00:00<00:00, 3308.71it/s]\n",
      "100%|██████████| 64/64 [00:00<00:00, 1341.08it/s]\n",
      "100%|██████████| 64/64 [00:00<00:00, 909.56it/s]\n",
      "100%|██████████| 64/64 [00:00<00:00, 7661.49it/s]\n"
     ]
    },
    {
     "name": "stdout",
     "output_type": "stream",
     "text": [
      "(1, 3329)\n",
      "(202, 3330)\n"
     ]
    },
    {
     "name": "stderr",
     "output_type": "stream",
     "text": [
      "100%|██████████| 64/64 [00:00<00:00, 86009.44it/s]\n",
      "100%|██████████| 64/64 [00:00<00:00, 88.31it/s]\n",
      "100%|██████████| 64/64 [00:00<00:00, 92.55it/s]\n",
      "100%|██████████| 64/64 [00:00<00:00, 91.34it/s]\n",
      "100%|██████████| 64/64 [00:00<00:00, 1726.46it/s]\n",
      "100%|██████████| 64/64 [00:00<00:00, 172.72it/s]\n",
      "100%|██████████| 64/64 [00:00<00:00, 141.18it/s]\n",
      "100%|██████████| 64/64 [00:08<00:00,  7.69it/s]\n",
      "100%|██████████| 64/64 [00:00<00:00, 2958.85it/s]\n",
      "100%|██████████| 64/64 [00:00<00:00, 1366.47it/s]\n",
      "100%|██████████| 64/64 [00:00<00:00, 1296.63it/s]\n",
      "100%|██████████| 64/64 [00:00<00:00, 6439.77it/s]\n"
     ]
    },
    {
     "name": "stdout",
     "output_type": "stream",
     "text": [
      "(1, 3329)\n",
      "(203, 3330)\n"
     ]
    },
    {
     "name": "stderr",
     "output_type": "stream",
     "text": [
      "100%|██████████| 64/64 [00:00<00:00, 243810.59it/s]\n",
      "100%|██████████| 64/64 [00:00<00:00, 88.89it/s]\n",
      "100%|██████████| 64/64 [00:00<00:00, 92.89it/s]\n",
      "100%|██████████| 64/64 [00:00<00:00, 100.47it/s]\n",
      "100%|██████████| 64/64 [00:00<00:00, 2292.65it/s]\n",
      "100%|██████████| 64/64 [00:00<00:00, 185.75it/s]\n",
      "100%|██████████| 64/64 [00:00<00:00, 148.69it/s]\n",
      "100%|██████████| 64/64 [00:08<00:00,  7.69it/s]\n",
      "100%|██████████| 64/64 [00:00<00:00, 2448.45it/s]\n",
      "100%|██████████| 64/64 [00:00<00:00, 1273.81it/s]\n",
      "100%|██████████| 64/64 [00:00<00:00, 1121.77it/s]\n",
      "100%|██████████| 64/64 [00:00<00:00, 7292.26it/s]\n"
     ]
    },
    {
     "name": "stdout",
     "output_type": "stream",
     "text": [
      "(1, 3329)\n",
      "(204, 3330)\n"
     ]
    },
    {
     "name": "stderr",
     "output_type": "stream",
     "text": [
      "100%|██████████| 64/64 [00:00<00:00, 65170.05it/s]\n",
      "100%|██████████| 64/64 [00:00<00:00, 89.48it/s]\n",
      "100%|██████████| 64/64 [00:00<00:00, 95.21it/s]\n",
      "100%|██████████| 64/64 [00:00<00:00, 96.34it/s]\n",
      "100%|██████████| 64/64 [00:00<00:00, 2202.87it/s]\n",
      "100%|██████████| 64/64 [00:00<00:00, 180.34it/s]\n",
      "100%|██████████| 64/64 [00:00<00:00, 143.61it/s]\n",
      "100%|██████████| 64/64 [00:08<00:00,  7.69it/s]\n",
      "100%|██████████| 64/64 [00:00<00:00, 2742.41it/s]\n",
      "100%|██████████| 64/64 [00:00<00:00, 1370.41it/s]\n",
      "100%|██████████| 64/64 [00:00<00:00, 1227.40it/s]\n",
      "100%|██████████| 64/64 [00:00<00:00, 5644.74it/s]\n"
     ]
    },
    {
     "name": "stdout",
     "output_type": "stream",
     "text": [
      "(1, 3329)\n",
      "(205, 3330)\n"
     ]
    },
    {
     "name": "stderr",
     "output_type": "stream",
     "text": [
      "100%|██████████| 64/64 [00:00<00:00, 195795.37it/s]\n",
      "100%|██████████| 64/64 [00:00<00:00, 92.55it/s]\n",
      "100%|██████████| 64/64 [00:00<00:00, 90.90it/s]\n",
      "100%|██████████| 64/64 [00:00<00:00, 98.59it/s]\n",
      "100%|██████████| 64/64 [00:00<00:00, 2085.92it/s]\n",
      "100%|██████████| 64/64 [00:00<00:00, 176.08it/s]\n",
      "100%|██████████| 64/64 [00:00<00:00, 145.38it/s]\n",
      "100%|██████████| 64/64 [00:08<00:00,  7.78it/s]\n",
      "100%|██████████| 64/64 [00:00<00:00, 3460.69it/s]\n",
      "100%|██████████| 64/64 [00:00<00:00, 1254.85it/s]\n",
      "100%|██████████| 64/64 [00:00<00:00, 1329.76it/s]\n",
      "100%|██████████| 64/64 [00:00<00:00, 7080.67it/s]\n"
     ]
    },
    {
     "name": "stdout",
     "output_type": "stream",
     "text": [
      "(1, 3329)\n",
      "(206, 3330)\n"
     ]
    },
    {
     "name": "stderr",
     "output_type": "stream",
     "text": [
      "100%|██████████| 64/64 [00:00<00:00, 130182.08it/s]\n",
      "100%|██████████| 64/64 [00:00<00:00, 91.51it/s]\n",
      "100%|██████████| 64/64 [00:00<00:00, 92.61it/s]\n",
      "100%|██████████| 64/64 [00:00<00:00, 96.16it/s]\n",
      "100%|██████████| 64/64 [00:00<00:00, 2139.52it/s]\n",
      "100%|██████████| 64/64 [00:00<00:00, 183.06it/s]\n",
      "100%|██████████| 64/64 [00:00<00:00, 146.19it/s]\n",
      "100%|██████████| 64/64 [00:08<00:00,  7.73it/s]\n",
      "100%|██████████| 64/64 [00:00<00:00, 2735.70it/s]\n",
      "100%|██████████| 64/64 [00:00<00:00, 1369.48it/s]\n",
      "100%|██████████| 64/64 [00:00<00:00, 1263.52it/s]\n",
      "100%|██████████| 64/64 [00:00<00:00, 7280.59it/s]\n"
     ]
    },
    {
     "name": "stdout",
     "output_type": "stream",
     "text": [
      "(1, 3329)\n",
      "(207, 3330)\n"
     ]
    },
    {
     "name": "stderr",
     "output_type": "stream",
     "text": [
      "100%|██████████| 64/64 [00:00<00:00, 194518.45it/s]\n",
      "100%|██████████| 64/64 [00:00<00:00, 88.25it/s]\n",
      "100%|██████████| 64/64 [00:00<00:00, 92.58it/s]\n",
      "100%|██████████| 64/64 [00:00<00:00, 99.11it/s]\n",
      "100%|██████████| 64/64 [00:00<00:00, 2216.94it/s]\n",
      "100%|██████████| 64/64 [00:00<00:00, 175.96it/s]\n",
      "100%|██████████| 64/64 [00:00<00:00, 143.02it/s]\n",
      "100%|██████████| 64/64 [00:08<00:00,  7.74it/s]\n",
      "100%|██████████| 64/64 [00:00<00:00, 3389.46it/s]\n",
      "100%|██████████| 64/64 [00:00<00:00, 1228.50it/s]\n",
      "100%|██████████| 64/64 [00:00<00:00, 1320.28it/s]\n",
      "100%|██████████| 64/64 [00:00<00:00, 7207.87it/s]\n"
     ]
    },
    {
     "name": "stdout",
     "output_type": "stream",
     "text": [
      "(1, 3329)\n",
      "(208, 3330)\n"
     ]
    },
    {
     "name": "stderr",
     "output_type": "stream",
     "text": [
      "100%|██████████| 64/64 [00:00<00:00, 75403.22it/s]\n",
      "100%|██████████| 64/64 [00:00<00:00, 93.43it/s]\n",
      "100%|██████████| 64/64 [00:00<00:00, 91.01it/s]\n",
      "100%|██████████| 64/64 [00:00<00:00, 95.62it/s]\n",
      "100%|██████████| 64/64 [00:00<00:00, 2261.96it/s]\n",
      "100%|██████████| 64/64 [00:00<00:00, 176.79it/s]\n",
      "100%|██████████| 64/64 [00:00<00:00, 146.99it/s]\n",
      "100%|██████████| 64/64 [00:08<00:00,  7.72it/s]\n",
      "100%|██████████| 64/64 [00:00<00:00, 3302.93it/s]\n",
      "100%|██████████| 64/64 [00:00<00:00, 1355.34it/s]\n",
      "100%|██████████| 64/64 [00:00<00:00, 1303.74it/s]\n",
      "100%|██████████| 64/64 [00:00<00:00, 7189.91it/s]\n"
     ]
    },
    {
     "name": "stdout",
     "output_type": "stream",
     "text": [
      "(1, 3329)\n",
      "(209, 3330)\n"
     ]
    },
    {
     "name": "stderr",
     "output_type": "stream",
     "text": [
      "100%|██████████| 64/64 [00:00<00:00, 121629.11it/s]\n",
      "100%|██████████| 64/64 [00:00<00:00, 89.94it/s]\n",
      "100%|██████████| 64/64 [00:00<00:00, 93.58it/s]\n",
      "100%|██████████| 64/64 [00:00<00:00, 95.01it/s]\n",
      "100%|██████████| 64/64 [00:00<00:00, 2050.66it/s]\n",
      "100%|██████████| 64/64 [00:00<00:00, 178.55it/s]\n",
      "100%|██████████| 64/64 [00:00<00:00, 148.65it/s]\n",
      "100%|██████████| 64/64 [00:08<00:00,  7.67it/s]\n",
      "100%|██████████| 64/64 [00:00<00:00, 3395.12it/s]\n",
      "100%|██████████| 64/64 [00:00<00:00, 1391.34it/s]\n",
      "100%|██████████| 64/64 [00:00<00:00, 1301.15it/s]\n",
      "100%|██████████| 64/64 [00:00<00:00, 6565.14it/s]\n"
     ]
    },
    {
     "name": "stdout",
     "output_type": "stream",
     "text": [
      "(1, 3329)\n",
      "(210, 3330)\n"
     ]
    },
    {
     "name": "stderr",
     "output_type": "stream",
     "text": [
      "100%|██████████| 64/64 [00:00<00:00, 47527.52it/s]\n",
      "100%|██████████| 64/64 [00:00<00:00, 91.21it/s]\n",
      "100%|██████████| 64/64 [00:00<00:00, 91.10it/s]\n",
      "100%|██████████| 64/64 [00:00<00:00, 94.61it/s]\n",
      "100%|██████████| 64/64 [00:00<00:00, 1867.38it/s]\n",
      "100%|██████████| 64/64 [00:00<00:00, 182.70it/s]\n",
      "100%|██████████| 64/64 [00:00<00:00, 151.36it/s]\n",
      "100%|██████████| 64/64 [00:08<00:00,  7.75it/s]\n",
      "100%|██████████| 64/64 [00:00<00:00, 3448.11it/s]\n",
      "100%|██████████| 64/64 [00:00<00:00, 1245.07it/s]\n",
      "100%|██████████| 64/64 [00:00<00:00, 1241.82it/s]\n",
      "100%|██████████| 64/64 [00:00<00:00, 7133.74it/s]\n"
     ]
    },
    {
     "name": "stdout",
     "output_type": "stream",
     "text": [
      "(1, 3329)\n",
      "(211, 3330)\n"
     ]
    },
    {
     "name": "stderr",
     "output_type": "stream",
     "text": [
      "100%|██████████| 64/64 [00:00<00:00, 23411.43it/s]\n",
      "100%|██████████| 64/64 [00:00<00:00, 90.97it/s]\n",
      "100%|██████████| 64/64 [00:00<00:00, 94.81it/s]\n",
      "100%|██████████| 64/64 [00:00<00:00, 94.63it/s]\n",
      "100%|██████████| 64/64 [00:00<00:00, 2259.92it/s]\n",
      "100%|██████████| 64/64 [00:00<00:00, 176.40it/s]\n",
      "100%|██████████| 64/64 [00:00<00:00, 143.28it/s]\n",
      "100%|██████████| 64/64 [00:08<00:00,  7.72it/s]\n",
      "100%|██████████| 64/64 [00:00<00:00, 3414.86it/s]\n",
      "100%|██████████| 64/64 [00:00<00:00, 1386.42it/s]\n",
      "100%|██████████| 64/64 [00:00<00:00, 1334.43it/s]\n",
      "100%|██████████| 64/64 [00:00<00:00, 6773.37it/s]\n"
     ]
    },
    {
     "name": "stdout",
     "output_type": "stream",
     "text": [
      "(1, 3329)\n",
      "(212, 3330)\n"
     ]
    },
    {
     "name": "stderr",
     "output_type": "stream",
     "text": [
      "100%|██████████| 64/64 [00:00<00:00, 21129.99it/s]\n",
      "100%|██████████| 64/64 [00:00<00:00, 89.02it/s]\n",
      "100%|██████████| 64/64 [00:00<00:00, 88.66it/s]\n",
      "100%|██████████| 64/64 [00:00<00:00, 95.49it/s]\n",
      "100%|██████████| 64/64 [00:00<00:00, 2194.93it/s]\n",
      "100%|██████████| 64/64 [00:00<00:00, 174.63it/s]\n",
      "100%|██████████| 64/64 [00:00<00:00, 150.16it/s]\n",
      "100%|██████████| 64/64 [00:08<00:00,  7.75it/s]\n",
      "100%|██████████| 64/64 [00:00<00:00, 3440.07it/s]\n",
      "100%|██████████| 64/64 [00:00<00:00, 1338.90it/s]\n",
      "100%|██████████| 64/64 [00:00<00:00, 1282.31it/s]\n",
      "100%|██████████| 64/64 [00:00<00:00, 5649.13it/s]\n"
     ]
    },
    {
     "name": "stdout",
     "output_type": "stream",
     "text": [
      "(1, 3329)\n",
      "(213, 3330)\n"
     ]
    },
    {
     "name": "stderr",
     "output_type": "stream",
     "text": [
      "100%|██████████| 64/64 [00:00<00:00, 63429.93it/s]\n",
      "100%|██████████| 64/64 [00:00<00:00, 91.75it/s]\n",
      "100%|██████████| 64/64 [00:00<00:00, 94.48it/s]\n",
      "100%|██████████| 64/64 [00:00<00:00, 96.52it/s]\n",
      "100%|██████████| 64/64 [00:00<00:00, 2361.91it/s]\n",
      "100%|██████████| 64/64 [00:00<00:00, 182.48it/s]\n",
      "100%|██████████| 64/64 [00:00<00:00, 142.59it/s]\n",
      "100%|██████████| 64/64 [00:08<00:00,  7.77it/s]\n",
      "100%|██████████| 64/64 [00:00<00:00, 3333.73it/s]\n",
      "100%|██████████| 64/64 [00:00<00:00, 1269.19it/s]\n",
      "100%|██████████| 64/64 [00:00<00:00, 1269.35it/s]\n",
      "100%|██████████| 64/64 [00:00<00:00, 7193.38it/s]\n"
     ]
    },
    {
     "name": "stdout",
     "output_type": "stream",
     "text": [
      "(1, 3329)\n",
      "(214, 3330)\n"
     ]
    },
    {
     "name": "stderr",
     "output_type": "stream",
     "text": [
      "100%|██████████| 64/64 [00:00<00:00, 34269.81it/s]\n",
      "100%|██████████| 64/64 [00:00<00:00, 88.95it/s]\n",
      "100%|██████████| 64/64 [00:00<00:00, 94.85it/s]\n",
      "100%|██████████| 64/64 [00:00<00:00, 97.43it/s]\n",
      "100%|██████████| 64/64 [00:00<00:00, 2171.81it/s]\n",
      "100%|██████████| 64/64 [00:00<00:00, 177.18it/s]\n",
      "100%|██████████| 64/64 [00:00<00:00, 144.96it/s]\n",
      "100%|██████████| 64/64 [00:08<00:00,  7.74it/s]\n",
      "100%|██████████| 64/64 [00:00<00:00, 2975.44it/s]\n",
      "100%|██████████| 64/64 [00:00<00:00, 1067.58it/s]\n",
      "100%|██████████| 64/64 [00:00<00:00, 1213.12it/s]\n",
      "100%|██████████| 64/64 [00:00<00:00, 6975.07it/s]\n"
     ]
    },
    {
     "name": "stdout",
     "output_type": "stream",
     "text": [
      "(1, 3329)\n",
      "(215, 3330)\n"
     ]
    },
    {
     "name": "stderr",
     "output_type": "stream",
     "text": [
      "100%|██████████| 64/64 [00:00<00:00, 260870.22it/s]\n",
      "100%|██████████| 64/64 [00:00<00:00, 93.36it/s]\n",
      "100%|██████████| 64/64 [00:00<00:00, 94.15it/s]\n",
      "100%|██████████| 64/64 [00:00<00:00, 94.78it/s]\n",
      "100%|██████████| 64/64 [00:00<00:00, 2181.60it/s]\n",
      "100%|██████████| 64/64 [00:00<00:00, 180.19it/s]\n",
      "100%|██████████| 64/64 [00:00<00:00, 144.98it/s]\n",
      "100%|██████████| 64/64 [00:08<00:00,  7.76it/s]\n",
      "100%|██████████| 64/64 [00:00<00:00, 3484.55it/s]\n",
      "100%|██████████| 64/64 [00:00<00:00, 1201.78it/s]\n",
      "100%|██████████| 64/64 [00:00<00:00, 1334.34it/s]\n",
      "100%|██████████| 64/64 [00:00<00:00, 8090.77it/s]\n"
     ]
    },
    {
     "name": "stdout",
     "output_type": "stream",
     "text": [
      "(1, 3329)\n",
      "(216, 3330)\n"
     ]
    },
    {
     "name": "stderr",
     "output_type": "stream",
     "text": [
      "100%|██████████| 64/64 [00:00<00:00, 80058.29it/s]\n",
      "100%|██████████| 64/64 [00:00<00:00, 90.92it/s]\n",
      "100%|██████████| 64/64 [00:00<00:00, 95.76it/s]\n",
      "100%|██████████| 64/64 [00:00<00:00, 99.08it/s]\n",
      "100%|██████████| 64/64 [00:00<00:00, 1822.62it/s]\n",
      "100%|██████████| 64/64 [00:00<00:00, 176.58it/s]\n",
      "100%|██████████| 64/64 [00:00<00:00, 143.94it/s]\n",
      "100%|██████████| 64/64 [00:08<00:00,  7.70it/s]\n",
      "100%|██████████| 64/64 [00:00<00:00, 3053.00it/s]\n",
      "100%|██████████| 64/64 [00:00<00:00, 1348.14it/s]\n",
      "100%|██████████| 64/64 [00:00<00:00, 1332.00it/s]\n",
      "100%|██████████| 64/64 [00:00<00:00, 8145.02it/s]\n"
     ]
    },
    {
     "name": "stdout",
     "output_type": "stream",
     "text": [
      "(1, 3329)\n",
      "(217, 3330)\n"
     ]
    },
    {
     "name": "stderr",
     "output_type": "stream",
     "text": [
      "100%|██████████| 64/64 [00:00<00:00, 165905.72it/s]\n",
      "100%|██████████| 64/64 [00:00<00:00, 92.14it/s]\n",
      "100%|██████████| 64/64 [00:00<00:00, 92.34it/s]\n",
      "100%|██████████| 64/64 [00:00<00:00, 97.91it/s]\n",
      "100%|██████████| 64/64 [00:00<00:00, 2098.69it/s]\n",
      "100%|██████████| 64/64 [00:00<00:00, 169.63it/s]\n",
      "100%|██████████| 64/64 [00:00<00:00, 145.24it/s]\n",
      "100%|██████████| 64/64 [00:08<00:00,  7.71it/s]\n",
      "100%|██████████| 64/64 [00:00<00:00, 3398.78it/s]\n",
      "100%|██████████| 64/64 [00:00<00:00, 1302.86it/s]\n",
      "100%|██████████| 64/64 [00:00<00:00, 1168.86it/s]\n",
      "100%|██████████| 64/64 [00:00<00:00, 5942.78it/s]\n"
     ]
    },
    {
     "name": "stdout",
     "output_type": "stream",
     "text": [
      "(1, 3329)\n",
      "(218, 3330)\n"
     ]
    },
    {
     "name": "stderr",
     "output_type": "stream",
     "text": [
      "100%|██████████| 64/64 [00:00<00:00, 80562.86it/s]\n",
      "100%|██████████| 64/64 [00:00<00:00, 91.43it/s]\n",
      "100%|██████████| 64/64 [00:00<00:00, 91.83it/s]\n",
      "100%|██████████| 64/64 [00:00<00:00, 93.82it/s]\n",
      "100%|██████████| 64/64 [00:00<00:00, 2292.81it/s]\n",
      "100%|██████████| 64/64 [00:00<00:00, 174.35it/s]\n",
      "100%|██████████| 64/64 [00:00<00:00, 140.70it/s]\n",
      "100%|██████████| 64/64 [00:08<00:00,  7.72it/s]\n",
      "100%|██████████| 64/64 [00:00<00:00, 3473.27it/s]\n",
      "100%|██████████| 64/64 [00:00<00:00, 1357.37it/s]\n",
      "100%|██████████| 64/64 [00:00<00:00, 1334.12it/s]\n",
      "100%|██████████| 64/64 [00:00<00:00, 7875.47it/s]\n"
     ]
    },
    {
     "name": "stdout",
     "output_type": "stream",
     "text": [
      "(1, 3329)\n",
      "(219, 3330)\n"
     ]
    },
    {
     "name": "stderr",
     "output_type": "stream",
     "text": [
      "100%|██████████| 64/64 [00:00<00:00, 47519.11it/s]\n",
      "100%|██████████| 64/64 [00:00<00:00, 91.69it/s]\n",
      "100%|██████████| 64/64 [00:00<00:00, 92.75it/s]\n",
      "100%|██████████| 64/64 [00:00<00:00, 95.32it/s]\n",
      "100%|██████████| 64/64 [00:00<00:00, 2231.96it/s]\n",
      "100%|██████████| 64/64 [00:00<00:00, 178.23it/s]\n",
      "100%|██████████| 64/64 [00:00<00:00, 142.79it/s]\n",
      "100%|██████████| 64/64 [00:08<00:00,  7.69it/s]\n",
      "100%|██████████| 64/64 [00:00<00:00, 3354.48it/s]\n",
      "100%|██████████| 64/64 [00:00<00:00, 1368.29it/s]\n",
      "100%|██████████| 64/64 [00:00<00:00, 1325.86it/s]\n",
      "100%|██████████| 64/64 [00:00<00:00, 6567.55it/s]\n"
     ]
    },
    {
     "name": "stdout",
     "output_type": "stream",
     "text": [
      "(1, 3329)\n",
      "(220, 3330)\n"
     ]
    },
    {
     "name": "stderr",
     "output_type": "stream",
     "text": [
      "100%|██████████| 64/64 [00:00<00:00, 24172.49it/s]\n",
      "100%|██████████| 64/64 [00:00<00:00, 89.16it/s]\n",
      "100%|██████████| 64/64 [00:00<00:00, 90.86it/s]\n",
      "100%|██████████| 64/64 [00:00<00:00, 94.95it/s]\n",
      "100%|██████████| 64/64 [00:00<00:00, 2102.49it/s]\n",
      "100%|██████████| 64/64 [00:00<00:00, 172.69it/s]\n",
      "100%|██████████| 64/64 [00:00<00:00, 140.08it/s]\n",
      "100%|██████████| 64/64 [00:08<00:00,  7.68it/s]\n",
      "100%|██████████| 64/64 [00:00<00:00, 3329.23it/s]\n",
      "100%|██████████| 64/64 [00:00<00:00, 1367.71it/s]\n",
      "100%|██████████| 64/64 [00:00<00:00, 1149.40it/s]\n",
      "100%|██████████| 64/64 [00:00<00:00, 6774.23it/s]\n"
     ]
    },
    {
     "name": "stdout",
     "output_type": "stream",
     "text": [
      "(1, 3329)\n",
      "(221, 3330)\n"
     ]
    },
    {
     "name": "stderr",
     "output_type": "stream",
     "text": [
      "100%|██████████| 64/64 [00:00<00:00, 92182.51it/s]\n",
      "100%|██████████| 64/64 [00:00<00:00, 88.26it/s]\n",
      "100%|██████████| 64/64 [00:00<00:00, 93.31it/s]\n",
      "100%|██████████| 64/64 [00:00<00:00, 92.87it/s]\n",
      "100%|██████████| 64/64 [00:00<00:00, 2243.24it/s]\n",
      "100%|██████████| 64/64 [00:00<00:00, 174.75it/s]\n",
      "100%|██████████| 64/64 [00:00<00:00, 142.74it/s]\n",
      "100%|██████████| 64/64 [00:08<00:00,  7.73it/s]\n",
      "100%|██████████| 64/64 [00:00<00:00, 3546.51it/s]\n",
      "100%|██████████| 64/64 [00:00<00:00, 1379.02it/s]\n",
      "100%|██████████| 64/64 [00:00<00:00, 1286.45it/s]\n",
      "100%|██████████| 64/64 [00:00<00:00, 5498.14it/s]\n"
     ]
    },
    {
     "name": "stdout",
     "output_type": "stream",
     "text": [
      "(1, 3329)\n",
      "(222, 3330)\n"
     ]
    },
    {
     "name": "stderr",
     "output_type": "stream",
     "text": [
      "100%|██████████| 64/64 [00:00<00:00, 77717.27it/s]\n",
      "100%|██████████| 64/64 [00:00<00:00, 92.31it/s]\n",
      "100%|██████████| 64/64 [00:00<00:00, 95.51it/s]\n",
      "100%|██████████| 64/64 [00:00<00:00, 99.15it/s]\n",
      "100%|██████████| 64/64 [00:00<00:00, 2140.96it/s]\n",
      "100%|██████████| 64/64 [00:00<00:00, 171.66it/s]\n",
      "100%|██████████| 64/64 [00:00<00:00, 147.67it/s]\n",
      "100%|██████████| 64/64 [00:08<00:00,  7.74it/s]\n",
      "100%|██████████| 64/64 [00:00<00:00, 3427.81it/s]\n",
      "100%|██████████| 64/64 [00:00<00:00, 1375.14it/s]\n",
      "100%|██████████| 64/64 [00:00<00:00, 1269.98it/s]\n",
      "100%|██████████| 64/64 [00:00<00:00, 7298.01it/s]\n"
     ]
    },
    {
     "name": "stdout",
     "output_type": "stream",
     "text": [
      "(1, 3329)\n",
      "(223, 3330)\n"
     ]
    },
    {
     "name": "stderr",
     "output_type": "stream",
     "text": [
      "100%|██████████| 64/64 [00:00<00:00, 159593.02it/s]\n",
      "100%|██████████| 64/64 [00:00<00:00, 87.30it/s]\n",
      "100%|██████████| 64/64 [00:00<00:00, 94.62it/s]\n",
      "100%|██████████| 64/64 [00:00<00:00, 93.81it/s]\n",
      "100%|██████████| 64/64 [00:00<00:00, 2244.16it/s]\n",
      "100%|██████████| 64/64 [00:00<00:00, 180.96it/s]\n",
      "100%|██████████| 64/64 [00:00<00:00, 144.67it/s]\n",
      "100%|██████████| 64/64 [00:08<00:00,  7.70it/s]\n",
      "100%|██████████| 64/64 [00:00<00:00, 2917.08it/s]\n",
      "100%|██████████| 64/64 [00:00<00:00, 1345.63it/s]\n",
      "100%|██████████| 64/64 [00:00<00:00, 1226.18it/s]\n",
      "100%|██████████| 64/64 [00:00<00:00, 7518.15it/s]\n"
     ]
    },
    {
     "name": "stdout",
     "output_type": "stream",
     "text": [
      "(1, 3329)\n",
      "(224, 3330)\n"
     ]
    },
    {
     "name": "stderr",
     "output_type": "stream",
     "text": [
      "100%|██████████| 64/64 [00:00<00:00, 18675.07it/s]\n",
      "100%|██████████| 64/64 [00:00<00:00, 89.33it/s]\n",
      "100%|██████████| 64/64 [00:00<00:00, 91.56it/s]\n",
      "100%|██████████| 64/64 [00:00<00:00, 96.70it/s]\n",
      "100%|██████████| 64/64 [00:00<00:00, 2330.63it/s]\n",
      "100%|██████████| 64/64 [00:00<00:00, 178.30it/s]\n",
      "100%|██████████| 64/64 [00:00<00:00, 149.38it/s]\n",
      "100%|██████████| 64/64 [00:08<00:00,  7.67it/s]\n",
      "100%|██████████| 64/64 [00:00<00:00, 3251.67it/s]\n",
      "100%|██████████| 64/64 [00:00<00:00, 1363.54it/s]\n",
      "100%|██████████| 64/64 [00:00<00:00, 1080.38it/s]\n",
      "100%|██████████| 64/64 [00:00<00:00, 7263.06it/s]\n"
     ]
    },
    {
     "name": "stdout",
     "output_type": "stream",
     "text": [
      "(1, 3329)\n",
      "(225, 3330)\n"
     ]
    },
    {
     "name": "stderr",
     "output_type": "stream",
     "text": [
      "100%|██████████| 64/64 [00:00<00:00, 74586.12it/s]\n",
      "100%|██████████| 64/64 [00:00<00:00, 86.92it/s]\n",
      "100%|██████████| 64/64 [00:00<00:00, 94.16it/s]\n",
      "100%|██████████| 64/64 [00:00<00:00, 97.87it/s]\n",
      "100%|██████████| 64/64 [00:00<00:00, 2078.49it/s]\n",
      "100%|██████████| 64/64 [00:00<00:00, 176.29it/s]\n",
      "100%|██████████| 64/64 [00:00<00:00, 145.94it/s]\n",
      "100%|██████████| 64/64 [00:08<00:00,  7.70it/s]\n",
      "100%|██████████| 64/64 [00:00<00:00, 3508.32it/s]\n",
      "100%|██████████| 64/64 [00:00<00:00, 1363.72it/s]\n",
      "100%|██████████| 64/64 [00:00<00:00, 1303.15it/s]\n",
      "100%|██████████| 64/64 [00:00<00:00, 6161.58it/s]\n"
     ]
    },
    {
     "name": "stdout",
     "output_type": "stream",
     "text": [
      "(1, 3329)\n",
      "(226, 3330)\n"
     ]
    },
    {
     "name": "stderr",
     "output_type": "stream",
     "text": [
      "100%|██████████| 64/64 [00:00<00:00, 82040.18it/s]\n",
      "100%|██████████| 64/64 [00:00<00:00, 89.36it/s]\n",
      "100%|██████████| 64/64 [00:00<00:00, 90.69it/s]\n",
      "100%|██████████| 64/64 [00:00<00:00, 92.45it/s]\n",
      "100%|██████████| 64/64 [00:00<00:00, 2098.91it/s]\n",
      "100%|██████████| 64/64 [00:00<00:00, 182.61it/s]\n",
      "100%|██████████| 64/64 [00:00<00:00, 144.59it/s]\n",
      "100%|██████████| 64/64 [00:08<00:00,  7.72it/s]\n",
      "100%|██████████| 64/64 [00:00<00:00, 3479.76it/s]\n",
      "100%|██████████| 64/64 [00:00<00:00, 1300.94it/s]\n",
      "100%|██████████| 64/64 [00:00<00:00, 1293.43it/s]\n",
      "100%|██████████| 64/64 [00:00<00:00, 6998.16it/s]\n"
     ]
    },
    {
     "name": "stdout",
     "output_type": "stream",
     "text": [
      "(1, 3329)\n",
      "(227, 3330)\n"
     ]
    },
    {
     "name": "stderr",
     "output_type": "stream",
     "text": [
      "100%|██████████| 64/64 [00:00<00:00, 156979.80it/s]\n",
      "100%|██████████| 64/64 [00:00<00:00, 89.59it/s]\n",
      "100%|██████████| 64/64 [00:00<00:00, 94.76it/s]\n",
      "100%|██████████| 64/64 [00:00<00:00, 97.04it/s]\n",
      "100%|██████████| 64/64 [00:00<00:00, 2230.64it/s]\n",
      "100%|██████████| 64/64 [00:00<00:00, 181.73it/s]\n",
      "100%|██████████| 64/64 [00:00<00:00, 144.92it/s]\n",
      "100%|██████████| 64/64 [00:08<00:00,  7.62it/s]\n",
      "100%|██████████| 64/64 [00:00<00:00, 2825.61it/s]\n",
      "100%|██████████| 64/64 [00:00<00:00, 1254.88it/s]\n",
      "100%|██████████| 64/64 [00:00<00:00, 1327.08it/s]\n",
      "100%|██████████| 64/64 [00:00<00:00, 6744.61it/s]\n"
     ]
    },
    {
     "name": "stdout",
     "output_type": "stream",
     "text": [
      "(1, 3329)\n",
      "(228, 3330)\n"
     ]
    },
    {
     "name": "stderr",
     "output_type": "stream",
     "text": [
      "100%|██████████| 64/64 [00:00<00:00, 205697.67it/s]\n",
      "100%|██████████| 64/64 [00:00<00:00, 91.86it/s]\n",
      "100%|██████████| 64/64 [00:00<00:00, 91.36it/s]\n",
      "100%|██████████| 64/64 [00:00<00:00, 95.00it/s]\n",
      "100%|██████████| 64/64 [00:00<00:00, 2027.20it/s]\n",
      "100%|██████████| 64/64 [00:00<00:00, 173.41it/s]\n",
      "100%|██████████| 64/64 [00:00<00:00, 147.69it/s]\n",
      "100%|██████████| 64/64 [00:08<00:00,  7.75it/s]\n",
      "100%|██████████| 64/64 [00:00<00:00, 3395.94it/s]\n",
      "100%|██████████| 64/64 [00:00<00:00, 1357.16it/s]\n",
      "100%|██████████| 64/64 [00:00<00:00, 1306.95it/s]\n",
      "100%|██████████| 64/64 [00:00<00:00, 7714.77it/s]\n"
     ]
    },
    {
     "name": "stdout",
     "output_type": "stream",
     "text": [
      "(1, 3329)\n",
      "(229, 3330)\n"
     ]
    },
    {
     "name": "stderr",
     "output_type": "stream",
     "text": [
      "100%|██████████| 64/64 [00:00<00:00, 148882.67it/s]\n",
      "100%|██████████| 64/64 [00:00<00:00, 89.42it/s]\n",
      "100%|██████████| 64/64 [00:00<00:00, 92.90it/s]\n",
      "100%|██████████| 64/64 [00:00<00:00, 97.07it/s]\n",
      "100%|██████████| 64/64 [00:00<00:00, 2322.61it/s]\n",
      "100%|██████████| 64/64 [00:00<00:00, 175.89it/s]\n",
      "100%|██████████| 64/64 [00:00<00:00, 148.52it/s]\n",
      "100%|██████████| 64/64 [00:08<00:00,  7.72it/s]\n",
      "100%|██████████| 64/64 [00:00<00:00, 3483.14it/s]\n",
      "100%|██████████| 64/64 [00:00<00:00, 1326.37it/s]\n",
      "100%|██████████| 64/64 [00:00<00:00, 1287.54it/s]\n",
      "100%|██████████| 64/64 [00:00<00:00, 7645.12it/s]\n"
     ]
    },
    {
     "name": "stdout",
     "output_type": "stream",
     "text": [
      "(1, 3329)\n",
      "(230, 3330)\n"
     ]
    },
    {
     "name": "stderr",
     "output_type": "stream",
     "text": [
      "100%|██████████| 64/64 [00:00<00:00, 179916.53it/s]\n",
      "100%|██████████| 64/64 [00:00<00:00, 93.67it/s]\n",
      "100%|██████████| 64/64 [00:00<00:00, 90.42it/s]\n",
      "100%|██████████| 64/64 [00:00<00:00, 98.39it/s]\n",
      "100%|██████████| 64/64 [00:00<00:00, 2101.86it/s]\n",
      "100%|██████████| 64/64 [00:00<00:00, 183.32it/s]\n",
      "100%|██████████| 64/64 [00:00<00:00, 148.82it/s]\n",
      "100%|██████████| 64/64 [00:08<00:00,  7.73it/s]\n",
      "100%|██████████| 64/64 [00:00<00:00, 2605.61it/s]\n",
      "100%|██████████| 64/64 [00:00<00:00, 1133.44it/s]\n",
      "100%|██████████| 64/64 [00:00<00:00, 1299.65it/s]\n",
      "100%|██████████| 64/64 [00:00<00:00, 7578.43it/s]\n"
     ]
    },
    {
     "name": "stdout",
     "output_type": "stream",
     "text": [
      "(1, 3329)\n",
      "(231, 3330)\n"
     ]
    },
    {
     "name": "stderr",
     "output_type": "stream",
     "text": [
      "100%|██████████| 64/64 [00:00<00:00, 34428.04it/s]\n",
      "100%|██████████| 64/64 [00:00<00:00, 87.09it/s]\n",
      "100%|██████████| 64/64 [00:00<00:00, 94.22it/s]\n",
      "100%|██████████| 64/64 [00:00<00:00, 95.64it/s]\n",
      "100%|██████████| 64/64 [00:00<00:00, 2293.91it/s]\n",
      "100%|██████████| 64/64 [00:00<00:00, 180.76it/s]\n",
      "100%|██████████| 64/64 [00:00<00:00, 137.11it/s]\n",
      "100%|██████████| 64/64 [00:08<00:00,  7.74it/s]\n",
      "100%|██████████| 64/64 [00:00<00:00, 3468.88it/s]\n",
      "100%|██████████| 64/64 [00:00<00:00, 1336.06it/s]\n",
      "100%|██████████| 64/64 [00:00<00:00, 1292.18it/s]\n",
      "100%|██████████| 64/64 [00:00<00:00, 7187.22it/s]\n"
     ]
    },
    {
     "name": "stdout",
     "output_type": "stream",
     "text": [
      "(1, 3329)\n",
      "(232, 3330)\n"
     ]
    },
    {
     "name": "stderr",
     "output_type": "stream",
     "text": [
      "100%|██████████| 64/64 [00:00<00:00, 23856.69it/s]\n",
      "100%|██████████| 64/64 [00:00<00:00, 92.53it/s]\n",
      "100%|██████████| 64/64 [00:00<00:00, 91.38it/s]\n",
      "100%|██████████| 64/64 [00:00<00:00, 99.32it/s]\n",
      "100%|██████████| 64/64 [00:00<00:00, 1793.74it/s]\n",
      "100%|██████████| 64/64 [00:00<00:00, 177.46it/s]\n",
      "100%|██████████| 64/64 [00:00<00:00, 148.52it/s]\n",
      "100%|██████████| 64/64 [00:08<00:00,  7.74it/s]\n",
      "100%|██████████| 64/64 [00:00<00:00, 3309.65it/s]\n",
      "100%|██████████| 64/64 [00:00<00:00, 1337.53it/s]\n",
      "100%|██████████| 64/64 [00:00<00:00, 1154.04it/s]\n",
      "100%|██████████| 64/64 [00:00<00:00, 7192.03it/s]\n"
     ]
    },
    {
     "name": "stdout",
     "output_type": "stream",
     "text": [
      "(1, 3329)\n",
      "(233, 3330)\n"
     ]
    },
    {
     "name": "stderr",
     "output_type": "stream",
     "text": [
      "100%|██████████| 64/64 [00:00<00:00, 79796.51it/s]\n",
      "100%|██████████| 64/64 [00:00<00:00, 87.91it/s]\n",
      "100%|██████████| 64/64 [00:00<00:00, 93.46it/s]\n",
      "100%|██████████| 64/64 [00:00<00:00, 96.75it/s]\n",
      "100%|██████████| 64/64 [00:00<00:00, 2358.03it/s]\n",
      "100%|██████████| 64/64 [00:00<00:00, 185.46it/s]\n",
      "100%|██████████| 64/64 [00:00<00:00, 137.60it/s]\n",
      "100%|██████████| 64/64 [00:08<00:00,  7.78it/s]\n",
      "100%|██████████| 64/64 [00:00<00:00, 2931.03it/s]\n",
      "100%|██████████| 64/64 [00:00<00:00, 1284.28it/s]\n",
      "100%|██████████| 64/64 [00:00<00:00, 1319.62it/s]\n",
      "100%|██████████| 64/64 [00:00<00:00, 5690.81it/s]\n"
     ]
    },
    {
     "name": "stdout",
     "output_type": "stream",
     "text": [
      "(1, 3329)\n",
      "(234, 3330)\n"
     ]
    },
    {
     "name": "stderr",
     "output_type": "stream",
     "text": [
      "100%|██████████| 64/64 [00:00<00:00, 79725.41it/s]\n",
      "100%|██████████| 64/64 [00:00<00:00, 92.24it/s]\n",
      "100%|██████████| 64/64 [00:00<00:00, 94.75it/s]\n",
      "100%|██████████| 64/64 [00:00<00:00, 99.58it/s]\n",
      "100%|██████████| 64/64 [00:00<00:00, 2330.90it/s]\n",
      "100%|██████████| 64/64 [00:00<00:00, 167.93it/s]\n",
      "100%|██████████| 64/64 [00:00<00:00, 145.61it/s]\n",
      "100%|██████████| 64/64 [00:08<00:00,  7.74it/s]\n",
      "100%|██████████| 64/64 [00:00<00:00, 3375.57it/s]\n",
      "100%|██████████| 64/64 [00:00<00:00, 1344.62it/s]\n",
      "100%|██████████| 64/64 [00:00<00:00, 1217.58it/s]\n",
      "100%|██████████| 64/64 [00:00<00:00, 7391.45it/s]\n"
     ]
    },
    {
     "name": "stdout",
     "output_type": "stream",
     "text": [
      "(1, 3329)\n",
      "(235, 3330)\n"
     ]
    },
    {
     "name": "stderr",
     "output_type": "stream",
     "text": [
      "100%|██████████| 64/64 [00:00<00:00, 164987.99it/s]\n",
      "100%|██████████| 64/64 [00:00<00:00, 89.00it/s]\n",
      "100%|██████████| 64/64 [00:00<00:00, 89.68it/s]\n",
      "100%|██████████| 64/64 [00:00<00:00, 97.41it/s]\n",
      "100%|██████████| 64/64 [00:00<00:00, 1886.34it/s]\n",
      "100%|██████████| 64/64 [00:00<00:00, 183.46it/s]\n",
      "100%|██████████| 64/64 [00:00<00:00, 142.44it/s]\n",
      "100%|██████████| 64/64 [00:08<00:00,  7.75it/s]\n",
      "100%|██████████| 64/64 [00:00<00:00, 3523.14it/s]\n",
      "100%|██████████| 64/64 [00:00<00:00, 1434.74it/s]\n",
      "100%|██████████| 64/64 [00:00<00:00, 1323.97it/s]\n",
      "100%|██████████| 64/64 [00:00<00:00, 6321.48it/s]\n"
     ]
    },
    {
     "name": "stdout",
     "output_type": "stream",
     "text": [
      "(1, 3329)\n",
      "(236, 3330)\n"
     ]
    },
    {
     "name": "stderr",
     "output_type": "stream",
     "text": [
      "100%|██████████| 64/64 [00:00<00:00, 82291.68it/s]\n",
      "100%|██████████| 64/64 [00:00<00:00, 88.56it/s]\n",
      "100%|██████████| 64/64 [00:00<00:00, 94.11it/s]\n",
      "100%|██████████| 64/64 [00:00<00:00, 100.15it/s]\n",
      "100%|██████████| 64/64 [00:00<00:00, 1997.96it/s]\n",
      "100%|██████████| 64/64 [00:00<00:00, 170.61it/s]\n",
      "100%|██████████| 64/64 [00:00<00:00, 144.88it/s]\n",
      "100%|██████████| 64/64 [00:08<00:00,  7.71it/s]\n",
      "100%|██████████| 64/64 [00:00<00:00, 2954.58it/s]\n",
      "100%|██████████| 64/64 [00:00<00:00, 1261.30it/s]\n",
      "100%|██████████| 64/64 [00:00<00:00, 1255.19it/s]\n",
      "100%|██████████| 64/64 [00:00<00:00, 6235.14it/s]\n"
     ]
    },
    {
     "name": "stdout",
     "output_type": "stream",
     "text": [
      "(1, 3329)\n",
      "(237, 3330)\n"
     ]
    },
    {
     "name": "stderr",
     "output_type": "stream",
     "text": [
      "100%|██████████| 64/64 [00:00<00:00, 84334.10it/s]\n",
      "100%|██████████| 64/64 [00:00<00:00, 88.21it/s]\n",
      "100%|██████████| 64/64 [00:00<00:00, 89.67it/s]\n",
      "100%|██████████| 64/64 [00:00<00:00, 94.51it/s]\n",
      "100%|██████████| 64/64 [00:00<00:00, 2167.06it/s]\n",
      "100%|██████████| 64/64 [00:00<00:00, 176.97it/s]\n",
      "100%|██████████| 64/64 [00:00<00:00, 138.50it/s]\n",
      "100%|██████████| 64/64 [00:08<00:00,  7.63it/s]\n",
      "100%|██████████| 64/64 [00:00<00:00, 3335.39it/s]\n",
      "100%|██████████| 64/64 [00:00<00:00, 1176.58it/s]\n",
      "100%|██████████| 64/64 [00:00<00:00, 1272.30it/s]\n",
      "100%|██████████| 64/64 [00:00<00:00, 7246.59it/s]\n"
     ]
    },
    {
     "name": "stdout",
     "output_type": "stream",
     "text": [
      "(1, 3329)\n",
      "(238, 3330)\n"
     ]
    },
    {
     "name": "stderr",
     "output_type": "stream",
     "text": [
      "100%|██████████| 64/64 [00:00<00:00, 81865.04it/s]\n",
      "100%|██████████| 64/64 [00:00<00:00, 92.84it/s]\n",
      "100%|██████████| 64/64 [00:00<00:00, 96.64it/s]\n",
      "100%|██████████| 64/64 [00:00<00:00, 99.67it/s]\n",
      "100%|██████████| 64/64 [00:00<00:00, 2092.00it/s]\n",
      "100%|██████████| 64/64 [00:00<00:00, 183.45it/s]\n",
      "100%|██████████| 64/64 [00:00<00:00, 150.35it/s]\n",
      "100%|██████████| 64/64 [00:08<00:00,  7.73it/s]\n",
      "100%|██████████| 64/64 [00:00<00:00, 3187.35it/s]\n",
      "100%|██████████| 64/64 [00:00<00:00, 1360.42it/s]\n",
      "100%|██████████| 64/64 [00:00<00:00, 1235.02it/s]\n",
      "100%|██████████| 64/64 [00:00<00:00, 7923.83it/s]\n"
     ]
    },
    {
     "name": "stdout",
     "output_type": "stream",
     "text": [
      "(1, 3329)\n",
      "(239, 3330)\n"
     ]
    },
    {
     "name": "stderr",
     "output_type": "stream",
     "text": [
      "100%|██████████| 64/64 [00:00<00:00, 27773.97it/s]\n",
      "100%|██████████| 64/64 [00:00<00:00, 92.14it/s]\n",
      "100%|██████████| 64/64 [00:00<00:00, 92.83it/s]\n",
      "100%|██████████| 64/64 [00:00<00:00, 95.45it/s]\n",
      "100%|██████████| 64/64 [00:00<00:00, 2316.22it/s]\n",
      "100%|██████████| 64/64 [00:00<00:00, 176.83it/s]\n",
      "100%|██████████| 64/64 [00:00<00:00, 147.14it/s]\n",
      "100%|██████████| 64/64 [00:08<00:00,  7.71it/s]\n",
      "100%|██████████| 64/64 [00:00<00:00, 3486.45it/s]\n",
      "100%|██████████| 64/64 [00:00<00:00, 1422.76it/s]\n",
      "100%|██████████| 64/64 [00:00<00:00, 1333.20it/s]\n",
      "100%|██████████| 64/64 [00:00<00:00, 7680.56it/s]\n"
     ]
    },
    {
     "name": "stdout",
     "output_type": "stream",
     "text": [
      "(1, 3329)\n",
      "(240, 3330)\n"
     ]
    },
    {
     "name": "stderr",
     "output_type": "stream",
     "text": [
      "100%|██████████| 64/64 [00:00<00:00, 140102.01it/s]\n",
      "100%|██████████| 64/64 [00:00<00:00, 89.17it/s]\n",
      "100%|██████████| 64/64 [00:00<00:00, 91.34it/s]\n",
      "100%|██████████| 64/64 [00:00<00:00, 95.08it/s]\n",
      "100%|██████████| 64/64 [00:00<00:00, 2256.33it/s]\n",
      "100%|██████████| 64/64 [00:00<00:00, 170.17it/s]\n",
      "100%|██████████| 64/64 [00:00<00:00, 144.76it/s]\n",
      "100%|██████████| 64/64 [00:08<00:00,  7.71it/s]\n",
      "100%|██████████| 64/64 [00:00<00:00, 3258.46it/s]\n",
      "100%|██████████| 64/64 [00:00<00:00, 1317.51it/s]\n",
      "100%|██████████| 64/64 [00:00<00:00, 1153.88it/s]\n",
      "100%|██████████| 64/64 [00:00<00:00, 6862.72it/s]\n"
     ]
    },
    {
     "name": "stdout",
     "output_type": "stream",
     "text": [
      "(1, 3329)\n",
      "(241, 3330)\n"
     ]
    },
    {
     "name": "stderr",
     "output_type": "stream",
     "text": [
      "100%|██████████| 64/64 [00:00<00:00, 120645.15it/s]\n",
      "100%|██████████| 64/64 [00:00<00:00, 89.86it/s]\n",
      "100%|██████████| 64/64 [00:00<00:00, 89.60it/s]\n",
      "100%|██████████| 64/64 [00:00<00:00, 98.42it/s]\n",
      "100%|██████████| 64/64 [00:00<00:00, 2098.28it/s]\n",
      "100%|██████████| 64/64 [00:00<00:00, 173.62it/s]\n",
      "100%|██████████| 64/64 [00:00<00:00, 143.94it/s]\n",
      "100%|██████████| 64/64 [00:08<00:00,  7.80it/s]\n",
      "100%|██████████| 64/64 [00:00<00:00, 3323.25it/s]\n",
      "100%|██████████| 64/64 [00:00<00:00, 1350.07it/s]\n",
      "100%|██████████| 64/64 [00:00<00:00, 1321.72it/s]\n",
      "100%|██████████| 64/64 [00:00<00:00, 6989.96it/s]\n"
     ]
    },
    {
     "name": "stdout",
     "output_type": "stream",
     "text": [
      "(1, 3329)\n",
      "(242, 3330)\n"
     ]
    },
    {
     "name": "stderr",
     "output_type": "stream",
     "text": [
      "100%|██████████| 64/64 [00:00<00:00, 20349.89it/s]\n",
      "100%|██████████| 64/64 [00:00<00:00, 89.25it/s]\n",
      "100%|██████████| 64/64 [00:00<00:00, 91.74it/s]\n",
      "100%|██████████| 64/64 [00:00<00:00, 93.72it/s]\n",
      "100%|██████████| 64/64 [00:00<00:00, 2148.77it/s]\n",
      "100%|██████████| 64/64 [00:00<00:00, 173.28it/s]\n",
      "100%|██████████| 64/64 [00:00<00:00, 141.20it/s]\n",
      "100%|██████████| 64/64 [00:08<00:00,  7.79it/s]\n",
      "100%|██████████| 64/64 [00:00<00:00, 3529.07it/s]\n",
      "100%|██████████| 64/64 [00:00<00:00, 1399.19it/s]\n",
      "100%|██████████| 64/64 [00:00<00:00, 1225.58it/s]\n",
      "100%|██████████| 64/64 [00:00<00:00, 8103.71it/s]\n"
     ]
    },
    {
     "name": "stdout",
     "output_type": "stream",
     "text": [
      "(1, 3329)\n",
      "(243, 3330)\n"
     ]
    },
    {
     "name": "stderr",
     "output_type": "stream",
     "text": [
      "100%|██████████| 64/64 [00:00<00:00, 88475.76it/s]\n",
      "100%|██████████| 64/64 [00:00<00:00, 94.25it/s]\n",
      "100%|██████████| 64/64 [00:00<00:00, 96.48it/s]\n",
      "100%|██████████| 64/64 [00:00<00:00, 100.03it/s]\n",
      "100%|██████████| 64/64 [00:00<00:00, 2256.50it/s]\n",
      "100%|██████████| 64/64 [00:00<00:00, 184.60it/s]\n",
      "100%|██████████| 64/64 [00:00<00:00, 148.99it/s]\n",
      "100%|██████████| 64/64 [00:08<00:00,  7.73it/s]\n",
      "100%|██████████| 64/64 [00:00<00:00, 3551.81it/s]\n",
      "100%|██████████| 64/64 [00:00<00:00, 1376.89it/s]\n",
      "100%|██████████| 64/64 [00:00<00:00, 1243.43it/s]\n",
      "100%|██████████| 64/64 [00:00<00:00, 7586.14it/s]\n"
     ]
    },
    {
     "name": "stdout",
     "output_type": "stream",
     "text": [
      "(1, 3329)\n",
      "(244, 3330)\n"
     ]
    },
    {
     "name": "stderr",
     "output_type": "stream",
     "text": [
      "100%|██████████| 64/64 [00:00<00:00, 69506.85it/s]\n",
      "100%|██████████| 64/64 [00:00<00:00, 91.19it/s]\n",
      "100%|██████████| 64/64 [00:00<00:00, 92.94it/s]\n",
      "100%|██████████| 64/64 [00:00<00:00, 97.78it/s]\n",
      "100%|██████████| 64/64 [00:00<00:00, 2325.38it/s]\n",
      "100%|██████████| 64/64 [00:00<00:00, 177.76it/s]\n",
      "100%|██████████| 64/64 [00:00<00:00, 145.45it/s]\n",
      "100%|██████████| 64/64 [00:08<00:00,  7.67it/s]\n",
      "100%|██████████| 64/64 [00:00<00:00, 3509.28it/s]\n",
      "100%|██████████| 64/64 [00:00<00:00, 1339.48it/s]\n",
      "100%|██████████| 64/64 [00:00<00:00, 1346.96it/s]\n",
      "100%|██████████| 64/64 [00:00<00:00, 6023.46it/s]\n"
     ]
    },
    {
     "name": "stdout",
     "output_type": "stream",
     "text": [
      "(1, 3329)\n",
      "(245, 3330)\n"
     ]
    },
    {
     "name": "stderr",
     "output_type": "stream",
     "text": [
      "100%|██████████| 64/64 [00:00<00:00, 50221.79it/s]\n",
      "100%|██████████| 64/64 [00:00<00:00, 91.03it/s]\n",
      "100%|██████████| 64/64 [00:00<00:00, 92.83it/s]\n",
      "100%|██████████| 64/64 [00:00<00:00, 94.91it/s]\n",
      "100%|██████████| 64/64 [00:00<00:00, 1927.14it/s]\n",
      "100%|██████████| 64/64 [00:00<00:00, 171.75it/s]\n",
      "100%|██████████| 64/64 [00:00<00:00, 146.72it/s]\n",
      "100%|██████████| 64/64 [00:08<00:00,  7.62it/s]\n",
      "100%|██████████| 64/64 [00:00<00:00, 3272.49it/s]\n",
      "100%|██████████| 64/64 [00:00<00:00, 1340.47it/s]\n",
      "100%|██████████| 64/64 [00:00<00:00, 1161.88it/s]\n",
      "100%|██████████| 64/64 [00:00<00:00, 6725.35it/s]\n"
     ]
    },
    {
     "name": "stdout",
     "output_type": "stream",
     "text": [
      "(1, 3329)\n",
      "(246, 3330)\n"
     ]
    },
    {
     "name": "stderr",
     "output_type": "stream",
     "text": [
      "100%|██████████| 64/64 [00:00<00:00, 65138.43it/s]\n",
      "100%|██████████| 64/64 [00:00<00:00, 95.00it/s]\n",
      "100%|██████████| 64/64 [00:00<00:00, 90.74it/s]\n",
      "100%|██████████| 64/64 [00:00<00:00, 94.48it/s]\n",
      "100%|██████████| 64/64 [00:00<00:00, 2095.01it/s]\n",
      "100%|██████████| 64/64 [00:00<00:00, 174.57it/s]\n",
      "100%|██████████| 64/64 [00:00<00:00, 145.55it/s]\n",
      "100%|██████████| 64/64 [00:08<00:00,  7.75it/s]\n",
      "100%|██████████| 64/64 [00:00<00:00, 3437.12it/s]\n",
      "100%|██████████| 64/64 [00:00<00:00, 1374.78it/s]\n",
      "100%|██████████| 64/64 [00:00<00:00, 1282.51it/s]\n",
      "100%|██████████| 64/64 [00:00<00:00, 6718.44it/s]\n"
     ]
    },
    {
     "name": "stdout",
     "output_type": "stream",
     "text": [
      "(1, 3329)\n",
      "(247, 3330)\n"
     ]
    },
    {
     "name": "stderr",
     "output_type": "stream",
     "text": [
      "100%|██████████| 64/64 [00:00<00:00, 64730.04it/s]\n",
      "100%|██████████| 64/64 [00:00<00:00, 90.48it/s]\n",
      "100%|██████████| 64/64 [00:00<00:00, 92.55it/s]\n",
      "100%|██████████| 64/64 [00:00<00:00, 97.11it/s]\n",
      "100%|██████████| 64/64 [00:00<00:00, 1909.80it/s]\n",
      "100%|██████████| 64/64 [00:00<00:00, 180.73it/s]\n",
      "100%|██████████| 64/64 [00:00<00:00, 147.75it/s]\n",
      "100%|██████████| 64/64 [00:08<00:00,  7.71it/s]\n",
      "100%|██████████| 64/64 [00:00<00:00, 3083.27it/s]\n",
      "100%|██████████| 64/64 [00:00<00:00, 1369.45it/s]\n",
      "100%|██████████| 64/64 [00:00<00:00, 1292.12it/s]\n",
      "100%|██████████| 64/64 [00:00<00:00, 7091.90it/s]\n"
     ]
    },
    {
     "name": "stdout",
     "output_type": "stream",
     "text": [
      "(1, 3329)\n",
      "(248, 3330)\n"
     ]
    },
    {
     "name": "stderr",
     "output_type": "stream",
     "text": [
      "100%|██████████| 64/64 [00:00<00:00, 203978.31it/s]\n",
      "100%|██████████| 64/64 [00:00<00:00, 92.35it/s]\n",
      "100%|██████████| 64/64 [00:00<00:00, 92.39it/s]\n",
      "100%|██████████| 64/64 [00:00<00:00, 95.16it/s]\n",
      "100%|██████████| 64/64 [00:00<00:00, 2207.02it/s]\n",
      "100%|██████████| 64/64 [00:00<00:00, 176.41it/s]\n",
      "100%|██████████| 64/64 [00:00<00:00, 137.29it/s]\n",
      "100%|██████████| 64/64 [00:08<00:00,  7.71it/s]\n",
      "100%|██████████| 64/64 [00:00<00:00, 3507.86it/s]\n",
      "100%|██████████| 64/64 [00:00<00:00, 1187.31it/s]\n",
      "100%|██████████| 64/64 [00:00<00:00, 1183.85it/s]\n",
      "100%|██████████| 64/64 [00:00<00:00, 7730.77it/s]\n"
     ]
    },
    {
     "name": "stdout",
     "output_type": "stream",
     "text": [
      "(1, 3329)\n",
      "(249, 3330)\n"
     ]
    },
    {
     "name": "stderr",
     "output_type": "stream",
     "text": [
      "100%|██████████| 64/64 [00:00<00:00, 86816.12it/s]\n",
      "100%|██████████| 64/64 [00:00<00:00, 92.45it/s]\n",
      "100%|██████████| 64/64 [00:00<00:00, 91.17it/s]\n",
      "100%|██████████| 64/64 [00:00<00:00, 96.34it/s]\n",
      "100%|██████████| 64/64 [00:00<00:00, 2299.78it/s]\n",
      "100%|██████████| 64/64 [00:00<00:00, 171.88it/s]\n",
      "100%|██████████| 64/64 [00:00<00:00, 144.66it/s]\n",
      "100%|██████████| 64/64 [00:08<00:00,  7.73it/s]\n",
      "100%|██████████| 64/64 [00:00<00:00, 3482.47it/s]\n",
      "100%|██████████| 64/64 [00:00<00:00, 998.48it/s]\n",
      "100%|██████████| 64/64 [00:00<00:00, 1198.38it/s]\n",
      "100%|██████████| 64/64 [00:00<00:00, 6572.05it/s]\n"
     ]
    },
    {
     "name": "stdout",
     "output_type": "stream",
     "text": [
      "(1, 3329)\n",
      "(250, 3330)\n"
     ]
    },
    {
     "name": "stderr",
     "output_type": "stream",
     "text": [
      "100%|██████████| 64/64 [00:00<00:00, 55290.52it/s]\n",
      "100%|██████████| 64/64 [00:00<00:00, 90.13it/s]\n",
      "100%|██████████| 64/64 [00:00<00:00, 95.26it/s]\n",
      "100%|██████████| 64/64 [00:00<00:00, 97.44it/s]\n",
      "100%|██████████| 64/64 [00:00<00:00, 2227.92it/s]\n",
      "100%|██████████| 64/64 [00:00<00:00, 184.31it/s]\n",
      "100%|██████████| 64/64 [00:00<00:00, 140.36it/s]\n",
      "100%|██████████| 64/64 [00:08<00:00,  7.66it/s]\n",
      "100%|██████████| 64/64 [00:00<00:00, 3275.84it/s]\n",
      "100%|██████████| 64/64 [00:00<00:00, 1297.56it/s]\n",
      "100%|██████████| 64/64 [00:00<00:00, 1124.91it/s]\n",
      "100%|██████████| 64/64 [00:00<00:00, 7235.46it/s]\n"
     ]
    },
    {
     "name": "stdout",
     "output_type": "stream",
     "text": [
      "(1, 3329)\n",
      "(251, 3330)\n"
     ]
    },
    {
     "name": "stderr",
     "output_type": "stream",
     "text": [
      "100%|██████████| 64/64 [00:00<00:00, 84626.56it/s]\n",
      "100%|██████████| 64/64 [00:00<00:00, 88.17it/s]\n",
      "100%|██████████| 64/64 [00:00<00:00, 92.38it/s]\n",
      "100%|██████████| 64/64 [00:00<00:00, 97.14it/s]\n",
      "100%|██████████| 64/64 [00:00<00:00, 1862.20it/s]\n",
      "100%|██████████| 64/64 [00:00<00:00, 180.69it/s]\n",
      "100%|██████████| 64/64 [00:00<00:00, 146.04it/s]\n",
      "100%|██████████| 64/64 [00:08<00:00,  7.73it/s]\n",
      "100%|██████████| 64/64 [00:00<00:00, 3487.99it/s]\n",
      "100%|██████████| 64/64 [00:00<00:00, 1403.23it/s]\n",
      "100%|██████████| 64/64 [00:00<00:00, 1369.29it/s]\n",
      "100%|██████████| 64/64 [00:00<00:00, 4875.33it/s]\n"
     ]
    },
    {
     "name": "stdout",
     "output_type": "stream",
     "text": [
      "(1, 3329)\n",
      "(252, 3330)\n"
     ]
    },
    {
     "name": "stderr",
     "output_type": "stream",
     "text": [
      "100%|██████████| 64/64 [00:00<00:00, 182733.46it/s]\n",
      "100%|██████████| 64/64 [00:00<00:00, 93.77it/s]\n",
      "100%|██████████| 64/64 [00:00<00:00, 98.50it/s]\n",
      "100%|██████████| 64/64 [00:00<00:00, 99.54it/s] \n",
      "100%|██████████| 64/64 [00:00<00:00, 2222.94it/s]\n",
      "100%|██████████| 64/64 [00:00<00:00, 185.15it/s]\n",
      "100%|██████████| 64/64 [00:00<00:00, 142.12it/s]\n",
      "100%|██████████| 64/64 [00:08<00:00,  7.83it/s]\n",
      "100%|██████████| 64/64 [00:00<00:00, 2969.75it/s]\n",
      "100%|██████████| 64/64 [00:00<00:00, 1370.96it/s]\n",
      "100%|██████████| 64/64 [00:00<00:00, 1316.68it/s]\n",
      "100%|██████████| 64/64 [00:00<00:00, 6918.80it/s]\n"
     ]
    },
    {
     "name": "stdout",
     "output_type": "stream",
     "text": [
      "(1, 3329)\n",
      "(253, 3330)\n"
     ]
    },
    {
     "name": "stderr",
     "output_type": "stream",
     "text": [
      "100%|██████████| 64/64 [00:00<00:00, 202287.46it/s]\n",
      "100%|██████████| 64/64 [00:00<00:00, 90.68it/s]\n",
      "100%|██████████| 64/64 [00:00<00:00, 90.79it/s]\n",
      "100%|██████████| 64/64 [00:00<00:00, 101.56it/s]\n",
      "100%|██████████| 64/64 [00:00<00:00, 2157.65it/s]\n",
      "100%|██████████| 64/64 [00:00<00:00, 178.37it/s]\n",
      "100%|██████████| 64/64 [00:00<00:00, 152.37it/s]\n",
      "100%|██████████| 64/64 [00:08<00:00,  7.77it/s]\n",
      "100%|██████████| 64/64 [00:00<00:00, 3756.92it/s]\n",
      "100%|██████████| 64/64 [00:00<00:00, 1359.54it/s]\n",
      "100%|██████████| 64/64 [00:00<00:00, 1355.13it/s]\n",
      "100%|██████████| 64/64 [00:00<00:00, 6392.69it/s]\n"
     ]
    },
    {
     "name": "stdout",
     "output_type": "stream",
     "text": [
      "(1, 3329)\n",
      "(254, 3330)\n"
     ]
    },
    {
     "name": "stderr",
     "output_type": "stream",
     "text": [
      "100%|██████████| 64/64 [00:00<00:00, 128499.50it/s]\n",
      "100%|██████████| 64/64 [00:00<00:00, 90.09it/s]\n",
      "100%|██████████| 64/64 [00:00<00:00, 91.41it/s]\n",
      "100%|██████████| 64/64 [00:00<00:00, 96.55it/s]\n",
      "100%|██████████| 64/64 [00:00<00:00, 2025.18it/s]\n",
      "100%|██████████| 64/64 [00:00<00:00, 181.08it/s]\n",
      "100%|██████████| 64/64 [00:00<00:00, 147.56it/s]\n",
      "100%|██████████| 64/64 [00:08<00:00,  7.77it/s]\n",
      "100%|██████████| 64/64 [00:00<00:00, 3355.07it/s]\n",
      "100%|██████████| 64/64 [00:00<00:00, 1319.15it/s]\n",
      "100%|██████████| 64/64 [00:00<00:00, 1303.22it/s]\n",
      "100%|██████████| 64/64 [00:00<00:00, 6215.94it/s]\n"
     ]
    },
    {
     "name": "stdout",
     "output_type": "stream",
     "text": [
      "(1, 3329)\n",
      "(255, 3330)\n"
     ]
    },
    {
     "name": "stderr",
     "output_type": "stream",
     "text": [
      "100%|██████████| 64/64 [00:00<00:00, 46603.38it/s]\n",
      "100%|██████████| 64/64 [00:00<00:00, 92.55it/s]\n",
      "100%|██████████| 64/64 [00:00<00:00, 96.93it/s]\n",
      "100%|██████████| 64/64 [00:00<00:00, 100.25it/s]\n",
      "100%|██████████| 64/64 [00:00<00:00, 2137.72it/s]\n",
      "100%|██████████| 64/64 [00:00<00:00, 187.18it/s]\n",
      "100%|██████████| 64/64 [00:00<00:00, 143.47it/s]\n",
      "100%|██████████| 64/64 [00:08<00:00,  7.88it/s]\n",
      "100%|██████████| 64/64 [00:00<00:00, 3408.23it/s]\n",
      "100%|██████████| 64/64 [00:00<00:00, 1309.75it/s]\n",
      "100%|██████████| 64/64 [00:00<00:00, 1323.91it/s]\n",
      "100%|██████████| 64/64 [00:00<00:00, 5635.26it/s]\n"
     ]
    },
    {
     "name": "stdout",
     "output_type": "stream",
     "text": [
      "(1, 3329)\n",
      "(256, 3330)\n"
     ]
    },
    {
     "name": "stderr",
     "output_type": "stream",
     "text": [
      "100%|██████████| 64/64 [00:00<00:00, 84122.68it/s]\n",
      "100%|██████████| 64/64 [00:00<00:00, 92.30it/s]\n",
      "100%|██████████| 64/64 [00:00<00:00, 90.57it/s]\n",
      "100%|██████████| 64/64 [00:00<00:00, 99.05it/s]\n",
      "100%|██████████| 64/64 [00:00<00:00, 2228.70it/s]\n",
      "100%|██████████| 64/64 [00:00<00:00, 175.11it/s]\n",
      "100%|██████████| 64/64 [00:00<00:00, 146.61it/s]\n",
      "100%|██████████| 64/64 [00:07<00:00,  8.10it/s]\n",
      "100%|██████████| 64/64 [00:00<00:00, 3235.25it/s]\n",
      "100%|██████████| 64/64 [00:00<00:00, 1373.11it/s]\n",
      "100%|██████████| 64/64 [00:00<00:00, 1331.91it/s]\n",
      "100%|██████████| 64/64 [00:00<00:00, 7110.12it/s]\n"
     ]
    },
    {
     "name": "stdout",
     "output_type": "stream",
     "text": [
      "(1, 3329)\n",
      "(257, 3330)\n"
     ]
    },
    {
     "name": "stderr",
     "output_type": "stream",
     "text": [
      "100%|██████████| 64/64 [00:00<00:00, 132234.21it/s]\n",
      "100%|██████████| 64/64 [00:00<00:00, 91.11it/s]\n",
      "100%|██████████| 64/64 [00:00<00:00, 98.57it/s]\n",
      "100%|██████████| 64/64 [00:00<00:00, 102.08it/s]\n",
      "100%|██████████| 64/64 [00:00<00:00, 2274.32it/s]\n",
      "100%|██████████| 64/64 [00:00<00:00, 185.70it/s]\n",
      "100%|██████████| 64/64 [00:00<00:00, 149.48it/s]\n",
      "100%|██████████| 64/64 [00:08<00:00,  7.99it/s]\n",
      "100%|██████████| 64/64 [00:00<00:00, 3524.07it/s]\n",
      "100%|██████████| 64/64 [00:00<00:00, 1305.14it/s]\n",
      "100%|██████████| 64/64 [00:00<00:00, 1345.04it/s]\n",
      "100%|██████████| 64/64 [00:00<00:00, 5618.27it/s]\n"
     ]
    },
    {
     "name": "stdout",
     "output_type": "stream",
     "text": [
      "(1, 3329)\n",
      "(258, 3330)\n"
     ]
    },
    {
     "name": "stderr",
     "output_type": "stream",
     "text": [
      "100%|██████████| 64/64 [00:00<00:00, 75615.62it/s]\n",
      "100%|██████████| 64/64 [00:00<00:00, 91.41it/s]\n",
      "100%|██████████| 64/64 [00:00<00:00, 99.06it/s]\n",
      "100%|██████████| 64/64 [00:00<00:00, 100.95it/s]\n",
      "100%|██████████| 64/64 [00:00<00:00, 2304.35it/s]\n",
      "100%|██████████| 64/64 [00:00<00:00, 185.62it/s]\n",
      "100%|██████████| 64/64 [00:00<00:00, 154.06it/s]\n",
      "100%|██████████| 64/64 [00:08<00:00,  7.96it/s]\n",
      "100%|██████████| 64/64 [00:00<00:00, 3408.57it/s]\n",
      "100%|██████████| 64/64 [00:00<00:00, 1259.73it/s]\n",
      "100%|██████████| 64/64 [00:00<00:00, 1307.62it/s]\n",
      "100%|██████████| 64/64 [00:00<00:00, 7017.74it/s]\n"
     ]
    },
    {
     "name": "stdout",
     "output_type": "stream",
     "text": [
      "(1, 3329)\n",
      "(259, 3330)\n"
     ]
    },
    {
     "name": "stderr",
     "output_type": "stream",
     "text": [
      "100%|██████████| 64/64 [00:00<00:00, 135505.03it/s]\n",
      "100%|██████████| 64/64 [00:00<00:00, 96.96it/s]\n",
      "100%|██████████| 64/64 [00:00<00:00, 92.13it/s]\n",
      "100%|██████████| 64/64 [00:00<00:00, 93.11it/s]\n",
      "100%|██████████| 64/64 [00:00<00:00, 2177.78it/s]\n",
      "100%|██████████| 64/64 [00:00<00:00, 184.85it/s]\n",
      "100%|██████████| 64/64 [00:00<00:00, 147.39it/s]\n",
      "100%|██████████| 64/64 [00:07<00:00,  8.15it/s]\n",
      "100%|██████████| 64/64 [00:00<00:00, 3086.64it/s]\n",
      "100%|██████████| 64/64 [00:00<00:00, 1376.35it/s]\n",
      "100%|██████████| 64/64 [00:00<00:00, 1254.77it/s]\n",
      "100%|██████████| 64/64 [00:00<00:00, 8152.94it/s]\n"
     ]
    },
    {
     "name": "stdout",
     "output_type": "stream",
     "text": [
      "(1, 3329)\n",
      "(260, 3330)\n"
     ]
    },
    {
     "name": "stderr",
     "output_type": "stream",
     "text": [
      "100%|██████████| 64/64 [00:00<00:00, 65233.40it/s]\n",
      "100%|██████████| 64/64 [00:00<00:00, 97.27it/s]\n",
      "100%|██████████| 64/64 [00:00<00:00, 98.02it/s]\n",
      "100%|██████████| 64/64 [00:00<00:00, 103.04it/s]\n",
      "100%|██████████| 64/64 [00:00<00:00, 2317.38it/s]\n",
      "100%|██████████| 64/64 [00:00<00:00, 194.89it/s]\n",
      "100%|██████████| 64/64 [00:00<00:00, 158.62it/s]\n",
      "100%|██████████| 64/64 [00:07<00:00,  8.16it/s]\n",
      "100%|██████████| 64/64 [00:00<00:00, 3509.60it/s]\n",
      "100%|██████████| 64/64 [00:00<00:00, 1271.68it/s]\n",
      "100%|██████████| 64/64 [00:00<00:00, 1268.54it/s]\n",
      "100%|██████████| 64/64 [00:00<00:00, 6874.68it/s]\n"
     ]
    },
    {
     "name": "stdout",
     "output_type": "stream",
     "text": [
      "(1, 3329)\n",
      "(261, 3330)\n"
     ]
    },
    {
     "name": "stderr",
     "output_type": "stream",
     "text": [
      "100%|██████████| 64/64 [00:00<00:00, 145968.17it/s]\n",
      "100%|██████████| 64/64 [00:00<00:00, 95.98it/s]\n",
      "100%|██████████| 64/64 [00:00<00:00, 97.05it/s]\n",
      "100%|██████████| 64/64 [00:00<00:00, 102.23it/s]\n",
      "100%|██████████| 64/64 [00:00<00:00, 2054.11it/s]\n",
      "100%|██████████| 64/64 [00:00<00:00, 187.38it/s]\n",
      "100%|██████████| 64/64 [00:00<00:00, 149.49it/s]\n",
      "100%|██████████| 64/64 [00:07<00:00,  8.13it/s]\n",
      "100%|██████████| 64/64 [00:00<00:00, 3425.76it/s]\n",
      "100%|██████████| 64/64 [00:00<00:00, 1406.39it/s]\n",
      "100%|██████████| 64/64 [00:00<00:00, 1350.99it/s]\n",
      "100%|██████████| 64/64 [00:00<00:00, 7349.16it/s]\n"
     ]
    },
    {
     "name": "stdout",
     "output_type": "stream",
     "text": [
      "(1, 3329)\n",
      "(262, 3330)\n"
     ]
    },
    {
     "name": "stderr",
     "output_type": "stream",
     "text": [
      "100%|██████████| 64/64 [00:00<00:00, 21882.73it/s]\n",
      "100%|██████████| 64/64 [00:00<00:00, 94.07it/s]\n",
      "100%|██████████| 64/64 [00:00<00:00, 100.43it/s]\n",
      "100%|██████████| 64/64 [00:00<00:00, 105.42it/s]\n",
      "100%|██████████| 64/64 [00:00<00:00, 2300.00it/s]\n",
      "100%|██████████| 64/64 [00:00<00:00, 189.01it/s]\n",
      "100%|██████████| 64/64 [00:00<00:00, 158.26it/s]\n",
      "100%|██████████| 64/64 [00:07<00:00,  8.23it/s]\n",
      "100%|██████████| 64/64 [00:00<00:00, 3784.73it/s]\n",
      "100%|██████████| 64/64 [00:00<00:00, 1296.49it/s]\n",
      "100%|██████████| 64/64 [00:00<00:00, 1372.44it/s]\n",
      "100%|██████████| 64/64 [00:00<00:00, 6444.26it/s]\n"
     ]
    },
    {
     "name": "stdout",
     "output_type": "stream",
     "text": [
      "(1, 3329)\n",
      "(263, 3330)\n"
     ]
    },
    {
     "name": "stderr",
     "output_type": "stream",
     "text": [
      "100%|██████████| 64/64 [00:00<00:00, 87523.79it/s]\n",
      "100%|██████████| 64/64 [00:00<00:00, 94.77it/s]\n",
      "100%|██████████| 64/64 [00:00<00:00, 97.89it/s]\n",
      "100%|██████████| 64/64 [00:00<00:00, 105.15it/s]\n",
      "100%|██████████| 64/64 [00:00<00:00, 2085.03it/s]\n",
      "100%|██████████| 64/64 [00:00<00:00, 190.14it/s]\n",
      "100%|██████████| 64/64 [00:00<00:00, 154.47it/s]\n",
      "100%|██████████| 64/64 [00:07<00:00,  8.16it/s]\n",
      "100%|██████████| 64/64 [00:00<00:00, 3379.31it/s]\n",
      "100%|██████████| 64/64 [00:00<00:00, 1387.87it/s]\n",
      "100%|██████████| 64/64 [00:00<00:00, 1314.01it/s]\n",
      "100%|██████████| 64/64 [00:00<00:00, 8288.11it/s]\n"
     ]
    },
    {
     "name": "stdout",
     "output_type": "stream",
     "text": [
      "(1, 3329)\n",
      "(264, 3330)\n"
     ]
    },
    {
     "name": "stderr",
     "output_type": "stream",
     "text": [
      "100%|██████████| 64/64 [00:00<00:00, 76346.83it/s]\n",
      "100%|██████████| 64/64 [00:00<00:00, 96.10it/s]\n",
      "100%|██████████| 64/64 [00:00<00:00, 100.01it/s]\n",
      "100%|██████████| 64/64 [00:00<00:00, 105.75it/s]\n",
      "100%|██████████| 64/64 [00:00<00:00, 2335.56it/s]\n",
      "100%|██████████| 64/64 [00:00<00:00, 184.52it/s]\n",
      "100%|██████████| 64/64 [00:00<00:00, 154.87it/s]\n",
      "100%|██████████| 64/64 [00:07<00:00,  8.12it/s]\n",
      "100%|██████████| 64/64 [00:00<00:00, 3602.63it/s]\n",
      "100%|██████████| 64/64 [00:00<00:00, 1244.24it/s]\n",
      "100%|██████████| 64/64 [00:00<00:00, 1219.39it/s]\n",
      "100%|██████████| 64/64 [00:00<00:00, 6927.55it/s]\n"
     ]
    },
    {
     "name": "stdout",
     "output_type": "stream",
     "text": [
      "(1, 3329)\n",
      "(265, 3330)\n"
     ]
    },
    {
     "name": "stderr",
     "output_type": "stream",
     "text": [
      "100%|██████████| 64/64 [00:00<00:00, 110740.70it/s]\n",
      "100%|██████████| 64/64 [00:00<00:00, 93.35it/s]\n",
      "100%|██████████| 64/64 [00:00<00:00, 100.33it/s]\n",
      "100%|██████████| 64/64 [00:00<00:00, 103.13it/s]\n",
      "100%|██████████| 64/64 [00:00<00:00, 2039.50it/s]\n",
      "100%|██████████| 64/64 [00:00<00:00, 195.39it/s]\n",
      "100%|██████████| 64/64 [00:00<00:00, 155.62it/s]\n",
      "100%|██████████| 64/64 [00:07<00:00,  8.17it/s]\n",
      "100%|██████████| 64/64 [00:00<00:00, 3591.30it/s]\n",
      "100%|██████████| 64/64 [00:00<00:00, 1428.93it/s]\n",
      "100%|██████████| 64/64 [00:00<00:00, 1192.34it/s]\n",
      "100%|██████████| 64/64 [00:00<00:00, 7137.34it/s]\n"
     ]
    },
    {
     "name": "stdout",
     "output_type": "stream",
     "text": [
      "(1, 3329)\n",
      "(266, 3330)\n"
     ]
    },
    {
     "name": "stderr",
     "output_type": "stream",
     "text": [
      "100%|██████████| 64/64 [00:00<00:00, 187980.01it/s]\n",
      "100%|██████████| 64/64 [00:00<00:00, 94.61it/s]\n",
      "100%|██████████| 64/64 [00:00<00:00, 98.05it/s]\n",
      "100%|██████████| 64/64 [00:00<00:00, 102.26it/s]\n",
      "100%|██████████| 64/64 [00:00<00:00, 2341.71it/s]\n",
      "100%|██████████| 64/64 [00:00<00:00, 188.96it/s]\n",
      "100%|██████████| 64/64 [00:00<00:00, 159.27it/s]\n",
      "100%|██████████| 64/64 [00:07<00:00,  8.25it/s]\n",
      "100%|██████████| 64/64 [00:00<00:00, 3721.29it/s]\n",
      "100%|██████████| 64/64 [00:00<00:00, 1458.09it/s]\n",
      "100%|██████████| 64/64 [00:00<00:00, 1413.09it/s]\n",
      "100%|██████████| 64/64 [00:00<00:00, 7117.09it/s]\n"
     ]
    },
    {
     "name": "stdout",
     "output_type": "stream",
     "text": [
      "(1, 3329)\n",
      "(267, 3330)\n"
     ]
    },
    {
     "name": "stderr",
     "output_type": "stream",
     "text": [
      "100%|██████████| 64/64 [00:00<00:00, 64855.15it/s]\n",
      "100%|██████████| 64/64 [00:00<00:00, 94.63it/s]\n",
      "100%|██████████| 64/64 [00:00<00:00, 100.95it/s]\n",
      "100%|██████████| 64/64 [00:00<00:00, 102.16it/s]\n",
      "100%|██████████| 64/64 [00:00<00:00, 2317.56it/s]\n",
      "100%|██████████| 64/64 [00:00<00:00, 191.06it/s]\n",
      "100%|██████████| 64/64 [00:00<00:00, 159.51it/s]\n",
      "100%|██████████| 64/64 [00:07<00:00,  8.29it/s]\n",
      "100%|██████████| 64/64 [00:00<00:00, 3532.14it/s]\n",
      "100%|██████████| 64/64 [00:00<00:00, 1269.25it/s]\n",
      "100%|██████████| 64/64 [00:00<00:00, 1403.10it/s]\n",
      "100%|██████████| 64/64 [00:00<00:00, 8047.83it/s]\n"
     ]
    },
    {
     "name": "stdout",
     "output_type": "stream",
     "text": [
      "(1, 3329)\n",
      "(268, 3330)\n"
     ]
    },
    {
     "name": "stderr",
     "output_type": "stream",
     "text": [
      "100%|██████████| 64/64 [00:00<00:00, 108065.80it/s]\n",
      "100%|██████████| 64/64 [00:00<00:00, 96.85it/s]\n",
      "100%|██████████| 64/64 [00:00<00:00, 101.74it/s]\n",
      "100%|██████████| 64/64 [00:00<00:00, 104.81it/s]\n",
      "100%|██████████| 64/64 [00:00<00:00, 2390.75it/s]\n",
      "100%|██████████| 64/64 [00:00<00:00, 195.02it/s]\n",
      "100%|██████████| 64/64 [00:00<00:00, 159.22it/s]\n",
      "100%|██████████| 64/64 [00:07<00:00,  8.33it/s]\n",
      "100%|██████████| 64/64 [00:00<00:00, 3975.70it/s]\n",
      "100%|██████████| 64/64 [00:00<00:00, 1405.63it/s]\n",
      "100%|██████████| 64/64 [00:00<00:00, 1427.93it/s]\n",
      "100%|██████████| 64/64 [00:00<00:00, 5047.68it/s]\n"
     ]
    },
    {
     "name": "stdout",
     "output_type": "stream",
     "text": [
      "(1, 3329)\n",
      "(269, 3330)\n"
     ]
    },
    {
     "name": "stderr",
     "output_type": "stream",
     "text": [
      "100%|██████████| 64/64 [00:00<00:00, 27938.74it/s]\n",
      "100%|██████████| 64/64 [00:00<00:00, 102.63it/s]\n",
      "100%|██████████| 64/64 [00:00<00:00, 101.85it/s]\n",
      "100%|██████████| 64/64 [00:00<00:00, 103.43it/s]\n",
      "100%|██████████| 64/64 [00:00<00:00, 2360.85it/s]\n",
      "100%|██████████| 64/64 [00:00<00:00, 186.09it/s]\n",
      "100%|██████████| 64/64 [00:00<00:00, 154.74it/s]\n",
      "100%|██████████| 64/64 [00:07<00:00,  8.35it/s]\n",
      "100%|██████████| 64/64 [00:00<00:00, 3434.83it/s]\n",
      "100%|██████████| 64/64 [00:00<00:00, 1395.62it/s]\n",
      "100%|██████████| 64/64 [00:00<00:00, 1398.20it/s]\n",
      "100%|██████████| 64/64 [00:00<00:00, 7158.85it/s]\n"
     ]
    },
    {
     "name": "stdout",
     "output_type": "stream",
     "text": [
      "(1, 3329)\n",
      "(270, 3330)\n"
     ]
    },
    {
     "name": "stderr",
     "output_type": "stream",
     "text": [
      "100%|██████████| 64/64 [00:00<00:00, 84840.54it/s]\n",
      "100%|██████████| 64/64 [00:00<00:00, 99.17it/s]\n",
      "100%|██████████| 64/64 [00:00<00:00, 98.17it/s]\n",
      "100%|██████████| 64/64 [00:00<00:00, 106.27it/s]\n",
      "100%|██████████| 64/64 [00:00<00:00, 2123.97it/s]\n",
      "100%|██████████| 64/64 [00:00<00:00, 192.59it/s]\n",
      "100%|██████████| 64/64 [00:00<00:00, 155.81it/s]\n",
      "100%|██████████| 64/64 [00:07<00:00,  8.43it/s]\n",
      "100%|██████████| 64/64 [00:00<00:00, 3528.52it/s]\n",
      "100%|██████████| 64/64 [00:00<00:00, 1226.72it/s]\n",
      "100%|██████████| 64/64 [00:00<00:00, 1420.66it/s]\n",
      "100%|██████████| 64/64 [00:00<00:00, 7121.25it/s]\n"
     ]
    },
    {
     "name": "stdout",
     "output_type": "stream",
     "text": [
      "(1, 3329)\n",
      "(271, 3330)\n"
     ]
    },
    {
     "name": "stderr",
     "output_type": "stream",
     "text": [
      "100%|██████████| 64/64 [00:00<00:00, 187585.92it/s]\n",
      "100%|██████████| 64/64 [00:00<00:00, 98.01it/s]\n",
      "100%|██████████| 64/64 [00:00<00:00, 99.29it/s]\n",
      "100%|██████████| 64/64 [00:00<00:00, 105.69it/s]\n",
      "100%|██████████| 64/64 [00:00<00:00, 2314.58it/s]\n",
      "100%|██████████| 64/64 [00:00<00:00, 185.23it/s]\n",
      "100%|██████████| 64/64 [00:00<00:00, 160.00it/s]\n",
      "100%|██████████| 64/64 [00:07<00:00,  8.42it/s]\n",
      "100%|██████████| 64/64 [00:00<00:00, 3422.26it/s]\n",
      "100%|██████████| 64/64 [00:00<00:00, 1405.56it/s]\n",
      "100%|██████████| 64/64 [00:00<00:00, 1195.00it/s]\n",
      "100%|██████████| 64/64 [00:00<00:00, 7198.40it/s]\n"
     ]
    },
    {
     "name": "stdout",
     "output_type": "stream",
     "text": [
      "(1, 3329)\n",
      "(272, 3330)\n"
     ]
    },
    {
     "name": "stderr",
     "output_type": "stream",
     "text": [
      "100%|██████████| 64/64 [00:00<00:00, 87267.70it/s]\n",
      "100%|██████████| 64/64 [00:00<00:00, 97.63it/s]\n",
      "100%|██████████| 64/64 [00:00<00:00, 101.31it/s]\n",
      "100%|██████████| 64/64 [00:00<00:00, 106.53it/s]\n",
      "100%|██████████| 64/64 [00:00<00:00, 2221.65it/s]\n",
      "100%|██████████| 64/64 [00:00<00:00, 174.26it/s]\n",
      "100%|██████████| 64/64 [00:00<00:00, 150.57it/s]\n",
      "100%|██████████| 64/64 [00:07<00:00,  8.34it/s]\n",
      "100%|██████████| 64/64 [00:00<00:00, 2853.27it/s]\n",
      "100%|██████████| 64/64 [00:00<00:00, 1425.88it/s]\n",
      "100%|██████████| 64/64 [00:00<00:00, 1419.98it/s]\n",
      "100%|██████████| 64/64 [00:00<00:00, 7350.37it/s]\n"
     ]
    },
    {
     "name": "stdout",
     "output_type": "stream",
     "text": [
      "(1, 3329)\n",
      "(273, 3330)\n"
     ]
    },
    {
     "name": "stderr",
     "output_type": "stream",
     "text": [
      "100%|██████████| 64/64 [00:00<00:00, 35311.16it/s]\n",
      "100%|██████████| 64/64 [00:00<00:00, 101.07it/s]\n",
      "100%|██████████| 64/64 [00:00<00:00, 100.69it/s]\n",
      "100%|██████████| 64/64 [00:00<00:00, 103.71it/s]\n",
      "100%|██████████| 64/64 [00:00<00:00, 2389.11it/s]\n",
      "100%|██████████| 64/64 [00:00<00:00, 188.65it/s]\n",
      "100%|██████████| 64/64 [00:00<00:00, 164.66it/s]\n",
      "100%|██████████| 64/64 [00:07<00:00,  8.36it/s]\n",
      "100%|██████████| 64/64 [00:00<00:00, 2485.24it/s]\n",
      "100%|██████████| 64/64 [00:00<00:00, 1400.52it/s]\n",
      "100%|██████████| 64/64 [00:00<00:00, 1369.67it/s]\n",
      "100%|██████████| 64/64 [00:00<00:00, 6796.18it/s]\n"
     ]
    },
    {
     "name": "stdout",
     "output_type": "stream",
     "text": [
      "(1, 3329)\n",
      "(274, 3330)\n"
     ]
    },
    {
     "name": "stderr",
     "output_type": "stream",
     "text": [
      "100%|██████████| 64/64 [00:00<00:00, 194096.50it/s]\n",
      "100%|██████████| 64/64 [00:00<00:00, 98.06it/s]\n",
      "100%|██████████| 64/64 [00:00<00:00, 100.82it/s]\n",
      "100%|██████████| 64/64 [00:00<00:00, 106.99it/s]\n",
      "100%|██████████| 64/64 [00:00<00:00, 2282.75it/s]\n",
      "100%|██████████| 64/64 [00:00<00:00, 200.60it/s]\n",
      "100%|██████████| 64/64 [00:00<00:00, 153.65it/s]\n",
      "100%|██████████| 64/64 [00:07<00:00,  8.45it/s]\n",
      "100%|██████████| 64/64 [00:00<00:00, 3675.49it/s]\n",
      "100%|██████████| 64/64 [00:00<00:00, 1474.31it/s]\n",
      "100%|██████████| 64/64 [00:00<00:00, 1420.06it/s]\n",
      "100%|██████████| 64/64 [00:00<00:00, 7925.46it/s]\n"
     ]
    },
    {
     "name": "stdout",
     "output_type": "stream",
     "text": [
      "(1, 3329)\n",
      "(275, 3330)\n"
     ]
    },
    {
     "name": "stderr",
     "output_type": "stream",
     "text": [
      "100%|██████████| 64/64 [00:00<00:00, 88651.08it/s]\n",
      "100%|██████████| 64/64 [00:00<00:00, 98.85it/s]\n",
      "100%|██████████| 64/64 [00:00<00:00, 103.54it/s]\n",
      "100%|██████████| 64/64 [00:00<00:00, 106.23it/s]\n",
      "100%|██████████| 64/64 [00:00<00:00, 2340.65it/s]\n",
      "100%|██████████| 64/64 [00:00<00:00, 198.38it/s]\n",
      "100%|██████████| 64/64 [00:00<00:00, 162.72it/s]\n",
      "100%|██████████| 64/64 [00:07<00:00,  8.45it/s]\n",
      "100%|██████████| 64/64 [00:00<00:00, 3562.51it/s]\n",
      "100%|██████████| 64/64 [00:00<00:00, 1439.14it/s]\n",
      "100%|██████████| 64/64 [00:00<00:00, 1377.30it/s]\n",
      "100%|██████████| 64/64 [00:00<00:00, 7390.64it/s]\n"
     ]
    },
    {
     "name": "stdout",
     "output_type": "stream",
     "text": [
      "(1, 3329)\n",
      "(276, 3330)\n"
     ]
    },
    {
     "name": "stderr",
     "output_type": "stream",
     "text": [
      "100%|██████████| 64/64 [00:00<00:00, 180400.17it/s]\n",
      "100%|██████████| 64/64 [00:00<00:00, 103.23it/s]\n",
      "100%|██████████| 64/64 [00:00<00:00, 101.78it/s]\n",
      "100%|██████████| 64/64 [00:00<00:00, 107.17it/s]\n",
      "100%|██████████| 64/64 [00:00<00:00, 2231.96it/s]\n",
      "100%|██████████| 64/64 [00:00<00:00, 194.81it/s]\n",
      "100%|██████████| 64/64 [00:00<00:00, 153.98it/s]\n",
      "100%|██████████| 64/64 [00:07<00:00,  8.46it/s]\n",
      "100%|██████████| 64/64 [00:00<00:00, 3011.29it/s]\n",
      "100%|██████████| 64/64 [00:00<00:00, 1461.23it/s]\n",
      "100%|██████████| 64/64 [00:00<00:00, 1407.41it/s]\n",
      "100%|██████████| 64/64 [00:00<00:00, 7417.80it/s]\n"
     ]
    },
    {
     "name": "stdout",
     "output_type": "stream",
     "text": [
      "(1, 3329)\n",
      "(277, 3330)\n"
     ]
    },
    {
     "name": "stderr",
     "output_type": "stream",
     "text": [
      "100%|██████████| 64/64 [00:00<00:00, 79324.90it/s]\n",
      "100%|██████████| 64/64 [00:00<00:00, 99.85it/s] \n",
      "100%|██████████| 64/64 [00:00<00:00, 100.98it/s]\n",
      "100%|██████████| 64/64 [00:00<00:00, 109.02it/s]\n",
      "100%|██████████| 64/64 [00:00<00:00, 2056.24it/s]\n",
      "100%|██████████| 64/64 [00:00<00:00, 197.70it/s]\n",
      "100%|██████████| 64/64 [00:00<00:00, 164.57it/s]\n",
      "100%|██████████| 64/64 [00:07<00:00,  8.54it/s]\n",
      "100%|██████████| 64/64 [00:00<00:00, 2825.49it/s]\n",
      "100%|██████████| 64/64 [00:00<00:00, 1349.29it/s]\n",
      "100%|██████████| 64/64 [00:00<00:00, 1300.61it/s]\n",
      "100%|██████████| 64/64 [00:00<00:00, 6735.64it/s]\n",
      "100%|██████████| 64/64 [00:00<00:00, 233016.89it/s]\n",
      " 16%|█▌        | 10/64 [00:00<00:00, 96.39it/s]"
     ]
    },
    {
     "name": "stdout",
     "output_type": "stream",
     "text": [
      "(1, 3329)\n",
      "(278, 3330)\n"
     ]
    },
    {
     "name": "stderr",
     "output_type": "stream",
     "text": [
      "100%|██████████| 64/64 [00:00<00:00, 100.11it/s]\n",
      "100%|██████████| 64/64 [00:00<00:00, 103.84it/s]\n",
      "100%|██████████| 64/64 [00:00<00:00, 108.65it/s]\n",
      "100%|██████████| 64/64 [00:00<00:00, 2297.78it/s]\n",
      "100%|██████████| 64/64 [00:00<00:00, 196.55it/s]\n",
      "100%|██████████| 64/64 [00:00<00:00, 161.90it/s]\n",
      "100%|██████████| 64/64 [00:07<00:00,  8.36it/s]\n",
      "100%|██████████| 64/64 [00:00<00:00, 3698.32it/s]\n",
      "100%|██████████| 64/64 [00:00<00:00, 1408.90it/s]\n",
      "100%|██████████| 64/64 [00:00<00:00, 1329.86it/s]\n",
      "100%|██████████| 64/64 [00:00<00:00, 6919.87it/s]\n",
      "100%|██████████| 64/64 [00:00<00:00, 100537.62it/s]\n",
      " 17%|█▋        | 11/64 [00:00<00:00, 101.79it/s]"
     ]
    },
    {
     "name": "stdout",
     "output_type": "stream",
     "text": [
      "(1, 3329)\n",
      "(279, 3330)\n"
     ]
    },
    {
     "name": "stderr",
     "output_type": "stream",
     "text": [
      "100%|██████████| 64/64 [00:00<00:00, 96.16it/s]\n",
      "100%|██████████| 64/64 [00:00<00:00, 101.68it/s]\n",
      "100%|██████████| 64/64 [00:00<00:00, 104.43it/s]\n",
      "100%|██████████| 64/64 [00:00<00:00, 2396.53it/s]\n",
      "100%|██████████| 64/64 [00:00<00:00, 204.30it/s]\n",
      "100%|██████████| 64/64 [00:00<00:00, 154.69it/s]\n",
      "100%|██████████| 64/64 [00:07<00:00,  8.40it/s]\n",
      "100%|██████████| 64/64 [00:00<00:00, 3553.51it/s]\n",
      "100%|██████████| 64/64 [00:00<00:00, 1357.92it/s]\n",
      "100%|██████████| 64/64 [00:00<00:00, 1289.40it/s]\n",
      "100%|██████████| 64/64 [00:00<00:00, 7578.64it/s]\n",
      "100%|██████████| 64/64 [00:00<00:00, 43948.18it/s]\n",
      " 17%|█▋        | 11/64 [00:00<00:00, 104.38it/s]"
     ]
    },
    {
     "name": "stdout",
     "output_type": "stream",
     "text": [
      "(1, 3329)\n",
      "(280, 3330)\n"
     ]
    },
    {
     "name": "stderr",
     "output_type": "stream",
     "text": [
      "100%|██████████| 64/64 [00:00<00:00, 100.99it/s]\n",
      "100%|██████████| 64/64 [00:00<00:00, 97.39it/s]\n",
      "100%|██████████| 64/64 [00:00<00:00, 104.80it/s]\n",
      "100%|██████████| 64/64 [00:00<00:00, 2368.79it/s]\n",
      "100%|██████████| 64/64 [00:00<00:00, 182.23it/s]\n",
      "100%|██████████| 64/64 [00:00<00:00, 162.70it/s]\n",
      "100%|██████████| 64/64 [00:07<00:00,  8.44it/s]\n",
      "100%|██████████| 64/64 [00:00<00:00, 3541.65it/s]\n",
      "100%|██████████| 64/64 [00:00<00:00, 1351.71it/s]\n",
      "100%|██████████| 64/64 [00:00<00:00, 1417.40it/s]\n",
      "100%|██████████| 64/64 [00:00<00:00, 7302.98it/s]\n",
      "100%|██████████| 64/64 [00:00<00:00, 98544.59it/s]\n",
      " 17%|█▋        | 11/64 [00:00<00:00, 100.57it/s]"
     ]
    },
    {
     "name": "stdout",
     "output_type": "stream",
     "text": [
      "(1, 3329)\n",
      "(281, 3330)\n"
     ]
    },
    {
     "name": "stderr",
     "output_type": "stream",
     "text": [
      "100%|██████████| 64/64 [00:00<00:00, 97.91it/s]\n",
      "100%|██████████| 64/64 [00:00<00:00, 103.25it/s]\n",
      "100%|██████████| 64/64 [00:00<00:00, 103.51it/s]\n",
      "100%|██████████| 64/64 [00:00<00:00, 2264.95it/s]\n",
      "100%|██████████| 64/64 [00:00<00:00, 199.86it/s]\n",
      "100%|██████████| 64/64 [00:00<00:00, 154.77it/s]\n",
      "100%|██████████| 64/64 [00:07<00:00,  8.34it/s]\n",
      "100%|██████████| 64/64 [00:00<00:00, 3033.92it/s]\n",
      "100%|██████████| 64/64 [00:00<00:00, 1265.07it/s]\n",
      "100%|██████████| 64/64 [00:00<00:00, 1364.11it/s]\n",
      "100%|██████████| 64/64 [00:00<00:00, 7291.67it/s]\n",
      "100%|██████████| 64/64 [00:00<00:00, 88214.08it/s]\n",
      " 16%|█▌        | 10/64 [00:00<00:00, 98.21it/s]"
     ]
    },
    {
     "name": "stdout",
     "output_type": "stream",
     "text": [
      "(1, 3329)\n",
      "(282, 3330)\n"
     ]
    },
    {
     "name": "stderr",
     "output_type": "stream",
     "text": [
      "100%|██████████| 64/64 [00:00<00:00, 95.68it/s]\n",
      "100%|██████████| 64/64 [00:00<00:00, 102.32it/s]\n",
      "100%|██████████| 64/64 [00:00<00:00, 97.96it/s]\n",
      "100%|██████████| 64/64 [00:00<00:00, 2301.14it/s]\n",
      "100%|██████████| 64/64 [00:00<00:00, 199.43it/s]\n",
      "100%|██████████| 64/64 [00:00<00:00, 160.42it/s]\n",
      "100%|██████████| 64/64 [00:07<00:00,  8.42it/s]\n",
      "100%|██████████| 64/64 [00:00<00:00, 3746.74it/s]\n",
      "100%|██████████| 64/64 [00:00<00:00, 1245.25it/s]\n",
      "100%|██████████| 64/64 [00:00<00:00, 1439.65it/s]\n",
      "100%|██████████| 64/64 [00:00<00:00, 7134.88it/s]\n",
      "100%|██████████| 64/64 [00:00<00:00, 13764.51it/s]\n",
      " 17%|█▋        | 11/64 [00:00<00:00, 107.30it/s]"
     ]
    },
    {
     "name": "stdout",
     "output_type": "stream",
     "text": [
      "(1, 3329)\n",
      "(283, 3330)\n"
     ]
    },
    {
     "name": "stderr",
     "output_type": "stream",
     "text": [
      "100%|██████████| 64/64 [00:00<00:00, 103.58it/s]\n",
      "100%|██████████| 64/64 [00:00<00:00, 107.04it/s]\n",
      "100%|██████████| 64/64 [00:00<00:00, 106.86it/s]\n",
      "100%|██████████| 64/64 [00:00<00:00, 2384.23it/s]\n",
      "100%|██████████| 64/64 [00:00<00:00, 201.21it/s]\n",
      "100%|██████████| 64/64 [00:00<00:00, 160.87it/s]\n",
      "100%|██████████| 64/64 [00:07<00:00,  8.54it/s]\n",
      "100%|██████████| 64/64 [00:00<00:00, 3276.40it/s]\n",
      "100%|██████████| 64/64 [00:00<00:00, 1432.93it/s]\n",
      "100%|██████████| 64/64 [00:00<00:00, 1269.53it/s]\n",
      "100%|██████████| 64/64 [00:00<00:00, 7356.81it/s]\n",
      "100%|██████████| 64/64 [00:00<00:00, 257615.60it/s]\n",
      " 17%|█▋        | 11/64 [00:00<00:00, 104.30it/s]"
     ]
    },
    {
     "name": "stdout",
     "output_type": "stream",
     "text": [
      "(1, 3329)\n",
      "(284, 3330)\n"
     ]
    },
    {
     "name": "stderr",
     "output_type": "stream",
     "text": [
      "100%|██████████| 64/64 [00:00<00:00, 101.51it/s]\n",
      "100%|██████████| 64/64 [00:00<00:00, 103.17it/s]\n",
      "100%|██████████| 64/64 [00:00<00:00, 109.80it/s]\n",
      "100%|██████████| 64/64 [00:00<00:00, 2280.09it/s]\n",
      "100%|██████████| 64/64 [00:00<00:00, 202.46it/s]\n",
      "100%|██████████| 64/64 [00:00<00:00, 162.89it/s]\n",
      "100%|██████████| 64/64 [00:07<00:00,  8.60it/s]\n",
      "100%|██████████| 64/64 [00:00<00:00, 3390.02it/s]\n",
      "100%|██████████| 64/64 [00:00<00:00, 1378.89it/s]\n",
      "100%|██████████| 64/64 [00:00<00:00, 1418.59it/s]\n",
      "100%|██████████| 64/64 [00:00<00:00, 7341.12it/s]\n",
      "100%|██████████| 64/64 [00:00<00:00, 98328.01it/s]\n",
      " 17%|█▋        | 11/64 [00:00<00:00, 105.57it/s]"
     ]
    },
    {
     "name": "stdout",
     "output_type": "stream",
     "text": [
      "(1, 3329)\n",
      "(285, 3330)\n"
     ]
    },
    {
     "name": "stderr",
     "output_type": "stream",
     "text": [
      "100%|██████████| 64/64 [00:00<00:00, 102.68it/s]\n",
      "100%|██████████| 64/64 [00:00<00:00, 102.45it/s]\n",
      "100%|██████████| 64/64 [00:00<00:00, 104.52it/s]\n",
      "100%|██████████| 64/64 [00:00<00:00, 2243.92it/s]\n",
      "100%|██████████| 64/64 [00:00<00:00, 198.02it/s]\n",
      "100%|██████████| 64/64 [00:00<00:00, 156.86it/s]\n",
      "100%|██████████| 64/64 [00:07<00:00,  8.46it/s]\n",
      "100%|██████████| 64/64 [00:00<00:00, 3618.66it/s]\n",
      "100%|██████████| 64/64 [00:00<00:00, 1423.77it/s]\n",
      "100%|██████████| 64/64 [00:00<00:00, 1339.13it/s]\n",
      "100%|██████████| 64/64 [00:00<00:00, 6109.97it/s]\n",
      "100%|██████████| 64/64 [00:00<00:00, 27837.34it/s]\n",
      " 16%|█▌        | 10/64 [00:00<00:00, 95.78it/s]"
     ]
    },
    {
     "name": "stdout",
     "output_type": "stream",
     "text": [
      "(1, 3329)\n",
      "(286, 3330)\n"
     ]
    },
    {
     "name": "stderr",
     "output_type": "stream",
     "text": [
      "100%|██████████| 64/64 [00:00<00:00, 95.78it/s]\n",
      "100%|██████████| 64/64 [00:00<00:00, 98.16it/s]\n",
      "100%|██████████| 64/64 [00:00<00:00, 105.55it/s]\n",
      "100%|██████████| 64/64 [00:00<00:00, 2088.44it/s]\n",
      "100%|██████████| 64/64 [00:00<00:00, 186.84it/s]\n",
      "100%|██████████| 64/64 [00:00<00:00, 157.67it/s]\n",
      "100%|██████████| 64/64 [00:07<00:00,  8.67it/s]\n",
      "100%|██████████| 64/64 [00:00<00:00, 3578.57it/s]\n",
      "100%|██████████| 64/64 [00:00<00:00, 1461.41it/s]\n",
      "100%|██████████| 64/64 [00:00<00:00, 1263.55it/s]\n",
      "100%|██████████| 64/64 [00:00<00:00, 7387.39it/s]\n",
      "100%|██████████| 64/64 [00:00<00:00, 173744.63it/s]\n",
      " 17%|█▋        | 11/64 [00:00<00:00, 104.06it/s]"
     ]
    },
    {
     "name": "stdout",
     "output_type": "stream",
     "text": [
      "(1, 3329)\n",
      "(287, 3330)\n"
     ]
    },
    {
     "name": "stderr",
     "output_type": "stream",
     "text": [
      "100%|██████████| 64/64 [00:00<00:00, 102.10it/s]\n",
      "100%|██████████| 64/64 [00:00<00:00, 103.05it/s]\n",
      "100%|██████████| 64/64 [00:00<00:00, 110.64it/s]\n",
      "100%|██████████| 64/64 [00:00<00:00, 2542.51it/s]\n",
      "100%|██████████| 64/64 [00:00<00:00, 196.63it/s]\n",
      "100%|██████████| 64/64 [00:00<00:00, 170.16it/s]\n",
      "100%|██████████| 64/64 [00:07<00:00,  8.83it/s]\n",
      "100%|██████████| 64/64 [00:00<00:00, 3689.89it/s]\n",
      "100%|██████████| 64/64 [00:00<00:00, 1551.62it/s]\n",
      "100%|██████████| 64/64 [00:00<00:00, 1397.05it/s]\n",
      "100%|██████████| 64/64 [00:00<00:00, 7373.79it/s]\n",
      "100%|██████████| 64/64 [00:00<00:00, 104612.41it/s]\n",
      " 17%|█▋        | 11/64 [00:00<00:00, 109.13it/s]"
     ]
    },
    {
     "name": "stdout",
     "output_type": "stream",
     "text": [
      "(1, 3329)\n",
      "(288, 3330)\n"
     ]
    },
    {
     "name": "stderr",
     "output_type": "stream",
     "text": [
      "100%|██████████| 64/64 [00:00<00:00, 101.04it/s]\n",
      "100%|██████████| 64/64 [00:00<00:00, 105.96it/s]\n",
      "100%|██████████| 64/64 [00:00<00:00, 107.46it/s]\n",
      "100%|██████████| 64/64 [00:00<00:00, 2237.02it/s]\n",
      "100%|██████████| 64/64 [00:00<00:00, 188.90it/s]\n",
      "100%|██████████| 64/64 [00:00<00:00, 165.37it/s]\n",
      "100%|██████████| 64/64 [00:07<00:00,  8.89it/s]\n",
      "100%|██████████| 64/64 [00:00<00:00, 3314.26it/s]\n",
      "100%|██████████| 64/64 [00:00<00:00, 1382.53it/s]\n",
      "100%|██████████| 64/64 [00:00<00:00, 1064.36it/s]\n",
      "100%|██████████| 64/64 [00:00<00:00, 7521.31it/s]\n",
      "100%|██████████| 64/64 [00:00<00:00, 90902.63it/s]\n",
      " 17%|█▋        | 11/64 [00:00<00:00, 102.48it/s]"
     ]
    },
    {
     "name": "stdout",
     "output_type": "stream",
     "text": [
      "(1, 3329)\n",
      "(289, 3330)\n"
     ]
    },
    {
     "name": "stderr",
     "output_type": "stream",
     "text": [
      "100%|██████████| 64/64 [00:00<00:00, 104.96it/s]\n",
      "100%|██████████| 64/64 [00:00<00:00, 104.31it/s]\n",
      "100%|██████████| 64/64 [00:00<00:00, 110.90it/s]\n",
      "100%|██████████| 64/64 [00:00<00:00, 2388.02it/s]\n",
      "100%|██████████| 64/64 [00:00<00:00, 214.60it/s]\n",
      "100%|██████████| 64/64 [00:00<00:00, 170.65it/s]\n",
      "100%|██████████| 64/64 [00:07<00:00,  8.67it/s]\n",
      "100%|██████████| 64/64 [00:00<00:00, 3684.52it/s]\n",
      "100%|██████████| 64/64 [00:00<00:00, 1280.39it/s]\n",
      "100%|██████████| 64/64 [00:00<00:00, 1223.99it/s]\n",
      "100%|██████████| 64/64 [00:00<00:00, 6326.25it/s]\n",
      "100%|██████████| 64/64 [00:00<00:00, 173184.17it/s]\n",
      " 17%|█▋        | 11/64 [00:00<00:00, 103.39it/s]"
     ]
    },
    {
     "name": "stdout",
     "output_type": "stream",
     "text": [
      "(1, 3329)\n",
      "(290, 3330)\n"
     ]
    },
    {
     "name": "stderr",
     "output_type": "stream",
     "text": [
      "100%|██████████| 64/64 [00:00<00:00, 104.19it/s]\n",
      "100%|██████████| 64/64 [00:00<00:00, 106.27it/s]\n",
      "100%|██████████| 64/64 [00:00<00:00, 105.47it/s]\n",
      "100%|██████████| 64/64 [00:00<00:00, 2453.37it/s]\n",
      "100%|██████████| 64/64 [00:00<00:00, 200.81it/s]\n",
      "100%|██████████| 64/64 [00:00<00:00, 163.03it/s]\n",
      "100%|██████████| 64/64 [00:07<00:00,  8.94it/s]\n",
      "100%|██████████| 64/64 [00:00<00:00, 3777.06it/s]\n",
      "100%|██████████| 64/64 [00:00<00:00, 1532.85it/s]\n",
      "100%|██████████| 64/64 [00:00<00:00, 1522.66it/s]\n",
      "100%|██████████| 64/64 [00:00<00:00, 6041.49it/s]\n",
      "100%|██████████| 64/64 [00:00<00:00, 110195.18it/s]\n",
      " 17%|█▋        | 11/64 [00:00<00:00, 108.52it/s]"
     ]
    },
    {
     "name": "stdout",
     "output_type": "stream",
     "text": [
      "(1, 3329)\n",
      "(291, 3330)\n"
     ]
    },
    {
     "name": "stderr",
     "output_type": "stream",
     "text": [
      "100%|██████████| 64/64 [00:00<00:00, 106.57it/s]\n",
      "100%|██████████| 64/64 [00:00<00:00, 108.90it/s]\n",
      "100%|██████████| 64/64 [00:00<00:00, 108.90it/s]\n",
      "100%|██████████| 64/64 [00:00<00:00, 1742.32it/s]\n",
      "100%|██████████| 64/64 [00:00<00:00, 206.31it/s]\n",
      "100%|██████████| 64/64 [00:00<00:00, 160.47it/s]\n",
      "100%|██████████| 64/64 [00:07<00:00,  8.84it/s]\n",
      "100%|██████████| 64/64 [00:00<00:00, 3619.58it/s]\n",
      "100%|██████████| 64/64 [00:00<00:00, 1467.67it/s]\n",
      "100%|██████████| 64/64 [00:00<00:00, 1490.09it/s]\n",
      "100%|██████████| 64/64 [00:00<00:00, 7818.13it/s]\n",
      "100%|██████████| 64/64 [00:00<00:00, 31083.31it/s]\n",
      " 19%|█▉        | 12/64 [00:00<00:00, 111.46it/s]"
     ]
    },
    {
     "name": "stdout",
     "output_type": "stream",
     "text": [
      "(1, 3329)\n",
      "(292, 3330)\n"
     ]
    },
    {
     "name": "stderr",
     "output_type": "stream",
     "text": [
      "100%|██████████| 64/64 [00:00<00:00, 102.36it/s]\n",
      "100%|██████████| 64/64 [00:00<00:00, 106.46it/s]\n",
      "100%|██████████| 64/64 [00:00<00:00, 109.76it/s]\n",
      "100%|██████████| 64/64 [00:00<00:00, 2585.04it/s]\n",
      "100%|██████████| 64/64 [00:00<00:00, 209.81it/s]\n",
      "100%|██████████| 64/64 [00:00<00:00, 163.31it/s]\n",
      "100%|██████████| 64/64 [00:07<00:00,  8.73it/s]\n",
      "100%|██████████| 64/64 [00:00<00:00, 3635.42it/s]\n",
      "100%|██████████| 64/64 [00:00<00:00, 1312.23it/s]\n",
      "100%|██████████| 64/64 [00:00<00:00, 1523.26it/s]\n",
      "100%|██████████| 64/64 [00:00<00:00, 7576.29it/s]\n",
      "100%|██████████| 64/64 [00:00<00:00, 106818.73it/s]\n",
      " 19%|█▉        | 12/64 [00:00<00:00, 109.81it/s]"
     ]
    },
    {
     "name": "stdout",
     "output_type": "stream",
     "text": [
      "(1, 3329)\n",
      "(293, 3330)\n"
     ]
    },
    {
     "name": "stderr",
     "output_type": "stream",
     "text": [
      "100%|██████████| 64/64 [00:00<00:00, 103.11it/s]\n",
      "100%|██████████| 64/64 [00:00<00:00, 106.06it/s]\n",
      "100%|██████████| 64/64 [00:00<00:00, 107.61it/s]\n",
      "100%|██████████| 64/64 [00:00<00:00, 2054.62it/s]\n",
      "100%|██████████| 64/64 [00:00<00:00, 198.21it/s]\n",
      "100%|██████████| 64/64 [00:00<00:00, 163.10it/s]\n",
      "100%|██████████| 64/64 [00:07<00:00,  8.87it/s]\n",
      "100%|██████████| 64/64 [00:00<00:00, 3920.08it/s]\n",
      "100%|██████████| 64/64 [00:00<00:00, 1423.44it/s]\n",
      "100%|██████████| 64/64 [00:00<00:00, 1362.50it/s]\n",
      "100%|██████████| 64/64 [00:00<00:00, 7786.15it/s]\n",
      "100%|██████████| 64/64 [00:00<00:00, 24476.65it/s]\n",
      " 17%|█▋        | 11/64 [00:00<00:00, 104.43it/s]"
     ]
    },
    {
     "name": "stdout",
     "output_type": "stream",
     "text": [
      "(1, 3329)\n",
      "(294, 3330)\n"
     ]
    },
    {
     "name": "stderr",
     "output_type": "stream",
     "text": [
      "100%|██████████| 64/64 [00:00<00:00, 102.88it/s]\n",
      "100%|██████████| 64/64 [00:00<00:00, 108.79it/s]\n",
      "100%|██████████| 64/64 [00:00<00:00, 104.63it/s]\n",
      "100%|██████████| 64/64 [00:00<00:00, 2426.73it/s]\n",
      "100%|██████████| 64/64 [00:00<00:00, 210.63it/s]\n",
      "100%|██████████| 64/64 [00:00<00:00, 165.65it/s]\n",
      "100%|██████████| 64/64 [00:07<00:00,  8.57it/s]\n",
      "100%|██████████| 64/64 [00:00<00:00, 3501.64it/s]\n",
      "100%|██████████| 64/64 [00:00<00:00, 1448.22it/s]\n",
      "100%|██████████| 64/64 [00:00<00:00, 1235.42it/s]\n",
      "100%|██████████| 64/64 [00:00<00:00, 7046.29it/s]\n",
      "100%|██████████| 64/64 [00:00<00:00, 29133.43it/s]\n",
      " 17%|█▋        | 11/64 [00:00<00:00, 101.79it/s]"
     ]
    },
    {
     "name": "stdout",
     "output_type": "stream",
     "text": [
      "(1, 3329)\n",
      "(295, 3330)\n"
     ]
    },
    {
     "name": "stderr",
     "output_type": "stream",
     "text": [
      "100%|██████████| 64/64 [00:00<00:00, 101.17it/s]\n",
      "100%|██████████| 64/64 [00:00<00:00, 104.21it/s]\n",
      "100%|██████████| 64/64 [00:00<00:00, 105.27it/s]\n",
      "100%|██████████| 64/64 [00:00<00:00, 1847.09it/s]\n",
      "100%|██████████| 64/64 [00:00<00:00, 190.00it/s]\n",
      "100%|██████████| 64/64 [00:00<00:00, 162.85it/s]\n",
      "100%|██████████| 64/64 [00:07<00:00,  8.64it/s]\n",
      "100%|██████████| 64/64 [00:00<00:00, 2982.32it/s]\n",
      "100%|██████████| 64/64 [00:00<00:00, 1421.33it/s]\n",
      "100%|██████████| 64/64 [00:00<00:00, 1444.71it/s]\n",
      "100%|██████████| 64/64 [00:00<00:00, 7805.63it/s]\n",
      "100%|██████████| 64/64 [00:00<00:00, 106226.93it/s]\n",
      " 16%|█▌        | 10/64 [00:00<00:00, 99.28it/s]"
     ]
    },
    {
     "name": "stdout",
     "output_type": "stream",
     "text": [
      "(1, 3329)\n",
      "(296, 3330)\n"
     ]
    },
    {
     "name": "stderr",
     "output_type": "stream",
     "text": [
      "100%|██████████| 64/64 [00:00<00:00, 101.66it/s]\n",
      "100%|██████████| 64/64 [00:00<00:00, 101.34it/s]\n",
      "100%|██████████| 64/64 [00:00<00:00, 110.23it/s]\n",
      "100%|██████████| 64/64 [00:00<00:00, 2462.01it/s]\n",
      "100%|██████████| 64/64 [00:00<00:00, 201.24it/s]\n",
      "100%|██████████| 64/64 [00:00<00:00, 166.92it/s]\n",
      "100%|██████████| 64/64 [00:07<00:00,  8.76it/s]\n",
      "100%|██████████| 64/64 [00:00<00:00, 2689.55it/s]\n",
      "100%|██████████| 64/64 [00:00<00:00, 1407.54it/s]\n",
      "100%|██████████| 64/64 [00:00<00:00, 1423.59it/s]\n",
      "100%|██████████| 64/64 [00:00<00:00, 7689.58it/s]\n",
      "100%|██████████| 64/64 [00:00<00:00, 232814.79it/s]\n",
      " 17%|█▋        | 11/64 [00:00<00:00, 103.49it/s]"
     ]
    },
    {
     "name": "stdout",
     "output_type": "stream",
     "text": [
      "(1, 3329)\n",
      "(297, 3330)\n"
     ]
    },
    {
     "name": "stderr",
     "output_type": "stream",
     "text": [
      "100%|██████████| 64/64 [00:00<00:00, 102.39it/s]\n",
      "100%|██████████| 64/64 [00:00<00:00, 104.25it/s]\n",
      "100%|██████████| 64/64 [00:00<00:00, 111.09it/s]\n",
      "100%|██████████| 64/64 [00:00<00:00, 2257.60it/s]\n",
      "100%|██████████| 64/64 [00:00<00:00, 201.28it/s]\n",
      "100%|██████████| 64/64 [00:00<00:00, 163.75it/s]\n",
      "100%|██████████| 64/64 [00:07<00:00,  8.58it/s]\n",
      "100%|██████████| 64/64 [00:00<00:00, 3374.55it/s]\n",
      "100%|██████████| 64/64 [00:00<00:00, 1481.67it/s]\n",
      "100%|██████████| 64/64 [00:00<00:00, 1467.63it/s]\n",
      "100%|██████████| 64/64 [00:00<00:00, 5242.68it/s]\n",
      "100%|██████████| 64/64 [00:00<00:00, 100162.48it/s]\n",
      " 17%|█▋        | 11/64 [00:00<00:00, 101.82it/s]"
     ]
    },
    {
     "name": "stdout",
     "output_type": "stream",
     "text": [
      "(1, 3329)\n",
      "(298, 3330)\n"
     ]
    },
    {
     "name": "stderr",
     "output_type": "stream",
     "text": [
      "100%|██████████| 64/64 [00:00<00:00, 100.05it/s]\n",
      "100%|██████████| 64/64 [00:00<00:00, 101.25it/s]\n",
      "100%|██████████| 64/64 [00:00<00:00, 108.15it/s]\n",
      "100%|██████████| 64/64 [00:00<00:00, 2341.82it/s]\n",
      "100%|██████████| 64/64 [00:00<00:00, 198.61it/s]\n",
      "100%|██████████| 64/64 [00:00<00:00, 163.72it/s]\n",
      "100%|██████████| 64/64 [00:07<00:00,  8.80it/s]\n",
      "100%|██████████| 64/64 [00:00<00:00, 3848.87it/s]\n",
      "100%|██████████| 64/64 [00:00<00:00, 1538.44it/s]\n",
      "100%|██████████| 64/64 [00:00<00:00, 1553.54it/s]\n",
      "100%|██████████| 64/64 [00:00<00:00, 5722.59it/s]\n",
      "100%|██████████| 64/64 [00:00<00:00, 107074.37it/s]\n",
      " 17%|█▋        | 11/64 [00:00<00:00, 109.06it/s]"
     ]
    },
    {
     "name": "stdout",
     "output_type": "stream",
     "text": [
      "(1, 3329)\n",
      "(299, 3330)\n"
     ]
    },
    {
     "name": "stderr",
     "output_type": "stream",
     "text": [
      "100%|██████████| 64/64 [00:00<00:00, 105.14it/s]\n",
      "100%|██████████| 64/64 [00:00<00:00, 104.64it/s]\n",
      "100%|██████████| 64/64 [00:00<00:00, 109.45it/s]\n",
      "100%|██████████| 64/64 [00:00<00:00, 2304.54it/s]\n",
      "100%|██████████| 64/64 [00:00<00:00, 202.37it/s]\n",
      "100%|██████████| 64/64 [00:00<00:00, 173.42it/s]\n",
      "100%|██████████| 64/64 [00:07<00:00,  8.80it/s]\n",
      "100%|██████████| 64/64 [00:00<00:00, 3944.80it/s]\n",
      "100%|██████████| 64/64 [00:00<00:00, 1489.30it/s]\n",
      "100%|██████████| 64/64 [00:00<00:00, 1248.48it/s]\n",
      "100%|██████████| 64/64 [00:00<00:00, 6801.00it/s]\n",
      "100%|██████████| 64/64 [00:00<00:00, 253002.31it/s]\n",
      " 14%|█▍        | 9/64 [00:00<00:00, 87.95it/s]"
     ]
    },
    {
     "name": "stdout",
     "output_type": "stream",
     "text": [
      "(1, 3329)\n",
      "(300, 3330)\n"
     ]
    },
    {
     "name": "stderr",
     "output_type": "stream",
     "text": [
      "100%|██████████| 64/64 [00:00<00:00, 99.57it/s]\n",
      "100%|██████████| 64/64 [00:00<00:00, 105.70it/s]\n",
      "100%|██████████| 64/64 [00:00<00:00, 111.80it/s]\n",
      "100%|██████████| 64/64 [00:00<00:00, 2466.67it/s]\n",
      "100%|██████████| 64/64 [00:00<00:00, 195.47it/s]\n",
      "100%|██████████| 64/64 [00:00<00:00, 166.45it/s]\n",
      "100%|██████████| 64/64 [00:07<00:00,  8.55it/s]\n",
      "100%|██████████| 64/64 [00:00<00:00, 3812.35it/s]\n",
      "100%|██████████| 64/64 [00:00<00:00, 1452.34it/s]\n",
      "100%|██████████| 64/64 [00:00<00:00, 1195.63it/s]\n",
      "100%|██████████| 64/64 [00:00<00:00, 7335.50it/s]\n",
      "100%|██████████| 64/64 [00:00<00:00, 179435.47it/s]\n",
      " 17%|█▋        | 11/64 [00:00<00:00, 105.28it/s]"
     ]
    },
    {
     "name": "stdout",
     "output_type": "stream",
     "text": [
      "(1, 3329)\n",
      "(301, 3330)\n"
     ]
    },
    {
     "name": "stderr",
     "output_type": "stream",
     "text": [
      "100%|██████████| 64/64 [00:00<00:00, 103.58it/s]\n",
      "100%|██████████| 64/64 [00:00<00:00, 100.88it/s]\n",
      "100%|██████████| 64/64 [00:00<00:00, 103.07it/s]\n",
      "100%|██████████| 64/64 [00:00<00:00, 1993.11it/s]\n",
      "100%|██████████| 64/64 [00:00<00:00, 202.76it/s]\n",
      "100%|██████████| 64/64 [00:00<00:00, 167.99it/s]\n",
      "100%|██████████| 64/64 [00:07<00:00,  8.54it/s]\n",
      "100%|██████████| 64/64 [00:00<00:00, 3757.07it/s]\n",
      "100%|██████████| 64/64 [00:00<00:00, 1436.17it/s]\n",
      "100%|██████████| 64/64 [00:00<00:00, 1454.67it/s]\n",
      "100%|██████████| 64/64 [00:00<00:00, 8034.58it/s]\n",
      "100%|██████████| 64/64 [00:00<00:00, 28369.84it/s]\n",
      " 17%|█▋        | 11/64 [00:00<00:00, 105.52it/s]"
     ]
    },
    {
     "name": "stdout",
     "output_type": "stream",
     "text": [
      "(1, 3329)\n",
      "(302, 3330)\n"
     ]
    },
    {
     "name": "stderr",
     "output_type": "stream",
     "text": [
      "100%|██████████| 64/64 [00:00<00:00, 104.09it/s]\n",
      "100%|██████████| 64/64 [00:00<00:00, 108.58it/s]\n",
      "100%|██████████| 64/64 [00:00<00:00, 108.19it/s]\n",
      "100%|██████████| 64/64 [00:00<00:00, 2342.59it/s]\n",
      "100%|██████████| 64/64 [00:00<00:00, 197.23it/s]\n",
      "100%|██████████| 64/64 [00:00<00:00, 164.21it/s]\n",
      "100%|██████████| 64/64 [00:07<00:00,  8.76it/s]\n",
      "100%|██████████| 64/64 [00:00<00:00, 3629.91it/s]\n",
      "100%|██████████| 64/64 [00:00<00:00, 1478.97it/s]\n",
      "100%|██████████| 64/64 [00:00<00:00, 1520.73it/s]\n",
      "100%|██████████| 64/64 [00:00<00:00, 8787.91it/s]\n",
      "100%|██████████| 64/64 [00:00<00:00, 271971.08it/s]\n",
      " 17%|█▋        | 11/64 [00:00<00:00, 107.09it/s]"
     ]
    },
    {
     "name": "stdout",
     "output_type": "stream",
     "text": [
      "(1, 3329)\n",
      "(303, 3330)\n"
     ]
    },
    {
     "name": "stderr",
     "output_type": "stream",
     "text": [
      "100%|██████████| 64/64 [00:00<00:00, 105.70it/s]\n",
      "100%|██████████| 64/64 [00:00<00:00, 107.49it/s]\n",
      "100%|██████████| 64/64 [00:00<00:00, 110.19it/s]\n",
      "100%|██████████| 64/64 [00:00<00:00, 2355.36it/s]\n",
      "100%|██████████| 64/64 [00:00<00:00, 210.84it/s]\n",
      "100%|██████████| 64/64 [00:00<00:00, 169.64it/s]\n",
      "100%|██████████| 64/64 [00:07<00:00,  8.76it/s]\n",
      "100%|██████████| 64/64 [00:00<00:00, 2489.99it/s]\n",
      "100%|██████████| 64/64 [00:00<00:00, 1356.69it/s]\n",
      "100%|██████████| 64/64 [00:00<00:00, 1415.99it/s]\n",
      "100%|██████████| 64/64 [00:00<00:00, 8466.93it/s]\n",
      "100%|██████████| 64/64 [00:00<00:00, 267632.56it/s]\n",
      " 14%|█▍        | 9/64 [00:00<00:00, 87.95it/s]"
     ]
    },
    {
     "name": "stdout",
     "output_type": "stream",
     "text": [
      "(1, 3329)\n",
      "(304, 3330)\n"
     ]
    },
    {
     "name": "stderr",
     "output_type": "stream",
     "text": [
      "100%|██████████| 64/64 [00:00<00:00, 96.78it/s]\n",
      "100%|██████████| 64/64 [00:00<00:00, 107.68it/s]\n",
      "100%|██████████| 64/64 [00:00<00:00, 109.85it/s]\n",
      "100%|██████████| 64/64 [00:00<00:00, 2134.59it/s]\n",
      "100%|██████████| 64/64 [00:00<00:00, 208.03it/s]\n",
      "100%|██████████| 64/64 [00:00<00:00, 169.18it/s]\n",
      "100%|██████████| 64/64 [00:07<00:00,  8.80it/s]\n",
      "100%|██████████| 64/64 [00:00<00:00, 3707.88it/s]\n",
      "100%|██████████| 64/64 [00:00<00:00, 1229.41it/s]\n",
      "100%|██████████| 64/64 [00:00<00:00, 1256.97it/s]\n",
      "100%|██████████| 64/64 [00:00<00:00, 5948.18it/s]\n",
      "100%|██████████| 64/64 [00:00<00:00, 44635.09it/s]\n",
      " 19%|█▉        | 12/64 [00:00<00:00, 112.79it/s]"
     ]
    },
    {
     "name": "stdout",
     "output_type": "stream",
     "text": [
      "(1, 3329)\n",
      "(305, 3330)\n"
     ]
    },
    {
     "name": "stderr",
     "output_type": "stream",
     "text": [
      "100%|██████████| 64/64 [00:00<00:00, 104.91it/s]\n",
      "100%|██████████| 64/64 [00:00<00:00, 104.82it/s]\n",
      "100%|██████████| 64/64 [00:00<00:00, 115.02it/s]\n",
      "100%|██████████| 64/64 [00:00<00:00, 2453.64it/s]\n",
      "100%|██████████| 64/64 [00:00<00:00, 201.89it/s]\n",
      "100%|██████████| 64/64 [00:00<00:00, 171.21it/s]\n",
      "100%|██████████| 64/64 [00:07<00:00,  8.89it/s]\n",
      "100%|██████████| 64/64 [00:00<00:00, 3351.25it/s]\n",
      "100%|██████████| 64/64 [00:00<00:00, 1536.32it/s]\n",
      "100%|██████████| 64/64 [00:00<00:00, 1463.35it/s]\n",
      "100%|██████████| 64/64 [00:00<00:00, 7634.90it/s]\n",
      "100%|██████████| 64/64 [00:00<00:00, 113792.05it/s]\n",
      " 17%|█▋        | 11/64 [00:00<00:00, 101.31it/s]"
     ]
    },
    {
     "name": "stdout",
     "output_type": "stream",
     "text": [
      "(1, 3329)\n",
      "(306, 3330)\n"
     ]
    },
    {
     "name": "stderr",
     "output_type": "stream",
     "text": [
      "100%|██████████| 64/64 [00:00<00:00, 102.72it/s]\n",
      "100%|██████████| 64/64 [00:00<00:00, 101.97it/s]\n",
      "100%|██████████| 64/64 [00:00<00:00, 105.72it/s]\n",
      "100%|██████████| 64/64 [00:00<00:00, 2353.73it/s]\n",
      "100%|██████████| 64/64 [00:00<00:00, 202.24it/s]\n",
      "100%|██████████| 64/64 [00:00<00:00, 167.66it/s]\n",
      "100%|██████████| 64/64 [00:07<00:00,  8.86it/s]\n",
      "100%|██████████| 64/64 [00:00<00:00, 3623.88it/s]\n",
      "100%|██████████| 64/64 [00:00<00:00, 1459.57it/s]\n",
      "100%|██████████| 64/64 [00:00<00:00, 1484.63it/s]\n",
      "100%|██████████| 64/64 [00:00<00:00, 7178.95it/s]\n",
      "100%|██████████| 64/64 [00:00<00:00, 208899.19it/s]\n",
      " 17%|█▋        | 11/64 [00:00<00:00, 102.60it/s]"
     ]
    },
    {
     "name": "stdout",
     "output_type": "stream",
     "text": [
      "(1, 3329)\n",
      "(307, 3330)\n"
     ]
    },
    {
     "name": "stderr",
     "output_type": "stream",
     "text": [
      "100%|██████████| 64/64 [00:00<00:00, 103.47it/s]\n",
      "100%|██████████| 64/64 [00:00<00:00, 105.52it/s]\n",
      "100%|██████████| 64/64 [00:00<00:00, 112.48it/s]\n",
      "100%|██████████| 64/64 [00:00<00:00, 2415.88it/s]\n",
      "100%|██████████| 64/64 [00:00<00:00, 203.37it/s]\n",
      "100%|██████████| 64/64 [00:00<00:00, 155.78it/s]\n",
      "100%|██████████| 64/64 [00:07<00:00,  8.74it/s]\n",
      "100%|██████████| 64/64 [00:00<00:00, 3709.21it/s]\n",
      "100%|██████████| 64/64 [00:00<00:00, 1430.91it/s]\n",
      "100%|██████████| 64/64 [00:00<00:00, 1301.73it/s]\n",
      "100%|██████████| 64/64 [00:00<00:00, 7380.28it/s]\n",
      "100%|██████████| 64/64 [00:00<00:00, 328965.02it/s]\n",
      " 17%|█▋        | 11/64 [00:00<00:00, 104.09it/s]"
     ]
    },
    {
     "name": "stdout",
     "output_type": "stream",
     "text": [
      "(1, 3329)\n",
      "(308, 3330)\n"
     ]
    },
    {
     "name": "stderr",
     "output_type": "stream",
     "text": [
      "100%|██████████| 64/64 [00:00<00:00, 104.51it/s]\n",
      "100%|██████████| 64/64 [00:00<00:00, 113.20it/s]\n",
      "100%|██████████| 64/64 [00:00<00:00, 118.80it/s]\n",
      "100%|██████████| 64/64 [00:00<00:00, 2502.10it/s]\n",
      "100%|██████████| 64/64 [00:00<00:00, 209.47it/s]\n",
      "100%|██████████| 64/64 [00:00<00:00, 144.49it/s]\n",
      "100%|██████████| 64/64 [00:07<00:00,  9.03it/s]\n",
      "100%|██████████| 64/64 [00:00<00:00, 3539.36it/s]\n",
      "100%|██████████| 64/64 [00:00<00:00, 1470.77it/s]\n",
      "100%|██████████| 64/64 [00:00<00:00, 1494.88it/s]\n",
      "100%|██████████| 64/64 [00:00<00:00, 7428.89it/s]\n",
      "100%|██████████| 64/64 [00:00<00:00, 89777.74it/s]\n",
      " 16%|█▌        | 10/64 [00:00<00:00, 99.59it/s]"
     ]
    },
    {
     "name": "stdout",
     "output_type": "stream",
     "text": [
      "(1, 3329)\n",
      "(309, 3330)\n"
     ]
    },
    {
     "name": "stderr",
     "output_type": "stream",
     "text": [
      "100%|██████████| 64/64 [00:00<00:00, 101.43it/s]\n",
      "100%|██████████| 64/64 [00:00<00:00, 105.34it/s]\n",
      "100%|██████████| 64/64 [00:00<00:00, 103.88it/s]\n",
      "100%|██████████| 64/64 [00:00<00:00, 2345.68it/s]\n",
      "100%|██████████| 64/64 [00:00<00:00, 202.23it/s]\n",
      "100%|██████████| 64/64 [00:00<00:00, 161.97it/s]\n",
      "100%|██████████| 64/64 [00:07<00:00,  8.81it/s]\n",
      "100%|██████████| 64/64 [00:00<00:00, 3670.76it/s]\n",
      "100%|██████████| 64/64 [00:00<00:00, 1434.76it/s]\n",
      "100%|██████████| 64/64 [00:00<00:00, 1283.35it/s]\n",
      "100%|██████████| 64/64 [00:00<00:00, 6075.12it/s]\n",
      "100%|██████████| 64/64 [00:00<00:00, 104775.74it/s]\n",
      " 19%|█▉        | 12/64 [00:00<00:00, 111.57it/s]"
     ]
    },
    {
     "name": "stdout",
     "output_type": "stream",
     "text": [
      "(1, 3329)\n",
      "(310, 3330)\n"
     ]
    },
    {
     "name": "stderr",
     "output_type": "stream",
     "text": [
      "100%|██████████| 64/64 [00:00<00:00, 101.70it/s]\n",
      "100%|██████████| 64/64 [00:00<00:00, 106.13it/s]\n",
      "100%|██████████| 64/64 [00:00<00:00, 109.44it/s]\n",
      "100%|██████████| 64/64 [00:00<00:00, 2345.99it/s]\n",
      "100%|██████████| 64/64 [00:00<00:00, 196.82it/s]\n",
      "100%|██████████| 64/64 [00:00<00:00, 160.81it/s]\n",
      "100%|██████████| 64/64 [00:07<00:00,  8.75it/s]\n",
      "100%|██████████| 64/64 [00:00<00:00, 3795.11it/s]\n",
      "100%|██████████| 64/64 [00:00<00:00, 1519.90it/s]\n",
      "100%|██████████| 64/64 [00:00<00:00, 1553.66it/s]\n",
      "100%|██████████| 64/64 [00:00<00:00, 8070.09it/s]\n",
      "100%|██████████| 64/64 [00:00<00:00, 281378.88it/s]\n",
      " 17%|█▋        | 11/64 [00:00<00:00, 102.06it/s]"
     ]
    },
    {
     "name": "stdout",
     "output_type": "stream",
     "text": [
      "(1, 3329)\n",
      "(311, 3330)\n"
     ]
    },
    {
     "name": "stderr",
     "output_type": "stream",
     "text": [
      "100%|██████████| 64/64 [00:00<00:00, 103.73it/s]\n",
      "100%|██████████| 64/64 [00:00<00:00, 108.17it/s]\n",
      "100%|██████████| 64/64 [00:00<00:00, 109.60it/s]\n",
      "100%|██████████| 64/64 [00:00<00:00, 2425.35it/s]\n",
      "100%|██████████| 64/64 [00:00<00:00, 204.32it/s]\n",
      "100%|██████████| 64/64 [00:00<00:00, 166.33it/s]\n",
      "100%|██████████| 64/64 [00:07<00:00,  8.94it/s]\n",
      "100%|██████████| 64/64 [00:00<00:00, 3682.24it/s]\n",
      "100%|██████████| 64/64 [00:00<00:00, 1474.17it/s]\n",
      "100%|██████████| 64/64 [00:00<00:00, 1255.70it/s]\n",
      "100%|██████████| 64/64 [00:00<00:00, 7986.77it/s]\n",
      "100%|██████████| 64/64 [00:00<00:00, 245595.11it/s]\n",
      " 17%|█▋        | 11/64 [00:00<00:00, 108.57it/s]"
     ]
    },
    {
     "name": "stdout",
     "output_type": "stream",
     "text": [
      "(1, 3329)\n",
      "(312, 3330)\n"
     ]
    },
    {
     "name": "stderr",
     "output_type": "stream",
     "text": [
      "100%|██████████| 64/64 [00:00<00:00, 106.25it/s]\n",
      "100%|██████████| 64/64 [00:00<00:00, 112.46it/s]\n",
      "100%|██████████| 64/64 [00:00<00:00, 116.80it/s]\n",
      "100%|██████████| 64/64 [00:00<00:00, 2574.48it/s]\n",
      "100%|██████████| 64/64 [00:00<00:00, 212.26it/s]\n",
      "100%|██████████| 64/64 [00:00<00:00, 174.14it/s]\n",
      "100%|██████████| 64/64 [00:07<00:00,  9.14it/s]\n",
      "100%|██████████| 64/64 [00:00<00:00, 3653.23it/s]\n",
      "100%|██████████| 64/64 [00:00<00:00, 1417.41it/s]\n",
      "100%|██████████| 64/64 [00:00<00:00, 1325.30it/s]\n",
      "100%|██████████| 64/64 [00:00<00:00, 7828.62it/s]\n",
      "100%|██████████| 64/64 [00:00<00:00, 29869.31it/s]\n",
      " 17%|█▋        | 11/64 [00:00<00:00, 105.02it/s]"
     ]
    },
    {
     "name": "stdout",
     "output_type": "stream",
     "text": [
      "(1, 3329)\n",
      "(313, 3330)\n"
     ]
    },
    {
     "name": "stderr",
     "output_type": "stream",
     "text": [
      "100%|██████████| 64/64 [00:00<00:00, 96.09it/s]\n",
      "100%|██████████| 64/64 [00:00<00:00, 103.18it/s]\n",
      "100%|██████████| 64/64 [00:00<00:00, 100.06it/s]\n",
      "100%|██████████| 64/64 [00:00<00:00, 2425.18it/s]\n",
      "100%|██████████| 64/64 [00:00<00:00, 200.06it/s]\n",
      "100%|██████████| 64/64 [00:00<00:00, 160.39it/s]\n",
      "100%|██████████| 64/64 [00:07<00:00,  8.63it/s]\n",
      "100%|██████████| 64/64 [00:00<00:00, 2699.53it/s]\n",
      "100%|██████████| 64/64 [00:00<00:00, 1432.24it/s]\n",
      "100%|██████████| 64/64 [00:00<00:00, 1520.47it/s]\n",
      "100%|██████████| 64/64 [00:00<00:00, 8564.99it/s]\n",
      "100%|██████████| 64/64 [00:00<00:00, 149048.00it/s]\n",
      " 17%|█▋        | 11/64 [00:00<00:00, 103.46it/s]"
     ]
    },
    {
     "name": "stdout",
     "output_type": "stream",
     "text": [
      "(1, 3329)\n",
      "(314, 3330)\n"
     ]
    },
    {
     "name": "stderr",
     "output_type": "stream",
     "text": [
      "100%|██████████| 64/64 [00:00<00:00, 100.48it/s]\n",
      "100%|██████████| 64/64 [00:00<00:00, 104.85it/s]\n",
      "100%|██████████| 64/64 [00:00<00:00, 113.09it/s]\n",
      "100%|██████████| 64/64 [00:00<00:00, 2196.11it/s]\n",
      "100%|██████████| 64/64 [00:00<00:00, 210.08it/s]\n",
      "100%|██████████| 64/64 [00:00<00:00, 169.72it/s]\n",
      "100%|██████████| 64/64 [00:07<00:00,  9.00it/s]\n",
      "100%|██████████| 64/64 [00:00<00:00, 3930.47it/s]\n",
      "100%|██████████| 64/64 [00:00<00:00, 1342.99it/s]\n",
      "100%|██████████| 64/64 [00:00<00:00, 1308.27it/s]\n",
      "100%|██████████| 64/64 [00:00<00:00, 7741.02it/s]\n",
      "100%|██████████| 64/64 [00:00<00:00, 27016.45it/s]\n",
      " 17%|█▋        | 11/64 [00:00<00:00, 105.26it/s]"
     ]
    },
    {
     "name": "stdout",
     "output_type": "stream",
     "text": [
      "(1, 3329)\n",
      "(315, 3330)\n"
     ]
    },
    {
     "name": "stderr",
     "output_type": "stream",
     "text": [
      "100%|██████████| 64/64 [00:00<00:00, 101.45it/s]\n",
      "100%|██████████| 64/64 [00:00<00:00, 109.29it/s]\n",
      "100%|██████████| 64/64 [00:00<00:00, 106.03it/s]\n",
      "100%|██████████| 64/64 [00:00<00:00, 2439.81it/s]\n",
      "100%|██████████| 64/64 [00:00<00:00, 199.18it/s]\n",
      "100%|██████████| 64/64 [00:00<00:00, 162.32it/s]\n",
      "100%|██████████| 64/64 [00:07<00:00,  9.11it/s]\n",
      "100%|██████████| 64/64 [00:00<00:00, 3282.73it/s]\n",
      "100%|██████████| 64/64 [00:00<00:00, 1636.92it/s]\n",
      "100%|██████████| 64/64 [00:00<00:00, 1562.95it/s]\n",
      "100%|██████████| 64/64 [00:00<00:00, 7995.58it/s]\n",
      "100%|██████████| 64/64 [00:00<00:00, 273634.51it/s]\n",
      " 19%|█▉        | 12/64 [00:00<00:00, 112.50it/s]"
     ]
    },
    {
     "name": "stdout",
     "output_type": "stream",
     "text": [
      "(1, 3329)\n",
      "(316, 3330)\n"
     ]
    },
    {
     "name": "stderr",
     "output_type": "stream",
     "text": [
      "100%|██████████| 64/64 [00:00<00:00, 107.71it/s]\n",
      "100%|██████████| 64/64 [00:00<00:00, 111.46it/s]\n",
      "100%|██████████| 64/64 [00:00<00:00, 113.36it/s]\n",
      "100%|██████████| 64/64 [00:00<00:00, 2492.81it/s]\n",
      "100%|██████████| 64/64 [00:00<00:00, 207.81it/s]\n",
      "100%|██████████| 64/64 [00:00<00:00, 171.04it/s]\n",
      "100%|██████████| 64/64 [00:07<00:00,  8.83it/s]\n",
      "100%|██████████| 64/64 [00:00<00:00, 4207.85it/s]\n",
      "100%|██████████| 64/64 [00:00<00:00, 1547.51it/s]\n",
      "100%|██████████| 64/64 [00:00<00:00, 1475.26it/s]\n",
      "100%|██████████| 64/64 [00:00<00:00, 7963.55it/s]\n",
      "100%|██████████| 64/64 [00:00<00:00, 33209.88it/s]\n",
      " 17%|█▋        | 11/64 [00:00<00:00, 105.37it/s]"
     ]
    },
    {
     "name": "stdout",
     "output_type": "stream",
     "text": [
      "(1, 3329)\n",
      "(317, 3330)\n"
     ]
    },
    {
     "name": "stderr",
     "output_type": "stream",
     "text": [
      "100%|██████████| 64/64 [00:00<00:00, 104.80it/s]\n",
      "100%|██████████| 64/64 [00:00<00:00, 108.84it/s]\n",
      "100%|██████████| 64/64 [00:00<00:00, 113.16it/s]\n",
      "100%|██████████| 64/64 [00:00<00:00, 2535.40it/s]\n",
      "100%|██████████| 64/64 [00:00<00:00, 206.94it/s]\n",
      "100%|██████████| 64/64 [00:00<00:00, 169.55it/s]\n",
      "100%|██████████| 64/64 [00:07<00:00,  8.98it/s]\n",
      "100%|██████████| 64/64 [00:00<00:00, 3585.02it/s]\n",
      "100%|██████████| 64/64 [00:00<00:00, 976.37it/s]\n",
      "100%|██████████| 64/64 [00:00<00:00, 1403.59it/s]\n",
      "100%|██████████| 64/64 [00:00<00:00, 7276.25it/s]\n",
      "100%|██████████| 64/64 [00:00<00:00, 165496.58it/s]\n",
      " 17%|█▋        | 11/64 [00:00<00:00, 109.56it/s]"
     ]
    },
    {
     "name": "stdout",
     "output_type": "stream",
     "text": [
      "(1, 3329)\n",
      "(318, 3330)\n"
     ]
    },
    {
     "name": "stderr",
     "output_type": "stream",
     "text": [
      "100%|██████████| 64/64 [00:00<00:00, 107.09it/s]\n",
      "100%|██████████| 64/64 [00:00<00:00, 112.00it/s]\n",
      "100%|██████████| 64/64 [00:00<00:00, 109.78it/s]\n",
      "100%|██████████| 64/64 [00:00<00:00, 2342.72it/s]\n",
      "100%|██████████| 64/64 [00:00<00:00, 210.27it/s]\n",
      "100%|██████████| 64/64 [00:00<00:00, 169.34it/s]\n",
      "100%|██████████| 64/64 [00:07<00:00,  8.81it/s]\n",
      "100%|██████████| 64/64 [00:00<00:00, 3737.35it/s]\n",
      "100%|██████████| 64/64 [00:00<00:00, 1392.42it/s]\n",
      "100%|██████████| 64/64 [00:00<00:00, 1467.36it/s]\n",
      "100%|██████████| 64/64 [00:00<00:00, 6546.57it/s]\n",
      "100%|██████████| 64/64 [00:00<00:00, 102770.08it/s]\n",
      " 17%|█▋        | 11/64 [00:00<00:00, 103.88it/s]"
     ]
    },
    {
     "name": "stdout",
     "output_type": "stream",
     "text": [
      "(1, 3329)\n",
      "(319, 3330)\n"
     ]
    },
    {
     "name": "stderr",
     "output_type": "stream",
     "text": [
      "100%|██████████| 64/64 [00:00<00:00, 103.91it/s]\n",
      "100%|██████████| 64/64 [00:00<00:00, 107.68it/s]\n",
      "100%|██████████| 64/64 [00:00<00:00, 112.72it/s]\n",
      "100%|██████████| 64/64 [00:00<00:00, 2368.74it/s]\n",
      "100%|██████████| 64/64 [00:00<00:00, 203.80it/s]\n",
      "100%|██████████| 64/64 [00:00<00:00, 170.28it/s]\n",
      "100%|██████████| 64/64 [00:07<00:00,  8.81it/s]\n",
      "100%|██████████| 64/64 [00:00<00:00, 3265.80it/s]\n",
      "100%|██████████| 64/64 [00:00<00:00, 1482.90it/s]\n",
      "100%|██████████| 64/64 [00:00<00:00, 1415.93it/s]\n",
      "100%|██████████| 64/64 [00:00<00:00, 7981.79it/s]\n",
      "100%|██████████| 64/64 [00:00<00:00, 122966.31it/s]\n",
      " 17%|█▋        | 11/64 [00:00<00:00, 102.28it/s]"
     ]
    },
    {
     "name": "stdout",
     "output_type": "stream",
     "text": [
      "(1, 3329)\n",
      "(320, 3330)\n"
     ]
    },
    {
     "name": "stderr",
     "output_type": "stream",
     "text": [
      "100%|██████████| 64/64 [00:00<00:00, 106.37it/s]\n",
      "100%|██████████| 64/64 [00:00<00:00, 106.22it/s]\n",
      "100%|██████████| 64/64 [00:00<00:00, 117.98it/s]\n",
      "100%|██████████| 64/64 [00:00<00:00, 2541.55it/s]\n",
      "100%|██████████| 64/64 [00:00<00:00, 206.21it/s]\n",
      "100%|██████████| 64/64 [00:00<00:00, 168.02it/s]\n",
      "100%|██████████| 64/64 [00:07<00:00,  8.95it/s]\n",
      "100%|██████████| 64/64 [00:00<00:00, 3761.34it/s]\n",
      "100%|██████████| 64/64 [00:00<00:00, 1484.04it/s]\n",
      "100%|██████████| 64/64 [00:00<00:00, 1478.04it/s]\n",
      "100%|██████████| 64/64 [00:00<00:00, 7728.76it/s]\n",
      "100%|██████████| 64/64 [00:00<00:00, 95528.63it/s]\n",
      " 17%|█▋        | 11/64 [00:00<00:00, 107.45it/s]"
     ]
    },
    {
     "name": "stdout",
     "output_type": "stream",
     "text": [
      "(1, 3329)\n",
      "(321, 3330)\n"
     ]
    },
    {
     "name": "stderr",
     "output_type": "stream",
     "text": [
      "100%|██████████| 64/64 [00:00<00:00, 104.26it/s]\n",
      "100%|██████████| 64/64 [00:00<00:00, 106.07it/s]\n",
      "100%|██████████| 64/64 [00:00<00:00, 107.01it/s]\n",
      "100%|██████████| 64/64 [00:00<00:00, 2269.86it/s]\n",
      "100%|██████████| 64/64 [00:00<00:00, 196.75it/s]\n",
      "100%|██████████| 64/64 [00:00<00:00, 162.12it/s]\n",
      "100%|██████████| 64/64 [00:07<00:00,  8.90it/s]\n",
      "100%|██████████| 64/64 [00:00<00:00, 3602.68it/s]\n",
      "100%|██████████| 64/64 [00:00<00:00, 1551.28it/s]\n",
      "100%|██████████| 64/64 [00:00<00:00, 1498.00it/s]\n",
      "100%|██████████| 64/64 [00:00<00:00, 7808.80it/s]\n",
      "100%|██████████| 64/64 [00:00<00:00, 275884.33it/s]\n",
      " 19%|█▉        | 12/64 [00:00<00:00, 117.01it/s]"
     ]
    },
    {
     "name": "stdout",
     "output_type": "stream",
     "text": [
      "(1, 3329)\n",
      "(322, 3330)\n"
     ]
    },
    {
     "name": "stderr",
     "output_type": "stream",
     "text": [
      "100%|██████████| 64/64 [00:00<00:00, 106.17it/s]\n",
      "100%|██████████| 64/64 [00:00<00:00, 109.69it/s]\n",
      "100%|██████████| 64/64 [00:00<00:00, 114.93it/s]\n",
      "100%|██████████| 64/64 [00:00<00:00, 2470.03it/s]\n",
      "100%|██████████| 64/64 [00:00<00:00, 205.61it/s]\n",
      "100%|██████████| 64/64 [00:00<00:00, 165.43it/s]\n",
      "100%|██████████| 64/64 [00:07<00:00,  8.94it/s]\n",
      "100%|██████████| 64/64 [00:00<00:00, 3896.75it/s]\n",
      "100%|██████████| 64/64 [00:00<00:00, 1406.40it/s]\n",
      "100%|██████████| 64/64 [00:00<00:00, 1493.45it/s]\n",
      "100%|██████████| 64/64 [00:00<00:00, 8289.91it/s]\n",
      "100%|██████████| 64/64 [00:00<00:00, 27962.03it/s]\n",
      " 16%|█▌        | 10/64 [00:00<00:00, 91.47it/s]"
     ]
    },
    {
     "name": "stdout",
     "output_type": "stream",
     "text": [
      "(1, 3329)\n",
      "(323, 3330)\n"
     ]
    },
    {
     "name": "stderr",
     "output_type": "stream",
     "text": [
      "100%|██████████| 64/64 [00:00<00:00, 100.23it/s]\n",
      "100%|██████████| 64/64 [00:00<00:00, 110.11it/s]\n",
      "100%|██████████| 64/64 [00:00<00:00, 111.11it/s]\n",
      "100%|██████████| 64/64 [00:00<00:00, 2383.15it/s]\n",
      "100%|██████████| 64/64 [00:00<00:00, 212.61it/s]\n",
      "100%|██████████| 64/64 [00:00<00:00, 160.17it/s]\n",
      "100%|██████████| 64/64 [00:07<00:00,  8.81it/s]\n",
      "100%|██████████| 64/64 [00:00<00:00, 4001.78it/s]\n",
      "100%|██████████| 64/64 [00:00<00:00, 1565.00it/s]\n",
      "100%|██████████| 64/64 [00:00<00:00, 1445.71it/s]\n",
      "100%|██████████| 64/64 [00:00<00:00, 7582.49it/s]\n",
      "100%|██████████| 64/64 [00:00<00:00, 101757.19it/s]\n",
      " 17%|█▋        | 11/64 [00:00<00:00, 108.47it/s]"
     ]
    },
    {
     "name": "stdout",
     "output_type": "stream",
     "text": [
      "(1, 3329)\n",
      "(324, 3330)\n"
     ]
    },
    {
     "name": "stderr",
     "output_type": "stream",
     "text": [
      "100%|██████████| 64/64 [00:00<00:00, 105.68it/s]\n",
      "100%|██████████| 64/64 [00:00<00:00, 110.98it/s]\n",
      "100%|██████████| 64/64 [00:00<00:00, 114.44it/s]\n",
      "100%|██████████| 64/64 [00:00<00:00, 2569.84it/s]\n",
      "100%|██████████| 64/64 [00:00<00:00, 217.83it/s]\n",
      "100%|██████████| 64/64 [00:00<00:00, 170.05it/s]\n",
      "100%|██████████| 64/64 [00:07<00:00,  9.08it/s]\n",
      "100%|██████████| 64/64 [00:00<00:00, 3632.12it/s]\n",
      "100%|██████████| 64/64 [00:00<00:00, 1368.21it/s]\n",
      "100%|██████████| 64/64 [00:00<00:00, 1182.08it/s]\n",
      "100%|██████████| 64/64 [00:00<00:00, 7568.60it/s]\n",
      "100%|██████████| 64/64 [00:00<00:00, 101603.12it/s]\n",
      " 19%|█▉        | 12/64 [00:00<00:00, 112.30it/s]"
     ]
    },
    {
     "name": "stdout",
     "output_type": "stream",
     "text": [
      "(1, 3329)\n",
      "(325, 3330)\n"
     ]
    },
    {
     "name": "stderr",
     "output_type": "stream",
     "text": [
      "100%|██████████| 64/64 [00:00<00:00, 106.51it/s]\n",
      "100%|██████████| 64/64 [00:00<00:00, 109.65it/s]\n",
      "100%|██████████| 64/64 [00:00<00:00, 115.14it/s]\n",
      "100%|██████████| 64/64 [00:00<00:00, 2337.68it/s]\n",
      "100%|██████████| 64/64 [00:00<00:00, 214.55it/s]\n",
      "100%|██████████| 64/64 [00:00<00:00, 159.42it/s]\n",
      "100%|██████████| 64/64 [00:07<00:00,  9.02it/s]\n",
      "100%|██████████| 64/64 [00:00<00:00, 4002.97it/s]\n",
      "100%|██████████| 64/64 [00:00<00:00, 1605.33it/s]\n",
      "100%|██████████| 64/64 [00:00<00:00, 1578.09it/s]\n",
      "100%|██████████| 64/64 [00:00<00:00, 7576.50it/s]\n",
      "100%|██████████| 64/64 [00:00<00:00, 27753.87it/s]\n",
      " 17%|█▋        | 11/64 [00:00<00:00, 107.96it/s]"
     ]
    },
    {
     "name": "stdout",
     "output_type": "stream",
     "text": [
      "(1, 3329)\n",
      "(326, 3330)\n"
     ]
    },
    {
     "name": "stderr",
     "output_type": "stream",
     "text": [
      "100%|██████████| 64/64 [00:00<00:00, 105.52it/s]\n",
      "100%|██████████| 64/64 [00:00<00:00, 109.49it/s]\n",
      "100%|██████████| 64/64 [00:00<00:00, 116.57it/s]\n",
      "100%|██████████| 64/64 [00:00<00:00, 2431.63it/s]\n",
      "100%|██████████| 64/64 [00:00<00:00, 216.64it/s]\n",
      "100%|██████████| 64/64 [00:00<00:00, 177.66it/s]\n",
      "100%|██████████| 64/64 [00:06<00:00,  9.17it/s]\n",
      "100%|██████████| 64/64 [00:00<00:00, 3730.50it/s]\n",
      "100%|██████████| 64/64 [00:00<00:00, 1467.84it/s]\n",
      "100%|██████████| 64/64 [00:00<00:00, 1154.70it/s]\n",
      "100%|██████████| 64/64 [00:00<00:00, 8865.99it/s]\n",
      "100%|██████████| 64/64 [00:00<00:00, 46904.68it/s]\n",
      " 17%|█▋        | 11/64 [00:00<00:00, 108.41it/s]"
     ]
    },
    {
     "name": "stdout",
     "output_type": "stream",
     "text": [
      "(1, 3329)\n",
      "(327, 3330)\n"
     ]
    },
    {
     "name": "stderr",
     "output_type": "stream",
     "text": [
      "100%|██████████| 64/64 [00:00<00:00, 102.88it/s]\n",
      "100%|██████████| 64/64 [00:00<00:00, 101.42it/s]\n",
      "100%|██████████| 64/64 [00:00<00:00, 109.29it/s]\n",
      "100%|██████████| 64/64 [00:00<00:00, 2097.76it/s]\n",
      "100%|██████████| 64/64 [00:00<00:00, 201.02it/s]\n",
      "100%|██████████| 64/64 [00:00<00:00, 177.53it/s]\n",
      "100%|██████████| 64/64 [00:07<00:00,  9.08it/s]\n",
      "100%|██████████| 64/64 [00:00<00:00, 3699.19it/s]\n",
      "100%|██████████| 64/64 [00:00<00:00, 1490.85it/s]\n",
      "100%|██████████| 64/64 [00:00<00:00, 1434.82it/s]\n",
      "100%|██████████| 64/64 [00:00<00:00, 7839.59it/s]\n",
      "100%|██████████| 64/64 [00:00<00:00, 90260.75it/s]\n",
      " 19%|█▉        | 12/64 [00:00<00:00, 111.51it/s]"
     ]
    },
    {
     "name": "stdout",
     "output_type": "stream",
     "text": [
      "(1, 3329)\n",
      "(328, 3330)\n"
     ]
    },
    {
     "name": "stderr",
     "output_type": "stream",
     "text": [
      "100%|██████████| 64/64 [00:00<00:00, 107.81it/s]\n",
      "100%|██████████| 64/64 [00:00<00:00, 112.12it/s]\n",
      "100%|██████████| 64/64 [00:00<00:00, 113.98it/s]\n",
      "100%|██████████| 64/64 [00:00<00:00, 2498.47it/s]\n",
      "100%|██████████| 64/64 [00:00<00:00, 210.50it/s]\n",
      "100%|██████████| 64/64 [00:00<00:00, 159.78it/s]\n",
      "100%|██████████| 64/64 [00:07<00:00,  8.93it/s]\n",
      "100%|██████████| 64/64 [00:00<00:00, 3908.15it/s]\n",
      "100%|██████████| 64/64 [00:00<00:00, 1275.67it/s]\n",
      "100%|██████████| 64/64 [00:00<00:00, 1468.18it/s]\n",
      "100%|██████████| 64/64 [00:00<00:00, 8497.21it/s]\n",
      "100%|██████████| 64/64 [00:00<00:00, 84201.84it/s]\n",
      " 19%|█▉        | 12/64 [00:00<00:00, 111.34it/s]"
     ]
    },
    {
     "name": "stdout",
     "output_type": "stream",
     "text": [
      "(1, 3329)\n",
      "(329, 3330)\n"
     ]
    },
    {
     "name": "stderr",
     "output_type": "stream",
     "text": [
      "100%|██████████| 64/64 [00:00<00:00, 104.65it/s]\n",
      "100%|██████████| 64/64 [00:00<00:00, 109.11it/s]\n",
      "100%|██████████| 64/64 [00:00<00:00, 106.83it/s]\n",
      "100%|██████████| 64/64 [00:00<00:00, 2349.15it/s]\n",
      "100%|██████████| 64/64 [00:00<00:00, 207.15it/s]\n",
      "100%|██████████| 64/64 [00:00<00:00, 167.15it/s]\n",
      "100%|██████████| 64/64 [00:07<00:00,  8.98it/s]\n",
      "100%|██████████| 64/64 [00:00<00:00, 4004.35it/s]\n",
      "100%|██████████| 64/64 [00:00<00:00, 1492.83it/s]\n",
      "100%|██████████| 64/64 [00:00<00:00, 1529.97it/s]\n",
      "100%|██████████| 64/64 [00:00<00:00, 6775.08it/s]\n",
      "100%|██████████| 64/64 [00:00<00:00, 110695.03it/s]\n",
      " 19%|█▉        | 12/64 [00:00<00:00, 111.14it/s]"
     ]
    },
    {
     "name": "stdout",
     "output_type": "stream",
     "text": [
      "(1, 3329)\n",
      "(330, 3330)\n"
     ]
    },
    {
     "name": "stderr",
     "output_type": "stream",
     "text": [
      "100%|██████████| 64/64 [00:00<00:00, 108.22it/s]\n",
      "100%|██████████| 64/64 [00:00<00:00, 106.50it/s]\n",
      "100%|██████████| 64/64 [00:00<00:00, 108.77it/s]\n",
      "100%|██████████| 64/64 [00:00<00:00, 2291.70it/s]\n",
      "100%|██████████| 64/64 [00:00<00:00, 212.77it/s]\n",
      "100%|██████████| 64/64 [00:00<00:00, 176.11it/s]\n",
      "100%|██████████| 64/64 [00:07<00:00,  8.94it/s]\n",
      "100%|██████████| 64/64 [00:00<00:00, 3563.84it/s]\n",
      "100%|██████████| 64/64 [00:00<00:00, 1374.15it/s]\n",
      "100%|██████████| 64/64 [00:00<00:00, 1252.17it/s]\n",
      "100%|██████████| 64/64 [00:00<00:00, 8925.53it/s]\n",
      "100%|██████████| 64/64 [00:00<00:00, 239888.70it/s]\n",
      " 17%|█▋        | 11/64 [00:00<00:00, 101.65it/s]"
     ]
    },
    {
     "name": "stdout",
     "output_type": "stream",
     "text": [
      "(1, 3329)\n",
      "(331, 3330)\n"
     ]
    },
    {
     "name": "stderr",
     "output_type": "stream",
     "text": [
      "100%|██████████| 64/64 [00:00<00:00, 105.32it/s]\n",
      "100%|██████████| 64/64 [00:00<00:00, 103.28it/s]\n",
      "100%|██████████| 64/64 [00:00<00:00, 115.82it/s]\n",
      "100%|██████████| 64/64 [00:00<00:00, 2536.93it/s]\n",
      "100%|██████████| 64/64 [00:00<00:00, 209.72it/s]\n",
      "100%|██████████| 64/64 [00:00<00:00, 173.40it/s]\n",
      "100%|██████████| 64/64 [00:07<00:00,  9.08it/s]\n",
      "100%|██████████| 64/64 [00:00<00:00, 4018.86it/s]\n",
      "100%|██████████| 64/64 [00:00<00:00, 1549.70it/s]\n",
      "100%|██████████| 64/64 [00:00<00:00, 1456.66it/s]\n",
      "100%|██████████| 64/64 [00:00<00:00, 7849.45it/s]\n",
      "100%|██████████| 64/64 [00:00<00:00, 24429.87it/s]\n",
      " 19%|█▉        | 12/64 [00:00<00:00, 113.78it/s]"
     ]
    },
    {
     "name": "stdout",
     "output_type": "stream",
     "text": [
      "(1, 3329)\n",
      "(332, 3330)\n"
     ]
    },
    {
     "name": "stderr",
     "output_type": "stream",
     "text": [
      "100%|██████████| 64/64 [00:00<00:00, 108.02it/s]\n",
      "100%|██████████| 64/64 [00:00<00:00, 111.40it/s]\n",
      "100%|██████████| 64/64 [00:00<00:00, 112.86it/s]\n",
      "100%|██████████| 64/64 [00:00<00:00, 2453.86it/s]\n",
      "100%|██████████| 64/64 [00:00<00:00, 216.99it/s]\n",
      "100%|██████████| 64/64 [00:00<00:00, 167.54it/s]\n",
      "100%|██████████| 64/64 [00:07<00:00,  8.91it/s]\n",
      "100%|██████████| 64/64 [00:00<00:00, 4132.64it/s]\n",
      "100%|██████████| 64/64 [00:00<00:00, 1586.12it/s]\n",
      "100%|██████████| 64/64 [00:00<00:00, 1554.79it/s]\n",
      "100%|██████████| 64/64 [00:00<00:00, 7242.48it/s]\n",
      "100%|██████████| 64/64 [00:00<00:00, 210868.39it/s]\n",
      " 19%|█▉        | 12/64 [00:00<00:00, 111.99it/s]"
     ]
    },
    {
     "name": "stdout",
     "output_type": "stream",
     "text": [
      "(1, 3329)\n",
      "(333, 3330)\n"
     ]
    },
    {
     "name": "stderr",
     "output_type": "stream",
     "text": [
      "100%|██████████| 64/64 [00:00<00:00, 103.97it/s]\n",
      "100%|██████████| 64/64 [00:00<00:00, 111.04it/s]\n",
      "100%|██████████| 64/64 [00:00<00:00, 110.93it/s]\n",
      "100%|██████████| 64/64 [00:00<00:00, 2482.39it/s]\n",
      "100%|██████████| 64/64 [00:00<00:00, 208.63it/s]\n",
      "100%|██████████| 64/64 [00:00<00:00, 166.43it/s]\n",
      "100%|██████████| 64/64 [00:06<00:00,  9.20it/s]\n",
      "100%|██████████| 64/64 [00:00<00:00, 3088.48it/s]\n",
      "100%|██████████| 64/64 [00:00<00:00, 1565.34it/s]\n",
      "100%|██████████| 64/64 [00:00<00:00, 1541.91it/s]\n",
      "100%|██████████| 64/64 [00:00<00:00, 7752.20it/s]\n",
      "100%|██████████| 64/64 [00:00<00:00, 275318.42it/s]\n",
      " 19%|█▉        | 12/64 [00:00<00:00, 111.89it/s]"
     ]
    },
    {
     "name": "stdout",
     "output_type": "stream",
     "text": [
      "(1, 3329)\n",
      "(334, 3330)\n"
     ]
    },
    {
     "name": "stderr",
     "output_type": "stream",
     "text": [
      "100%|██████████| 64/64 [00:00<00:00, 105.87it/s]\n",
      "100%|██████████| 64/64 [00:00<00:00, 113.90it/s]\n",
      "100%|██████████| 64/64 [00:00<00:00, 116.69it/s]\n",
      "100%|██████████| 64/64 [00:00<00:00, 2424.45it/s]\n",
      "100%|██████████| 64/64 [00:00<00:00, 213.61it/s]\n",
      "100%|██████████| 64/64 [00:00<00:00, 174.52it/s]\n",
      "100%|██████████| 64/64 [00:06<00:00,  9.16it/s]\n",
      "100%|██████████| 64/64 [00:00<00:00, 3697.31it/s]\n",
      "100%|██████████| 64/64 [00:00<00:00, 1263.62it/s]\n",
      "100%|██████████| 64/64 [00:00<00:00, 1387.84it/s]\n",
      "100%|██████████| 64/64 [00:00<00:00, 3688.57it/s]\n",
      "100%|██████████| 64/64 [00:00<00:00, 209224.83it/s]\n",
      " 19%|█▉        | 12/64 [00:00<00:00, 111.75it/s]"
     ]
    },
    {
     "name": "stdout",
     "output_type": "stream",
     "text": [
      "(1, 3329)\n",
      "(335, 3330)\n"
     ]
    },
    {
     "name": "stderr",
     "output_type": "stream",
     "text": [
      "100%|██████████| 64/64 [00:00<00:00, 106.24it/s]\n",
      "100%|██████████| 64/64 [00:00<00:00, 105.52it/s]\n",
      "100%|██████████| 64/64 [00:00<00:00, 112.79it/s]\n",
      "100%|██████████| 64/64 [00:00<00:00, 2046.42it/s]\n",
      "100%|██████████| 64/64 [00:00<00:00, 210.77it/s]\n",
      "100%|██████████| 64/64 [00:00<00:00, 166.83it/s]\n",
      "100%|██████████| 64/64 [00:07<00:00,  8.90it/s]\n",
      "100%|██████████| 64/64 [00:00<00:00, 3094.11it/s]\n",
      "100%|██████████| 64/64 [00:00<00:00, 1445.78it/s]\n",
      "100%|██████████| 64/64 [00:00<00:00, 1249.96it/s]\n",
      "100%|██████████| 64/64 [00:00<00:00, 8295.80it/s]\n",
      "100%|██████████| 64/64 [00:00<00:00, 38612.70it/s]\n",
      " 19%|█▉        | 12/64 [00:00<00:00, 113.97it/s]"
     ]
    },
    {
     "name": "stdout",
     "output_type": "stream",
     "text": [
      "(1, 3329)\n",
      "(336, 3330)\n"
     ]
    },
    {
     "name": "stderr",
     "output_type": "stream",
     "text": [
      "100%|██████████| 64/64 [00:00<00:00, 109.20it/s]\n",
      "100%|██████████| 64/64 [00:00<00:00, 106.35it/s]\n",
      "100%|██████████| 64/64 [00:00<00:00, 116.91it/s]\n",
      "100%|██████████| 64/64 [00:00<00:00, 2528.12it/s]\n",
      "100%|██████████| 64/64 [00:00<00:00, 198.04it/s]\n",
      "100%|██████████| 64/64 [00:00<00:00, 175.69it/s]\n",
      "100%|██████████| 64/64 [00:07<00:00,  8.96it/s]\n",
      "100%|██████████| 64/64 [00:00<00:00, 3466.90it/s]\n",
      "100%|██████████| 64/64 [00:00<00:00, 1614.73it/s]\n",
      "100%|██████████| 64/64 [00:00<00:00, 1306.69it/s]\n",
      "100%|██████████| 64/64 [00:00<00:00, 7867.39it/s]\n",
      "100%|██████████| 64/64 [00:00<00:00, 257615.60it/s]\n",
      " 17%|█▋        | 11/64 [00:00<00:00, 104.58it/s]"
     ]
    },
    {
     "name": "stdout",
     "output_type": "stream",
     "text": [
      "(1, 3329)\n",
      "(337, 3330)\n"
     ]
    },
    {
     "name": "stderr",
     "output_type": "stream",
     "text": [
      "100%|██████████| 64/64 [00:00<00:00, 102.71it/s]\n",
      "100%|██████████| 64/64 [00:00<00:00, 104.74it/s]\n",
      "100%|██████████| 64/64 [00:00<00:00, 112.91it/s]\n",
      "100%|██████████| 64/64 [00:00<00:00, 2432.12it/s]\n",
      "100%|██████████| 64/64 [00:00<00:00, 204.51it/s]\n",
      "100%|██████████| 64/64 [00:00<00:00, 160.92it/s]\n",
      "100%|██████████| 64/64 [00:07<00:00,  8.86it/s]\n",
      "100%|██████████| 64/64 [00:00<00:00, 3533.86it/s]\n",
      "100%|██████████| 64/64 [00:00<00:00, 1520.34it/s]\n",
      "100%|██████████| 64/64 [00:00<00:00, 1419.68it/s]\n",
      "100%|██████████| 64/64 [00:00<00:00, 6543.54it/s]\n",
      "100%|██████████| 64/64 [00:00<00:00, 221847.48it/s]\n",
      " 17%|█▋        | 11/64 [00:00<00:00, 109.37it/s]"
     ]
    },
    {
     "name": "stdout",
     "output_type": "stream",
     "text": [
      "(1, 3329)\n",
      "(338, 3330)\n"
     ]
    },
    {
     "name": "stderr",
     "output_type": "stream",
     "text": [
      "100%|██████████| 64/64 [00:00<00:00, 108.78it/s]\n",
      "100%|██████████| 64/64 [00:00<00:00, 113.84it/s]\n",
      "100%|██████████| 64/64 [00:00<00:00, 115.72it/s]\n",
      "100%|██████████| 64/64 [00:00<00:00, 2578.58it/s]\n",
      "100%|██████████| 64/64 [00:00<00:00, 209.16it/s]\n",
      "100%|██████████| 64/64 [00:00<00:00, 170.01it/s]\n",
      "100%|██████████| 64/64 [00:07<00:00,  9.01it/s]\n",
      "100%|██████████| 64/64 [00:00<00:00, 2982.19it/s]\n",
      "100%|██████████| 64/64 [00:00<00:00, 1226.62it/s]\n",
      "100%|██████████| 64/64 [00:00<00:00, 1476.38it/s]\n",
      "100%|██████████| 64/64 [00:00<00:00, 8476.28it/s]\n",
      "100%|██████████| 64/64 [00:00<00:00, 114325.15it/s]\n",
      " 17%|█▋        | 11/64 [00:00<00:00, 105.16it/s]"
     ]
    },
    {
     "name": "stdout",
     "output_type": "stream",
     "text": [
      "(1, 3329)\n",
      "(339, 3330)\n"
     ]
    },
    {
     "name": "stderr",
     "output_type": "stream",
     "text": [
      "100%|██████████| 64/64 [00:00<00:00, 102.97it/s]\n",
      "100%|██████████| 64/64 [00:00<00:00, 99.79it/s]\n",
      "100%|██████████| 64/64 [00:00<00:00, 106.52it/s]\n",
      "100%|██████████| 64/64 [00:00<00:00, 2444.92it/s]\n",
      "100%|██████████| 64/64 [00:00<00:00, 218.23it/s]\n",
      "100%|██████████| 64/64 [00:00<00:00, 163.86it/s]\n",
      "100%|██████████| 64/64 [00:07<00:00,  8.68it/s]\n",
      "100%|██████████| 64/64 [00:00<00:00, 3821.58it/s]\n",
      "100%|██████████| 64/64 [00:00<00:00, 1345.42it/s]\n",
      "100%|██████████| 64/64 [00:00<00:00, 1457.10it/s]\n",
      "100%|██████████| 64/64 [00:00<00:00, 7808.35it/s]\n",
      "100%|██████████| 64/64 [00:00<00:00, 113120.71it/s]\n",
      " 17%|█▋        | 11/64 [00:00<00:00, 106.62it/s]"
     ]
    },
    {
     "name": "stdout",
     "output_type": "stream",
     "text": [
      "(1, 3329)\n",
      "(340, 3330)\n"
     ]
    },
    {
     "name": "stderr",
     "output_type": "stream",
     "text": [
      "100%|██████████| 64/64 [00:00<00:00, 108.48it/s]\n",
      "100%|██████████| 64/64 [00:00<00:00, 99.14it/s]\n",
      "100%|██████████| 64/64 [00:00<00:00, 98.97it/s]\n",
      "100%|██████████| 64/64 [00:00<00:00, 2187.47it/s]\n",
      "100%|██████████| 64/64 [00:00<00:00, 183.07it/s]\n",
      "100%|██████████| 64/64 [00:00<00:00, 144.07it/s]\n",
      "100%|██████████| 64/64 [00:07<00:00,  9.00it/s]\n",
      "100%|██████████| 64/64 [00:00<00:00, 3651.09it/s]\n",
      "100%|██████████| 64/64 [00:00<00:00, 1329.75it/s]\n",
      "100%|██████████| 64/64 [00:00<00:00, 1209.46it/s]\n",
      "100%|██████████| 64/64 [00:00<00:00, 7028.95it/s]\n",
      "100%|██████████| 64/64 [00:00<00:00, 242928.01it/s]\n",
      " 19%|█▉        | 12/64 [00:00<00:00, 113.20it/s]"
     ]
    },
    {
     "name": "stdout",
     "output_type": "stream",
     "text": [
      "(1, 3329)\n",
      "(341, 3330)\n"
     ]
    },
    {
     "name": "stderr",
     "output_type": "stream",
     "text": [
      "100%|██████████| 64/64 [00:00<00:00, 111.33it/s]\n",
      "100%|██████████| 64/64 [00:00<00:00, 111.64it/s]\n",
      "100%|██████████| 64/64 [00:00<00:00, 123.02it/s]\n",
      "100%|██████████| 64/64 [00:00<00:00, 2728.81it/s]\n",
      "100%|██████████| 64/64 [00:00<00:00, 213.35it/s]\n",
      "100%|██████████| 64/64 [00:00<00:00, 174.79it/s]\n",
      "100%|██████████| 64/64 [00:07<00:00,  9.00it/s]\n",
      "100%|██████████| 64/64 [00:00<00:00, 3508.36it/s]\n",
      "100%|██████████| 64/64 [00:00<00:00, 1397.88it/s]\n",
      "100%|██████████| 64/64 [00:00<00:00, 1475.89it/s]\n",
      "100%|██████████| 64/64 [00:00<00:00, 7903.53it/s]\n",
      "100%|██████████| 64/64 [00:00<00:00, 32506.11it/s]\n",
      " 17%|█▋        | 11/64 [00:00<00:00, 104.68it/s]"
     ]
    },
    {
     "name": "stdout",
     "output_type": "stream",
     "text": [
      "(1, 3329)\n",
      "(342, 3330)\n"
     ]
    },
    {
     "name": "stderr",
     "output_type": "stream",
     "text": [
      "100%|██████████| 64/64 [00:00<00:00, 93.57it/s]\n",
      "100%|██████████| 64/64 [00:00<00:00, 107.81it/s]\n",
      "100%|██████████| 64/64 [00:00<00:00, 111.48it/s]\n",
      "100%|██████████| 64/64 [00:00<00:00, 2479.89it/s]\n",
      "100%|██████████| 64/64 [00:00<00:00, 201.57it/s]\n",
      "100%|██████████| 64/64 [00:00<00:00, 162.55it/s]\n",
      "100%|██████████| 64/64 [00:07<00:00,  8.99it/s]\n",
      "100%|██████████| 64/64 [00:00<00:00, 3764.82it/s]\n",
      "100%|██████████| 64/64 [00:00<00:00, 1481.19it/s]\n",
      "100%|██████████| 64/64 [00:00<00:00, 1329.08it/s]\n",
      "100%|██████████| 64/64 [00:00<00:00, 9682.42it/s]\n",
      "100%|██████████| 64/64 [00:00<00:00, 31558.37it/s]\n",
      " 19%|█▉        | 12/64 [00:00<00:00, 118.20it/s]"
     ]
    },
    {
     "name": "stdout",
     "output_type": "stream",
     "text": [
      "(1, 3329)\n",
      "(343, 3330)\n"
     ]
    },
    {
     "name": "stderr",
     "output_type": "stream",
     "text": [
      "100%|██████████| 64/64 [00:00<00:00, 110.68it/s]\n",
      "100%|██████████| 64/64 [00:00<00:00, 108.53it/s]\n",
      "100%|██████████| 64/64 [00:00<00:00, 109.88it/s]\n",
      "100%|██████████| 64/64 [00:00<00:00, 2395.21it/s]\n",
      "100%|██████████| 64/64 [00:00<00:00, 207.54it/s]\n",
      "100%|██████████| 64/64 [00:00<00:00, 172.70it/s]\n",
      "100%|██████████| 64/64 [00:07<00:00,  8.98it/s]\n",
      "100%|██████████| 64/64 [00:00<00:00, 2674.99it/s]\n",
      "100%|██████████| 64/64 [00:00<00:00, 1552.59it/s]\n",
      "100%|██████████| 64/64 [00:00<00:00, 1435.19it/s]\n",
      "100%|██████████| 64/64 [00:00<00:00, 6588.99it/s]\n",
      "100%|██████████| 64/64 [00:00<00:00, 50936.52it/s]\n",
      " 17%|█▋        | 11/64 [00:00<00:00, 108.70it/s]"
     ]
    },
    {
     "name": "stdout",
     "output_type": "stream",
     "text": [
      "(1, 3329)\n",
      "(344, 3330)\n"
     ]
    },
    {
     "name": "stderr",
     "output_type": "stream",
     "text": [
      "100%|██████████| 64/64 [00:00<00:00, 104.06it/s]\n",
      "100%|██████████| 64/64 [00:00<00:00, 115.30it/s]\n",
      "100%|██████████| 64/64 [00:00<00:00, 114.42it/s]\n",
      "100%|██████████| 64/64 [00:00<00:00, 2401.61it/s]\n",
      "100%|██████████| 64/64 [00:00<00:00, 212.74it/s]\n",
      "100%|██████████| 64/64 [00:00<00:00, 172.69it/s]\n",
      "100%|██████████| 64/64 [00:07<00:00,  8.83it/s]\n",
      "100%|██████████| 64/64 [00:00<00:00, 3828.39it/s]\n",
      "100%|██████████| 64/64 [00:00<00:00, 1459.80it/s]\n",
      "100%|██████████| 64/64 [00:00<00:00, 1246.43it/s]\n",
      "100%|██████████| 64/64 [00:00<00:00, 7047.40it/s]\n",
      "100%|██████████| 64/64 [00:00<00:00, 36511.90it/s]\n",
      " 17%|█▋        | 11/64 [00:00<00:00, 101.81it/s]"
     ]
    },
    {
     "name": "stdout",
     "output_type": "stream",
     "text": [
      "(1, 3329)\n",
      "(345, 3330)\n"
     ]
    },
    {
     "name": "stderr",
     "output_type": "stream",
     "text": [
      "100%|██████████| 64/64 [00:00<00:00, 101.03it/s]\n",
      "100%|██████████| 64/64 [00:00<00:00, 105.16it/s]\n",
      "100%|██████████| 64/64 [00:00<00:00, 107.09it/s]\n",
      "100%|██████████| 64/64 [00:00<00:00, 2292.18it/s]\n",
      "100%|██████████| 64/64 [00:00<00:00, 207.82it/s]\n",
      "100%|██████████| 64/64 [00:00<00:00, 164.83it/s]\n",
      "100%|██████████| 64/64 [00:07<00:00,  8.95it/s]\n",
      "100%|██████████| 64/64 [00:00<00:00, 3384.76it/s]\n",
      "100%|██████████| 64/64 [00:00<00:00, 1462.41it/s]\n",
      "100%|██████████| 64/64 [00:00<00:00, 1398.76it/s]\n",
      "100%|██████████| 64/64 [00:00<00:00, 7574.79it/s]\n",
      "100%|██████████| 64/64 [00:00<00:00, 257368.61it/s]\n",
      " 19%|█▉        | 12/64 [00:00<00:00, 112.40it/s]"
     ]
    },
    {
     "name": "stdout",
     "output_type": "stream",
     "text": [
      "(1, 3329)\n",
      "(346, 3330)\n"
     ]
    },
    {
     "name": "stderr",
     "output_type": "stream",
     "text": [
      "100%|██████████| 64/64 [00:00<00:00, 106.81it/s]\n",
      "100%|██████████| 64/64 [00:00<00:00, 108.96it/s]\n",
      "100%|██████████| 64/64 [00:00<00:00, 107.39it/s]\n",
      "100%|██████████| 64/64 [00:00<00:00, 2331.85it/s]\n",
      "100%|██████████| 64/64 [00:00<00:00, 205.92it/s]\n",
      "100%|██████████| 64/64 [00:00<00:00, 166.81it/s]\n",
      "100%|██████████| 64/64 [00:06<00:00,  9.23it/s]\n",
      "100%|██████████| 64/64 [00:00<00:00, 3962.91it/s]\n",
      "100%|██████████| 64/64 [00:00<00:00, 1449.40it/s]\n",
      "100%|██████████| 64/64 [00:00<00:00, 1500.04it/s]\n",
      "100%|██████████| 64/64 [00:00<00:00, 4703.29it/s]\n",
      "100%|██████████| 64/64 [00:00<00:00, 79231.24it/s]\n",
      " 17%|█▋        | 11/64 [00:00<00:00, 109.97it/s]"
     ]
    },
    {
     "name": "stdout",
     "output_type": "stream",
     "text": [
      "(1, 3329)\n",
      "(347, 3330)\n"
     ]
    },
    {
     "name": "stderr",
     "output_type": "stream",
     "text": [
      "100%|██████████| 64/64 [00:00<00:00, 107.89it/s]\n",
      "100%|██████████| 64/64 [00:00<00:00, 105.13it/s]\n",
      "100%|██████████| 64/64 [00:00<00:00, 107.84it/s]\n",
      "100%|██████████| 64/64 [00:00<00:00, 2384.27it/s]\n",
      "100%|██████████| 64/64 [00:00<00:00, 197.34it/s]\n",
      "100%|██████████| 64/64 [00:00<00:00, 164.92it/s]\n",
      "100%|██████████| 64/64 [00:06<00:00,  9.15it/s]\n",
      "100%|██████████| 64/64 [00:00<00:00, 3287.43it/s]\n",
      "100%|██████████| 64/64 [00:00<00:00, 1572.60it/s]\n",
      "100%|██████████| 64/64 [00:00<00:00, 1514.68it/s]\n",
      "100%|██████████| 64/64 [00:00<00:00, 7429.51it/s]\n",
      "100%|██████████| 64/64 [00:00<00:00, 44442.96it/s]\n",
      " 17%|█▋        | 11/64 [00:00<00:00, 106.79it/s]"
     ]
    },
    {
     "name": "stdout",
     "output_type": "stream",
     "text": [
      "(1, 3329)\n",
      "(348, 3330)\n"
     ]
    },
    {
     "name": "stderr",
     "output_type": "stream",
     "text": [
      "100%|██████████| 64/64 [00:00<00:00, 108.67it/s]\n",
      "100%|██████████| 64/64 [00:00<00:00, 110.45it/s]\n",
      "100%|██████████| 64/64 [00:00<00:00, 115.99it/s]\n",
      "100%|██████████| 64/64 [00:00<00:00, 2281.10it/s]\n",
      "100%|██████████| 64/64 [00:00<00:00, 208.29it/s]\n",
      "100%|██████████| 64/64 [00:00<00:00, 158.37it/s]\n",
      "100%|██████████| 64/64 [00:07<00:00,  8.93it/s]\n",
      "100%|██████████| 64/64 [00:00<00:00, 3535.30it/s]\n",
      "100%|██████████| 64/64 [00:00<00:00, 1499.33it/s]\n",
      "100%|██████████| 64/64 [00:00<00:00, 1576.75it/s]\n",
      "100%|██████████| 64/64 [00:00<00:00, 7110.87it/s]\n",
      "100%|██████████| 64/64 [00:00<00:00, 212034.33it/s]\n",
      " 19%|█▉        | 12/64 [00:00<00:00, 114.20it/s]"
     ]
    },
    {
     "name": "stdout",
     "output_type": "stream",
     "text": [
      "(1, 3329)\n",
      "(349, 3330)\n"
     ]
    },
    {
     "name": "stderr",
     "output_type": "stream",
     "text": [
      "100%|██████████| 64/64 [00:00<00:00, 104.68it/s]\n",
      "100%|██████████| 64/64 [00:00<00:00, 109.60it/s]\n",
      "100%|██████████| 64/64 [00:00<00:00, 113.85it/s]\n",
      "100%|██████████| 64/64 [00:00<00:00, 2622.49it/s]\n",
      "100%|██████████| 64/64 [00:00<00:00, 208.01it/s]\n",
      "100%|██████████| 64/64 [00:00<00:00, 157.21it/s]\n",
      "100%|██████████| 64/64 [00:07<00:00,  8.84it/s]\n",
      "100%|██████████| 64/64 [00:00<00:00, 3062.27it/s]\n",
      "100%|██████████| 64/64 [00:00<00:00, 1327.65it/s]\n",
      "100%|██████████| 64/64 [00:00<00:00, 1391.43it/s]\n",
      "100%|██████████| 64/64 [00:00<00:00, 7449.09it/s]\n",
      "100%|██████████| 64/64 [00:00<00:00, 28205.89it/s]\n",
      " 19%|█▉        | 12/64 [00:00<00:00, 111.02it/s]"
     ]
    },
    {
     "name": "stdout",
     "output_type": "stream",
     "text": [
      "(1, 3329)\n",
      "(350, 3330)\n"
     ]
    },
    {
     "name": "stderr",
     "output_type": "stream",
     "text": [
      "100%|██████████| 64/64 [00:00<00:00, 104.56it/s]\n",
      "100%|██████████| 64/64 [00:00<00:00, 110.38it/s]\n",
      "100%|██████████| 64/64 [00:00<00:00, 114.24it/s]\n",
      "100%|██████████| 64/64 [00:00<00:00, 2223.84it/s]\n",
      "100%|██████████| 64/64 [00:00<00:00, 210.41it/s]\n",
      "100%|██████████| 64/64 [00:00<00:00, 171.11it/s]\n",
      "100%|██████████| 64/64 [00:07<00:00,  9.01it/s]\n",
      "100%|██████████| 64/64 [00:00<00:00, 3813.11it/s]\n",
      "100%|██████████| 64/64 [00:00<00:00, 1520.84it/s]\n",
      "100%|██████████| 64/64 [00:00<00:00, 1467.70it/s]\n",
      "100%|██████████| 64/64 [00:00<00:00, 8067.67it/s]\n",
      "100%|██████████| 64/64 [00:00<00:00, 80129.99it/s]\n",
      " 19%|█▉        | 12/64 [00:00<00:00, 111.90it/s]"
     ]
    },
    {
     "name": "stdout",
     "output_type": "stream",
     "text": [
      "(1, 3329)\n",
      "(351, 3330)\n"
     ]
    },
    {
     "name": "stderr",
     "output_type": "stream",
     "text": [
      "100%|██████████| 64/64 [00:00<00:00, 105.91it/s]\n",
      "100%|██████████| 64/64 [00:00<00:00, 107.19it/s]\n",
      "100%|██████████| 64/64 [00:00<00:00, 115.89it/s]\n",
      "100%|██████████| 64/64 [00:00<00:00, 2484.46it/s]\n",
      "100%|██████████| 64/64 [00:00<00:00, 212.51it/s]\n",
      "100%|██████████| 64/64 [00:00<00:00, 170.16it/s]\n",
      "100%|██████████| 64/64 [00:07<00:00,  8.70it/s]\n",
      "100%|██████████| 64/64 [00:00<00:00, 3346.49it/s]\n",
      "100%|██████████| 64/64 [00:00<00:00, 1471.86it/s]\n",
      "100%|██████████| 64/64 [00:00<00:00, 1415.07it/s]\n",
      "100%|██████████| 64/64 [00:00<00:00, 6627.05it/s]\n",
      "100%|██████████| 64/64 [00:00<00:00, 95426.75it/s]\n",
      " 17%|█▋        | 11/64 [00:00<00:00, 106.44it/s]"
     ]
    },
    {
     "name": "stdout",
     "output_type": "stream",
     "text": [
      "(1, 3329)\n",
      "(352, 3330)\n"
     ]
    },
    {
     "name": "stderr",
     "output_type": "stream",
     "text": [
      "100%|██████████| 64/64 [00:00<00:00, 104.36it/s]\n",
      "100%|██████████| 64/64 [00:00<00:00, 107.37it/s]\n",
      "100%|██████████| 64/64 [00:00<00:00, 113.17it/s]\n",
      "100%|██████████| 64/64 [00:00<00:00, 2063.59it/s]\n",
      "100%|██████████| 64/64 [00:00<00:00, 213.41it/s]\n",
      "100%|██████████| 64/64 [00:00<00:00, 165.78it/s]\n",
      "100%|██████████| 64/64 [00:07<00:00,  9.04it/s]\n",
      "100%|██████████| 64/64 [00:00<00:00, 3389.94it/s]\n",
      "100%|██████████| 64/64 [00:00<00:00, 1509.25it/s]\n",
      "100%|██████████| 64/64 [00:00<00:00, 1460.88it/s]\n",
      "100%|██████████| 64/64 [00:00<00:00, 6682.49it/s]\n",
      "100%|██████████| 64/64 [00:00<00:00, 30883.05it/s]\n",
      " 19%|█▉        | 12/64 [00:00<00:00, 113.94it/s]"
     ]
    },
    {
     "name": "stdout",
     "output_type": "stream",
     "text": [
      "(1, 3329)\n",
      "(353, 3330)\n"
     ]
    },
    {
     "name": "stderr",
     "output_type": "stream",
     "text": [
      "100%|██████████| 64/64 [00:00<00:00, 109.00it/s]\n",
      "100%|██████████| 64/64 [00:00<00:00, 112.90it/s]\n",
      "100%|██████████| 64/64 [00:00<00:00, 112.45it/s]\n",
      "100%|██████████| 64/64 [00:00<00:00, 2566.99it/s]\n",
      "100%|██████████| 64/64 [00:00<00:00, 222.79it/s]\n",
      "100%|██████████| 64/64 [00:00<00:00, 177.56it/s]\n",
      "100%|██████████| 64/64 [00:07<00:00,  9.13it/s]\n",
      "100%|██████████| 64/64 [00:00<00:00, 3674.13it/s]\n",
      "100%|██████████| 64/64 [00:00<00:00, 1385.03it/s]\n",
      "100%|██████████| 64/64 [00:00<00:00, 1266.06it/s]\n",
      "100%|██████████| 64/64 [00:00<00:00, 6462.10it/s]\n",
      "100%|██████████| 64/64 [00:00<00:00, 95904.06it/s]\n",
      " 17%|█▋        | 11/64 [00:00<00:00, 102.73it/s]"
     ]
    },
    {
     "name": "stdout",
     "output_type": "stream",
     "text": [
      "(1, 3329)\n",
      "(354, 3330)\n"
     ]
    },
    {
     "name": "stderr",
     "output_type": "stream",
     "text": [
      "100%|██████████| 64/64 [00:00<00:00, 110.53it/s]\n",
      "100%|██████████| 64/64 [00:00<00:00, 109.79it/s]\n",
      "100%|██████████| 64/64 [00:00<00:00, 115.84it/s]\n",
      "100%|██████████| 64/64 [00:00<00:00, 2302.82it/s]\n",
      "100%|██████████| 64/64 [00:00<00:00, 208.37it/s]\n",
      "100%|██████████| 64/64 [00:00<00:00, 154.22it/s]\n",
      "100%|██████████| 64/64 [00:06<00:00,  9.23it/s]\n",
      "100%|██████████| 64/64 [00:00<00:00, 3841.87it/s]\n",
      "100%|██████████| 64/64 [00:00<00:00, 1472.72it/s]\n",
      "100%|██████████| 64/64 [00:00<00:00, 1545.07it/s]\n",
      "100%|██████████| 64/64 [00:00<00:00, 8656.97it/s]\n",
      "100%|██████████| 64/64 [00:00<00:00, 103244.41it/s]\n",
      " 19%|█▉        | 12/64 [00:00<00:00, 111.70it/s]"
     ]
    },
    {
     "name": "stdout",
     "output_type": "stream",
     "text": [
      "(1, 3329)\n",
      "(355, 3330)\n"
     ]
    },
    {
     "name": "stderr",
     "output_type": "stream",
     "text": [
      "100%|██████████| 64/64 [00:00<00:00, 105.44it/s]\n",
      "100%|██████████| 64/64 [00:00<00:00, 111.51it/s]\n",
      "100%|██████████| 64/64 [00:00<00:00, 114.14it/s]\n",
      "100%|██████████| 64/64 [00:00<00:00, 2653.21it/s]\n",
      "100%|██████████| 64/64 [00:00<00:00, 218.08it/s]\n",
      "100%|██████████| 64/64 [00:00<00:00, 173.38it/s]\n",
      "100%|██████████| 64/64 [00:07<00:00,  9.10it/s]\n",
      "100%|██████████| 64/64 [00:00<00:00, 3304.72it/s]\n",
      "100%|██████████| 64/64 [00:00<00:00, 1321.72it/s]\n",
      "100%|██████████| 64/64 [00:00<00:00, 1481.72it/s]\n",
      "100%|██████████| 64/64 [00:00<00:00, 8260.82it/s]\n",
      "100%|██████████| 64/64 [00:00<00:00, 31801.38it/s]\n",
      "  0%|          | 0/64 [00:00<?, ?it/s]"
     ]
    },
    {
     "name": "stdout",
     "output_type": "stream",
     "text": [
      "(1, 3329)\n",
      "(356, 3330)\n"
     ]
    },
    {
     "name": "stderr",
     "output_type": "stream",
     "text": [
      "100%|██████████| 64/64 [00:00<00:00, 106.83it/s]\n",
      "100%|██████████| 64/64 [00:00<00:00, 110.73it/s]\n",
      "100%|██████████| 64/64 [00:00<00:00, 116.72it/s]\n",
      "100%|██████████| 64/64 [00:00<00:00, 2400.15it/s]\n",
      "100%|██████████| 64/64 [00:00<00:00, 200.80it/s]\n",
      "100%|██████████| 64/64 [00:00<00:00, 177.55it/s]\n",
      "100%|██████████| 64/64 [00:07<00:00,  9.09it/s]\n",
      "100%|██████████| 64/64 [00:00<00:00, 3373.15it/s]\n",
      "100%|██████████| 64/64 [00:00<00:00, 1454.93it/s]\n",
      "100%|██████████| 64/64 [00:00<00:00, 1598.81it/s]\n",
      "100%|██████████| 64/64 [00:00<00:00, 8044.22it/s]\n",
      "100%|██████████| 64/64 [00:00<00:00, 102612.94it/s]\n",
      " 17%|█▋        | 11/64 [00:00<00:00, 108.54it/s]"
     ]
    },
    {
     "name": "stdout",
     "output_type": "stream",
     "text": [
      "(1, 3329)\n",
      "(357, 3330)\n"
     ]
    },
    {
     "name": "stderr",
     "output_type": "stream",
     "text": [
      "100%|██████████| 64/64 [00:00<00:00, 109.50it/s]\n",
      "100%|██████████| 64/64 [00:00<00:00, 106.28it/s]\n",
      "100%|██████████| 64/64 [00:00<00:00, 116.93it/s]\n",
      "100%|██████████| 64/64 [00:00<00:00, 2396.08it/s]\n",
      "100%|██████████| 64/64 [00:00<00:00, 211.14it/s]\n",
      "100%|██████████| 64/64 [00:00<00:00, 171.89it/s]\n",
      "100%|██████████| 64/64 [00:06<00:00,  9.23it/s]\n",
      "100%|██████████| 64/64 [00:00<00:00, 3397.19it/s]\n",
      "100%|██████████| 64/64 [00:00<00:00, 1266.40it/s]\n",
      "100%|██████████| 64/64 [00:00<00:00, 1607.11it/s]\n",
      "100%|██████████| 64/64 [00:00<00:00, 8039.16it/s]\n",
      "100%|██████████| 64/64 [00:00<00:00, 92948.57it/s]\n",
      " 19%|█▉        | 12/64 [00:00<00:00, 116.37it/s]"
     ]
    },
    {
     "name": "stdout",
     "output_type": "stream",
     "text": [
      "(1, 3329)\n",
      "(358, 3330)\n"
     ]
    },
    {
     "name": "stderr",
     "output_type": "stream",
     "text": [
      "100%|██████████| 64/64 [00:00<00:00, 113.91it/s]\n",
      "100%|██████████| 64/64 [00:00<00:00, 110.08it/s]\n",
      "100%|██████████| 64/64 [00:00<00:00, 119.61it/s]\n",
      "100%|██████████| 64/64 [00:00<00:00, 2258.23it/s]\n",
      "100%|██████████| 64/64 [00:00<00:00, 208.46it/s]\n",
      "100%|██████████| 64/64 [00:00<00:00, 169.99it/s]\n",
      "100%|██████████| 64/64 [00:06<00:00,  9.34it/s]\n",
      "100%|██████████| 64/64 [00:00<00:00, 3633.35it/s]\n",
      "100%|██████████| 64/64 [00:00<00:00, 1567.20it/s]\n",
      "100%|██████████| 64/64 [00:00<00:00, 1557.01it/s]\n",
      "100%|██████████| 64/64 [00:00<00:00, 6952.49it/s]\n",
      "100%|██████████| 64/64 [00:00<00:00, 105145.11it/s]\n",
      " 19%|█▉        | 12/64 [00:00<00:00, 116.49it/s]"
     ]
    },
    {
     "name": "stdout",
     "output_type": "stream",
     "text": [
      "(1, 3329)\n",
      "(359, 3330)\n"
     ]
    },
    {
     "name": "stderr",
     "output_type": "stream",
     "text": [
      "100%|██████████| 64/64 [00:00<00:00, 111.05it/s]\n",
      "100%|██████████| 64/64 [00:00<00:00, 110.26it/s]\n",
      "100%|██████████| 64/64 [00:00<00:00, 113.97it/s]\n",
      "100%|██████████| 64/64 [00:00<00:00, 2382.34it/s]\n",
      "100%|██████████| 64/64 [00:00<00:00, 217.44it/s]\n",
      "100%|██████████| 64/64 [00:00<00:00, 176.01it/s]\n",
      "100%|██████████| 64/64 [00:06<00:00,  9.18it/s]\n",
      "100%|██████████| 64/64 [00:00<00:00, 3392.55it/s]\n",
      "100%|██████████| 64/64 [00:00<00:00, 1539.14it/s]\n",
      "100%|██████████| 64/64 [00:00<00:00, 1488.06it/s]\n",
      "100%|██████████| 64/64 [00:00<00:00, 6172.07it/s]\n",
      "100%|██████████| 64/64 [00:00<00:00, 29073.48it/s]\n",
      " 17%|█▋        | 11/64 [00:00<00:00, 105.48it/s]"
     ]
    },
    {
     "name": "stdout",
     "output_type": "stream",
     "text": [
      "(1, 3329)\n",
      "(360, 3330)\n"
     ]
    },
    {
     "name": "stderr",
     "output_type": "stream",
     "text": [
      "100%|██████████| 64/64 [00:00<00:00, 107.75it/s]\n",
      "100%|██████████| 64/64 [00:00<00:00, 109.74it/s]\n",
      "100%|██████████| 64/64 [00:00<00:00, 119.39it/s]\n",
      "100%|██████████| 64/64 [00:00<00:00, 2643.59it/s]\n",
      "100%|██████████| 64/64 [00:00<00:00, 214.25it/s]\n",
      "100%|██████████| 64/64 [00:00<00:00, 175.52it/s]\n",
      "100%|██████████| 64/64 [00:06<00:00,  9.19it/s]\n",
      "100%|██████████| 64/64 [00:00<00:00, 3510.98it/s]\n",
      "100%|██████████| 64/64 [00:00<00:00, 1379.40it/s]\n",
      "100%|██████████| 64/64 [00:00<00:00, 1586.28it/s]\n",
      "100%|██████████| 64/64 [00:00<00:00, 8077.86it/s]\n",
      "100%|██████████| 64/64 [00:00<00:00, 261123.98it/s]\n",
      " 16%|█▌        | 10/64 [00:00<00:00, 96.97it/s]"
     ]
    },
    {
     "name": "stdout",
     "output_type": "stream",
     "text": [
      "(1, 3329)\n",
      "(361, 3330)\n"
     ]
    },
    {
     "name": "stderr",
     "output_type": "stream",
     "text": [
      "100%|██████████| 64/64 [00:00<00:00, 100.29it/s]\n",
      "100%|██████████| 64/64 [00:00<00:00, 115.97it/s]\n",
      "100%|██████████| 64/64 [00:00<00:00, 111.58it/s]\n",
      "100%|██████████| 64/64 [00:00<00:00, 2490.40it/s]\n",
      "100%|██████████| 64/64 [00:00<00:00, 214.72it/s]\n",
      "100%|██████████| 64/64 [00:00<00:00, 170.87it/s]\n",
      "100%|██████████| 64/64 [00:07<00:00,  9.07it/s]\n",
      "100%|██████████| 64/64 [00:00<00:00, 3010.75it/s]\n",
      "100%|██████████| 64/64 [00:00<00:00, 1302.17it/s]\n",
      "100%|██████████| 64/64 [00:00<00:00, 1574.46it/s]\n",
      "100%|██████████| 64/64 [00:00<00:00, 5316.08it/s]\n",
      "100%|██████████| 64/64 [00:00<00:00, 294337.12it/s]\n",
      " 19%|█▉        | 12/64 [00:00<00:00, 119.32it/s]"
     ]
    },
    {
     "name": "stdout",
     "output_type": "stream",
     "text": [
      "(1, 3329)\n",
      "(362, 3330)\n"
     ]
    },
    {
     "name": "stderr",
     "output_type": "stream",
     "text": [
      "100%|██████████| 64/64 [00:00<00:00, 117.98it/s]\n",
      "100%|██████████| 64/64 [00:00<00:00, 104.59it/s]\n",
      "100%|██████████| 64/64 [00:00<00:00, 122.49it/s]\n",
      "100%|██████████| 64/64 [00:00<00:00, 2556.80it/s]\n",
      "100%|██████████| 64/64 [00:00<00:00, 212.24it/s]\n",
      "100%|██████████| 64/64 [00:00<00:00, 177.30it/s]\n",
      "100%|██████████| 64/64 [00:06<00:00,  9.19it/s]\n",
      "100%|██████████| 64/64 [00:00<00:00, 4007.04it/s]\n",
      "100%|██████████| 64/64 [00:00<00:00, 1663.16it/s]\n",
      "100%|██████████| 64/64 [00:00<00:00, 1549.29it/s]\n",
      "100%|██████████| 64/64 [00:00<00:00, 5926.12it/s]\n",
      "100%|██████████| 64/64 [00:00<00:00, 112457.25it/s]\n",
      " 17%|█▋        | 11/64 [00:00<00:00, 104.86it/s]"
     ]
    },
    {
     "name": "stdout",
     "output_type": "stream",
     "text": [
      "(1, 3329)\n",
      "(363, 3330)\n"
     ]
    },
    {
     "name": "stderr",
     "output_type": "stream",
     "text": [
      "100%|██████████| 64/64 [00:00<00:00, 104.28it/s]\n",
      "100%|██████████| 64/64 [00:00<00:00, 111.95it/s]\n",
      "100%|██████████| 64/64 [00:00<00:00, 112.23it/s]\n",
      "100%|██████████| 64/64 [00:00<00:00, 2465.02it/s]\n",
      "100%|██████████| 64/64 [00:00<00:00, 214.73it/s]\n",
      "100%|██████████| 64/64 [00:00<00:00, 169.24it/s]\n",
      "100%|██████████| 64/64 [00:06<00:00,  9.19it/s]\n",
      "100%|██████████| 64/64 [00:00<00:00, 3675.99it/s]\n",
      "100%|██████████| 64/64 [00:00<00:00, 1141.73it/s]\n",
      "100%|██████████| 64/64 [00:00<00:00, 1277.36it/s]\n",
      "100%|██████████| 64/64 [00:00<00:00, 8380.49it/s]\n",
      "100%|██████████| 64/64 [00:00<00:00, 148965.29it/s]\n",
      " 17%|█▋        | 11/64 [00:00<00:00, 104.67it/s]"
     ]
    },
    {
     "name": "stdout",
     "output_type": "stream",
     "text": [
      "(1, 3329)\n",
      "(364, 3330)\n"
     ]
    },
    {
     "name": "stderr",
     "output_type": "stream",
     "text": [
      "100%|██████████| 64/64 [00:00<00:00, 105.55it/s]\n",
      "100%|██████████| 64/64 [00:00<00:00, 108.47it/s]\n",
      "100%|██████████| 64/64 [00:00<00:00, 117.76it/s]\n",
      "100%|██████████| 64/64 [00:00<00:00, 2433.64it/s]\n",
      "100%|██████████| 64/64 [00:00<00:00, 207.51it/s]\n",
      "100%|██████████| 64/64 [00:00<00:00, 176.60it/s]\n",
      "100%|██████████| 64/64 [00:07<00:00,  9.09it/s]\n",
      "100%|██████████| 64/64 [00:00<00:00, 3848.81it/s]\n",
      "100%|██████████| 64/64 [00:00<00:00, 1543.92it/s]\n",
      "100%|██████████| 64/64 [00:00<00:00, 1542.25it/s]\n",
      "100%|██████████| 64/64 [00:00<00:00, 7563.05it/s]\n",
      "100%|██████████| 64/64 [00:00<00:00, 102495.40it/s]\n",
      " 19%|█▉        | 12/64 [00:00<00:00, 115.85it/s]"
     ]
    },
    {
     "name": "stdout",
     "output_type": "stream",
     "text": [
      "(1, 3329)\n",
      "(365, 3330)\n"
     ]
    },
    {
     "name": "stderr",
     "output_type": "stream",
     "text": [
      "100%|██████████| 64/64 [00:00<00:00, 110.03it/s]\n",
      "100%|██████████| 64/64 [00:00<00:00, 114.99it/s]\n",
      "100%|██████████| 64/64 [00:00<00:00, 113.27it/s]\n",
      "100%|██████████| 64/64 [00:00<00:00, 2378.84it/s]\n",
      "100%|██████████| 64/64 [00:00<00:00, 214.62it/s]\n",
      "100%|██████████| 64/64 [00:00<00:00, 172.12it/s]\n",
      "100%|██████████| 64/64 [00:06<00:00,  9.15it/s]\n",
      "100%|██████████| 64/64 [00:00<00:00, 3943.12it/s]\n",
      "100%|██████████| 64/64 [00:00<00:00, 1544.74it/s]\n",
      "100%|██████████| 64/64 [00:00<00:00, 1453.52it/s]\n",
      "100%|██████████| 64/64 [00:00<00:00, 7492.13it/s]\n",
      "100%|██████████| 64/64 [00:00<00:00, 92691.80it/s]\n",
      "  0%|          | 0/64 [00:00<?, ?it/s]"
     ]
    },
    {
     "name": "stdout",
     "output_type": "stream",
     "text": [
      "(1, 3329)\n",
      "(366, 3330)\n"
     ]
    },
    {
     "name": "stderr",
     "output_type": "stream",
     "text": [
      "100%|██████████| 64/64 [00:00<00:00, 103.17it/s]\n",
      "100%|██████████| 64/64 [00:00<00:00, 110.29it/s]\n",
      "100%|██████████| 64/64 [00:00<00:00, 119.11it/s]\n",
      "100%|██████████| 64/64 [00:00<00:00, 2564.69it/s]\n",
      "100%|██████████| 64/64 [00:00<00:00, 207.92it/s]\n",
      "100%|██████████| 64/64 [00:00<00:00, 176.55it/s]\n",
      "100%|██████████| 64/64 [00:06<00:00,  9.30it/s]\n",
      "100%|██████████| 64/64 [00:00<00:00, 4073.00it/s]\n",
      "100%|██████████| 64/64 [00:00<00:00, 1619.34it/s]\n",
      "100%|██████████| 64/64 [00:00<00:00, 1548.33it/s]\n",
      "100%|██████████| 64/64 [00:00<00:00, 7915.88it/s]\n",
      "100%|██████████| 64/64 [00:00<00:00, 252288.96it/s]\n",
      "  0%|          | 0/64 [00:00<?, ?it/s]"
     ]
    },
    {
     "name": "stdout",
     "output_type": "stream",
     "text": [
      "(1, 3329)\n",
      "(367, 3330)\n"
     ]
    },
    {
     "name": "stderr",
     "output_type": "stream",
     "text": [
      "100%|██████████| 64/64 [00:00<00:00, 108.67it/s]\n",
      "100%|██████████| 64/64 [00:00<00:00, 114.63it/s]\n",
      "100%|██████████| 64/64 [00:00<00:00, 111.92it/s]\n",
      "100%|██████████| 64/64 [00:00<00:00, 2319.30it/s]\n",
      "100%|██████████| 64/64 [00:00<00:00, 217.45it/s]\n",
      "100%|██████████| 64/64 [00:00<00:00, 171.23it/s]\n",
      "100%|██████████| 64/64 [00:06<00:00,  9.40it/s]\n",
      "100%|██████████| 64/64 [00:00<00:00, 2868.97it/s]\n",
      "100%|██████████| 64/64 [00:00<00:00, 1607.11it/s]\n",
      "100%|██████████| 64/64 [00:00<00:00, 1443.05it/s]\n",
      "100%|██████████| 64/64 [00:00<00:00, 7365.09it/s]\n",
      "100%|██████████| 64/64 [00:00<00:00, 18962.66it/s]\n",
      "  0%|          | 0/64 [00:00<?, ?it/s]"
     ]
    },
    {
     "name": "stdout",
     "output_type": "stream",
     "text": [
      "(1, 3329)\n",
      "(368, 3330)\n"
     ]
    },
    {
     "name": "stderr",
     "output_type": "stream",
     "text": [
      "100%|██████████| 64/64 [00:00<00:00, 101.19it/s]\n",
      "100%|██████████| 64/64 [00:00<00:00, 109.23it/s]\n",
      "100%|██████████| 64/64 [00:00<00:00, 117.20it/s]\n",
      "100%|██████████| 64/64 [00:00<00:00, 2502.08it/s]\n",
      "100%|██████████| 64/64 [00:00<00:00, 211.72it/s]\n",
      "100%|██████████| 64/64 [00:00<00:00, 162.04it/s]\n",
      "100%|██████████| 64/64 [00:06<00:00,  9.33it/s]\n",
      "100%|██████████| 64/64 [00:00<00:00, 4004.41it/s]\n",
      "100%|██████████| 64/64 [00:00<00:00, 1453.14it/s]\n",
      "100%|██████████| 64/64 [00:00<00:00, 1564.57it/s]\n",
      "100%|██████████| 64/64 [00:00<00:00, 7319.50it/s]\n",
      "100%|██████████| 64/64 [00:00<00:00, 231809.55it/s]\n",
      "  0%|          | 0/64 [00:00<?, ?it/s]"
     ]
    },
    {
     "name": "stdout",
     "output_type": "stream",
     "text": [
      "(1, 3329)\n",
      "(369, 3330)\n"
     ]
    },
    {
     "name": "stderr",
     "output_type": "stream",
     "text": [
      "100%|██████████| 64/64 [00:00<00:00, 105.61it/s]\n",
      "100%|██████████| 64/64 [00:00<00:00, 109.65it/s]\n",
      "100%|██████████| 64/64 [00:00<00:00, 115.40it/s]\n",
      "100%|██████████| 64/64 [00:00<00:00, 2513.86it/s]\n",
      "100%|██████████| 64/64 [00:00<00:00, 208.30it/s]\n",
      "100%|██████████| 64/64 [00:00<00:00, 172.13it/s]\n",
      "100%|██████████| 64/64 [00:06<00:00,  9.20it/s]\n",
      "100%|██████████| 64/64 [00:00<00:00, 4007.40it/s]\n",
      "100%|██████████| 64/64 [00:00<00:00, 1435.86it/s]\n",
      "100%|██████████| 64/64 [00:00<00:00, 1452.81it/s]\n",
      "100%|██████████| 64/64 [00:00<00:00, 7768.35it/s]\n",
      "100%|██████████| 64/64 [00:00<00:00, 97969.14it/s]\n",
      "  0%|          | 0/64 [00:00<?, ?it/s]"
     ]
    },
    {
     "name": "stdout",
     "output_type": "stream",
     "text": [
      "(1, 3329)\n",
      "(370, 3330)\n"
     ]
    },
    {
     "name": "stderr",
     "output_type": "stream",
     "text": [
      "100%|██████████| 64/64 [00:00<00:00, 103.08it/s]\n",
      "100%|██████████| 64/64 [00:00<00:00, 107.19it/s]\n",
      "100%|██████████| 64/64 [00:00<00:00, 111.11it/s]\n",
      "100%|██████████| 64/64 [00:00<00:00, 1966.83it/s]\n",
      "100%|██████████| 64/64 [00:00<00:00, 197.76it/s]\n",
      "100%|██████████| 64/64 [00:00<00:00, 172.53it/s]\n",
      "100%|██████████| 64/64 [00:07<00:00,  8.79it/s]\n",
      "100%|██████████| 64/64 [00:00<00:00, 3192.62it/s]\n",
      "100%|██████████| 64/64 [00:00<00:00, 1481.82it/s]\n",
      "100%|██████████| 64/64 [00:00<00:00, 1484.03it/s]\n",
      "100%|██████████| 64/64 [00:00<00:00, 7254.82it/s]\n",
      "100%|██████████| 64/64 [00:00<00:00, 21221.87it/s]\n",
      "  0%|          | 0/64 [00:00<?, ?it/s]"
     ]
    },
    {
     "name": "stdout",
     "output_type": "stream",
     "text": [
      "(1, 3329)\n",
      "(371, 3330)\n"
     ]
    },
    {
     "name": "stderr",
     "output_type": "stream",
     "text": [
      "100%|██████████| 64/64 [00:00<00:00, 104.92it/s]\n",
      "100%|██████████| 64/64 [00:00<00:00, 102.43it/s]\n",
      "100%|██████████| 64/64 [00:00<00:00, 111.19it/s]\n",
      "100%|██████████| 64/64 [00:00<00:00, 2534.16it/s]\n",
      "100%|██████████| 64/64 [00:00<00:00, 195.62it/s]\n",
      "100%|██████████| 64/64 [00:00<00:00, 165.04it/s]\n",
      "100%|██████████| 64/64 [00:07<00:00,  8.94it/s]\n",
      "100%|██████████| 64/64 [00:00<00:00, 3321.07it/s]\n",
      "100%|██████████| 64/64 [00:00<00:00, 1468.43it/s]\n",
      "100%|██████████| 64/64 [00:00<00:00, 1587.40it/s]\n",
      "100%|██████████| 64/64 [00:00<00:00, 5649.25it/s]\n",
      "100%|██████████| 64/64 [00:00<00:00, 237763.91it/s]\n",
      "  0%|          | 0/64 [00:00<?, ?it/s]"
     ]
    },
    {
     "name": "stdout",
     "output_type": "stream",
     "text": [
      "(1, 3329)\n",
      "(372, 3330)\n"
     ]
    },
    {
     "name": "stderr",
     "output_type": "stream",
     "text": [
      "100%|██████████| 64/64 [00:00<00:00, 108.86it/s]\n",
      "100%|██████████| 64/64 [00:00<00:00, 111.10it/s]\n",
      "100%|██████████| 64/64 [00:00<00:00, 117.46it/s]\n",
      "100%|██████████| 64/64 [00:00<00:00, 2720.68it/s]\n",
      "100%|██████████| 64/64 [00:00<00:00, 220.33it/s]\n",
      "100%|██████████| 64/64 [00:00<00:00, 174.72it/s]\n",
      "100%|██████████| 64/64 [00:06<00:00,  9.40it/s]\n",
      "100%|██████████| 64/64 [00:00<00:00, 2889.04it/s]\n",
      "100%|██████████| 64/64 [00:00<00:00, 1409.60it/s]\n",
      "100%|██████████| 64/64 [00:00<00:00, 1568.52it/s]\n",
      "100%|██████████| 64/64 [00:00<00:00, 7197.82it/s]\n",
      "100%|██████████| 64/64 [00:00<00:00, 87552.33it/s]\n",
      " 17%|█▋        | 11/64 [00:00<00:00, 106.51it/s]"
     ]
    },
    {
     "name": "stdout",
     "output_type": "stream",
     "text": [
      "(1, 3329)\n",
      "(373, 3330)\n"
     ]
    },
    {
     "name": "stderr",
     "output_type": "stream",
     "text": [
      "100%|██████████| 64/64 [00:00<00:00, 108.41it/s]\n",
      "100%|██████████| 64/64 [00:00<00:00, 110.88it/s]\n",
      "100%|██████████| 64/64 [00:00<00:00, 119.62it/s]\n",
      "100%|██████████| 64/64 [00:00<00:00, 2383.49it/s]\n",
      "100%|██████████| 64/64 [00:00<00:00, 217.93it/s]\n",
      "100%|██████████| 64/64 [00:00<00:00, 181.13it/s]\n",
      "100%|██████████| 64/64 [00:06<00:00,  9.22it/s]\n",
      "100%|██████████| 64/64 [00:00<00:00, 3861.38it/s]\n",
      "100%|██████████| 64/64 [00:00<00:00, 1504.56it/s]\n",
      "100%|██████████| 64/64 [00:00<00:00, 1464.76it/s]\n",
      "100%|██████████| 64/64 [00:00<00:00, 6475.03it/s]\n",
      "100%|██████████| 64/64 [00:00<00:00, 108590.39it/s]\n",
      "  0%|          | 0/64 [00:00<?, ?it/s]"
     ]
    },
    {
     "name": "stdout",
     "output_type": "stream",
     "text": [
      "(1, 3329)\n",
      "(374, 3330)\n"
     ]
    },
    {
     "name": "stderr",
     "output_type": "stream",
     "text": [
      "100%|██████████| 64/64 [00:00<00:00, 106.23it/s]\n",
      "100%|██████████| 64/64 [00:00<00:00, 109.24it/s]\n",
      "100%|██████████| 64/64 [00:00<00:00, 113.21it/s]\n",
      "100%|██████████| 64/64 [00:00<00:00, 2396.42it/s]\n",
      "100%|██████████| 64/64 [00:00<00:00, 200.96it/s]\n",
      "100%|██████████| 64/64 [00:00<00:00, 171.72it/s]\n",
      "100%|██████████| 64/64 [00:07<00:00,  9.03it/s]\n",
      "100%|██████████| 64/64 [00:00<00:00, 3843.91it/s]\n",
      "100%|██████████| 64/64 [00:00<00:00, 1465.88it/s]\n",
      "100%|██████████| 64/64 [00:00<00:00, 1336.06it/s]\n",
      "100%|██████████| 64/64 [00:00<00:00, 5137.72it/s]\n",
      "100%|██████████| 64/64 [00:00<00:00, 94353.41it/s]\n",
      "  0%|          | 0/64 [00:00<?, ?it/s]"
     ]
    },
    {
     "name": "stdout",
     "output_type": "stream",
     "text": [
      "(1, 3329)\n",
      "(375, 3330)\n"
     ]
    },
    {
     "name": "stderr",
     "output_type": "stream",
     "text": [
      "100%|██████████| 64/64 [00:00<00:00, 111.38it/s]\n",
      "100%|██████████| 64/64 [00:00<00:00, 111.32it/s]\n",
      "100%|██████████| 64/64 [00:00<00:00, 112.45it/s]\n",
      "100%|██████████| 64/64 [00:00<00:00, 2247.26it/s]\n",
      "100%|██████████| 64/64 [00:00<00:00, 211.84it/s]\n",
      "100%|██████████| 64/64 [00:00<00:00, 172.68it/s]\n",
      "100%|██████████| 64/64 [00:06<00:00,  9.25it/s]\n",
      "100%|██████████| 64/64 [00:00<00:00, 3593.95it/s]\n",
      "100%|██████████| 64/64 [00:00<00:00, 1440.15it/s]\n",
      "100%|██████████| 64/64 [00:00<00:00, 1454.55it/s]\n",
      "100%|██████████| 64/64 [00:00<00:00, 9437.33it/s]\n",
      "100%|██████████| 64/64 [00:00<00:00, 85461.78it/s]\n",
      "  0%|          | 0/64 [00:00<?, ?it/s]"
     ]
    },
    {
     "name": "stdout",
     "output_type": "stream",
     "text": [
      "(1, 3329)\n",
      "(376, 3330)\n"
     ]
    },
    {
     "name": "stderr",
     "output_type": "stream",
     "text": [
      "100%|██████████| 64/64 [00:00<00:00, 110.84it/s]\n",
      "100%|██████████| 64/64 [00:00<00:00, 111.13it/s]\n",
      "100%|██████████| 64/64 [00:00<00:00, 120.62it/s]\n",
      "100%|██████████| 64/64 [00:00<00:00, 2649.15it/s]\n",
      "100%|██████████| 64/64 [00:00<00:00, 213.07it/s]\n",
      "100%|██████████| 64/64 [00:00<00:00, 177.21it/s]\n",
      "100%|██████████| 64/64 [00:07<00:00,  9.13it/s]\n",
      "100%|██████████| 64/64 [00:00<00:00, 3894.09it/s]\n",
      "100%|██████████| 64/64 [00:00<00:00, 1513.00it/s]\n",
      "100%|██████████| 64/64 [00:00<00:00, 1506.37it/s]\n",
      "100%|██████████| 64/64 [00:00<00:00, 6540.67it/s]\n",
      "100%|██████████| 64/64 [00:00<00:00, 222953.04it/s]\n",
      "  0%|          | 0/64 [00:00<?, ?it/s]"
     ]
    },
    {
     "name": "stdout",
     "output_type": "stream",
     "text": [
      "(1, 3329)\n",
      "(377, 3330)\n"
     ]
    },
    {
     "name": "stderr",
     "output_type": "stream",
     "text": [
      "100%|██████████| 64/64 [00:00<00:00, 105.96it/s]\n",
      "100%|██████████| 64/64 [00:00<00:00, 107.54it/s]\n",
      "100%|██████████| 64/64 [00:00<00:00, 114.62it/s]\n",
      "100%|██████████| 64/64 [00:00<00:00, 2465.83it/s]\n",
      "100%|██████████| 64/64 [00:00<00:00, 210.31it/s]\n",
      "100%|██████████| 64/64 [00:00<00:00, 168.23it/s]\n",
      "100%|██████████| 64/64 [00:07<00:00,  9.09it/s]\n",
      "100%|██████████| 64/64 [00:00<00:00, 3742.83it/s]\n",
      "100%|██████████| 64/64 [00:00<00:00, 1633.44it/s]\n",
      "100%|██████████| 64/64 [00:00<00:00, 1541.76it/s]\n",
      "100%|██████████| 64/64 [00:00<00:00, 8438.71it/s]\n",
      "100%|██████████| 64/64 [00:00<00:00, 53081.96it/s]\n",
      " 17%|█▋        | 11/64 [00:00<00:00, 109.50it/s]"
     ]
    },
    {
     "name": "stdout",
     "output_type": "stream",
     "text": [
      "(1, 3329)\n",
      "(378, 3330)\n"
     ]
    },
    {
     "name": "stderr",
     "output_type": "stream",
     "text": [
      "100%|██████████| 64/64 [00:00<00:00, 103.82it/s]\n",
      "100%|██████████| 64/64 [00:00<00:00, 115.04it/s]\n",
      "100%|██████████| 64/64 [00:00<00:00, 109.14it/s]\n",
      "100%|██████████| 64/64 [00:00<00:00, 2363.74it/s]\n",
      "100%|██████████| 64/64 [00:00<00:00, 210.19it/s]\n",
      "100%|██████████| 64/64 [00:00<00:00, 170.94it/s]\n",
      "100%|██████████| 64/64 [00:06<00:00,  9.25it/s]\n",
      "100%|██████████| 64/64 [00:00<00:00, 3008.42it/s]\n",
      "100%|██████████| 64/64 [00:00<00:00, 1288.70it/s]\n",
      "100%|██████████| 64/64 [00:00<00:00, 1223.92it/s]\n",
      "100%|██████████| 64/64 [00:00<00:00, 9399.99it/s]\n",
      "100%|██████████| 64/64 [00:00<00:00, 48427.83it/s]\n",
      "  0%|          | 0/64 [00:00<?, ?it/s]"
     ]
    },
    {
     "name": "stdout",
     "output_type": "stream",
     "text": [
      "(1, 3329)\n",
      "(379, 3330)\n"
     ]
    },
    {
     "name": "stderr",
     "output_type": "stream",
     "text": [
      "100%|██████████| 64/64 [00:00<00:00, 113.28it/s]\n",
      "100%|██████████| 64/64 [00:00<00:00, 111.34it/s]\n",
      "100%|██████████| 64/64 [00:00<00:00, 122.66it/s]\n",
      "100%|██████████| 64/64 [00:00<00:00, 2532.31it/s]\n",
      "100%|██████████| 64/64 [00:00<00:00, 211.47it/s]\n",
      "100%|██████████| 64/64 [00:00<00:00, 170.30it/s]\n",
      "100%|██████████| 64/64 [00:06<00:00,  9.24it/s]\n",
      "100%|██████████| 64/64 [00:00<00:00, 3801.66it/s]\n",
      "100%|██████████| 64/64 [00:00<00:00, 1493.36it/s]\n",
      "100%|██████████| 64/64 [00:00<00:00, 1534.07it/s]\n",
      "100%|██████████| 64/64 [00:00<00:00, 8308.89it/s]\n",
      "100%|██████████| 64/64 [00:00<00:00, 220934.53it/s]\n",
      " 17%|█▋        | 11/64 [00:00<00:00, 107.89it/s]"
     ]
    },
    {
     "name": "stdout",
     "output_type": "stream",
     "text": [
      "(1, 3329)\n",
      "(380, 3330)\n"
     ]
    },
    {
     "name": "stderr",
     "output_type": "stream",
     "text": [
      "100%|██████████| 64/64 [00:00<00:00, 106.22it/s]\n",
      "100%|██████████| 64/64 [00:00<00:00, 112.36it/s]\n",
      "100%|██████████| 64/64 [00:00<00:00, 112.95it/s]\n",
      "100%|██████████| 64/64 [00:00<00:00, 2679.53it/s]\n",
      "100%|██████████| 64/64 [00:00<00:00, 215.33it/s]\n",
      "100%|██████████| 64/64 [00:00<00:00, 176.24it/s]\n",
      "100%|██████████| 64/64 [00:06<00:00,  9.20it/s]\n",
      "100%|██████████| 64/64 [00:00<00:00, 4313.32it/s]\n",
      "100%|██████████| 64/64 [00:00<00:00, 1523.47it/s]\n",
      "100%|██████████| 64/64 [00:00<00:00, 1480.13it/s]\n",
      "100%|██████████| 64/64 [00:00<00:00, 5184.35it/s]\n",
      "100%|██████████| 64/64 [00:00<00:00, 26755.25it/s]\n",
      "  0%|          | 0/64 [00:00<?, ?it/s]"
     ]
    },
    {
     "name": "stdout",
     "output_type": "stream",
     "text": [
      "(1, 3329)\n",
      "(381, 3330)\n"
     ]
    },
    {
     "name": "stderr",
     "output_type": "stream",
     "text": [
      "100%|██████████| 64/64 [00:00<00:00, 113.24it/s]\n",
      "100%|██████████| 64/64 [00:00<00:00, 110.52it/s]\n",
      "100%|██████████| 64/64 [00:00<00:00, 111.21it/s]\n",
      "100%|██████████| 64/64 [00:00<00:00, 2352.59it/s]\n",
      "100%|██████████| 64/64 [00:00<00:00, 212.12it/s]\n",
      "100%|██████████| 64/64 [00:00<00:00, 177.10it/s]\n",
      "100%|██████████| 64/64 [00:06<00:00,  9.18it/s]\n",
      "100%|██████████| 64/64 [00:00<00:00, 3855.39it/s]\n",
      "100%|██████████| 64/64 [00:00<00:00, 1407.29it/s]\n",
      "100%|██████████| 64/64 [00:00<00:00, 1440.17it/s]\n",
      "100%|██████████| 64/64 [00:00<00:00, 7357.22it/s]\n",
      "100%|██████████| 64/64 [00:00<00:00, 84653.25it/s]\n",
      " 17%|█▋        | 11/64 [00:00<00:00, 109.02it/s]"
     ]
    },
    {
     "name": "stdout",
     "output_type": "stream",
     "text": [
      "(1, 3329)\n",
      "(382, 3330)\n"
     ]
    },
    {
     "name": "stderr",
     "output_type": "stream",
     "text": [
      "100%|██████████| 64/64 [00:00<00:00, 111.05it/s]\n",
      "100%|██████████| 64/64 [00:00<00:00, 111.01it/s]\n",
      "100%|██████████| 64/64 [00:00<00:00, 114.54it/s]\n",
      "100%|██████████| 64/64 [00:00<00:00, 2335.56it/s]\n",
      "100%|██████████| 64/64 [00:00<00:00, 217.46it/s]\n",
      "100%|██████████| 64/64 [00:00<00:00, 176.43it/s]\n",
      "100%|██████████| 64/64 [00:06<00:00,  9.28it/s]\n",
      "100%|██████████| 64/64 [00:00<00:00, 4076.34it/s]\n",
      "100%|██████████| 64/64 [00:00<00:00, 1587.68it/s]\n",
      "100%|██████████| 64/64 [00:00<00:00, 1507.19it/s]\n",
      "100%|██████████| 64/64 [00:00<00:00, 8822.86it/s]\n",
      "100%|██████████| 64/64 [00:00<00:00, 233016.89it/s]\n",
      " 17%|█▋        | 11/64 [00:00<00:00, 104.64it/s]"
     ]
    },
    {
     "name": "stdout",
     "output_type": "stream",
     "text": [
      "(1, 3329)\n",
      "(383, 3330)\n"
     ]
    },
    {
     "name": "stderr",
     "output_type": "stream",
     "text": [
      "100%|██████████| 64/64 [00:00<00:00, 109.19it/s]\n",
      "100%|██████████| 64/64 [00:00<00:00, 112.93it/s]\n",
      "100%|██████████| 64/64 [00:00<00:00, 121.80it/s]\n",
      "100%|██████████| 64/64 [00:00<00:00, 2558.62it/s]\n",
      "100%|██████████| 64/64 [00:00<00:00, 226.38it/s]\n",
      "100%|██████████| 64/64 [00:00<00:00, 173.31it/s]\n",
      "100%|██████████| 64/64 [00:06<00:00,  9.18it/s]\n",
      "100%|██████████| 64/64 [00:00<00:00, 3044.42it/s]\n",
      "100%|██████████| 64/64 [00:00<00:00, 1418.97it/s]\n",
      "100%|██████████| 64/64 [00:00<00:00, 1486.07it/s]\n",
      "100%|██████████| 64/64 [00:00<00:00, 7494.43it/s]\n",
      "100%|██████████| 64/64 [00:00<00:00, 29618.83it/s]\n",
      "  0%|          | 0/64 [00:00<?, ?it/s]"
     ]
    },
    {
     "name": "stdout",
     "output_type": "stream",
     "text": [
      "(1, 3329)\n",
      "(384, 3330)\n"
     ]
    },
    {
     "name": "stderr",
     "output_type": "stream",
     "text": [
      "100%|██████████| 64/64 [00:00<00:00, 106.12it/s]\n",
      "100%|██████████| 64/64 [00:00<00:00, 110.98it/s]\n",
      "100%|██████████| 64/64 [00:00<00:00, 113.16it/s]\n",
      "100%|██████████| 64/64 [00:00<00:00, 2326.29it/s]\n",
      "100%|██████████| 64/64 [00:00<00:00, 196.85it/s]\n",
      "100%|██████████| 64/64 [00:00<00:00, 169.61it/s]\n",
      "100%|██████████| 64/64 [00:07<00:00,  9.12it/s]\n",
      "100%|██████████| 64/64 [00:00<00:00, 3867.67it/s]\n",
      "100%|██████████| 64/64 [00:00<00:00, 1601.12it/s]\n",
      "100%|██████████| 64/64 [00:00<00:00, 1358.03it/s]\n",
      "100%|██████████| 64/64 [00:00<00:00, 6896.93it/s]\n",
      "100%|██████████| 64/64 [00:00<00:00, 71889.52it/s]\n",
      "  0%|          | 0/64 [00:00<?, ?it/s]"
     ]
    },
    {
     "name": "stdout",
     "output_type": "stream",
     "text": [
      "(1, 3329)\n",
      "(385, 3330)\n"
     ]
    },
    {
     "name": "stderr",
     "output_type": "stream",
     "text": [
      "100%|██████████| 64/64 [00:00<00:00, 115.58it/s]\n",
      "100%|██████████| 64/64 [00:00<00:00, 115.38it/s]\n",
      "100%|██████████| 64/64 [00:00<00:00, 117.57it/s]\n",
      "100%|██████████| 64/64 [00:00<00:00, 2656.54it/s]\n",
      "100%|██████████| 64/64 [00:00<00:00, 221.45it/s]\n",
      "100%|██████████| 64/64 [00:00<00:00, 171.36it/s]\n",
      "100%|██████████| 64/64 [00:06<00:00,  9.47it/s]\n",
      "100%|██████████| 64/64 [00:00<00:00, 3714.65it/s]\n",
      "100%|██████████| 64/64 [00:00<00:00, 1404.44it/s]\n",
      "100%|██████████| 64/64 [00:00<00:00, 1479.57it/s]\n",
      "100%|██████████| 64/64 [00:00<00:00, 7882.64it/s]\n",
      "100%|██████████| 64/64 [00:00<00:00, 333460.19it/s]\n",
      "  0%|          | 0/64 [00:00<?, ?it/s]"
     ]
    },
    {
     "name": "stdout",
     "output_type": "stream",
     "text": [
      "(1, 3329)\n",
      "(386, 3330)\n"
     ]
    },
    {
     "name": "stderr",
     "output_type": "stream",
     "text": [
      "100%|██████████| 64/64 [00:00<00:00, 112.80it/s]\n",
      "100%|██████████| 64/64 [00:00<00:00, 113.23it/s]\n",
      "100%|██████████| 64/64 [00:00<00:00, 114.86it/s]\n",
      "100%|██████████| 64/64 [00:00<00:00, 2428.73it/s]\n",
      "100%|██████████| 64/64 [00:00<00:00, 222.01it/s]\n",
      "100%|██████████| 64/64 [00:00<00:00, 179.87it/s]\n",
      "100%|██████████| 64/64 [00:06<00:00,  9.22it/s]\n",
      "100%|██████████| 64/64 [00:00<00:00, 4145.40it/s]\n",
      "100%|██████████| 64/64 [00:00<00:00, 1604.39it/s]\n",
      "100%|██████████| 64/64 [00:00<00:00, 1408.70it/s]\n",
      "100%|██████████| 64/64 [00:00<00:00, 7578.00it/s]\n",
      "100%|██████████| 64/64 [00:00<00:00, 100575.29it/s]\n",
      " 17%|█▋        | 11/64 [00:00<00:00, 109.58it/s]"
     ]
    },
    {
     "name": "stdout",
     "output_type": "stream",
     "text": [
      "(1, 3329)\n",
      "(387, 3330)\n"
     ]
    },
    {
     "name": "stderr",
     "output_type": "stream",
     "text": [
      "100%|██████████| 64/64 [00:00<00:00, 106.51it/s]\n",
      "100%|██████████| 64/64 [00:00<00:00, 105.38it/s]\n",
      "100%|██████████| 64/64 [00:00<00:00, 119.35it/s]\n",
      "100%|██████████| 64/64 [00:00<00:00, 2395.12it/s]\n",
      "100%|██████████| 64/64 [00:00<00:00, 217.51it/s]\n",
      "100%|██████████| 64/64 [00:00<00:00, 167.60it/s]\n",
      "100%|██████████| 64/64 [00:06<00:00,  9.29it/s]\n",
      "100%|██████████| 64/64 [00:00<00:00, 3458.06it/s]\n",
      "100%|██████████| 64/64 [00:00<00:00, 1591.00it/s]\n",
      "100%|██████████| 64/64 [00:00<00:00, 1537.32it/s]\n",
      "100%|██████████| 64/64 [00:00<00:00, 8396.48it/s]\n",
      "100%|██████████| 64/64 [00:00<00:00, 26245.16it/s]\n",
      "  0%|          | 0/64 [00:00<?, ?it/s]"
     ]
    },
    {
     "name": "stdout",
     "output_type": "stream",
     "text": [
      "(1, 3329)\n",
      "(388, 3330)\n"
     ]
    },
    {
     "name": "stderr",
     "output_type": "stream",
     "text": [
      "100%|██████████| 64/64 [00:00<00:00, 111.03it/s]\n",
      "100%|██████████| 64/64 [00:00<00:00, 114.23it/s]\n",
      "100%|██████████| 64/64 [00:00<00:00, 118.33it/s]\n",
      "100%|██████████| 64/64 [00:00<00:00, 2314.78it/s]\n",
      "100%|██████████| 64/64 [00:00<00:00, 211.21it/s]\n",
      "100%|██████████| 64/64 [00:00<00:00, 167.13it/s]\n",
      "100%|██████████| 64/64 [00:06<00:00,  9.41it/s]\n",
      "100%|██████████| 64/64 [00:00<00:00, 3899.98it/s]\n",
      "100%|██████████| 64/64 [00:00<00:00, 1510.95it/s]\n",
      "100%|██████████| 64/64 [00:00<00:00, 1588.46it/s]\n",
      "100%|██████████| 64/64 [00:00<00:00, 8150.21it/s]\n",
      "100%|██████████| 64/64 [00:00<00:00, 85844.41it/s]\n",
      "  0%|          | 0/64 [00:00<?, ?it/s]"
     ]
    },
    {
     "name": "stdout",
     "output_type": "stream",
     "text": [
      "(1, 3329)\n",
      "(389, 3330)\n"
     ]
    },
    {
     "name": "stderr",
     "output_type": "stream",
     "text": [
      "100%|██████████| 64/64 [00:00<00:00, 110.27it/s]\n",
      "100%|██████████| 64/64 [00:00<00:00, 111.17it/s]\n",
      "100%|██████████| 64/64 [00:00<00:00, 114.85it/s]\n",
      "100%|██████████| 64/64 [00:00<00:00, 2634.17it/s]\n",
      "100%|██████████| 64/64 [00:00<00:00, 210.47it/s]\n",
      "100%|██████████| 64/64 [00:00<00:00, 173.50it/s]\n",
      "100%|██████████| 64/64 [00:06<00:00,  9.45it/s]\n",
      "100%|██████████| 64/64 [00:00<00:00, 3760.60it/s]\n",
      "100%|██████████| 64/64 [00:00<00:00, 1333.77it/s]\n",
      "100%|██████████| 64/64 [00:00<00:00, 1578.17it/s]\n",
      "100%|██████████| 64/64 [00:00<00:00, 7868.32it/s]\n",
      "100%|██████████| 64/64 [00:00<00:00, 75872.09it/s]\n",
      " 17%|█▋        | 11/64 [00:00<00:00, 105.90it/s]"
     ]
    },
    {
     "name": "stdout",
     "output_type": "stream",
     "text": [
      "(1, 3329)\n",
      "(390, 3330)\n"
     ]
    },
    {
     "name": "stderr",
     "output_type": "stream",
     "text": [
      "100%|██████████| 64/64 [00:00<00:00, 108.73it/s]\n",
      "100%|██████████| 64/64 [00:00<00:00, 113.35it/s]\n",
      "100%|██████████| 64/64 [00:00<00:00, 119.07it/s]\n",
      "100%|██████████| 64/64 [00:00<00:00, 2477.39it/s]\n",
      "100%|██████████| 64/64 [00:00<00:00, 219.93it/s]\n",
      "100%|██████████| 64/64 [00:00<00:00, 172.80it/s]\n",
      "100%|██████████| 64/64 [00:06<00:00,  9.34it/s]\n",
      "100%|██████████| 64/64 [00:00<00:00, 3433.47it/s]\n",
      "100%|██████████| 64/64 [00:00<00:00, 1553.72it/s]\n",
      "100%|██████████| 64/64 [00:00<00:00, 1442.77it/s]\n",
      "100%|██████████| 64/64 [00:00<00:00, 8438.18it/s]\n",
      "100%|██████████| 64/64 [00:00<00:00, 171743.73it/s]\n",
      "  0%|          | 0/64 [00:00<?, ?it/s]"
     ]
    },
    {
     "name": "stdout",
     "output_type": "stream",
     "text": [
      "(1, 3329)\n",
      "(391, 3330)\n"
     ]
    },
    {
     "name": "stderr",
     "output_type": "stream",
     "text": [
      "100%|██████████| 64/64 [00:00<00:00, 109.55it/s]\n",
      "100%|██████████| 64/64 [00:00<00:00, 107.95it/s]\n",
      "100%|██████████| 64/64 [00:00<00:00, 119.52it/s]\n",
      "100%|██████████| 64/64 [00:00<00:00, 2704.23it/s]\n",
      "100%|██████████| 64/64 [00:00<00:00, 218.01it/s]\n",
      "100%|██████████| 64/64 [00:00<00:00, 177.50it/s]\n",
      "100%|██████████| 64/64 [00:06<00:00,  9.23it/s]\n",
      "100%|██████████| 64/64 [00:00<00:00, 3857.66it/s]\n",
      "100%|██████████| 64/64 [00:00<00:00, 1597.28it/s]\n",
      "100%|██████████| 64/64 [00:00<00:00, 1509.05it/s]\n",
      "100%|██████████| 64/64 [00:00<00:00, 7650.79it/s]\n",
      "100%|██████████| 64/64 [00:00<00:00, 159783.01it/s]\n",
      " 19%|█▉        | 12/64 [00:00<00:00, 116.88it/s]"
     ]
    },
    {
     "name": "stdout",
     "output_type": "stream",
     "text": [
      "(1, 3329)\n",
      "(392, 3330)\n"
     ]
    },
    {
     "name": "stderr",
     "output_type": "stream",
     "text": [
      "100%|██████████| 64/64 [00:00<00:00, 113.15it/s]\n",
      "100%|██████████| 64/64 [00:00<00:00, 117.25it/s]\n",
      "100%|██████████| 64/64 [00:00<00:00, 112.53it/s]\n",
      "100%|██████████| 64/64 [00:00<00:00, 2223.58it/s]\n",
      "100%|██████████| 64/64 [00:00<00:00, 213.34it/s]\n",
      "100%|██████████| 64/64 [00:00<00:00, 173.09it/s]\n",
      "100%|██████████| 64/64 [00:06<00:00,  9.22it/s]\n",
      "100%|██████████| 64/64 [00:00<00:00, 3719.02it/s]\n",
      "100%|██████████| 64/64 [00:00<00:00, 1469.05it/s]\n",
      "100%|██████████| 64/64 [00:00<00:00, 1264.93it/s]\n",
      "100%|██████████| 64/64 [00:00<00:00, 7501.34it/s]\n",
      "100%|██████████| 64/64 [00:00<00:00, 222768.01it/s]\n",
      "  0%|          | 0/64 [00:00<?, ?it/s]"
     ]
    },
    {
     "name": "stdout",
     "output_type": "stream",
     "text": [
      "(1, 3329)\n",
      "(393, 3330)\n"
     ]
    },
    {
     "name": "stderr",
     "output_type": "stream",
     "text": [
      "100%|██████████| 64/64 [00:00<00:00, 113.24it/s]\n",
      "100%|██████████| 64/64 [00:00<00:00, 114.20it/s]\n",
      "100%|██████████| 64/64 [00:00<00:00, 118.31it/s]\n",
      "100%|██████████| 64/64 [00:00<00:00, 2041.33it/s]\n",
      "100%|██████████| 64/64 [00:00<00:00, 206.24it/s]\n",
      "100%|██████████| 64/64 [00:00<00:00, 169.48it/s]\n",
      "100%|██████████| 64/64 [00:06<00:00,  9.19it/s]\n",
      "100%|██████████| 64/64 [00:00<00:00, 3691.92it/s]\n",
      "100%|██████████| 64/64 [00:00<00:00, 1632.66it/s]\n",
      "100%|██████████| 64/64 [00:00<00:00, 1634.01it/s]\n",
      "100%|██████████| 64/64 [00:00<00:00, 7882.18it/s]\n",
      "100%|██████████| 64/64 [00:00<00:00, 28685.13it/s]\n",
      "  0%|          | 0/64 [00:00<?, ?it/s]"
     ]
    },
    {
     "name": "stdout",
     "output_type": "stream",
     "text": [
      "(1, 3329)\n",
      "(394, 3330)\n"
     ]
    },
    {
     "name": "stderr",
     "output_type": "stream",
     "text": [
      "100%|██████████| 64/64 [00:00<00:00, 108.96it/s]\n",
      "100%|██████████| 64/64 [00:00<00:00, 115.48it/s]\n",
      "100%|██████████| 64/64 [00:00<00:00, 116.10it/s]\n",
      "100%|██████████| 64/64 [00:00<00:00, 2326.45it/s]\n",
      "100%|██████████| 64/64 [00:00<00:00, 227.43it/s]\n",
      "100%|██████████| 64/64 [00:00<00:00, 176.09it/s]\n",
      "100%|██████████| 64/64 [00:06<00:00,  9.31it/s]\n",
      "100%|██████████| 64/64 [00:00<00:00, 2486.85it/s]\n",
      "100%|██████████| 64/64 [00:00<00:00, 1377.30it/s]\n",
      "100%|██████████| 64/64 [00:00<00:00, 1448.41it/s]\n",
      "100%|██████████| 64/64 [00:00<00:00, 6404.13it/s]\n",
      "100%|██████████| 64/64 [00:00<00:00, 38441.28it/s]\n",
      "  0%|          | 0/64 [00:00<?, ?it/s]"
     ]
    },
    {
     "name": "stdout",
     "output_type": "stream",
     "text": [
      "(1, 3329)\n",
      "(395, 3330)\n"
     ]
    },
    {
     "name": "stderr",
     "output_type": "stream",
     "text": [
      "100%|██████████| 64/64 [00:00<00:00, 108.19it/s]\n",
      "100%|██████████| 64/64 [00:00<00:00, 112.07it/s]\n",
      "100%|██████████| 64/64 [00:00<00:00, 112.95it/s]\n",
      "100%|██████████| 64/64 [00:00<00:00, 1879.18it/s]\n",
      "100%|██████████| 64/64 [00:00<00:00, 207.98it/s]\n",
      "100%|██████████| 64/64 [00:00<00:00, 180.12it/s]\n",
      "100%|██████████| 64/64 [00:06<00:00,  9.23it/s]\n",
      "100%|██████████| 64/64 [00:00<00:00, 3707.52it/s]\n",
      "100%|██████████| 64/64 [00:00<00:00, 1359.79it/s]\n",
      "100%|██████████| 64/64 [00:00<00:00, 1490.55it/s]\n",
      "100%|██████████| 64/64 [00:00<00:00, 8116.70it/s]\n",
      "100%|██████████| 64/64 [00:00<00:00, 45706.70it/s]\n",
      "  0%|          | 0/64 [00:00<?, ?it/s]"
     ]
    },
    {
     "name": "stdout",
     "output_type": "stream",
     "text": [
      "(1, 3329)\n",
      "(396, 3330)\n"
     ]
    },
    {
     "name": "stderr",
     "output_type": "stream",
     "text": [
      "100%|██████████| 64/64 [00:00<00:00, 104.54it/s]\n",
      "100%|██████████| 64/64 [00:00<00:00, 102.68it/s]\n",
      "100%|██████████| 64/64 [00:00<00:00, 119.47it/s]\n",
      "100%|██████████| 64/64 [00:00<00:00, 1796.38it/s]\n",
      "100%|██████████| 64/64 [00:00<00:00, 214.50it/s]\n",
      "100%|██████████| 64/64 [00:00<00:00, 179.11it/s]\n",
      "100%|██████████| 64/64 [00:06<00:00,  9.25it/s]\n",
      "100%|██████████| 64/64 [00:00<00:00, 4011.41it/s]\n",
      "100%|██████████| 64/64 [00:00<00:00, 1527.74it/s]\n",
      "100%|██████████| 64/64 [00:00<00:00, 1486.25it/s]\n",
      "100%|██████████| 64/64 [00:00<00:00, 8687.23it/s]\n",
      "100%|██████████| 64/64 [00:00<00:00, 98544.59it/s]\n",
      "  0%|          | 0/64 [00:00<?, ?it/s]"
     ]
    },
    {
     "name": "stdout",
     "output_type": "stream",
     "text": [
      "(1, 3329)\n",
      "(397, 3330)\n"
     ]
    },
    {
     "name": "stderr",
     "output_type": "stream",
     "text": [
      "100%|██████████| 64/64 [00:00<00:00, 107.74it/s]\n",
      "100%|██████████| 64/64 [00:00<00:00, 112.30it/s]\n",
      "100%|██████████| 64/64 [00:00<00:00, 115.60it/s]\n",
      "100%|██████████| 64/64 [00:00<00:00, 2671.19it/s]\n",
      "100%|██████████| 64/64 [00:00<00:00, 210.16it/s]\n",
      "100%|██████████| 64/64 [00:00<00:00, 168.54it/s]\n",
      "100%|██████████| 64/64 [00:07<00:00,  9.04it/s]\n",
      "100%|██████████| 64/64 [00:00<00:00, 3827.63it/s]\n",
      "100%|██████████| 64/64 [00:00<00:00, 1469.14it/s]\n",
      "100%|██████████| 64/64 [00:00<00:00, 1489.85it/s]\n",
      "100%|██████████| 64/64 [00:00<00:00, 7739.01it/s]\n",
      "100%|██████████| 64/64 [00:00<00:00, 70640.91it/s]\n",
      "  0%|          | 0/64 [00:00<?, ?it/s]"
     ]
    },
    {
     "name": "stdout",
     "output_type": "stream",
     "text": [
      "(1, 3329)\n",
      "(398, 3330)\n"
     ]
    },
    {
     "name": "stderr",
     "output_type": "stream",
     "text": [
      "100%|██████████| 64/64 [00:00<00:00, 105.12it/s]\n",
      "100%|██████████| 64/64 [00:00<00:00, 109.43it/s]\n",
      "100%|██████████| 64/64 [00:00<00:00, 114.06it/s]\n",
      "100%|██████████| 64/64 [00:00<00:00, 2400.11it/s]\n",
      "100%|██████████| 64/64 [00:00<00:00, 207.43it/s]\n",
      "100%|██████████| 64/64 [00:00<00:00, 174.00it/s]\n",
      "100%|██████████| 64/64 [00:06<00:00,  9.24it/s]\n",
      "100%|██████████| 64/64 [00:00<00:00, 3889.52it/s]\n",
      "100%|██████████| 64/64 [00:00<00:00, 1601.64it/s]\n",
      "100%|██████████| 64/64 [00:00<00:00, 1522.74it/s]\n",
      "100%|██████████| 64/64 [00:00<00:00, 7600.31it/s]\n",
      "100%|██████████| 64/64 [00:00<00:00, 47849.46it/s]\n",
      "  0%|          | 0/64 [00:00<?, ?it/s]"
     ]
    },
    {
     "name": "stdout",
     "output_type": "stream",
     "text": [
      "(1, 3329)\n",
      "(399, 3330)\n"
     ]
    },
    {
     "name": "stderr",
     "output_type": "stream",
     "text": [
      "100%|██████████| 64/64 [00:00<00:00, 113.12it/s]\n",
      "100%|██████████| 64/64 [00:00<00:00, 112.30it/s]\n",
      "100%|██████████| 64/64 [00:00<00:00, 116.73it/s]\n",
      "100%|██████████| 64/64 [00:00<00:00, 2624.08it/s]\n",
      "100%|██████████| 64/64 [00:00<00:00, 213.65it/s]\n",
      "100%|██████████| 64/64 [00:00<00:00, 178.90it/s]\n",
      "100%|██████████| 64/64 [00:06<00:00,  9.23it/s]\n",
      "100%|██████████| 64/64 [00:00<00:00, 3848.87it/s]\n",
      "100%|██████████| 64/64 [00:00<00:00, 1565.99it/s]\n",
      "100%|██████████| 64/64 [00:00<00:00, 1583.56it/s]\n",
      "100%|██████████| 64/64 [00:00<00:00, 8427.85it/s]\n",
      "100%|██████████| 64/64 [00:00<00:00, 165598.68it/s]\n",
      "  0%|          | 0/64 [00:00<?, ?it/s]"
     ]
    },
    {
     "name": "stdout",
     "output_type": "stream",
     "text": [
      "(1, 3329)\n",
      "(400, 3330)\n"
     ]
    },
    {
     "name": "stderr",
     "output_type": "stream",
     "text": [
      "100%|██████████| 64/64 [00:00<00:00, 111.56it/s]\n",
      "100%|██████████| 64/64 [00:00<00:00, 117.22it/s]\n",
      "100%|██████████| 64/64 [00:00<00:00, 118.90it/s]\n",
      "100%|██████████| 64/64 [00:00<00:00, 2227.26it/s]\n",
      "100%|██████████| 64/64 [00:00<00:00, 207.27it/s]\n",
      "100%|██████████| 64/64 [00:00<00:00, 176.74it/s]\n",
      "100%|██████████| 64/64 [00:06<00:00,  9.24it/s]\n",
      "100%|██████████| 64/64 [00:00<00:00, 4258.45it/s]\n",
      "100%|██████████| 64/64 [00:00<00:00, 1456.14it/s]\n",
      "100%|██████████| 64/64 [00:00<00:00, 1363.22it/s]\n",
      "100%|██████████| 64/64 [00:00<00:00, 7856.11it/s]\n",
      "100%|██████████| 64/64 [00:00<00:00, 94786.53it/s]\n",
      "  0%|          | 0/64 [00:00<?, ?it/s]"
     ]
    },
    {
     "name": "stdout",
     "output_type": "stream",
     "text": [
      "(1, 3329)\n",
      "(401, 3330)\n"
     ]
    },
    {
     "name": "stderr",
     "output_type": "stream",
     "text": [
      "100%|██████████| 64/64 [00:00<00:00, 102.18it/s]\n",
      "100%|██████████| 64/64 [00:00<00:00, 107.55it/s]\n",
      "100%|██████████| 64/64 [00:00<00:00, 114.17it/s]\n",
      "100%|██████████| 64/64 [00:00<00:00, 2005.81it/s]\n",
      "100%|██████████| 64/64 [00:00<00:00, 213.78it/s]\n",
      "100%|██████████| 64/64 [00:00<00:00, 172.74it/s]\n",
      "100%|██████████| 64/64 [00:06<00:00,  9.15it/s]\n",
      "100%|██████████| 64/64 [00:00<00:00, 3614.76it/s]\n",
      "100%|██████████| 64/64 [00:00<00:00, 1338.84it/s]\n",
      "100%|██████████| 64/64 [00:00<00:00, 1507.25it/s]\n",
      "100%|██████████| 64/64 [00:00<00:00, 7898.41it/s]\n",
      "100%|██████████| 64/64 [00:00<00:00, 88944.82it/s]\n",
      "  0%|          | 0/64 [00:00<?, ?it/s]"
     ]
    },
    {
     "name": "stdout",
     "output_type": "stream",
     "text": [
      "(1, 3329)\n",
      "(402, 3330)\n"
     ]
    },
    {
     "name": "stderr",
     "output_type": "stream",
     "text": [
      "100%|██████████| 64/64 [00:00<00:00, 106.53it/s]\n",
      "100%|██████████| 64/64 [00:00<00:00, 98.10it/s]\n",
      "100%|██████████| 64/64 [00:00<00:00, 113.48it/s]\n",
      "100%|██████████| 64/64 [00:00<00:00, 2349.32it/s]\n",
      "100%|██████████| 64/64 [00:00<00:00, 210.35it/s]\n",
      "100%|██████████| 64/64 [00:00<00:00, 176.11it/s]\n",
      "100%|██████████| 64/64 [00:06<00:00,  9.25it/s]\n",
      "100%|██████████| 64/64 [00:00<00:00, 3854.73it/s]\n",
      "100%|██████████| 64/64 [00:00<00:00, 1684.92it/s]\n",
      "100%|██████████| 64/64 [00:00<00:00, 1520.04it/s]\n",
      "100%|██████████| 64/64 [00:00<00:00, 7824.74it/s]\n",
      "100%|██████████| 64/64 [00:00<00:00, 137942.17it/s]\n",
      "  0%|          | 0/64 [00:00<?, ?it/s]"
     ]
    },
    {
     "name": "stdout",
     "output_type": "stream",
     "text": [
      "(1, 3329)\n",
      "(403, 3330)\n"
     ]
    },
    {
     "name": "stderr",
     "output_type": "stream",
     "text": [
      "100%|██████████| 64/64 [00:00<00:00, 108.54it/s]\n",
      "100%|██████████| 64/64 [00:00<00:00, 113.72it/s]\n",
      "100%|██████████| 64/64 [00:00<00:00, 117.90it/s]\n",
      "100%|██████████| 64/64 [00:00<00:00, 2411.39it/s]\n",
      "100%|██████████| 64/64 [00:00<00:00, 224.27it/s]\n",
      "100%|██████████| 64/64 [00:00<00:00, 174.67it/s]\n",
      "100%|██████████| 64/64 [00:06<00:00,  9.37it/s]\n",
      "100%|██████████| 64/64 [00:00<00:00, 3720.11it/s]\n",
      "100%|██████████| 64/64 [00:00<00:00, 1237.62it/s]\n",
      "100%|██████████| 64/64 [00:00<00:00, 1321.88it/s]\n",
      "100%|██████████| 64/64 [00:00<00:00, 7462.14it/s]\n",
      "100%|██████████| 64/64 [00:00<00:00, 319566.02it/s]\n",
      "  0%|          | 0/64 [00:00<?, ?it/s]"
     ]
    },
    {
     "name": "stdout",
     "output_type": "stream",
     "text": [
      "(1, 3329)\n",
      "(404, 3330)\n"
     ]
    },
    {
     "name": "stderr",
     "output_type": "stream",
     "text": [
      "100%|██████████| 64/64 [00:00<00:00, 99.00it/s]\n",
      "100%|██████████| 64/64 [00:00<00:00, 112.61it/s]\n",
      "100%|██████████| 64/64 [00:00<00:00, 111.40it/s]\n",
      "100%|██████████| 64/64 [00:00<00:00, 1882.94it/s]\n",
      "100%|██████████| 64/64 [00:00<00:00, 221.75it/s]\n",
      "100%|██████████| 64/64 [00:00<00:00, 184.15it/s]\n",
      "100%|██████████| 64/64 [00:07<00:00,  9.14it/s]\n",
      "100%|██████████| 64/64 [00:00<00:00, 3846.00it/s]\n",
      "100%|██████████| 64/64 [00:00<00:00, 1455.72it/s]\n",
      "100%|██████████| 64/64 [00:00<00:00, 1502.70it/s]\n",
      "100%|██████████| 64/64 [00:00<00:00, 8131.70it/s]\n",
      "100%|██████████| 64/64 [00:00<00:00, 246950.74it/s]\n",
      "  0%|          | 0/64 [00:00<?, ?it/s]"
     ]
    },
    {
     "name": "stdout",
     "output_type": "stream",
     "text": [
      "(1, 3329)\n",
      "(405, 3330)\n"
     ]
    },
    {
     "name": "stderr",
     "output_type": "stream",
     "text": [
      "100%|██████████| 64/64 [00:00<00:00, 108.83it/s]\n",
      "100%|██████████| 64/64 [00:00<00:00, 114.09it/s]\n",
      "100%|██████████| 64/64 [00:00<00:00, 118.30it/s]\n",
      "100%|██████████| 64/64 [00:00<00:00, 2362.41it/s]\n",
      "100%|██████████| 64/64 [00:00<00:00, 218.52it/s]\n",
      "100%|██████████| 64/64 [00:00<00:00, 171.81it/s]\n",
      "100%|██████████| 64/64 [00:06<00:00,  9.25it/s]\n",
      "100%|██████████| 64/64 [00:00<00:00, 3933.18it/s]\n",
      "100%|██████████| 64/64 [00:00<00:00, 1305.12it/s]\n",
      "100%|██████████| 64/64 [00:00<00:00, 1480.23it/s]\n",
      "100%|██████████| 64/64 [00:00<00:00, 7948.70it/s]\n",
      "100%|██████████| 64/64 [00:00<00:00, 99641.97it/s]\n",
      "  0%|          | 0/64 [00:00<?, ?it/s]"
     ]
    },
    {
     "name": "stdout",
     "output_type": "stream",
     "text": [
      "(1, 3329)\n",
      "(406, 3330)\n"
     ]
    },
    {
     "name": "stderr",
     "output_type": "stream",
     "text": [
      "100%|██████████| 64/64 [00:00<00:00, 112.96it/s]\n",
      "100%|██████████| 64/64 [00:00<00:00, 111.13it/s]\n",
      "100%|██████████| 64/64 [00:00<00:00, 118.77it/s]\n",
      "100%|██████████| 64/64 [00:00<00:00, 2913.91it/s]\n",
      "100%|██████████| 64/64 [00:00<00:00, 222.58it/s]\n",
      "100%|██████████| 64/64 [00:00<00:00, 183.79it/s]\n",
      "100%|██████████| 64/64 [00:06<00:00,  9.48it/s]\n",
      "100%|██████████| 64/64 [00:00<00:00, 3682.04it/s]\n",
      "100%|██████████| 64/64 [00:00<00:00, 1534.57it/s]\n",
      "100%|██████████| 64/64 [00:00<00:00, 1548.49it/s]\n",
      "100%|██████████| 64/64 [00:00<00:00, 7462.55it/s]\n",
      "100%|██████████| 64/64 [00:00<00:00, 61994.33it/s]\n",
      "  0%|          | 0/64 [00:00<?, ?it/s]"
     ]
    },
    {
     "name": "stdout",
     "output_type": "stream",
     "text": [
      "(1, 3329)\n",
      "(407, 3330)\n"
     ]
    },
    {
     "name": "stderr",
     "output_type": "stream",
     "text": [
      "100%|██████████| 64/64 [00:00<00:00, 112.42it/s]\n",
      "100%|██████████| 64/64 [00:00<00:00, 114.16it/s]\n",
      "100%|██████████| 64/64 [00:00<00:00, 120.47it/s]\n",
      "100%|██████████| 64/64 [00:00<00:00, 2455.91it/s]\n",
      "100%|██████████| 64/64 [00:00<00:00, 222.37it/s]\n",
      "100%|██████████| 64/64 [00:00<00:00, 171.13it/s]\n",
      "100%|██████████| 64/64 [00:06<00:00,  9.51it/s]\n",
      "100%|██████████| 64/64 [00:00<00:00, 3498.99it/s]\n",
      "100%|██████████| 64/64 [00:00<00:00, 1665.84it/s]\n",
      "100%|██████████| 64/64 [00:00<00:00, 1551.91it/s]\n",
      "100%|██████████| 64/64 [00:00<00:00, 6970.90it/s]\n",
      "100%|██████████| 64/64 [00:00<00:00, 242270.27it/s]\n",
      "  0%|          | 0/64 [00:00<?, ?it/s]"
     ]
    },
    {
     "name": "stdout",
     "output_type": "stream",
     "text": [
      "(1, 3329)\n",
      "(408, 3330)\n"
     ]
    },
    {
     "name": "stderr",
     "output_type": "stream",
     "text": [
      "100%|██████████| 64/64 [00:00<00:00, 113.92it/s]\n",
      "100%|██████████| 64/64 [00:00<00:00, 100.53it/s]\n",
      "100%|██████████| 64/64 [00:00<00:00, 112.92it/s]\n",
      "100%|██████████| 64/64 [00:00<00:00, 2690.89it/s]\n",
      "100%|██████████| 64/64 [00:00<00:00, 214.59it/s]\n",
      "100%|██████████| 64/64 [00:00<00:00, 178.20it/s]\n",
      "100%|██████████| 64/64 [00:06<00:00,  9.37it/s]\n",
      "100%|██████████| 64/64 [00:00<00:00, 3547.36it/s]\n",
      "100%|██████████| 64/64 [00:00<00:00, 1526.16it/s]\n",
      "100%|██████████| 64/64 [00:00<00:00, 1540.06it/s]\n",
      "100%|██████████| 64/64 [00:00<00:00, 7493.80it/s]\n",
      "100%|██████████| 64/64 [00:00<00:00, 23575.92it/s]\n",
      "  0%|          | 0/64 [00:00<?, ?it/s]"
     ]
    },
    {
     "name": "stdout",
     "output_type": "stream",
     "text": [
      "(1, 3329)\n",
      "(409, 3330)\n"
     ]
    },
    {
     "name": "stderr",
     "output_type": "stream",
     "text": [
      "100%|██████████| 64/64 [00:00<00:00, 109.89it/s]\n",
      "100%|██████████| 64/64 [00:00<00:00, 106.58it/s]\n",
      "100%|██████████| 64/64 [00:00<00:00, 116.56it/s]\n",
      "100%|██████████| 64/64 [00:00<00:00, 2341.86it/s]\n",
      "100%|██████████| 64/64 [00:00<00:00, 205.77it/s]\n",
      "100%|██████████| 64/64 [00:00<00:00, 168.51it/s]\n",
      "100%|██████████| 64/64 [00:07<00:00,  9.12it/s]\n",
      "100%|██████████| 64/64 [00:00<00:00, 3173.22it/s]\n",
      "100%|██████████| 64/64 [00:00<00:00, 1532.48it/s]\n",
      "100%|██████████| 64/64 [00:00<00:00, 1543.79it/s]\n",
      "100%|██████████| 64/64 [00:00<00:00, 8311.21it/s]\n",
      "100%|██████████| 64/64 [00:00<00:00, 95291.25it/s]\n",
      "  0%|          | 0/64 [00:00<?, ?it/s]"
     ]
    },
    {
     "name": "stdout",
     "output_type": "stream",
     "text": [
      "(1, 3329)\n",
      "(410, 3330)\n"
     ]
    },
    {
     "name": "stderr",
     "output_type": "stream",
     "text": [
      "100%|██████████| 64/64 [00:00<00:00, 108.15it/s]\n",
      "100%|██████████| 64/64 [00:00<00:00, 113.25it/s]\n",
      "100%|██████████| 64/64 [00:00<00:00, 113.05it/s]\n",
      "100%|██████████| 64/64 [00:00<00:00, 2553.59it/s]\n",
      "100%|██████████| 64/64 [00:00<00:00, 209.50it/s]\n",
      "100%|██████████| 64/64 [00:00<00:00, 165.69it/s]\n",
      "100%|██████████| 64/64 [00:06<00:00,  9.33it/s]\n",
      "100%|██████████| 64/64 [00:00<00:00, 4147.77it/s]\n",
      "100%|██████████| 64/64 [00:00<00:00, 1557.65it/s]\n",
      "100%|██████████| 64/64 [00:00<00:00, 1541.43it/s]\n",
      "100%|██████████| 64/64 [00:00<00:00, 7779.84it/s]\n",
      "100%|██████████| 64/64 [00:00<00:00, 23941.80it/s]\n",
      "  0%|          | 0/64 [00:00<?, ?it/s]"
     ]
    },
    {
     "name": "stdout",
     "output_type": "stream",
     "text": [
      "(1, 3329)\n",
      "(411, 3330)\n"
     ]
    },
    {
     "name": "stderr",
     "output_type": "stream",
     "text": [
      "100%|██████████| 64/64 [00:00<00:00, 115.18it/s]\n",
      "100%|██████████| 64/64 [00:00<00:00, 111.32it/s]\n",
      "100%|██████████| 64/64 [00:00<00:00, 119.19it/s]\n",
      "100%|██████████| 64/64 [00:00<00:00, 2465.67it/s]\n",
      "100%|██████████| 64/64 [00:00<00:00, 208.10it/s]\n",
      "100%|██████████| 64/64 [00:00<00:00, 179.12it/s]\n",
      "100%|██████████| 64/64 [00:07<00:00,  9.07it/s]\n",
      "100%|██████████| 64/64 [00:00<00:00, 2919.71it/s]\n",
      "100%|██████████| 64/64 [00:00<00:00, 1457.68it/s]\n",
      "100%|██████████| 64/64 [00:00<00:00, 1549.69it/s]\n",
      "100%|██████████| 64/64 [00:00<00:00, 7681.22it/s]\n",
      "100%|██████████| 64/64 [00:00<00:00, 34975.30it/s]\n",
      "  0%|          | 0/64 [00:00<?, ?it/s]"
     ]
    },
    {
     "name": "stdout",
     "output_type": "stream",
     "text": [
      "(1, 3329)\n",
      "(412, 3330)\n"
     ]
    },
    {
     "name": "stderr",
     "output_type": "stream",
     "text": [
      "100%|██████████| 64/64 [00:00<00:00, 111.17it/s]\n",
      "100%|██████████| 64/64 [00:00<00:00, 111.01it/s]\n",
      "100%|██████████| 64/64 [00:00<00:00, 114.03it/s]\n",
      "100%|██████████| 64/64 [00:00<00:00, 2527.43it/s]\n",
      "100%|██████████| 64/64 [00:00<00:00, 215.73it/s]\n",
      "100%|██████████| 64/64 [00:00<00:00, 175.64it/s]\n",
      "100%|██████████| 64/64 [00:06<00:00,  9.24it/s]\n",
      "100%|██████████| 64/64 [00:00<00:00, 3866.33it/s]\n",
      "100%|██████████| 64/64 [00:00<00:00, 1662.32it/s]\n",
      "100%|██████████| 64/64 [00:00<00:00, 1618.18it/s]\n",
      "100%|██████████| 64/64 [00:00<00:00, 6129.22it/s]\n",
      "100%|██████████| 64/64 [00:00<00:00, 95835.58it/s]\n",
      "  0%|          | 0/64 [00:00<?, ?it/s]"
     ]
    },
    {
     "name": "stdout",
     "output_type": "stream",
     "text": [
      "(1, 3329)\n",
      "(413, 3330)\n"
     ]
    },
    {
     "name": "stderr",
     "output_type": "stream",
     "text": [
      "100%|██████████| 64/64 [00:00<00:00, 115.28it/s]\n",
      "100%|██████████| 64/64 [00:00<00:00, 109.76it/s]\n",
      "100%|██████████| 64/64 [00:00<00:00, 119.91it/s]\n",
      "100%|██████████| 64/64 [00:00<00:00, 2677.47it/s]\n",
      "100%|██████████| 64/64 [00:00<00:00, 222.39it/s]\n",
      "100%|██████████| 64/64 [00:00<00:00, 174.51it/s]\n",
      "100%|██████████| 64/64 [00:06<00:00,  9.16it/s]\n",
      "100%|██████████| 64/64 [00:00<00:00, 3854.78it/s]\n",
      "100%|██████████| 64/64 [00:00<00:00, 1578.56it/s]\n",
      "100%|██████████| 64/64 [00:00<00:00, 1488.35it/s]\n",
      "100%|██████████| 64/64 [00:00<00:00, 7949.40it/s]\n",
      "100%|██████████| 64/64 [00:00<00:00, 22170.09it/s]\n",
      "  0%|          | 0/64 [00:00<?, ?it/s]"
     ]
    },
    {
     "name": "stdout",
     "output_type": "stream",
     "text": [
      "(1, 3329)\n",
      "(414, 3330)\n"
     ]
    },
    {
     "name": "stderr",
     "output_type": "stream",
     "text": [
      "100%|██████████| 64/64 [00:00<00:00, 103.95it/s]\n",
      "100%|██████████| 64/64 [00:00<00:00, 107.29it/s]\n",
      "100%|██████████| 64/64 [00:00<00:00, 111.99it/s]\n",
      "100%|██████████| 64/64 [00:00<00:00, 2302.41it/s]\n",
      "100%|██████████| 64/64 [00:00<00:00, 215.12it/s]\n",
      "100%|██████████| 64/64 [00:00<00:00, 177.41it/s]\n",
      "100%|██████████| 64/64 [00:06<00:00,  9.29it/s]\n",
      "100%|██████████| 64/64 [00:00<00:00, 3062.90it/s]\n",
      "100%|██████████| 64/64 [00:00<00:00, 1491.98it/s]\n",
      "100%|██████████| 64/64 [00:00<00:00, 1565.76it/s]\n",
      "100%|██████████| 64/64 [00:00<00:00, 7073.03it/s]\n",
      "100%|██████████| 64/64 [00:00<00:00, 86592.08it/s]\n",
      "  0%|          | 0/64 [00:00<?, ?it/s]"
     ]
    },
    {
     "name": "stdout",
     "output_type": "stream",
     "text": [
      "(1, 3329)\n",
      "(415, 3330)\n"
     ]
    },
    {
     "name": "stderr",
     "output_type": "stream",
     "text": [
      "100%|██████████| 64/64 [00:00<00:00, 109.25it/s]\n",
      "100%|██████████| 64/64 [00:00<00:00, 110.72it/s]\n",
      "100%|██████████| 64/64 [00:00<00:00, 120.76it/s]\n",
      "100%|██████████| 64/64 [00:00<00:00, 2536.09it/s]\n",
      "100%|██████████| 64/64 [00:00<00:00, 220.88it/s]\n",
      "100%|██████████| 64/64 [00:00<00:00, 178.35it/s]\n",
      "100%|██████████| 64/64 [00:06<00:00,  9.38it/s]\n",
      "100%|██████████| 64/64 [00:00<00:00, 3882.44it/s]\n",
      "100%|██████████| 64/64 [00:00<00:00, 1638.72it/s]\n",
      "100%|██████████| 64/64 [00:00<00:00, 1467.03it/s]\n",
      "100%|██████████| 64/64 [00:00<00:00, 8045.90it/s]\n",
      "100%|██████████| 64/64 [00:00<00:00, 83807.51it/s]\n",
      "  0%|          | 0/64 [00:00<?, ?it/s]"
     ]
    },
    {
     "name": "stdout",
     "output_type": "stream",
     "text": [
      "(1, 3329)\n",
      "(416, 3330)\n"
     ]
    },
    {
     "name": "stderr",
     "output_type": "stream",
     "text": [
      "100%|██████████| 64/64 [00:00<00:00, 111.09it/s]\n",
      "100%|██████████| 64/64 [00:00<00:00, 109.45it/s]\n",
      "100%|██████████| 64/64 [00:00<00:00, 112.55it/s]\n",
      "100%|██████████| 64/64 [00:00<00:00, 2687.79it/s]\n",
      "100%|██████████| 64/64 [00:00<00:00, 222.61it/s]\n",
      "100%|██████████| 64/64 [00:00<00:00, 175.57it/s]\n",
      "100%|██████████| 64/64 [00:06<00:00,  9.23it/s]\n",
      "100%|██████████| 64/64 [00:00<00:00, 3843.25it/s]\n",
      "100%|██████████| 64/64 [00:00<00:00, 1512.47it/s]\n",
      "100%|██████████| 64/64 [00:00<00:00, 1479.41it/s]\n",
      "100%|██████████| 64/64 [00:00<00:00, 8030.50it/s]\n",
      "100%|██████████| 64/64 [00:00<00:00, 73867.76it/s]\n",
      "  0%|          | 0/64 [00:00<?, ?it/s]"
     ]
    },
    {
     "name": "stdout",
     "output_type": "stream",
     "text": [
      "(1, 3329)\n",
      "(417, 3330)\n"
     ]
    },
    {
     "name": "stderr",
     "output_type": "stream",
     "text": [
      "100%|██████████| 64/64 [00:00<00:00, 106.05it/s]\n",
      "100%|██████████| 64/64 [00:00<00:00, 110.04it/s]\n",
      "100%|██████████| 64/64 [00:00<00:00, 112.30it/s]\n",
      "100%|██████████| 64/64 [00:00<00:00, 2586.08it/s]\n",
      "100%|██████████| 64/64 [00:00<00:00, 194.57it/s]\n",
      "100%|██████████| 64/64 [00:00<00:00, 169.73it/s]\n",
      "100%|██████████| 64/64 [00:06<00:00,  9.33it/s]\n",
      "100%|██████████| 64/64 [00:00<00:00, 3818.32it/s]\n",
      "100%|██████████| 64/64 [00:00<00:00, 1484.09it/s]\n",
      "100%|██████████| 64/64 [00:00<00:00, 1540.20it/s]\n",
      "100%|██████████| 64/64 [00:00<00:00, 8104.20it/s]\n",
      "100%|██████████| 64/64 [00:00<00:00, 130689.12it/s]\n",
      "  0%|          | 0/64 [00:00<?, ?it/s]"
     ]
    },
    {
     "name": "stdout",
     "output_type": "stream",
     "text": [
      "(1, 3329)\n",
      "(418, 3330)\n"
     ]
    },
    {
     "name": "stderr",
     "output_type": "stream",
     "text": [
      "100%|██████████| 64/64 [00:00<00:00, 110.95it/s]\n",
      "100%|██████████| 64/64 [00:00<00:00, 117.61it/s]\n",
      "100%|██████████| 64/64 [00:00<00:00, 112.27it/s]\n",
      "100%|██████████| 64/64 [00:00<00:00, 2693.11it/s]\n",
      "100%|██████████| 64/64 [00:00<00:00, 214.30it/s]\n",
      "100%|██████████| 64/64 [00:00<00:00, 175.61it/s]\n",
      "100%|██████████| 64/64 [00:06<00:00,  9.43it/s]\n",
      "100%|██████████| 64/64 [00:00<00:00, 2798.24it/s]\n",
      "100%|██████████| 64/64 [00:00<00:00, 1473.61it/s]\n",
      "100%|██████████| 64/64 [00:00<00:00, 1508.74it/s]\n",
      "100%|██████████| 64/64 [00:00<00:00, 6880.14it/s]\n",
      "100%|██████████| 64/64 [00:00<00:00, 57530.10it/s]\n",
      "  0%|          | 0/64 [00:00<?, ?it/s]"
     ]
    },
    {
     "name": "stdout",
     "output_type": "stream",
     "text": [
      "(1, 3329)\n",
      "(419, 3330)\n"
     ]
    },
    {
     "name": "stderr",
     "output_type": "stream",
     "text": [
      "100%|██████████| 64/64 [00:00<00:00, 106.64it/s]\n",
      "100%|██████████| 64/64 [00:00<00:00, 111.57it/s]\n",
      "100%|██████████| 64/64 [00:00<00:00, 115.86it/s]\n",
      "100%|██████████| 64/64 [00:00<00:00, 2102.79it/s]\n",
      "100%|██████████| 64/64 [00:00<00:00, 210.30it/s]\n",
      "100%|██████████| 64/64 [00:00<00:00, 177.44it/s]\n",
      "100%|██████████| 64/64 [00:06<00:00,  9.44it/s]\n",
      "100%|██████████| 64/64 [00:00<00:00, 4023.49it/s]\n",
      "100%|██████████| 64/64 [00:00<00:00, 1555.44it/s]\n",
      "100%|██████████| 64/64 [00:00<00:00, 1589.46it/s]\n",
      "100%|██████████| 64/64 [00:00<00:00, 8468.53it/s]\n",
      "100%|██████████| 64/64 [00:00<00:00, 31195.29it/s]\n",
      "  0%|          | 0/64 [00:00<?, ?it/s]"
     ]
    },
    {
     "name": "stdout",
     "output_type": "stream",
     "text": [
      "(1, 3329)\n",
      "(420, 3330)\n"
     ]
    },
    {
     "name": "stderr",
     "output_type": "stream",
     "text": [
      "100%|██████████| 64/64 [00:00<00:00, 112.01it/s]\n",
      "100%|██████████| 64/64 [00:00<00:00, 114.11it/s]\n",
      "100%|██████████| 64/64 [00:00<00:00, 113.45it/s]\n",
      "100%|██████████| 64/64 [00:00<00:00, 2639.74it/s]\n",
      "100%|██████████| 64/64 [00:00<00:00, 222.88it/s]\n",
      "100%|██████████| 64/64 [00:00<00:00, 177.12it/s]\n",
      "100%|██████████| 64/64 [00:06<00:00,  9.20it/s]\n",
      "100%|██████████| 64/64 [00:00<00:00, 3906.62it/s]\n",
      "100%|██████████| 64/64 [00:00<00:00, 1509.08it/s]\n",
      "100%|██████████| 64/64 [00:00<00:00, 1606.58it/s]\n",
      "100%|██████████| 64/64 [00:00<00:00, 8120.14it/s]\n",
      "100%|██████████| 64/64 [00:00<00:00, 108109.33it/s]\n",
      "  0%|          | 0/64 [00:00<?, ?it/s]"
     ]
    },
    {
     "name": "stdout",
     "output_type": "stream",
     "text": [
      "(1, 3329)\n",
      "(421, 3330)\n"
     ]
    },
    {
     "name": "stderr",
     "output_type": "stream",
     "text": [
      "100%|██████████| 64/64 [00:00<00:00, 113.17it/s]\n",
      "100%|██████████| 64/64 [00:00<00:00, 112.49it/s]\n",
      "100%|██████████| 64/64 [00:00<00:00, 118.40it/s]\n",
      "100%|██████████| 64/64 [00:00<00:00, 2328.37it/s]\n",
      "100%|██████████| 64/64 [00:00<00:00, 208.67it/s]\n",
      "100%|██████████| 64/64 [00:00<00:00, 175.49it/s]\n",
      "100%|██████████| 64/64 [00:06<00:00,  9.31it/s]\n",
      "100%|██████████| 64/64 [00:00<00:00, 3785.21it/s]\n",
      "100%|██████████| 64/64 [00:00<00:00, 1616.90it/s]\n",
      "100%|██████████| 64/64 [00:00<00:00, 1588.92it/s]\n",
      "100%|██████████| 64/64 [00:00<00:00, 7610.44it/s]\n",
      "100%|██████████| 64/64 [00:00<00:00, 89898.01it/s]\n",
      "  0%|          | 0/64 [00:00<?, ?it/s]"
     ]
    },
    {
     "name": "stdout",
     "output_type": "stream",
     "text": [
      "(1, 3329)\n",
      "(422, 3330)\n"
     ]
    },
    {
     "name": "stderr",
     "output_type": "stream",
     "text": [
      "100%|██████████| 64/64 [00:00<00:00, 107.50it/s]\n",
      "100%|██████████| 64/64 [00:00<00:00, 111.51it/s]\n",
      "100%|██████████| 64/64 [00:00<00:00, 111.95it/s]\n",
      "100%|██████████| 64/64 [00:00<00:00, 2562.46it/s]\n",
      "100%|██████████| 64/64 [00:00<00:00, 216.29it/s]\n",
      "100%|██████████| 64/64 [00:00<00:00, 175.48it/s]\n",
      "100%|██████████| 64/64 [00:06<00:00,  9.45it/s]\n",
      "100%|██████████| 64/64 [00:00<00:00, 4084.78it/s]\n",
      "100%|██████████| 64/64 [00:00<00:00, 1526.52it/s]\n",
      "100%|██████████| 64/64 [00:00<00:00, 1435.65it/s]\n",
      "100%|██████████| 64/64 [00:00<00:00, 8600.94it/s]\n",
      "100%|██████████| 64/64 [00:00<00:00, 81640.95it/s]\n",
      "  0%|          | 0/64 [00:00<?, ?it/s]"
     ]
    },
    {
     "name": "stdout",
     "output_type": "stream",
     "text": [
      "(1, 3329)\n",
      "(423, 3330)\n"
     ]
    },
    {
     "name": "stderr",
     "output_type": "stream",
     "text": [
      "100%|██████████| 64/64 [00:00<00:00, 111.29it/s]\n",
      "100%|██████████| 64/64 [00:00<00:00, 109.93it/s]\n",
      "100%|██████████| 64/64 [00:00<00:00, 119.74it/s]\n",
      "100%|██████████| 64/64 [00:00<00:00, 2578.63it/s]\n",
      "100%|██████████| 64/64 [00:00<00:00, 221.15it/s]\n",
      "100%|██████████| 64/64 [00:00<00:00, 176.72it/s]\n",
      "100%|██████████| 64/64 [00:06<00:00,  9.16it/s]\n",
      "100%|██████████| 64/64 [00:00<00:00, 3404.68it/s]\n",
      "100%|██████████| 64/64 [00:00<00:00, 1516.95it/s]\n",
      "100%|██████████| 64/64 [00:00<00:00, 1619.10it/s]\n",
      "100%|██████████| 64/64 [00:00<00:00, 8407.52it/s]\n",
      "100%|██████████| 64/64 [00:00<00:00, 90230.41it/s]\n",
      "  0%|          | 0/64 [00:00<?, ?it/s]"
     ]
    },
    {
     "name": "stdout",
     "output_type": "stream",
     "text": [
      "(1, 3329)\n",
      "(424, 3330)\n"
     ]
    },
    {
     "name": "stderr",
     "output_type": "stream",
     "text": [
      "100%|██████████| 64/64 [00:00<00:00, 104.34it/s]\n",
      "100%|██████████| 64/64 [00:00<00:00, 103.66it/s]\n",
      "100%|██████████| 64/64 [00:00<00:00, 114.70it/s]\n",
      "100%|██████████| 64/64 [00:00<00:00, 2629.07it/s]\n",
      "100%|██████████| 64/64 [00:00<00:00, 215.95it/s]\n",
      "100%|██████████| 64/64 [00:00<00:00, 176.66it/s]\n",
      "100%|██████████| 64/64 [00:06<00:00,  9.39it/s]\n",
      "100%|██████████| 64/64 [00:00<00:00, 3769.37it/s]\n",
      "100%|██████████| 64/64 [00:00<00:00, 1490.48it/s]\n",
      "100%|██████████| 64/64 [00:00<00:00, 1535.78it/s]\n",
      "100%|██████████| 64/64 [00:00<00:00, 8478.16it/s]\n",
      "100%|██████████| 64/64 [00:00<00:00, 21569.74it/s]\n",
      "  0%|          | 0/64 [00:00<?, ?it/s]"
     ]
    },
    {
     "name": "stdout",
     "output_type": "stream",
     "text": [
      "(1, 3329)\n",
      "(425, 3330)\n"
     ]
    },
    {
     "name": "stderr",
     "output_type": "stream",
     "text": [
      "100%|██████████| 64/64 [00:00<00:00, 111.72it/s]\n",
      "100%|██████████| 64/64 [00:00<00:00, 114.42it/s]\n",
      "100%|██████████| 64/64 [00:00<00:00, 121.31it/s]\n",
      "100%|██████████| 64/64 [00:00<00:00, 2184.68it/s]\n",
      "100%|██████████| 64/64 [00:00<00:00, 202.65it/s]\n",
      "100%|██████████| 64/64 [00:00<00:00, 181.61it/s]\n",
      "100%|██████████| 64/64 [00:06<00:00,  9.50it/s]\n",
      "100%|██████████| 64/64 [00:00<00:00, 4180.33it/s]\n",
      "100%|██████████| 64/64 [00:00<00:00, 1438.09it/s]\n",
      "100%|██████████| 64/64 [00:00<00:00, 1536.87it/s]\n",
      "100%|██████████| 64/64 [00:00<00:00, 8202.51it/s]\n",
      "100%|██████████| 64/64 [00:00<00:00, 113025.46it/s]\n",
      "  0%|          | 0/64 [00:00<?, ?it/s]"
     ]
    },
    {
     "name": "stdout",
     "output_type": "stream",
     "text": [
      "(1, 3329)\n",
      "(426, 3330)\n"
     ]
    },
    {
     "name": "stderr",
     "output_type": "stream",
     "text": [
      "100%|██████████| 64/64 [00:00<00:00, 113.24it/s]\n",
      "100%|██████████| 64/64 [00:00<00:00, 107.75it/s]\n",
      "100%|██████████| 64/64 [00:00<00:00, 122.94it/s]\n",
      "100%|██████████| 64/64 [00:00<00:00, 2053.61it/s]\n",
      "100%|██████████| 64/64 [00:00<00:00, 218.98it/s]\n",
      "100%|██████████| 64/64 [00:00<00:00, 172.30it/s]\n",
      "100%|██████████| 64/64 [00:06<00:00,  9.31it/s]\n",
      "100%|██████████| 64/64 [00:00<00:00, 3847.99it/s]\n",
      "100%|██████████| 64/64 [00:00<00:00, 1677.29it/s]\n",
      "100%|██████████| 64/64 [00:00<00:00, 1629.88it/s]\n",
      "100%|██████████| 64/64 [00:00<00:00, 8560.90it/s]\n",
      "100%|██████████| 64/64 [00:00<00:00, 215437.77it/s]\n",
      "  0%|          | 0/64 [00:00<?, ?it/s]"
     ]
    },
    {
     "name": "stdout",
     "output_type": "stream",
     "text": [
      "(1, 3329)\n",
      "(427, 3330)\n"
     ]
    },
    {
     "name": "stderr",
     "output_type": "stream",
     "text": [
      "100%|██████████| 64/64 [00:00<00:00, 110.15it/s]\n",
      "100%|██████████| 64/64 [00:00<00:00, 118.28it/s]\n",
      "100%|██████████| 64/64 [00:00<00:00, 114.67it/s]\n",
      "100%|██████████| 64/64 [00:00<00:00, 2419.32it/s]\n",
      "100%|██████████| 64/64 [00:00<00:00, 206.40it/s]\n",
      "100%|██████████| 64/64 [00:00<00:00, 165.04it/s]\n",
      "100%|██████████| 64/64 [00:06<00:00,  9.56it/s]\n",
      "100%|██████████| 64/64 [00:00<00:00, 3593.99it/s]\n",
      "100%|██████████| 64/64 [00:00<00:00, 1652.86it/s]\n",
      "100%|██████████| 64/64 [00:00<00:00, 1505.37it/s]\n",
      "100%|██████████| 64/64 [00:00<00:00, 6936.85it/s]\n",
      "100%|██████████| 64/64 [00:00<00:00, 139013.70it/s]\n",
      "  0%|          | 0/64 [00:00<?, ?it/s]"
     ]
    },
    {
     "name": "stdout",
     "output_type": "stream",
     "text": [
      "(1, 3329)\n",
      "(428, 3330)\n"
     ]
    },
    {
     "name": "stderr",
     "output_type": "stream",
     "text": [
      "100%|██████████| 64/64 [00:00<00:00, 109.28it/s]\n",
      "100%|██████████| 64/64 [00:00<00:00, 108.22it/s]\n",
      "100%|██████████| 64/64 [00:00<00:00, 119.09it/s]\n",
      "100%|██████████| 64/64 [00:00<00:00, 2483.42it/s]\n",
      "100%|██████████| 64/64 [00:00<00:00, 207.46it/s]\n",
      "100%|██████████| 64/64 [00:00<00:00, 178.03it/s]\n",
      "100%|██████████| 64/64 [00:06<00:00,  9.46it/s]\n",
      "100%|██████████| 64/64 [00:00<00:00, 3602.24it/s]\n",
      "100%|██████████| 64/64 [00:00<00:00, 1477.68it/s]\n",
      "100%|██████████| 64/64 [00:00<00:00, 1558.02it/s]\n",
      "100%|██████████| 64/64 [00:00<00:00, 8332.88it/s]\n",
      "100%|██████████| 64/64 [00:00<00:00, 225008.76it/s]\n",
      "  0%|          | 0/64 [00:00<?, ?it/s]"
     ]
    },
    {
     "name": "stdout",
     "output_type": "stream",
     "text": [
      "(1, 3329)\n",
      "(429, 3330)\n"
     ]
    },
    {
     "name": "stderr",
     "output_type": "stream",
     "text": [
      "100%|██████████| 64/64 [00:00<00:00, 115.74it/s]\n",
      "100%|██████████| 64/64 [00:00<00:00, 116.32it/s]\n",
      "100%|██████████| 64/64 [00:00<00:00, 123.03it/s]\n",
      "100%|██████████| 64/64 [00:00<00:00, 2460.59it/s]\n",
      "100%|██████████| 64/64 [00:00<00:00, 215.44it/s]\n",
      "100%|██████████| 64/64 [00:00<00:00, 175.93it/s]\n",
      "100%|██████████| 64/64 [00:06<00:00,  9.41it/s]\n",
      "100%|██████████| 64/64 [00:00<00:00, 4066.34it/s]\n",
      "100%|██████████| 64/64 [00:00<00:00, 1625.72it/s]\n",
      "100%|██████████| 64/64 [00:00<00:00, 1562.61it/s]\n",
      "100%|██████████| 64/64 [00:00<00:00, 7913.08it/s]\n",
      "100%|██████████| 64/64 [00:00<00:00, 92916.39it/s]\n",
      "  0%|          | 0/64 [00:00<?, ?it/s]"
     ]
    },
    {
     "name": "stdout",
     "output_type": "stream",
     "text": [
      "(1, 3329)\n",
      "(430, 3330)\n"
     ]
    },
    {
     "name": "stderr",
     "output_type": "stream",
     "text": [
      "100%|██████████| 64/64 [00:00<00:00, 110.81it/s]\n",
      "100%|██████████| 64/64 [00:00<00:00, 119.22it/s]\n",
      "100%|██████████| 64/64 [00:00<00:00, 118.56it/s]\n",
      "100%|██████████| 64/64 [00:00<00:00, 2420.61it/s]\n",
      "100%|██████████| 64/64 [00:00<00:00, 229.52it/s]\n",
      "100%|██████████| 64/64 [00:00<00:00, 168.45it/s]\n",
      "100%|██████████| 64/64 [00:07<00:00,  9.14it/s]\n",
      "100%|██████████| 64/64 [00:00<00:00, 2747.52it/s]\n",
      "100%|██████████| 64/64 [00:00<00:00, 1353.35it/s]\n",
      "100%|██████████| 64/64 [00:00<00:00, 1530.08it/s]\n",
      "100%|██████████| 64/64 [00:00<00:00, 7335.71it/s]\n",
      "100%|██████████| 64/64 [00:00<00:00, 39598.09it/s]\n",
      "  0%|          | 0/64 [00:00<?, ?it/s]"
     ]
    },
    {
     "name": "stdout",
     "output_type": "stream",
     "text": [
      "(1, 3329)\n",
      "(431, 3330)\n"
     ]
    },
    {
     "name": "stderr",
     "output_type": "stream",
     "text": [
      "100%|██████████| 64/64 [00:00<00:00, 106.38it/s]\n",
      "100%|██████████| 64/64 [00:00<00:00, 107.04it/s]\n",
      "100%|██████████| 64/64 [00:00<00:00, 121.26it/s]\n",
      "100%|██████████| 64/64 [00:00<00:00, 2413.86it/s]\n",
      "100%|██████████| 64/64 [00:00<00:00, 223.21it/s]\n",
      "100%|██████████| 64/64 [00:00<00:00, 176.65it/s]\n",
      "100%|██████████| 64/64 [00:06<00:00,  9.51it/s]\n",
      "100%|██████████| 64/64 [00:00<00:00, 4178.76it/s]\n",
      "100%|██████████| 64/64 [00:00<00:00, 1596.02it/s]\n",
      "100%|██████████| 64/64 [00:00<00:00, 1470.69it/s]\n",
      "100%|██████████| 64/64 [00:00<00:00, 6996.34it/s]\n",
      "100%|██████████| 64/64 [00:00<00:00, 23085.26it/s]\n",
      "  0%|          | 0/64 [00:00<?, ?it/s]"
     ]
    },
    {
     "name": "stdout",
     "output_type": "stream",
     "text": [
      "(1, 3329)\n",
      "(432, 3330)\n"
     ]
    },
    {
     "name": "stderr",
     "output_type": "stream",
     "text": [
      "100%|██████████| 64/64 [00:00<00:00, 112.23it/s]\n",
      "100%|██████████| 64/64 [00:00<00:00, 114.65it/s]\n",
      "100%|██████████| 64/64 [00:00<00:00, 120.04it/s]\n",
      "100%|██████████| 64/64 [00:00<00:00, 2401.27it/s]\n",
      "100%|██████████| 64/64 [00:00<00:00, 218.96it/s]\n",
      "100%|██████████| 64/64 [00:00<00:00, 181.78it/s]\n",
      "100%|██████████| 64/64 [00:07<00:00,  9.02it/s]\n",
      "100%|██████████| 64/64 [00:00<00:00, 3683.15it/s]\n",
      "100%|██████████| 64/64 [00:00<00:00, 1434.10it/s]\n",
      "100%|██████████| 64/64 [00:00<00:00, 1463.47it/s]\n",
      "100%|██████████| 64/64 [00:00<00:00, 8118.91it/s]\n",
      "100%|██████████| 64/64 [00:00<00:00, 248321.42it/s]\n",
      "  0%|          | 0/64 [00:00<?, ?it/s]"
     ]
    },
    {
     "name": "stdout",
     "output_type": "stream",
     "text": [
      "(1, 3329)\n",
      "(433, 3330)\n"
     ]
    },
    {
     "name": "stderr",
     "output_type": "stream",
     "text": [
      "100%|██████████| 64/64 [00:00<00:00, 111.44it/s]\n",
      "100%|██████████| 64/64 [00:00<00:00, 110.31it/s]\n",
      "100%|██████████| 64/64 [00:00<00:00, 119.19it/s]\n",
      "100%|██████████| 64/64 [00:00<00:00, 2412.58it/s]\n",
      "100%|██████████| 64/64 [00:00<00:00, 215.36it/s]\n",
      "100%|██████████| 64/64 [00:00<00:00, 179.15it/s]\n",
      "100%|██████████| 64/64 [00:07<00:00,  8.71it/s]\n",
      "100%|██████████| 64/64 [00:00<00:00, 4072.02it/s]\n",
      "100%|██████████| 64/64 [00:00<00:00, 1608.00it/s]\n",
      "100%|██████████| 64/64 [00:00<00:00, 1341.89it/s]\n",
      "100%|██████████| 64/64 [00:00<00:00, 7986.54it/s]\n",
      "100%|██████████| 64/64 [00:00<00:00, 144010.44it/s]\n",
      "  0%|          | 0/64 [00:00<?, ?it/s]"
     ]
    },
    {
     "name": "stdout",
     "output_type": "stream",
     "text": [
      "(1, 3329)\n",
      "(434, 3330)\n"
     ]
    },
    {
     "name": "stderr",
     "output_type": "stream",
     "text": [
      "100%|██████████| 64/64 [00:00<00:00, 113.95it/s]\n",
      "100%|██████████| 64/64 [00:00<00:00, 111.10it/s]\n",
      "100%|██████████| 64/64 [00:00<00:00, 119.47it/s]\n",
      "100%|██████████| 64/64 [00:00<00:00, 2558.48it/s]\n",
      "100%|██████████| 64/64 [00:00<00:00, 212.96it/s]\n",
      "100%|██████████| 64/64 [00:00<00:00, 169.12it/s]\n",
      "100%|██████████| 64/64 [00:06<00:00,  9.36it/s]\n",
      "100%|██████████| 64/64 [00:00<00:00, 4012.19it/s]\n",
      "100%|██████████| 64/64 [00:00<00:00, 1617.41it/s]\n",
      "100%|██████████| 64/64 [00:00<00:00, 1448.29it/s]\n",
      "100%|██████████| 64/64 [00:00<00:00, 6688.98it/s]\n",
      "100%|██████████| 64/64 [00:00<00:00, 229432.01it/s]\n",
      "  0%|          | 0/64 [00:00<?, ?it/s]"
     ]
    },
    {
     "name": "stdout",
     "output_type": "stream",
     "text": [
      "(1, 3329)\n",
      "(435, 3330)\n"
     ]
    },
    {
     "name": "stderr",
     "output_type": "stream",
     "text": [
      "100%|██████████| 64/64 [00:00<00:00, 105.51it/s]\n",
      "100%|██████████| 64/64 [00:00<00:00, 114.75it/s]\n",
      "100%|██████████| 64/64 [00:00<00:00, 111.65it/s]\n",
      "100%|██████████| 64/64 [00:00<00:00, 2520.43it/s]\n",
      "100%|██████████| 64/64 [00:00<00:00, 219.20it/s]\n",
      "100%|██████████| 64/64 [00:00<00:00, 174.76it/s]\n",
      "100%|██████████| 64/64 [00:06<00:00,  9.34it/s]\n",
      "100%|██████████| 64/64 [00:00<00:00, 4039.60it/s]\n",
      "100%|██████████| 64/64 [00:00<00:00, 1573.86it/s]\n",
      "100%|██████████| 64/64 [00:00<00:00, 1459.95it/s]\n",
      "100%|██████████| 64/64 [00:00<00:00, 7739.91it/s]\n",
      "100%|██████████| 64/64 [00:00<00:00, 81171.89it/s]\n",
      "  0%|          | 0/64 [00:00<?, ?it/s]"
     ]
    },
    {
     "name": "stdout",
     "output_type": "stream",
     "text": [
      "(1, 3329)\n",
      "(436, 3330)\n"
     ]
    },
    {
     "name": "stderr",
     "output_type": "stream",
     "text": [
      "100%|██████████| 64/64 [00:00<00:00, 109.13it/s]\n",
      "100%|██████████| 64/64 [00:00<00:00, 107.24it/s]\n",
      "100%|██████████| 64/64 [00:00<00:00, 120.78it/s]\n",
      "100%|██████████| 64/64 [00:00<00:00, 2545.55it/s]\n",
      "100%|██████████| 64/64 [00:00<00:00, 214.54it/s]\n",
      "100%|██████████| 64/64 [00:00<00:00, 171.50it/s]\n",
      "100%|██████████| 64/64 [00:06<00:00,  9.20it/s]\n",
      "100%|██████████| 64/64 [00:00<00:00, 3832.93it/s]\n",
      "100%|██████████| 64/64 [00:00<00:00, 1256.47it/s]\n",
      "100%|██████████| 64/64 [00:00<00:00, 1292.38it/s]\n",
      "100%|██████████| 64/64 [00:00<00:00, 7580.57it/s]\n",
      "100%|██████████| 64/64 [00:00<00:00, 152780.57it/s]\n",
      "  0%|          | 0/64 [00:00<?, ?it/s]"
     ]
    },
    {
     "name": "stdout",
     "output_type": "stream",
     "text": [
      "(1, 3329)\n",
      "(437, 3330)\n"
     ]
    },
    {
     "name": "stderr",
     "output_type": "stream",
     "text": [
      "100%|██████████| 64/64 [00:00<00:00, 107.61it/s]\n",
      "100%|██████████| 64/64 [00:00<00:00, 115.11it/s]\n",
      "100%|██████████| 64/64 [00:00<00:00, 119.05it/s]\n",
      "100%|██████████| 64/64 [00:00<00:00, 2445.64it/s]\n",
      "100%|██████████| 64/64 [00:00<00:00, 208.42it/s]\n",
      "100%|██████████| 64/64 [00:00<00:00, 160.28it/s]\n",
      "100%|██████████| 64/64 [00:06<00:00,  9.22it/s]\n",
      "100%|██████████| 64/64 [00:00<00:00, 3308.91it/s]\n",
      "100%|██████████| 64/64 [00:00<00:00, 1532.73it/s]\n",
      "100%|██████████| 64/64 [00:00<00:00, 1586.07it/s]\n",
      "100%|██████████| 64/64 [00:00<00:00, 8645.26it/s]\n",
      "100%|██████████| 64/64 [00:00<00:00, 214063.36it/s]\n",
      "  0%|          | 0/64 [00:00<?, ?it/s]"
     ]
    },
    {
     "name": "stdout",
     "output_type": "stream",
     "text": [
      "(1, 3329)\n",
      "(438, 3330)\n"
     ]
    },
    {
     "name": "stderr",
     "output_type": "stream",
     "text": [
      "100%|██████████| 64/64 [00:00<00:00, 110.19it/s]\n",
      "100%|██████████| 64/64 [00:00<00:00, 109.95it/s]\n",
      "100%|██████████| 64/64 [00:00<00:00, 115.19it/s]\n",
      "100%|██████████| 64/64 [00:00<00:00, 2534.18it/s]\n",
      "100%|██████████| 64/64 [00:00<00:00, 217.18it/s]\n",
      "100%|██████████| 64/64 [00:00<00:00, 170.25it/s]\n",
      "100%|██████████| 64/64 [00:06<00:00,  9.18it/s]\n",
      "100%|██████████| 64/64 [00:00<00:00, 3687.15it/s]\n",
      "100%|██████████| 64/64 [00:00<00:00, 1587.10it/s]\n",
      "100%|██████████| 64/64 [00:00<00:00, 1552.04it/s]\n",
      "100%|██████████| 64/64 [00:00<00:00, 7430.33it/s]\n",
      "100%|██████████| 64/64 [00:00<00:00, 15473.57it/s]\n",
      "  0%|          | 0/64 [00:00<?, ?it/s]"
     ]
    },
    {
     "name": "stdout",
     "output_type": "stream",
     "text": [
      "(1, 3329)\n",
      "(439, 3330)\n"
     ]
    },
    {
     "name": "stderr",
     "output_type": "stream",
     "text": [
      "100%|██████████| 64/64 [00:00<00:00, 110.74it/s]\n",
      "100%|██████████| 64/64 [00:00<00:00, 112.35it/s]\n",
      "100%|██████████| 64/64 [00:00<00:00, 116.49it/s]\n",
      "100%|██████████| 64/64 [00:00<00:00, 2494.36it/s]\n",
      "100%|██████████| 64/64 [00:00<00:00, 206.24it/s]\n",
      "100%|██████████| 64/64 [00:00<00:00, 178.28it/s]\n",
      "100%|██████████| 64/64 [00:07<00:00,  9.10it/s]\n",
      "100%|██████████| 64/64 [00:00<00:00, 3719.39it/s]\n",
      "100%|██████████| 64/64 [00:00<00:00, 1520.85it/s]\n",
      "100%|██████████| 64/64 [00:00<00:00, 1414.28it/s]\n",
      "100%|██████████| 64/64 [00:00<00:00, 7496.73it/s]\n",
      "100%|██████████| 64/64 [00:00<00:00, 16865.76it/s]\n",
      "  0%|          | 0/64 [00:00<?, ?it/s]"
     ]
    },
    {
     "name": "stdout",
     "output_type": "stream",
     "text": [
      "(1, 3329)\n",
      "(440, 3330)\n"
     ]
    },
    {
     "name": "stderr",
     "output_type": "stream",
     "text": [
      "100%|██████████| 64/64 [00:00<00:00, 106.37it/s]\n",
      "100%|██████████| 64/64 [00:00<00:00, 112.92it/s]\n",
      "100%|██████████| 64/64 [00:00<00:00, 118.38it/s]\n",
      "100%|██████████| 64/64 [00:00<00:00, 2466.19it/s]\n",
      "100%|██████████| 64/64 [00:00<00:00, 208.58it/s]\n",
      "100%|██████████| 64/64 [00:00<00:00, 167.49it/s]\n",
      "100%|██████████| 64/64 [00:06<00:00,  9.19it/s]\n",
      "100%|██████████| 64/64 [00:00<00:00, 2341.00it/s]\n",
      "100%|██████████| 64/64 [00:00<00:00, 1328.40it/s]\n",
      "100%|██████████| 64/64 [00:00<00:00, 1368.35it/s]\n",
      "100%|██████████| 64/64 [00:00<00:00, 9190.16it/s]\n",
      "100%|██████████| 64/64 [00:00<00:00, 24996.32it/s]\n",
      "  0%|          | 0/64 [00:00<?, ?it/s]"
     ]
    },
    {
     "name": "stdout",
     "output_type": "stream",
     "text": [
      "(1, 3329)\n",
      "(441, 3330)\n"
     ]
    },
    {
     "name": "stderr",
     "output_type": "stream",
     "text": [
      "100%|██████████| 64/64 [00:00<00:00, 111.94it/s]\n",
      "100%|██████████| 64/64 [00:00<00:00, 108.91it/s]\n",
      "100%|██████████| 64/64 [00:00<00:00, 116.17it/s]\n",
      "100%|██████████| 64/64 [00:00<00:00, 2603.06it/s]\n",
      "100%|██████████| 64/64 [00:00<00:00, 215.19it/s]\n",
      "100%|██████████| 64/64 [00:00<00:00, 170.32it/s]\n",
      "100%|██████████| 64/64 [00:07<00:00,  9.09it/s]\n",
      "100%|██████████| 64/64 [00:00<00:00, 3879.35it/s]\n",
      "100%|██████████| 64/64 [00:00<00:00, 1586.70it/s]\n",
      "100%|██████████| 64/64 [00:00<00:00, 1561.90it/s]\n",
      "100%|██████████| 64/64 [00:00<00:00, 7090.96it/s]\n",
      "100%|██████████| 64/64 [00:00<00:00, 32171.08it/s]\n",
      "  0%|          | 0/64 [00:00<?, ?it/s]"
     ]
    },
    {
     "name": "stdout",
     "output_type": "stream",
     "text": [
      "(1, 3329)\n",
      "(442, 3330)\n"
     ]
    },
    {
     "name": "stderr",
     "output_type": "stream",
     "text": [
      "100%|██████████| 64/64 [00:00<00:00, 111.01it/s]\n",
      "100%|██████████| 64/64 [00:00<00:00, 112.41it/s]\n",
      "100%|██████████| 64/64 [00:00<00:00, 119.73it/s]\n",
      "100%|██████████| 64/64 [00:00<00:00, 2503.03it/s]\n",
      "100%|██████████| 64/64 [00:00<00:00, 222.10it/s]\n",
      "100%|██████████| 64/64 [00:00<00:00, 174.47it/s]\n",
      "100%|██████████| 64/64 [00:06<00:00,  9.22it/s]\n",
      "100%|██████████| 64/64 [00:00<00:00, 3061.08it/s]\n",
      "100%|██████████| 64/64 [00:00<00:00, 1311.65it/s]\n",
      "100%|██████████| 64/64 [00:00<00:00, 1334.79it/s]\n",
      "100%|██████████| 64/64 [00:00<00:00, 8360.91it/s]\n",
      "100%|██████████| 64/64 [00:00<00:00, 48063.64it/s]\n",
      "  0%|          | 0/64 [00:00<?, ?it/s]"
     ]
    },
    {
     "name": "stdout",
     "output_type": "stream",
     "text": [
      "(1, 3329)\n",
      "(443, 3330)\n"
     ]
    },
    {
     "name": "stderr",
     "output_type": "stream",
     "text": [
      "100%|██████████| 64/64 [00:00<00:00, 97.99it/s]\n",
      "100%|██████████| 64/64 [00:00<00:00, 100.89it/s]\n",
      "100%|██████████| 64/64 [00:00<00:00, 111.95it/s]\n",
      "100%|██████████| 64/64 [00:00<00:00, 1954.25it/s]\n",
      "100%|██████████| 64/64 [00:00<00:00, 212.29it/s]\n",
      "100%|██████████| 64/64 [00:00<00:00, 172.45it/s]\n",
      "100%|██████████| 64/64 [00:07<00:00,  9.11it/s]\n",
      "100%|██████████| 64/64 [00:00<00:00, 4103.20it/s]\n",
      "100%|██████████| 64/64 [00:00<00:00, 1494.89it/s]\n",
      "100%|██████████| 64/64 [00:00<00:00, 1455.16it/s]\n",
      "100%|██████████| 64/64 [00:00<00:00, 7639.03it/s]\n",
      "100%|██████████| 64/64 [00:00<00:00, 88475.76it/s]\n",
      "  0%|          | 0/64 [00:00<?, ?it/s]"
     ]
    },
    {
     "name": "stdout",
     "output_type": "stream",
     "text": [
      "(1, 3329)\n",
      "(444, 3330)\n"
     ]
    },
    {
     "name": "stderr",
     "output_type": "stream",
     "text": [
      "100%|██████████| 64/64 [00:00<00:00, 111.40it/s]\n",
      "100%|██████████| 64/64 [00:00<00:00, 113.34it/s]\n",
      "100%|██████████| 64/64 [00:00<00:00, 118.71it/s]\n",
      "100%|██████████| 64/64 [00:00<00:00, 2677.10it/s]\n",
      "100%|██████████| 64/64 [00:00<00:00, 218.92it/s]\n",
      "100%|██████████| 64/64 [00:00<00:00, 177.56it/s]\n",
      "100%|██████████| 64/64 [00:06<00:00,  9.35it/s]\n",
      "100%|██████████| 64/64 [00:00<00:00, 3981.19it/s]\n",
      "100%|██████████| 64/64 [00:00<00:00, 1503.25it/s]\n",
      "100%|██████████| 64/64 [00:00<00:00, 1352.20it/s]\n",
      "100%|██████████| 64/64 [00:00<00:00, 7000.53it/s]\n",
      "100%|██████████| 64/64 [00:00<00:00, 116761.83it/s]\n",
      "  0%|          | 0/64 [00:00<?, ?it/s]"
     ]
    },
    {
     "name": "stdout",
     "output_type": "stream",
     "text": [
      "(1, 3329)\n",
      "(445, 3330)\n"
     ]
    },
    {
     "name": "stderr",
     "output_type": "stream",
     "text": [
      "100%|██████████| 64/64 [00:00<00:00, 103.63it/s]\n",
      "100%|██████████| 64/64 [00:00<00:00, 109.49it/s]\n",
      "100%|██████████| 64/64 [00:00<00:00, 116.77it/s]\n",
      "100%|██████████| 64/64 [00:00<00:00, 2651.97it/s]\n",
      "100%|██████████| 64/64 [00:00<00:00, 211.42it/s]\n",
      "100%|██████████| 64/64 [00:00<00:00, 169.94it/s]\n",
      "100%|██████████| 64/64 [00:06<00:00,  9.31it/s]\n",
      "100%|██████████| 64/64 [00:00<00:00, 3542.07it/s]\n",
      "100%|██████████| 64/64 [00:00<00:00, 1492.22it/s]\n",
      "100%|██████████| 64/64 [00:00<00:00, 1581.10it/s]\n",
      "100%|██████████| 64/64 [00:00<00:00, 8489.96it/s]\n",
      "100%|██████████| 64/64 [00:00<00:00, 206013.40it/s]\n",
      "  0%|          | 0/64 [00:00<?, ?it/s]"
     ]
    },
    {
     "name": "stdout",
     "output_type": "stream",
     "text": [
      "(1, 3329)\n",
      "(446, 3330)\n"
     ]
    },
    {
     "name": "stderr",
     "output_type": "stream",
     "text": [
      "100%|██████████| 64/64 [00:00<00:00, 104.94it/s]\n",
      "100%|██████████| 64/64 [00:00<00:00, 113.16it/s]\n",
      "100%|██████████| 64/64 [00:00<00:00, 116.01it/s]\n",
      "100%|██████████| 64/64 [00:00<00:00, 2178.33it/s]\n",
      "100%|██████████| 64/64 [00:00<00:00, 213.07it/s]\n",
      "100%|██████████| 64/64 [00:00<00:00, 163.37it/s]\n",
      "100%|██████████| 64/64 [00:07<00:00,  9.00it/s]\n",
      "100%|██████████| 64/64 [00:00<00:00, 3890.82it/s]\n",
      "100%|██████████| 64/64 [00:00<00:00, 1500.98it/s]\n",
      "100%|██████████| 64/64 [00:00<00:00, 1374.67it/s]\n",
      "100%|██████████| 64/64 [00:00<00:00, 7897.48it/s]\n",
      "100%|██████████| 64/64 [00:00<00:00, 195510.16it/s]\n",
      "  0%|          | 0/64 [00:00<?, ?it/s]"
     ]
    },
    {
     "name": "stdout",
     "output_type": "stream",
     "text": [
      "(1, 3329)\n",
      "(447, 3330)\n"
     ]
    },
    {
     "name": "stderr",
     "output_type": "stream",
     "text": [
      "100%|██████████| 64/64 [00:00<00:00, 106.12it/s]\n",
      "100%|██████████| 64/64 [00:00<00:00, 113.66it/s]\n",
      "100%|██████████| 64/64 [00:00<00:00, 117.80it/s]\n",
      "100%|██████████| 64/64 [00:00<00:00, 2337.21it/s]\n",
      "100%|██████████| 64/64 [00:00<00:00, 214.86it/s]\n",
      "100%|██████████| 64/64 [00:00<00:00, 171.87it/s]\n",
      "100%|██████████| 64/64 [00:06<00:00,  9.15it/s]\n",
      "100%|██████████| 64/64 [00:00<00:00, 3707.72it/s]\n",
      "100%|██████████| 64/64 [00:00<00:00, 1463.23it/s]\n",
      "100%|██████████| 64/64 [00:00<00:00, 1607.92it/s]\n",
      "100%|██████████| 64/64 [00:00<00:00, 7267.98it/s]\n",
      "100%|██████████| 64/64 [00:00<00:00, 62470.43it/s]\n",
      "  0%|          | 0/64 [00:00<?, ?it/s]"
     ]
    },
    {
     "name": "stdout",
     "output_type": "stream",
     "text": [
      "(1, 3329)\n",
      "(448, 3330)\n"
     ]
    },
    {
     "name": "stderr",
     "output_type": "stream",
     "text": [
      "100%|██████████| 64/64 [00:00<00:00, 106.98it/s]\n",
      "100%|██████████| 64/64 [00:00<00:00, 108.87it/s]\n",
      "100%|██████████| 64/64 [00:00<00:00, 118.33it/s]\n",
      "100%|██████████| 64/64 [00:00<00:00, 2427.19it/s]\n",
      "100%|██████████| 64/64 [00:00<00:00, 212.57it/s]\n",
      "100%|██████████| 64/64 [00:00<00:00, 175.47it/s]\n",
      "100%|██████████| 64/64 [00:06<00:00,  9.15it/s]\n",
      "100%|██████████| 64/64 [00:00<00:00, 3780.83it/s]\n",
      "100%|██████████| 64/64 [00:00<00:00, 1586.10it/s]\n",
      "100%|██████████| 64/64 [00:00<00:00, 1519.39it/s]\n",
      "100%|██████████| 64/64 [00:00<00:00, 7822.23it/s]\n",
      "100%|██████████| 64/64 [00:00<00:00, 240965.40it/s]\n",
      "  0%|          | 0/64 [00:00<?, ?it/s]"
     ]
    },
    {
     "name": "stdout",
     "output_type": "stream",
     "text": [
      "(1, 3329)\n",
      "(449, 3330)\n"
     ]
    },
    {
     "name": "stderr",
     "output_type": "stream",
     "text": [
      "100%|██████████| 64/64 [00:00<00:00, 102.22it/s]\n",
      "100%|██████████| 64/64 [00:00<00:00, 110.79it/s]\n",
      "100%|██████████| 64/64 [00:00<00:00, 102.65it/s]\n",
      "100%|██████████| 64/64 [00:00<00:00, 2281.04it/s]\n",
      "100%|██████████| 64/64 [00:00<00:00, 184.88it/s]\n",
      "100%|██████████| 64/64 [00:00<00:00, 171.22it/s]\n",
      "100%|██████████| 64/64 [00:06<00:00,  9.19it/s]\n",
      "100%|██████████| 64/64 [00:00<00:00, 3881.76it/s]\n",
      "100%|██████████| 64/64 [00:00<00:00, 1223.80it/s]\n",
      "100%|██████████| 64/64 [00:00<00:00, 1413.52it/s]\n",
      "100%|██████████| 64/64 [00:00<00:00, 7421.08it/s]\n",
      "100%|██████████| 64/64 [00:00<00:00, 99568.05it/s]\n",
      "  0%|          | 0/64 [00:00<?, ?it/s]"
     ]
    },
    {
     "name": "stdout",
     "output_type": "stream",
     "text": [
      "(1, 3329)\n",
      "(450, 3330)\n"
     ]
    },
    {
     "name": "stderr",
     "output_type": "stream",
     "text": [
      "100%|██████████| 64/64 [00:00<00:00, 110.56it/s]\n",
      "100%|██████████| 64/64 [00:00<00:00, 110.07it/s]\n",
      "100%|██████████| 64/64 [00:00<00:00, 120.64it/s]\n",
      "100%|██████████| 64/64 [00:00<00:00, 2466.15it/s]\n",
      "100%|██████████| 64/64 [00:00<00:00, 214.89it/s]\n",
      "100%|██████████| 64/64 [00:00<00:00, 179.85it/s]\n",
      "100%|██████████| 64/64 [00:07<00:00,  9.04it/s]\n",
      "100%|██████████| 64/64 [00:00<00:00, 3827.08it/s]\n",
      "100%|██████████| 64/64 [00:00<00:00, 1411.86it/s]\n",
      "100%|██████████| 64/64 [00:00<00:00, 1479.99it/s]\n",
      "100%|██████████| 64/64 [00:00<00:00, 8057.01it/s]\n",
      "100%|██████████| 64/64 [00:00<00:00, 23511.91it/s]\n",
      "  0%|          | 0/64 [00:00<?, ?it/s]"
     ]
    },
    {
     "name": "stdout",
     "output_type": "stream",
     "text": [
      "(1, 3329)\n",
      "(451, 3330)\n"
     ]
    },
    {
     "name": "stderr",
     "output_type": "stream",
     "text": [
      "100%|██████████| 64/64 [00:00<00:00, 103.87it/s]\n",
      "100%|██████████| 64/64 [00:00<00:00, 109.10it/s]\n",
      "100%|██████████| 64/64 [00:00<00:00, 117.03it/s]\n",
      "100%|██████████| 64/64 [00:00<00:00, 2525.81it/s]\n",
      "100%|██████████| 64/64 [00:00<00:00, 213.06it/s]\n",
      "100%|██████████| 64/64 [00:00<00:00, 169.82it/s]\n",
      "100%|██████████| 64/64 [00:07<00:00,  9.03it/s]\n",
      "100%|██████████| 64/64 [00:00<00:00, 3892.00it/s]\n",
      "100%|██████████| 64/64 [00:00<00:00, 1610.81it/s]\n",
      "100%|██████████| 64/64 [00:00<00:00, 1526.68it/s]\n",
      "100%|██████████| 64/64 [00:00<00:00, 7529.32it/s]\n",
      "100%|██████████| 64/64 [00:00<00:00, 234441.45it/s]\n",
      "  0%|          | 0/64 [00:00<?, ?it/s]"
     ]
    },
    {
     "name": "stdout",
     "output_type": "stream",
     "text": [
      "(1, 3329)\n",
      "(452, 3330)\n"
     ]
    },
    {
     "name": "stderr",
     "output_type": "stream",
     "text": [
      "100%|██████████| 64/64 [00:00<00:00, 107.84it/s]\n",
      "100%|██████████| 64/64 [00:00<00:00, 113.14it/s]\n",
      "100%|██████████| 64/64 [00:00<00:00, 114.34it/s]\n",
      "100%|██████████| 64/64 [00:00<00:00, 2594.01it/s]\n",
      "100%|██████████| 64/64 [00:00<00:00, 218.72it/s]\n",
      "100%|██████████| 64/64 [00:00<00:00, 171.19it/s]\n",
      "100%|██████████| 64/64 [00:07<00:00,  8.96it/s]\n",
      "100%|██████████| 64/64 [00:00<00:00, 3818.97it/s]\n",
      "100%|██████████| 64/64 [00:00<00:00, 1369.30it/s]\n",
      "100%|██████████| 64/64 [00:00<00:00, 1472.69it/s]\n",
      "100%|██████████| 64/64 [00:00<00:00, 7652.31it/s]\n",
      "100%|██████████| 64/64 [00:00<00:00, 204600.20it/s]\n",
      "  0%|          | 0/64 [00:00<?, ?it/s]"
     ]
    },
    {
     "name": "stdout",
     "output_type": "stream",
     "text": [
      "(1, 3329)\n",
      "(453, 3330)\n"
     ]
    },
    {
     "name": "stderr",
     "output_type": "stream",
     "text": [
      "100%|██████████| 64/64 [00:00<00:00, 108.85it/s]\n",
      "100%|██████████| 64/64 [00:00<00:00, 108.74it/s]\n",
      "100%|██████████| 64/64 [00:00<00:00, 113.94it/s]\n",
      "100%|██████████| 64/64 [00:00<00:00, 2716.41it/s]\n",
      "100%|██████████| 64/64 [00:00<00:00, 221.87it/s]\n",
      "100%|██████████| 64/64 [00:00<00:00, 177.67it/s]\n",
      "100%|██████████| 64/64 [00:06<00:00,  9.33it/s]\n",
      "100%|██████████| 64/64 [00:00<00:00, 3420.17it/s]\n",
      "100%|██████████| 64/64 [00:00<00:00, 1445.88it/s]\n",
      "100%|██████████| 64/64 [00:00<00:00, 1336.56it/s]\n",
      "100%|██████████| 64/64 [00:00<00:00, 7675.29it/s]\n",
      "100%|██████████| 64/64 [00:00<00:00, 13434.54it/s]\n",
      "  0%|          | 0/64 [00:00<?, ?it/s]"
     ]
    },
    {
     "name": "stdout",
     "output_type": "stream",
     "text": [
      "(1, 3329)\n",
      "(454, 3330)\n"
     ]
    },
    {
     "name": "stderr",
     "output_type": "stream",
     "text": [
      "100%|██████████| 64/64 [00:00<00:00, 112.27it/s]\n",
      "100%|██████████| 64/64 [00:00<00:00, 110.61it/s]\n",
      "100%|██████████| 64/64 [00:00<00:00, 118.90it/s]\n",
      "100%|██████████| 64/64 [00:00<00:00, 2396.77it/s]\n",
      "100%|██████████| 64/64 [00:00<00:00, 209.42it/s]\n",
      "100%|██████████| 64/64 [00:00<00:00, 177.27it/s]\n",
      "100%|██████████| 64/64 [00:06<00:00,  9.15it/s]\n",
      "100%|██████████| 64/64 [00:00<00:00, 3791.46it/s]\n",
      "100%|██████████| 64/64 [00:00<00:00, 1512.61it/s]\n",
      "100%|██████████| 64/64 [00:00<00:00, 1536.67it/s]\n",
      "100%|██████████| 64/64 [00:00<00:00, 8242.81it/s]\n",
      "100%|██████████| 64/64 [00:00<00:00, 103763.22it/s]\n",
      "  0%|          | 0/64 [00:00<?, ?it/s]"
     ]
    },
    {
     "name": "stdout",
     "output_type": "stream",
     "text": [
      "(1, 3329)\n",
      "(455, 3330)\n"
     ]
    },
    {
     "name": "stderr",
     "output_type": "stream",
     "text": [
      "100%|██████████| 64/64 [00:00<00:00, 109.33it/s]\n",
      "100%|██████████| 64/64 [00:00<00:00, 109.04it/s]\n",
      "100%|██████████| 64/64 [00:00<00:00, 109.90it/s]\n",
      "100%|██████████| 64/64 [00:00<00:00, 2314.60it/s]\n",
      "100%|██████████| 64/64 [00:00<00:00, 204.28it/s]\n",
      "100%|██████████| 64/64 [00:00<00:00, 167.55it/s]\n",
      "100%|██████████| 64/64 [00:07<00:00,  9.13it/s]\n",
      "100%|██████████| 64/64 [00:00<00:00, 3479.26it/s]\n",
      "100%|██████████| 64/64 [00:00<00:00, 1508.76it/s]\n",
      "100%|██████████| 64/64 [00:00<00:00, 1234.66it/s]\n",
      "100%|██████████| 64/64 [00:00<00:00, 8416.75it/s]\n",
      "100%|██████████| 64/64 [00:00<00:00, 56005.73it/s]\n",
      "  0%|          | 0/64 [00:00<?, ?it/s]"
     ]
    },
    {
     "name": "stdout",
     "output_type": "stream",
     "text": [
      "(1, 3329)\n",
      "(456, 3330)\n"
     ]
    },
    {
     "name": "stderr",
     "output_type": "stream",
     "text": [
      "100%|██████████| 64/64 [00:00<00:00, 109.92it/s]\n",
      "100%|██████████| 64/64 [00:00<00:00, 107.30it/s]\n",
      "100%|██████████| 64/64 [00:00<00:00, 115.21it/s]\n",
      "100%|██████████| 64/64 [00:00<00:00, 1976.78it/s]\n",
      "100%|██████████| 64/64 [00:00<00:00, 206.57it/s]\n",
      "100%|██████████| 64/64 [00:00<00:00, 167.94it/s]\n",
      "100%|██████████| 64/64 [00:07<00:00,  9.08it/s]\n",
      "100%|██████████| 64/64 [00:00<00:00, 3243.50it/s]\n",
      "100%|██████████| 64/64 [00:00<00:00, 1541.24it/s]\n",
      "100%|██████████| 64/64 [00:00<00:00, 1478.40it/s]\n",
      "100%|██████████| 64/64 [00:00<00:00, 8116.45it/s]\n",
      "100%|██████████| 64/64 [00:00<00:00, 104287.28it/s]\n",
      "  0%|          | 0/64 [00:00<?, ?it/s]"
     ]
    },
    {
     "name": "stdout",
     "output_type": "stream",
     "text": [
      "(1, 3329)\n",
      "(457, 3330)\n"
     ]
    },
    {
     "name": "stderr",
     "output_type": "stream",
     "text": [
      "100%|██████████| 64/64 [00:00<00:00, 106.55it/s]\n",
      "100%|██████████| 64/64 [00:00<00:00, 107.04it/s]\n",
      "100%|██████████| 64/64 [00:00<00:00, 113.78it/s]\n",
      "100%|██████████| 64/64 [00:00<00:00, 2306.44it/s]\n",
      "100%|██████████| 64/64 [00:00<00:00, 216.47it/s]\n",
      "100%|██████████| 64/64 [00:00<00:00, 173.76it/s]\n",
      "100%|██████████| 64/64 [00:07<00:00,  8.95it/s]\n",
      "100%|██████████| 64/64 [00:00<00:00, 3409.27it/s]\n",
      "100%|██████████| 64/64 [00:00<00:00, 1442.73it/s]\n",
      "100%|██████████| 64/64 [00:00<00:00, 1479.48it/s]\n",
      "100%|██████████| 64/64 [00:00<00:00, 7547.32it/s]\n",
      "100%|██████████| 64/64 [00:00<00:00, 13142.49it/s]\n",
      "  0%|          | 0/64 [00:00<?, ?it/s]"
     ]
    },
    {
     "name": "stdout",
     "output_type": "stream",
     "text": [
      "(1, 3329)\n",
      "(458, 3330)\n"
     ]
    },
    {
     "name": "stderr",
     "output_type": "stream",
     "text": [
      "100%|██████████| 64/64 [00:00<00:00, 104.93it/s]\n",
      "100%|██████████| 64/64 [00:00<00:00, 108.09it/s]\n",
      "100%|██████████| 64/64 [00:00<00:00, 113.85it/s]\n",
      "100%|██████████| 64/64 [00:00<00:00, 2390.83it/s]\n",
      "100%|██████████| 64/64 [00:00<00:00, 196.74it/s]\n",
      "100%|██████████| 64/64 [00:00<00:00, 162.43it/s]\n",
      "100%|██████████| 64/64 [00:07<00:00,  8.65it/s]\n",
      "100%|██████████| 64/64 [00:00<00:00, 3142.24it/s]\n",
      "100%|██████████| 64/64 [00:00<00:00, 1410.64it/s]\n",
      "100%|██████████| 64/64 [00:00<00:00, 1269.04it/s]\n",
      "100%|██████████| 64/64 [00:00<00:00, 8945.46it/s]\n",
      "100%|██████████| 64/64 [00:00<00:00, 90871.85it/s]\n",
      "  0%|          | 0/64 [00:00<?, ?it/s]"
     ]
    },
    {
     "name": "stdout",
     "output_type": "stream",
     "text": [
      "(1, 3329)\n",
      "(459, 3330)\n"
     ]
    },
    {
     "name": "stderr",
     "output_type": "stream",
     "text": [
      "100%|██████████| 64/64 [00:00<00:00, 105.16it/s]\n",
      "100%|██████████| 64/64 [00:00<00:00, 105.63it/s]\n",
      "100%|██████████| 64/64 [00:00<00:00, 103.09it/s]\n",
      "100%|██████████| 64/64 [00:00<00:00, 1764.42it/s]\n",
      "100%|██████████| 64/64 [00:00<00:00, 196.79it/s]\n",
      "100%|██████████| 64/64 [00:00<00:00, 162.73it/s]\n",
      "100%|██████████| 64/64 [00:07<00:00,  8.69it/s]\n",
      "100%|██████████| 64/64 [00:00<00:00, 3654.92it/s]\n",
      "100%|██████████| 64/64 [00:00<00:00, 1469.46it/s]\n",
      "100%|██████████| 64/64 [00:00<00:00, 1296.85it/s]\n",
      "100%|██████████| 64/64 [00:00<00:00, 6937.93it/s]\n",
      "100%|██████████| 64/64 [00:00<00:00, 116256.15it/s]\n",
      "  0%|          | 0/64 [00:00<?, ?it/s]"
     ]
    },
    {
     "name": "stdout",
     "output_type": "stream",
     "text": [
      "(1, 3329)\n",
      "(460, 3330)\n"
     ]
    },
    {
     "name": "stderr",
     "output_type": "stream",
     "text": [
      "100%|██████████| 64/64 [00:00<00:00, 108.12it/s]\n",
      "100%|██████████| 64/64 [00:00<00:00, 102.94it/s]\n",
      "100%|██████████| 64/64 [00:00<00:00, 110.88it/s]\n",
      "100%|██████████| 64/64 [00:00<00:00, 2373.33it/s]\n",
      "100%|██████████| 64/64 [00:00<00:00, 198.50it/s]\n",
      "100%|██████████| 64/64 [00:00<00:00, 163.52it/s]\n",
      "100%|██████████| 64/64 [00:07<00:00,  8.72it/s]\n",
      "100%|██████████| 64/64 [00:00<00:00, 3454.01it/s]\n",
      "100%|██████████| 64/64 [00:00<00:00, 1510.21it/s]\n",
      "100%|██████████| 64/64 [00:00<00:00, 1424.63it/s]\n",
      "100%|██████████| 64/64 [00:00<00:00, 7034.66it/s]\n",
      "100%|██████████| 64/64 [00:00<00:00, 212706.38it/s]\n",
      "  0%|          | 0/64 [00:00<?, ?it/s]"
     ]
    },
    {
     "name": "stdout",
     "output_type": "stream",
     "text": [
      "(1, 3329)\n",
      "(461, 3330)\n"
     ]
    },
    {
     "name": "stderr",
     "output_type": "stream",
     "text": [
      "100%|██████████| 64/64 [00:00<00:00, 99.52it/s]\n",
      "100%|██████████| 64/64 [00:00<00:00, 105.57it/s]\n",
      "100%|██████████| 64/64 [00:00<00:00, 108.40it/s]\n",
      "100%|██████████| 64/64 [00:00<00:00, 2437.73it/s]\n",
      "100%|██████████| 64/64 [00:00<00:00, 173.44it/s]\n",
      "100%|██████████| 64/64 [00:00<00:00, 153.24it/s]\n",
      "100%|██████████| 64/64 [00:07<00:00,  8.53it/s]\n",
      "100%|██████████| 64/64 [00:00<00:00, 3578.09it/s]\n",
      "100%|██████████| 64/64 [00:00<00:00, 1419.11it/s]\n",
      "100%|██████████| 64/64 [00:00<00:00, 1354.07it/s]\n",
      "100%|██████████| 64/64 [00:00<00:00, 7533.76it/s]\n",
      "100%|██████████| 64/64 [00:00<00:00, 125672.03it/s]\n",
      "  0%|          | 0/64 [00:00<?, ?it/s]"
     ]
    },
    {
     "name": "stdout",
     "output_type": "stream",
     "text": [
      "(1, 3329)\n",
      "(462, 3330)\n"
     ]
    },
    {
     "name": "stderr",
     "output_type": "stream",
     "text": [
      "100%|██████████| 64/64 [00:00<00:00, 101.90it/s]\n",
      "100%|██████████| 64/64 [00:00<00:00, 103.38it/s]\n",
      "100%|██████████| 64/64 [00:00<00:00, 105.38it/s]\n",
      "100%|██████████| 64/64 [00:00<00:00, 2407.10it/s]\n",
      "100%|██████████| 64/64 [00:00<00:00, 196.56it/s]\n",
      "100%|██████████| 64/64 [00:00<00:00, 169.04it/s]\n",
      "100%|██████████| 64/64 [00:07<00:00,  8.71it/s]\n",
      "100%|██████████| 64/64 [00:00<00:00, 3594.48it/s]\n",
      "100%|██████████| 64/64 [00:00<00:00, 1452.80it/s]\n",
      "100%|██████████| 64/64 [00:00<00:00, 1484.04it/s]\n",
      "100%|██████████| 64/64 [00:00<00:00, 7222.61it/s]\n"
     ]
    },
    {
     "name": "stdout",
     "output_type": "stream",
     "text": [
      "(1, 3329)\n",
      "(463, 3330)\n"
     ]
    },
    {
     "name": "stderr",
     "output_type": "stream",
     "text": [
      "100%|██████████| 64/64 [00:00<00:00, 261123.98it/s]\n",
      "100%|██████████| 64/64 [00:00<00:00, 97.30it/s]\n",
      "100%|██████████| 64/64 [00:00<00:00, 100.02it/s]\n",
      "100%|██████████| 64/64 [00:00<00:00, 107.01it/s]\n",
      "100%|██████████| 64/64 [00:00<00:00, 2317.72it/s]\n",
      "100%|██████████| 64/64 [00:00<00:00, 196.94it/s]\n",
      "100%|██████████| 64/64 [00:00<00:00, 149.81it/s]\n",
      "100%|██████████| 64/64 [00:07<00:00,  8.65it/s]\n",
      "100%|██████████| 64/64 [00:00<00:00, 3516.82it/s]\n",
      "100%|██████████| 64/64 [00:00<00:00, 1516.12it/s]\n",
      "100%|██████████| 64/64 [00:00<00:00, 1437.58it/s]\n",
      "100%|██████████| 64/64 [00:00<00:00, 7443.10it/s]\n",
      "100%|██████████| 64/64 [00:00<00:00, 75615.62it/s]\n",
      "  0%|          | 0/64 [00:00<?, ?it/s]"
     ]
    },
    {
     "name": "stdout",
     "output_type": "stream",
     "text": [
      "(1, 3329)\n",
      "(464, 3330)\n"
     ]
    },
    {
     "name": "stderr",
     "output_type": "stream",
     "text": [
      "100%|██████████| 64/64 [00:00<00:00, 102.94it/s]\n",
      "100%|██████████| 64/64 [00:00<00:00, 103.42it/s]\n",
      "100%|██████████| 64/64 [00:00<00:00, 102.11it/s]\n",
      "100%|██████████| 64/64 [00:00<00:00, 1975.21it/s]\n",
      "100%|██████████| 64/64 [00:00<00:00, 201.63it/s]\n",
      "100%|██████████| 64/64 [00:00<00:00, 158.07it/s]\n",
      "100%|██████████| 64/64 [00:07<00:00,  8.72it/s]\n",
      "100%|██████████| 64/64 [00:00<00:00, 2037.68it/s]\n",
      "100%|██████████| 64/64 [00:00<00:00, 1121.75it/s]\n",
      "100%|██████████| 64/64 [00:00<00:00, 1233.05it/s]\n",
      "100%|██████████| 64/64 [00:00<00:00, 7609.15it/s]\n",
      "100%|██████████| 64/64 [00:00<00:00, 172627.30it/s]\n",
      "  0%|          | 0/64 [00:00<?, ?it/s]"
     ]
    },
    {
     "name": "stdout",
     "output_type": "stream",
     "text": [
      "(1, 3329)\n",
      "(465, 3330)\n"
     ]
    },
    {
     "name": "stderr",
     "output_type": "stream",
     "text": [
      "100%|██████████| 64/64 [00:00<00:00, 98.79it/s]\n",
      "100%|██████████| 64/64 [00:00<00:00, 106.45it/s]\n",
      "100%|██████████| 64/64 [00:00<00:00, 106.88it/s]\n",
      "100%|██████████| 64/64 [00:00<00:00, 2368.37it/s]\n",
      "100%|██████████| 64/64 [00:00<00:00, 203.12it/s]\n",
      "100%|██████████| 64/64 [00:00<00:00, 163.15it/s]\n",
      "100%|██████████| 64/64 [00:07<00:00,  8.62it/s]\n",
      "100%|██████████| 64/64 [00:00<00:00, 3535.91it/s]\n",
      "100%|██████████| 64/64 [00:00<00:00, 1451.42it/s]\n",
      "100%|██████████| 64/64 [00:00<00:00, 1346.78it/s]\n",
      "100%|██████████| 64/64 [00:00<00:00, 7473.15it/s]\n"
     ]
    },
    {
     "name": "stdout",
     "output_type": "stream",
     "text": [
      "(1, 3329)\n",
      "(466, 3330)\n"
     ]
    },
    {
     "name": "stderr",
     "output_type": "stream",
     "text": [
      "100%|██████████| 64/64 [00:00<00:00, 29263.65it/s]\n",
      "100%|██████████| 64/64 [00:00<00:00, 107.62it/s]\n",
      "100%|██████████| 64/64 [00:00<00:00, 107.73it/s]\n",
      "100%|██████████| 64/64 [00:00<00:00, 111.49it/s]\n",
      "100%|██████████| 64/64 [00:00<00:00, 2147.00it/s]\n",
      "100%|██████████| 64/64 [00:00<00:00, 202.04it/s]\n",
      "100%|██████████| 64/64 [00:00<00:00, 169.93it/s]\n",
      "100%|██████████| 64/64 [00:07<00:00,  8.89it/s]\n",
      "100%|██████████| 64/64 [00:00<00:00, 3536.19it/s]\n",
      "100%|██████████| 64/64 [00:00<00:00, 1375.70it/s]\n",
      "100%|██████████| 64/64 [00:00<00:00, 1300.11it/s]\n",
      "100%|██████████| 64/64 [00:00<00:00, 7801.54it/s]\n",
      "100%|██████████| 64/64 [00:00<00:00, 85217.61it/s]\n",
      "  0%|          | 0/64 [00:00<?, ?it/s]"
     ]
    },
    {
     "name": "stdout",
     "output_type": "stream",
     "text": [
      "(1, 3329)\n",
      "(467, 3330)\n"
     ]
    },
    {
     "name": "stderr",
     "output_type": "stream",
     "text": [
      "100%|██████████| 64/64 [00:00<00:00, 93.64it/s]\n",
      "100%|██████████| 64/64 [00:00<00:00, 101.90it/s]\n",
      "100%|██████████| 64/64 [00:00<00:00, 109.38it/s]\n",
      "100%|██████████| 64/64 [00:00<00:00, 1975.71it/s]\n",
      "100%|██████████| 64/64 [00:00<00:00, 196.74it/s]\n",
      "100%|██████████| 64/64 [00:00<00:00, 152.98it/s]\n",
      "100%|██████████| 64/64 [00:07<00:00,  8.62it/s]\n",
      "100%|██████████| 64/64 [00:00<00:00, 3501.91it/s]\n",
      "100%|██████████| 64/64 [00:00<00:00, 1445.00it/s]\n",
      "100%|██████████| 64/64 [00:00<00:00, 1219.34it/s]\n",
      "100%|██████████| 64/64 [00:00<00:00, 7019.94it/s]\n",
      "100%|██████████| 64/64 [00:00<00:00, 90964.23it/s]\n",
      "  0%|          | 0/64 [00:00<?, ?it/s]"
     ]
    },
    {
     "name": "stdout",
     "output_type": "stream",
     "text": [
      "(1, 3329)\n",
      "(468, 3330)\n"
     ]
    },
    {
     "name": "stderr",
     "output_type": "stream",
     "text": [
      "100%|██████████| 64/64 [00:00<00:00, 98.80it/s]\n",
      "100%|██████████| 64/64 [00:00<00:00, 99.32it/s] \n",
      "100%|██████████| 64/64 [00:00<00:00, 106.59it/s]\n",
      "100%|██████████| 64/64 [00:00<00:00, 1849.29it/s]\n",
      "100%|██████████| 64/64 [00:00<00:00, 203.53it/s]\n",
      "100%|██████████| 64/64 [00:00<00:00, 159.55it/s]\n",
      "100%|██████████| 64/64 [00:07<00:00,  8.57it/s]\n",
      "100%|██████████| 64/64 [00:00<00:00, 3663.45it/s]\n",
      "100%|██████████| 64/64 [00:00<00:00, 1396.09it/s]\n",
      "100%|██████████| 64/64 [00:00<00:00, 1350.88it/s]\n",
      "100%|██████████| 64/64 [00:00<00:00, 8029.78it/s]\n",
      "100%|██████████| 64/64 [00:00<00:00, 84096.32it/s]"
     ]
    },
    {
     "name": "stdout",
     "output_type": "stream",
     "text": [
      "(1, 3329)\n",
      "(469, 3330)\n"
     ]
    },
    {
     "name": "stderr",
     "output_type": "stream",
     "text": [
      "\n",
      "100%|██████████| 64/64 [00:00<00:00, 102.05it/s]\n",
      "100%|██████████| 64/64 [00:00<00:00, 102.72it/s]\n",
      "100%|██████████| 64/64 [00:00<00:00, 110.04it/s]\n",
      "100%|██████████| 64/64 [00:00<00:00, 2290.15it/s]\n",
      "100%|██████████| 64/64 [00:00<00:00, 187.64it/s]\n",
      "100%|██████████| 64/64 [00:00<00:00, 156.80it/s]\n",
      "100%|██████████| 64/64 [00:07<00:00,  8.66it/s]\n",
      "100%|██████████| 64/64 [00:00<00:00, 3765.35it/s]\n",
      "100%|██████████| 64/64 [00:00<00:00, 1423.83it/s]\n",
      "100%|██████████| 64/64 [00:00<00:00, 1408.39it/s]\n",
      "100%|██████████| 64/64 [00:00<00:00, 6153.95it/s]\n"
     ]
    },
    {
     "name": "stdout",
     "output_type": "stream",
     "text": [
      "(1, 3329)\n",
      "(470, 3330)\n"
     ]
    },
    {
     "name": "stderr",
     "output_type": "stream",
     "text": [
      "100%|██████████| 64/64 [00:00<00:00, 129867.18it/s]\n",
      "100%|██████████| 64/64 [00:00<00:00, 99.74it/s] \n",
      "100%|██████████| 64/64 [00:00<00:00, 102.28it/s]\n",
      "100%|██████████| 64/64 [00:00<00:00, 113.61it/s]\n",
      "100%|██████████| 64/64 [00:00<00:00, 2322.05it/s]\n",
      "100%|██████████| 64/64 [00:00<00:00, 191.27it/s]\n",
      "100%|██████████| 64/64 [00:00<00:00, 170.92it/s]\n",
      "100%|██████████| 64/64 [00:07<00:00,  8.85it/s]\n",
      "100%|██████████| 64/64 [00:00<00:00, 3664.95it/s]\n",
      "100%|██████████| 64/64 [00:00<00:00, 1501.90it/s]\n",
      "100%|██████████| 64/64 [00:00<00:00, 1436.91it/s]\n",
      "100%|██████████| 64/64 [00:00<00:00, 6876.44it/s]\n"
     ]
    },
    {
     "name": "stdout",
     "output_type": "stream",
     "text": [
      "(1, 3329)\n",
      "(471, 3330)\n"
     ]
    },
    {
     "name": "stderr",
     "output_type": "stream",
     "text": [
      "100%|██████████| 64/64 [00:00<00:00, 148470.94it/s]\n",
      "100%|██████████| 64/64 [00:00<00:00, 104.70it/s]\n",
      "100%|██████████| 64/64 [00:00<00:00, 105.99it/s]\n",
      "100%|██████████| 64/64 [00:00<00:00, 101.65it/s]\n",
      "100%|██████████| 64/64 [00:00<00:00, 2288.86it/s]\n",
      "100%|██████████| 64/64 [00:00<00:00, 193.41it/s]\n",
      "100%|██████████| 64/64 [00:00<00:00, 161.54it/s]\n",
      "100%|██████████| 64/64 [00:07<00:00,  8.54it/s]\n",
      "100%|██████████| 64/64 [00:00<00:00, 3519.77it/s]\n",
      "100%|██████████| 64/64 [00:00<00:00, 1477.31it/s]\n",
      "100%|██████████| 64/64 [00:00<00:00, 1234.27it/s]\n",
      "100%|██████████| 64/64 [00:00<00:00, 6164.27it/s]\n",
      "  0%|          | 0/64 [00:00<?, ?it/s]"
     ]
    },
    {
     "name": "stdout",
     "output_type": "stream",
     "text": [
      "(1, 3329)\n",
      "(472, 3330)\n"
     ]
    },
    {
     "name": "stderr",
     "output_type": "stream",
     "text": [
      "100%|██████████| 64/64 [00:00<00:00, 18023.06it/s]\n",
      "100%|██████████| 64/64 [00:00<00:00, 101.41it/s]\n",
      "100%|██████████| 64/64 [00:00<00:00, 103.94it/s]\n",
      "100%|██████████| 64/64 [00:00<00:00, 99.75it/s]\n",
      "100%|██████████| 64/64 [00:00<00:00, 2331.30it/s]\n",
      "100%|██████████| 64/64 [00:00<00:00, 191.25it/s]\n",
      "100%|██████████| 64/64 [00:00<00:00, 168.22it/s]\n",
      "100%|██████████| 64/64 [00:07<00:00,  8.39it/s]\n",
      "100%|██████████| 64/64 [00:00<00:00, 3690.04it/s]\n",
      "100%|██████████| 64/64 [00:00<00:00, 1444.75it/s]\n",
      "100%|██████████| 64/64 [00:00<00:00, 1339.91it/s]\n",
      "100%|██████████| 64/64 [00:00<00:00, 7596.87it/s]\n"
     ]
    },
    {
     "name": "stdout",
     "output_type": "stream",
     "text": [
      "(1, 3329)\n",
      "(473, 3330)\n"
     ]
    },
    {
     "name": "stderr",
     "output_type": "stream",
     "text": [
      "100%|██████████| 64/64 [00:00<00:00, 18001.30it/s]\n",
      "100%|██████████| 64/64 [00:00<00:00, 100.32it/s]\n",
      "100%|██████████| 64/64 [00:00<00:00, 105.45it/s]\n",
      "100%|██████████| 64/64 [00:00<00:00, 110.40it/s]\n",
      "100%|██████████| 64/64 [00:00<00:00, 2553.25it/s]\n",
      "100%|██████████| 64/64 [00:00<00:00, 193.35it/s]\n",
      "100%|██████████| 64/64 [00:00<00:00, 162.81it/s]\n",
      "100%|██████████| 64/64 [00:07<00:00,  8.69it/s]\n",
      "100%|██████████| 64/64 [00:00<00:00, 3592.94it/s]\n",
      "100%|██████████| 64/64 [00:00<00:00, 1508.17it/s]\n",
      "100%|██████████| 64/64 [00:00<00:00, 1541.49it/s]\n",
      "100%|██████████| 64/64 [00:00<00:00, 7718.54it/s]\n",
      "100%|██████████| 64/64 [00:00<00:00, 47510.70it/s]\n",
      "  0%|          | 0/64 [00:00<?, ?it/s]"
     ]
    },
    {
     "name": "stdout",
     "output_type": "stream",
     "text": [
      "(1, 3329)\n",
      "(474, 3330)\n"
     ]
    },
    {
     "name": "stderr",
     "output_type": "stream",
     "text": [
      "100%|██████████| 64/64 [00:00<00:00, 100.24it/s]\n",
      "100%|██████████| 64/64 [00:00<00:00, 102.58it/s]\n",
      "100%|██████████| 64/64 [00:00<00:00, 109.70it/s]\n",
      "100%|██████████| 64/64 [00:00<00:00, 2178.59it/s]\n",
      "100%|██████████| 64/64 [00:00<00:00, 177.43it/s]\n",
      "100%|██████████| 64/64 [00:00<00:00, 165.81it/s]\n",
      "100%|██████████| 64/64 [00:07<00:00,  8.39it/s]\n",
      "100%|██████████| 64/64 [00:00<00:00, 3914.19it/s]\n",
      "100%|██████████| 64/64 [00:00<00:00, 1424.07it/s]\n",
      "100%|██████████| 64/64 [00:00<00:00, 1171.16it/s]\n",
      "100%|██████████| 64/64 [00:00<00:00, 8333.92it/s]\n"
     ]
    },
    {
     "name": "stdout",
     "output_type": "stream",
     "text": [
      "(1, 3329)\n",
      "(475, 3330)\n"
     ]
    },
    {
     "name": "stderr",
     "output_type": "stream",
     "text": [
      "100%|██████████| 64/64 [00:00<00:00, 20914.33it/s]\n",
      "100%|██████████| 64/64 [00:00<00:00, 105.49it/s]\n",
      "100%|██████████| 64/64 [00:00<00:00, 104.17it/s]\n",
      "100%|██████████| 64/64 [00:00<00:00, 106.40it/s]\n",
      "100%|██████████| 64/64 [00:00<00:00, 2184.62it/s]\n",
      "100%|██████████| 64/64 [00:00<00:00, 196.82it/s]\n",
      "100%|██████████| 64/64 [00:00<00:00, 150.70it/s]\n",
      "100%|██████████| 64/64 [00:07<00:00,  8.43it/s]\n",
      "100%|██████████| 64/64 [00:00<00:00, 2943.24it/s]\n",
      "100%|██████████| 64/64 [00:00<00:00, 1331.39it/s]\n",
      "100%|██████████| 64/64 [00:00<00:00, 1208.25it/s]\n",
      "100%|██████████| 64/64 [00:00<00:00, 6310.63it/s]\n"
     ]
    },
    {
     "name": "stdout",
     "output_type": "stream",
     "text": [
      "(1, 3329)\n",
      "(476, 3330)\n"
     ]
    },
    {
     "name": "stderr",
     "output_type": "stream",
     "text": [
      "100%|██████████| 64/64 [00:00<00:00, 45894.25it/s]\n",
      "100%|██████████| 64/64 [00:00<00:00, 95.18it/s]\n",
      "100%|██████████| 64/64 [00:00<00:00, 102.06it/s]\n",
      "100%|██████████| 64/64 [00:00<00:00, 107.88it/s]\n",
      "100%|██████████| 64/64 [00:00<00:00, 2268.40it/s]\n",
      "100%|██████████| 64/64 [00:00<00:00, 184.69it/s]\n",
      "100%|██████████| 64/64 [00:00<00:00, 158.63it/s]\n",
      "100%|██████████| 64/64 [00:07<00:00,  8.33it/s]\n",
      "100%|██████████| 64/64 [00:00<00:00, 3447.71it/s]\n",
      "100%|██████████| 64/64 [00:00<00:00, 1247.92it/s]\n",
      "100%|██████████| 64/64 [00:00<00:00, 1249.11it/s]\n",
      "100%|██████████| 64/64 [00:00<00:00, 7477.52it/s]\n"
     ]
    },
    {
     "name": "stdout",
     "output_type": "stream",
     "text": [
      "(1, 3329)\n",
      "(477, 3330)\n"
     ]
    },
    {
     "name": "stderr",
     "output_type": "stream",
     "text": [
      "100%|██████████| 64/64 [00:00<00:00, 20671.14it/s]\n",
      "100%|██████████| 64/64 [00:00<00:00, 102.00it/s]\n",
      "100%|██████████| 64/64 [00:00<00:00, 104.78it/s]\n",
      "100%|██████████| 64/64 [00:00<00:00, 105.81it/s]\n",
      "100%|██████████| 64/64 [00:00<00:00, 2340.16it/s]\n",
      "100%|██████████| 64/64 [00:00<00:00, 183.47it/s]\n",
      "100%|██████████| 64/64 [00:00<00:00, 153.25it/s]\n",
      "100%|██████████| 64/64 [00:07<00:00,  8.27it/s]\n",
      "100%|██████████| 64/64 [00:00<00:00, 3483.32it/s]\n",
      "100%|██████████| 64/64 [00:00<00:00, 1433.67it/s]\n",
      "100%|██████████| 64/64 [00:00<00:00, 1324.79it/s]\n",
      "100%|██████████| 64/64 [00:00<00:00, 7872.24it/s]\n"
     ]
    },
    {
     "name": "stdout",
     "output_type": "stream",
     "text": [
      "(1, 3329)\n",
      "(478, 3330)\n"
     ]
    },
    {
     "name": "stderr",
     "output_type": "stream",
     "text": [
      "100%|██████████| 64/64 [00:00<00:00, 28426.93it/s]\n",
      "100%|██████████| 64/64 [00:00<00:00, 97.75it/s]\n",
      "100%|██████████| 64/64 [00:00<00:00, 100.07it/s]\n",
      "100%|██████████| 64/64 [00:00<00:00, 103.88it/s]\n",
      "100%|██████████| 64/64 [00:00<00:00, 2093.34it/s]\n",
      "100%|██████████| 64/64 [00:00<00:00, 173.23it/s]\n",
      "100%|██████████| 64/64 [00:00<00:00, 165.52it/s]\n",
      "100%|██████████| 64/64 [00:07<00:00,  8.39it/s]\n",
      "100%|██████████| 64/64 [00:00<00:00, 3639.06it/s]\n",
      "100%|██████████| 64/64 [00:00<00:00, 1404.08it/s]\n",
      "100%|██████████| 64/64 [00:00<00:00, 1403.36it/s]\n",
      "100%|██████████| 64/64 [00:00<00:00, 6458.52it/s]\n"
     ]
    },
    {
     "name": "stdout",
     "output_type": "stream",
     "text": [
      "(1, 3329)\n",
      "(479, 3330)\n"
     ]
    },
    {
     "name": "stderr",
     "output_type": "stream",
     "text": [
      "100%|██████████| 64/64 [00:00<00:00, 17386.84it/s]\n",
      "100%|██████████| 64/64 [00:00<00:00, 98.74it/s]\n",
      "100%|██████████| 64/64 [00:00<00:00, 100.04it/s]\n",
      "100%|██████████| 64/64 [00:00<00:00, 103.60it/s]\n",
      "100%|██████████| 64/64 [00:00<00:00, 2245.04it/s]\n",
      "100%|██████████| 64/64 [00:00<00:00, 183.67it/s]\n",
      "100%|██████████| 64/64 [00:00<00:00, 156.15it/s]\n",
      "100%|██████████| 64/64 [00:07<00:00,  8.34it/s]\n",
      "100%|██████████| 64/64 [00:00<00:00, 3383.70it/s]\n",
      "100%|██████████| 64/64 [00:00<00:00, 1423.68it/s]\n",
      "100%|██████████| 64/64 [00:00<00:00, 1294.31it/s]\n",
      "100%|██████████| 64/64 [00:00<00:00, 7572.23it/s]\n"
     ]
    },
    {
     "name": "stdout",
     "output_type": "stream",
     "text": [
      "(1, 3329)\n",
      "(480, 3330)\n"
     ]
    },
    {
     "name": "stderr",
     "output_type": "stream",
     "text": [
      "100%|██████████| 64/64 [00:00<00:00, 36221.22it/s]\n",
      "100%|██████████| 64/64 [00:00<00:00, 97.69it/s]\n",
      "100%|██████████| 64/64 [00:00<00:00, 99.06it/s]\n",
      "100%|██████████| 64/64 [00:00<00:00, 102.43it/s]\n",
      "100%|██████████| 64/64 [00:00<00:00, 2263.60it/s]\n",
      "100%|██████████| 64/64 [00:00<00:00, 175.92it/s]\n",
      "100%|██████████| 64/64 [00:00<00:00, 156.33it/s]\n",
      "100%|██████████| 64/64 [00:07<00:00,  8.31it/s]\n",
      "100%|██████████| 64/64 [00:00<00:00, 3247.35it/s]\n",
      "100%|██████████| 64/64 [00:00<00:00, 1372.12it/s]\n",
      "100%|██████████| 64/64 [00:00<00:00, 1417.64it/s]\n",
      "100%|██████████| 64/64 [00:00<00:00, 5426.23it/s]\n",
      "100%|██████████| 64/64 [00:00<00:00, 179195.90it/s]\n"
     ]
    },
    {
     "name": "stdout",
     "output_type": "stream",
     "text": [
      "(1, 3329)\n",
      "(481, 3330)\n"
     ]
    },
    {
     "name": "stderr",
     "output_type": "stream",
     "text": [
      "100%|██████████| 64/64 [00:00<00:00, 99.38it/s]\n",
      "100%|██████████| 64/64 [00:00<00:00, 100.99it/s]\n",
      "100%|██████████| 64/64 [00:00<00:00, 105.60it/s]\n",
      "100%|██████████| 64/64 [00:00<00:00, 2184.04it/s]\n",
      "100%|██████████| 64/64 [00:00<00:00, 179.13it/s]\n",
      "100%|██████████| 64/64 [00:00<00:00, 159.77it/s]\n",
      "100%|██████████| 64/64 [00:07<00:00,  8.26it/s]\n",
      "100%|██████████| 64/64 [00:00<00:00, 3546.65it/s]\n",
      "100%|██████████| 64/64 [00:00<00:00, 1210.67it/s]\n",
      "100%|██████████| 64/64 [00:00<00:00, 1419.09it/s]\n",
      "100%|██████████| 64/64 [00:00<00:00, 8074.70it/s]\n"
     ]
    },
    {
     "name": "stdout",
     "output_type": "stream",
     "text": [
      "(1, 3329)\n",
      "(482, 3330)\n"
     ]
    },
    {
     "name": "stderr",
     "output_type": "stream",
     "text": [
      "100%|██████████| 64/64 [00:00<00:00, 20151.30it/s]\n",
      "100%|██████████| 64/64 [00:00<00:00, 93.64it/s]\n",
      "100%|██████████| 64/64 [00:00<00:00, 96.54it/s]\n",
      "100%|██████████| 64/64 [00:00<00:00, 103.26it/s]\n",
      "100%|██████████| 64/64 [00:00<00:00, 2353.75it/s]\n",
      "100%|██████████| 64/64 [00:00<00:00, 184.18it/s]\n",
      "100%|██████████| 64/64 [00:00<00:00, 156.40it/s]\n",
      "100%|██████████| 64/64 [00:07<00:00,  8.22it/s]\n",
      "100%|██████████| 64/64 [00:00<00:00, 3406.76it/s]\n",
      "100%|██████████| 64/64 [00:00<00:00, 1364.14it/s]\n",
      "100%|██████████| 64/64 [00:00<00:00, 1380.06it/s]\n",
      "100%|██████████| 64/64 [00:00<00:00, 6234.42it/s]\n"
     ]
    },
    {
     "name": "stdout",
     "output_type": "stream",
     "text": [
      "(1, 3329)\n",
      "(483, 3330)\n"
     ]
    },
    {
     "name": "stderr",
     "output_type": "stream",
     "text": [
      "100%|██████████| 64/64 [00:00<00:00, 122629.26it/s]\n",
      "100%|██████████| 64/64 [00:00<00:00, 98.36it/s]\n",
      "100%|██████████| 64/64 [00:00<00:00, 95.84it/s]\n",
      "100%|██████████| 64/64 [00:00<00:00, 105.01it/s]\n",
      "100%|██████████| 64/64 [00:00<00:00, 1702.01it/s]\n",
      "100%|██████████| 64/64 [00:00<00:00, 188.22it/s]\n",
      "100%|██████████| 64/64 [00:00<00:00, 153.23it/s]\n",
      "100%|██████████| 64/64 [00:07<00:00,  8.09it/s]\n",
      "100%|██████████| 64/64 [00:00<00:00, 3150.65it/s]\n",
      "100%|██████████| 64/64 [00:00<00:00, 1359.16it/s]\n",
      "100%|██████████| 64/64 [00:00<00:00, 1374.87it/s]\n",
      "100%|██████████| 64/64 [00:00<00:00, 7185.49it/s]\n"
     ]
    },
    {
     "name": "stdout",
     "output_type": "stream",
     "text": [
      "(1, 3329)\n",
      "(484, 3330)\n"
     ]
    },
    {
     "name": "stderr",
     "output_type": "stream",
     "text": [
      "100%|██████████| 64/64 [00:00<00:00, 37701.61it/s]\n",
      "100%|██████████| 64/64 [00:00<00:00, 96.04it/s]\n",
      "100%|██████████| 64/64 [00:00<00:00, 94.86it/s]\n",
      "100%|██████████| 64/64 [00:00<00:00, 105.44it/s]\n",
      "100%|██████████| 64/64 [00:00<00:00, 2339.47it/s]\n",
      "100%|██████████| 64/64 [00:00<00:00, 187.95it/s]\n",
      "100%|██████████| 64/64 [00:00<00:00, 153.22it/s]\n",
      "100%|██████████| 64/64 [00:07<00:00,  8.11it/s]\n",
      "100%|██████████| 64/64 [00:00<00:00, 3654.47it/s]\n",
      "100%|██████████| 64/64 [00:00<00:00, 1327.49it/s]\n",
      "100%|██████████| 64/64 [00:00<00:00, 1330.74it/s]\n",
      "100%|██████████| 64/64 [00:00<00:00, 6586.24it/s]\n"
     ]
    },
    {
     "name": "stdout",
     "output_type": "stream",
     "text": [
      "(1, 3329)\n",
      "(485, 3330)\n"
     ]
    },
    {
     "name": "stderr",
     "output_type": "stream",
     "text": [
      "100%|██████████| 64/64 [00:00<00:00, 26962.18it/s]\n",
      "100%|██████████| 64/64 [00:00<00:00, 92.36it/s]\n",
      "100%|██████████| 64/64 [00:00<00:00, 90.86it/s]\n",
      "100%|██████████| 64/64 [00:00<00:00, 100.70it/s]\n",
      "100%|██████████| 64/64 [00:00<00:00, 2317.58it/s]\n",
      "100%|██████████| 64/64 [00:00<00:00, 191.48it/s]\n",
      "100%|██████████| 64/64 [00:00<00:00, 155.75it/s]\n",
      "100%|██████████| 64/64 [00:07<00:00,  8.11it/s]\n",
      "100%|██████████| 64/64 [00:00<00:00, 3531.12it/s]\n",
      "100%|██████████| 64/64 [00:00<00:00, 1413.72it/s]\n",
      "100%|██████████| 64/64 [00:00<00:00, 1361.84it/s]\n",
      "100%|██████████| 64/64 [00:00<00:00, 6714.08it/s]\n"
     ]
    },
    {
     "name": "stdout",
     "output_type": "stream",
     "text": [
      "(1, 3329)\n",
      "(486, 3330)\n"
     ]
    },
    {
     "name": "stderr",
     "output_type": "stream",
     "text": [
      "100%|██████████| 64/64 [00:00<00:00, 18385.99it/s]\n",
      "100%|██████████| 64/64 [00:00<00:00, 91.72it/s]\n",
      "100%|██████████| 64/64 [00:00<00:00, 100.56it/s]\n",
      "100%|██████████| 64/64 [00:00<00:00, 95.05it/s]\n",
      "100%|██████████| 64/64 [00:00<00:00, 2246.98it/s]\n",
      "100%|██████████| 64/64 [00:00<00:00, 182.30it/s]\n",
      "100%|██████████| 64/64 [00:00<00:00, 153.16it/s]\n",
      "100%|██████████| 64/64 [00:07<00:00,  8.07it/s]\n",
      "100%|██████████| 64/64 [00:00<00:00, 2950.68it/s]\n",
      "100%|██████████| 64/64 [00:00<00:00, 1338.62it/s]\n",
      "100%|██████████| 64/64 [00:00<00:00, 1279.53it/s]\n",
      "100%|██████████| 64/64 [00:00<00:00, 8461.86it/s]\n"
     ]
    },
    {
     "name": "stdout",
     "output_type": "stream",
     "text": [
      "(1, 3329)\n",
      "(487, 3330)\n"
     ]
    },
    {
     "name": "stderr",
     "output_type": "stream",
     "text": [
      "100%|██████████| 64/64 [00:00<00:00, 211034.16it/s]\n",
      "100%|██████████| 64/64 [00:00<00:00, 91.40it/s]\n",
      "100%|██████████| 64/64 [00:00<00:00, 97.52it/s]\n",
      "100%|██████████| 64/64 [00:00<00:00, 98.51it/s]\n",
      "100%|██████████| 64/64 [00:00<00:00, 2132.47it/s]\n",
      "100%|██████████| 64/64 [00:00<00:00, 184.42it/s]\n",
      "100%|██████████| 64/64 [00:00<00:00, 146.81it/s]\n",
      "100%|██████████| 64/64 [00:07<00:00,  8.03it/s]\n",
      "100%|██████████| 64/64 [00:00<00:00, 3364.15it/s]\n",
      "100%|██████████| 64/64 [00:00<00:00, 1428.16it/s]\n",
      "100%|██████████| 64/64 [00:00<00:00, 1215.01it/s]\n",
      "100%|██████████| 64/64 [00:00<00:00, 5725.77it/s]\n"
     ]
    },
    {
     "name": "stdout",
     "output_type": "stream",
     "text": [
      "(1, 3329)\n",
      "(488, 3330)\n"
     ]
    },
    {
     "name": "stderr",
     "output_type": "stream",
     "text": [
      "100%|██████████| 64/64 [00:00<00:00, 135300.13it/s]\n",
      "100%|██████████| 64/64 [00:00<00:00, 90.79it/s]\n",
      "100%|██████████| 64/64 [00:00<00:00, 98.67it/s]\n",
      "100%|██████████| 64/64 [00:00<00:00, 98.98it/s]\n",
      "100%|██████████| 64/64 [00:00<00:00, 2278.26it/s]\n",
      "100%|██████████| 64/64 [00:00<00:00, 172.90it/s]\n",
      "100%|██████████| 64/64 [00:00<00:00, 146.49it/s]\n",
      "100%|██████████| 64/64 [00:08<00:00,  7.97it/s]\n",
      "100%|██████████| 64/64 [00:00<00:00, 3522.78it/s]\n",
      "100%|██████████| 64/64 [00:00<00:00, 1392.19it/s]\n",
      "100%|██████████| 64/64 [00:00<00:00, 1408.14it/s]\n",
      "100%|██████████| 64/64 [00:00<00:00, 7623.62it/s]\n"
     ]
    },
    {
     "name": "stdout",
     "output_type": "stream",
     "text": [
      "(1, 3329)\n",
      "(489, 3330)\n"
     ]
    },
    {
     "name": "stderr",
     "output_type": "stream",
     "text": [
      "100%|██████████| 64/64 [00:00<00:00, 27424.95it/s]\n",
      "100%|██████████| 64/64 [00:00<00:00, 89.83it/s]\n",
      "100%|██████████| 64/64 [00:00<00:00, 97.97it/s]\n",
      "100%|██████████| 64/64 [00:00<00:00, 103.53it/s]\n",
      "100%|██████████| 64/64 [00:00<00:00, 2309.92it/s]\n",
      "100%|██████████| 64/64 [00:00<00:00, 183.08it/s]\n",
      "100%|██████████| 64/64 [00:00<00:00, 151.29it/s]\n",
      "100%|██████████| 64/64 [00:08<00:00,  7.92it/s]\n",
      "100%|██████████| 64/64 [00:00<00:00, 3442.05it/s]\n",
      "100%|██████████| 64/64 [00:00<00:00, 1424.54it/s]\n",
      "100%|██████████| 64/64 [00:00<00:00, 1294.89it/s]\n",
      "100%|██████████| 64/64 [00:00<00:00, 6315.83it/s]\n"
     ]
    },
    {
     "name": "stdout",
     "output_type": "stream",
     "text": [
      "(1, 3329)\n",
      "(490, 3330)\n"
     ]
    },
    {
     "name": "stderr",
     "output_type": "stream",
     "text": [
      "100%|██████████| 64/64 [00:00<00:00, 18368.38it/s]\n",
      "100%|██████████| 64/64 [00:00<00:00, 94.89it/s]\n",
      "100%|██████████| 64/64 [00:00<00:00, 94.97it/s]\n",
      "100%|██████████| 64/64 [00:00<00:00, 104.33it/s]\n",
      "100%|██████████| 64/64 [00:00<00:00, 2226.87it/s]\n",
      "100%|██████████| 64/64 [00:00<00:00, 180.16it/s]\n",
      "100%|██████████| 64/64 [00:00<00:00, 148.32it/s]\n",
      "100%|██████████| 64/64 [00:08<00:00,  7.95it/s]\n",
      "100%|██████████| 64/64 [00:00<00:00, 3404.42it/s]\n",
      "100%|██████████| 64/64 [00:00<00:00, 1336.95it/s]\n",
      "100%|██████████| 64/64 [00:00<00:00, 1177.79it/s]\n",
      "100%|██████████| 64/64 [00:00<00:00, 7854.50it/s]\n"
     ]
    },
    {
     "name": "stdout",
     "output_type": "stream",
     "text": [
      "(1, 3329)\n",
      "(491, 3330)\n"
     ]
    },
    {
     "name": "stderr",
     "output_type": "stream",
     "text": [
      "100%|██████████| 64/64 [00:00<00:00, 179555.49it/s]\n",
      "100%|██████████| 64/64 [00:00<00:00, 87.84it/s]\n",
      "100%|██████████| 64/64 [00:00<00:00, 95.84it/s]\n",
      "100%|██████████| 64/64 [00:00<00:00, 100.38it/s]\n",
      "100%|██████████| 64/64 [00:00<00:00, 2295.24it/s]\n",
      "100%|██████████| 64/64 [00:00<00:00, 179.11it/s]\n",
      "100%|██████████| 64/64 [00:00<00:00, 152.64it/s]\n",
      "100%|██████████| 64/64 [00:08<00:00,  7.87it/s]\n",
      "100%|██████████| 64/64 [00:00<00:00, 3494.84it/s]\n",
      "100%|██████████| 64/64 [00:00<00:00, 1353.58it/s]\n",
      "100%|██████████| 64/64 [00:00<00:00, 1197.90it/s]\n",
      "100%|██████████| 64/64 [00:00<00:00, 7822.00it/s]\n"
     ]
    },
    {
     "name": "stdout",
     "output_type": "stream",
     "text": [
      "(1, 3329)\n",
      "(492, 3330)\n"
     ]
    },
    {
     "name": "stderr",
     "output_type": "stream",
     "text": [
      "100%|██████████| 64/64 [00:00<00:00, 29740.25it/s]\n",
      "100%|██████████| 64/64 [00:00<00:00, 93.22it/s]\n",
      "100%|██████████| 64/64 [00:00<00:00, 93.65it/s]\n",
      "100%|██████████| 64/64 [00:00<00:00, 103.10it/s]\n",
      "100%|██████████| 64/64 [00:00<00:00, 2266.20it/s]\n",
      "100%|██████████| 64/64 [00:00<00:00, 178.95it/s]\n",
      "100%|██████████| 64/64 [00:00<00:00, 153.56it/s]\n",
      "100%|██████████| 64/64 [00:08<00:00,  7.90it/s]\n",
      "100%|██████████| 64/64 [00:00<00:00, 3392.76it/s]\n",
      "100%|██████████| 64/64 [00:00<00:00, 1391.49it/s]\n",
      "100%|██████████| 64/64 [00:00<00:00, 1380.31it/s]\n",
      "100%|██████████| 64/64 [00:00<00:00, 7093.96it/s]\n"
     ]
    },
    {
     "name": "stdout",
     "output_type": "stream",
     "text": [
      "(1, 3329)\n",
      "(493, 3330)\n"
     ]
    },
    {
     "name": "stderr",
     "output_type": "stream",
     "text": [
      "100%|██████████| 64/64 [00:00<00:00, 149796.57it/s]\n",
      "100%|██████████| 64/64 [00:00<00:00, 93.75it/s]\n",
      "100%|██████████| 64/64 [00:00<00:00, 92.55it/s]\n",
      "100%|██████████| 64/64 [00:00<00:00, 97.44it/s]\n",
      "100%|██████████| 64/64 [00:00<00:00, 2210.13it/s]\n",
      "100%|██████████| 64/64 [00:00<00:00, 185.02it/s]\n",
      "100%|██████████| 64/64 [00:00<00:00, 151.74it/s]\n",
      "100%|██████████| 64/64 [00:08<00:00,  7.89it/s]\n",
      "100%|██████████| 64/64 [00:00<00:00, 2921.52it/s]\n",
      "100%|██████████| 64/64 [00:00<00:00, 1213.55it/s]\n",
      "100%|██████████| 64/64 [00:00<00:00, 1328.99it/s]\n",
      "100%|██████████| 64/64 [00:00<00:00, 7605.27it/s]\n"
     ]
    },
    {
     "name": "stdout",
     "output_type": "stream",
     "text": [
      "(1, 3329)\n",
      "(494, 3330)\n"
     ]
    },
    {
     "name": "stderr",
     "output_type": "stream",
     "text": [
      "100%|██████████| 64/64 [00:00<00:00, 129616.35it/s]\n",
      "100%|██████████| 64/64 [00:00<00:00, 94.96it/s]\n",
      "100%|██████████| 64/64 [00:00<00:00, 93.90it/s]\n",
      "100%|██████████| 64/64 [00:00<00:00, 97.30it/s]\n",
      "100%|██████████| 64/64 [00:00<00:00, 2159.39it/s]\n",
      "100%|██████████| 64/64 [00:00<00:00, 183.91it/s]\n",
      "100%|██████████| 64/64 [00:00<00:00, 149.55it/s]\n",
      "100%|██████████| 64/64 [00:08<00:00,  7.85it/s]\n",
      "100%|██████████| 64/64 [00:00<00:00, 3119.28it/s]\n",
      "100%|██████████| 64/64 [00:00<00:00, 1386.01it/s]\n",
      "100%|██████████| 64/64 [00:00<00:00, 1322.31it/s]\n",
      "100%|██████████| 64/64 [00:00<00:00, 5542.64it/s]\n"
     ]
    },
    {
     "name": "stdout",
     "output_type": "stream",
     "text": [
      "(1, 3329)\n",
      "(495, 3330)\n"
     ]
    },
    {
     "name": "stderr",
     "output_type": "stream",
     "text": [
      "100%|██████████| 64/64 [00:00<00:00, 104734.86it/s]\n",
      "100%|██████████| 64/64 [00:00<00:00, 92.67it/s]\n",
      "100%|██████████| 64/64 [00:00<00:00, 97.29it/s]\n",
      "100%|██████████| 64/64 [00:00<00:00, 98.40it/s]\n",
      "100%|██████████| 64/64 [00:00<00:00, 2218.29it/s]\n",
      "100%|██████████| 64/64 [00:00<00:00, 189.47it/s]\n",
      "100%|██████████| 64/64 [00:00<00:00, 148.07it/s]\n",
      "100%|██████████| 64/64 [00:08<00:00,  7.91it/s]\n",
      "100%|██████████| 64/64 [00:00<00:00, 3292.64it/s]\n",
      "100%|██████████| 64/64 [00:00<00:00, 1356.06it/s]\n",
      "100%|██████████| 64/64 [00:00<00:00, 1333.26it/s]\n",
      "100%|██████████| 64/64 [00:00<00:00, 7052.03it/s]\n"
     ]
    },
    {
     "name": "stdout",
     "output_type": "stream",
     "text": [
      "(1, 3329)\n",
      "(496, 3330)\n"
     ]
    },
    {
     "name": "stderr",
     "output_type": "stream",
     "text": [
      "100%|██████████| 64/64 [00:00<00:00, 35130.93it/s]\n",
      "100%|██████████| 64/64 [00:00<00:00, 93.20it/s]\n",
      "100%|██████████| 64/64 [00:00<00:00, 97.65it/s]\n",
      "100%|██████████| 64/64 [00:00<00:00, 102.61it/s]\n",
      "100%|██████████| 64/64 [00:00<00:00, 2273.57it/s]\n",
      "100%|██████████| 64/64 [00:00<00:00, 176.95it/s]\n",
      "100%|██████████| 64/64 [00:00<00:00, 149.45it/s]\n",
      "100%|██████████| 64/64 [00:08<00:00,  7.86it/s]\n",
      "100%|██████████| 64/64 [00:00<00:00, 3431.63it/s]\n",
      "100%|██████████| 64/64 [00:00<00:00, 1366.65it/s]\n",
      "100%|██████████| 64/64 [00:00<00:00, 1319.09it/s]\n",
      "100%|██████████| 64/64 [00:00<00:00, 6770.12it/s]\n"
     ]
    },
    {
     "name": "stdout",
     "output_type": "stream",
     "text": [
      "(1, 3329)\n",
      "(497, 3330)\n"
     ]
    },
    {
     "name": "stderr",
     "output_type": "stream",
     "text": [
      "100%|██████████| 64/64 [00:00<00:00, 211866.97it/s]\n",
      "100%|██████████| 64/64 [00:00<00:00, 94.16it/s]\n",
      "100%|██████████| 64/64 [00:00<00:00, 97.73it/s]\n",
      "100%|██████████| 64/64 [00:00<00:00, 100.34it/s]\n",
      "100%|██████████| 64/64 [00:00<00:00, 1722.37it/s]\n",
      "100%|██████████| 64/64 [00:00<00:00, 183.28it/s]\n",
      "100%|██████████| 64/64 [00:00<00:00, 150.54it/s]\n",
      "100%|██████████| 64/64 [00:08<00:00,  7.90it/s]\n",
      "100%|██████████| 64/64 [00:00<00:00, 3424.05it/s]\n",
      "100%|██████████| 64/64 [00:00<00:00, 1229.99it/s]\n",
      "100%|██████████| 64/64 [00:00<00:00, 1109.88it/s]\n",
      "100%|██████████| 64/64 [00:00<00:00, 6305.45it/s]\n"
     ]
    },
    {
     "name": "stdout",
     "output_type": "stream",
     "text": [
      "(1, 3329)\n",
      "(498, 3330)\n"
     ]
    },
    {
     "name": "stderr",
     "output_type": "stream",
     "text": [
      "100%|██████████| 64/64 [00:00<00:00, 17502.47it/s]\n",
      "100%|██████████| 64/64 [00:00<00:00, 94.05it/s]\n",
      "100%|██████████| 64/64 [00:00<00:00, 94.96it/s]\n",
      "100%|██████████| 64/64 [00:00<00:00, 101.16it/s]\n",
      "100%|██████████| 64/64 [00:00<00:00, 2388.11it/s]\n",
      "100%|██████████| 64/64 [00:00<00:00, 184.00it/s]\n",
      "100%|██████████| 64/64 [00:00<00:00, 150.58it/s]\n",
      "100%|██████████| 64/64 [00:08<00:00,  7.82it/s]\n",
      "100%|██████████| 64/64 [00:00<00:00, 3467.67it/s]\n",
      "100%|██████████| 64/64 [00:00<00:00, 1353.51it/s]\n",
      "100%|██████████| 64/64 [00:00<00:00, 1243.44it/s]\n",
      "100%|██████████| 64/64 [00:00<00:00, 6815.68it/s]\n"
     ]
    },
    {
     "name": "stdout",
     "output_type": "stream",
     "text": [
      "(1, 3329)\n",
      "(499, 3330)\n"
     ]
    },
    {
     "name": "stderr",
     "output_type": "stream",
     "text": [
      "100%|██████████| 64/64 [00:00<00:00, 15180.43it/s]\n",
      "100%|██████████| 64/64 [00:00<00:00, 93.71it/s]\n",
      "100%|██████████| 64/64 [00:00<00:00, 93.24it/s]\n",
      "100%|██████████| 64/64 [00:00<00:00, 100.18it/s]\n",
      "100%|██████████| 64/64 [00:00<00:00, 2211.75it/s]\n",
      "100%|██████████| 64/64 [00:00<00:00, 181.79it/s]\n",
      "100%|██████████| 64/64 [00:00<00:00, 145.22it/s]\n",
      "100%|██████████| 64/64 [00:08<00:00,  7.86it/s]\n",
      "100%|██████████| 64/64 [00:00<00:00, 3466.99it/s]\n",
      "100%|██████████| 64/64 [00:00<00:00, 1352.33it/s]\n",
      "100%|██████████| 64/64 [00:00<00:00, 1344.86it/s]\n",
      "100%|██████████| 64/64 [00:00<00:00, 7371.36it/s]\n"
     ]
    },
    {
     "name": "stdout",
     "output_type": "stream",
     "text": [
      "(1, 3329)\n",
      "(500, 3330)\n"
     ]
    },
    {
     "name": "stderr",
     "output_type": "stream",
     "text": [
      "100%|██████████| 64/64 [00:00<00:00, 16855.17it/s]\n",
      "100%|██████████| 64/64 [00:00<00:00, 88.52it/s]\n",
      "100%|██████████| 64/64 [00:00<00:00, 93.76it/s]\n",
      "100%|██████████| 64/64 [00:00<00:00, 93.14it/s]\n",
      "100%|██████████| 64/64 [00:00<00:00, 2216.81it/s]\n",
      "100%|██████████| 64/64 [00:00<00:00, 179.43it/s]\n",
      "100%|██████████| 64/64 [00:00<00:00, 146.89it/s]\n",
      "100%|██████████| 64/64 [00:08<00:00,  7.83it/s]\n",
      "100%|██████████| 64/64 [00:00<00:00, 2465.92it/s]\n",
      "100%|██████████| 64/64 [00:00<00:00, 1419.26it/s]\n",
      "100%|██████████| 64/64 [00:00<00:00, 1370.91it/s]\n",
      "100%|██████████| 64/64 [00:00<00:00, 5243.49it/s]\n"
     ]
    },
    {
     "name": "stdout",
     "output_type": "stream",
     "text": [
      "(1, 3329)\n",
      "(501, 3330)\n"
     ]
    },
    {
     "name": "stderr",
     "output_type": "stream",
     "text": [
      "100%|██████████| 64/64 [00:00<00:00, 115754.83it/s]\n",
      "100%|██████████| 64/64 [00:00<00:00, 89.74it/s]\n",
      "100%|██████████| 64/64 [00:00<00:00, 96.14it/s]\n",
      "100%|██████████| 64/64 [00:00<00:00, 95.31it/s]\n",
      "100%|██████████| 64/64 [00:00<00:00, 2032.12it/s]\n",
      "100%|██████████| 64/64 [00:00<00:00, 183.21it/s]\n",
      "100%|██████████| 64/64 [00:00<00:00, 144.18it/s]\n",
      "100%|██████████| 64/64 [00:08<00:00,  7.91it/s]\n",
      "100%|██████████| 64/64 [00:00<00:00, 3538.94it/s]\n",
      "100%|██████████| 64/64 [00:00<00:00, 1361.65it/s]\n",
      "100%|██████████| 64/64 [00:00<00:00, 1371.58it/s]\n",
      "100%|██████████| 64/64 [00:00<00:00, 7342.13it/s]\n"
     ]
    },
    {
     "name": "stdout",
     "output_type": "stream",
     "text": [
      "(1, 3329)\n",
      "(502, 3330)\n"
     ]
    },
    {
     "name": "stderr",
     "output_type": "stream",
     "text": [
      "100%|██████████| 64/64 [00:00<00:00, 112788.01it/s]\n",
      "100%|██████████| 64/64 [00:00<00:00, 93.36it/s]\n",
      "100%|██████████| 64/64 [00:00<00:00, 91.78it/s]\n",
      "100%|██████████| 64/64 [00:00<00:00, 98.98it/s]\n",
      "100%|██████████| 64/64 [00:00<00:00, 1997.54it/s]\n",
      "100%|██████████| 64/64 [00:00<00:00, 180.71it/s]\n",
      "100%|██████████| 64/64 [00:00<00:00, 146.87it/s]\n",
      "100%|██████████| 64/64 [00:08<00:00,  7.80it/s]\n",
      "100%|██████████| 64/64 [00:00<00:00, 3444.17it/s]\n",
      "100%|██████████| 64/64 [00:00<00:00, 1418.00it/s]\n",
      "100%|██████████| 64/64 [00:00<00:00, 1346.93it/s]\n",
      "100%|██████████| 64/64 [00:00<00:00, 7334.90it/s]\n",
      "100%|██████████| 64/64 [00:00<00:00, 89210.85it/s]\n",
      "  0%|          | 0/64 [00:00<?, ?it/s]"
     ]
    },
    {
     "name": "stdout",
     "output_type": "stream",
     "text": [
      "(1, 3329)\n",
      "(503, 3330)\n"
     ]
    },
    {
     "name": "stderr",
     "output_type": "stream",
     "text": [
      "100%|██████████| 64/64 [00:00<00:00, 90.33it/s]\n",
      "100%|██████████| 64/64 [00:00<00:00, 94.27it/s]\n",
      "100%|██████████| 64/64 [00:00<00:00, 101.55it/s]\n",
      "100%|██████████| 64/64 [00:00<00:00, 2330.78it/s]\n",
      "100%|██████████| 64/64 [00:00<00:00, 175.93it/s]\n",
      "100%|██████████| 64/64 [00:00<00:00, 145.49it/s]\n",
      "100%|██████████| 64/64 [00:08<00:00,  7.80it/s]\n",
      "100%|██████████| 64/64 [00:00<00:00, 3930.82it/s]\n",
      "100%|██████████| 64/64 [00:00<00:00, 1346.36it/s]\n",
      "100%|██████████| 64/64 [00:00<00:00, 1314.18it/s]\n",
      "100%|██████████| 64/64 [00:00<00:00, 8283.77it/s]\n"
     ]
    },
    {
     "name": "stdout",
     "output_type": "stream",
     "text": [
      "(1, 3329)\n",
      "(504, 3330)\n"
     ]
    },
    {
     "name": "stderr",
     "output_type": "stream",
     "text": [
      "100%|██████████| 64/64 [00:00<00:00, 62806.61it/s]\n",
      "100%|██████████| 64/64 [00:00<00:00, 90.85it/s]\n",
      "100%|██████████| 64/64 [00:00<00:00, 94.79it/s]\n",
      "100%|██████████| 64/64 [00:00<00:00, 95.76it/s]\n",
      "100%|██████████| 64/64 [00:00<00:00, 2092.30it/s]\n",
      "100%|██████████| 64/64 [00:00<00:00, 181.04it/s]\n",
      "100%|██████████| 64/64 [00:00<00:00, 148.27it/s]\n",
      "100%|██████████| 64/64 [00:08<00:00,  7.80it/s]\n",
      "100%|██████████| 64/64 [00:00<00:00, 3511.12it/s]\n",
      "100%|██████████| 64/64 [00:00<00:00, 1381.09it/s]\n",
      "100%|██████████| 64/64 [00:00<00:00, 1236.97it/s]\n",
      "100%|██████████| 64/64 [00:00<00:00, 7509.10it/s]\n"
     ]
    },
    {
     "name": "stdout",
     "output_type": "stream",
     "text": [
      "(1, 3329)\n",
      "(505, 3330)\n"
     ]
    },
    {
     "name": "stderr",
     "output_type": "stream",
     "text": [
      "100%|██████████| 64/64 [00:00<00:00, 224632.18it/s]\n",
      "100%|██████████| 64/64 [00:00<00:00, 93.38it/s]\n",
      "100%|██████████| 64/64 [00:00<00:00, 95.00it/s]\n",
      "100%|██████████| 64/64 [00:00<00:00, 89.75it/s]\n",
      "100%|██████████| 64/64 [00:00<00:00, 2131.74it/s]\n",
      "100%|██████████| 64/64 [00:00<00:00, 186.01it/s]\n",
      "100%|██████████| 64/64 [00:00<00:00, 146.84it/s]\n",
      "100%|██████████| 64/64 [00:08<00:00,  7.79it/s]\n",
      "100%|██████████| 64/64 [00:00<00:00, 3374.17it/s]\n",
      "100%|██████████| 64/64 [00:00<00:00, 1098.90it/s]\n",
      "100%|██████████| 64/64 [00:00<00:00, 1342.93it/s]\n",
      "100%|██████████| 64/64 [00:00<00:00, 7703.70it/s]\n"
     ]
    },
    {
     "name": "stdout",
     "output_type": "stream",
     "text": [
      "(1, 3329)\n",
      "(506, 3330)\n"
     ]
    },
    {
     "name": "stderr",
     "output_type": "stream",
     "text": [
      "100%|██████████| 64/64 [00:00<00:00, 15261.55it/s]\n",
      "100%|██████████| 64/64 [00:00<00:00, 93.24it/s]\n",
      "100%|██████████| 64/64 [00:00<00:00, 95.72it/s]\n",
      "100%|██████████| 64/64 [00:00<00:00, 97.29it/s]\n",
      "100%|██████████| 64/64 [00:00<00:00, 2084.55it/s]\n",
      "100%|██████████| 64/64 [00:00<00:00, 178.38it/s]\n",
      "100%|██████████| 64/64 [00:00<00:00, 146.40it/s]\n",
      "100%|██████████| 64/64 [00:08<00:00,  7.87it/s]\n",
      "100%|██████████| 64/64 [00:00<00:00, 3247.23it/s]\n",
      "100%|██████████| 64/64 [00:00<00:00, 1315.38it/s]\n",
      "100%|██████████| 64/64 [00:00<00:00, 1288.36it/s]\n",
      "100%|██████████| 64/64 [00:00<00:00, 7854.96it/s]\n"
     ]
    },
    {
     "name": "stdout",
     "output_type": "stream",
     "text": [
      "(1, 3329)\n",
      "(507, 3330)\n"
     ]
    },
    {
     "name": "stderr",
     "output_type": "stream",
     "text": [
      "100%|██████████| 64/64 [00:00<00:00, 217005.22it/s]\n",
      "100%|██████████| 64/64 [00:00<00:00, 94.78it/s]\n",
      "100%|██████████| 64/64 [00:00<00:00, 99.02it/s]\n",
      "100%|██████████| 64/64 [00:00<00:00, 101.76it/s]\n",
      "100%|██████████| 64/64 [00:00<00:00, 2187.56it/s]\n",
      "100%|██████████| 64/64 [00:00<00:00, 185.55it/s]\n",
      "100%|██████████| 64/64 [00:00<00:00, 152.13it/s]\n",
      "100%|██████████| 64/64 [00:08<00:00,  7.92it/s]\n",
      "100%|██████████| 64/64 [00:00<00:00, 3534.74it/s]\n",
      "100%|██████████| 64/64 [00:00<00:00, 1320.72it/s]\n",
      "100%|██████████| 64/64 [00:00<00:00, 1342.49it/s]\n",
      "100%|██████████| 64/64 [00:00<00:00, 7609.15it/s]\n"
     ]
    },
    {
     "name": "stdout",
     "output_type": "stream",
     "text": [
      "(1, 3329)\n",
      "(508, 3330)\n"
     ]
    },
    {
     "name": "stderr",
     "output_type": "stream",
     "text": [
      "100%|██████████| 64/64 [00:00<00:00, 28149.69it/s]\n",
      "100%|██████████| 64/64 [00:00<00:00, 93.60it/s]\n",
      "100%|██████████| 64/64 [00:00<00:00, 95.35it/s]\n",
      "100%|██████████| 64/64 [00:00<00:00, 98.91it/s]\n",
      "100%|██████████| 64/64 [00:00<00:00, 2126.15it/s]\n",
      "100%|██████████| 64/64 [00:00<00:00, 174.01it/s]\n",
      "100%|██████████| 64/64 [00:00<00:00, 147.89it/s]\n",
      "100%|██████████| 64/64 [00:07<00:00,  8.01it/s]\n",
      "100%|██████████| 64/64 [00:00<00:00, 2982.22it/s]\n",
      "100%|██████████| 64/64 [00:00<00:00, 1232.78it/s]\n",
      "100%|██████████| 64/64 [00:00<00:00, 1265.21it/s]\n",
      "100%|██████████| 64/64 [00:00<00:00, 6843.83it/s]\n"
     ]
    },
    {
     "name": "stdout",
     "output_type": "stream",
     "text": [
      "(1, 3329)\n",
      "(509, 3330)\n"
     ]
    },
    {
     "name": "stderr",
     "output_type": "stream",
     "text": [
      "100%|██████████| 64/64 [00:00<00:00, 30362.57it/s]\n",
      "100%|██████████| 64/64 [00:00<00:00, 91.53it/s]\n",
      "100%|██████████| 64/64 [00:00<00:00, 94.87it/s]\n",
      "100%|██████████| 64/64 [00:00<00:00, 102.17it/s]\n",
      "100%|██████████| 64/64 [00:00<00:00, 2357.18it/s]\n",
      "100%|██████████| 64/64 [00:00<00:00, 179.35it/s]\n",
      "100%|██████████| 64/64 [00:00<00:00, 151.46it/s]\n",
      "100%|██████████| 64/64 [00:08<00:00,  7.84it/s]\n",
      "100%|██████████| 64/64 [00:00<00:00, 3515.44it/s]\n",
      "100%|██████████| 64/64 [00:00<00:00, 1343.28it/s]\n",
      "100%|██████████| 64/64 [00:00<00:00, 1325.08it/s]\n",
      "100%|██████████| 64/64 [00:00<00:00, 6927.90it/s]\n"
     ]
    },
    {
     "name": "stdout",
     "output_type": "stream",
     "text": [
      "(1, 3329)\n",
      "(510, 3330)\n"
     ]
    },
    {
     "name": "stderr",
     "output_type": "stream",
     "text": [
      "100%|██████████| 64/64 [00:00<00:00, 89418.87it/s]\n",
      "100%|██████████| 64/64 [00:00<00:00, 92.93it/s]\n",
      "100%|██████████| 64/64 [00:00<00:00, 93.20it/s]\n",
      "100%|██████████| 64/64 [00:00<00:00, 101.65it/s]\n",
      "100%|██████████| 64/64 [00:00<00:00, 1637.33it/s]\n",
      "100%|██████████| 64/64 [00:00<00:00, 182.94it/s]\n",
      "100%|██████████| 64/64 [00:00<00:00, 152.14it/s]\n",
      "100%|██████████| 64/64 [00:08<00:00,  7.86it/s]\n",
      "100%|██████████| 64/64 [00:00<00:00, 3600.50it/s]\n",
      "100%|██████████| 64/64 [00:00<00:00, 1307.16it/s]\n",
      "100%|██████████| 64/64 [00:00<00:00, 1342.68it/s]\n",
      "100%|██████████| 64/64 [00:00<00:00, 6764.84it/s]\n"
     ]
    },
    {
     "name": "stdout",
     "output_type": "stream",
     "text": [
      "(1, 3329)\n",
      "(511, 3330)\n"
     ]
    },
    {
     "name": "stderr",
     "output_type": "stream",
     "text": [
      "100%|██████████| 64/64 [00:00<00:00, 24903.56it/s]\n",
      "100%|██████████| 64/64 [00:00<00:00, 97.42it/s]\n",
      "100%|██████████| 64/64 [00:00<00:00, 92.24it/s]\n",
      "100%|██████████| 64/64 [00:00<00:00, 98.74it/s]\n",
      "100%|██████████| 64/64 [00:00<00:00, 1747.76it/s]\n",
      "100%|██████████| 64/64 [00:00<00:00, 187.80it/s]\n",
      "100%|██████████| 64/64 [00:00<00:00, 151.81it/s]\n",
      "100%|██████████| 64/64 [00:08<00:00,  7.87it/s]\n",
      "100%|██████████| 64/64 [00:00<00:00, 3193.15it/s]\n",
      "100%|██████████| 64/64 [00:00<00:00, 1109.76it/s]\n",
      "100%|██████████| 64/64 [00:00<00:00, 1124.55it/s]\n",
      "100%|██████████| 64/64 [00:00<00:00, 6841.39it/s]\n"
     ]
    },
    {
     "name": "stdout",
     "output_type": "stream",
     "text": [
      "(1, 3329)\n",
      "(512, 3330)\n"
     ]
    },
    {
     "name": "stderr",
     "output_type": "stream",
     "text": [
      "100%|██████████| 64/64 [00:00<00:00, 25214.68it/s]\n",
      "100%|██████████| 64/64 [00:00<00:00, 92.50it/s]\n",
      "100%|██████████| 64/64 [00:00<00:00, 97.44it/s]\n",
      "100%|██████████| 64/64 [00:00<00:00, 100.98it/s]\n",
      "100%|██████████| 64/64 [00:00<00:00, 2264.15it/s]\n",
      "100%|██████████| 64/64 [00:00<00:00, 182.21it/s]\n",
      "100%|██████████| 64/64 [00:00<00:00, 138.87it/s]\n",
      "100%|██████████| 64/64 [00:08<00:00,  7.87it/s]\n",
      "100%|██████████| 64/64 [00:00<00:00, 3518.99it/s]\n",
      "100%|██████████| 64/64 [00:00<00:00, 1436.57it/s]\n",
      "100%|██████████| 64/64 [00:00<00:00, 1368.20it/s]\n",
      "100%|██████████| 64/64 [00:00<00:00, 6828.85it/s]\n"
     ]
    },
    {
     "name": "stdout",
     "output_type": "stream",
     "text": [
      "(1, 3329)\n",
      "(513, 3330)\n"
     ]
    },
    {
     "name": "stderr",
     "output_type": "stream",
     "text": [
      "100%|██████████| 64/64 [00:00<00:00, 100424.79it/s]\n",
      "100%|██████████| 64/64 [00:00<00:00, 90.79it/s]\n",
      "100%|██████████| 64/64 [00:00<00:00, 93.01it/s]\n",
      "100%|██████████| 64/64 [00:00<00:00, 97.81it/s]\n",
      "100%|██████████| 64/64 [00:00<00:00, 2194.39it/s]\n",
      "100%|██████████| 64/64 [00:00<00:00, 182.19it/s]\n",
      "100%|██████████| 64/64 [00:00<00:00, 145.51it/s]\n",
      "100%|██████████| 64/64 [00:08<00:00,  7.85it/s]\n",
      "100%|██████████| 64/64 [00:00<00:00, 3478.99it/s]\n",
      "100%|██████████| 64/64 [00:00<00:00, 1351.08it/s]\n",
      "100%|██████████| 64/64 [00:00<00:00, 1244.23it/s]\n",
      "100%|██████████| 64/64 [00:00<00:00, 7029.13it/s]\n"
     ]
    },
    {
     "name": "stdout",
     "output_type": "stream",
     "text": [
      "(1, 3329)\n",
      "(514, 3330)\n"
     ]
    },
    {
     "name": "stderr",
     "output_type": "stream",
     "text": [
      "100%|██████████| 64/64 [00:00<00:00, 131909.31it/s]\n",
      "100%|██████████| 64/64 [00:00<00:00, 91.65it/s]\n",
      "100%|██████████| 64/64 [00:00<00:00, 92.91it/s]\n",
      "100%|██████████| 64/64 [00:00<00:00, 99.54it/s] \n",
      "100%|██████████| 64/64 [00:00<00:00, 2272.08it/s]\n",
      "100%|██████████| 64/64 [00:00<00:00, 177.47it/s]\n",
      "100%|██████████| 64/64 [00:00<00:00, 143.30it/s]\n",
      "100%|██████████| 64/64 [00:08<00:00,  7.90it/s]\n",
      "100%|██████████| 64/64 [00:00<00:00, 3443.73it/s]\n",
      "100%|██████████| 64/64 [00:00<00:00, 1384.28it/s]\n",
      "100%|██████████| 64/64 [00:00<00:00, 1363.45it/s]\n",
      "100%|██████████| 64/64 [00:00<00:00, 7251.68it/s]\n"
     ]
    },
    {
     "name": "stdout",
     "output_type": "stream",
     "text": [
      "(1, 3329)\n",
      "(515, 3330)\n"
     ]
    },
    {
     "name": "stderr",
     "output_type": "stream",
     "text": [
      "100%|██████████| 64/64 [00:00<00:00, 140102.01it/s]\n",
      "100%|██████████| 64/64 [00:00<00:00, 94.28it/s]\n",
      "100%|██████████| 64/64 [00:00<00:00, 92.05it/s]\n",
      "100%|██████████| 64/64 [00:00<00:00, 93.45it/s]\n",
      "100%|██████████| 64/64 [00:00<00:00, 2150.79it/s]\n",
      "100%|██████████| 64/64 [00:00<00:00, 176.79it/s]\n",
      "100%|██████████| 64/64 [00:00<00:00, 144.35it/s]\n",
      "100%|██████████| 64/64 [00:08<00:00,  7.85it/s]\n",
      "100%|██████████| 64/64 [00:00<00:00, 3071.77it/s]\n",
      "100%|██████████| 64/64 [00:00<00:00, 1297.00it/s]\n",
      "100%|██████████| 64/64 [00:00<00:00, 1286.01it/s]\n",
      "100%|██████████| 64/64 [00:00<00:00, 6179.03it/s]\n"
     ]
    },
    {
     "name": "stdout",
     "output_type": "stream",
     "text": [
      "(1, 3329)\n",
      "(516, 3330)\n"
     ]
    },
    {
     "name": "stderr",
     "output_type": "stream",
     "text": [
      "100%|██████████| 64/64 [00:00<00:00, 196512.05it/s]\n",
      "100%|██████████| 64/64 [00:00<00:00, 91.32it/s]\n",
      "100%|██████████| 64/64 [00:00<00:00, 95.15it/s]\n",
      "100%|██████████| 64/64 [00:00<00:00, 100.01it/s]\n",
      "100%|██████████| 64/64 [00:00<00:00, 2303.83it/s]\n",
      "100%|██████████| 64/64 [00:00<00:00, 178.81it/s]\n",
      "100%|██████████| 64/64 [00:00<00:00, 146.32it/s]\n",
      "100%|██████████| 64/64 [00:08<00:00,  7.87it/s]\n",
      "100%|██████████| 64/64 [00:00<00:00, 3449.26it/s]\n",
      "100%|██████████| 64/64 [00:00<00:00, 1227.88it/s]\n",
      "100%|██████████| 64/64 [00:00<00:00, 1339.69it/s]\n",
      "100%|██████████| 64/64 [00:00<00:00, 7304.37it/s]\n"
     ]
    },
    {
     "name": "stdout",
     "output_type": "stream",
     "text": [
      "(1, 3329)\n",
      "(517, 3330)\n"
     ]
    },
    {
     "name": "stderr",
     "output_type": "stream",
     "text": [
      "100%|██████████| 64/64 [00:00<00:00, 22635.59it/s]\n",
      "100%|██████████| 64/64 [00:00<00:00, 90.63it/s]\n",
      "100%|██████████| 64/64 [00:00<00:00, 93.71it/s]\n",
      "100%|██████████| 64/64 [00:00<00:00, 99.58it/s] \n",
      "100%|██████████| 64/64 [00:00<00:00, 2202.13it/s]\n",
      "100%|██████████| 64/64 [00:00<00:00, 176.60it/s]\n",
      "100%|██████████| 64/64 [00:00<00:00, 144.76it/s]\n",
      "100%|██████████| 64/64 [00:08<00:00,  7.78it/s]\n",
      "100%|██████████| 64/64 [00:00<00:00, 3740.11it/s]\n",
      "100%|██████████| 64/64 [00:00<00:00, 1329.84it/s]\n",
      "100%|██████████| 64/64 [00:00<00:00, 1309.82it/s]\n",
      "100%|██████████| 64/64 [00:00<00:00, 7906.09it/s]\n"
     ]
    },
    {
     "name": "stdout",
     "output_type": "stream",
     "text": [
      "(1, 3329)\n",
      "(518, 3330)\n"
     ]
    },
    {
     "name": "stderr",
     "output_type": "stream",
     "text": [
      "100%|██████████| 64/64 [00:00<00:00, 120971.36it/s]\n",
      "100%|██████████| 64/64 [00:00<00:00, 93.92it/s]\n",
      "100%|██████████| 64/64 [00:00<00:00, 93.13it/s]\n",
      "100%|██████████| 64/64 [00:00<00:00, 101.24it/s]\n",
      "100%|██████████| 64/64 [00:00<00:00, 2361.20it/s]\n",
      "100%|██████████| 64/64 [00:00<00:00, 183.15it/s]\n",
      "100%|██████████| 64/64 [00:00<00:00, 153.03it/s]\n",
      "100%|██████████| 64/64 [00:08<00:00,  7.88it/s]\n",
      "100%|██████████| 64/64 [00:00<00:00, 3109.59it/s]\n",
      "100%|██████████| 64/64 [00:00<00:00, 1179.32it/s]\n",
      "100%|██████████| 64/64 [00:00<00:00, 1237.64it/s]\n",
      "100%|██████████| 64/64 [00:00<00:00, 7742.36it/s]\n"
     ]
    },
    {
     "name": "stdout",
     "output_type": "stream",
     "text": [
      "(1, 3329)\n",
      "(519, 3330)\n"
     ]
    },
    {
     "name": "stderr",
     "output_type": "stream",
     "text": [
      "100%|██████████| 64/64 [00:00<00:00, 51150.05it/s]\n",
      "100%|██████████| 64/64 [00:00<00:00, 93.65it/s]\n",
      "100%|██████████| 64/64 [00:00<00:00, 93.80it/s]\n",
      "100%|██████████| 64/64 [00:00<00:00, 99.24it/s]\n",
      "100%|██████████| 64/64 [00:00<00:00, 2167.88it/s]\n",
      "100%|██████████| 64/64 [00:00<00:00, 178.87it/s]\n",
      "100%|██████████| 64/64 [00:00<00:00, 148.90it/s]\n",
      "100%|██████████| 64/64 [00:08<00:00,  7.74it/s]\n",
      "100%|██████████| 64/64 [00:00<00:00, 3308.67it/s]\n",
      "100%|██████████| 64/64 [00:00<00:00, 1350.65it/s]\n",
      "100%|██████████| 64/64 [00:00<00:00, 1327.74it/s]\n",
      "100%|██████████| 64/64 [00:00<00:00, 6171.36it/s]\n"
     ]
    },
    {
     "name": "stdout",
     "output_type": "stream",
     "text": [
      "(1, 3329)\n",
      "(520, 3330)\n"
     ]
    },
    {
     "name": "stderr",
     "output_type": "stream",
     "text": [
      "100%|██████████| 64/64 [00:00<00:00, 25768.98it/s]\n",
      "100%|██████████| 64/64 [00:00<00:00, 95.05it/s]\n",
      "100%|██████████| 64/64 [00:00<00:00, 92.56it/s]\n",
      "100%|██████████| 64/64 [00:00<00:00, 97.47it/s]\n",
      "100%|██████████| 64/64 [00:00<00:00, 2162.34it/s]\n",
      "100%|██████████| 64/64 [00:00<00:00, 184.67it/s]\n",
      "100%|██████████| 64/64 [00:00<00:00, 152.06it/s]\n",
      "100%|██████████| 64/64 [00:08<00:00,  7.94it/s]\n",
      "100%|██████████| 64/64 [00:00<00:00, 3569.95it/s]\n",
      "100%|██████████| 64/64 [00:00<00:00, 1241.29it/s]\n",
      "100%|██████████| 64/64 [00:00<00:00, 1161.56it/s]\n",
      "100%|██████████| 64/64 [00:00<00:00, 6454.33it/s]\n"
     ]
    },
    {
     "name": "stdout",
     "output_type": "stream",
     "text": [
      "(1, 3329)\n",
      "(521, 3330)\n"
     ]
    },
    {
     "name": "stderr",
     "output_type": "stream",
     "text": [
      "100%|██████████| 64/64 [00:00<00:00, 91335.64it/s]\n",
      "100%|██████████| 64/64 [00:00<00:00, 95.68it/s]\n",
      "100%|██████████| 64/64 [00:00<00:00, 94.21it/s]\n",
      "100%|██████████| 64/64 [00:00<00:00, 98.88it/s]\n",
      "100%|██████████| 64/64 [00:00<00:00, 2407.84it/s]\n",
      "100%|██████████| 64/64 [00:00<00:00, 182.62it/s]\n",
      "100%|██████████| 64/64 [00:00<00:00, 145.13it/s]\n",
      "100%|██████████| 64/64 [00:08<00:00,  7.85it/s]\n",
      "100%|██████████| 64/64 [00:00<00:00, 3566.35it/s]\n",
      "100%|██████████| 64/64 [00:00<00:00, 1383.10it/s]\n",
      "100%|██████████| 64/64 [00:00<00:00, 1334.70it/s]\n",
      "100%|██████████| 64/64 [00:00<00:00, 6502.48it/s]\n"
     ]
    },
    {
     "name": "stdout",
     "output_type": "stream",
     "text": [
      "(1, 3329)\n",
      "(522, 3330)\n"
     ]
    },
    {
     "name": "stderr",
     "output_type": "stream",
     "text": [
      "100%|██████████| 64/64 [00:00<00:00, 145335.93it/s]\n",
      "100%|██████████| 64/64 [00:00<00:00, 92.37it/s]\n",
      "100%|██████████| 64/64 [00:00<00:00, 93.21it/s]\n",
      "100%|██████████| 64/64 [00:00<00:00, 95.24it/s]\n",
      "100%|██████████| 64/64 [00:00<00:00, 2202.69it/s]\n",
      "100%|██████████| 64/64 [00:00<00:00, 181.44it/s]\n",
      "100%|██████████| 64/64 [00:00<00:00, 141.29it/s]\n",
      "100%|██████████| 64/64 [00:08<00:00,  7.89it/s]\n",
      "100%|██████████| 64/64 [00:00<00:00, 3475.52it/s]\n",
      "100%|██████████| 64/64 [00:00<00:00, 1362.21it/s]\n",
      "100%|██████████| 64/64 [00:00<00:00, 1232.55it/s]\n",
      "100%|██████████| 64/64 [00:00<00:00, 7228.44it/s]\n"
     ]
    },
    {
     "name": "stdout",
     "output_type": "stream",
     "text": [
      "(1, 3329)\n",
      "(523, 3330)\n"
     ]
    },
    {
     "name": "stderr",
     "output_type": "stream",
     "text": [
      "100%|██████████| 64/64 [00:00<00:00, 26407.82it/s]\n",
      "100%|██████████| 64/64 [00:00<00:00, 96.08it/s]\n",
      "100%|██████████| 64/64 [00:00<00:00, 95.10it/s]\n",
      "100%|██████████| 64/64 [00:00<00:00, 99.47it/s]\n",
      "100%|██████████| 64/64 [00:00<00:00, 2111.95it/s]\n",
      "100%|██████████| 64/64 [00:00<00:00, 187.28it/s]\n",
      "100%|██████████| 64/64 [00:00<00:00, 141.76it/s]\n",
      "100%|██████████| 64/64 [00:08<00:00,  7.86it/s]\n",
      "100%|██████████| 64/64 [00:00<00:00, 2948.29it/s]\n",
      "100%|██████████| 64/64 [00:00<00:00, 1332.48it/s]\n",
      "100%|██████████| 64/64 [00:00<00:00, 1294.68it/s]\n",
      "100%|██████████| 64/64 [00:00<00:00, 7222.61it/s]\n"
     ]
    },
    {
     "name": "stdout",
     "output_type": "stream",
     "text": [
      "(1, 3329)\n",
      "(524, 3330)\n"
     ]
    },
    {
     "name": "stderr",
     "output_type": "stream",
     "text": [
      "100%|██████████| 64/64 [00:00<00:00, 118045.50it/s]\n",
      "100%|██████████| 64/64 [00:00<00:00, 89.81it/s]\n",
      "100%|██████████| 64/64 [00:00<00:00, 94.44it/s]\n",
      "100%|██████████| 64/64 [00:00<00:00, 99.06it/s] \n",
      "100%|██████████| 64/64 [00:00<00:00, 2327.66it/s]\n",
      "100%|██████████| 64/64 [00:00<00:00, 182.58it/s]\n",
      "100%|██████████| 64/64 [00:00<00:00, 144.78it/s]\n",
      "100%|██████████| 64/64 [00:08<00:00,  7.75it/s]\n",
      "100%|██████████| 64/64 [00:00<00:00, 3523.28it/s]\n",
      "100%|██████████| 64/64 [00:00<00:00, 1459.55it/s]\n",
      "100%|██████████| 64/64 [00:00<00:00, 1287.03it/s]\n",
      "100%|██████████| 64/64 [00:00<00:00, 8312.24it/s]\n"
     ]
    },
    {
     "name": "stdout",
     "output_type": "stream",
     "text": [
      "(1, 3329)\n",
      "(525, 3330)\n"
     ]
    },
    {
     "name": "stderr",
     "output_type": "stream",
     "text": [
      "100%|██████████| 64/64 [00:00<00:00, 97506.52it/s]\n",
      "100%|██████████| 64/64 [00:00<00:00, 91.47it/s]\n",
      "100%|██████████| 64/64 [00:00<00:00, 94.38it/s]\n",
      "100%|██████████| 64/64 [00:00<00:00, 102.64it/s]\n",
      "100%|██████████| 64/64 [00:00<00:00, 2169.77it/s]\n",
      "100%|██████████| 64/64 [00:00<00:00, 180.84it/s]\n",
      "100%|██████████| 64/64 [00:00<00:00, 153.80it/s]\n",
      "100%|██████████| 64/64 [00:08<00:00,  7.84it/s]\n",
      "100%|██████████| 64/64 [00:00<00:00, 3371.67it/s]\n",
      "100%|██████████| 64/64 [00:00<00:00, 1351.02it/s]\n",
      "100%|██████████| 64/64 [00:00<00:00, 1120.40it/s]\n",
      "100%|██████████| 64/64 [00:00<00:00, 7871.32it/s]\n"
     ]
    },
    {
     "name": "stdout",
     "output_type": "stream",
     "text": [
      "(1, 3329)\n",
      "(526, 3330)\n"
     ]
    },
    {
     "name": "stderr",
     "output_type": "stream",
     "text": [
      "100%|██████████| 64/64 [00:00<00:00, 23611.18it/s]\n",
      "100%|██████████| 64/64 [00:00<00:00, 93.92it/s]\n",
      "100%|██████████| 64/64 [00:00<00:00, 96.56it/s]\n",
      "100%|██████████| 64/64 [00:00<00:00, 97.53it/s]\n",
      "100%|██████████| 64/64 [00:00<00:00, 2013.07it/s]\n",
      "100%|██████████| 64/64 [00:00<00:00, 170.82it/s]\n",
      "100%|██████████| 64/64 [00:00<00:00, 138.59it/s]\n",
      "100%|██████████| 64/64 [00:08<00:00,  7.80it/s]\n",
      "100%|██████████| 64/64 [00:00<00:00, 2625.70it/s]\n",
      "100%|██████████| 64/64 [00:00<00:00, 1397.44it/s]\n",
      "100%|██████████| 64/64 [00:00<00:00, 1218.38it/s]\n",
      "100%|██████████| 64/64 [00:00<00:00, 7045.37it/s]\n"
     ]
    },
    {
     "name": "stdout",
     "output_type": "stream",
     "text": [
      "(1, 3329)\n",
      "(527, 3330)\n"
     ]
    },
    {
     "name": "stderr",
     "output_type": "stream",
     "text": [
      "100%|██████████| 64/64 [00:00<00:00, 16808.73it/s]\n",
      "100%|██████████| 64/64 [00:00<00:00, 91.07it/s]\n",
      "100%|██████████| 64/64 [00:00<00:00, 94.07it/s]\n",
      "100%|██████████| 64/64 [00:00<00:00, 95.79it/s]\n",
      "100%|██████████| 64/64 [00:00<00:00, 2327.32it/s]\n",
      "100%|██████████| 64/64 [00:00<00:00, 183.74it/s]\n",
      "100%|██████████| 64/64 [00:00<00:00, 139.20it/s]\n",
      "100%|██████████| 64/64 [00:08<00:00,  7.71it/s]\n",
      "100%|██████████| 64/64 [00:00<00:00, 3002.43it/s]\n",
      "100%|██████████| 64/64 [00:00<00:00, 1333.89it/s]\n",
      "100%|██████████| 64/64 [00:00<00:00, 1286.09it/s]\n",
      "100%|██████████| 64/64 [00:00<00:00, 5628.29it/s]\n"
     ]
    },
    {
     "name": "stdout",
     "output_type": "stream",
     "text": [
      "(1, 3329)\n",
      "(528, 3330)\n"
     ]
    },
    {
     "name": "stderr",
     "output_type": "stream",
     "text": [
      "100%|██████████| 64/64 [00:00<00:00, 29026.33it/s]\n",
      "100%|██████████| 64/64 [00:00<00:00, 90.58it/s]\n",
      "100%|██████████| 64/64 [00:00<00:00, 96.92it/s]\n",
      "100%|██████████| 64/64 [00:00<00:00, 102.68it/s]\n",
      "100%|██████████| 64/64 [00:00<00:00, 2284.40it/s]\n",
      "100%|██████████| 64/64 [00:00<00:00, 169.67it/s]\n",
      "100%|██████████| 64/64 [00:00<00:00, 153.85it/s]\n",
      "100%|██████████| 64/64 [00:08<00:00,  7.90it/s]\n",
      "100%|██████████| 64/64 [00:00<00:00, 3525.04it/s]\n",
      "100%|██████████| 64/64 [00:00<00:00, 1390.16it/s]\n",
      "100%|██████████| 64/64 [00:00<00:00, 1336.71it/s]\n",
      "100%|██████████| 64/64 [00:00<00:00, 7113.51it/s]\n"
     ]
    },
    {
     "name": "stdout",
     "output_type": "stream",
     "text": [
      "(1, 3329)\n",
      "(529, 3330)\n"
     ]
    },
    {
     "name": "stderr",
     "output_type": "stream",
     "text": [
      "100%|██████████| 64/64 [00:00<00:00, 92659.81it/s]\n",
      "100%|██████████| 64/64 [00:00<00:00, 95.20it/s]\n",
      "100%|██████████| 64/64 [00:00<00:00, 93.91it/s]\n",
      "100%|██████████| 64/64 [00:00<00:00, 97.50it/s]\n",
      "100%|██████████| 64/64 [00:00<00:00, 1741.96it/s]\n",
      "100%|██████████| 64/64 [00:00<00:00, 185.74it/s]\n",
      "100%|██████████| 64/64 [00:00<00:00, 150.33it/s]\n",
      "100%|██████████| 64/64 [00:08<00:00,  7.99it/s]\n",
      "100%|██████████| 64/64 [00:00<00:00, 3482.87it/s]\n",
      "100%|██████████| 64/64 [00:00<00:00, 1271.52it/s]\n",
      "100%|██████████| 64/64 [00:00<00:00, 1295.21it/s]\n",
      "100%|██████████| 64/64 [00:00<00:00, 7597.09it/s]\n"
     ]
    },
    {
     "name": "stdout",
     "output_type": "stream",
     "text": [
      "(1, 3329)\n",
      "(530, 3330)\n"
     ]
    },
    {
     "name": "stderr",
     "output_type": "stream",
     "text": [
      "100%|██████████| 64/64 [00:00<00:00, 250640.01it/s]\n",
      "100%|██████████| 64/64 [00:00<00:00, 90.86it/s]\n",
      "100%|██████████| 64/64 [00:00<00:00, 92.44it/s]\n",
      "100%|██████████| 64/64 [00:00<00:00, 100.00it/s]\n",
      "100%|██████████| 64/64 [00:00<00:00, 2034.33it/s]\n",
      "100%|██████████| 64/64 [00:00<00:00, 187.17it/s]\n",
      "100%|██████████| 64/64 [00:00<00:00, 151.23it/s]\n",
      "100%|██████████| 64/64 [00:08<00:00,  7.79it/s]\n",
      "100%|██████████| 64/64 [00:00<00:00, 3471.16it/s]\n",
      "100%|██████████| 64/64 [00:00<00:00, 1261.66it/s]\n",
      "100%|██████████| 64/64 [00:00<00:00, 1064.43it/s]\n",
      "100%|██████████| 64/64 [00:00<00:00, 6298.94it/s]\n"
     ]
    },
    {
     "name": "stdout",
     "output_type": "stream",
     "text": [
      "(1, 3329)\n",
      "(531, 3330)\n"
     ]
    },
    {
     "name": "stderr",
     "output_type": "stream",
     "text": [
      "100%|██████████| 64/64 [00:00<00:00, 22241.73it/s]\n",
      "100%|██████████| 64/64 [00:00<00:00, 88.86it/s]\n",
      "100%|██████████| 64/64 [00:00<00:00, 90.30it/s]\n",
      "100%|██████████| 64/64 [00:00<00:00, 97.23it/s]\n",
      "100%|██████████| 64/64 [00:00<00:00, 2292.62it/s]\n",
      "100%|██████████| 64/64 [00:00<00:00, 179.40it/s]\n",
      "100%|██████████| 64/64 [00:00<00:00, 142.94it/s]\n",
      "100%|██████████| 64/64 [00:08<00:00,  7.78it/s]\n",
      "100%|██████████| 64/64 [00:00<00:00, 3471.79it/s]\n",
      "100%|██████████| 64/64 [00:00<00:00, 1389.69it/s]\n",
      "100%|██████████| 64/64 [00:00<00:00, 1365.49it/s]\n",
      "100%|██████████| 64/64 [00:00<00:00, 8219.84it/s]\n"
     ]
    },
    {
     "name": "stdout",
     "output_type": "stream",
     "text": [
      "(1, 3329)\n",
      "(532, 3330)\n"
     ]
    },
    {
     "name": "stderr",
     "output_type": "stream",
     "text": [
      "100%|██████████| 64/64 [00:00<00:00, 29929.25it/s]\n",
      "100%|██████████| 64/64 [00:00<00:00, 94.44it/s]\n",
      "100%|██████████| 64/64 [00:00<00:00, 95.47it/s]\n",
      "100%|██████████| 64/64 [00:00<00:00, 98.75it/s]\n",
      "100%|██████████| 64/64 [00:00<00:00, 2020.26it/s]\n",
      "100%|██████████| 64/64 [00:00<00:00, 175.45it/s]\n",
      "100%|██████████| 64/64 [00:00<00:00, 143.63it/s]\n",
      "100%|██████████| 64/64 [00:08<00:00,  7.84it/s]\n",
      "100%|██████████| 64/64 [00:00<00:00, 3489.26it/s]\n",
      "100%|██████████| 64/64 [00:00<00:00, 1354.50it/s]\n",
      "100%|██████████| 64/64 [00:00<00:00, 1325.83it/s]\n",
      "100%|██████████| 64/64 [00:00<00:00, 7940.47it/s]\n"
     ]
    },
    {
     "name": "stdout",
     "output_type": "stream",
     "text": [
      "(1, 3329)\n",
      "(533, 3330)\n"
     ]
    },
    {
     "name": "stderr",
     "output_type": "stream",
     "text": [
      "100%|██████████| 64/64 [00:00<00:00, 16807.68it/s]\n",
      "100%|██████████| 64/64 [00:00<00:00, 91.95it/s]\n",
      "100%|██████████| 64/64 [00:00<00:00, 95.21it/s]\n",
      "100%|██████████| 64/64 [00:00<00:00, 99.30it/s]\n",
      "100%|██████████| 64/64 [00:00<00:00, 2150.46it/s]\n",
      "100%|██████████| 64/64 [00:00<00:00, 171.18it/s]\n",
      "100%|██████████| 64/64 [00:00<00:00, 145.32it/s]\n",
      "100%|██████████| 64/64 [00:08<00:00,  7.77it/s]\n",
      "100%|██████████| 64/64 [00:00<00:00, 3638.32it/s]\n",
      "100%|██████████| 64/64 [00:00<00:00, 1429.55it/s]\n",
      "100%|██████████| 64/64 [00:00<00:00, 1272.48it/s]\n",
      "100%|██████████| 64/64 [00:00<00:00, 7538.84it/s]\n"
     ]
    },
    {
     "name": "stdout",
     "output_type": "stream",
     "text": [
      "(1, 3329)\n",
      "(534, 3330)\n"
     ]
    },
    {
     "name": "stderr",
     "output_type": "stream",
     "text": [
      "100%|██████████| 64/64 [00:00<00:00, 127583.39it/s]\n",
      "100%|██████████| 64/64 [00:00<00:00, 88.61it/s]\n",
      "100%|██████████| 64/64 [00:00<00:00, 91.33it/s]\n",
      "100%|██████████| 64/64 [00:00<00:00, 96.78it/s]\n",
      "100%|██████████| 64/64 [00:00<00:00, 2435.08it/s]\n",
      "100%|██████████| 64/64 [00:00<00:00, 179.56it/s]\n",
      "100%|██████████| 64/64 [00:00<00:00, 148.60it/s]\n",
      "100%|██████████| 64/64 [00:08<00:00,  7.85it/s]\n",
      "100%|██████████| 64/64 [00:00<00:00, 3213.26it/s]\n",
      "100%|██████████| 64/64 [00:00<00:00, 1201.23it/s]\n",
      "100%|██████████| 64/64 [00:00<00:00, 1320.59it/s]\n",
      "100%|██████████| 64/64 [00:00<00:00, 8071.06it/s]\n"
     ]
    },
    {
     "name": "stdout",
     "output_type": "stream",
     "text": [
      "(1, 3329)\n",
      "(535, 3330)\n"
     ]
    },
    {
     "name": "stderr",
     "output_type": "stream",
     "text": [
      "100%|██████████| 64/64 [00:00<00:00, 19552.44it/s]\n",
      "100%|██████████| 64/64 [00:00<00:00, 93.59it/s]\n",
      "100%|██████████| 64/64 [00:00<00:00, 97.91it/s]\n",
      "100%|██████████| 64/64 [00:00<00:00, 97.66it/s]\n",
      "100%|██████████| 64/64 [00:00<00:00, 2311.23it/s]\n",
      "100%|██████████| 64/64 [00:00<00:00, 188.52it/s]\n",
      "100%|██████████| 64/64 [00:00<00:00, 145.50it/s]\n",
      "100%|██████████| 64/64 [00:08<00:00,  7.77it/s]\n",
      "100%|██████████| 64/64 [00:00<00:00, 3291.34it/s]\n",
      "100%|██████████| 64/64 [00:00<00:00, 1312.67it/s]\n",
      "100%|██████████| 64/64 [00:00<00:00, 1301.04it/s]\n",
      "100%|██████████| 64/64 [00:00<00:00, 7905.62it/s]\n"
     ]
    },
    {
     "name": "stdout",
     "output_type": "stream",
     "text": [
      "(1, 3329)\n",
      "(536, 3330)\n"
     ]
    },
    {
     "name": "stderr",
     "output_type": "stream",
     "text": [
      "100%|██████████| 64/64 [00:00<00:00, 127826.41it/s]\n",
      "100%|██████████| 64/64 [00:00<00:00, 90.76it/s]\n",
      "100%|██████████| 64/64 [00:00<00:00, 95.74it/s]\n",
      "100%|██████████| 64/64 [00:00<00:00, 95.24it/s]\n",
      "100%|██████████| 64/64 [00:00<00:00, 2181.83it/s]\n",
      "100%|██████████| 64/64 [00:00<00:00, 176.55it/s]\n",
      "100%|██████████| 64/64 [00:00<00:00, 146.77it/s]\n",
      "100%|██████████| 64/64 [00:08<00:00,  7.82it/s]\n",
      "100%|██████████| 64/64 [00:00<00:00, 3367.65it/s]\n",
      "100%|██████████| 64/64 [00:00<00:00, 1299.89it/s]\n",
      "100%|██████████| 64/64 [00:00<00:00, 1298.94it/s]\n",
      "100%|██████████| 64/64 [00:00<00:00, 7565.40it/s]\n"
     ]
    },
    {
     "name": "stdout",
     "output_type": "stream",
     "text": [
      "(1, 3329)\n",
      "(537, 3330)\n"
     ]
    },
    {
     "name": "stderr",
     "output_type": "stream",
     "text": [
      "100%|██████████| 64/64 [00:00<00:00, 130689.12it/s]\n",
      "100%|██████████| 64/64 [00:00<00:00, 94.78it/s]\n",
      "100%|██████████| 64/64 [00:00<00:00, 94.77it/s]\n",
      "100%|██████████| 64/64 [00:00<00:00, 100.25it/s]\n",
      "100%|██████████| 64/64 [00:00<00:00, 2287.05it/s]\n",
      "100%|██████████| 64/64 [00:00<00:00, 185.03it/s]\n",
      "100%|██████████| 64/64 [00:00<00:00, 151.98it/s]\n",
      "100%|██████████| 64/64 [00:08<00:00,  7.83it/s]\n",
      "100%|██████████| 64/64 [00:00<00:00, 3335.64it/s]\n",
      "100%|██████████| 64/64 [00:00<00:00, 1298.84it/s]\n",
      "100%|██████████| 64/64 [00:00<00:00, 1285.99it/s]\n",
      "100%|██████████| 64/64 [00:00<00:00, 7398.18it/s]\n"
     ]
    },
    {
     "name": "stdout",
     "output_type": "stream",
     "text": [
      "(1, 3329)\n",
      "(538, 3330)\n"
     ]
    },
    {
     "name": "stderr",
     "output_type": "stream",
     "text": [
      "100%|██████████| 64/64 [00:00<00:00, 251815.62it/s]\n",
      "100%|██████████| 64/64 [00:00<00:00, 90.21it/s]\n",
      "100%|██████████| 64/64 [00:00<00:00, 93.51it/s]\n",
      "100%|██████████| 64/64 [00:00<00:00, 94.66it/s]\n",
      "100%|██████████| 64/64 [00:00<00:00, 1985.95it/s]\n",
      "100%|██████████| 64/64 [00:00<00:00, 173.93it/s]\n",
      "100%|██████████| 64/64 [00:00<00:00, 141.97it/s]\n",
      "100%|██████████| 64/64 [00:08<00:00,  7.73it/s]\n",
      "100%|██████████| 64/64 [00:00<00:00, 2836.15it/s]\n",
      "100%|██████████| 64/64 [00:00<00:00, 1194.20it/s]\n",
      "100%|██████████| 64/64 [00:00<00:00, 1342.75it/s]\n",
      "100%|██████████| 64/64 [00:00<00:00, 6468.17it/s]\n"
     ]
    },
    {
     "name": "stdout",
     "output_type": "stream",
     "text": [
      "(1, 3329)\n",
      "(539, 3330)\n"
     ]
    },
    {
     "name": "stderr",
     "output_type": "stream",
     "text": [
      "100%|██████████| 64/64 [00:00<00:00, 30566.55it/s]\n",
      "100%|██████████| 64/64 [00:00<00:00, 90.17it/s]\n",
      "100%|██████████| 64/64 [00:00<00:00, 93.32it/s]\n",
      "100%|██████████| 64/64 [00:00<00:00, 95.65it/s]\n",
      "100%|██████████| 64/64 [00:00<00:00, 2185.00it/s]\n",
      "100%|██████████| 64/64 [00:00<00:00, 175.66it/s]\n",
      "100%|██████████| 64/64 [00:00<00:00, 145.52it/s]\n",
      "100%|██████████| 64/64 [00:08<00:00,  7.82it/s]\n",
      "100%|██████████| 64/64 [00:00<00:00, 3398.86it/s]\n",
      "100%|██████████| 64/64 [00:00<00:00, 1349.02it/s]\n",
      "100%|██████████| 64/64 [00:00<00:00, 1376.83it/s]\n",
      "100%|██████████| 64/64 [00:00<00:00, 5494.87it/s]\n"
     ]
    },
    {
     "name": "stdout",
     "output_type": "stream",
     "text": [
      "(1, 3329)\n",
      "(540, 3330)\n"
     ]
    },
    {
     "name": "stderr",
     "output_type": "stream",
     "text": [
      "100%|██████████| 64/64 [00:00<00:00, 240965.40it/s]\n",
      "100%|██████████| 64/64 [00:00<00:00, 93.40it/s]\n",
      "100%|██████████| 64/64 [00:00<00:00, 92.42it/s]\n",
      "100%|██████████| 64/64 [00:00<00:00, 99.40it/s] \n",
      "100%|██████████| 64/64 [00:00<00:00, 2391.88it/s]\n",
      "100%|██████████| 64/64 [00:00<00:00, 179.40it/s]\n",
      "100%|██████████| 64/64 [00:00<00:00, 148.66it/s]\n",
      "100%|██████████| 64/64 [00:08<00:00,  7.78it/s]\n",
      "100%|██████████| 64/64 [00:00<00:00, 3539.82it/s]\n",
      "100%|██████████| 64/64 [00:00<00:00, 1320.63it/s]\n",
      "100%|██████████| 64/64 [00:00<00:00, 1244.77it/s]\n",
      "100%|██████████| 64/64 [00:00<00:00, 7182.22it/s]\n"
     ]
    },
    {
     "name": "stdout",
     "output_type": "stream",
     "text": [
      "(1, 3329)\n",
      "(541, 3330)\n"
     ]
    },
    {
     "name": "stderr",
     "output_type": "stream",
     "text": [
      "100%|██████████| 64/64 [00:00<00:00, 78558.81it/s]\n",
      "100%|██████████| 64/64 [00:00<00:00, 87.50it/s]\n",
      "100%|██████████| 64/64 [00:00<00:00, 94.37it/s]\n",
      "100%|██████████| 64/64 [00:00<00:00, 95.11it/s]\n",
      "100%|██████████| 64/64 [00:00<00:00, 2146.88it/s]\n",
      "100%|██████████| 64/64 [00:00<00:00, 176.38it/s]\n",
      "100%|██████████| 64/64 [00:00<00:00, 148.55it/s]\n",
      "100%|██████████| 64/64 [00:08<00:00,  7.84it/s]\n",
      "100%|██████████| 64/64 [00:00<00:00, 3245.50it/s]\n",
      "100%|██████████| 64/64 [00:00<00:00, 1337.82it/s]\n",
      "100%|██████████| 64/64 [00:00<00:00, 1162.82it/s]\n",
      "100%|██████████| 64/64 [00:00<00:00, 7106.54it/s]\n"
     ]
    },
    {
     "name": "stdout",
     "output_type": "stream",
     "text": [
      "(1, 3329)\n",
      "(542, 3330)\n"
     ]
    },
    {
     "name": "stderr",
     "output_type": "stream",
     "text": [
      "100%|██████████| 64/64 [00:00<00:00, 159593.02it/s]\n",
      "100%|██████████| 64/64 [00:00<00:00, 90.17it/s]\n",
      "100%|██████████| 64/64 [00:00<00:00, 93.85it/s]\n",
      "100%|██████████| 64/64 [00:00<00:00, 99.73it/s]\n",
      "100%|██████████| 64/64 [00:00<00:00, 2215.23it/s]\n",
      "100%|██████████| 64/64 [00:00<00:00, 165.50it/s]\n",
      "100%|██████████| 64/64 [00:00<00:00, 149.66it/s]\n",
      "100%|██████████| 64/64 [00:08<00:00,  7.77it/s]\n",
      "100%|██████████| 64/64 [00:00<00:00, 3363.18it/s]\n",
      "100%|██████████| 64/64 [00:00<00:00, 1354.63it/s]\n",
      "100%|██████████| 64/64 [00:00<00:00, 1167.20it/s]\n",
      "100%|██████████| 64/64 [00:00<00:00, 7428.48it/s]\n"
     ]
    },
    {
     "name": "stdout",
     "output_type": "stream",
     "text": [
      "(1, 3329)\n",
      "(543, 3330)\n"
     ]
    },
    {
     "name": "stderr",
     "output_type": "stream",
     "text": [
      "100%|██████████| 64/64 [00:00<00:00, 192564.89it/s]\n",
      "100%|██████████| 64/64 [00:00<00:00, 91.24it/s]\n",
      "100%|██████████| 64/64 [00:00<00:00, 92.83it/s]\n",
      "100%|██████████| 64/64 [00:00<00:00, 96.22it/s]\n",
      "100%|██████████| 64/64 [00:00<00:00, 2022.22it/s]\n",
      "100%|██████████| 64/64 [00:00<00:00, 179.74it/s]\n",
      "100%|██████████| 64/64 [00:00<00:00, 141.43it/s]\n",
      "100%|██████████| 64/64 [00:08<00:00,  7.81it/s]\n",
      "100%|██████████| 64/64 [00:00<00:00, 2931.77it/s]\n",
      "100%|██████████| 64/64 [00:00<00:00, 1332.46it/s]\n",
      "100%|██████████| 64/64 [00:00<00:00, 1331.84it/s]\n",
      "100%|██████████| 64/64 [00:00<00:00, 6845.75it/s]\n"
     ]
    },
    {
     "name": "stdout",
     "output_type": "stream",
     "text": [
      "(1, 3329)\n",
      "(544, 3330)\n"
     ]
    },
    {
     "name": "stderr",
     "output_type": "stream",
     "text": [
      "100%|██████████| 64/64 [00:00<00:00, 19273.08it/s]\n",
      "100%|██████████| 64/64 [00:00<00:00, 91.14it/s]\n",
      "100%|██████████| 64/64 [00:00<00:00, 90.57it/s]\n",
      "100%|██████████| 64/64 [00:00<00:00, 100.15it/s]\n",
      "100%|██████████| 64/64 [00:00<00:00, 2254.24it/s]\n",
      "100%|██████████| 64/64 [00:00<00:00, 177.29it/s]\n",
      "100%|██████████| 64/64 [00:00<00:00, 151.07it/s]\n",
      "100%|██████████| 64/64 [00:08<00:00,  7.82it/s]\n",
      "100%|██████████| 64/64 [00:00<00:00, 3554.54it/s]\n",
      "100%|██████████| 64/64 [00:00<00:00, 1384.82it/s]\n",
      "100%|██████████| 64/64 [00:00<00:00, 1310.41it/s]\n",
      "100%|██████████| 64/64 [00:00<00:00, 6094.16it/s]\n"
     ]
    },
    {
     "name": "stdout",
     "output_type": "stream",
     "text": [
      "(1, 3329)\n",
      "(545, 3330)\n"
     ]
    },
    {
     "name": "stderr",
     "output_type": "stream",
     "text": [
      "100%|██████████| 64/64 [00:00<00:00, 18111.83it/s]\n",
      "100%|██████████| 64/64 [00:00<00:00, 89.92it/s]\n",
      "100%|██████████| 64/64 [00:00<00:00, 93.15it/s]\n",
      "100%|██████████| 64/64 [00:00<00:00, 98.02it/s]\n",
      "100%|██████████| 64/64 [00:00<00:00, 1930.08it/s]\n",
      "100%|██████████| 64/64 [00:00<00:00, 183.65it/s]\n",
      "100%|██████████| 64/64 [00:00<00:00, 147.86it/s]\n",
      "100%|██████████| 64/64 [00:08<00:00,  7.76it/s]\n",
      "100%|██████████| 64/64 [00:00<00:00, 2618.35it/s]\n",
      "100%|██████████| 64/64 [00:00<00:00, 1368.49it/s]\n",
      "100%|██████████| 64/64 [00:00<00:00, 1353.58it/s]\n",
      "100%|██████████| 64/64 [00:00<00:00, 6854.49it/s]\n"
     ]
    },
    {
     "name": "stdout",
     "output_type": "stream",
     "text": [
      "(1, 3329)\n",
      "(546, 3330)\n"
     ]
    },
    {
     "name": "stderr",
     "output_type": "stream",
     "text": [
      "100%|██████████| 64/64 [00:00<00:00, 29273.22it/s]\n",
      "100%|██████████| 64/64 [00:00<00:00, 91.39it/s]\n",
      "100%|██████████| 64/64 [00:00<00:00, 97.09it/s]\n",
      "100%|██████████| 64/64 [00:00<00:00, 96.46it/s]\n",
      "100%|██████████| 64/64 [00:00<00:00, 2102.19it/s]\n",
      "100%|██████████| 64/64 [00:00<00:00, 182.61it/s]\n",
      "100%|██████████| 64/64 [00:00<00:00, 145.36it/s]\n",
      "100%|██████████| 64/64 [00:08<00:00,  7.68it/s]\n",
      "100%|██████████| 64/64 [00:00<00:00, 3561.90it/s]\n",
      "100%|██████████| 64/64 [00:00<00:00, 1374.54it/s]\n",
      "100%|██████████| 64/64 [00:00<00:00, 1337.02it/s]\n",
      "100%|██████████| 64/64 [00:00<00:00, 6203.30it/s]\n"
     ]
    },
    {
     "name": "stdout",
     "output_type": "stream",
     "text": [
      "(1, 3329)\n",
      "(547, 3330)\n"
     ]
    },
    {
     "name": "stderr",
     "output_type": "stream",
     "text": [
      "100%|██████████| 64/64 [00:00<00:00, 79725.41it/s]\n",
      "100%|██████████| 64/64 [00:00<00:00, 90.84it/s]\n",
      "100%|██████████| 64/64 [00:00<00:00, 90.86it/s]\n",
      "100%|██████████| 64/64 [00:00<00:00, 92.24it/s]\n",
      "100%|██████████| 64/64 [00:00<00:00, 2307.02it/s]\n",
      "100%|██████████| 64/64 [00:00<00:00, 177.51it/s]\n",
      "100%|██████████| 64/64 [00:00<00:00, 150.07it/s]\n",
      "100%|██████████| 64/64 [00:08<00:00,  7.79it/s]\n",
      "100%|██████████| 64/64 [00:00<00:00, 3556.61it/s]\n",
      "100%|██████████| 64/64 [00:00<00:00, 1186.15it/s]\n",
      "100%|██████████| 64/64 [00:00<00:00, 1070.54it/s]\n",
      "100%|██████████| 64/64 [00:00<00:00, 7981.07it/s]\n"
     ]
    },
    {
     "name": "stdout",
     "output_type": "stream",
     "text": [
      "(1, 3329)\n",
      "(548, 3330)\n"
     ]
    },
    {
     "name": "stderr",
     "output_type": "stream",
     "text": [
      "100%|██████████| 64/64 [00:00<00:00, 117271.93it/s]\n",
      "100%|██████████| 64/64 [00:00<00:00, 92.33it/s]\n",
      "100%|██████████| 64/64 [00:00<00:00, 95.34it/s]\n",
      "100%|██████████| 64/64 [00:00<00:00, 99.22it/s] \n",
      "100%|██████████| 64/64 [00:00<00:00, 2155.17it/s]\n",
      "100%|██████████| 64/64 [00:00<00:00, 189.15it/s]\n",
      "100%|██████████| 64/64 [00:00<00:00, 145.60it/s]\n",
      "100%|██████████| 64/64 [00:08<00:00,  7.74it/s]\n",
      "100%|██████████| 64/64 [00:00<00:00, 3414.56it/s]\n",
      "100%|██████████| 64/64 [00:00<00:00, 1279.93it/s]\n",
      "100%|██████████| 64/64 [00:00<00:00, 1296.08it/s]\n",
      "100%|██████████| 64/64 [00:00<00:00, 6492.42it/s]\n"
     ]
    },
    {
     "name": "stdout",
     "output_type": "stream",
     "text": [
      "(1, 3329)\n",
      "(549, 3330)\n"
     ]
    },
    {
     "name": "stderr",
     "output_type": "stream",
     "text": [
      "100%|██████████| 64/64 [00:00<00:00, 93174.40it/s]\n",
      "100%|██████████| 64/64 [00:00<00:00, 89.45it/s]\n",
      "100%|██████████| 64/64 [00:00<00:00, 93.46it/s]\n",
      "100%|██████████| 64/64 [00:00<00:00, 98.18it/s]\n",
      "100%|██████████| 64/64 [00:00<00:00, 2220.77it/s]\n",
      "100%|██████████| 64/64 [00:00<00:00, 176.31it/s]\n",
      "100%|██████████| 64/64 [00:00<00:00, 145.91it/s]\n",
      "100%|██████████| 64/64 [00:08<00:00,  7.76it/s]\n",
      "100%|██████████| 64/64 [00:00<00:00, 3379.22it/s]\n",
      "100%|██████████| 64/64 [00:00<00:00, 1311.12it/s]\n",
      "100%|██████████| 64/64 [00:00<00:00, 1297.94it/s]\n",
      "100%|██████████| 64/64 [00:00<00:00, 7991.29it/s]\n"
     ]
    },
    {
     "name": "stdout",
     "output_type": "stream",
     "text": [
      "(1, 3329)\n",
      "(550, 3330)\n"
     ]
    },
    {
     "name": "stderr",
     "output_type": "stream",
     "text": [
      "100%|██████████| 64/64 [00:00<00:00, 145888.83it/s]\n",
      "100%|██████████| 64/64 [00:00<00:00, 92.11it/s]\n",
      "100%|██████████| 64/64 [00:00<00:00, 91.82it/s]\n",
      "100%|██████████| 64/64 [00:00<00:00, 99.01it/s]\n",
      "100%|██████████| 64/64 [00:00<00:00, 1761.38it/s]\n",
      "100%|██████████| 64/64 [00:00<00:00, 181.96it/s]\n",
      "100%|██████████| 64/64 [00:00<00:00, 148.74it/s]\n",
      "100%|██████████| 64/64 [00:08<00:00,  7.80it/s]\n",
      "100%|██████████| 64/64 [00:00<00:00, 3549.94it/s]\n",
      "100%|██████████| 64/64 [00:00<00:00, 1154.61it/s]\n",
      "100%|██████████| 64/64 [00:00<00:00, 1327.99it/s]\n",
      "100%|██████████| 64/64 [00:00<00:00, 6918.44it/s]\n"
     ]
    },
    {
     "name": "stdout",
     "output_type": "stream",
     "text": [
      "(1, 3329)\n",
      "(551, 3330)\n"
     ]
    },
    {
     "name": "stderr",
     "output_type": "stream",
     "text": [
      "100%|██████████| 64/64 [00:00<00:00, 211034.16it/s]\n",
      "100%|██████████| 64/64 [00:00<00:00, 92.59it/s]\n",
      "100%|██████████| 64/64 [00:00<00:00, 96.30it/s]\n",
      "100%|██████████| 64/64 [00:00<00:00, 98.77it/s]\n",
      "100%|██████████| 64/64 [00:00<00:00, 2206.44it/s]\n",
      "100%|██████████| 64/64 [00:00<00:00, 172.84it/s]\n",
      "100%|██████████| 64/64 [00:00<00:00, 144.73it/s]\n",
      "100%|██████████| 64/64 [00:08<00:00,  7.74it/s]\n",
      "100%|██████████| 64/64 [00:00<00:00, 2999.78it/s]\n",
      "100%|██████████| 64/64 [00:00<00:00, 1204.07it/s]\n",
      "100%|██████████| 64/64 [00:00<00:00, 1279.80it/s]\n",
      "100%|██████████| 64/64 [00:00<00:00, 7260.90it/s]\n"
     ]
    },
    {
     "name": "stdout",
     "output_type": "stream",
     "text": [
      "(1, 3329)\n",
      "(552, 3330)\n"
     ]
    },
    {
     "name": "stderr",
     "output_type": "stream",
     "text": [
      "100%|██████████| 64/64 [00:00<00:00, 142179.80it/s]\n",
      "100%|██████████| 64/64 [00:00<00:00, 89.65it/s]\n",
      "100%|██████████| 64/64 [00:00<00:00, 94.14it/s]\n",
      "100%|██████████| 64/64 [00:00<00:00, 98.78it/s]\n",
      "100%|██████████| 64/64 [00:00<00:00, 2147.98it/s]\n",
      "100%|██████████| 64/64 [00:00<00:00, 166.44it/s]\n",
      "100%|██████████| 64/64 [00:00<00:00, 143.07it/s]\n",
      "100%|██████████| 64/64 [00:08<00:00,  7.74it/s]\n",
      "100%|██████████| 64/64 [00:00<00:00, 3256.37it/s]\n",
      "100%|██████████| 64/64 [00:00<00:00, 1234.72it/s]\n",
      "100%|██████████| 64/64 [00:00<00:00, 1342.81it/s]\n",
      "100%|██████████| 64/64 [00:00<00:00, 8368.47it/s]\n"
     ]
    },
    {
     "name": "stdout",
     "output_type": "stream",
     "text": [
      "(1, 3329)\n",
      "(553, 3330)\n"
     ]
    },
    {
     "name": "stderr",
     "output_type": "stream",
     "text": [
      "100%|██████████| 64/64 [00:00<00:00, 90718.30it/s]\n",
      "100%|██████████| 64/64 [00:00<00:00, 91.34it/s]\n",
      "100%|██████████| 64/64 [00:00<00:00, 94.13it/s]\n",
      "100%|██████████| 64/64 [00:00<00:00, 94.34it/s]\n",
      "100%|██████████| 64/64 [00:00<00:00, 2027.37it/s]\n",
      "100%|██████████| 64/64 [00:00<00:00, 180.89it/s]\n",
      "100%|██████████| 64/64 [00:00<00:00, 144.92it/s]\n",
      "100%|██████████| 64/64 [00:08<00:00,  7.76it/s]\n",
      "100%|██████████| 64/64 [00:00<00:00, 2438.17it/s]\n",
      "100%|██████████| 64/64 [00:00<00:00, 1349.06it/s]\n",
      "100%|██████████| 64/64 [00:00<00:00, 1276.70it/s]\n",
      "100%|██████████| 64/64 [00:00<00:00, 7162.86it/s]\n"
     ]
    },
    {
     "name": "stdout",
     "output_type": "stream",
     "text": [
      "(1, 3329)\n",
      "(554, 3330)\n"
     ]
    },
    {
     "name": "stderr",
     "output_type": "stream",
     "text": [
      "100%|██████████| 64/64 [00:00<00:00, 181130.54it/s]\n",
      "100%|██████████| 64/64 [00:00<00:00, 91.57it/s]\n",
      "100%|██████████| 64/64 [00:00<00:00, 93.79it/s]\n",
      "100%|██████████| 64/64 [00:00<00:00, 98.67it/s]\n",
      "100%|██████████| 64/64 [00:00<00:00, 2300.61it/s]\n",
      "100%|██████████| 64/64 [00:00<00:00, 167.75it/s]\n",
      "100%|██████████| 64/64 [00:00<00:00, 140.67it/s]\n",
      "100%|██████████| 64/64 [00:08<00:00,  7.68it/s]\n",
      "100%|██████████| 64/64 [00:00<00:00, 3468.70it/s]\n",
      "100%|██████████| 64/64 [00:00<00:00, 1224.41it/s]\n",
      "100%|██████████| 64/64 [00:00<00:00, 1254.86it/s]\n",
      "100%|██████████| 64/64 [00:00<00:00, 6311.08it/s]\n"
     ]
    },
    {
     "name": "stdout",
     "output_type": "stream",
     "text": [
      "(1, 3329)\n",
      "(555, 3330)\n"
     ]
    },
    {
     "name": "stderr",
     "output_type": "stream",
     "text": [
      "100%|██████████| 64/64 [00:00<00:00, 187454.93it/s]\n",
      "100%|██████████| 64/64 [00:00<00:00, 89.20it/s]\n",
      "100%|██████████| 64/64 [00:00<00:00, 91.59it/s]\n",
      "100%|██████████| 64/64 [00:00<00:00, 97.01it/s]\n",
      "100%|██████████| 64/64 [00:00<00:00, 2301.80it/s]\n",
      "100%|██████████| 64/64 [00:00<00:00, 176.01it/s]\n",
      "100%|██████████| 64/64 [00:00<00:00, 144.83it/s]\n",
      "100%|██████████| 64/64 [00:08<00:00,  7.85it/s]\n",
      "100%|██████████| 64/64 [00:00<00:00, 3399.29it/s]\n",
      "100%|██████████| 64/64 [00:00<00:00, 1375.60it/s]\n",
      "100%|██████████| 64/64 [00:00<00:00, 1225.70it/s]\n",
      "100%|██████████| 64/64 [00:00<00:00, 7257.56it/s]\n"
     ]
    },
    {
     "name": "stdout",
     "output_type": "stream",
     "text": [
      "(1, 3329)\n",
      "(556, 3330)\n"
     ]
    },
    {
     "name": "stderr",
     "output_type": "stream",
     "text": [
      "100%|██████████| 64/64 [00:00<00:00, 165496.58it/s]\n",
      "100%|██████████| 64/64 [00:00<00:00, 88.63it/s]\n",
      "100%|██████████| 64/64 [00:00<00:00, 93.84it/s]\n",
      "100%|██████████| 64/64 [00:00<00:00, 97.05it/s]\n",
      "100%|██████████| 64/64 [00:00<00:00, 2172.49it/s]\n",
      "100%|██████████| 64/64 [00:00<00:00, 178.84it/s]\n",
      "100%|██████████| 64/64 [00:00<00:00, 139.35it/s]\n",
      "100%|██████████| 64/64 [00:08<00:00,  7.79it/s]\n",
      "100%|██████████| 64/64 [00:00<00:00, 3379.56it/s]\n",
      "100%|██████████| 64/64 [00:00<00:00, 1348.10it/s]\n",
      "100%|██████████| 64/64 [00:00<00:00, 1300.16it/s]\n",
      "100%|██████████| 64/64 [00:00<00:00, 6585.60it/s]\n"
     ]
    },
    {
     "name": "stdout",
     "output_type": "stream",
     "text": [
      "(1, 3329)\n",
      "(557, 3330)\n"
     ]
    },
    {
     "name": "stderr",
     "output_type": "stream",
     "text": [
      "100%|██████████| 64/64 [00:00<00:00, 205855.41it/s]\n",
      "100%|██████████| 64/64 [00:00<00:00, 92.93it/s]\n",
      "100%|██████████| 64/64 [00:00<00:00, 93.84it/s]\n",
      "100%|██████████| 64/64 [00:00<00:00, 99.08it/s]\n",
      "100%|██████████| 64/64 [00:00<00:00, 2103.91it/s]\n",
      "100%|██████████| 64/64 [00:00<00:00, 175.54it/s]\n",
      "100%|██████████| 64/64 [00:00<00:00, 141.33it/s]\n",
      "100%|██████████| 64/64 [00:08<00:00,  7.73it/s]\n",
      "100%|██████████| 64/64 [00:00<00:00, 3468.52it/s]\n",
      "100%|██████████| 64/64 [00:00<00:00, 1189.52it/s]\n",
      "100%|██████████| 64/64 [00:00<00:00, 1361.46it/s]\n",
      "100%|██████████| 64/64 [00:00<00:00, 6765.01it/s]\n"
     ]
    },
    {
     "name": "stdout",
     "output_type": "stream",
     "text": [
      "(1, 3329)\n",
      "(558, 3330)\n"
     ]
    },
    {
     "name": "stderr",
     "output_type": "stream",
     "text": [
      "100%|██████████| 64/64 [00:00<00:00, 22273.10it/s]\n",
      "100%|██████████| 64/64 [00:00<00:00, 92.99it/s]\n",
      "100%|██████████| 64/64 [00:00<00:00, 96.87it/s]\n",
      "100%|██████████| 64/64 [00:00<00:00, 100.44it/s]\n",
      "100%|██████████| 64/64 [00:00<00:00, 2065.71it/s]\n",
      "100%|██████████| 64/64 [00:00<00:00, 177.42it/s]\n",
      "100%|██████████| 64/64 [00:00<00:00, 148.53it/s]\n",
      "100%|██████████| 64/64 [00:08<00:00,  7.74it/s]\n",
      "100%|██████████| 64/64 [00:00<00:00, 3430.79it/s]\n",
      "100%|██████████| 64/64 [00:00<00:00, 1326.82it/s]\n",
      "100%|██████████| 64/64 [00:00<00:00, 1290.29it/s]\n",
      "100%|██████████| 64/64 [00:00<00:00, 6372.96it/s]\n"
     ]
    },
    {
     "name": "stdout",
     "output_type": "stream",
     "text": [
      "(1, 3329)\n",
      "(559, 3330)\n"
     ]
    },
    {
     "name": "stderr",
     "output_type": "stream",
     "text": [
      "100%|██████████| 64/64 [00:00<00:00, 84760.17it/s]\n",
      "100%|██████████| 64/64 [00:00<00:00, 92.68it/s]\n",
      "100%|██████████| 64/64 [00:00<00:00, 93.92it/s]\n",
      "100%|██████████| 64/64 [00:00<00:00, 98.54it/s]\n",
      "100%|██████████| 64/64 [00:00<00:00, 2194.53it/s]\n",
      "100%|██████████| 64/64 [00:00<00:00, 177.20it/s]\n",
      "100%|██████████| 64/64 [00:00<00:00, 135.13it/s]\n",
      "100%|██████████| 64/64 [00:08<00:00,  7.71it/s]\n",
      "100%|██████████| 64/64 [00:00<00:00, 3380.80it/s]\n",
      "100%|██████████| 64/64 [00:00<00:00, 1340.11it/s]\n",
      "100%|██████████| 64/64 [00:00<00:00, 1329.68it/s]\n",
      "100%|██████████| 64/64 [00:00<00:00, 7085.91it/s]\n"
     ]
    },
    {
     "name": "stdout",
     "output_type": "stream",
     "text": [
      "(1, 3329)\n",
      "(560, 3330)\n"
     ]
    },
    {
     "name": "stderr",
     "output_type": "stream",
     "text": [
      "100%|██████████| 64/64 [00:00<00:00, 82140.59it/s]\n",
      "100%|██████████| 64/64 [00:00<00:00, 94.80it/s]\n",
      "100%|██████████| 64/64 [00:00<00:00, 94.29it/s]\n",
      "100%|██████████| 64/64 [00:00<00:00, 94.09it/s]\n",
      "100%|██████████| 64/64 [00:00<00:00, 2233.39it/s]\n",
      "100%|██████████| 64/64 [00:00<00:00, 181.87it/s]\n",
      "100%|██████████| 64/64 [00:00<00:00, 142.20it/s]\n",
      "100%|██████████| 64/64 [00:08<00:00,  7.73it/s]\n",
      "100%|██████████| 64/64 [00:00<00:00, 3459.35it/s]\n",
      "100%|██████████| 64/64 [00:00<00:00, 1275.88it/s]\n",
      "100%|██████████| 64/64 [00:00<00:00, 1339.75it/s]\n",
      "100%|██████████| 64/64 [00:00<00:00, 7541.17it/s]\n"
     ]
    },
    {
     "name": "stdout",
     "output_type": "stream",
     "text": [
      "(1, 3329)\n",
      "(561, 3330)\n"
     ]
    },
    {
     "name": "stderr",
     "output_type": "stream",
     "text": [
      "100%|██████████| 64/64 [00:00<00:00, 24593.26it/s]\n",
      "100%|██████████| 64/64 [00:00<00:00, 92.32it/s]\n",
      "100%|██████████| 64/64 [00:00<00:00, 96.14it/s]\n",
      "100%|██████████| 64/64 [00:00<00:00, 97.13it/s]\n",
      "100%|██████████| 64/64 [00:00<00:00, 2023.07it/s]\n",
      "100%|██████████| 64/64 [00:00<00:00, 178.12it/s]\n",
      "100%|██████████| 64/64 [00:00<00:00, 148.27it/s]\n",
      "100%|██████████| 64/64 [00:08<00:00,  7.72it/s]\n",
      "100%|██████████| 64/64 [00:00<00:00, 3322.84it/s]\n",
      "100%|██████████| 64/64 [00:00<00:00, 1188.18it/s]\n",
      "100%|██████████| 64/64 [00:00<00:00, 1287.00it/s]\n",
      "100%|██████████| 64/64 [00:00<00:00, 6825.56it/s]\n"
     ]
    },
    {
     "name": "stdout",
     "output_type": "stream",
     "text": [
      "(1, 3329)\n",
      "(562, 3330)\n"
     ]
    },
    {
     "name": "stderr",
     "output_type": "stream",
     "text": [
      "100%|██████████| 64/64 [00:00<00:00, 73908.44it/s]\n",
      "100%|██████████| 64/64 [00:00<00:00, 94.50it/s]\n",
      "100%|██████████| 64/64 [00:00<00:00, 95.08it/s]\n",
      "100%|██████████| 64/64 [00:00<00:00, 93.91it/s]\n",
      "100%|██████████| 64/64 [00:00<00:00, 2187.45it/s]\n",
      "100%|██████████| 64/64 [00:00<00:00, 183.49it/s]\n",
      "100%|██████████| 64/64 [00:00<00:00, 142.43it/s]\n",
      "100%|██████████| 64/64 [00:08<00:00,  7.78it/s]\n",
      "100%|██████████| 64/64 [00:00<00:00, 2992.02it/s]\n",
      "100%|██████████| 64/64 [00:00<00:00, 1374.65it/s]\n",
      "100%|██████████| 64/64 [00:00<00:00, 1384.77it/s]\n",
      "100%|██████████| 64/64 [00:00<00:00, 8338.32it/s]\n"
     ]
    },
    {
     "name": "stdout",
     "output_type": "stream",
     "text": [
      "(1, 3329)\n",
      "(563, 3330)\n"
     ]
    },
    {
     "name": "stderr",
     "output_type": "stream",
     "text": [
      "100%|██████████| 64/64 [00:00<00:00, 195083.91it/s]\n",
      "100%|██████████| 64/64 [00:00<00:00, 91.31it/s]\n",
      "100%|██████████| 64/64 [00:00<00:00, 95.46it/s]\n",
      "100%|██████████| 64/64 [00:00<00:00, 94.74it/s]\n",
      "100%|██████████| 64/64 [00:00<00:00, 2067.16it/s]\n",
      "100%|██████████| 64/64 [00:00<00:00, 172.27it/s]\n",
      "100%|██████████| 64/64 [00:00<00:00, 148.16it/s]\n",
      "100%|██████████| 64/64 [00:08<00:00,  7.80it/s]\n",
      "100%|██████████| 64/64 [00:00<00:00, 3429.17it/s]\n",
      "100%|██████████| 64/64 [00:00<00:00, 1313.98it/s]\n",
      "100%|██████████| 64/64 [00:00<00:00, 1031.07it/s]\n",
      "100%|██████████| 64/64 [00:00<00:00, 7258.35it/s]\n"
     ]
    },
    {
     "name": "stdout",
     "output_type": "stream",
     "text": [
      "(1, 3329)\n",
      "(564, 3330)\n"
     ]
    },
    {
     "name": "stderr",
     "output_type": "stream",
     "text": [
      "100%|██████████| 64/64 [00:00<00:00, 91460.12it/s]\n",
      "100%|██████████| 64/64 [00:00<00:00, 88.69it/s]\n",
      "100%|██████████| 64/64 [00:00<00:00, 94.25it/s]\n",
      "100%|██████████| 64/64 [00:00<00:00, 97.55it/s]\n",
      "100%|██████████| 64/64 [00:00<00:00, 2267.96it/s]\n",
      "100%|██████████| 64/64 [00:00<00:00, 176.19it/s]\n",
      "100%|██████████| 64/64 [00:00<00:00, 146.08it/s]\n",
      "100%|██████████| 64/64 [00:08<00:00,  7.81it/s]\n",
      "100%|██████████| 64/64 [00:00<00:00, 3368.71it/s]\n",
      "100%|██████████| 64/64 [00:00<00:00, 1266.56it/s]\n",
      "100%|██████████| 64/64 [00:00<00:00, 1144.39it/s]\n",
      "100%|██████████| 64/64 [00:00<00:00, 6448.28it/s]\n"
     ]
    },
    {
     "name": "stdout",
     "output_type": "stream",
     "text": [
      "(1, 3329)\n",
      "(565, 3330)\n"
     ]
    },
    {
     "name": "stderr",
     "output_type": "stream",
     "text": [
      "100%|██████████| 64/64 [00:00<00:00, 132234.21it/s]\n",
      "100%|██████████| 64/64 [00:00<00:00, 93.90it/s]\n",
      "100%|██████████| 64/64 [00:00<00:00, 93.06it/s]\n",
      "100%|██████████| 64/64 [00:00<00:00, 95.32it/s]\n",
      "100%|██████████| 64/64 [00:00<00:00, 2178.86it/s]\n",
      "100%|██████████| 64/64 [00:00<00:00, 185.09it/s]\n",
      "100%|██████████| 64/64 [00:00<00:00, 148.18it/s]\n",
      "100%|██████████| 64/64 [00:08<00:00,  7.70it/s]\n",
      "100%|██████████| 64/64 [00:00<00:00, 3470.27it/s]\n",
      "100%|██████████| 64/64 [00:00<00:00, 1356.24it/s]\n",
      "100%|██████████| 64/64 [00:00<00:00, 1311.50it/s]\n",
      "100%|██████████| 64/64 [00:00<00:00, 6949.25it/s]\n"
     ]
    },
    {
     "name": "stdout",
     "output_type": "stream",
     "text": [
      "(1, 3329)\n",
      "(566, 3330)\n"
     ]
    },
    {
     "name": "stderr",
     "output_type": "stream",
     "text": [
      "100%|██████████| 64/64 [00:00<00:00, 75658.25it/s]\n",
      "100%|██████████| 64/64 [00:00<00:00, 90.70it/s]\n",
      "100%|██████████| 64/64 [00:00<00:00, 93.68it/s]\n",
      "100%|██████████| 64/64 [00:00<00:00, 98.99it/s]\n",
      "100%|██████████| 64/64 [00:00<00:00, 2335.66it/s]\n",
      "100%|██████████| 64/64 [00:00<00:00, 164.98it/s]\n",
      "100%|██████████| 64/64 [00:00<00:00, 150.73it/s]\n",
      "100%|██████████| 64/64 [00:08<00:00,  7.75it/s]\n",
      "100%|██████████| 64/64 [00:00<00:00, 3411.91it/s]\n",
      "100%|██████████| 64/64 [00:00<00:00, 1358.82it/s]\n",
      "100%|██████████| 64/64 [00:00<00:00, 1253.59it/s]\n",
      "100%|██████████| 64/64 [00:00<00:00, 5979.58it/s]\n"
     ]
    },
    {
     "name": "stdout",
     "output_type": "stream",
     "text": [
      "(1, 3329)\n",
      "(567, 3330)\n"
     ]
    },
    {
     "name": "stderr",
     "output_type": "stream",
     "text": [
      "100%|██████████| 64/64 [00:00<00:00, 78010.89it/s]\n",
      "100%|██████████| 64/64 [00:00<00:00, 92.46it/s]\n",
      "100%|██████████| 64/64 [00:00<00:00, 90.83it/s]\n",
      "100%|██████████| 64/64 [00:00<00:00, 97.64it/s]\n",
      "100%|██████████| 64/64 [00:00<00:00, 2151.79it/s]\n",
      "100%|██████████| 64/64 [00:00<00:00, 177.38it/s]\n",
      "100%|██████████| 64/64 [00:00<00:00, 150.16it/s]\n",
      "100%|██████████| 64/64 [00:08<00:00,  7.70it/s]\n",
      "100%|██████████| 64/64 [00:00<00:00, 3571.14it/s]\n",
      "100%|██████████| 64/64 [00:00<00:00, 1361.07it/s]\n",
      "100%|██████████| 64/64 [00:00<00:00, 1340.56it/s]\n",
      "100%|██████████| 64/64 [00:00<00:00, 6512.26it/s]\n"
     ]
    },
    {
     "name": "stdout",
     "output_type": "stream",
     "text": [
      "(1, 3329)\n",
      "(568, 3330)\n"
     ]
    },
    {
     "name": "stderr",
     "output_type": "stream",
     "text": [
      "100%|██████████| 64/64 [00:00<00:00, 88301.14it/s]\n",
      "100%|██████████| 64/64 [00:00<00:00, 87.42it/s]\n",
      "100%|██████████| 64/64 [00:00<00:00, 93.77it/s]\n",
      "100%|██████████| 64/64 [00:00<00:00, 96.48it/s]\n",
      "100%|██████████| 64/64 [00:00<00:00, 2236.53it/s]\n",
      "100%|██████████| 64/64 [00:00<00:00, 182.35it/s]\n",
      "100%|██████████| 64/64 [00:00<00:00, 143.28it/s]\n",
      "100%|██████████| 64/64 [00:08<00:00,  7.74it/s]\n",
      "100%|██████████| 64/64 [00:00<00:00, 3201.53it/s]\n",
      "100%|██████████| 64/64 [00:00<00:00, 1384.70it/s]\n",
      "100%|██████████| 64/64 [00:00<00:00, 1369.48it/s]\n",
      "100%|██████████| 64/64 [00:00<00:00, 7779.38it/s]\n"
     ]
    },
    {
     "name": "stdout",
     "output_type": "stream",
     "text": [
      "(1, 3329)\n",
      "(569, 3330)\n"
     ]
    },
    {
     "name": "stderr",
     "output_type": "stream",
     "text": [
      "100%|██████████| 64/64 [00:00<00:00, 99753.05it/s]\n",
      "100%|██████████| 64/64 [00:00<00:00, 88.15it/s]\n",
      "100%|██████████| 64/64 [00:00<00:00, 91.97it/s]\n",
      "100%|██████████| 64/64 [00:00<00:00, 97.41it/s]\n",
      "100%|██████████| 64/64 [00:00<00:00, 2079.86it/s]\n",
      "100%|██████████| 64/64 [00:00<00:00, 177.08it/s]\n",
      "100%|██████████| 64/64 [00:00<00:00, 145.78it/s]\n",
      "100%|██████████| 64/64 [00:08<00:00,  7.71it/s]\n",
      "100%|██████████| 64/64 [00:00<00:00, 3534.60it/s]\n",
      "100%|██████████| 64/64 [00:00<00:00, 1131.96it/s]\n",
      "100%|██████████| 64/64 [00:00<00:00, 1339.99it/s]\n",
      "100%|██████████| 64/64 [00:00<00:00, 6865.36it/s]\n"
     ]
    },
    {
     "name": "stdout",
     "output_type": "stream",
     "text": [
      "(1, 3329)\n",
      "(570, 3330)\n"
     ]
    },
    {
     "name": "stderr",
     "output_type": "stream",
     "text": [
      "100%|██████████| 64/64 [00:00<00:00, 35460.43it/s]\n",
      "100%|██████████| 64/64 [00:00<00:00, 89.65it/s]\n",
      "100%|██████████| 64/64 [00:00<00:00, 93.42it/s]\n",
      "100%|██████████| 64/64 [00:00<00:00, 96.91it/s]\n",
      "100%|██████████| 64/64 [00:00<00:00, 2284.85it/s]\n",
      "100%|██████████| 64/64 [00:00<00:00, 180.67it/s]\n",
      "100%|██████████| 64/64 [00:00<00:00, 146.90it/s]\n",
      "100%|██████████| 64/64 [00:08<00:00,  7.75it/s]\n",
      "100%|██████████| 64/64 [00:00<00:00, 3487.49it/s]\n",
      "100%|██████████| 64/64 [00:00<00:00, 1263.68it/s]\n",
      "100%|██████████| 64/64 [00:00<00:00, 1326.29it/s]\n",
      "100%|██████████| 64/64 [00:00<00:00, 6802.55it/s]\n"
     ]
    },
    {
     "name": "stdout",
     "output_type": "stream",
     "text": [
      "(1, 3329)\n",
      "(571, 3330)\n"
     ]
    },
    {
     "name": "stderr",
     "output_type": "stream",
     "text": [
      "100%|██████████| 64/64 [00:00<00:00, 90748.97it/s]\n",
      "100%|██████████| 64/64 [00:00<00:00, 90.33it/s]\n",
      "100%|██████████| 64/64 [00:00<00:00, 91.05it/s]\n",
      "100%|██████████| 64/64 [00:00<00:00, 100.02it/s]\n",
      "100%|██████████| 64/64 [00:00<00:00, 2048.64it/s]\n",
      "100%|██████████| 64/64 [00:00<00:00, 175.80it/s]\n",
      "100%|██████████| 64/64 [00:00<00:00, 148.07it/s]\n",
      "100%|██████████| 64/64 [00:08<00:00,  7.69it/s]\n",
      "100%|██████████| 64/64 [00:00<00:00, 2448.98it/s]\n",
      "100%|██████████| 64/64 [00:00<00:00, 1344.90it/s]\n",
      "100%|██████████| 64/64 [00:00<00:00, 1294.43it/s]\n",
      "100%|██████████| 64/64 [00:00<00:00, 7711.67it/s]\n"
     ]
    },
    {
     "name": "stdout",
     "output_type": "stream",
     "text": [
      "(1, 3329)\n",
      "(572, 3330)\n"
     ]
    },
    {
     "name": "stderr",
     "output_type": "stream",
     "text": [
      "100%|██████████| 64/64 [00:00<00:00, 84096.32it/s]\n",
      "100%|██████████| 64/64 [00:00<00:00, 91.21it/s]\n",
      "100%|██████████| 64/64 [00:00<00:00, 92.04it/s]\n",
      "100%|██████████| 64/64 [00:00<00:00, 93.40it/s]\n",
      "100%|██████████| 64/64 [00:00<00:00, 2223.47it/s]\n",
      "100%|██████████| 64/64 [00:00<00:00, 187.01it/s]\n",
      "100%|██████████| 64/64 [00:00<00:00, 144.90it/s]\n",
      "100%|██████████| 64/64 [00:08<00:00,  7.66it/s]\n",
      "100%|██████████| 64/64 [00:00<00:00, 3352.72it/s]\n",
      "100%|██████████| 64/64 [00:00<00:00, 1327.63it/s]\n",
      "100%|██████████| 64/64 [00:00<00:00, 1317.38it/s]\n",
      "100%|██████████| 64/64 [00:00<00:00, 7248.55it/s]\n"
     ]
    },
    {
     "name": "stdout",
     "output_type": "stream",
     "text": [
      "(1, 3329)\n",
      "(573, 3330)\n"
     ]
    },
    {
     "name": "stderr",
     "output_type": "stream",
     "text": [
      "100%|██████████| 64/64 [00:00<00:00, 18738.95it/s]\n",
      "100%|██████████| 64/64 [00:00<00:00, 91.41it/s]\n",
      "100%|██████████| 64/64 [00:00<00:00, 92.57it/s]\n",
      "100%|██████████| 64/64 [00:00<00:00, 96.10it/s]\n",
      "100%|██████████| 64/64 [00:00<00:00, 2060.29it/s]\n",
      "100%|██████████| 64/64 [00:00<00:00, 175.70it/s]\n",
      "100%|██████████| 64/64 [00:00<00:00, 144.73it/s]\n",
      "100%|██████████| 64/64 [00:08<00:00,  7.78it/s]\n",
      "100%|██████████| 64/64 [00:00<00:00, 3520.14it/s]\n",
      "100%|██████████| 64/64 [00:00<00:00, 1146.50it/s]\n",
      "100%|██████████| 64/64 [00:00<00:00, 1339.27it/s]\n",
      "100%|██████████| 64/64 [00:00<00:00, 7235.26it/s]\n"
     ]
    },
    {
     "name": "stdout",
     "output_type": "stream",
     "text": [
      "(1, 3329)\n",
      "(574, 3330)\n"
     ]
    },
    {
     "name": "stderr",
     "output_type": "stream",
     "text": [
      "100%|██████████| 64/64 [00:00<00:00, 92595.88it/s]\n",
      "100%|██████████| 64/64 [00:00<00:00, 92.49it/s]\n",
      "100%|██████████| 64/64 [00:00<00:00, 93.37it/s]\n",
      "100%|██████████| 64/64 [00:00<00:00, 98.27it/s]\n",
      "100%|██████████| 64/64 [00:00<00:00, 2125.51it/s]\n",
      "100%|██████████| 64/64 [00:00<00:00, 178.61it/s]\n",
      "100%|██████████| 64/64 [00:00<00:00, 148.70it/s]\n",
      "100%|██████████| 64/64 [00:08<00:00,  7.73it/s]\n",
      "100%|██████████| 64/64 [00:00<00:00, 3005.05it/s]\n",
      "100%|██████████| 64/64 [00:00<00:00, 1331.19it/s]\n",
      "100%|██████████| 64/64 [00:00<00:00, 1305.54it/s]\n",
      "100%|██████████| 64/64 [00:00<00:00, 6305.15it/s]\n"
     ]
    },
    {
     "name": "stdout",
     "output_type": "stream",
     "text": [
      "(1, 3329)\n",
      "(575, 3330)\n"
     ]
    },
    {
     "name": "stderr",
     "output_type": "stream",
     "text": [
      "100%|██████████| 64/64 [00:00<00:00, 213382.72it/s]\n",
      "100%|██████████| 64/64 [00:00<00:00, 89.85it/s]\n",
      "100%|██████████| 64/64 [00:00<00:00, 91.27it/s]\n",
      "100%|██████████| 64/64 [00:00<00:00, 98.40it/s]\n",
      "100%|██████████| 64/64 [00:00<00:00, 2146.02it/s]\n",
      "100%|██████████| 64/64 [00:00<00:00, 177.24it/s]\n",
      "100%|██████████| 64/64 [00:00<00:00, 146.22it/s]\n",
      "100%|██████████| 64/64 [00:08<00:00,  7.75it/s]\n",
      "100%|██████████| 64/64 [00:00<00:00, 3421.96it/s]\n",
      "100%|██████████| 64/64 [00:00<00:00, 1365.05it/s]\n",
      "100%|██████████| 64/64 [00:00<00:00, 1329.63it/s]\n",
      "100%|██████████| 64/64 [00:00<00:00, 7887.04it/s]\n"
     ]
    },
    {
     "name": "stdout",
     "output_type": "stream",
     "text": [
      "(1, 3329)\n",
      "(576, 3330)\n"
     ]
    },
    {
     "name": "stderr",
     "output_type": "stream",
     "text": [
      "100%|██████████| 64/64 [00:00<00:00, 94652.84it/s]\n",
      "100%|██████████| 64/64 [00:00<00:00, 90.44it/s]\n",
      "100%|██████████| 64/64 [00:00<00:00, 91.14it/s]\n",
      "100%|██████████| 64/64 [00:00<00:00, 98.75it/s]\n",
      "100%|██████████| 64/64 [00:00<00:00, 2155.71it/s]\n",
      "100%|██████████| 64/64 [00:00<00:00, 181.16it/s]\n",
      "100%|██████████| 64/64 [00:00<00:00, 148.74it/s]\n",
      "100%|██████████| 64/64 [00:08<00:00,  7.75it/s]\n",
      "100%|██████████| 64/64 [00:00<00:00, 3307.24it/s]\n",
      "100%|██████████| 64/64 [00:00<00:00, 1352.54it/s]\n",
      "100%|██████████| 64/64 [00:00<00:00, 1336.50it/s]\n",
      "100%|██████████| 64/64 [00:00<00:00, 7714.11it/s]\n"
     ]
    },
    {
     "name": "stdout",
     "output_type": "stream",
     "text": [
      "(1, 3329)\n",
      "(577, 3330)\n"
     ]
    },
    {
     "name": "stderr",
     "output_type": "stream",
     "text": [
      "100%|██████████| 64/64 [00:00<00:00, 63700.87it/s]\n",
      "100%|██████████| 64/64 [00:00<00:00, 90.75it/s]\n",
      "100%|██████████| 64/64 [00:00<00:00, 93.66it/s]\n",
      "100%|██████████| 64/64 [00:00<00:00, 96.92it/s]\n",
      "100%|██████████| 64/64 [00:00<00:00, 2370.71it/s]\n",
      "100%|██████████| 64/64 [00:00<00:00, 177.33it/s]\n",
      "100%|██████████| 64/64 [00:00<00:00, 148.83it/s]\n",
      "100%|██████████| 64/64 [00:08<00:00,  7.80it/s]\n",
      "100%|██████████| 64/64 [00:00<00:00, 3490.30it/s]\n",
      "100%|██████████| 64/64 [00:00<00:00, 1350.80it/s]\n",
      "100%|██████████| 64/64 [00:00<00:00, 1354.03it/s]\n",
      "100%|██████████| 64/64 [00:00<00:00, 5747.47it/s]\n"
     ]
    },
    {
     "name": "stdout",
     "output_type": "stream",
     "text": [
      "(1, 3329)\n",
      "(578, 3330)\n"
     ]
    },
    {
     "name": "stderr",
     "output_type": "stream",
     "text": [
      "100%|██████████| 64/64 [00:00<00:00, 97755.08it/s]\n",
      "100%|██████████| 64/64 [00:00<00:00, 87.67it/s]\n",
      "100%|██████████| 64/64 [00:00<00:00, 90.27it/s]\n",
      "100%|██████████| 64/64 [00:00<00:00, 95.34it/s]\n",
      "100%|██████████| 64/64 [00:00<00:00, 2204.61it/s]\n",
      "100%|██████████| 64/64 [00:00<00:00, 141.22it/s]\n",
      "100%|██████████| 64/64 [00:00<00:00, 146.05it/s]\n",
      "100%|██████████| 64/64 [00:08<00:00,  7.86it/s]\n",
      "100%|██████████| 64/64 [00:00<00:00, 3304.72it/s]\n",
      "100%|██████████| 64/64 [00:00<00:00, 1363.42it/s]\n",
      "100%|██████████| 64/64 [00:00<00:00, 1357.98it/s]\n",
      "100%|██████████| 64/64 [00:00<00:00, 7417.60it/s]\n"
     ]
    },
    {
     "name": "stdout",
     "output_type": "stream",
     "text": [
      "(1, 3329)\n",
      "(579, 3330)\n"
     ]
    },
    {
     "name": "stderr",
     "output_type": "stream",
     "text": [
      "100%|██████████| 64/64 [00:00<00:00, 205855.41it/s]\n",
      "100%|██████████| 64/64 [00:00<00:00, 87.44it/s]\n",
      "100%|██████████| 64/64 [00:00<00:00, 95.31it/s]\n",
      "100%|██████████| 64/64 [00:00<00:00, 99.02it/s]\n",
      "100%|██████████| 64/64 [00:00<00:00, 2360.45it/s]\n",
      "100%|██████████| 64/64 [00:00<00:00, 180.87it/s]\n",
      "100%|██████████| 64/64 [00:00<00:00, 148.11it/s]\n",
      "100%|██████████| 64/64 [00:08<00:00,  7.75it/s]\n",
      "100%|██████████| 64/64 [00:00<00:00, 3454.19it/s]\n",
      "100%|██████████| 64/64 [00:00<00:00, 1369.63it/s]\n",
      "100%|██████████| 64/64 [00:00<00:00, 1017.95it/s]\n",
      "100%|██████████| 64/64 [00:00<00:00, 6769.44it/s]\n"
     ]
    },
    {
     "name": "stdout",
     "output_type": "stream",
     "text": [
      "(1, 3329)\n",
      "(580, 3330)\n"
     ]
    },
    {
     "name": "stderr",
     "output_type": "stream",
     "text": [
      "100%|██████████| 64/64 [00:00<00:00, 14316.56it/s]\n",
      "100%|██████████| 64/64 [00:00<00:00, 91.74it/s]\n",
      "100%|██████████| 64/64 [00:00<00:00, 95.10it/s]\n",
      "100%|██████████| 64/64 [00:00<00:00, 93.91it/s]\n",
      "100%|██████████| 64/64 [00:00<00:00, 2211.80it/s]\n",
      "100%|██████████| 64/64 [00:00<00:00, 183.39it/s]\n",
      "100%|██████████| 64/64 [00:00<00:00, 146.87it/s]\n",
      "100%|██████████| 64/64 [00:08<00:00,  7.66it/s]\n",
      "100%|██████████| 64/64 [00:00<00:00, 3389.51it/s]\n",
      "100%|██████████| 64/64 [00:00<00:00, 1338.24it/s]\n",
      "100%|██████████| 64/64 [00:00<00:00, 1280.62it/s]\n",
      "100%|██████████| 64/64 [00:00<00:00, 6723.49it/s]\n"
     ]
    },
    {
     "name": "stdout",
     "output_type": "stream",
     "text": [
      "(1, 3329)\n",
      "(581, 3330)\n"
     ]
    },
    {
     "name": "stderr",
     "output_type": "stream",
     "text": [
      "100%|██████████| 64/64 [00:00<00:00, 24398.79it/s]\n",
      "100%|██████████| 64/64 [00:00<00:00, 89.96it/s]\n",
      "100%|██████████| 64/64 [00:00<00:00, 91.52it/s]\n",
      "100%|██████████| 64/64 [00:00<00:00, 97.09it/s]\n",
      "100%|██████████| 64/64 [00:00<00:00, 2272.55it/s]\n",
      "100%|██████████| 64/64 [00:00<00:00, 178.75it/s]\n",
      "100%|██████████| 64/64 [00:00<00:00, 144.14it/s]\n",
      "100%|██████████| 64/64 [00:08<00:00,  7.62it/s]\n",
      "100%|██████████| 64/64 [00:00<00:00, 3191.44it/s]\n",
      "100%|██████████| 64/64 [00:00<00:00, 1350.24it/s]\n",
      "100%|██████████| 64/64 [00:00<00:00, 1074.78it/s]\n",
      "100%|██████████| 64/64 [00:00<00:00, 7859.33it/s]\n"
     ]
    },
    {
     "name": "stdout",
     "output_type": "stream",
     "text": [
      "(1, 3329)\n",
      "(582, 3330)\n"
     ]
    },
    {
     "name": "stderr",
     "output_type": "stream",
     "text": [
      "100%|██████████| 64/64 [00:00<00:00, 70271.06it/s]\n",
      "100%|██████████| 64/64 [00:00<00:00, 91.05it/s]\n",
      "100%|██████████| 64/64 [00:00<00:00, 93.62it/s]\n",
      "100%|██████████| 64/64 [00:00<00:00, 95.07it/s]\n",
      "100%|██████████| 64/64 [00:00<00:00, 2256.80it/s]\n",
      "100%|██████████| 64/64 [00:00<00:00, 166.07it/s]\n",
      "100%|██████████| 64/64 [00:00<00:00, 143.39it/s]\n",
      "100%|██████████| 64/64 [00:08<00:00,  7.73it/s]\n",
      "100%|██████████| 64/64 [00:00<00:00, 3398.05it/s]\n",
      "100%|██████████| 64/64 [00:00<00:00, 1371.89it/s]\n",
      "100%|██████████| 64/64 [00:00<00:00, 1369.65it/s]\n",
      "100%|██████████| 64/64 [00:00<00:00, 7414.73it/s]\n"
     ]
    },
    {
     "name": "stdout",
     "output_type": "stream",
     "text": [
      "(1, 3329)\n",
      "(583, 3330)\n"
     ]
    },
    {
     "name": "stderr",
     "output_type": "stream",
     "text": [
      "100%|██████████| 64/64 [00:00<00:00, 19525.42it/s]\n",
      "100%|██████████| 64/64 [00:00<00:00, 88.87it/s]\n",
      "100%|██████████| 64/64 [00:00<00:00, 92.82it/s]\n",
      "100%|██████████| 64/64 [00:00<00:00, 97.68it/s]\n",
      "100%|██████████| 64/64 [00:00<00:00, 2225.21it/s]\n",
      "100%|██████████| 64/64 [00:00<00:00, 174.47it/s]\n",
      "100%|██████████| 64/64 [00:00<00:00, 143.38it/s]\n",
      "100%|██████████| 64/64 [00:08<00:00,  7.77it/s]\n",
      "100%|██████████| 64/64 [00:00<00:00, 3371.88it/s]\n",
      "100%|██████████| 64/64 [00:00<00:00, 1348.39it/s]\n",
      "100%|██████████| 64/64 [00:00<00:00, 1331.84it/s]\n",
      "100%|██████████| 64/64 [00:00<00:00, 6379.02it/s]\n"
     ]
    },
    {
     "name": "stdout",
     "output_type": "stream",
     "text": [
      "(1, 3329)\n",
      "(584, 3330)\n"
     ]
    },
    {
     "name": "stderr",
     "output_type": "stream",
     "text": [
      "100%|██████████| 64/64 [00:00<00:00, 190244.83it/s]\n",
      "100%|██████████| 64/64 [00:00<00:00, 91.90it/s]\n",
      "100%|██████████| 64/64 [00:00<00:00, 92.37it/s]\n",
      "100%|██████████| 64/64 [00:00<00:00, 97.77it/s]\n",
      "100%|██████████| 64/64 [00:00<00:00, 2212.62it/s]\n",
      "100%|██████████| 64/64 [00:00<00:00, 180.07it/s]\n",
      "100%|██████████| 64/64 [00:00<00:00, 144.73it/s]\n",
      "100%|██████████| 64/64 [00:08<00:00,  7.72it/s]\n",
      "100%|██████████| 64/64 [00:00<00:00, 3505.80it/s]\n",
      "100%|██████████| 64/64 [00:00<00:00, 1333.81it/s]\n",
      "100%|██████████| 64/64 [00:00<00:00, 1214.24it/s]\n",
      "100%|██████████| 64/64 [00:00<00:00, 6831.98it/s]\n"
     ]
    },
    {
     "name": "stdout",
     "output_type": "stream",
     "text": [
      "(1, 3329)\n",
      "(585, 3330)\n"
     ]
    },
    {
     "name": "stderr",
     "output_type": "stream",
     "text": [
      "100%|██████████| 64/64 [00:00<00:00, 23520.15it/s]\n",
      "100%|██████████| 64/64 [00:00<00:00, 92.08it/s]\n",
      "100%|██████████| 64/64 [00:00<00:00, 94.35it/s]\n",
      "100%|██████████| 64/64 [00:00<00:00, 97.83it/s]\n",
      "100%|██████████| 64/64 [00:00<00:00, 2371.55it/s]\n",
      "100%|██████████| 64/64 [00:00<00:00, 177.47it/s]\n",
      "100%|██████████| 64/64 [00:00<00:00, 142.44it/s]\n",
      "100%|██████████| 64/64 [00:08<00:00,  7.77it/s]\n",
      "100%|██████████| 64/64 [00:00<00:00, 2931.03it/s]\n",
      "100%|██████████| 64/64 [00:00<00:00, 1263.70it/s]\n",
      "100%|██████████| 64/64 [00:00<00:00, 1334.41it/s]\n",
      "100%|██████████| 64/64 [00:00<00:00, 7799.73it/s]\n"
     ]
    },
    {
     "name": "stdout",
     "output_type": "stream",
     "text": [
      "(1, 3329)\n",
      "(586, 3330)\n"
     ]
    },
    {
     "name": "stderr",
     "output_type": "stream",
     "text": [
      "100%|██████████| 64/64 [00:00<00:00, 203360.19it/s]\n",
      "100%|██████████| 64/64 [00:00<00:00, 92.46it/s]\n",
      "100%|██████████| 64/64 [00:00<00:00, 93.19it/s]\n",
      "100%|██████████| 64/64 [00:00<00:00, 95.92it/s]\n",
      "100%|██████████| 64/64 [00:00<00:00, 2255.23it/s]\n",
      "100%|██████████| 64/64 [00:00<00:00, 173.31it/s]\n",
      "100%|██████████| 64/64 [00:00<00:00, 141.98it/s]\n",
      "100%|██████████| 64/64 [00:08<00:00,  7.79it/s]\n",
      "100%|██████████| 64/64 [00:00<00:00, 3310.05it/s]\n",
      "100%|██████████| 64/64 [00:00<00:00, 1358.07it/s]\n",
      "100%|██████████| 64/64 [00:00<00:00, 1137.60it/s]\n",
      "100%|██████████| 64/64 [00:00<00:00, 6455.26it/s]\n"
     ]
    },
    {
     "name": "stdout",
     "output_type": "stream",
     "text": [
      "(1, 3329)\n",
      "(587, 3330)\n"
     ]
    },
    {
     "name": "stderr",
     "output_type": "stream",
     "text": [
      "100%|██████████| 64/64 [00:00<00:00, 77114.47it/s]\n",
      "100%|██████████| 64/64 [00:00<00:00, 90.88it/s]\n",
      "100%|██████████| 64/64 [00:00<00:00, 91.54it/s]\n",
      "100%|██████████| 64/64 [00:00<00:00, 97.91it/s]\n",
      "100%|██████████| 64/64 [00:00<00:00, 2366.28it/s]\n",
      "100%|██████████| 64/64 [00:00<00:00, 177.80it/s]\n",
      "100%|██████████| 64/64 [00:00<00:00, 141.20it/s]\n",
      "100%|██████████| 64/64 [00:08<00:00,  7.67it/s]\n",
      "100%|██████████| 64/64 [00:00<00:00, 3491.12it/s]\n",
      "100%|██████████| 64/64 [00:00<00:00, 1373.77it/s]\n",
      "100%|██████████| 64/64 [00:00<00:00, 1062.55it/s]\n",
      "100%|██████████| 64/64 [00:00<00:00, 6431.90it/s]\n"
     ]
    },
    {
     "name": "stdout",
     "output_type": "stream",
     "text": [
      "(1, 3329)\n",
      "(588, 3330)\n"
     ]
    },
    {
     "name": "stderr",
     "output_type": "stream",
     "text": [
      "100%|██████████| 64/64 [00:00<00:00, 85762.13it/s]\n",
      "100%|██████████| 64/64 [00:00<00:00, 91.59it/s]\n",
      "100%|██████████| 64/64 [00:00<00:00, 94.17it/s]\n",
      "100%|██████████| 64/64 [00:00<00:00, 101.84it/s]\n",
      "100%|██████████| 64/64 [00:00<00:00, 2204.01it/s]\n",
      "100%|██████████| 64/64 [00:00<00:00, 175.93it/s]\n",
      "100%|██████████| 64/64 [00:00<00:00, 141.25it/s]\n",
      "100%|██████████| 64/64 [00:08<00:00,  7.64it/s]\n",
      "100%|██████████| 64/64 [00:00<00:00, 2971.92it/s]\n",
      "100%|██████████| 64/64 [00:00<00:00, 1300.65it/s]\n",
      "100%|██████████| 64/64 [00:00<00:00, 1314.06it/s]\n",
      "100%|██████████| 64/64 [00:00<00:00, 8403.58it/s]\n"
     ]
    },
    {
     "name": "stdout",
     "output_type": "stream",
     "text": [
      "(1, 3329)\n",
      "(589, 3330)\n"
     ]
    },
    {
     "name": "stderr",
     "output_type": "stream",
     "text": [
      "100%|██████████| 64/64 [00:00<00:00, 212537.97it/s]\n",
      "100%|██████████| 64/64 [00:00<00:00, 91.89it/s]\n",
      "100%|██████████| 64/64 [00:00<00:00, 89.42it/s]\n",
      "100%|██████████| 64/64 [00:00<00:00, 95.08it/s]\n",
      "100%|██████████| 64/64 [00:00<00:00, 2298.23it/s]\n",
      "100%|██████████| 64/64 [00:00<00:00, 175.35it/s]\n",
      "100%|██████████| 64/64 [00:00<00:00, 142.39it/s]\n",
      "100%|██████████| 64/64 [00:08<00:00,  7.73it/s]\n",
      "100%|██████████| 64/64 [00:00<00:00, 3227.82it/s]\n",
      "100%|██████████| 64/64 [00:00<00:00, 1386.26it/s]\n",
      "100%|██████████| 64/64 [00:00<00:00, 1240.63it/s]\n",
      "100%|██████████| 64/64 [00:00<00:00, 8179.27it/s]\n"
     ]
    },
    {
     "name": "stdout",
     "output_type": "stream",
     "text": [
      "(1, 3329)\n",
      "(590, 3330)\n"
     ]
    },
    {
     "name": "stderr",
     "output_type": "stream",
     "text": [
      "100%|██████████| 64/64 [00:00<00:00, 89122.00it/s]\n",
      "100%|██████████| 64/64 [00:00<00:00, 86.27it/s]\n",
      "100%|██████████| 64/64 [00:00<00:00, 92.08it/s]\n",
      "100%|██████████| 64/64 [00:00<00:00, 96.94it/s]\n",
      "100%|██████████| 64/64 [00:00<00:00, 2275.28it/s]\n",
      "100%|██████████| 64/64 [00:00<00:00, 181.91it/s]\n",
      "100%|██████████| 64/64 [00:00<00:00, 149.01it/s]\n",
      "100%|██████████| 64/64 [00:08<00:00,  7.78it/s]\n",
      "100%|██████████| 64/64 [00:00<00:00, 3390.96it/s]\n",
      "100%|██████████| 64/64 [00:00<00:00, 1240.64it/s]\n",
      "100%|██████████| 64/64 [00:00<00:00, 1205.69it/s]\n",
      "100%|██████████| 64/64 [00:00<00:00, 7191.26it/s]\n"
     ]
    },
    {
     "name": "stdout",
     "output_type": "stream",
     "text": [
      "(1, 3329)\n",
      "(591, 3330)\n"
     ]
    },
    {
     "name": "stderr",
     "output_type": "stream",
     "text": [
      "100%|██████████| 64/64 [00:00<00:00, 83520.68it/s]\n",
      "100%|██████████| 64/64 [00:00<00:00, 92.60it/s]\n",
      "100%|██████████| 64/64 [00:00<00:00, 92.34it/s]\n",
      "100%|██████████| 64/64 [00:00<00:00, 95.23it/s]\n",
      "100%|██████████| 64/64 [00:00<00:00, 1976.84it/s]\n",
      "100%|██████████| 64/64 [00:00<00:00, 182.70it/s]\n",
      "100%|██████████| 64/64 [00:00<00:00, 142.93it/s]\n",
      "100%|██████████| 64/64 [00:08<00:00,  7.79it/s]\n",
      "100%|██████████| 64/64 [00:00<00:00, 3666.75it/s]\n",
      "100%|██████████| 64/64 [00:00<00:00, 1377.59it/s]\n",
      "100%|██████████| 64/64 [00:00<00:00, 1318.08it/s]\n",
      "100%|██████████| 64/64 [00:00<00:00, 7673.97it/s]\n"
     ]
    },
    {
     "name": "stdout",
     "output_type": "stream",
     "text": [
      "(1, 3329)\n",
      "(592, 3330)\n"
     ]
    },
    {
     "name": "stderr",
     "output_type": "stream",
     "text": [
      "100%|██████████| 64/64 [00:00<00:00, 23190.97it/s]\n",
      "100%|██████████| 64/64 [00:00<00:00, 90.08it/s]\n",
      "100%|██████████| 64/64 [00:00<00:00, 94.59it/s]\n",
      "100%|██████████| 64/64 [00:00<00:00, 97.51it/s]\n",
      "100%|██████████| 64/64 [00:00<00:00, 2183.13it/s]\n",
      "100%|██████████| 64/64 [00:00<00:00, 174.15it/s]\n",
      "100%|██████████| 64/64 [00:00<00:00, 146.24it/s]\n",
      "100%|██████████| 64/64 [00:08<00:00,  7.79it/s]\n",
      "100%|██████████| 64/64 [00:00<00:00, 3499.22it/s]\n",
      "100%|██████████| 64/64 [00:00<00:00, 1285.13it/s]\n",
      "100%|██████████| 64/64 [00:00<00:00, 1319.42it/s]\n",
      "100%|██████████| 64/64 [00:00<00:00, 10453.50it/s]\n"
     ]
    },
    {
     "name": "stdout",
     "output_type": "stream",
     "text": [
      "(1, 3329)\n",
      "(593, 3330)\n"
     ]
    },
    {
     "name": "stderr",
     "output_type": "stream",
     "text": [
      "100%|██████████| 64/64 [00:00<00:00, 84069.98it/s]\n",
      "100%|██████████| 64/64 [00:00<00:00, 88.64it/s]\n",
      "100%|██████████| 64/64 [00:00<00:00, 93.65it/s]\n",
      "100%|██████████| 64/64 [00:00<00:00, 98.10it/s]\n",
      "100%|██████████| 64/64 [00:00<00:00, 2329.28it/s]\n",
      "100%|██████████| 64/64 [00:00<00:00, 174.73it/s]\n",
      "100%|██████████| 64/64 [00:00<00:00, 147.59it/s]\n",
      "100%|██████████| 64/64 [00:08<00:00,  7.78it/s]\n",
      "100%|██████████| 64/64 [00:00<00:00, 2679.02it/s]\n",
      "100%|██████████| 64/64 [00:00<00:00, 1370.18it/s]\n",
      "100%|██████████| 64/64 [00:00<00:00, 1326.34it/s]\n",
      "100%|██████████| 64/64 [00:00<00:00, 6406.57it/s]\n"
     ]
    },
    {
     "name": "stdout",
     "output_type": "stream",
     "text": [
      "(1, 3329)\n",
      "(594, 3330)\n"
     ]
    },
    {
     "name": "stderr",
     "output_type": "stream",
     "text": [
      "100%|██████████| 64/64 [00:00<00:00, 189841.20it/s]\n",
      "100%|██████████| 64/64 [00:00<00:00, 94.01it/s]\n",
      "100%|██████████| 64/64 [00:00<00:00, 94.01it/s]\n",
      "100%|██████████| 64/64 [00:00<00:00, 98.71it/s]\n",
      "100%|██████████| 64/64 [00:00<00:00, 2169.79it/s]\n",
      "100%|██████████| 64/64 [00:00<00:00, 176.15it/s]\n",
      "100%|██████████| 64/64 [00:00<00:00, 144.64it/s]\n",
      "100%|██████████| 64/64 [00:08<00:00,  7.66it/s]\n",
      "100%|██████████| 64/64 [00:00<00:00, 3296.76it/s]\n",
      "100%|██████████| 64/64 [00:00<00:00, 1329.76it/s]\n",
      "100%|██████████| 64/64 [00:00<00:00, 1273.26it/s]\n",
      "100%|██████████| 64/64 [00:00<00:00, 6901.72it/s]\n"
     ]
    },
    {
     "name": "stdout",
     "output_type": "stream",
     "text": [
      "(1, 3329)\n",
      "(595, 3330)\n"
     ]
    },
    {
     "name": "stderr",
     "output_type": "stream",
     "text": [
      "100%|██████████| 64/64 [00:00<00:00, 20478.75it/s]\n",
      "100%|██████████| 64/64 [00:00<00:00, 89.20it/s]\n",
      "100%|██████████| 64/64 [00:00<00:00, 91.22it/s]\n",
      "100%|██████████| 64/64 [00:00<00:00, 98.68it/s]\n",
      "100%|██████████| 64/64 [00:00<00:00, 2059.47it/s]\n",
      "100%|██████████| 64/64 [00:00<00:00, 172.18it/s]\n",
      "100%|██████████| 64/64 [00:00<00:00, 143.20it/s]\n",
      "100%|██████████| 64/64 [00:08<00:00,  7.63it/s]\n",
      "100%|██████████| 64/64 [00:00<00:00, 3459.40it/s]\n",
      "100%|██████████| 64/64 [00:00<00:00, 1275.96it/s]\n",
      "100%|██████████| 64/64 [00:00<00:00, 1236.55it/s]\n",
      "100%|██████████| 64/64 [00:00<00:00, 6661.09it/s]\n"
     ]
    },
    {
     "name": "stdout",
     "output_type": "stream",
     "text": [
      "(1, 3329)\n",
      "(596, 3330)\n"
     ]
    },
    {
     "name": "stderr",
     "output_type": "stream",
     "text": [
      "100%|██████████| 64/64 [00:00<00:00, 67718.33it/s]\n",
      "100%|██████████| 64/64 [00:00<00:00, 90.47it/s]\n",
      "100%|██████████| 64/64 [00:00<00:00, 95.26it/s]\n",
      "100%|██████████| 64/64 [00:00<00:00, 99.38it/s]\n",
      "100%|██████████| 64/64 [00:00<00:00, 1815.43it/s]\n",
      "100%|██████████| 64/64 [00:00<00:00, 179.38it/s]\n",
      "100%|██████████| 64/64 [00:00<00:00, 145.16it/s]\n",
      "100%|██████████| 64/64 [00:08<00:00,  7.76it/s]\n",
      "100%|██████████| 64/64 [00:00<00:00, 3539.12it/s]\n",
      "100%|██████████| 64/64 [00:00<00:00, 1216.65it/s]\n",
      "100%|██████████| 64/64 [00:00<00:00, 1349.89it/s]\n",
      "100%|██████████| 64/64 [00:00<00:00, 6411.16it/s]\n"
     ]
    },
    {
     "name": "stdout",
     "output_type": "stream",
     "text": [
      "(1, 3329)\n",
      "(597, 3330)\n"
     ]
    },
    {
     "name": "stderr",
     "output_type": "stream",
     "text": [
      "100%|██████████| 64/64 [00:00<00:00, 82316.91it/s]\n",
      "100%|██████████| 64/64 [00:00<00:00, 91.57it/s]\n",
      "100%|██████████| 64/64 [00:00<00:00, 93.61it/s]\n",
      "100%|██████████| 64/64 [00:00<00:00, 97.97it/s]\n",
      "100%|██████████| 64/64 [00:00<00:00, 2308.55it/s]\n",
      "100%|██████████| 64/64 [00:00<00:00, 178.42it/s]\n",
      "100%|██████████| 64/64 [00:00<00:00, 148.30it/s]\n",
      "100%|██████████| 64/64 [00:08<00:00,  7.76it/s]\n",
      "100%|██████████| 64/64 [00:00<00:00, 2912.87it/s]\n",
      "100%|██████████| 64/64 [00:00<00:00, 1219.88it/s]\n",
      "100%|██████████| 64/64 [00:00<00:00, 1199.45it/s]\n",
      "100%|██████████| 64/64 [00:00<00:00, 7480.85it/s]\n"
     ]
    },
    {
     "name": "stdout",
     "output_type": "stream",
     "text": [
      "(1, 3329)\n",
      "(598, 3330)\n"
     ]
    },
    {
     "name": "stderr",
     "output_type": "stream",
     "text": [
      "100%|██████████| 64/64 [00:00<00:00, 236924.50it/s]\n",
      "100%|██████████| 64/64 [00:00<00:00, 89.70it/s]\n",
      "100%|██████████| 64/64 [00:00<00:00, 91.49it/s]\n",
      "100%|██████████| 64/64 [00:00<00:00, 99.07it/s] \n",
      "100%|██████████| 64/64 [00:00<00:00, 2207.06it/s]\n",
      "100%|██████████| 64/64 [00:00<00:00, 174.72it/s]\n",
      "100%|██████████| 64/64 [00:00<00:00, 143.27it/s]\n",
      "100%|██████████| 64/64 [00:08<00:00,  7.63it/s]\n",
      "100%|██████████| 64/64 [00:00<00:00, 3405.98it/s]\n",
      "100%|██████████| 64/64 [00:00<00:00, 1362.80it/s]\n",
      "100%|██████████| 64/64 [00:00<00:00, 1327.21it/s]\n",
      "100%|██████████| 64/64 [00:00<00:00, 10509.57it/s]\n"
     ]
    },
    {
     "name": "stdout",
     "output_type": "stream",
     "text": [
      "(1, 3329)\n",
      "(599, 3330)\n"
     ]
    },
    {
     "name": "stderr",
     "output_type": "stream",
     "text": [
      "100%|██████████| 64/64 [00:00<00:00, 44398.85it/s]\n",
      "100%|██████████| 64/64 [00:00<00:00, 89.63it/s]\n",
      "100%|██████████| 64/64 [00:00<00:00, 91.93it/s]\n",
      "100%|██████████| 64/64 [00:00<00:00, 93.72it/s]\n",
      "100%|██████████| 64/64 [00:00<00:00, 2272.64it/s]\n",
      "100%|██████████| 64/64 [00:00<00:00, 176.42it/s]\n",
      "100%|██████████| 64/64 [00:00<00:00, 142.57it/s]\n",
      "100%|██████████| 64/64 [00:08<00:00,  7.76it/s]\n",
      "100%|██████████| 64/64 [00:00<00:00, 2746.26it/s]\n",
      "100%|██████████| 64/64 [00:00<00:00, 1333.65it/s]\n",
      "100%|██████████| 64/64 [00:00<00:00, 1282.42it/s]\n",
      "100%|██████████| 64/64 [00:00<00:00, 6059.49it/s]\n"
     ]
    },
    {
     "name": "stdout",
     "output_type": "stream",
     "text": [
      "(1, 3329)\n",
      "(600, 3330)\n"
     ]
    },
    {
     "name": "stderr",
     "output_type": "stream",
     "text": [
      "100%|██████████| 64/64 [00:00<00:00, 180886.43it/s]\n",
      "100%|██████████| 64/64 [00:00<00:00, 90.34it/s]\n",
      "100%|██████████| 64/64 [00:00<00:00, 94.16it/s]\n",
      "100%|██████████| 64/64 [00:00<00:00, 96.59it/s]\n",
      "100%|██████████| 64/64 [00:00<00:00, 2252.64it/s]\n",
      "100%|██████████| 64/64 [00:00<00:00, 176.42it/s]\n",
      "100%|██████████| 64/64 [00:00<00:00, 145.52it/s]\n",
      "100%|██████████| 64/64 [00:08<00:00,  7.65it/s]\n",
      "100%|██████████| 64/64 [00:00<00:00, 3431.23it/s]\n",
      "100%|██████████| 64/64 [00:00<00:00, 1286.55it/s]\n",
      "100%|██████████| 64/64 [00:00<00:00, 1329.38it/s]\n",
      "100%|██████████| 64/64 [00:00<00:00, 6780.21it/s]\n"
     ]
    },
    {
     "name": "stdout",
     "output_type": "stream",
     "text": [
      "(1, 3329)\n",
      "(601, 3330)\n"
     ]
    },
    {
     "name": "stderr",
     "output_type": "stream",
     "text": [
      "100%|██████████| 64/64 [00:00<00:00, 183859.90it/s]\n",
      "100%|██████████| 64/64 [00:00<00:00, 90.13it/s]\n",
      "100%|██████████| 64/64 [00:00<00:00, 91.16it/s]\n",
      "100%|██████████| 64/64 [00:00<00:00, 98.74it/s]\n",
      "100%|██████████| 64/64 [00:00<00:00, 2217.65it/s]\n",
      "100%|██████████| 64/64 [00:00<00:00, 170.00it/s]\n",
      "100%|██████████| 64/64 [00:00<00:00, 146.42it/s]\n",
      "100%|██████████| 64/64 [00:08<00:00,  7.73it/s]\n",
      "100%|██████████| 64/64 [00:00<00:00, 2912.36it/s]\n",
      "100%|██████████| 64/64 [00:00<00:00, 1352.06it/s]\n",
      "100%|██████████| 64/64 [00:00<00:00, 1285.31it/s]\n",
      "100%|██████████| 64/64 [00:00<00:00, 4548.44it/s]\n"
     ]
    },
    {
     "name": "stdout",
     "output_type": "stream",
     "text": [
      "(1, 3329)\n",
      "(602, 3330)\n"
     ]
    },
    {
     "name": "stderr",
     "output_type": "stream",
     "text": [
      "100%|██████████| 64/64 [00:00<00:00, 85789.54it/s]\n",
      "100%|██████████| 64/64 [00:00<00:00, 91.55it/s]\n",
      "100%|██████████| 64/64 [00:00<00:00, 92.80it/s]\n",
      "100%|██████████| 64/64 [00:00<00:00, 98.24it/s]\n",
      "100%|██████████| 64/64 [00:00<00:00, 2027.04it/s]\n",
      "100%|██████████| 64/64 [00:00<00:00, 185.57it/s]\n",
      "100%|██████████| 64/64 [00:00<00:00, 142.90it/s]\n",
      "100%|██████████| 64/64 [00:08<00:00,  7.76it/s]\n",
      "100%|██████████| 64/64 [00:00<00:00, 3251.12it/s]\n",
      "100%|██████████| 64/64 [00:00<00:00, 1343.63it/s]\n",
      "100%|██████████| 64/64 [00:00<00:00, 1308.52it/s]\n",
      "100%|██████████| 64/64 [00:00<00:00, 7573.30it/s]\n"
     ]
    },
    {
     "name": "stdout",
     "output_type": "stream",
     "text": [
      "(1, 3329)\n",
      "(603, 3330)\n"
     ]
    },
    {
     "name": "stderr",
     "output_type": "stream",
     "text": [
      "100%|██████████| 64/64 [00:00<00:00, 84573.24it/s]\n",
      "100%|██████████| 64/64 [00:00<00:00, 89.16it/s]\n",
      "100%|██████████| 64/64 [00:00<00:00, 92.61it/s]\n",
      "100%|██████████| 64/64 [00:00<00:00, 99.66it/s] \n",
      "100%|██████████| 64/64 [00:00<00:00, 2199.14it/s]\n",
      "100%|██████████| 64/64 [00:00<00:00, 177.95it/s]\n",
      "100%|██████████| 64/64 [00:00<00:00, 151.04it/s]\n",
      "100%|██████████| 64/64 [00:08<00:00,  7.71it/s]\n",
      "100%|██████████| 64/64 [00:00<00:00, 3486.36it/s]\n",
      "100%|██████████| 64/64 [00:00<00:00, 1407.46it/s]\n",
      "100%|██████████| 64/64 [00:00<00:00, 1351.82it/s]\n",
      "100%|██████████| 64/64 [00:00<00:00, 7938.59it/s]\n"
     ]
    },
    {
     "name": "stdout",
     "output_type": "stream",
     "text": [
      "(1, 3329)\n",
      "(604, 3330)\n"
     ]
    },
    {
     "name": "stderr",
     "output_type": "stream",
     "text": [
      "100%|██████████| 64/64 [00:00<00:00, 21218.52it/s]\n",
      "100%|██████████| 64/64 [00:00<00:00, 92.03it/s]\n",
      "100%|██████████| 64/64 [00:00<00:00, 91.69it/s]\n",
      "100%|██████████| 64/64 [00:00<00:00, 98.13it/s]\n",
      "100%|██████████| 64/64 [00:00<00:00, 2178.15it/s]\n",
      "100%|██████████| 64/64 [00:00<00:00, 185.14it/s]\n",
      "100%|██████████| 64/64 [00:00<00:00, 151.60it/s]\n",
      "100%|██████████| 64/64 [00:08<00:00,  7.77it/s]\n",
      "100%|██████████| 64/64 [00:00<00:00, 2691.54it/s]\n",
      "100%|██████████| 64/64 [00:00<00:00, 1271.60it/s]\n",
      "100%|██████████| 64/64 [00:00<00:00, 1309.04it/s]\n",
      "100%|██████████| 64/64 [00:00<00:00, 6934.52it/s]\n"
     ]
    },
    {
     "name": "stdout",
     "output_type": "stream",
     "text": [
      "(1, 3329)\n",
      "(605, 3330)\n"
     ]
    },
    {
     "name": "stderr",
     "output_type": "stream",
     "text": [
      "100%|██████████| 64/64 [00:00<00:00, 62426.85it/s]\n",
      "100%|██████████| 64/64 [00:00<00:00, 91.54it/s]\n",
      "100%|██████████| 64/64 [00:00<00:00, 96.03it/s]\n",
      "100%|██████████| 64/64 [00:00<00:00, 95.32it/s]\n",
      "100%|██████████| 64/64 [00:00<00:00, 2057.24it/s]\n",
      "100%|██████████| 64/64 [00:00<00:00, 185.58it/s]\n",
      "100%|██████████| 64/64 [00:00<00:00, 144.62it/s]\n",
      "100%|██████████| 64/64 [00:08<00:00,  7.68it/s]\n",
      "100%|██████████| 64/64 [00:00<00:00, 3136.15it/s]\n",
      "100%|██████████| 64/64 [00:00<00:00, 1363.97it/s]\n",
      "100%|██████████| 64/64 [00:00<00:00, 1342.25it/s]\n",
      "100%|██████████| 64/64 [00:00<00:00, 6923.44it/s]\n"
     ]
    },
    {
     "name": "stdout",
     "output_type": "stream",
     "text": [
      "(1, 3329)\n",
      "(606, 3330)\n"
     ]
    },
    {
     "name": "stderr",
     "output_type": "stream",
     "text": [
      "100%|██████████| 64/64 [00:00<00:00, 274754.82it/s]\n",
      "100%|██████████| 64/64 [00:00<00:00, 89.04it/s]\n",
      "100%|██████████| 64/64 [00:00<00:00, 92.07it/s]\n",
      "100%|██████████| 64/64 [00:00<00:00, 97.08it/s]\n",
      "100%|██████████| 64/64 [00:00<00:00, 1511.04it/s]\n",
      "100%|██████████| 64/64 [00:00<00:00, 170.14it/s]\n",
      "100%|██████████| 64/64 [00:00<00:00, 145.99it/s]\n",
      "100%|██████████| 64/64 [00:08<00:00,  7.70it/s]\n",
      "100%|██████████| 64/64 [00:00<00:00, 2848.73it/s]\n",
      "100%|██████████| 64/64 [00:00<00:00, 1329.67it/s]\n",
      "100%|██████████| 64/64 [00:00<00:00, 1272.57it/s]\n",
      "100%|██████████| 64/64 [00:00<00:00, 8113.26it/s]\n"
     ]
    },
    {
     "name": "stdout",
     "output_type": "stream",
     "text": [
      "(1, 3329)\n",
      "(607, 3330)\n"
     ]
    },
    {
     "name": "stderr",
     "output_type": "stream",
     "text": [
      "100%|██████████| 64/64 [00:00<00:00, 201225.98it/s]\n",
      "100%|██████████| 64/64 [00:00<00:00, 93.09it/s]\n",
      "100%|██████████| 64/64 [00:00<00:00, 94.36it/s]\n",
      "100%|██████████| 64/64 [00:00<00:00, 97.25it/s]\n",
      "100%|██████████| 64/64 [00:00<00:00, 2262.36it/s]\n",
      "100%|██████████| 64/64 [00:00<00:00, 176.34it/s]\n",
      "100%|██████████| 64/64 [00:00<00:00, 145.78it/s]\n",
      "100%|██████████| 64/64 [00:08<00:00,  7.61it/s]\n",
      "100%|██████████| 64/64 [00:00<00:00, 3278.48it/s]\n",
      "100%|██████████| 64/64 [00:00<00:00, 1359.37it/s]\n",
      "100%|██████████| 64/64 [00:00<00:00, 1310.92it/s]\n",
      "100%|██████████| 64/64 [00:00<00:00, 6336.55it/s]\n"
     ]
    },
    {
     "name": "stdout",
     "output_type": "stream",
     "text": [
      "(1, 3329)\n",
      "(608, 3330)\n"
     ]
    },
    {
     "name": "stderr",
     "output_type": "stream",
     "text": [
      "100%|██████████| 64/64 [00:00<00:00, 218417.78it/s]\n",
      "100%|██████████| 64/64 [00:00<00:00, 89.75it/s]\n",
      "100%|██████████| 64/64 [00:00<00:00, 91.76it/s]\n",
      "100%|██████████| 64/64 [00:00<00:00, 96.51it/s]\n",
      "100%|██████████| 64/64 [00:00<00:00, 2109.86it/s]\n",
      "100%|██████████| 64/64 [00:00<00:00, 164.74it/s]\n",
      "100%|██████████| 64/64 [00:00<00:00, 144.73it/s]\n",
      "100%|██████████| 64/64 [00:08<00:00,  7.67it/s]\n",
      "100%|██████████| 64/64 [00:00<00:00, 2754.34it/s]\n",
      "100%|██████████| 64/64 [00:00<00:00, 1333.14it/s]\n",
      "100%|██████████| 64/64 [00:00<00:00, 1312.72it/s]\n",
      "100%|██████████| 64/64 [00:00<00:00, 7417.60it/s]\n"
     ]
    },
    {
     "name": "stdout",
     "output_type": "stream",
     "text": [
      "(1, 3329)\n",
      "(609, 3330)\n"
     ]
    },
    {
     "name": "stderr",
     "output_type": "stream",
     "text": [
      "100%|██████████| 64/64 [00:00<00:00, 38189.71it/s]\n",
      "100%|██████████| 64/64 [00:00<00:00, 90.31it/s]\n",
      "100%|██████████| 64/64 [00:00<00:00, 80.60it/s]\n",
      "100%|██████████| 64/64 [00:00<00:00, 98.14it/s]\n",
      "100%|██████████| 64/64 [00:00<00:00, 1812.82it/s]\n",
      "100%|██████████| 64/64 [00:00<00:00, 179.23it/s]\n",
      "100%|██████████| 64/64 [00:00<00:00, 148.15it/s]\n",
      "100%|██████████| 64/64 [00:08<00:00,  7.68it/s]\n",
      "100%|██████████| 64/64 [00:00<00:00, 3558.26it/s]\n",
      "100%|██████████| 64/64 [00:00<00:00, 1400.43it/s]\n",
      "100%|██████████| 64/64 [00:00<00:00, 1300.43it/s]\n",
      "100%|██████████| 64/64 [00:00<00:00, 8348.43it/s]\n"
     ]
    },
    {
     "name": "stdout",
     "output_type": "stream",
     "text": [
      "(1, 3329)\n",
      "(610, 3330)\n"
     ]
    },
    {
     "name": "stderr",
     "output_type": "stream",
     "text": [
      "100%|██████████| 64/64 [00:00<00:00, 19460.31it/s]\n",
      "100%|██████████| 64/64 [00:00<00:00, 91.03it/s]\n",
      "100%|██████████| 64/64 [00:00<00:00, 94.28it/s]\n",
      "100%|██████████| 64/64 [00:00<00:00, 96.61it/s]\n",
      "100%|██████████| 64/64 [00:00<00:00, 2220.09it/s]\n",
      "100%|██████████| 64/64 [00:00<00:00, 182.47it/s]\n",
      "100%|██████████| 64/64 [00:00<00:00, 142.81it/s]\n",
      "100%|██████████| 64/64 [00:08<00:00,  7.81it/s]\n",
      "100%|██████████| 64/64 [00:00<00:00, 3366.34it/s]\n",
      "100%|██████████| 64/64 [00:00<00:00, 1304.15it/s]\n",
      "100%|██████████| 64/64 [00:00<00:00, 1318.18it/s]\n",
      "100%|██████████| 64/64 [00:00<00:00, 6791.02it/s]\n"
     ]
    },
    {
     "name": "stdout",
     "output_type": "stream",
     "text": [
      "(1, 3329)\n",
      "(611, 3330)\n"
     ]
    },
    {
     "name": "stderr",
     "output_type": "stream",
     "text": [
      "100%|██████████| 64/64 [00:00<00:00, 44813.93it/s]\n",
      "100%|██████████| 64/64 [00:00<00:00, 90.69it/s]\n",
      "100%|██████████| 64/64 [00:00<00:00, 94.20it/s]\n",
      "100%|██████████| 64/64 [00:00<00:00, 96.79it/s]\n",
      "100%|██████████| 64/64 [00:00<00:00, 2249.97it/s]\n",
      "100%|██████████| 64/64 [00:00<00:00, 176.58it/s]\n",
      "100%|██████████| 64/64 [00:00<00:00, 150.60it/s]\n",
      "100%|██████████| 64/64 [00:08<00:00,  7.72it/s]\n",
      "100%|██████████| 64/64 [00:00<00:00, 3313.73it/s]\n",
      "100%|██████████| 64/64 [00:00<00:00, 1183.31it/s]\n",
      "100%|██████████| 64/64 [00:00<00:00, 1302.23it/s]\n",
      "100%|██████████| 64/64 [00:00<00:00, 6557.60it/s]\n"
     ]
    },
    {
     "name": "stdout",
     "output_type": "stream",
     "text": [
      "(1, 3329)\n",
      "(612, 3330)\n"
     ]
    },
    {
     "name": "stderr",
     "output_type": "stream",
     "text": [
      "100%|██████████| 64/64 [00:00<00:00, 36070.34it/s]\n",
      "100%|██████████| 64/64 [00:00<00:00, 91.34it/s]\n",
      "100%|██████████| 64/64 [00:00<00:00, 94.40it/s]\n",
      "100%|██████████| 64/64 [00:00<00:00, 99.59it/s]\n",
      "100%|██████████| 64/64 [00:00<00:00, 2315.90it/s]\n",
      "100%|██████████| 64/64 [00:00<00:00, 182.65it/s]\n",
      "100%|██████████| 64/64 [00:00<00:00, 146.03it/s]\n",
      "100%|██████████| 64/64 [00:08<00:00,  7.69it/s]\n",
      "100%|██████████| 64/64 [00:00<00:00, 3416.99it/s]\n",
      "100%|██████████| 64/64 [00:00<00:00, 1352.62it/s]\n",
      "100%|██████████| 64/64 [00:00<00:00, 1345.66it/s]\n",
      "100%|██████████| 64/64 [00:00<00:00, 7062.98it/s]\n"
     ]
    },
    {
     "name": "stdout",
     "output_type": "stream",
     "text": [
      "(1, 3329)\n",
      "(613, 3330)\n"
     ]
    },
    {
     "name": "stderr",
     "output_type": "stream",
     "text": [
      "100%|██████████| 64/64 [00:00<00:00, 70271.06it/s]\n",
      "100%|██████████| 64/64 [00:00<00:00, 85.71it/s]\n",
      "100%|██████████| 64/64 [00:00<00:00, 92.16it/s]\n",
      "100%|██████████| 64/64 [00:00<00:00, 94.89it/s]\n",
      "100%|██████████| 64/64 [00:00<00:00, 2156.94it/s]\n",
      "100%|██████████| 64/64 [00:00<00:00, 174.94it/s]\n",
      "100%|██████████| 64/64 [00:00<00:00, 141.04it/s]\n",
      "100%|██████████| 64/64 [00:08<00:00,  7.78it/s]\n",
      "100%|██████████| 64/64 [00:00<00:00, 2633.97it/s]\n",
      "100%|██████████| 64/64 [00:00<00:00, 1361.50it/s]\n",
      "100%|██████████| 64/64 [00:00<00:00, 1305.30it/s]\n",
      "100%|██████████| 64/64 [00:00<00:00, 9831.00it/s]\n"
     ]
    },
    {
     "name": "stdout",
     "output_type": "stream",
     "text": [
      "(1, 3329)\n",
      "(614, 3330)\n"
     ]
    },
    {
     "name": "stderr",
     "output_type": "stream",
     "text": [
      "100%|██████████| 64/64 [00:00<00:00, 94853.52it/s]\n",
      "100%|██████████| 64/64 [00:00<00:00, 90.36it/s]\n",
      "100%|██████████| 64/64 [00:00<00:00, 93.96it/s]\n",
      "100%|██████████| 64/64 [00:00<00:00, 98.27it/s]\n",
      "100%|██████████| 64/64 [00:00<00:00, 1889.38it/s]\n",
      "100%|██████████| 64/64 [00:00<00:00, 181.29it/s]\n",
      "100%|██████████| 64/64 [00:00<00:00, 144.37it/s]\n",
      "100%|██████████| 64/64 [00:08<00:00,  7.68it/s]\n",
      "100%|██████████| 64/64 [00:00<00:00, 2271.51it/s]\n",
      "100%|██████████| 64/64 [00:00<00:00, 1210.50it/s]\n",
      "100%|██████████| 64/64 [00:00<00:00, 1271.14it/s]\n",
      "100%|██████████| 64/64 [00:00<00:00, 6917.37it/s]\n"
     ]
    },
    {
     "name": "stdout",
     "output_type": "stream",
     "text": [
      "(1, 3329)\n",
      "(615, 3330)\n"
     ]
    },
    {
     "name": "stderr",
     "output_type": "stream",
     "text": [
      "100%|██████████| 64/64 [00:00<00:00, 20976.44it/s]\n",
      "100%|██████████| 64/64 [00:00<00:00, 90.38it/s]\n",
      "100%|██████████| 64/64 [00:00<00:00, 94.26it/s]\n",
      "100%|██████████| 64/64 [00:00<00:00, 97.07it/s]\n",
      "100%|██████████| 64/64 [00:00<00:00, 2167.49it/s]\n",
      "100%|██████████| 64/64 [00:00<00:00, 181.42it/s]\n",
      "100%|██████████| 64/64 [00:00<00:00, 145.55it/s]\n",
      "100%|██████████| 64/64 [00:08<00:00,  7.68it/s]\n",
      "100%|██████████| 64/64 [00:00<00:00, 3128.36it/s]\n",
      "100%|██████████| 64/64 [00:00<00:00, 1294.03it/s]\n",
      "100%|██████████| 64/64 [00:00<00:00, 1277.83it/s]\n",
      "100%|██████████| 64/64 [00:00<00:00, 6731.08it/s]\n"
     ]
    },
    {
     "name": "stdout",
     "output_type": "stream",
     "text": [
      "(1, 3329)\n",
      "(616, 3330)\n"
     ]
    },
    {
     "name": "stderr",
     "output_type": "stream",
     "text": [
      "100%|██████████| 64/64 [00:00<00:00, 135847.90it/s]\n",
      "100%|██████████| 64/64 [00:00<00:00, 92.83it/s]\n",
      "100%|██████████| 64/64 [00:00<00:00, 93.52it/s]\n",
      "100%|██████████| 64/64 [00:00<00:00, 97.30it/s]\n",
      "100%|██████████| 64/64 [00:00<00:00, 1806.19it/s]\n",
      "100%|██████████| 64/64 [00:00<00:00, 181.99it/s]\n",
      "100%|██████████| 64/64 [00:00<00:00, 144.05it/s]\n",
      "100%|██████████| 64/64 [00:08<00:00,  7.65it/s]\n",
      "100%|██████████| 64/64 [00:00<00:00, 3447.18it/s]\n",
      "100%|██████████| 64/64 [00:00<00:00, 1378.61it/s]\n",
      "100%|██████████| 64/64 [00:00<00:00, 1317.88it/s]\n",
      "100%|██████████| 64/64 [00:00<00:00, 6845.40it/s]\n"
     ]
    },
    {
     "name": "stdout",
     "output_type": "stream",
     "text": [
      "(1, 3329)\n",
      "(617, 3330)\n"
     ]
    },
    {
     "name": "stderr",
     "output_type": "stream",
     "text": [
      "100%|██████████| 64/64 [00:00<00:00, 29902.58it/s]\n",
      "100%|██████████| 64/64 [00:00<00:00, 89.16it/s]\n",
      "100%|██████████| 64/64 [00:00<00:00, 94.37it/s]\n",
      "100%|██████████| 64/64 [00:00<00:00, 97.24it/s]\n",
      "100%|██████████| 64/64 [00:00<00:00, 2337.68it/s]\n",
      "100%|██████████| 64/64 [00:00<00:00, 180.43it/s]\n",
      "100%|██████████| 64/64 [00:00<00:00, 141.87it/s]\n",
      "100%|██████████| 64/64 [00:08<00:00,  7.70it/s]\n",
      "100%|██████████| 64/64 [00:00<00:00, 3450.42it/s]\n",
      "100%|██████████| 64/64 [00:00<00:00, 1372.52it/s]\n",
      "100%|██████████| 64/64 [00:00<00:00, 1310.01it/s]\n",
      "100%|██████████| 64/64 [00:00<00:00, 7205.16it/s]\n"
     ]
    },
    {
     "name": "stdout",
     "output_type": "stream",
     "text": [
      "(1, 3329)\n",
      "(618, 3330)\n"
     ]
    },
    {
     "name": "stderr",
     "output_type": "stream",
     "text": [
      "100%|██████████| 64/64 [00:00<00:00, 189707.04it/s]\n",
      "100%|██████████| 64/64 [00:00<00:00, 90.61it/s]\n",
      "100%|██████████| 64/64 [00:00<00:00, 93.17it/s]\n",
      "100%|██████████| 64/64 [00:00<00:00, 96.39it/s]\n",
      "100%|██████████| 64/64 [00:00<00:00, 2108.17it/s]\n",
      "100%|██████████| 64/64 [00:00<00:00, 169.74it/s]\n",
      "100%|██████████| 64/64 [00:00<00:00, 143.85it/s]\n",
      "100%|██████████| 64/64 [00:08<00:00,  7.79it/s]\n",
      "100%|██████████| 64/64 [00:00<00:00, 3441.57it/s]\n",
      "100%|██████████| 64/64 [00:00<00:00, 1108.11it/s]\n",
      "100%|██████████| 64/64 [00:00<00:00, 1333.80it/s]\n",
      "100%|██████████| 64/64 [00:00<00:00, 6653.01it/s]\n"
     ]
    },
    {
     "name": "stdout",
     "output_type": "stream",
     "text": [
      "(1, 3329)\n",
      "(619, 3330)\n"
     ]
    },
    {
     "name": "stderr",
     "output_type": "stream",
     "text": [
      "100%|██████████| 64/64 [00:00<00:00, 98508.42it/s]\n",
      "100%|██████████| 64/64 [00:00<00:00, 92.24it/s]\n",
      "100%|██████████| 64/64 [00:00<00:00, 92.93it/s]\n",
      "100%|██████████| 64/64 [00:00<00:00, 97.31it/s]\n",
      "100%|██████████| 64/64 [00:00<00:00, 2110.66it/s]\n",
      "100%|██████████| 64/64 [00:00<00:00, 176.59it/s]\n",
      "100%|██████████| 64/64 [00:00<00:00, 144.41it/s]\n",
      "100%|██████████| 64/64 [00:08<00:00,  7.65it/s]\n",
      "100%|██████████| 64/64 [00:00<00:00, 3540.94it/s]\n",
      "100%|██████████| 64/64 [00:00<00:00, 1340.22it/s]\n",
      "100%|██████████| 64/64 [00:00<00:00, 1327.55it/s]\n",
      "100%|██████████| 64/64 [00:00<00:00, 7172.24it/s]\n"
     ]
    },
    {
     "name": "stdout",
     "output_type": "stream",
     "text": [
      "(1, 3329)\n",
      "(620, 3330)\n"
     ]
    },
    {
     "name": "stderr",
     "output_type": "stream",
     "text": [
      "100%|██████████| 64/64 [00:00<00:00, 58469.93it/s]\n",
      "100%|██████████| 64/64 [00:00<00:00, 88.47it/s]\n",
      "100%|██████████| 64/64 [00:00<00:00, 91.69it/s]\n",
      "100%|██████████| 64/64 [00:00<00:00, 97.04it/s]\n",
      "100%|██████████| 64/64 [00:00<00:00, 2217.38it/s]\n",
      "100%|██████████| 64/64 [00:00<00:00, 176.79it/s]\n",
      "100%|██████████| 64/64 [00:00<00:00, 147.35it/s]\n",
      "100%|██████████| 64/64 [00:08<00:00,  7.71it/s]\n",
      "100%|██████████| 64/64 [00:00<00:00, 3451.92it/s]\n",
      "100%|██████████| 64/64 [00:00<00:00, 1217.28it/s]\n",
      "100%|██████████| 64/64 [00:00<00:00, 1318.05it/s]\n",
      "100%|██████████| 64/64 [00:00<00:00, 7351.37it/s]\n"
     ]
    },
    {
     "name": "stdout",
     "output_type": "stream",
     "text": [
      "(1, 3329)\n",
      "(621, 3330)\n"
     ]
    },
    {
     "name": "stderr",
     "output_type": "stream",
     "text": [
      "100%|██████████| 64/64 [00:00<00:00, 19450.44it/s]\n",
      "100%|██████████| 64/64 [00:00<00:00, 89.64it/s]\n",
      "100%|██████████| 64/64 [00:00<00:00, 93.16it/s]\n",
      "100%|██████████| 64/64 [00:00<00:00, 99.42it/s] \n",
      "100%|██████████| 64/64 [00:00<00:00, 1723.16it/s]\n",
      "100%|██████████| 64/64 [00:00<00:00, 181.24it/s]\n",
      "100%|██████████| 64/64 [00:00<00:00, 145.86it/s]\n",
      "100%|██████████| 64/64 [00:08<00:00,  7.74it/s]\n",
      "100%|██████████| 64/64 [00:00<00:00, 2442.50it/s]\n",
      "100%|██████████| 64/64 [00:00<00:00, 1257.85it/s]\n",
      "100%|██████████| 64/64 [00:00<00:00, 1279.11it/s]\n",
      "100%|██████████| 64/64 [00:00<00:00, 8047.11it/s]\n"
     ]
    },
    {
     "name": "stdout",
     "output_type": "stream",
     "text": [
      "(1, 3329)\n",
      "(622, 3330)\n"
     ]
    },
    {
     "name": "stderr",
     "output_type": "stream",
     "text": [
      "100%|██████████| 64/64 [00:00<00:00, 96698.65it/s]\n",
      "100%|██████████| 64/64 [00:00<00:00, 92.06it/s]\n",
      "100%|██████████| 64/64 [00:00<00:00, 93.54it/s]\n",
      "100%|██████████| 64/64 [00:00<00:00, 98.88it/s] \n",
      "100%|██████████| 64/64 [00:00<00:00, 2115.16it/s]\n",
      "100%|██████████| 64/64 [00:00<00:00, 175.28it/s]\n",
      "100%|██████████| 64/64 [00:00<00:00, 144.10it/s]\n",
      "100%|██████████| 64/64 [00:08<00:00,  7.52it/s]\n",
      "100%|██████████| 64/64 [00:00<00:00, 3345.82it/s]\n",
      "100%|██████████| 64/64 [00:00<00:00, 1325.21it/s]\n",
      "100%|██████████| 64/64 [00:00<00:00, 1321.97it/s]\n",
      "100%|██████████| 64/64 [00:00<00:00, 7809.94it/s]\n"
     ]
    },
    {
     "name": "stdout",
     "output_type": "stream",
     "text": [
      "(1, 3329)\n",
      "(623, 3330)\n"
     ]
    },
    {
     "name": "stderr",
     "output_type": "stream",
     "text": [
      "100%|██████████| 64/64 [00:00<00:00, 30762.72it/s]\n",
      "100%|██████████| 64/64 [00:00<00:00, 90.07it/s]\n",
      "100%|██████████| 64/64 [00:00<00:00, 93.83it/s]\n",
      "100%|██████████| 64/64 [00:00<00:00, 99.77it/s]\n",
      "100%|██████████| 64/64 [00:00<00:00, 2317.30it/s]\n",
      "100%|██████████| 64/64 [00:00<00:00, 172.46it/s]\n",
      "100%|██████████| 64/64 [00:00<00:00, 145.96it/s]\n",
      "100%|██████████| 64/64 [00:08<00:00,  7.78it/s]\n",
      "100%|██████████| 64/64 [00:00<00:00, 3456.46it/s]\n",
      "100%|██████████| 64/64 [00:00<00:00, 1388.61it/s]\n",
      "100%|██████████| 64/64 [00:00<00:00, 1295.73it/s]\n",
      "100%|██████████| 64/64 [00:00<00:00, 6598.55it/s]\n"
     ]
    },
    {
     "name": "stdout",
     "output_type": "stream",
     "text": [
      "(1, 3329)\n",
      "(624, 3330)\n"
     ]
    },
    {
     "name": "stderr",
     "output_type": "stream",
     "text": [
      "100%|██████████| 64/64 [00:00<00:00, 75339.73it/s]\n",
      "100%|██████████| 64/64 [00:00<00:00, 92.30it/s]\n",
      "100%|██████████| 64/64 [00:00<00:00, 92.03it/s]\n",
      "100%|██████████| 64/64 [00:00<00:00, 95.91it/s]\n",
      "100%|██████████| 64/64 [00:00<00:00, 2223.86it/s]\n",
      "100%|██████████| 64/64 [00:00<00:00, 180.46it/s]\n",
      "100%|██████████| 64/64 [00:00<00:00, 142.11it/s]\n",
      "100%|██████████| 64/64 [00:08<00:00,  7.76it/s]\n",
      "100%|██████████| 64/64 [00:00<00:00, 3172.17it/s]\n",
      "100%|██████████| 64/64 [00:00<00:00, 1311.72it/s]\n",
      "100%|██████████| 64/64 [00:00<00:00, 1319.79it/s]\n",
      "100%|██████████| 64/64 [00:00<00:00, 7814.71it/s]\n"
     ]
    },
    {
     "name": "stdout",
     "output_type": "stream",
     "text": [
      "(1, 3329)\n",
      "(625, 3330)\n"
     ]
    },
    {
     "name": "stderr",
     "output_type": "stream",
     "text": [
      "100%|██████████| 64/64 [00:00<00:00, 92119.24it/s]\n",
      "100%|██████████| 64/64 [00:00<00:00, 88.43it/s]\n",
      "100%|██████████| 64/64 [00:00<00:00, 92.08it/s]\n",
      "100%|██████████| 64/64 [00:00<00:00, 92.04it/s]\n",
      "100%|██████████| 64/64 [00:00<00:00, 2185.96it/s]\n",
      "100%|██████████| 64/64 [00:00<00:00, 174.87it/s]\n",
      "100%|██████████| 64/64 [00:00<00:00, 145.68it/s]\n",
      "100%|██████████| 64/64 [00:08<00:00,  7.65it/s]\n",
      "100%|██████████| 64/64 [00:00<00:00, 3401.53it/s]\n",
      "100%|██████████| 64/64 [00:00<00:00, 1387.77it/s]\n",
      "100%|██████████| 64/64 [00:00<00:00, 1335.15it/s]\n",
      "100%|██████████| 64/64 [00:00<00:00, 5796.36it/s]\n"
     ]
    },
    {
     "name": "stdout",
     "output_type": "stream",
     "text": [
      "(1, 3329)\n",
      "(626, 3330)\n"
     ]
    },
    {
     "name": "stderr",
     "output_type": "stream",
     "text": [
      "100%|██████████| 64/64 [00:00<00:00, 88504.93it/s]\n",
      "100%|██████████| 64/64 [00:00<00:00, 93.28it/s]\n",
      "100%|██████████| 64/64 [00:00<00:00, 90.33it/s]\n",
      "100%|██████████| 64/64 [00:00<00:00, 95.35it/s]\n",
      "100%|██████████| 64/64 [00:00<00:00, 2256.27it/s]\n",
      "100%|██████████| 64/64 [00:00<00:00, 173.28it/s]\n",
      "100%|██████████| 64/64 [00:00<00:00, 142.32it/s]\n",
      "100%|██████████| 64/64 [00:08<00:00,  7.76it/s]\n",
      "100%|██████████| 64/64 [00:00<00:00, 3464.35it/s]\n",
      "100%|██████████| 64/64 [00:00<00:00, 1381.30it/s]\n",
      "100%|██████████| 64/64 [00:00<00:00, 1286.10it/s]\n",
      "100%|██████████| 64/64 [00:00<00:00, 6772.17it/s]\n"
     ]
    },
    {
     "name": "stdout",
     "output_type": "stream",
     "text": [
      "(1, 3329)\n",
      "(627, 3330)\n"
     ]
    },
    {
     "name": "stderr",
     "output_type": "stream",
     "text": [
      "100%|██████████| 64/64 [00:00<00:00, 171305.33it/s]\n",
      "100%|██████████| 64/64 [00:00<00:00, 89.55it/s]\n",
      "100%|██████████| 64/64 [00:00<00:00, 93.77it/s]\n",
      "100%|██████████| 64/64 [00:00<00:00, 98.60it/s]\n",
      "100%|██████████| 64/64 [00:00<00:00, 2279.16it/s]\n",
      "100%|██████████| 64/64 [00:00<00:00, 175.32it/s]\n",
      "100%|██████████| 64/64 [00:00<00:00, 144.04it/s]\n",
      "100%|██████████| 64/64 [00:08<00:00,  7.77it/s]\n",
      "100%|██████████| 64/64 [00:00<00:00, 3400.07it/s]\n",
      "100%|██████████| 64/64 [00:00<00:00, 1327.23it/s]\n",
      "100%|██████████| 64/64 [00:00<00:00, 1306.73it/s]\n",
      "100%|██████████| 64/64 [00:00<00:00, 8204.52it/s]\n"
     ]
    },
    {
     "name": "stdout",
     "output_type": "stream",
     "text": [
      "(1, 3329)\n",
      "(628, 3330)\n"
     ]
    },
    {
     "name": "stderr",
     "output_type": "stream",
     "text": [
      "100%|██████████| 64/64 [00:00<00:00, 81294.81it/s]\n",
      "100%|██████████| 64/64 [00:00<00:00, 94.08it/s]\n",
      "100%|██████████| 64/64 [00:00<00:00, 92.67it/s]\n",
      "100%|██████████| 64/64 [00:00<00:00, 99.58it/s]\n",
      "100%|██████████| 64/64 [00:00<00:00, 2263.65it/s]\n",
      "100%|██████████| 64/64 [00:00<00:00, 182.59it/s]\n",
      "100%|██████████| 64/64 [00:00<00:00, 147.55it/s]\n",
      "100%|██████████| 64/64 [00:08<00:00,  7.75it/s]\n",
      "100%|██████████| 64/64 [00:00<00:00, 2878.73it/s]\n",
      "100%|██████████| 64/64 [00:00<00:00, 1292.09it/s]\n",
      "100%|██████████| 64/64 [00:00<00:00, 1312.50it/s]\n",
      "100%|██████████| 64/64 [00:00<00:00, 6531.75it/s]\n"
     ]
    },
    {
     "name": "stdout",
     "output_type": "stream",
     "text": [
      "(1, 3329)\n",
      "(629, 3330)\n"
     ]
    },
    {
     "name": "stderr",
     "output_type": "stream",
     "text": [
      "100%|██████████| 64/64 [00:00<00:00, 19501.30it/s]\n",
      "100%|██████████| 64/64 [00:00<00:00, 91.84it/s]\n",
      "100%|██████████| 64/64 [00:00<00:00, 92.72it/s]\n",
      "100%|██████████| 64/64 [00:00<00:00, 99.44it/s] \n",
      "100%|██████████| 64/64 [00:00<00:00, 2228.20it/s]\n",
      "100%|██████████| 64/64 [00:00<00:00, 176.18it/s]\n",
      "100%|██████████| 64/64 [00:00<00:00, 148.11it/s]\n",
      "100%|██████████| 64/64 [00:08<00:00,  7.65it/s]\n",
      "100%|██████████| 64/64 [00:00<00:00, 3419.47it/s]\n",
      "100%|██████████| 64/64 [00:00<00:00, 1357.96it/s]\n",
      "100%|██████████| 64/64 [00:00<00:00, 1262.79it/s]\n",
      "100%|██████████| 64/64 [00:00<00:00, 5776.16it/s]\n"
     ]
    },
    {
     "name": "stdout",
     "output_type": "stream",
     "text": [
      "(1, 3329)\n",
      "(630, 3330)\n"
     ]
    },
    {
     "name": "stderr",
     "output_type": "stream",
     "text": [
      "100%|██████████| 64/64 [00:00<00:00, 202440.01it/s]\n",
      "100%|██████████| 64/64 [00:00<00:00, 94.72it/s]\n",
      "100%|██████████| 64/64 [00:00<00:00, 94.81it/s]\n",
      "100%|██████████| 64/64 [00:00<00:00, 96.19it/s]\n",
      "100%|██████████| 64/64 [00:00<00:00, 1916.64it/s]\n",
      "100%|██████████| 64/64 [00:00<00:00, 184.47it/s]\n",
      "100%|██████████| 64/64 [00:00<00:00, 150.18it/s]\n",
      "100%|██████████| 64/64 [00:08<00:00,  7.79it/s]\n",
      "100%|██████████| 64/64 [00:00<00:00, 3399.47it/s]\n",
      "100%|██████████| 64/64 [00:00<00:00, 1250.15it/s]\n",
      "100%|██████████| 64/64 [00:00<00:00, 1189.19it/s]\n",
      "100%|██████████| 64/64 [00:00<00:00, 7919.85it/s]\n"
     ]
    },
    {
     "name": "stdout",
     "output_type": "stream",
     "text": [
      "(1, 3329)\n",
      "(631, 3330)\n"
     ]
    },
    {
     "name": "stderr",
     "output_type": "stream",
     "text": [
      "100%|██████████| 64/64 [00:00<00:00, 198546.93it/s]\n",
      "100%|██████████| 64/64 [00:00<00:00, 91.30it/s]\n",
      "100%|██████████| 64/64 [00:00<00:00, 94.65it/s]\n",
      "100%|██████████| 64/64 [00:00<00:00, 99.37it/s]\n",
      "100%|██████████| 64/64 [00:00<00:00, 2295.46it/s]\n",
      "100%|██████████| 64/64 [00:00<00:00, 179.29it/s]\n",
      "100%|██████████| 64/64 [00:00<00:00, 148.32it/s]\n",
      "100%|██████████| 64/64 [00:08<00:00,  7.79it/s]\n",
      "100%|██████████| 64/64 [00:00<00:00, 3432.99it/s]\n",
      "100%|██████████| 64/64 [00:00<00:00, 1361.25it/s]\n",
      "100%|██████████| 64/64 [00:00<00:00, 1317.66it/s]\n",
      "100%|██████████| 64/64 [00:00<00:00, 7661.92it/s]\n"
     ]
    },
    {
     "name": "stdout",
     "output_type": "stream",
     "text": [
      "(1, 3329)\n",
      "(632, 3330)\n"
     ]
    },
    {
     "name": "stderr",
     "output_type": "stream",
     "text": [
      "100%|██████████| 64/64 [00:00<00:00, 118619.29it/s]\n",
      "100%|██████████| 64/64 [00:00<00:00, 91.29it/s]\n",
      "100%|██████████| 64/64 [00:00<00:00, 92.19it/s]\n",
      "100%|██████████| 64/64 [00:00<00:00, 99.88it/s]\n",
      "100%|██████████| 64/64 [00:00<00:00, 2208.35it/s]\n",
      "100%|██████████| 64/64 [00:00<00:00, 179.28it/s]\n",
      "100%|██████████| 64/64 [00:00<00:00, 141.68it/s]\n",
      "100%|██████████| 64/64 [00:08<00:00,  7.82it/s]\n",
      "100%|██████████| 64/64 [00:00<00:00, 3500.13it/s]\n",
      "100%|██████████| 64/64 [00:00<00:00, 1419.25it/s]\n",
      "100%|██████████| 64/64 [00:00<00:00, 1288.34it/s]\n",
      "100%|██████████| 64/64 [00:00<00:00, 6402.30it/s]\n"
     ]
    },
    {
     "name": "stdout",
     "output_type": "stream",
     "text": [
      "(1, 3329)\n",
      "(633, 3330)\n"
     ]
    },
    {
     "name": "stderr",
     "output_type": "stream",
     "text": [
      "100%|██████████| 64/64 [00:00<00:00, 134284.87it/s]\n",
      "100%|██████████| 64/64 [00:00<00:00, 95.44it/s]\n",
      "100%|██████████| 64/64 [00:00<00:00, 95.52it/s]\n",
      "100%|██████████| 64/64 [00:00<00:00, 93.43it/s]\n",
      "100%|██████████| 64/64 [00:00<00:00, 2217.16it/s]\n",
      "100%|██████████| 64/64 [00:00<00:00, 178.27it/s]\n",
      "100%|██████████| 64/64 [00:00<00:00, 147.60it/s]\n",
      "100%|██████████| 64/64 [00:08<00:00,  7.72it/s]\n",
      "100%|██████████| 64/64 [00:00<00:00, 3288.96it/s]\n",
      "100%|██████████| 64/64 [00:00<00:00, 1287.99it/s]\n",
      "100%|██████████| 64/64 [00:00<00:00, 1277.56it/s]\n",
      "100%|██████████| 64/64 [00:00<00:00, 6415.61it/s]\n"
     ]
    },
    {
     "name": "stdout",
     "output_type": "stream",
     "text": [
      "(1, 3329)\n",
      "(634, 3330)\n"
     ]
    },
    {
     "name": "stderr",
     "output_type": "stream",
     "text": [
      "100%|██████████| 64/64 [00:00<00:00, 34843.65it/s]\n",
      "100%|██████████| 64/64 [00:00<00:00, 83.99it/s]\n",
      "100%|██████████| 64/64 [00:00<00:00, 90.40it/s]\n",
      "100%|██████████| 64/64 [00:00<00:00, 94.35it/s]\n",
      "100%|██████████| 64/64 [00:00<00:00, 2211.15it/s]\n",
      "100%|██████████| 64/64 [00:00<00:00, 174.00it/s]\n",
      "100%|██████████| 64/64 [00:00<00:00, 143.50it/s]\n",
      "100%|██████████| 64/64 [00:08<00:00,  7.69it/s]\n",
      "100%|██████████| 64/64 [00:00<00:00, 3323.74it/s]\n",
      "100%|██████████| 64/64 [00:00<00:00, 1364.00it/s]\n",
      "100%|██████████| 64/64 [00:00<00:00, 1190.32it/s]\n",
      "100%|██████████| 64/64 [00:00<00:00, 6548.48it/s]\n"
     ]
    },
    {
     "name": "stdout",
     "output_type": "stream",
     "text": [
      "(1, 3329)\n",
      "(635, 3330)\n"
     ]
    },
    {
     "name": "stderr",
     "output_type": "stream",
     "text": [
      "100%|██████████| 64/64 [00:00<00:00, 92119.24it/s]\n",
      "100%|██████████| 64/64 [00:00<00:00, 91.05it/s]\n",
      "100%|██████████| 64/64 [00:00<00:00, 89.65it/s]\n",
      "100%|██████████| 64/64 [00:00<00:00, 97.02it/s]\n",
      "100%|██████████| 64/64 [00:00<00:00, 2261.31it/s]\n",
      "100%|██████████| 64/64 [00:00<00:00, 176.52it/s]\n",
      "100%|██████████| 64/64 [00:00<00:00, 142.56it/s]\n",
      "100%|██████████| 64/64 [00:08<00:00,  7.72it/s]\n",
      "100%|██████████| 64/64 [00:00<00:00, 3353.35it/s]\n",
      "100%|██████████| 64/64 [00:00<00:00, 1334.52it/s]\n",
      "100%|██████████| 64/64 [00:00<00:00, 1144.13it/s]\n",
      "100%|██████████| 64/64 [00:00<00:00, 6842.26it/s]\n"
     ]
    },
    {
     "name": "stdout",
     "output_type": "stream",
     "text": [
      "(1, 3329)\n",
      "(636, 3330)\n"
     ]
    },
    {
     "name": "stderr",
     "output_type": "stream",
     "text": [
      "100%|██████████| 64/64 [00:00<00:00, 21080.21it/s]\n",
      "100%|██████████| 64/64 [00:00<00:00, 86.38it/s]\n",
      "100%|██████████| 64/64 [00:00<00:00, 91.80it/s]\n",
      "100%|██████████| 64/64 [00:00<00:00, 96.19it/s]\n",
      "100%|██████████| 64/64 [00:00<00:00, 2216.66it/s]\n",
      "100%|██████████| 64/64 [00:00<00:00, 173.82it/s]\n",
      "100%|██████████| 64/64 [00:00<00:00, 144.56it/s]\n",
      "100%|██████████| 64/64 [00:08<00:00,  7.69it/s]\n",
      "100%|██████████| 64/64 [00:00<00:00, 3335.35it/s]\n",
      "100%|██████████| 64/64 [00:00<00:00, 1339.70it/s]\n",
      "100%|██████████| 64/64 [00:00<00:00, 1271.59it/s]\n",
      "100%|██████████| 64/64 [00:00<00:00, 4437.46it/s]\n"
     ]
    },
    {
     "name": "stdout",
     "output_type": "stream",
     "text": [
      "(1, 3329)\n",
      "(637, 3330)\n"
     ]
    },
    {
     "name": "stderr",
     "output_type": "stream",
     "text": [
      "100%|██████████| 64/64 [00:00<00:00, 79348.35it/s]\n",
      "100%|██████████| 64/64 [00:00<00:00, 90.01it/s]\n",
      "100%|██████████| 64/64 [00:00<00:00, 91.40it/s]\n",
      "100%|██████████| 64/64 [00:00<00:00, 92.15it/s]\n",
      "100%|██████████| 64/64 [00:00<00:00, 2356.29it/s]\n",
      "100%|██████████| 64/64 [00:00<00:00, 180.22it/s]\n",
      "100%|██████████| 64/64 [00:00<00:00, 144.82it/s]\n",
      "100%|██████████| 64/64 [00:08<00:00,  7.69it/s]\n",
      "100%|██████████| 64/64 [00:00<00:00, 3359.90it/s]\n",
      "100%|██████████| 64/64 [00:00<00:00, 1349.36it/s]\n",
      "100%|██████████| 64/64 [00:00<00:00, 1288.14it/s]\n",
      "100%|██████████| 64/64 [00:00<00:00, 7130.90it/s]\n"
     ]
    },
    {
     "name": "stdout",
     "output_type": "stream",
     "text": [
      "(1, 3329)\n",
      "(638, 3330)\n"
     ]
    },
    {
     "name": "stderr",
     "output_type": "stream",
     "text": [
      "100%|██████████| 64/64 [00:00<00:00, 48576.81it/s]\n",
      "100%|██████████| 64/64 [00:00<00:00, 90.36it/s]\n",
      "100%|██████████| 64/64 [00:00<00:00, 92.18it/s]\n",
      "100%|██████████| 64/64 [00:00<00:00, 98.45it/s]\n",
      "100%|██████████| 64/64 [00:00<00:00, 2247.53it/s]\n",
      "100%|██████████| 64/64 [00:00<00:00, 173.29it/s]\n",
      "100%|██████████| 64/64 [00:00<00:00, 145.92it/s]\n",
      "100%|██████████| 64/64 [00:08<00:00,  7.72it/s]\n",
      "100%|██████████| 64/64 [00:00<00:00, 3447.14it/s]\n",
      "100%|██████████| 64/64 [00:00<00:00, 1306.77it/s]\n",
      "100%|██████████| 64/64 [00:00<00:00, 1276.28it/s]\n",
      "100%|██████████| 64/64 [00:00<00:00, 6380.69it/s]\n"
     ]
    },
    {
     "name": "stdout",
     "output_type": "stream",
     "text": [
      "(1, 3329)\n",
      "(639, 3330)\n"
     ]
    },
    {
     "name": "stderr",
     "output_type": "stream",
     "text": [
      "100%|██████████| 64/64 [00:00<00:00, 180764.62it/s]\n",
      "100%|██████████| 64/64 [00:00<00:00, 86.12it/s]\n",
      "100%|██████████| 64/64 [00:00<00:00, 90.15it/s]\n",
      "100%|██████████| 64/64 [00:00<00:00, 93.66it/s]\n",
      "100%|██████████| 64/64 [00:00<00:00, 2077.29it/s]\n",
      "100%|██████████| 64/64 [00:00<00:00, 178.43it/s]\n",
      "100%|██████████| 64/64 [00:00<00:00, 137.93it/s]\n",
      "100%|██████████| 64/64 [00:08<00:00,  7.72it/s]\n",
      "100%|██████████| 64/64 [00:00<00:00, 3472.69it/s]\n",
      "100%|██████████| 64/64 [00:00<00:00, 1378.53it/s]\n",
      "100%|██████████| 64/64 [00:00<00:00, 1303.30it/s]\n",
      "100%|██████████| 64/64 [00:00<00:00, 7457.16it/s]\n"
     ]
    },
    {
     "name": "stdout",
     "output_type": "stream",
     "text": [
      "(1, 3329)\n",
      "(640, 3330)\n"
     ]
    },
    {
     "name": "stderr",
     "output_type": "stream",
     "text": [
      "100%|██████████| 64/64 [00:00<00:00, 90079.01it/s]\n",
      "100%|██████████| 64/64 [00:00<00:00, 90.57it/s]\n",
      "100%|██████████| 64/64 [00:00<00:00, 92.97it/s]\n",
      "100%|██████████| 64/64 [00:00<00:00, 98.03it/s]\n",
      "100%|██████████| 64/64 [00:00<00:00, 2286.80it/s]\n",
      "100%|██████████| 64/64 [00:00<00:00, 174.97it/s]\n",
      "100%|██████████| 64/64 [00:00<00:00, 147.35it/s]\n",
      "100%|██████████| 64/64 [00:08<00:00,  7.74it/s]\n",
      "100%|██████████| 64/64 [00:00<00:00, 3413.69it/s]\n",
      "100%|██████████| 64/64 [00:00<00:00, 1189.81it/s]\n",
      "100%|██████████| 64/64 [00:00<00:00, 1215.95it/s]\n",
      "100%|██████████| 64/64 [00:00<00:00, 7219.50it/s]\n"
     ]
    },
    {
     "name": "stdout",
     "output_type": "stream",
     "text": [
      "(1, 3329)\n",
      "(641, 3330)\n"
     ]
    },
    {
     "name": "stderr",
     "output_type": "stream",
     "text": [
      "100%|██████████| 64/64 [00:00<00:00, 21073.60it/s]\n",
      "100%|██████████| 64/64 [00:00<00:00, 89.87it/s]\n",
      "100%|██████████| 64/64 [00:00<00:00, 94.72it/s]\n",
      "100%|██████████| 64/64 [00:00<00:00, 94.79it/s]\n",
      "100%|██████████| 64/64 [00:00<00:00, 2131.27it/s]\n",
      "100%|██████████| 64/64 [00:00<00:00, 183.37it/s]\n",
      "100%|██████████| 64/64 [00:00<00:00, 140.83it/s]\n",
      "100%|██████████| 64/64 [00:08<00:00,  7.74it/s]\n",
      "100%|██████████| 64/64 [00:00<00:00, 3348.04it/s]\n",
      "100%|██████████| 64/64 [00:00<00:00, 1210.91it/s]\n",
      "100%|██████████| 64/64 [00:00<00:00, 1272.24it/s]\n",
      "100%|██████████| 64/64 [00:00<00:00, 5429.19it/s]\n"
     ]
    },
    {
     "name": "stdout",
     "output_type": "stream",
     "text": [
      "(1, 3329)\n",
      "(642, 3330)\n"
     ]
    },
    {
     "name": "stderr",
     "output_type": "stream",
     "text": [
      "100%|██████████| 64/64 [00:00<00:00, 22474.50it/s]\n",
      "100%|██████████| 64/64 [00:00<00:00, 90.26it/s]\n",
      "100%|██████████| 64/64 [00:00<00:00, 93.01it/s]\n",
      "100%|██████████| 64/64 [00:00<00:00, 99.05it/s]\n",
      "100%|██████████| 64/64 [00:00<00:00, 1992.81it/s]\n",
      "100%|██████████| 64/64 [00:00<00:00, 162.86it/s]\n",
      "100%|██████████| 64/64 [00:00<00:00, 146.61it/s]\n",
      "100%|██████████| 64/64 [00:08<00:00,  7.73it/s]\n",
      "100%|██████████| 64/64 [00:00<00:00, 3301.42it/s]\n",
      "100%|██████████| 64/64 [00:00<00:00, 1340.66it/s]\n",
      "100%|██████████| 64/64 [00:00<00:00, 1324.48it/s]\n",
      "100%|██████████| 64/64 [00:00<00:00, 7849.91it/s]\n"
     ]
    },
    {
     "name": "stdout",
     "output_type": "stream",
     "text": [
      "(1, 3329)\n",
      "(643, 3330)\n"
     ]
    },
    {
     "name": "stderr",
     "output_type": "stream",
     "text": [
      "100%|██████████| 64/64 [00:00<00:00, 76455.56it/s]\n",
      "100%|██████████| 64/64 [00:00<00:00, 89.32it/s]\n",
      "100%|██████████| 64/64 [00:00<00:00, 90.08it/s]\n",
      "100%|██████████| 64/64 [00:00<00:00, 97.44it/s]\n",
      "100%|██████████| 64/64 [00:00<00:00, 2017.45it/s]\n",
      "100%|██████████| 64/64 [00:00<00:00, 180.29it/s]\n",
      "100%|██████████| 64/64 [00:00<00:00, 145.54it/s]\n",
      "100%|██████████| 64/64 [00:08<00:00,  7.61it/s]\n",
      "100%|██████████| 64/64 [00:00<00:00, 3524.86it/s]\n",
      "100%|██████████| 64/64 [00:00<00:00, 1382.22it/s]\n",
      "100%|██████████| 64/64 [00:00<00:00, 1283.27it/s]\n",
      "100%|██████████| 64/64 [00:00<00:00, 7273.29it/s]\n"
     ]
    },
    {
     "name": "stdout",
     "output_type": "stream",
     "text": [
      "(1, 3329)\n",
      "(644, 3330)\n"
     ]
    },
    {
     "name": "stderr",
     "output_type": "stream",
     "text": [
      "100%|██████████| 64/64 [00:00<00:00, 18474.57it/s]\n",
      "100%|██████████| 64/64 [00:00<00:00, 90.29it/s]\n",
      "100%|██████████| 64/64 [00:00<00:00, 92.07it/s]\n",
      "100%|██████████| 64/64 [00:00<00:00, 95.35it/s]\n",
      "100%|██████████| 64/64 [00:00<00:00, 2259.16it/s]\n",
      "100%|██████████| 64/64 [00:00<00:00, 177.07it/s]\n",
      "100%|██████████| 64/64 [00:00<00:00, 144.64it/s]\n",
      "100%|██████████| 64/64 [00:08<00:00,  7.72it/s]\n",
      "100%|██████████| 64/64 [00:00<00:00, 2974.78it/s]\n",
      "100%|██████████| 64/64 [00:00<00:00, 1355.30it/s]\n",
      "100%|██████████| 64/64 [00:00<00:00, 1299.70it/s]\n",
      "100%|██████████| 64/64 [00:00<00:00, 6702.17it/s]\n",
      "100%|██████████| 64/64 [00:00<00:00, 25345.62it/s]\n",
      " 16%|█▌        | 10/64 [00:00<00:00, 92.49it/s]"
     ]
    },
    {
     "name": "stdout",
     "output_type": "stream",
     "text": [
      "(1, 3329)\n",
      "(645, 3330)\n"
     ]
    },
    {
     "name": "stderr",
     "output_type": "stream",
     "text": [
      "100%|██████████| 64/64 [00:00<00:00, 90.14it/s]\n",
      "100%|██████████| 64/64 [00:00<00:00, 93.36it/s]\n",
      "100%|██████████| 64/64 [00:00<00:00, 98.38it/s]\n",
      "100%|██████████| 64/64 [00:00<00:00, 2213.08it/s]\n",
      "100%|██████████| 64/64 [00:00<00:00, 178.25it/s]\n",
      "100%|██████████| 64/64 [00:00<00:00, 144.43it/s]\n",
      "100%|██████████| 64/64 [00:08<00:00,  7.68it/s]\n",
      "100%|██████████| 64/64 [00:00<00:00, 3480.93it/s]\n",
      "100%|██████████| 64/64 [00:00<00:00, 1360.34it/s]\n",
      "100%|██████████| 64/64 [00:00<00:00, 1302.09it/s]\n",
      "100%|██████████| 64/64 [00:00<00:00, 7963.55it/s]\n",
      "100%|██████████| 64/64 [00:00<00:00, 81790.21it/s]\n",
      " 16%|█▌        | 10/64 [00:00<00:00, 94.12it/s]"
     ]
    },
    {
     "name": "stdout",
     "output_type": "stream",
     "text": [
      "(1, 3329)\n",
      "(646, 3330)\n"
     ]
    },
    {
     "name": "stderr",
     "output_type": "stream",
     "text": [
      "100%|██████████| 64/64 [00:00<00:00, 90.13it/s]\n",
      "100%|██████████| 64/64 [00:00<00:00, 93.28it/s]\n",
      "100%|██████████| 64/64 [00:00<00:00, 96.51it/s]\n",
      "100%|██████████| 64/64 [00:00<00:00, 2170.88it/s]\n",
      "100%|██████████| 64/64 [00:00<00:00, 175.57it/s]\n",
      "100%|██████████| 64/64 [00:00<00:00, 146.37it/s]\n",
      "100%|██████████| 64/64 [00:08<00:00,  7.67it/s]\n",
      "100%|██████████| 64/64 [00:00<00:00, 3442.32it/s]\n",
      "100%|██████████| 64/64 [00:00<00:00, 1312.82it/s]\n",
      "100%|██████████| 64/64 [00:00<00:00, 1289.82it/s]\n",
      "100%|██████████| 64/64 [00:00<00:00, 6565.30it/s]\n",
      "100%|██████████| 64/64 [00:00<00:00, 95733.04it/s]\n",
      "  0%|          | 0/64 [00:00<?, ?it/s]"
     ]
    },
    {
     "name": "stdout",
     "output_type": "stream",
     "text": [
      "(1, 3329)\n",
      "(647, 3330)\n"
     ]
    },
    {
     "name": "stderr",
     "output_type": "stream",
     "text": [
      "100%|██████████| 64/64 [00:00<00:00, 92.43it/s]\n",
      "100%|██████████| 64/64 [00:00<00:00, 95.98it/s]\n",
      "100%|██████████| 64/64 [00:00<00:00, 99.32it/s] \n",
      "100%|██████████| 64/64 [00:00<00:00, 2274.66it/s]\n",
      "100%|██████████| 64/64 [00:00<00:00, 179.98it/s]\n",
      "100%|██████████| 64/64 [00:00<00:00, 149.63it/s]\n",
      "100%|██████████| 64/64 [00:08<00:00,  7.68it/s]\n",
      "100%|██████████| 64/64 [00:00<00:00, 3491.98it/s]\n",
      "100%|██████████| 64/64 [00:00<00:00, 1363.97it/s]\n",
      "100%|██████████| 64/64 [00:00<00:00, 1331.48it/s]\n",
      "100%|██████████| 64/64 [00:00<00:00, 10073.38it/s]\n",
      "100%|██████████| 64/64 [00:00<00:00, 27534.67it/s]\n",
      " 14%|█▍        | 9/64 [00:00<00:00, 89.99it/s]"
     ]
    },
    {
     "name": "stdout",
     "output_type": "stream",
     "text": [
      "(1, 3329)\n",
      "(648, 3330)\n"
     ]
    },
    {
     "name": "stderr",
     "output_type": "stream",
     "text": [
      "100%|██████████| 64/64 [00:00<00:00, 88.02it/s]\n",
      "100%|██████████| 64/64 [00:00<00:00, 90.74it/s]\n",
      "100%|██████████| 64/64 [00:00<00:00, 96.01it/s]\n",
      "100%|██████████| 64/64 [00:00<00:00, 2151.53it/s]\n",
      "100%|██████████| 64/64 [00:00<00:00, 174.45it/s]\n",
      "100%|██████████| 64/64 [00:00<00:00, 142.09it/s]\n",
      "100%|██████████| 64/64 [00:08<00:00,  7.72it/s]\n",
      "100%|██████████| 64/64 [00:00<00:00, 2885.19it/s]\n",
      "100%|██████████| 64/64 [00:00<00:00, 1293.63it/s]\n",
      "100%|██████████| 64/64 [00:00<00:00, 1281.83it/s]\n",
      "100%|██████████| 64/64 [00:00<00:00, 7275.46it/s]\n",
      "100%|██████████| 64/64 [00:00<00:00, 74752.29it/s]\n",
      " 16%|█▌        | 10/64 [00:00<00:00, 91.11it/s]"
     ]
    },
    {
     "name": "stdout",
     "output_type": "stream",
     "text": [
      "(1, 3329)\n",
      "(649, 3330)\n"
     ]
    },
    {
     "name": "stderr",
     "output_type": "stream",
     "text": [
      "100%|██████████| 64/64 [00:00<00:00, 87.52it/s]\n",
      "100%|██████████| 64/64 [00:00<00:00, 93.72it/s]\n",
      "100%|██████████| 64/64 [00:00<00:00, 98.82it/s]\n",
      "100%|██████████| 64/64 [00:00<00:00, 2069.87it/s]\n",
      "100%|██████████| 64/64 [00:00<00:00, 177.45it/s]\n",
      "100%|██████████| 64/64 [00:00<00:00, 142.39it/s]\n",
      "100%|██████████| 64/64 [00:08<00:00,  7.69it/s]\n",
      "100%|██████████| 64/64 [00:00<00:00, 3420.61it/s]\n",
      "100%|██████████| 64/64 [00:00<00:00, 1332.35it/s]\n",
      "100%|██████████| 64/64 [00:00<00:00, 1348.68it/s]\n",
      "100%|██████████| 64/64 [00:00<00:00, 8134.16it/s]\n",
      "100%|██████████| 64/64 [00:00<00:00, 101449.53it/s]\n",
      " 14%|█▍        | 9/64 [00:00<00:00, 89.16it/s]"
     ]
    },
    {
     "name": "stdout",
     "output_type": "stream",
     "text": [
      "(1, 3329)\n",
      "(650, 3330)\n"
     ]
    },
    {
     "name": "stderr",
     "output_type": "stream",
     "text": [
      "100%|██████████| 64/64 [00:00<00:00, 89.36it/s]\n",
      "100%|██████████| 64/64 [00:00<00:00, 93.02it/s]\n",
      "100%|██████████| 64/64 [00:00<00:00, 97.12it/s]\n",
      "100%|██████████| 64/64 [00:00<00:00, 2170.03it/s]\n",
      "100%|██████████| 64/64 [00:00<00:00, 163.49it/s]\n",
      "100%|██████████| 64/64 [00:00<00:00, 133.32it/s]\n",
      "100%|██████████| 64/64 [00:08<00:00,  7.67it/s]\n",
      "100%|██████████| 64/64 [00:00<00:00, 3316.88it/s]\n",
      "100%|██████████| 64/64 [00:00<00:00, 1345.59it/s]\n",
      "100%|██████████| 64/64 [00:00<00:00, 1203.31it/s]\n",
      "100%|██████████| 64/64 [00:00<00:00, 7489.62it/s]\n",
      "100%|██████████| 64/64 [00:00<00:00, 88185.10it/s]\n",
      " 14%|█▍        | 9/64 [00:00<00:00, 88.24it/s]"
     ]
    },
    {
     "name": "stdout",
     "output_type": "stream",
     "text": [
      "(1, 3329)\n",
      "(651, 3330)\n"
     ]
    },
    {
     "name": "stderr",
     "output_type": "stream",
     "text": [
      "100%|██████████| 64/64 [00:00<00:00, 91.15it/s]\n",
      "100%|██████████| 64/64 [00:00<00:00, 92.73it/s]\n",
      "100%|██████████| 64/64 [00:00<00:00, 98.61it/s]\n",
      "100%|██████████| 64/64 [00:00<00:00, 1769.05it/s]\n",
      "100%|██████████| 64/64 [00:00<00:00, 183.62it/s]\n",
      "100%|██████████| 64/64 [00:00<00:00, 145.62it/s]\n",
      "100%|██████████| 64/64 [00:08<00:00,  7.60it/s]\n",
      "100%|██████████| 64/64 [00:00<00:00, 3401.40it/s]\n",
      "100%|██████████| 64/64 [00:00<00:00, 1253.57it/s]\n",
      "100%|██████████| 64/64 [00:00<00:00, 1314.97it/s]\n",
      "100%|██████████| 64/64 [00:00<00:00, 7348.96it/s]\n",
      "100%|██████████| 64/64 [00:00<00:00, 225008.76it/s]\n",
      " 16%|█▌        | 10/64 [00:00<00:00, 95.50it/s]"
     ]
    },
    {
     "name": "stdout",
     "output_type": "stream",
     "text": [
      "(1, 3329)\n",
      "(652, 3330)\n"
     ]
    },
    {
     "name": "stderr",
     "output_type": "stream",
     "text": [
      "100%|██████████| 64/64 [00:00<00:00, 93.61it/s]\n",
      "100%|██████████| 64/64 [00:00<00:00, 92.24it/s]\n",
      "100%|██████████| 64/64 [00:00<00:00, 95.16it/s]\n",
      "100%|██████████| 64/64 [00:00<00:00, 1834.26it/s]\n",
      "100%|██████████| 64/64 [00:00<00:00, 173.05it/s]\n",
      "100%|██████████| 64/64 [00:00<00:00, 139.64it/s]\n",
      "100%|██████████| 64/64 [00:08<00:00,  7.69it/s]\n",
      "100%|██████████| 64/64 [00:00<00:00, 3400.72it/s]\n",
      "100%|██████████| 64/64 [00:00<00:00, 1367.98it/s]\n",
      "100%|██████████| 64/64 [00:00<00:00, 1126.45it/s]\n",
      "100%|██████████| 64/64 [00:00<00:00, 6661.26it/s]\n",
      "100%|██████████| 64/64 [00:00<00:00, 80273.76it/s]\n",
      " 16%|█▌        | 10/64 [00:00<00:00, 94.32it/s]"
     ]
    },
    {
     "name": "stdout",
     "output_type": "stream",
     "text": [
      "(1, 3329)\n",
      "(653, 3330)\n"
     ]
    },
    {
     "name": "stderr",
     "output_type": "stream",
     "text": [
      "100%|██████████| 64/64 [00:00<00:00, 89.68it/s]\n",
      "100%|██████████| 64/64 [00:00<00:00, 91.34it/s]\n",
      "100%|██████████| 64/64 [00:00<00:00, 95.48it/s]\n",
      "100%|██████████| 64/64 [00:00<00:00, 2151.20it/s]\n",
      "100%|██████████| 64/64 [00:00<00:00, 175.15it/s]\n",
      "100%|██████████| 64/64 [00:00<00:00, 143.54it/s]\n",
      "100%|██████████| 64/64 [00:08<00:00,  7.67it/s]\n",
      "100%|██████████| 64/64 [00:00<00:00, 3464.00it/s]\n",
      "100%|██████████| 64/64 [00:00<00:00, 1352.07it/s]\n",
      "100%|██████████| 64/64 [00:00<00:00, 1245.10it/s]\n",
      "100%|██████████| 64/64 [00:00<00:00, 7679.90it/s]\n",
      "100%|██████████| 64/64 [00:00<00:00, 254682.60it/s]\n",
      " 14%|█▍        | 9/64 [00:00<00:00, 85.63it/s]"
     ]
    },
    {
     "name": "stdout",
     "output_type": "stream",
     "text": [
      "(1, 3329)\n",
      "(654, 3330)\n"
     ]
    },
    {
     "name": "stderr",
     "output_type": "stream",
     "text": [
      "100%|██████████| 64/64 [00:00<00:00, 85.17it/s]\n",
      "100%|██████████| 64/64 [00:00<00:00, 91.58it/s]\n",
      "100%|██████████| 64/64 [00:00<00:00, 92.09it/s]\n",
      "100%|██████████| 64/64 [00:00<00:00, 2196.47it/s]\n",
      "100%|██████████| 64/64 [00:00<00:00, 173.72it/s]\n",
      "100%|██████████| 64/64 [00:00<00:00, 149.96it/s]\n",
      "100%|██████████| 64/64 [00:08<00:00,  7.70it/s]\n",
      "100%|██████████| 64/64 [00:00<00:00, 3366.89it/s]\n",
      "100%|██████████| 64/64 [00:00<00:00, 1340.71it/s]\n",
      "100%|██████████| 64/64 [00:00<00:00, 1343.08it/s]\n",
      "100%|██████████| 64/64 [00:00<00:00, 8175.78it/s]\n",
      "100%|██████████| 64/64 [00:00<00:00, 26353.37it/s]\n",
      " 14%|█▍        | 9/64 [00:00<00:00, 86.64it/s]"
     ]
    },
    {
     "name": "stdout",
     "output_type": "stream",
     "text": [
      "(1, 3329)\n",
      "(655, 3330)\n"
     ]
    },
    {
     "name": "stderr",
     "output_type": "stream",
     "text": [
      "100%|██████████| 64/64 [00:00<00:00, 89.40it/s]\n",
      "100%|██████████| 64/64 [00:00<00:00, 90.23it/s]\n",
      "100%|██████████| 64/64 [00:00<00:00, 94.63it/s]\n",
      "100%|██████████| 64/64 [00:00<00:00, 2254.64it/s]\n",
      "100%|██████████| 64/64 [00:00<00:00, 180.99it/s]\n",
      "100%|██████████| 64/64 [00:00<00:00, 146.12it/s]\n",
      "100%|██████████| 64/64 [00:08<00:00,  7.76it/s]\n",
      "100%|██████████| 64/64 [00:00<00:00, 2731.14it/s]\n",
      "100%|██████████| 64/64 [00:00<00:00, 1339.31it/s]\n",
      "100%|██████████| 64/64 [00:00<00:00, 1291.95it/s]\n",
      "100%|██████████| 64/64 [00:00<00:00, 7262.86it/s]\n",
      "100%|██████████| 64/64 [00:00<00:00, 22968.72it/s]\n",
      " 16%|█▌        | 10/64 [00:00<00:00, 93.74it/s]"
     ]
    },
    {
     "name": "stdout",
     "output_type": "stream",
     "text": [
      "(1, 3329)\n",
      "(656, 3330)\n"
     ]
    },
    {
     "name": "stderr",
     "output_type": "stream",
     "text": [
      "100%|██████████| 64/64 [00:00<00:00, 89.79it/s]\n",
      "100%|██████████| 64/64 [00:00<00:00, 92.08it/s]\n",
      "100%|██████████| 64/64 [00:00<00:00, 97.08it/s]\n",
      "100%|██████████| 64/64 [00:00<00:00, 2209.45it/s]\n",
      "100%|██████████| 64/64 [00:00<00:00, 182.15it/s]\n",
      "100%|██████████| 64/64 [00:00<00:00, 145.61it/s]\n",
      "100%|██████████| 64/64 [00:08<00:00,  7.71it/s]\n",
      "100%|██████████| 64/64 [00:00<00:00, 3359.94it/s]\n",
      "100%|██████████| 64/64 [00:00<00:00, 1215.22it/s]\n",
      "100%|██████████| 64/64 [00:00<00:00, 1089.98it/s]\n",
      "100%|██████████| 64/64 [00:00<00:00, 6720.29it/s]\n",
      "100%|██████████| 64/64 [00:00<00:00, 34261.07it/s]\n",
      " 14%|█▍        | 9/64 [00:00<00:00, 88.21it/s]"
     ]
    },
    {
     "name": "stdout",
     "output_type": "stream",
     "text": [
      "(1, 3329)\n",
      "(657, 3330)\n"
     ]
    },
    {
     "name": "stderr",
     "output_type": "stream",
     "text": [
      "100%|██████████| 64/64 [00:00<00:00, 88.62it/s]\n",
      "100%|██████████| 64/64 [00:00<00:00, 91.33it/s]\n",
      "100%|██████████| 64/64 [00:00<00:00, 97.70it/s]\n",
      "100%|██████████| 64/64 [00:00<00:00, 1989.38it/s]\n",
      "100%|██████████| 64/64 [00:00<00:00, 169.79it/s]\n",
      "100%|██████████| 64/64 [00:00<00:00, 145.56it/s]\n",
      "100%|██████████| 64/64 [00:08<00:00,  7.72it/s]\n",
      "100%|██████████| 64/64 [00:00<00:00, 3412.65it/s]\n",
      "100%|██████████| 64/64 [00:00<00:00, 1368.99it/s]\n",
      "100%|██████████| 64/64 [00:00<00:00, 1327.69it/s]\n",
      "100%|██████████| 64/64 [00:00<00:00, 8156.90it/s]\n",
      "100%|██████████| 64/64 [00:00<00:00, 28636.17it/s]\n",
      " 16%|█▌        | 10/64 [00:00<00:00, 93.12it/s]"
     ]
    },
    {
     "name": "stdout",
     "output_type": "stream",
     "text": [
      "(1, 3329)\n",
      "(658, 3330)\n"
     ]
    },
    {
     "name": "stderr",
     "output_type": "stream",
     "text": [
      "100%|██████████| 64/64 [00:00<00:00, 89.53it/s]\n",
      "100%|██████████| 64/64 [00:00<00:00, 91.41it/s]\n",
      "100%|██████████| 64/64 [00:00<00:00, 98.18it/s]\n",
      "100%|██████████| 64/64 [00:00<00:00, 1915.03it/s]\n",
      "100%|██████████| 64/64 [00:00<00:00, 165.50it/s]\n",
      "100%|██████████| 64/64 [00:00<00:00, 137.96it/s]\n",
      "100%|██████████| 64/64 [00:08<00:00,  7.70it/s]\n",
      "100%|██████████| 64/64 [00:00<00:00, 3416.21it/s]\n",
      "100%|██████████| 64/64 [00:00<00:00, 1317.71it/s]\n",
      "100%|██████████| 64/64 [00:00<00:00, 1230.32it/s]\n",
      "100%|██████████| 64/64 [00:00<00:00, 6999.44it/s]\n",
      "100%|██████████| 64/64 [00:00<00:00, 27895.19it/s]\n",
      " 16%|█▌        | 10/64 [00:00<00:00, 91.22it/s]"
     ]
    },
    {
     "name": "stdout",
     "output_type": "stream",
     "text": [
      "(1, 3329)\n",
      "(659, 3330)\n"
     ]
    },
    {
     "name": "stderr",
     "output_type": "stream",
     "text": [
      "100%|██████████| 64/64 [00:00<00:00, 90.03it/s]\n",
      "100%|██████████| 64/64 [00:00<00:00, 92.94it/s]\n",
      "100%|██████████| 64/64 [00:00<00:00, 96.79it/s]\n",
      "100%|██████████| 64/64 [00:00<00:00, 2131.59it/s]\n",
      "100%|██████████| 64/64 [00:00<00:00, 180.29it/s]\n",
      "100%|██████████| 64/64 [00:00<00:00, 139.06it/s]\n",
      "100%|██████████| 64/64 [00:08<00:00,  7.70it/s]\n",
      "100%|██████████| 64/64 [00:00<00:00, 3437.51it/s]\n",
      "100%|██████████| 64/64 [00:00<00:00, 1374.04it/s]\n",
      "100%|██████████| 64/64 [00:00<00:00, 1342.79it/s]\n",
      "100%|██████████| 64/64 [00:00<00:00, 8603.98it/s]\n",
      "100%|██████████| 64/64 [00:00<00:00, 55982.37it/s]\n",
      " 16%|█▌        | 10/64 [00:00<00:00, 90.62it/s]"
     ]
    },
    {
     "name": "stdout",
     "output_type": "stream",
     "text": [
      "(1, 3329)\n",
      "(660, 3330)\n"
     ]
    },
    {
     "name": "stderr",
     "output_type": "stream",
     "text": [
      "100%|██████████| 64/64 [00:00<00:00, 88.94it/s]\n",
      "100%|██████████| 64/64 [00:00<00:00, 89.26it/s]\n",
      "100%|██████████| 64/64 [00:00<00:00, 96.20it/s]\n",
      "100%|██████████| 64/64 [00:00<00:00, 2204.84it/s]\n",
      "100%|██████████| 64/64 [00:00<00:00, 174.43it/s]\n",
      "100%|██████████| 64/64 [00:00<00:00, 146.14it/s]\n",
      "100%|██████████| 64/64 [00:08<00:00,  7.58it/s]\n",
      "100%|██████████| 64/64 [00:00<00:00, 3231.24it/s]\n",
      "100%|██████████| 64/64 [00:00<00:00, 1353.08it/s]\n",
      "100%|██████████| 64/64 [00:00<00:00, 1061.98it/s]\n",
      "100%|██████████| 64/64 [00:00<00:00, 6460.07it/s]\n",
      "100%|██████████| 64/64 [00:00<00:00, 22721.81it/s]\n",
      " 16%|█▌        | 10/64 [00:00<00:00, 94.20it/s]"
     ]
    },
    {
     "name": "stdout",
     "output_type": "stream",
     "text": [
      "(1, 3329)\n",
      "(661, 3330)\n"
     ]
    },
    {
     "name": "stderr",
     "output_type": "stream",
     "text": [
      "100%|██████████| 64/64 [00:00<00:00, 91.85it/s]\n",
      "100%|██████████| 64/64 [00:00<00:00, 90.39it/s]\n",
      "100%|██████████| 64/64 [00:00<00:00, 92.37it/s]\n",
      "100%|██████████| 64/64 [00:00<00:00, 2100.40it/s]\n",
      "100%|██████████| 64/64 [00:00<00:00, 176.81it/s]\n",
      "100%|██████████| 64/64 [00:00<00:00, 139.14it/s]\n",
      "100%|██████████| 64/64 [00:08<00:00,  7.67it/s]\n",
      "100%|██████████| 64/64 [00:00<00:00, 2997.30it/s]\n",
      "100%|██████████| 64/64 [00:00<00:00, 1364.97it/s]\n",
      "100%|██████████| 64/64 [00:00<00:00, 1179.04it/s]\n",
      "100%|██████████| 64/64 [00:00<00:00, 6494.77it/s]\n",
      "100%|██████████| 64/64 [00:00<00:00, 215092.51it/s]\n",
      " 16%|█▌        | 10/64 [00:00<00:00, 91.07it/s]"
     ]
    },
    {
     "name": "stdout",
     "output_type": "stream",
     "text": [
      "(1, 3329)\n",
      "(662, 3330)\n"
     ]
    },
    {
     "name": "stderr",
     "output_type": "stream",
     "text": [
      "100%|██████████| 64/64 [00:00<00:00, 90.12it/s]\n",
      "100%|██████████| 64/64 [00:00<00:00, 95.82it/s]\n",
      "100%|██████████| 64/64 [00:00<00:00, 95.62it/s]\n",
      "100%|██████████| 64/64 [00:00<00:00, 2236.61it/s]\n",
      "100%|██████████| 64/64 [00:00<00:00, 185.93it/s]\n",
      "100%|██████████| 64/64 [00:00<00:00, 142.25it/s]\n",
      "100%|██████████| 64/64 [00:08<00:00,  7.78it/s]\n",
      "100%|██████████| 64/64 [00:00<00:00, 3463.46it/s]\n",
      "100%|██████████| 64/64 [00:00<00:00, 1354.06it/s]\n",
      "100%|██████████| 64/64 [00:00<00:00, 1313.93it/s]\n",
      "100%|██████████| 64/64 [00:00<00:00, 7205.74it/s]\n",
      "100%|██████████| 64/64 [00:00<00:00, 16007.84it/s]\n",
      "  0%|          | 0/64 [00:00<?, ?it/s]"
     ]
    },
    {
     "name": "stdout",
     "output_type": "stream",
     "text": [
      "(1, 3329)\n",
      "(663, 3330)\n"
     ]
    },
    {
     "name": "stderr",
     "output_type": "stream",
     "text": [
      "100%|██████████| 64/64 [00:00<00:00, 91.52it/s]\n",
      "100%|██████████| 64/64 [00:00<00:00, 93.68it/s]\n",
      "100%|██████████| 64/64 [00:00<00:00, 99.42it/s]\n",
      "100%|██████████| 64/64 [00:00<00:00, 2297.42it/s]\n",
      "100%|██████████| 64/64 [00:00<00:00, 171.30it/s]\n",
      "100%|██████████| 64/64 [00:00<00:00, 147.48it/s]\n",
      "100%|██████████| 64/64 [00:08<00:00,  7.67it/s]\n",
      "100%|██████████| 64/64 [00:00<00:00, 3550.73it/s]\n",
      "100%|██████████| 64/64 [00:00<00:00, 1382.98it/s]\n",
      "100%|██████████| 64/64 [00:00<00:00, 1315.56it/s]\n",
      "100%|██████████| 64/64 [00:00<00:00, 5635.49it/s]\n",
      "100%|██████████| 64/64 [00:00<00:00, 83598.71it/s]\n",
      " 12%|█▎        | 8/64 [00:00<00:00, 77.74it/s]"
     ]
    },
    {
     "name": "stdout",
     "output_type": "stream",
     "text": [
      "(1, 3329)\n",
      "(664, 3330)\n"
     ]
    },
    {
     "name": "stderr",
     "output_type": "stream",
     "text": [
      "100%|██████████| 64/64 [00:00<00:00, 90.44it/s]\n",
      "100%|██████████| 64/64 [00:00<00:00, 95.58it/s]\n",
      "100%|██████████| 64/64 [00:00<00:00, 98.41it/s]\n",
      "100%|██████████| 64/64 [00:00<00:00, 2273.61it/s]\n",
      "100%|██████████| 64/64 [00:00<00:00, 183.02it/s]\n",
      "100%|██████████| 64/64 [00:00<00:00, 144.48it/s]\n",
      "100%|██████████| 64/64 [00:08<00:00,  7.66it/s]\n",
      "100%|██████████| 64/64 [00:00<00:00, 3344.28it/s]\n",
      "100%|██████████| 64/64 [00:00<00:00, 1116.64it/s]\n",
      "100%|██████████| 64/64 [00:00<00:00, 1336.16it/s]\n",
      "100%|██████████| 64/64 [00:00<00:00, 8126.04it/s]\n",
      "100%|██████████| 64/64 [00:00<00:00, 266834.45it/s]\n",
      " 16%|█▌        | 10/64 [00:00<00:00, 96.02it/s]"
     ]
    },
    {
     "name": "stdout",
     "output_type": "stream",
     "text": [
      "(1, 3329)\n",
      "(665, 3330)\n"
     ]
    },
    {
     "name": "stderr",
     "output_type": "stream",
     "text": [
      "100%|██████████| 64/64 [00:00<00:00, 92.19it/s]\n",
      "100%|██████████| 64/64 [00:00<00:00, 94.69it/s]\n",
      "100%|██████████| 64/64 [00:00<00:00, 97.66it/s]\n",
      "100%|██████████| 64/64 [00:00<00:00, 2193.14it/s]\n",
      "100%|██████████| 64/64 [00:00<00:00, 183.50it/s]\n",
      "100%|██████████| 64/64 [00:00<00:00, 150.97it/s]\n",
      "100%|██████████| 64/64 [00:08<00:00,  7.67it/s]\n",
      "100%|██████████| 64/64 [00:00<00:00, 3336.96it/s]\n",
      "100%|██████████| 64/64 [00:00<00:00, 1305.80it/s]\n",
      "100%|██████████| 64/64 [00:00<00:00, 1252.00it/s]\n",
      "100%|██████████| 64/64 [00:00<00:00, 6547.53it/s]\n",
      "100%|██████████| 64/64 [00:00<00:00, 154628.72it/s]\n",
      " 16%|█▌        | 10/64 [00:00<00:00, 91.42it/s]"
     ]
    },
    {
     "name": "stdout",
     "output_type": "stream",
     "text": [
      "(1, 3329)\n",
      "(666, 3330)\n"
     ]
    },
    {
     "name": "stderr",
     "output_type": "stream",
     "text": [
      "100%|██████████| 64/64 [00:00<00:00, 89.90it/s]\n",
      "100%|██████████| 64/64 [00:00<00:00, 92.67it/s]\n",
      "100%|██████████| 64/64 [00:00<00:00, 99.68it/s] \n",
      "100%|██████████| 64/64 [00:00<00:00, 2169.60it/s]\n",
      "100%|██████████| 64/64 [00:00<00:00, 179.08it/s]\n",
      "100%|██████████| 64/64 [00:00<00:00, 140.89it/s]\n",
      "100%|██████████| 64/64 [00:08<00:00,  7.76it/s]\n",
      "100%|██████████| 64/64 [00:00<00:00, 3435.09it/s]\n",
      "100%|██████████| 64/64 [00:00<00:00, 1362.42it/s]\n",
      "100%|██████████| 64/64 [00:00<00:00, 1325.78it/s]\n",
      "100%|██████████| 64/64 [00:00<00:00, 8508.79it/s]\n",
      "100%|██████████| 64/64 [00:00<00:00, 171196.08it/s]\n",
      " 16%|█▌        | 10/64 [00:00<00:00, 94.08it/s]"
     ]
    },
    {
     "name": "stdout",
     "output_type": "stream",
     "text": [
      "(1, 3329)\n",
      "(667, 3330)\n"
     ]
    },
    {
     "name": "stderr",
     "output_type": "stream",
     "text": [
      "100%|██████████| 64/64 [00:00<00:00, 91.60it/s]\n",
      "100%|██████████| 64/64 [00:00<00:00, 93.13it/s]\n",
      "100%|██████████| 64/64 [00:00<00:00, 93.07it/s]\n",
      "100%|██████████| 64/64 [00:00<00:00, 2134.79it/s]\n",
      "100%|██████████| 64/64 [00:00<00:00, 178.04it/s]\n",
      "100%|██████████| 64/64 [00:00<00:00, 150.58it/s]\n",
      "100%|██████████| 64/64 [00:08<00:00,  7.78it/s]\n",
      "100%|██████████| 64/64 [00:00<00:00, 3267.43it/s]\n",
      "100%|██████████| 64/64 [00:00<00:00, 1331.38it/s]\n",
      "100%|██████████| 64/64 [00:00<00:00, 1122.78it/s]\n",
      "100%|██████████| 64/64 [00:00<00:00, 5928.21it/s]\n",
      "100%|██████████| 64/64 [00:00<00:00, 24429.87it/s]\n",
      " 16%|█▌        | 10/64 [00:00<00:00, 94.67it/s]"
     ]
    },
    {
     "name": "stdout",
     "output_type": "stream",
     "text": [
      "(1, 3329)\n",
      "(668, 3330)\n"
     ]
    },
    {
     "name": "stderr",
     "output_type": "stream",
     "text": [
      "100%|██████████| 64/64 [00:00<00:00, 90.29it/s]\n",
      "100%|██████████| 64/64 [00:00<00:00, 88.56it/s]\n",
      "100%|██████████| 64/64 [00:00<00:00, 98.36it/s]\n",
      "100%|██████████| 64/64 [00:00<00:00, 2273.41it/s]\n",
      "100%|██████████| 64/64 [00:00<00:00, 178.89it/s]\n",
      "100%|██████████| 64/64 [00:00<00:00, 151.29it/s]\n",
      "100%|██████████| 64/64 [00:08<00:00,  7.70it/s]\n",
      "100%|██████████| 64/64 [00:00<00:00, 3286.95it/s]\n",
      "100%|██████████| 64/64 [00:00<00:00, 1355.30it/s]\n",
      "100%|██████████| 64/64 [00:00<00:00, 1287.47it/s]\n",
      "100%|██████████| 64/64 [00:00<00:00, 6186.86it/s]\n",
      "100%|██████████| 64/64 [00:00<00:00, 251579.62it/s]\n",
      " 16%|█▌        | 10/64 [00:00<00:00, 94.01it/s]"
     ]
    },
    {
     "name": "stdout",
     "output_type": "stream",
     "text": [
      "(1, 3329)\n",
      "(669, 3330)\n"
     ]
    },
    {
     "name": "stderr",
     "output_type": "stream",
     "text": [
      "100%|██████████| 64/64 [00:00<00:00, 91.77it/s]\n",
      "100%|██████████| 64/64 [00:00<00:00, 94.46it/s]\n",
      "100%|██████████| 64/64 [00:00<00:00, 97.42it/s]\n",
      "100%|██████████| 64/64 [00:00<00:00, 2199.98it/s]\n",
      "100%|██████████| 64/64 [00:00<00:00, 183.89it/s]\n",
      "100%|██████████| 64/64 [00:00<00:00, 144.80it/s]\n",
      "100%|██████████| 64/64 [00:08<00:00,  7.70it/s]\n",
      "100%|██████████| 64/64 [00:00<00:00, 3600.45it/s]\n",
      "100%|██████████| 64/64 [00:00<00:00, 1364.43it/s]\n",
      "100%|██████████| 64/64 [00:00<00:00, 1319.69it/s]\n",
      "100%|██████████| 64/64 [00:00<00:00, 6974.52it/s]\n",
      "100%|██████████| 64/64 [00:00<00:00, 219668.95it/s]\n",
      " 16%|█▌        | 10/64 [00:00<00:00, 93.09it/s]"
     ]
    },
    {
     "name": "stdout",
     "output_type": "stream",
     "text": [
      "(1, 3329)\n",
      "(670, 3330)\n"
     ]
    },
    {
     "name": "stderr",
     "output_type": "stream",
     "text": [
      "100%|██████████| 64/64 [00:00<00:00, 91.28it/s]\n",
      "100%|██████████| 64/64 [00:00<00:00, 93.97it/s]\n",
      "100%|██████████| 64/64 [00:00<00:00, 99.42it/s]\n",
      "100%|██████████| 64/64 [00:00<00:00, 2161.89it/s]\n",
      "100%|██████████| 64/64 [00:00<00:00, 179.57it/s]\n",
      "100%|██████████| 64/64 [00:00<00:00, 147.17it/s]\n",
      "100%|██████████| 64/64 [00:08<00:00,  7.76it/s]\n",
      "100%|██████████| 64/64 [00:00<00:00, 3371.03it/s]\n",
      "100%|██████████| 64/64 [00:00<00:00, 1187.47it/s]\n",
      "100%|██████████| 64/64 [00:00<00:00, 1325.95it/s]\n",
      "100%|██████████| 64/64 [00:00<00:00, 8225.89it/s]\n",
      "100%|██████████| 64/64 [00:00<00:00, 93336.39it/s]\n",
      " 14%|█▍        | 9/64 [00:00<00:00, 82.28it/s]"
     ]
    },
    {
     "name": "stdout",
     "output_type": "stream",
     "text": [
      "(1, 3329)\n",
      "(671, 3330)\n"
     ]
    },
    {
     "name": "stderr",
     "output_type": "stream",
     "text": [
      "100%|██████████| 64/64 [00:00<00:00, 88.05it/s]\n",
      "100%|██████████| 64/64 [00:00<00:00, 83.79it/s]\n",
      "100%|██████████| 64/64 [00:00<00:00, 92.94it/s]\n",
      "100%|██████████| 64/64 [00:00<00:00, 2235.55it/s]\n",
      "100%|██████████| 64/64 [00:00<00:00, 174.54it/s]\n",
      "100%|██████████| 64/64 [00:00<00:00, 145.46it/s]\n",
      "100%|██████████| 64/64 [00:08<00:00,  7.62it/s]\n",
      "100%|██████████| 64/64 [00:00<00:00, 3379.52it/s]\n",
      "100%|██████████| 64/64 [00:00<00:00, 1226.40it/s]\n",
      "100%|██████████| 64/64 [00:00<00:00, 1274.52it/s]\n",
      "100%|██████████| 64/64 [00:00<00:00, 7288.90it/s]\n",
      "100%|██████████| 64/64 [00:00<00:00, 28697.40it/s]\n",
      " 14%|█▍        | 9/64 [00:00<00:00, 86.64it/s]"
     ]
    },
    {
     "name": "stdout",
     "output_type": "stream",
     "text": [
      "(1, 3329)\n",
      "(672, 3330)\n"
     ]
    },
    {
     "name": "stderr",
     "output_type": "stream",
     "text": [
      "100%|██████████| 64/64 [00:00<00:00, 91.50it/s]\n",
      "100%|██████████| 64/64 [00:00<00:00, 91.94it/s]\n",
      "100%|██████████| 64/64 [00:00<00:00, 99.65it/s] \n",
      "100%|██████████| 64/64 [00:00<00:00, 2279.63it/s]\n",
      "100%|██████████| 64/64 [00:00<00:00, 178.31it/s]\n",
      "100%|██████████| 64/64 [00:00<00:00, 146.65it/s]\n",
      "100%|██████████| 64/64 [00:08<00:00,  7.66it/s]\n",
      "100%|██████████| 64/64 [00:00<00:00, 3512.77it/s]\n",
      "100%|██████████| 64/64 [00:00<00:00, 1178.20it/s]\n",
      "100%|██████████| 64/64 [00:00<00:00, 1287.45it/s]\n",
      "100%|██████████| 64/64 [00:00<00:00, 8001.53it/s]\n",
      "100%|██████████| 64/64 [00:00<00:00, 260111.88it/s]\n",
      " 16%|█▌        | 10/64 [00:00<00:00, 95.52it/s]"
     ]
    },
    {
     "name": "stdout",
     "output_type": "stream",
     "text": [
      "(1, 3329)\n",
      "(673, 3330)\n"
     ]
    },
    {
     "name": "stderr",
     "output_type": "stream",
     "text": [
      "100%|██████████| 64/64 [00:00<00:00, 93.12it/s]\n",
      "100%|██████████| 64/64 [00:00<00:00, 95.48it/s]\n",
      "100%|██████████| 64/64 [00:00<00:00, 99.90it/s]\n",
      "100%|██████████| 64/64 [00:00<00:00, 1960.66it/s]\n",
      "100%|██████████| 64/64 [00:00<00:00, 178.56it/s]\n",
      "100%|██████████| 64/64 [00:00<00:00, 145.23it/s]\n",
      "100%|██████████| 64/64 [00:08<00:00,  7.65it/s]\n",
      "100%|██████████| 64/64 [00:00<00:00, 3078.32it/s]\n",
      "100%|██████████| 64/64 [00:00<00:00, 1268.51it/s]\n",
      "100%|██████████| 64/64 [00:00<00:00, 1132.03it/s]\n",
      "100%|██████████| 64/64 [00:00<00:00, 7246.00it/s]\n",
      "100%|██████████| 64/64 [00:00<00:00, 27419.35it/s]\n",
      " 16%|█▌        | 10/64 [00:00<00:00, 94.57it/s]"
     ]
    },
    {
     "name": "stdout",
     "output_type": "stream",
     "text": [
      "(1, 3329)\n",
      "(674, 3330)\n"
     ]
    },
    {
     "name": "stderr",
     "output_type": "stream",
     "text": [
      "100%|██████████| 64/64 [00:00<00:00, 89.89it/s]\n",
      "100%|██████████| 64/64 [00:00<00:00, 96.93it/s]\n",
      "100%|██████████| 64/64 [00:00<00:00, 98.11it/s]\n",
      "100%|██████████| 64/64 [00:00<00:00, 2174.82it/s]\n",
      "100%|██████████| 64/64 [00:00<00:00, 184.35it/s]\n",
      "100%|██████████| 64/64 [00:00<00:00, 138.62it/s]\n",
      "100%|██████████| 64/64 [00:08<00:00,  7.67it/s]\n",
      "100%|██████████| 64/64 [00:00<00:00, 3502.32it/s]\n",
      "100%|██████████| 64/64 [00:00<00:00, 1327.08it/s]\n",
      "100%|██████████| 64/64 [00:00<00:00, 1347.10it/s]\n",
      "100%|██████████| 64/64 [00:00<00:00, 7832.04it/s]\n",
      "100%|██████████| 64/64 [00:00<00:00, 30604.89it/s]\n",
      " 16%|█▌        | 10/64 [00:00<00:00, 91.29it/s]"
     ]
    },
    {
     "name": "stdout",
     "output_type": "stream",
     "text": [
      "(1, 3329)\n",
      "(675, 3330)\n"
     ]
    },
    {
     "name": "stderr",
     "output_type": "stream",
     "text": [
      "100%|██████████| 64/64 [00:00<00:00, 88.68it/s]\n",
      "100%|██████████| 64/64 [00:00<00:00, 93.54it/s]\n",
      "100%|██████████| 64/64 [00:00<00:00, 96.61it/s]\n",
      "100%|██████████| 64/64 [00:00<00:00, 2265.13it/s]\n",
      "100%|██████████| 64/64 [00:00<00:00, 172.00it/s]\n",
      "100%|██████████| 64/64 [00:00<00:00, 141.63it/s]\n",
      "100%|██████████| 64/64 [00:08<00:00,  7.72it/s]\n",
      "100%|██████████| 64/64 [00:00<00:00, 3277.40it/s]\n",
      "100%|██████████| 64/64 [00:00<00:00, 1315.87it/s]\n",
      "100%|██████████| 64/64 [00:00<00:00, 1298.40it/s]\n",
      "100%|██████████| 64/64 [00:00<00:00, 7711.67it/s]\n",
      "100%|██████████| 64/64 [00:00<00:00, 133949.83it/s]\n",
      "  0%|          | 0/64 [00:00<?, ?it/s]"
     ]
    },
    {
     "name": "stdout",
     "output_type": "stream",
     "text": [
      "(1, 3329)\n",
      "(676, 3330)\n"
     ]
    },
    {
     "name": "stderr",
     "output_type": "stream",
     "text": [
      "100%|██████████| 64/64 [00:00<00:00, 87.36it/s]\n",
      "100%|██████████| 64/64 [00:00<00:00, 90.13it/s]\n",
      "100%|██████████| 64/64 [00:00<00:00, 98.16it/s]\n",
      "100%|██████████| 64/64 [00:00<00:00, 2035.21it/s]\n",
      "100%|██████████| 64/64 [00:00<00:00, 175.65it/s]\n",
      "100%|██████████| 64/64 [00:00<00:00, 142.50it/s]\n",
      "100%|██████████| 64/64 [00:08<00:00,  7.74it/s]\n",
      "100%|██████████| 64/64 [00:00<00:00, 3231.71it/s]\n",
      "100%|██████████| 64/64 [00:00<00:00, 1341.49it/s]\n",
      "100%|██████████| 64/64 [00:00<00:00, 1013.13it/s]\n",
      "100%|██████████| 64/64 [00:00<00:00, 7153.51it/s]\n",
      "100%|██████████| 64/64 [00:00<00:00, 29142.92it/s]\n",
      " 16%|█▌        | 10/64 [00:00<00:00, 94.50it/s]"
     ]
    },
    {
     "name": "stdout",
     "output_type": "stream",
     "text": [
      "(1, 3329)\n",
      "(677, 3330)\n"
     ]
    },
    {
     "name": "stderr",
     "output_type": "stream",
     "text": [
      "100%|██████████| 64/64 [00:00<00:00, 91.38it/s]\n",
      "100%|██████████| 64/64 [00:00<00:00, 92.99it/s]\n",
      "100%|██████████| 64/64 [00:00<00:00, 96.12it/s]\n",
      "100%|██████████| 64/64 [00:00<00:00, 2288.22it/s]\n",
      "100%|██████████| 64/64 [00:00<00:00, 180.48it/s]\n",
      "100%|██████████| 64/64 [00:00<00:00, 144.08it/s]\n",
      "100%|██████████| 64/64 [00:08<00:00,  7.76it/s]\n",
      "100%|██████████| 64/64 [00:00<00:00, 3503.46it/s]\n",
      "100%|██████████| 64/64 [00:00<00:00, 1337.15it/s]\n",
      "100%|██████████| 64/64 [00:00<00:00, 1316.85it/s]\n",
      "100%|██████████| 64/64 [00:00<00:00, 6422.36it/s]\n",
      "100%|██████████| 64/64 [00:00<00:00, 100612.99it/s]\n",
      "  0%|          | 0/64 [00:00<?, ?it/s]"
     ]
    },
    {
     "name": "stdout",
     "output_type": "stream",
     "text": [
      "(1, 3329)\n",
      "(678, 3330)\n"
     ]
    },
    {
     "name": "stderr",
     "output_type": "stream",
     "text": [
      "100%|██████████| 64/64 [00:00<00:00, 86.57it/s]\n",
      "100%|██████████| 64/64 [00:00<00:00, 93.53it/s]\n",
      "100%|██████████| 64/64 [00:00<00:00, 94.56it/s]\n",
      "100%|██████████| 64/64 [00:00<00:00, 2223.44it/s]\n",
      "100%|██████████| 64/64 [00:00<00:00, 173.66it/s]\n",
      "100%|██████████| 64/64 [00:00<00:00, 140.17it/s]\n",
      "100%|██████████| 64/64 [00:08<00:00,  7.65it/s]\n",
      "100%|██████████| 64/64 [00:00<00:00, 3430.75it/s]\n",
      "100%|██████████| 64/64 [00:00<00:00, 1330.90it/s]\n",
      "100%|██████████| 64/64 [00:00<00:00, 1318.37it/s]\n",
      "100%|██████████| 64/64 [00:00<00:00, 6404.59it/s]\n",
      "100%|██████████| 64/64 [00:00<00:00, 89240.51it/s]\n",
      " 16%|█▌        | 10/64 [00:00<00:00, 94.59it/s]"
     ]
    },
    {
     "name": "stdout",
     "output_type": "stream",
     "text": [
      "(1, 3329)\n",
      "(679, 3330)\n"
     ]
    },
    {
     "name": "stderr",
     "output_type": "stream",
     "text": [
      "100%|██████████| 64/64 [00:00<00:00, 92.31it/s]\n",
      "100%|██████████| 64/64 [00:00<00:00, 92.17it/s]\n",
      "100%|██████████| 64/64 [00:00<00:00, 98.45it/s]\n",
      "100%|██████████| 64/64 [00:00<00:00, 1665.39it/s]\n",
      "100%|██████████| 64/64 [00:00<00:00, 170.89it/s]\n",
      "100%|██████████| 64/64 [00:00<00:00, 148.67it/s]\n",
      "100%|██████████| 64/64 [00:08<00:00,  7.67it/s]\n",
      "100%|██████████| 64/64 [00:00<00:00, 3344.74it/s]\n",
      "100%|██████████| 64/64 [00:00<00:00, 1298.68it/s]\n",
      "100%|██████████| 64/64 [00:00<00:00, 968.82it/s]\n",
      "100%|██████████| 64/64 [00:00<00:00, 6944.21it/s]\n",
      "100%|██████████| 64/64 [00:00<00:00, 92436.45it/s]\n",
      " 16%|█▌        | 10/64 [00:00<00:00, 93.34it/s]"
     ]
    },
    {
     "name": "stdout",
     "output_type": "stream",
     "text": [
      "(1, 3329)\n",
      "(680, 3330)\n"
     ]
    },
    {
     "name": "stderr",
     "output_type": "stream",
     "text": [
      "100%|██████████| 64/64 [00:00<00:00, 93.93it/s]\n",
      "100%|██████████| 64/64 [00:00<00:00, 89.70it/s]\n",
      "100%|██████████| 64/64 [00:00<00:00, 98.26it/s]\n",
      "100%|██████████| 64/64 [00:00<00:00, 2239.91it/s]\n",
      "100%|██████████| 64/64 [00:00<00:00, 183.41it/s]\n",
      "100%|██████████| 64/64 [00:00<00:00, 149.19it/s]\n",
      "100%|██████████| 64/64 [00:08<00:00,  7.67it/s]\n",
      "100%|██████████| 64/64 [00:00<00:00, 3364.70it/s]\n",
      "100%|██████████| 64/64 [00:00<00:00, 1342.96it/s]\n",
      "100%|██████████| 64/64 [00:00<00:00, 1252.55it/s]\n",
      "100%|██████████| 64/64 [00:00<00:00, 8319.97it/s]\n",
      "100%|██████████| 64/64 [00:00<00:00, 25905.76it/s]\n",
      " 16%|█▌        | 10/64 [00:00<00:00, 91.43it/s]"
     ]
    },
    {
     "name": "stdout",
     "output_type": "stream",
     "text": [
      "(1, 3329)\n",
      "(681, 3330)\n"
     ]
    },
    {
     "name": "stderr",
     "output_type": "stream",
     "text": [
      "100%|██████████| 64/64 [00:00<00:00, 85.49it/s]\n",
      "100%|██████████| 64/64 [00:00<00:00, 94.63it/s]\n",
      "100%|██████████| 64/64 [00:00<00:00, 94.52it/s]\n",
      "100%|██████████| 64/64 [00:00<00:00, 2183.40it/s]\n",
      "100%|██████████| 64/64 [00:00<00:00, 182.76it/s]\n",
      "100%|██████████| 64/64 [00:00<00:00, 141.79it/s]\n",
      "100%|██████████| 64/64 [00:08<00:00,  7.63it/s]\n",
      "100%|██████████| 64/64 [00:00<00:00, 3344.24it/s]\n",
      "100%|██████████| 64/64 [00:00<00:00, 1379.90it/s]\n",
      "100%|██████████| 64/64 [00:00<00:00, 1310.17it/s]\n",
      "100%|██████████| 64/64 [00:00<00:00, 7856.57it/s]\n",
      "100%|██████████| 64/64 [00:00<00:00, 33550.24it/s]\n",
      " 16%|█▌        | 10/64 [00:00<00:00, 93.57it/s]"
     ]
    },
    {
     "name": "stdout",
     "output_type": "stream",
     "text": [
      "(1, 3329)\n",
      "(682, 3330)\n"
     ]
    },
    {
     "name": "stderr",
     "output_type": "stream",
     "text": [
      "100%|██████████| 64/64 [00:00<00:00, 91.57it/s]\n",
      "100%|██████████| 64/64 [00:00<00:00, 91.95it/s]\n",
      "100%|██████████| 64/64 [00:00<00:00, 99.75it/s]\n",
      "100%|██████████| 64/64 [00:00<00:00, 1880.43it/s]\n",
      "100%|██████████| 64/64 [00:00<00:00, 172.11it/s]\n",
      "100%|██████████| 64/64 [00:00<00:00, 148.09it/s]\n",
      "100%|██████████| 64/64 [00:08<00:00,  7.70it/s]\n",
      "100%|██████████| 64/64 [00:00<00:00, 3119.96it/s]\n",
      "100%|██████████| 64/64 [00:00<00:00, 1310.34it/s]\n",
      "100%|██████████| 64/64 [00:00<00:00, 1119.25it/s]\n",
      "100%|██████████| 64/64 [00:00<00:00, 6920.76it/s]\n",
      "100%|██████████| 64/64 [00:00<00:00, 263689.05it/s]\n",
      " 14%|█▍        | 9/64 [00:00<00:00, 88.91it/s]"
     ]
    },
    {
     "name": "stdout",
     "output_type": "stream",
     "text": [
      "(1, 3329)\n",
      "(683, 3330)\n"
     ]
    },
    {
     "name": "stderr",
     "output_type": "stream",
     "text": [
      "100%|██████████| 64/64 [00:00<00:00, 90.70it/s]\n",
      "100%|██████████| 64/64 [00:00<00:00, 95.71it/s]\n",
      "100%|██████████| 64/64 [00:00<00:00, 94.55it/s]\n",
      "100%|██████████| 64/64 [00:00<00:00, 1983.72it/s]\n",
      "100%|██████████| 64/64 [00:00<00:00, 179.65it/s]\n",
      "100%|██████████| 64/64 [00:00<00:00, 149.07it/s]\n",
      "100%|██████████| 64/64 [00:08<00:00,  7.73it/s]\n",
      "100%|██████████| 64/64 [00:00<00:00, 2287.15it/s]\n",
      "100%|██████████| 64/64 [00:00<00:00, 1288.52it/s]\n",
      "100%|██████████| 64/64 [00:00<00:00, 1198.55it/s]\n",
      "100%|██████████| 64/64 [00:00<00:00, 6233.99it/s]\n",
      "100%|██████████| 64/64 [00:00<00:00, 262144.00it/s]\n",
      " 16%|█▌        | 10/64 [00:00<00:00, 93.23it/s]"
     ]
    },
    {
     "name": "stdout",
     "output_type": "stream",
     "text": [
      "(1, 3329)\n",
      "(684, 3330)\n"
     ]
    },
    {
     "name": "stderr",
     "output_type": "stream",
     "text": [
      "100%|██████████| 64/64 [00:00<00:00, 90.48it/s]\n",
      "100%|██████████| 64/64 [00:00<00:00, 92.69it/s]\n",
      "100%|██████████| 64/64 [00:00<00:00, 97.70it/s]\n",
      "100%|██████████| 64/64 [00:00<00:00, 2128.19it/s]\n",
      "100%|██████████| 64/64 [00:00<00:00, 174.67it/s]\n",
      "100%|██████████| 64/64 [00:00<00:00, 142.50it/s]\n",
      "100%|██████████| 64/64 [00:08<00:00,  7.75it/s]\n",
      "100%|██████████| 64/64 [00:00<00:00, 3512.22it/s]\n",
      "100%|██████████| 64/64 [00:00<00:00, 1329.63it/s]\n",
      "100%|██████████| 64/64 [00:00<00:00, 1319.68it/s]\n",
      "100%|██████████| 64/64 [00:00<00:00, 8134.65it/s]\n",
      "100%|██████████| 64/64 [00:00<00:00, 106395.35it/s]\n",
      " 16%|█▌        | 10/64 [00:00<00:00, 92.55it/s]"
     ]
    },
    {
     "name": "stdout",
     "output_type": "stream",
     "text": [
      "(1, 3329)\n",
      "(685, 3330)\n"
     ]
    },
    {
     "name": "stderr",
     "output_type": "stream",
     "text": [
      "100%|██████████| 64/64 [00:00<00:00, 89.14it/s]\n",
      "100%|██████████| 64/64 [00:00<00:00, 92.03it/s]\n",
      "100%|██████████| 64/64 [00:00<00:00, 96.45it/s]\n",
      "100%|██████████| 64/64 [00:00<00:00, 2202.11it/s]\n",
      "100%|██████████| 64/64 [00:00<00:00, 176.31it/s]\n",
      "100%|██████████| 64/64 [00:00<00:00, 141.55it/s]\n",
      "100%|██████████| 64/64 [00:08<00:00,  7.68it/s]\n",
      "100%|██████████| 64/64 [00:00<00:00, 3461.27it/s]\n",
      "100%|██████████| 64/64 [00:00<00:00, 1362.87it/s]\n",
      "100%|██████████| 64/64 [00:00<00:00, 1275.40it/s]\n",
      "100%|██████████| 64/64 [00:00<00:00, 7744.37it/s]\n",
      "100%|██████████| 64/64 [00:00<00:00, 87752.68it/s]\n",
      "  0%|          | 0/64 [00:00<?, ?it/s]"
     ]
    },
    {
     "name": "stdout",
     "output_type": "stream",
     "text": [
      "(1, 3329)\n",
      "(686, 3330)\n"
     ]
    },
    {
     "name": "stderr",
     "output_type": "stream",
     "text": [
      "100%|██████████| 64/64 [00:00<00:00, 92.72it/s]\n",
      "100%|██████████| 64/64 [00:00<00:00, 93.56it/s]\n",
      "100%|██████████| 64/64 [00:00<00:00, 100.37it/s]\n",
      "100%|██████████| 64/64 [00:00<00:00, 2149.72it/s]\n",
      "100%|██████████| 64/64 [00:00<00:00, 183.47it/s]\n",
      "100%|██████████| 64/64 [00:00<00:00, 149.36it/s]\n",
      "100%|██████████| 64/64 [00:08<00:00,  7.72it/s]\n",
      "100%|██████████| 64/64 [00:00<00:00, 3261.75it/s]\n",
      "100%|██████████| 64/64 [00:00<00:00, 1376.39it/s]\n",
      "100%|██████████| 64/64 [00:00<00:00, 1331.65it/s]\n",
      "100%|██████████| 64/64 [00:00<00:00, 6827.81it/s]\n",
      "100%|██████████| 64/64 [00:00<00:00, 89329.60it/s]\n",
      "  0%|          | 0/64 [00:00<?, ?it/s]"
     ]
    },
    {
     "name": "stdout",
     "output_type": "stream",
     "text": [
      "(1, 3329)\n",
      "(687, 3330)\n"
     ]
    },
    {
     "name": "stderr",
     "output_type": "stream",
     "text": [
      "100%|██████████| 64/64 [00:00<00:00, 89.57it/s]\n",
      "100%|██████████| 64/64 [00:00<00:00, 95.06it/s]\n",
      "100%|██████████| 64/64 [00:00<00:00, 98.33it/s]\n",
      "100%|██████████| 64/64 [00:00<00:00, 1618.26it/s]\n",
      "100%|██████████| 64/64 [00:00<00:00, 178.83it/s]\n",
      "100%|██████████| 64/64 [00:00<00:00, 147.95it/s]\n",
      "100%|██████████| 64/64 [00:08<00:00,  7.67it/s]\n",
      "100%|██████████| 64/64 [00:00<00:00, 3027.76it/s]\n",
      "100%|██████████| 64/64 [00:00<00:00, 1336.07it/s]\n",
      "100%|██████████| 64/64 [00:00<00:00, 1330.36it/s]\n",
      "100%|██████████| 64/64 [00:00<00:00, 8049.04it/s]\n",
      "100%|██████████| 64/64 [00:00<00:00, 28584.33it/s]\n",
      " 14%|█▍        | 9/64 [00:00<00:00, 86.28it/s]"
     ]
    },
    {
     "name": "stdout",
     "output_type": "stream",
     "text": [
      "(1, 3329)\n",
      "(688, 3330)\n"
     ]
    },
    {
     "name": "stderr",
     "output_type": "stream",
     "text": [
      "100%|██████████| 64/64 [00:00<00:00, 85.24it/s]\n",
      "100%|██████████| 64/64 [00:00<00:00, 91.40it/s]\n",
      "100%|██████████| 64/64 [00:00<00:00, 97.14it/s]\n",
      "100%|██████████| 64/64 [00:00<00:00, 1985.57it/s]\n",
      "100%|██████████| 64/64 [00:00<00:00, 181.96it/s]\n",
      "100%|██████████| 64/64 [00:00<00:00, 144.39it/s]\n",
      "100%|██████████| 64/64 [00:08<00:00,  7.71it/s]\n",
      "100%|██████████| 64/64 [00:00<00:00, 3420.87it/s]\n",
      "100%|██████████| 64/64 [00:00<00:00, 1372.62it/s]\n",
      "100%|██████████| 64/64 [00:00<00:00, 1350.37it/s]\n",
      "100%|██████████| 64/64 [00:00<00:00, 7424.78it/s]\n",
      "100%|██████████| 64/64 [00:00<00:00, 46434.09it/s]\n",
      "  0%|          | 0/64 [00:00<?, ?it/s]"
     ]
    },
    {
     "name": "stdout",
     "output_type": "stream",
     "text": [
      "(1, 3329)\n",
      "(689, 3330)\n"
     ]
    },
    {
     "name": "stderr",
     "output_type": "stream",
     "text": [
      "100%|██████████| 64/64 [00:00<00:00, 91.38it/s]\n",
      "100%|██████████| 64/64 [00:00<00:00, 93.61it/s]\n",
      "100%|██████████| 64/64 [00:00<00:00, 97.09it/s]\n",
      "100%|██████████| 64/64 [00:00<00:00, 2066.43it/s]\n",
      "100%|██████████| 64/64 [00:00<00:00, 180.34it/s]\n",
      "100%|██████████| 64/64 [00:00<00:00, 144.90it/s]\n",
      "100%|██████████| 64/64 [00:08<00:00,  7.69it/s]\n",
      "100%|██████████| 64/64 [00:00<00:00, 2925.54it/s]\n",
      "100%|██████████| 64/64 [00:00<00:00, 1321.33it/s]\n",
      "100%|██████████| 64/64 [00:00<00:00, 1224.93it/s]\n",
      "100%|██████████| 64/64 [00:00<00:00, 6670.53it/s]\n",
      "100%|██████████| 64/64 [00:00<00:00, 83004.16it/s]\n",
      " 16%|█▌        | 10/64 [00:00<00:00, 95.66it/s]"
     ]
    },
    {
     "name": "stdout",
     "output_type": "stream",
     "text": [
      "(1, 3329)\n",
      "(690, 3330)\n"
     ]
    },
    {
     "name": "stderr",
     "output_type": "stream",
     "text": [
      "100%|██████████| 64/64 [00:00<00:00, 89.29it/s]\n",
      "100%|██████████| 64/64 [00:00<00:00, 92.65it/s]\n",
      "100%|██████████| 64/64 [00:00<00:00, 95.79it/s]\n",
      "100%|██████████| 64/64 [00:00<00:00, 2216.53it/s]\n",
      "100%|██████████| 64/64 [00:00<00:00, 178.68it/s]\n",
      "100%|██████████| 64/64 [00:00<00:00, 143.64it/s]\n",
      "100%|██████████| 64/64 [00:08<00:00,  7.65it/s]\n",
      "100%|██████████| 64/64 [00:00<00:00, 3477.19it/s]\n",
      "100%|██████████| 64/64 [00:00<00:00, 1283.97it/s]\n",
      "100%|██████████| 64/64 [00:00<00:00, 1060.22it/s]\n",
      "100%|██████████| 64/64 [00:00<00:00, 7396.75it/s]\n",
      "100%|██████████| 64/64 [00:00<00:00, 225197.53it/s]\n",
      " 16%|█▌        | 10/64 [00:00<00:00, 97.16it/s]"
     ]
    },
    {
     "name": "stdout",
     "output_type": "stream",
     "text": [
      "(1, 3329)\n",
      "(691, 3330)\n"
     ]
    },
    {
     "name": "stderr",
     "output_type": "stream",
     "text": [
      "100%|██████████| 64/64 [00:00<00:00, 92.14it/s]\n",
      "100%|██████████| 64/64 [00:00<00:00, 91.46it/s]\n",
      "100%|██████████| 64/64 [00:00<00:00, 99.16it/s]\n",
      "100%|██████████| 64/64 [00:00<00:00, 2172.63it/s]\n",
      "100%|██████████| 64/64 [00:00<00:00, 178.14it/s]\n",
      "100%|██████████| 64/64 [00:00<00:00, 141.94it/s]\n",
      "100%|██████████| 64/64 [00:08<00:00,  7.70it/s]\n",
      "100%|██████████| 64/64 [00:00<00:00, 3488.98it/s]\n",
      "100%|██████████| 64/64 [00:00<00:00, 1358.85it/s]\n",
      "100%|██████████| 64/64 [00:00<00:00, 1288.26it/s]\n",
      "100%|██████████| 64/64 [00:00<00:00, 2876.60it/s]\n",
      "100%|██████████| 64/64 [00:00<00:00, 243148.06it/s]\n",
      "  0%|          | 0/64 [00:00<?, ?it/s]"
     ]
    },
    {
     "name": "stdout",
     "output_type": "stream",
     "text": [
      "(1, 3329)\n",
      "(692, 3330)\n"
     ]
    },
    {
     "name": "stderr",
     "output_type": "stream",
     "text": [
      "100%|██████████| 64/64 [00:00<00:00, 93.59it/s]\n",
      "100%|██████████| 64/64 [00:00<00:00, 95.93it/s]\n",
      "100%|██████████| 64/64 [00:00<00:00, 93.39it/s]\n",
      "100%|██████████| 64/64 [00:00<00:00, 2299.45it/s]\n",
      "100%|██████████| 64/64 [00:00<00:00, 183.13it/s]\n",
      "100%|██████████| 64/64 [00:00<00:00, 144.57it/s]\n",
      "100%|██████████| 64/64 [00:08<00:00,  7.62it/s]\n",
      "100%|██████████| 64/64 [00:00<00:00, 3529.03it/s]\n",
      "100%|██████████| 64/64 [00:00<00:00, 1385.88it/s]\n",
      "100%|██████████| 64/64 [00:00<00:00, 1362.47it/s]\n",
      "100%|██████████| 64/64 [00:00<00:00, 8183.01it/s]\n",
      "100%|██████████| 64/64 [00:00<00:00, 94220.94it/s]\n",
      " 16%|█▌        | 10/64 [00:00<00:00, 94.23it/s]"
     ]
    },
    {
     "name": "stdout",
     "output_type": "stream",
     "text": [
      "(1, 3329)\n",
      "(693, 3330)\n"
     ]
    },
    {
     "name": "stderr",
     "output_type": "stream",
     "text": [
      "100%|██████████| 64/64 [00:00<00:00, 92.98it/s]\n",
      "100%|██████████| 64/64 [00:00<00:00, 93.18it/s]\n",
      "100%|██████████| 64/64 [00:00<00:00, 98.81it/s]\n",
      "100%|██████████| 64/64 [00:00<00:00, 2170.84it/s]\n",
      "100%|██████████| 64/64 [00:00<00:00, 174.78it/s]\n",
      "100%|██████████| 64/64 [00:00<00:00, 148.15it/s]\n",
      "100%|██████████| 64/64 [00:08<00:00,  7.70it/s]\n",
      "100%|██████████| 64/64 [00:00<00:00, 3466.01it/s]\n",
      "100%|██████████| 64/64 [00:00<00:00, 1149.21it/s]\n",
      "100%|██████████| 64/64 [00:00<00:00, 1116.55it/s]\n",
      "100%|██████████| 64/64 [00:00<00:00, 4035.11it/s]\n",
      "100%|██████████| 64/64 [00:00<00:00, 203206.25it/s]\n",
      "  0%|          | 0/64 [00:00<?, ?it/s]"
     ]
    },
    {
     "name": "stdout",
     "output_type": "stream",
     "text": [
      "(1, 3329)\n",
      "(694, 3330)\n"
     ]
    },
    {
     "name": "stderr",
     "output_type": "stream",
     "text": [
      "100%|██████████| 64/64 [00:00<00:00, 92.29it/s]\n",
      "100%|██████████| 64/64 [00:00<00:00, 92.34it/s]\n",
      "100%|██████████| 64/64 [00:00<00:00, 95.62it/s]\n",
      "100%|██████████| 64/64 [00:00<00:00, 2115.50it/s]\n",
      "100%|██████████| 64/64 [00:00<00:00, 176.83it/s]\n",
      "100%|██████████| 64/64 [00:00<00:00, 144.05it/s]\n",
      "100%|██████████| 64/64 [00:08<00:00,  7.76it/s]\n",
      "100%|██████████| 64/64 [00:00<00:00, 3387.33it/s]\n",
      "100%|██████████| 64/64 [00:00<00:00, 1448.32it/s]\n",
      "100%|██████████| 64/64 [00:00<00:00, 1162.50it/s]\n",
      "100%|██████████| 64/64 [00:00<00:00, 7826.79it/s]\n",
      "100%|██████████| 64/64 [00:00<00:00, 101795.77it/s]\n",
      " 16%|█▌        | 10/64 [00:00<00:00, 95.33it/s]"
     ]
    },
    {
     "name": "stdout",
     "output_type": "stream",
     "text": [
      "(1, 3329)\n",
      "(695, 3330)\n"
     ]
    },
    {
     "name": "stderr",
     "output_type": "stream",
     "text": [
      "100%|██████████| 64/64 [00:00<00:00, 92.26it/s]\n",
      "100%|██████████| 64/64 [00:00<00:00, 92.00it/s]\n",
      "100%|██████████| 64/64 [00:00<00:00, 95.56it/s]\n",
      "100%|██████████| 64/64 [00:00<00:00, 2288.06it/s]\n",
      "100%|██████████| 64/64 [00:00<00:00, 180.67it/s]\n",
      "100%|██████████| 64/64 [00:00<00:00, 146.89it/s]\n",
      "100%|██████████| 64/64 [00:08<00:00,  7.72it/s]\n",
      "100%|██████████| 64/64 [00:00<00:00, 3319.47it/s]\n",
      "100%|██████████| 64/64 [00:00<00:00, 1342.86it/s]\n",
      "100%|██████████| 64/64 [00:00<00:00, 1293.87it/s]\n",
      "100%|██████████| 64/64 [00:00<00:00, 8052.18it/s]\n",
      "100%|██████████| 64/64 [00:00<00:00, 210372.61it/s]\n",
      "  0%|          | 0/64 [00:00<?, ?it/s]"
     ]
    },
    {
     "name": "stdout",
     "output_type": "stream",
     "text": [
      "(1, 3329)\n",
      "(696, 3330)\n"
     ]
    },
    {
     "name": "stderr",
     "output_type": "stream",
     "text": [
      "100%|██████████| 64/64 [00:00<00:00, 90.12it/s]\n",
      "100%|██████████| 64/64 [00:00<00:00, 96.42it/s]\n",
      "100%|██████████| 64/64 [00:00<00:00, 95.23it/s]\n",
      "100%|██████████| 64/64 [00:00<00:00, 2296.22it/s]\n",
      "100%|██████████| 64/64 [00:00<00:00, 180.02it/s]\n",
      "100%|██████████| 64/64 [00:00<00:00, 145.66it/s]\n",
      "100%|██████████| 64/64 [00:08<00:00,  7.73it/s]\n",
      "100%|██████████| 64/64 [00:00<00:00, 3515.53it/s]\n",
      "100%|██████████| 64/64 [00:00<00:00, 1355.38it/s]\n",
      "100%|██████████| 64/64 [00:00<00:00, 1345.39it/s]\n",
      "100%|██████████| 64/64 [00:00<00:00, 5846.87it/s]\n",
      "100%|██████████| 64/64 [00:00<00:00, 17670.69it/s]\n",
      "  0%|          | 0/64 [00:00<?, ?it/s]"
     ]
    },
    {
     "name": "stdout",
     "output_type": "stream",
     "text": [
      "(1, 3329)\n",
      "(697, 3330)\n"
     ]
    },
    {
     "name": "stderr",
     "output_type": "stream",
     "text": [
      "100%|██████████| 64/64 [00:00<00:00, 87.91it/s]\n",
      "100%|██████████| 64/64 [00:00<00:00, 94.30it/s]\n",
      "100%|██████████| 64/64 [00:00<00:00, 92.38it/s]\n",
      "100%|██████████| 64/64 [00:00<00:00, 2295.48it/s]\n",
      "100%|██████████| 64/64 [00:00<00:00, 168.31it/s]\n",
      "100%|██████████| 64/64 [00:00<00:00, 149.84it/s]\n",
      "100%|██████████| 64/64 [00:08<00:00,  7.75it/s]\n",
      "100%|██████████| 64/64 [00:00<00:00, 3698.73it/s]\n",
      "100%|██████████| 64/64 [00:00<00:00, 1348.39it/s]\n",
      "100%|██████████| 64/64 [00:00<00:00, 1236.63it/s]\n",
      "100%|██████████| 64/64 [00:00<00:00, 6636.72it/s]\n",
      "100%|██████████| 64/64 [00:00<00:00, 28149.69it/s]\n",
      "  0%|          | 0/64 [00:00<?, ?it/s]"
     ]
    },
    {
     "name": "stdout",
     "output_type": "stream",
     "text": [
      "(1, 3329)\n",
      "(698, 3330)\n"
     ]
    },
    {
     "name": "stderr",
     "output_type": "stream",
     "text": [
      "100%|██████████| 64/64 [00:00<00:00, 89.75it/s]\n",
      "100%|██████████| 64/64 [00:00<00:00, 92.73it/s]\n",
      "100%|██████████| 64/64 [00:00<00:00, 99.90it/s]\n",
      "100%|██████████| 64/64 [00:00<00:00, 1366.19it/s]\n",
      "100%|██████████| 64/64 [00:00<00:00, 177.38it/s]\n",
      "100%|██████████| 64/64 [00:00<00:00, 151.19it/s]\n",
      "100%|██████████| 64/64 [00:08<00:00,  7.65it/s]\n",
      "100%|██████████| 64/64 [00:00<00:00, 1728.24it/s]\n",
      "100%|██████████| 64/64 [00:00<00:00, 1257.67it/s]\n",
      "100%|██████████| 64/64 [00:00<00:00, 1269.68it/s]\n",
      "100%|██████████| 64/64 [00:00<00:00, 6495.40it/s]\n",
      "100%|██████████| 64/64 [00:00<00:00, 87211.00it/s]\n",
      " 14%|█▍        | 9/64 [00:00<00:00, 87.99it/s]"
     ]
    },
    {
     "name": "stdout",
     "output_type": "stream",
     "text": [
      "(1, 3329)\n",
      "(699, 3330)\n"
     ]
    },
    {
     "name": "stderr",
     "output_type": "stream",
     "text": [
      "100%|██████████| 64/64 [00:00<00:00, 90.19it/s]\n",
      "100%|██████████| 64/64 [00:00<00:00, 92.32it/s]\n",
      "100%|██████████| 64/64 [00:00<00:00, 96.41it/s]\n",
      "100%|██████████| 64/64 [00:00<00:00, 2233.80it/s]\n",
      "100%|██████████| 64/64 [00:00<00:00, 179.56it/s]\n",
      "100%|██████████| 64/64 [00:00<00:00, 139.42it/s]\n",
      "100%|██████████| 64/64 [00:08<00:00,  7.62it/s]\n",
      "100%|██████████| 64/64 [00:00<00:00, 3343.74it/s]\n",
      "100%|██████████| 64/64 [00:00<00:00, 1296.60it/s]\n",
      "100%|██████████| 64/64 [00:00<00:00, 1267.34it/s]\n",
      "100%|██████████| 64/64 [00:00<00:00, 6470.82it/s]\n",
      "100%|██████████| 64/64 [00:00<00:00, 96629.03it/s]\n",
      " 16%|█▌        | 10/64 [00:00<00:00, 97.06it/s]"
     ]
    },
    {
     "name": "stdout",
     "output_type": "stream",
     "text": [
      "(1, 3329)\n",
      "(700, 3330)\n"
     ]
    },
    {
     "name": "stderr",
     "output_type": "stream",
     "text": [
      "100%|██████████| 64/64 [00:00<00:00, 90.07it/s]\n",
      "100%|██████████| 64/64 [00:00<00:00, 95.18it/s]\n",
      "100%|██████████| 64/64 [00:00<00:00, 98.21it/s]\n",
      "100%|██████████| 64/64 [00:00<00:00, 2289.41it/s]\n",
      "100%|██████████| 64/64 [00:00<00:00, 179.90it/s]\n",
      "100%|██████████| 64/64 [00:00<00:00, 147.45it/s]\n",
      "100%|██████████| 64/64 [00:08<00:00,  7.68it/s]\n",
      "100%|██████████| 64/64 [00:00<00:00, 3467.22it/s]\n",
      "100%|██████████| 64/64 [00:00<00:00, 1332.31it/s]\n",
      "100%|██████████| 64/64 [00:00<00:00, 1266.96it/s]\n",
      "100%|██████████| 64/64 [00:00<00:00, 7342.33it/s]\n",
      "100%|██████████| 64/64 [00:00<00:00, 257615.60it/s]\n",
      " 14%|█▍        | 9/64 [00:00<00:00, 85.26it/s]"
     ]
    },
    {
     "name": "stdout",
     "output_type": "stream",
     "text": [
      "(1, 3329)\n",
      "(701, 3330)\n"
     ]
    },
    {
     "name": "stderr",
     "output_type": "stream",
     "text": [
      "100%|██████████| 64/64 [00:00<00:00, 90.33it/s]\n",
      "100%|██████████| 64/64 [00:00<00:00, 93.67it/s]\n",
      "100%|██████████| 64/64 [00:00<00:00, 95.73it/s]\n",
      "100%|██████████| 64/64 [00:00<00:00, 2344.76it/s]\n",
      "100%|██████████| 64/64 [00:00<00:00, 174.64it/s]\n",
      "100%|██████████| 64/64 [00:00<00:00, 145.73it/s]\n",
      "100%|██████████| 64/64 [00:08<00:00,  7.66it/s]\n",
      "100%|██████████| 64/64 [00:00<00:00, 3326.26it/s]\n",
      "100%|██████████| 64/64 [00:00<00:00, 1333.52it/s]\n",
      "100%|██████████| 64/64 [00:00<00:00, 1249.02it/s]\n",
      "100%|██████████| 64/64 [00:00<00:00, 7670.90it/s]\n",
      "100%|██████████| 64/64 [00:00<00:00, 233828.79it/s]\n",
      " 14%|█▍        | 9/64 [00:00<00:00, 88.83it/s]"
     ]
    },
    {
     "name": "stdout",
     "output_type": "stream",
     "text": [
      "(1, 3329)\n",
      "(702, 3330)\n"
     ]
    },
    {
     "name": "stderr",
     "output_type": "stream",
     "text": [
      "100%|██████████| 64/64 [00:00<00:00, 89.64it/s]\n",
      "100%|██████████| 64/64 [00:00<00:00, 90.05it/s]\n",
      "100%|██████████| 64/64 [00:00<00:00, 98.66it/s]\n",
      "100%|██████████| 64/64 [00:00<00:00, 2046.45it/s]\n",
      "100%|██████████| 64/64 [00:00<00:00, 178.25it/s]\n",
      "100%|██████████| 64/64 [00:00<00:00, 143.16it/s]\n",
      "100%|██████████| 64/64 [00:08<00:00,  7.69it/s]\n",
      "100%|██████████| 64/64 [00:00<00:00, 3376.38it/s]\n",
      "100%|██████████| 64/64 [00:00<00:00, 1337.44it/s]\n",
      "100%|██████████| 64/64 [00:00<00:00, 1325.08it/s]\n",
      "100%|██████████| 64/64 [00:00<00:00, 8060.88it/s]\n",
      "100%|██████████| 64/64 [00:00<00:00, 29809.60it/s]\n",
      " 16%|█▌        | 10/64 [00:00<00:00, 95.97it/s]"
     ]
    },
    {
     "name": "stdout",
     "output_type": "stream",
     "text": [
      "(1, 3329)\n",
      "(703, 3330)\n"
     ]
    },
    {
     "name": "stderr",
     "output_type": "stream",
     "text": [
      "100%|██████████| 64/64 [00:00<00:00, 91.20it/s]\n",
      "100%|██████████| 64/64 [00:00<00:00, 94.80it/s]\n",
      "100%|██████████| 64/64 [00:00<00:00, 99.38it/s] \n",
      "100%|██████████| 64/64 [00:00<00:00, 2280.44it/s]\n",
      "100%|██████████| 64/64 [00:00<00:00, 166.67it/s]\n",
      "100%|██████████| 64/64 [00:00<00:00, 146.62it/s]\n",
      "100%|██████████| 64/64 [00:08<00:00,  7.69it/s]\n",
      "100%|██████████| 64/64 [00:00<00:00, 3447.36it/s]\n",
      "100%|██████████| 64/64 [00:00<00:00, 1354.35it/s]\n",
      "100%|██████████| 64/64 [00:00<00:00, 1293.48it/s]\n",
      "100%|██████████| 64/64 [00:00<00:00, 7474.19it/s]\n",
      "100%|██████████| 64/64 [00:00<00:00, 219848.86it/s]\n",
      " 14%|█▍        | 9/64 [00:00<00:00, 86.48it/s]"
     ]
    },
    {
     "name": "stdout",
     "output_type": "stream",
     "text": [
      "(1, 3329)\n",
      "(704, 3330)\n"
     ]
    },
    {
     "name": "stderr",
     "output_type": "stream",
     "text": [
      "100%|██████████| 64/64 [00:00<00:00, 90.79it/s]\n",
      "100%|██████████| 64/64 [00:00<00:00, 86.81it/s]\n",
      "100%|██████████| 64/64 [00:00<00:00, 96.15it/s]\n",
      "100%|██████████| 64/64 [00:00<00:00, 2192.38it/s]\n",
      "100%|██████████| 64/64 [00:00<00:00, 170.73it/s]\n",
      "100%|██████████| 64/64 [00:00<00:00, 142.22it/s]\n",
      "100%|██████████| 64/64 [00:08<00:00,  7.62it/s]\n",
      "100%|██████████| 64/64 [00:00<00:00, 3521.16it/s]\n",
      "100%|██████████| 64/64 [00:00<00:00, 1325.54it/s]\n",
      "100%|██████████| 64/64 [00:00<00:00, 1093.89it/s]\n",
      "100%|██████████| 64/64 [00:00<00:00, 6509.74it/s]\n",
      "100%|██████████| 64/64 [00:00<00:00, 161805.58it/s]\n",
      " 16%|█▌        | 10/64 [00:00<00:00, 96.60it/s]"
     ]
    },
    {
     "name": "stdout",
     "output_type": "stream",
     "text": [
      "(1, 3329)\n",
      "(705, 3330)\n"
     ]
    },
    {
     "name": "stderr",
     "output_type": "stream",
     "text": [
      "100%|██████████| 64/64 [00:00<00:00, 89.52it/s]\n",
      "100%|██████████| 64/64 [00:00<00:00, 97.03it/s]\n",
      "100%|██████████| 64/64 [00:00<00:00, 95.69it/s]\n",
      "100%|██████████| 64/64 [00:00<00:00, 2091.63it/s]\n",
      "100%|██████████| 64/64 [00:00<00:00, 182.03it/s]\n",
      "100%|██████████| 64/64 [00:00<00:00, 145.02it/s]\n",
      "100%|██████████| 64/64 [00:08<00:00,  7.71it/s]\n",
      "100%|██████████| 64/64 [00:00<00:00, 2750.28it/s]\n",
      "100%|██████████| 64/64 [00:00<00:00, 1327.44it/s]\n",
      "100%|██████████| 64/64 [00:00<00:00, 1292.83it/s]\n",
      "100%|██████████| 64/64 [00:00<00:00, 7842.34it/s]\n",
      "100%|██████████| 64/64 [00:00<00:00, 235883.53it/s]\n",
      " 16%|█▌        | 10/64 [00:00<00:00, 95.32it/s]"
     ]
    },
    {
     "name": "stdout",
     "output_type": "stream",
     "text": [
      "(1, 3329)\n",
      "(706, 3330)\n"
     ]
    },
    {
     "name": "stderr",
     "output_type": "stream",
     "text": [
      "100%|██████████| 64/64 [00:00<00:00, 92.05it/s]\n",
      "100%|██████████| 64/64 [00:00<00:00, 90.93it/s]\n",
      "100%|██████████| 64/64 [00:00<00:00, 99.40it/s] \n",
      "100%|██████████| 64/64 [00:00<00:00, 2157.89it/s]\n",
      "100%|██████████| 64/64 [00:00<00:00, 178.64it/s]\n",
      "100%|██████████| 64/64 [00:00<00:00, 142.93it/s]\n",
      "100%|██████████| 64/64 [00:08<00:00,  7.62it/s]\n",
      "100%|██████████| 64/64 [00:00<00:00, 3429.04it/s]\n",
      "100%|██████████| 64/64 [00:00<00:00, 1355.73it/s]\n",
      "100%|██████████| 64/64 [00:00<00:00, 1114.65it/s]\n",
      "100%|██████████| 64/64 [00:00<00:00, 6335.06it/s]\n",
      "100%|██████████| 64/64 [00:00<00:00, 93825.74it/s]\n",
      " 16%|█▌        | 10/64 [00:00<00:00, 93.73it/s]"
     ]
    },
    {
     "name": "stdout",
     "output_type": "stream",
     "text": [
      "(1, 3329)\n",
      "(707, 3330)\n"
     ]
    },
    {
     "name": "stderr",
     "output_type": "stream",
     "text": [
      "100%|██████████| 64/64 [00:00<00:00, 91.31it/s]\n",
      "100%|██████████| 64/64 [00:00<00:00, 91.32it/s]\n",
      "100%|██████████| 64/64 [00:00<00:00, 98.99it/s]\n",
      "100%|██████████| 64/64 [00:00<00:00, 2223.25it/s]\n",
      "100%|██████████| 64/64 [00:00<00:00, 172.13it/s]\n",
      "100%|██████████| 64/64 [00:00<00:00, 152.14it/s]\n",
      "100%|██████████| 64/64 [00:08<00:00,  7.76it/s]\n",
      "100%|██████████| 64/64 [00:00<00:00, 3362.17it/s]\n",
      "100%|██████████| 64/64 [00:00<00:00, 1320.77it/s]\n",
      "100%|██████████| 64/64 [00:00<00:00, 1196.01it/s]\n",
      "100%|██████████| 64/64 [00:00<00:00, 6880.31it/s]\n",
      "100%|██████████| 64/64 [00:00<00:00, 233219.34it/s]\n",
      " 14%|█▍        | 9/64 [00:00<00:00, 87.53it/s]"
     ]
    },
    {
     "name": "stdout",
     "output_type": "stream",
     "text": [
      "(1, 3329)\n",
      "(708, 3330)\n"
     ]
    },
    {
     "name": "stderr",
     "output_type": "stream",
     "text": [
      "100%|██████████| 64/64 [00:00<00:00, 90.00it/s]\n",
      "100%|██████████| 64/64 [00:00<00:00, 92.28it/s]\n",
      "100%|██████████| 64/64 [00:00<00:00, 98.62it/s]\n",
      "100%|██████████| 64/64 [00:00<00:00, 2354.08it/s]\n",
      "100%|██████████| 64/64 [00:00<00:00, 177.06it/s]\n",
      "100%|██████████| 64/64 [00:00<00:00, 145.84it/s]\n",
      "100%|██████████| 64/64 [00:08<00:00,  7.70it/s]\n",
      "100%|██████████| 64/64 [00:00<00:00, 3142.50it/s]\n",
      "100%|██████████| 64/64 [00:00<00:00, 1112.76it/s]\n",
      "100%|██████████| 64/64 [00:00<00:00, 1189.20it/s]\n",
      "100%|██████████| 64/64 [00:00<00:00, 7015.72it/s]\n",
      "100%|██████████| 64/64 [00:00<00:00, 91397.84it/s]\n",
      " 16%|█▌        | 10/64 [00:00<00:00, 92.61it/s]"
     ]
    },
    {
     "name": "stdout",
     "output_type": "stream",
     "text": [
      "(1, 3329)\n",
      "(709, 3330)\n"
     ]
    },
    {
     "name": "stderr",
     "output_type": "stream",
     "text": [
      "100%|██████████| 64/64 [00:00<00:00, 90.12it/s]\n",
      "100%|██████████| 64/64 [00:00<00:00, 92.16it/s]\n",
      "100%|██████████| 64/64 [00:00<00:00, 96.27it/s]\n",
      "100%|██████████| 64/64 [00:00<00:00, 2227.42it/s]\n",
      "100%|██████████| 64/64 [00:00<00:00, 173.88it/s]\n",
      "100%|██████████| 64/64 [00:00<00:00, 142.65it/s]\n",
      "100%|██████████| 64/64 [00:08<00:00,  7.72it/s]\n",
      "100%|██████████| 64/64 [00:00<00:00, 3407.45it/s]\n",
      "100%|██████████| 64/64 [00:00<00:00, 1322.00it/s]\n",
      "100%|██████████| 64/64 [00:00<00:00, 1215.67it/s]\n",
      "100%|██████████| 64/64 [00:00<00:00, 4122.29it/s]\n",
      "100%|██████████| 64/64 [00:00<00:00, 97329.75it/s]\n",
      "  0%|          | 0/64 [00:00<?, ?it/s]"
     ]
    },
    {
     "name": "stdout",
     "output_type": "stream",
     "text": [
      "(1, 3329)\n",
      "(710, 3330)\n"
     ]
    },
    {
     "name": "stderr",
     "output_type": "stream",
     "text": [
      "100%|██████████| 64/64 [00:00<00:00, 90.93it/s]\n",
      "100%|██████████| 64/64 [00:00<00:00, 91.90it/s]\n",
      "100%|██████████| 64/64 [00:00<00:00, 95.89it/s]\n",
      "100%|██████████| 64/64 [00:00<00:00, 2148.41it/s]\n",
      "100%|██████████| 64/64 [00:00<00:00, 173.68it/s]\n",
      "100%|██████████| 64/64 [00:00<00:00, 143.19it/s]\n",
      "100%|██████████| 64/64 [00:08<00:00,  7.72it/s]\n",
      "100%|██████████| 64/64 [00:00<00:00, 3346.95it/s]\n",
      "100%|██████████| 64/64 [00:00<00:00, 1323.18it/s]\n",
      "100%|██████████| 64/64 [00:00<00:00, 1290.85it/s]\n",
      "100%|██████████| 64/64 [00:00<00:00, 5135.55it/s]\n",
      "100%|██████████| 64/64 [00:00<00:00, 92532.04it/s]\n",
      "  0%|          | 0/64 [00:00<?, ?it/s]"
     ]
    },
    {
     "name": "stdout",
     "output_type": "stream",
     "text": [
      "(1, 3329)\n",
      "(711, 3330)\n"
     ]
    },
    {
     "name": "stderr",
     "output_type": "stream",
     "text": [
      "100%|██████████| 64/64 [00:00<00:00, 86.69it/s]\n",
      "100%|██████████| 64/64 [00:00<00:00, 89.66it/s]\n",
      "100%|██████████| 64/64 [00:00<00:00, 95.24it/s]\n",
      "100%|██████████| 64/64 [00:00<00:00, 1869.63it/s]\n",
      "100%|██████████| 64/64 [00:00<00:00, 167.82it/s]\n",
      "100%|██████████| 64/64 [00:00<00:00, 144.70it/s]\n",
      "100%|██████████| 64/64 [00:08<00:00,  7.75it/s]\n",
      "100%|██████████| 64/64 [00:00<00:00, 3434.65it/s]\n",
      "100%|██████████| 64/64 [00:00<00:00, 1411.67it/s]\n",
      "100%|██████████| 64/64 [00:00<00:00, 1276.20it/s]\n",
      "100%|██████████| 64/64 [00:00<00:00, 8018.02it/s]\n",
      "100%|██████████| 64/64 [00:00<00:00, 83081.23it/s]\n",
      "  0%|          | 0/64 [00:00<?, ?it/s]"
     ]
    },
    {
     "name": "stdout",
     "output_type": "stream",
     "text": [
      "(1, 3329)\n",
      "(712, 3330)\n"
     ]
    },
    {
     "name": "stderr",
     "output_type": "stream",
     "text": [
      "100%|██████████| 64/64 [00:00<00:00, 91.34it/s]\n",
      "100%|██████████| 64/64 [00:00<00:00, 94.64it/s]\n",
      "100%|██████████| 64/64 [00:00<00:00, 97.82it/s]\n",
      "100%|██████████| 64/64 [00:00<00:00, 2229.99it/s]\n",
      "100%|██████████| 64/64 [00:00<00:00, 179.12it/s]\n",
      "100%|██████████| 64/64 [00:00<00:00, 154.28it/s]\n",
      "100%|██████████| 64/64 [00:08<00:00,  7.59it/s]\n",
      "100%|██████████| 64/64 [00:00<00:00, 2981.36it/s]\n",
      "100%|██████████| 64/64 [00:00<00:00, 1351.15it/s]\n",
      "100%|██████████| 64/64 [00:00<00:00, 1155.10it/s]\n",
      "100%|██████████| 64/64 [00:00<00:00, 8281.47it/s]\n",
      "100%|██████████| 64/64 [00:00<00:00, 109699.82it/s]\n",
      " 16%|█▌        | 10/64 [00:00<00:00, 93.69it/s]"
     ]
    },
    {
     "name": "stdout",
     "output_type": "stream",
     "text": [
      "(1, 3329)\n",
      "(713, 3330)\n"
     ]
    },
    {
     "name": "stderr",
     "output_type": "stream",
     "text": [
      "100%|██████████| 64/64 [00:00<00:00, 91.28it/s]\n",
      "100%|██████████| 64/64 [00:00<00:00, 94.42it/s]\n",
      "100%|██████████| 64/64 [00:00<00:00, 95.56it/s]\n",
      "100%|██████████| 64/64 [00:00<00:00, 2206.98it/s]\n",
      "100%|██████████| 64/64 [00:00<00:00, 182.63it/s]\n",
      "100%|██████████| 64/64 [00:00<00:00, 144.08it/s]\n",
      "100%|██████████| 64/64 [00:08<00:00,  7.68it/s]\n",
      "100%|██████████| 64/64 [00:00<00:00, 3386.51it/s]\n",
      "100%|██████████| 64/64 [00:00<00:00, 1244.06it/s]\n",
      "100%|██████████| 64/64 [00:00<00:00, 1213.15it/s]\n",
      "100%|██████████| 64/64 [00:00<00:00, 6905.63it/s]\n",
      "100%|██████████| 64/64 [00:00<00:00, 234441.45it/s]\n",
      " 16%|█▌        | 10/64 [00:00<00:00, 96.56it/s]"
     ]
    },
    {
     "name": "stdout",
     "output_type": "stream",
     "text": [
      "(1, 3329)\n",
      "(714, 3330)\n"
     ]
    },
    {
     "name": "stderr",
     "output_type": "stream",
     "text": [
      "100%|██████████| 64/64 [00:00<00:00, 90.57it/s]\n",
      "100%|██████████| 64/64 [00:00<00:00, 91.96it/s]\n",
      "100%|██████████| 64/64 [00:00<00:00, 95.43it/s]\n",
      "100%|██████████| 64/64 [00:00<00:00, 2344.17it/s]\n",
      "100%|██████████| 64/64 [00:00<00:00, 173.95it/s]\n",
      "100%|██████████| 64/64 [00:00<00:00, 146.55it/s]\n",
      "100%|██████████| 64/64 [00:08<00:00,  7.68it/s]\n",
      "100%|██████████| 64/64 [00:00<00:00, 2930.87it/s]\n",
      "100%|██████████| 64/64 [00:00<00:00, 1340.49it/s]\n",
      "100%|██████████| 64/64 [00:00<00:00, 1250.19it/s]\n",
      "100%|██████████| 64/64 [00:00<00:00, 7759.37it/s]\n",
      "100%|██████████| 64/64 [00:00<00:00, 75318.59it/s]\n",
      " 14%|█▍        | 9/64 [00:00<00:00, 85.92it/s]"
     ]
    },
    {
     "name": "stdout",
     "output_type": "stream",
     "text": [
      "(1, 3329)\n",
      "(715, 3330)\n"
     ]
    },
    {
     "name": "stderr",
     "output_type": "stream",
     "text": [
      "100%|██████████| 64/64 [00:00<00:00, 90.12it/s]\n",
      "100%|██████████| 64/64 [00:00<00:00, 89.93it/s]\n",
      "100%|██████████| 64/64 [00:00<00:00, 99.07it/s]\n",
      "100%|██████████| 64/64 [00:00<00:00, 2163.74it/s]\n",
      "100%|██████████| 64/64 [00:00<00:00, 174.85it/s]\n",
      "100%|██████████| 64/64 [00:00<00:00, 138.63it/s]\n",
      "100%|██████████| 64/64 [00:08<00:00,  7.68it/s]\n",
      "100%|██████████| 64/64 [00:00<00:00, 2848.88it/s]\n",
      "100%|██████████| 64/64 [00:00<00:00, 1186.58it/s]\n",
      "100%|██████████| 64/64 [00:00<00:00, 1198.77it/s]\n",
      "100%|██████████| 64/64 [00:00<00:00, 6297.61it/s]\n",
      "100%|██████████| 64/64 [00:00<00:00, 234441.45it/s]\n",
      " 16%|█▌        | 10/64 [00:00<00:00, 95.68it/s]"
     ]
    },
    {
     "name": "stdout",
     "output_type": "stream",
     "text": [
      "(1, 3329)\n",
      "(716, 3330)\n"
     ]
    },
    {
     "name": "stderr",
     "output_type": "stream",
     "text": [
      "100%|██████████| 64/64 [00:00<00:00, 91.07it/s]\n",
      "100%|██████████| 64/64 [00:00<00:00, 92.21it/s]\n",
      "100%|██████████| 64/64 [00:00<00:00, 94.03it/s]\n",
      "100%|██████████| 64/64 [00:00<00:00, 2342.04it/s]\n",
      "100%|██████████| 64/64 [00:00<00:00, 184.65it/s]\n",
      "100%|██████████| 64/64 [00:00<00:00, 143.00it/s]\n",
      "100%|██████████| 64/64 [00:08<00:00,  7.70it/s]\n",
      "100%|██████████| 64/64 [00:00<00:00, 3026.53it/s]\n",
      "100%|██████████| 64/64 [00:00<00:00, 1338.80it/s]\n",
      "100%|██████████| 64/64 [00:00<00:00, 1332.44it/s]\n",
      "100%|██████████| 64/64 [00:00<00:00, 7143.23it/s]\n",
      "100%|██████████| 64/64 [00:00<00:00, 81442.80it/s]\n",
      " 16%|█▌        | 10/64 [00:00<00:00, 96.07it/s]"
     ]
    },
    {
     "name": "stdout",
     "output_type": "stream",
     "text": [
      "(1, 3329)\n",
      "(717, 3330)\n"
     ]
    },
    {
     "name": "stderr",
     "output_type": "stream",
     "text": [
      "100%|██████████| 64/64 [00:00<00:00, 90.34it/s]\n",
      "100%|██████████| 64/64 [00:00<00:00, 89.36it/s]\n",
      "100%|██████████| 64/64 [00:00<00:00, 97.01it/s]\n",
      "100%|██████████| 64/64 [00:00<00:00, 2154.59it/s]\n",
      "100%|██████████| 64/64 [00:00<00:00, 169.14it/s]\n",
      "100%|██████████| 64/64 [00:00<00:00, 143.45it/s]\n",
      "100%|██████████| 64/64 [00:08<00:00,  7.70it/s]\n",
      "100%|██████████| 64/64 [00:00<00:00, 3540.85it/s]\n",
      "100%|██████████| 64/64 [00:00<00:00, 1297.12it/s]\n",
      "100%|██████████| 64/64 [00:00<00:00, 1282.45it/s]\n",
      "100%|██████████| 64/64 [00:00<00:00, 7258.15it/s]\n",
      "100%|██████████| 64/64 [00:00<00:00, 234851.67it/s]\n",
      " 14%|█▍        | 9/64 [00:00<00:00, 88.01it/s]"
     ]
    },
    {
     "name": "stdout",
     "output_type": "stream",
     "text": [
      "(1, 3329)\n",
      "(718, 3330)\n"
     ]
    },
    {
     "name": "stderr",
     "output_type": "stream",
     "text": [
      "100%|██████████| 64/64 [00:00<00:00, 84.07it/s]\n",
      "100%|██████████| 64/64 [00:00<00:00, 91.53it/s]\n",
      "100%|██████████| 64/64 [00:00<00:00, 97.18it/s]\n",
      "100%|██████████| 64/64 [00:00<00:00, 2180.84it/s]\n",
      "100%|██████████| 64/64 [00:00<00:00, 169.09it/s]\n",
      "100%|██████████| 64/64 [00:00<00:00, 143.14it/s]\n",
      "100%|██████████| 64/64 [00:08<00:00,  7.73it/s]\n",
      "100%|██████████| 64/64 [00:00<00:00, 3514.80it/s]\n",
      "100%|██████████| 64/64 [00:00<00:00, 1306.93it/s]\n",
      "100%|██████████| 64/64 [00:00<00:00, 1154.38it/s]\n",
      "100%|██████████| 64/64 [00:00<00:00, 8100.29it/s]\n",
      "100%|██████████| 64/64 [00:00<00:00, 206647.77it/s]\n",
      " 16%|█▌        | 10/64 [00:00<00:00, 97.15it/s]"
     ]
    },
    {
     "name": "stdout",
     "output_type": "stream",
     "text": [
      "(1, 3329)\n",
      "(719, 3330)\n"
     ]
    },
    {
     "name": "stderr",
     "output_type": "stream",
     "text": [
      "100%|██████████| 64/64 [00:00<00:00, 93.40it/s]\n",
      "100%|██████████| 64/64 [00:00<00:00, 94.06it/s]\n",
      "100%|██████████| 64/64 [00:00<00:00, 98.15it/s]\n",
      "100%|██████████| 64/64 [00:00<00:00, 2265.66it/s]\n",
      "100%|██████████| 64/64 [00:00<00:00, 176.69it/s]\n",
      "100%|██████████| 64/64 [00:00<00:00, 144.44it/s]\n",
      "100%|██████████| 64/64 [00:08<00:00,  7.66it/s]\n",
      "100%|██████████| 64/64 [00:00<00:00, 3424.49it/s]\n",
      "100%|██████████| 64/64 [00:00<00:00, 1370.39it/s]\n",
      "100%|██████████| 64/64 [00:00<00:00, 1343.06it/s]\n",
      "100%|██████████| 64/64 [00:00<00:00, 6537.64it/s]\n",
      "100%|██████████| 64/64 [00:00<00:00, 82216.07it/s]\n",
      " 16%|█▌        | 10/64 [00:00<00:00, 92.83it/s]"
     ]
    },
    {
     "name": "stdout",
     "output_type": "stream",
     "text": [
      "(1, 3329)\n",
      "(720, 3330)\n"
     ]
    },
    {
     "name": "stderr",
     "output_type": "stream",
     "text": [
      "100%|██████████| 64/64 [00:00<00:00, 87.99it/s]\n",
      "100%|██████████| 64/64 [00:00<00:00, 95.87it/s]\n",
      "100%|██████████| 64/64 [00:00<00:00, 96.34it/s]\n",
      "100%|██████████| 64/64 [00:00<00:00, 2285.02it/s]\n",
      "100%|██████████| 64/64 [00:00<00:00, 181.64it/s]\n",
      "100%|██████████| 64/64 [00:00<00:00, 141.93it/s]\n",
      "100%|██████████| 64/64 [00:08<00:00,  7.65it/s]\n",
      "100%|██████████| 64/64 [00:00<00:00, 3087.70it/s]\n",
      "100%|██████████| 64/64 [00:00<00:00, 1339.51it/s]\n",
      "100%|██████████| 64/64 [00:00<00:00, 1357.59it/s]\n",
      "100%|██████████| 64/64 [00:00<00:00, 8005.35it/s]\n",
      "100%|██████████| 64/64 [00:00<00:00, 25838.43it/s]\n",
      " 14%|█▍        | 9/64 [00:00<00:00, 89.09it/s]"
     ]
    },
    {
     "name": "stdout",
     "output_type": "stream",
     "text": [
      "(1, 3329)\n",
      "(721, 3330)\n"
     ]
    },
    {
     "name": "stderr",
     "output_type": "stream",
     "text": [
      "100%|██████████| 64/64 [00:00<00:00, 91.53it/s]\n",
      "100%|██████████| 64/64 [00:00<00:00, 92.82it/s]\n",
      "100%|██████████| 64/64 [00:00<00:00, 100.00it/s]\n",
      "100%|██████████| 64/64 [00:00<00:00, 2111.45it/s]\n",
      "100%|██████████| 64/64 [00:00<00:00, 174.31it/s]\n",
      "100%|██████████| 64/64 [00:00<00:00, 150.45it/s]\n",
      "100%|██████████| 64/64 [00:08<00:00,  7.76it/s]\n",
      "100%|██████████| 64/64 [00:00<00:00, 3359.14it/s]\n",
      "100%|██████████| 64/64 [00:00<00:00, 1359.62it/s]\n",
      "100%|██████████| 64/64 [00:00<00:00, 1132.92it/s]\n",
      "100%|██████████| 64/64 [00:00<00:00, 7929.68it/s]\n",
      "100%|██████████| 64/64 [00:00<00:00, 209224.83it/s]\n",
      "  0%|          | 0/64 [00:00<?, ?it/s]"
     ]
    },
    {
     "name": "stdout",
     "output_type": "stream",
     "text": [
      "(1, 3329)\n",
      "(722, 3330)\n"
     ]
    },
    {
     "name": "stderr",
     "output_type": "stream",
     "text": [
      "100%|██████████| 64/64 [00:00<00:00, 89.77it/s]\n",
      "100%|██████████| 64/64 [00:00<00:00, 93.09it/s]\n",
      "100%|██████████| 64/64 [00:00<00:00, 99.08it/s]\n",
      "100%|██████████| 64/64 [00:00<00:00, 2332.36it/s]\n",
      "100%|██████████| 64/64 [00:00<00:00, 178.87it/s]\n",
      "100%|██████████| 64/64 [00:00<00:00, 147.64it/s]\n",
      "100%|██████████| 64/64 [00:08<00:00,  7.70it/s]\n",
      "100%|██████████| 64/64 [00:00<00:00, 2795.42it/s]\n",
      "100%|██████████| 64/64 [00:00<00:00, 1215.98it/s]\n",
      "100%|██████████| 64/64 [00:00<00:00, 1098.20it/s]\n",
      "100%|██████████| 64/64 [00:00<00:00, 5945.41it/s]\n",
      "100%|██████████| 64/64 [00:00<00:00, 213044.01it/s]\n",
      " 16%|█▌        | 10/64 [00:00<00:00, 94.40it/s]"
     ]
    },
    {
     "name": "stdout",
     "output_type": "stream",
     "text": [
      "(1, 3329)\n",
      "(723, 3330)\n"
     ]
    },
    {
     "name": "stderr",
     "output_type": "stream",
     "text": [
      "100%|██████████| 64/64 [00:00<00:00, 91.71it/s]\n",
      "100%|██████████| 64/64 [00:00<00:00, 95.65it/s]\n",
      "100%|██████████| 64/64 [00:00<00:00, 96.27it/s]\n",
      "100%|██████████| 64/64 [00:00<00:00, 2159.68it/s]\n",
      "100%|██████████| 64/64 [00:00<00:00, 183.92it/s]\n",
      "100%|██████████| 64/64 [00:00<00:00, 145.18it/s]\n",
      "100%|██████████| 64/64 [00:08<00:00,  7.60it/s]\n",
      "100%|██████████| 64/64 [00:00<00:00, 3546.09it/s]\n",
      "100%|██████████| 64/64 [00:00<00:00, 1349.70it/s]\n",
      "100%|██████████| 64/64 [00:00<00:00, 1353.92it/s]\n",
      "100%|██████████| 64/64 [00:00<00:00, 7370.35it/s]\n",
      "100%|██████████| 64/64 [00:00<00:00, 238609.29it/s]\n",
      " 14%|█▍        | 9/64 [00:00<00:00, 87.35it/s]"
     ]
    },
    {
     "name": "stdout",
     "output_type": "stream",
     "text": [
      "(1, 3329)\n",
      "(724, 3330)\n"
     ]
    },
    {
     "name": "stderr",
     "output_type": "stream",
     "text": [
      "100%|██████████| 64/64 [00:00<00:00, 88.45it/s]\n",
      "100%|██████████| 64/64 [00:00<00:00, 95.06it/s]\n",
      "100%|██████████| 64/64 [00:00<00:00, 97.73it/s]\n",
      "100%|██████████| 64/64 [00:00<00:00, 2269.09it/s]\n",
      "100%|██████████| 64/64 [00:00<00:00, 173.91it/s]\n",
      "100%|██████████| 64/64 [00:00<00:00, 144.52it/s]\n",
      "100%|██████████| 64/64 [00:08<00:00,  7.66it/s]\n",
      "100%|██████████| 64/64 [00:00<00:00, 3301.63it/s]\n",
      "100%|██████████| 64/64 [00:00<00:00, 1106.53it/s]\n",
      "100%|██████████| 64/64 [00:00<00:00, 1297.64it/s]\n",
      "100%|██████████| 64/64 [00:00<00:00, 7160.76it/s]\n",
      "100%|██████████| 64/64 [00:00<00:00, 151401.84it/s]\n",
      " 16%|█▌        | 10/64 [00:00<00:00, 91.84it/s]"
     ]
    },
    {
     "name": "stdout",
     "output_type": "stream",
     "text": [
      "(1, 3329)\n",
      "(725, 3330)\n"
     ]
    },
    {
     "name": "stderr",
     "output_type": "stream",
     "text": [
      "100%|██████████| 64/64 [00:00<00:00, 86.39it/s]\n",
      "100%|██████████| 64/64 [00:00<00:00, 91.84it/s]\n",
      "100%|██████████| 64/64 [00:00<00:00, 96.66it/s]\n",
      "100%|██████████| 64/64 [00:00<00:00, 2180.26it/s]\n",
      "100%|██████████| 64/64 [00:00<00:00, 176.21it/s]\n",
      "100%|██████████| 64/64 [00:00<00:00, 144.27it/s]\n",
      "100%|██████████| 64/64 [00:08<00:00,  7.80it/s]\n",
      "100%|██████████| 64/64 [00:00<00:00, 2827.36it/s]\n",
      "100%|██████████| 64/64 [00:00<00:00, 1297.97it/s]\n",
      "100%|██████████| 64/64 [00:00<00:00, 1265.50it/s]\n",
      "100%|██████████| 64/64 [00:00<00:00, 5060.81it/s]\n",
      "100%|██████████| 64/64 [00:00<00:00, 148717.70it/s]\n",
      "  0%|          | 0/64 [00:00<?, ?it/s]"
     ]
    },
    {
     "name": "stdout",
     "output_type": "stream",
     "text": [
      "(1, 3329)\n",
      "(726, 3330)\n"
     ]
    },
    {
     "name": "stderr",
     "output_type": "stream",
     "text": [
      "100%|██████████| 64/64 [00:00<00:00, 91.71it/s]\n",
      "100%|██████████| 64/64 [00:00<00:00, 95.11it/s]\n",
      "100%|██████████| 64/64 [00:00<00:00, 96.04it/s]\n",
      "100%|██████████| 64/64 [00:00<00:00, 2265.64it/s]\n",
      "100%|██████████| 64/64 [00:00<00:00, 180.53it/s]\n",
      "100%|██████████| 64/64 [00:00<00:00, 143.95it/s]\n",
      "100%|██████████| 64/64 [00:08<00:00,  7.60it/s]\n",
      "100%|██████████| 64/64 [00:00<00:00, 3397.01it/s]\n",
      "100%|██████████| 64/64 [00:00<00:00, 1376.30it/s]\n",
      "100%|██████████| 64/64 [00:00<00:00, 1192.52it/s]\n",
      "100%|██████████| 64/64 [00:00<00:00, 6973.07it/s]\n",
      "100%|██████████| 64/64 [00:00<00:00, 250406.21it/s]\n",
      " 14%|█▍        | 9/64 [00:00<00:00, 88.55it/s]"
     ]
    },
    {
     "name": "stdout",
     "output_type": "stream",
     "text": [
      "(1, 3329)\n",
      "(727, 3330)\n"
     ]
    },
    {
     "name": "stderr",
     "output_type": "stream",
     "text": [
      "100%|██████████| 64/64 [00:00<00:00, 88.69it/s]\n",
      "100%|██████████| 64/64 [00:00<00:00, 89.40it/s]\n",
      "100%|██████████| 64/64 [00:00<00:00, 96.90it/s]\n",
      "100%|██████████| 64/64 [00:00<00:00, 1982.04it/s]\n",
      "100%|██████████| 64/64 [00:00<00:00, 177.82it/s]\n",
      "100%|██████████| 64/64 [00:00<00:00, 141.15it/s]\n",
      "100%|██████████| 64/64 [00:08<00:00,  7.64it/s]\n",
      "100%|██████████| 64/64 [00:00<00:00, 3387.33it/s]\n",
      "100%|██████████| 64/64 [00:00<00:00, 1279.45it/s]\n",
      "100%|██████████| 64/64 [00:00<00:00, 1334.80it/s]\n",
      "100%|██████████| 64/64 [00:00<00:00, 8155.41it/s]\n",
      "100%|██████████| 64/64 [00:00<00:00, 24003.89it/s]\n",
      " 16%|█▌        | 10/64 [00:00<00:00, 95.28it/s]"
     ]
    },
    {
     "name": "stdout",
     "output_type": "stream",
     "text": [
      "(1, 3329)\n",
      "(728, 3330)\n"
     ]
    },
    {
     "name": "stderr",
     "output_type": "stream",
     "text": [
      "100%|██████████| 64/64 [00:00<00:00, 91.46it/s]\n",
      "100%|██████████| 64/64 [00:00<00:00, 92.17it/s]\n",
      "100%|██████████| 64/64 [00:00<00:00, 96.97it/s]\n",
      "100%|██████████| 64/64 [00:00<00:00, 2223.05it/s]\n",
      "100%|██████████| 64/64 [00:00<00:00, 176.71it/s]\n",
      "100%|██████████| 64/64 [00:00<00:00, 141.54it/s]\n",
      "100%|██████████| 64/64 [00:08<00:00,  7.66it/s]\n",
      "100%|██████████| 64/64 [00:00<00:00, 3369.47it/s]\n",
      "100%|██████████| 64/64 [00:00<00:00, 1277.64it/s]\n",
      "100%|██████████| 64/64 [00:00<00:00, 1229.91it/s]\n",
      "100%|██████████| 64/64 [00:00<00:00, 8130.71it/s]\n",
      "100%|██████████| 64/64 [00:00<00:00, 87810.09it/s]\n",
      "  0%|          | 0/64 [00:00<?, ?it/s]"
     ]
    },
    {
     "name": "stdout",
     "output_type": "stream",
     "text": [
      "(1, 3329)\n",
      "(729, 3330)\n"
     ]
    },
    {
     "name": "stderr",
     "output_type": "stream",
     "text": [
      "100%|██████████| 64/64 [00:00<00:00, 89.54it/s]\n",
      "100%|██████████| 64/64 [00:00<00:00, 90.07it/s]\n",
      "100%|██████████| 64/64 [00:00<00:00, 99.31it/s]\n",
      "100%|██████████| 64/64 [00:00<00:00, 2089.15it/s]\n",
      "100%|██████████| 64/64 [00:00<00:00, 162.24it/s]\n",
      "100%|██████████| 64/64 [00:00<00:00, 146.35it/s]\n",
      "100%|██████████| 64/64 [00:08<00:00,  7.77it/s]\n",
      "100%|██████████| 64/64 [00:00<00:00, 3578.33it/s]\n",
      "100%|██████████| 64/64 [00:00<00:00, 1318.91it/s]\n",
      "100%|██████████| 64/64 [00:00<00:00, 1253.18it/s]\n",
      "100%|██████████| 64/64 [00:00<00:00, 6825.73it/s]\n",
      "100%|██████████| 64/64 [00:00<00:00, 241833.74it/s]\n",
      "  0%|          | 0/64 [00:00<?, ?it/s]"
     ]
    },
    {
     "name": "stdout",
     "output_type": "stream",
     "text": [
      "(1, 3329)\n",
      "(730, 3330)\n"
     ]
    },
    {
     "name": "stderr",
     "output_type": "stream",
     "text": [
      "100%|██████████| 64/64 [00:00<00:00, 91.49it/s]\n",
      "100%|██████████| 64/64 [00:00<00:00, 91.48it/s]\n",
      "100%|██████████| 64/64 [00:00<00:00, 92.02it/s]\n",
      "100%|██████████| 64/64 [00:00<00:00, 1961.67it/s]\n",
      "100%|██████████| 64/64 [00:00<00:00, 181.43it/s]\n",
      "100%|██████████| 64/64 [00:00<00:00, 143.85it/s]\n",
      "100%|██████████| 64/64 [00:08<00:00,  7.77it/s]\n",
      "100%|██████████| 64/64 [00:00<00:00, 3449.88it/s]\n",
      "100%|██████████| 64/64 [00:00<00:00, 1327.75it/s]\n",
      "100%|██████████| 64/64 [00:00<00:00, 1303.48it/s]\n",
      "100%|██████████| 64/64 [00:00<00:00, 7263.06it/s]\n",
      "100%|██████████| 64/64 [00:00<00:00, 61328.64it/s]\n",
      "  0%|          | 0/64 [00:00<?, ?it/s]"
     ]
    },
    {
     "name": "stdout",
     "output_type": "stream",
     "text": [
      "(1, 3329)\n",
      "(731, 3330)\n"
     ]
    },
    {
     "name": "stderr",
     "output_type": "stream",
     "text": [
      "100%|██████████| 64/64 [00:00<00:00, 90.51it/s]\n",
      "100%|██████████| 64/64 [00:00<00:00, 92.52it/s]\n",
      "100%|██████████| 64/64 [00:00<00:00, 95.66it/s]\n",
      "100%|██████████| 64/64 [00:00<00:00, 1998.48it/s]\n",
      "100%|██████████| 64/64 [00:00<00:00, 180.96it/s]\n",
      "100%|██████████| 64/64 [00:00<00:00, 139.83it/s]\n",
      "100%|██████████| 64/64 [00:08<00:00,  7.67it/s]\n",
      "100%|██████████| 64/64 [00:00<00:00, 3110.82it/s]\n",
      "100%|██████████| 64/64 [00:00<00:00, 1385.91it/s]\n",
      "100%|██████████| 64/64 [00:00<00:00, 1318.76it/s]\n",
      "100%|██████████| 64/64 [00:00<00:00, 7767.45it/s]\n",
      "100%|██████████| 64/64 [00:00<00:00, 96213.43it/s]\n",
      " 12%|█▎        | 8/64 [00:00<00:00, 78.62it/s]"
     ]
    },
    {
     "name": "stdout",
     "output_type": "stream",
     "text": [
      "(1, 3329)\n",
      "(732, 3330)\n"
     ]
    },
    {
     "name": "stderr",
     "output_type": "stream",
     "text": [
      "100%|██████████| 64/64 [00:00<00:00, 83.02it/s]\n",
      "100%|██████████| 64/64 [00:00<00:00, 91.06it/s]\n",
      "100%|██████████| 64/64 [00:00<00:00, 98.02it/s]\n",
      "100%|██████████| 64/64 [00:00<00:00, 2026.36it/s]\n",
      "100%|██████████| 64/64 [00:00<00:00, 170.78it/s]\n",
      "100%|██████████| 64/64 [00:00<00:00, 140.48it/s]\n",
      "100%|██████████| 64/64 [00:08<00:00,  7.75it/s]\n",
      "100%|██████████| 64/64 [00:00<00:00, 3428.82it/s]\n",
      "100%|██████████| 64/64 [00:00<00:00, 1322.03it/s]\n",
      "100%|██████████| 64/64 [00:00<00:00, 1082.03it/s]\n",
      "100%|██████████| 64/64 [00:00<00:00, 7968.75it/s]\n",
      "100%|██████████| 64/64 [00:00<00:00, 149213.71it/s]\n",
      " 16%|█▌        | 10/64 [00:00<00:00, 94.39it/s]"
     ]
    },
    {
     "name": "stdout",
     "output_type": "stream",
     "text": [
      "(1, 3329)\n",
      "(733, 3330)\n"
     ]
    },
    {
     "name": "stderr",
     "output_type": "stream",
     "text": [
      "100%|██████████| 64/64 [00:00<00:00, 92.89it/s]\n",
      "100%|██████████| 64/64 [00:00<00:00, 91.94it/s]\n",
      "100%|██████████| 64/64 [00:00<00:00, 93.96it/s]\n",
      "100%|██████████| 64/64 [00:00<00:00, 2290.72it/s]\n",
      "100%|██████████| 64/64 [00:00<00:00, 175.43it/s]\n",
      "100%|██████████| 64/64 [00:00<00:00, 143.41it/s]\n",
      "100%|██████████| 64/64 [00:08<00:00,  7.60it/s]\n",
      "100%|██████████| 64/64 [00:00<00:00, 3147.29it/s]\n",
      "100%|██████████| 64/64 [00:00<00:00, 1317.11it/s]\n",
      "100%|██████████| 64/64 [00:00<00:00, 1226.61it/s]\n",
      "100%|██████████| 64/64 [00:00<00:00, 6690.81it/s]\n",
      "100%|██████████| 64/64 [00:00<00:00, 156248.81it/s]\n",
      "  0%|          | 0/64 [00:00<?, ?it/s]"
     ]
    },
    {
     "name": "stdout",
     "output_type": "stream",
     "text": [
      "(1, 3329)\n",
      "(734, 3330)\n"
     ]
    },
    {
     "name": "stderr",
     "output_type": "stream",
     "text": [
      "100%|██████████| 64/64 [00:00<00:00, 89.89it/s]\n",
      "100%|██████████| 64/64 [00:00<00:00, 96.17it/s]\n",
      "100%|██████████| 64/64 [00:00<00:00, 95.70it/s]\n",
      "100%|██████████| 64/64 [00:00<00:00, 2328.37it/s]\n",
      "100%|██████████| 64/64 [00:00<00:00, 179.00it/s]\n",
      "100%|██████████| 64/64 [00:00<00:00, 141.68it/s]\n",
      "100%|██████████| 64/64 [00:08<00:00,  7.59it/s]\n",
      "100%|██████████| 64/64 [00:00<00:00, 3349.37it/s]\n",
      "100%|██████████| 64/64 [00:00<00:00, 1332.73it/s]\n",
      "100%|██████████| 64/64 [00:00<00:00, 1302.69it/s]\n",
      "100%|██████████| 64/64 [00:00<00:00, 6512.10it/s]\n",
      "100%|██████████| 64/64 [00:00<00:00, 122405.59it/s]\n",
      "  0%|          | 0/64 [00:00<?, ?it/s]"
     ]
    },
    {
     "name": "stdout",
     "output_type": "stream",
     "text": [
      "(1, 3329)\n",
      "(735, 3330)\n"
     ]
    },
    {
     "name": "stderr",
     "output_type": "stream",
     "text": [
      "100%|██████████| 64/64 [00:00<00:00, 90.41it/s]\n",
      "100%|██████████| 64/64 [00:00<00:00, 94.29it/s]\n",
      "100%|██████████| 64/64 [00:00<00:00, 93.46it/s]\n",
      "100%|██████████| 64/64 [00:00<00:00, 2241.43it/s]\n",
      "100%|██████████| 64/64 [00:00<00:00, 177.45it/s]\n",
      "100%|██████████| 64/64 [00:00<00:00, 150.22it/s]\n",
      "100%|██████████| 64/64 [00:08<00:00,  7.71it/s]\n",
      "100%|██████████| 64/64 [00:00<00:00, 3297.37it/s]\n",
      "100%|██████████| 64/64 [00:00<00:00, 1185.77it/s]\n",
      "100%|██████████| 64/64 [00:00<00:00, 1267.57it/s]\n",
      "100%|██████████| 64/64 [00:00<00:00, 7177.23it/s]\n",
      "100%|██████████| 64/64 [00:00<00:00, 23205.00it/s]\n",
      " 16%|█▌        | 10/64 [00:00<00:00, 98.52it/s]"
     ]
    },
    {
     "name": "stdout",
     "output_type": "stream",
     "text": [
      "(1, 3329)\n",
      "(736, 3330)\n"
     ]
    },
    {
     "name": "stderr",
     "output_type": "stream",
     "text": [
      "100%|██████████| 64/64 [00:00<00:00, 93.85it/s]\n",
      "100%|██████████| 64/64 [00:00<00:00, 94.60it/s]\n",
      "100%|██████████| 64/64 [00:00<00:00, 96.80it/s]\n",
      "100%|██████████| 64/64 [00:00<00:00, 2222.18it/s]\n",
      "100%|██████████| 64/64 [00:00<00:00, 180.83it/s]\n",
      "100%|██████████| 64/64 [00:00<00:00, 145.37it/s]\n",
      "100%|██████████| 64/64 [00:08<00:00,  7.73it/s]\n",
      "100%|██████████| 64/64 [00:00<00:00, 3348.83it/s]\n",
      "100%|██████████| 64/64 [00:00<00:00, 1347.82it/s]\n",
      "100%|██████████| 64/64 [00:00<00:00, 1058.63it/s]\n",
      "100%|██████████| 64/64 [00:00<00:00, 7100.90it/s]\n",
      "100%|██████████| 64/64 [00:00<00:00, 89151.60it/s]\n",
      " 16%|█▌        | 10/64 [00:00<00:00, 92.09it/s]"
     ]
    },
    {
     "name": "stdout",
     "output_type": "stream",
     "text": [
      "(1, 3329)\n",
      "(737, 3330)\n"
     ]
    },
    {
     "name": "stderr",
     "output_type": "stream",
     "text": [
      "100%|██████████| 64/64 [00:00<00:00, 90.25it/s]\n",
      "100%|██████████| 64/64 [00:00<00:00, 96.17it/s]\n",
      "100%|██████████| 64/64 [00:00<00:00, 97.34it/s]\n",
      "100%|██████████| 64/64 [00:00<00:00, 2176.26it/s]\n",
      "100%|██████████| 64/64 [00:00<00:00, 182.85it/s]\n",
      "100%|██████████| 64/64 [00:00<00:00, 139.02it/s]\n",
      "100%|██████████| 64/64 [00:08<00:00,  7.70it/s]\n",
      "100%|██████████| 64/64 [00:00<00:00, 3388.99it/s]\n",
      "100%|██████████| 64/64 [00:00<00:00, 1345.74it/s]\n",
      "100%|██████████| 64/64 [00:00<00:00, 1287.78it/s]\n",
      "100%|██████████| 64/64 [00:00<00:00, 7083.48it/s]\n",
      "100%|██████████| 64/64 [00:00<00:00, 94220.94it/s]\n",
      " 14%|█▍        | 9/64 [00:00<00:00, 86.36it/s]"
     ]
    },
    {
     "name": "stdout",
     "output_type": "stream",
     "text": [
      "(1, 3329)\n",
      "(738, 3330)\n"
     ]
    },
    {
     "name": "stderr",
     "output_type": "stream",
     "text": [
      "100%|██████████| 64/64 [00:00<00:00, 90.14it/s]\n",
      "100%|██████████| 64/64 [00:00<00:00, 93.94it/s]\n",
      "100%|██████████| 64/64 [00:00<00:00, 98.68it/s]\n",
      "100%|██████████| 64/64 [00:00<00:00, 1981.98it/s]\n",
      "100%|██████████| 64/64 [00:00<00:00, 171.12it/s]\n",
      "100%|██████████| 64/64 [00:00<00:00, 150.84it/s]\n",
      "100%|██████████| 64/64 [00:08<00:00,  7.69it/s]\n",
      "100%|██████████| 64/64 [00:00<00:00, 3478.81it/s]\n",
      "100%|██████████| 64/64 [00:00<00:00, 1342.94it/s]\n",
      "100%|██████████| 64/64 [00:00<00:00, 1290.77it/s]\n",
      "100%|██████████| 64/64 [00:00<00:00, 6650.37it/s]\n",
      "100%|██████████| 64/64 [00:00<00:00, 98725.80it/s]\n",
      " 14%|█▍        | 9/64 [00:00<00:00, 84.63it/s]"
     ]
    },
    {
     "name": "stdout",
     "output_type": "stream",
     "text": [
      "(1, 3329)\n",
      "(739, 3330)\n"
     ]
    },
    {
     "name": "stderr",
     "output_type": "stream",
     "text": [
      "100%|██████████| 64/64 [00:00<00:00, 87.68it/s]\n",
      "100%|██████████| 64/64 [00:00<00:00, 88.90it/s]\n",
      "100%|██████████| 64/64 [00:00<00:00, 96.66it/s]\n",
      "100%|██████████| 64/64 [00:00<00:00, 2066.81it/s]\n",
      "100%|██████████| 64/64 [00:00<00:00, 174.04it/s]\n",
      "100%|██████████| 64/64 [00:00<00:00, 145.95it/s]\n",
      "100%|██████████| 64/64 [00:08<00:00,  7.74it/s]\n",
      "100%|██████████| 64/64 [00:00<00:00, 2779.87it/s]\n",
      "100%|██████████| 64/64 [00:00<00:00, 1307.55it/s]\n",
      "100%|██████████| 64/64 [00:00<00:00, 1221.22it/s]\n",
      "100%|██████████| 64/64 [00:00<00:00, 6722.82it/s]\n",
      "100%|██████████| 64/64 [00:00<00:00, 188773.18it/s]\n",
      " 16%|█▌        | 10/64 [00:00<00:00, 93.42it/s]"
     ]
    },
    {
     "name": "stdout",
     "output_type": "stream",
     "text": [
      "(1, 3329)\n",
      "(740, 3330)\n"
     ]
    },
    {
     "name": "stderr",
     "output_type": "stream",
     "text": [
      "100%|██████████| 64/64 [00:00<00:00, 91.43it/s]\n",
      "100%|██████████| 64/64 [00:00<00:00, 92.67it/s]\n",
      "100%|██████████| 64/64 [00:00<00:00, 98.78it/s]\n",
      "100%|██████████| 64/64 [00:00<00:00, 2256.23it/s]\n",
      "100%|██████████| 64/64 [00:00<00:00, 178.55it/s]\n",
      "100%|██████████| 64/64 [00:00<00:00, 143.23it/s]\n",
      "100%|██████████| 64/64 [00:08<00:00,  7.66it/s]\n",
      "100%|██████████| 64/64 [00:00<00:00, 3398.30it/s]\n",
      "100%|██████████| 64/64 [00:00<00:00, 1146.39it/s]\n",
      "100%|██████████| 64/64 [00:00<00:00, 1217.73it/s]\n",
      "100%|██████████| 64/64 [00:00<00:00, 7009.86it/s]\n",
      "100%|██████████| 64/64 [00:00<00:00, 174876.52it/s]\n",
      " 14%|█▍        | 9/64 [00:00<00:00, 87.56it/s]"
     ]
    },
    {
     "name": "stdout",
     "output_type": "stream",
     "text": [
      "(1, 3329)\n",
      "(741, 3330)\n"
     ]
    },
    {
     "name": "stderr",
     "output_type": "stream",
     "text": [
      "100%|██████████| 64/64 [00:00<00:00, 89.31it/s]\n",
      "100%|██████████| 64/64 [00:00<00:00, 94.06it/s]\n",
      "100%|██████████| 64/64 [00:00<00:00, 97.71it/s]\n",
      "100%|██████████| 64/64 [00:00<00:00, 1927.42it/s]\n",
      "100%|██████████| 64/64 [00:00<00:00, 179.18it/s]\n",
      "100%|██████████| 64/64 [00:00<00:00, 136.83it/s]\n",
      "100%|██████████| 64/64 [00:08<00:00,  7.68it/s]\n",
      "100%|██████████| 64/64 [00:00<00:00, 3096.11it/s]\n",
      "100%|██████████| 64/64 [00:00<00:00, 1292.79it/s]\n",
      "100%|██████████| 64/64 [00:00<00:00, 1242.24it/s]\n",
      "100%|██████████| 64/64 [00:00<00:00, 6982.69it/s]\n",
      "100%|██████████| 64/64 [00:00<00:00, 25660.59it/s]\n",
      " 16%|█▌        | 10/64 [00:00<00:00, 93.72it/s]"
     ]
    },
    {
     "name": "stdout",
     "output_type": "stream",
     "text": [
      "(1, 3329)\n",
      "(742, 3330)\n"
     ]
    },
    {
     "name": "stderr",
     "output_type": "stream",
     "text": [
      "100%|██████████| 64/64 [00:00<00:00, 86.43it/s]\n",
      "100%|██████████| 64/64 [00:00<00:00, 92.41it/s]\n",
      "100%|██████████| 64/64 [00:00<00:00, 95.69it/s]\n",
      "100%|██████████| 64/64 [00:00<00:00, 2166.64it/s]\n",
      "100%|██████████| 64/64 [00:00<00:00, 175.08it/s]\n",
      "100%|██████████| 64/64 [00:00<00:00, 140.67it/s]\n",
      "100%|██████████| 64/64 [00:08<00:00,  7.63it/s]\n",
      "100%|██████████| 64/64 [00:00<00:00, 2740.42it/s]\n",
      "100%|██████████| 64/64 [00:00<00:00, 1145.22it/s]\n",
      "100%|██████████| 64/64 [00:00<00:00, 1293.99it/s]\n",
      "100%|██████████| 64/64 [00:00<00:00, 7531.86it/s]\n",
      "100%|██████████| 64/64 [00:00<00:00, 203823.43it/s]\n",
      " 16%|█▌        | 10/64 [00:00<00:00, 93.53it/s]"
     ]
    },
    {
     "name": "stdout",
     "output_type": "stream",
     "text": [
      "(1, 3329)\n",
      "(743, 3330)\n"
     ]
    },
    {
     "name": "stderr",
     "output_type": "stream",
     "text": [
      "100%|██████████| 64/64 [00:00<00:00, 86.88it/s]\n",
      "100%|██████████| 64/64 [00:00<00:00, 93.87it/s]\n",
      "100%|██████████| 64/64 [00:00<00:00, 95.41it/s]\n",
      "100%|██████████| 64/64 [00:00<00:00, 2187.65it/s]\n",
      "100%|██████████| 64/64 [00:00<00:00, 171.47it/s]\n",
      "100%|██████████| 64/64 [00:00<00:00, 143.35it/s]\n",
      "100%|██████████| 64/64 [00:08<00:00,  7.69it/s]\n",
      "100%|██████████| 64/64 [00:00<00:00, 3319.30it/s]\n",
      "100%|██████████| 64/64 [00:00<00:00, 1210.65it/s]\n",
      "100%|██████████| 64/64 [00:00<00:00, 1205.80it/s]\n",
      "100%|██████████| 64/64 [00:00<00:00, 9088.42it/s]\n",
      "100%|██████████| 64/64 [00:00<00:00, 22212.28it/s]\n",
      "  0%|          | 0/64 [00:00<?, ?it/s]"
     ]
    },
    {
     "name": "stdout",
     "output_type": "stream",
     "text": [
      "(1, 3329)\n",
      "(744, 3330)\n"
     ]
    },
    {
     "name": "stderr",
     "output_type": "stream",
     "text": [
      "100%|██████████| 64/64 [00:00<00:00, 89.55it/s]\n",
      "100%|██████████| 64/64 [00:00<00:00, 89.64it/s]\n",
      "100%|██████████| 64/64 [00:00<00:00, 84.78it/s]\n",
      "100%|██████████| 64/64 [00:00<00:00, 2261.27it/s]\n",
      "100%|██████████| 64/64 [00:00<00:00, 170.48it/s]\n",
      "100%|██████████| 64/64 [00:00<00:00, 141.75it/s]\n",
      "100%|██████████| 64/64 [00:08<00:00,  7.67it/s]\n",
      "100%|██████████| 64/64 [00:00<00:00, 3486.22it/s]\n",
      "100%|██████████| 64/64 [00:00<00:00, 1363.12it/s]\n",
      "100%|██████████| 64/64 [00:00<00:00, 1304.42it/s]\n",
      "100%|██████████| 64/64 [00:00<00:00, 9959.39it/s]\n",
      "100%|██████████| 64/64 [00:00<00:00, 191466.09it/s]\n",
      "  0%|          | 0/64 [00:00<?, ?it/s]"
     ]
    },
    {
     "name": "stdout",
     "output_type": "stream",
     "text": [
      "(1, 3329)\n",
      "(745, 3330)\n"
     ]
    },
    {
     "name": "stderr",
     "output_type": "stream",
     "text": [
      "100%|██████████| 64/64 [00:00<00:00, 89.12it/s]\n",
      "100%|██████████| 64/64 [00:00<00:00, 91.75it/s]\n",
      "100%|██████████| 64/64 [00:00<00:00, 95.83it/s]\n",
      "100%|██████████| 64/64 [00:00<00:00, 2267.25it/s]\n",
      "100%|██████████| 64/64 [00:00<00:00, 174.82it/s]\n",
      "100%|██████████| 64/64 [00:00<00:00, 144.40it/s]\n",
      "100%|██████████| 64/64 [00:08<00:00,  7.62it/s]\n",
      "100%|██████████| 64/64 [00:00<00:00, 3110.17it/s]\n",
      "100%|██████████| 64/64 [00:00<00:00, 1355.84it/s]\n",
      "100%|██████████| 64/64 [00:00<00:00, 1057.20it/s]\n",
      "100%|██████████| 64/64 [00:00<00:00, 6802.03it/s]\n",
      "100%|██████████| 64/64 [00:00<00:00, 259107.58it/s]\n",
      " 16%|█▌        | 10/64 [00:00<00:00, 92.46it/s]"
     ]
    },
    {
     "name": "stdout",
     "output_type": "stream",
     "text": [
      "(1, 3329)\n",
      "(746, 3330)\n"
     ]
    },
    {
     "name": "stderr",
     "output_type": "stream",
     "text": [
      "100%|██████████| 64/64 [00:00<00:00, 87.34it/s]\n",
      "100%|██████████| 64/64 [00:00<00:00, 92.18it/s]\n",
      "100%|██████████| 64/64 [00:00<00:00, 95.26it/s]\n",
      "100%|██████████| 64/64 [00:00<00:00, 2175.80it/s]\n",
      "100%|██████████| 64/64 [00:00<00:00, 175.62it/s]\n",
      "100%|██████████| 64/64 [00:00<00:00, 137.71it/s]\n",
      "100%|██████████| 64/64 [00:08<00:00,  7.76it/s]\n",
      "100%|██████████| 64/64 [00:00<00:00, 2991.26it/s]\n",
      "100%|██████████| 64/64 [00:00<00:00, 1382.28it/s]\n",
      "100%|██████████| 64/64 [00:00<00:00, 1332.38it/s]\n",
      "100%|██████████| 64/64 [00:00<00:00, 7184.72it/s]\n",
      "100%|██████████| 64/64 [00:00<00:00, 220390.36it/s]\n",
      "  0%|          | 0/64 [00:00<?, ?it/s]"
     ]
    },
    {
     "name": "stdout",
     "output_type": "stream",
     "text": [
      "(1, 3329)\n",
      "(747, 3330)\n"
     ]
    },
    {
     "name": "stderr",
     "output_type": "stream",
     "text": [
      "100%|██████████| 64/64 [00:00<00:00, 87.99it/s]\n",
      "100%|██████████| 64/64 [00:00<00:00, 92.38it/s]\n",
      "100%|██████████| 64/64 [00:00<00:00, 96.04it/s]\n",
      "100%|██████████| 64/64 [00:00<00:00, 2118.13it/s]\n",
      "100%|██████████| 64/64 [00:00<00:00, 170.51it/s]\n",
      "100%|██████████| 64/64 [00:00<00:00, 146.06it/s]\n",
      "100%|██████████| 64/64 [00:08<00:00,  7.61it/s]\n",
      "100%|██████████| 64/64 [00:00<00:00, 3526.71it/s]\n",
      "100%|██████████| 64/64 [00:00<00:00, 1300.87it/s]\n",
      "100%|██████████| 64/64 [00:00<00:00, 1071.38it/s]\n",
      "100%|██████████| 64/64 [00:00<00:00, 6988.87it/s]\n",
      "100%|██████████| 64/64 [00:00<00:00, 90810.37it/s]\n",
      " 14%|█▍        | 9/64 [00:00<00:00, 87.70it/s]"
     ]
    },
    {
     "name": "stdout",
     "output_type": "stream",
     "text": [
      "(1, 3329)\n",
      "(748, 3330)\n"
     ]
    },
    {
     "name": "stderr",
     "output_type": "stream",
     "text": [
      "100%|██████████| 64/64 [00:00<00:00, 88.22it/s]\n",
      "100%|██████████| 64/64 [00:00<00:00, 85.78it/s]\n",
      "100%|██████████| 64/64 [00:00<00:00, 94.56it/s]\n",
      "100%|██████████| 64/64 [00:00<00:00, 2195.47it/s]\n",
      "100%|██████████| 64/64 [00:00<00:00, 175.23it/s]\n",
      "100%|██████████| 64/64 [00:00<00:00, 140.12it/s]\n",
      "100%|██████████| 64/64 [00:08<00:00,  7.34it/s]\n",
      "100%|██████████| 64/64 [00:00<00:00, 3321.81it/s]\n",
      "100%|██████████| 64/64 [00:00<00:00, 1198.80it/s]\n",
      "100%|██████████| 64/64 [00:00<00:00, 1096.74it/s]\n",
      "100%|██████████| 64/64 [00:00<00:00, 6533.82it/s]\n",
      "100%|██████████| 64/64 [00:00<00:00, 101334.64it/s]\n",
      " 14%|█▍        | 9/64 [00:00<00:00, 85.28it/s]"
     ]
    },
    {
     "name": "stdout",
     "output_type": "stream",
     "text": [
      "(1, 3329)\n",
      "(749, 3330)\n"
     ]
    },
    {
     "name": "stderr",
     "output_type": "stream",
     "text": [
      "100%|██████████| 64/64 [00:00<00:00, 88.59it/s]\n",
      "100%|██████████| 64/64 [00:00<00:00, 86.99it/s]\n",
      "100%|██████████| 64/64 [00:00<00:00, 93.49it/s]\n",
      "100%|██████████| 64/64 [00:00<00:00, 2206.75it/s]\n",
      "100%|██████████| 64/64 [00:00<00:00, 170.01it/s]\n",
      "100%|██████████| 64/64 [00:00<00:00, 140.51it/s]\n",
      "100%|██████████| 64/64 [00:08<00:00,  7.32it/s]\n",
      "100%|██████████| 64/64 [00:00<00:00, 3341.58it/s]\n",
      "100%|██████████| 64/64 [00:00<00:00, 1360.69it/s]\n",
      "100%|██████████| 64/64 [00:00<00:00, 1327.74it/s]\n",
      "100%|██████████| 64/64 [00:00<00:00, 7671.12it/s]\n",
      "100%|██████████| 64/64 [00:00<00:00, 27828.68it/s]\n",
      "  0%|          | 0/64 [00:00<?, ?it/s]"
     ]
    },
    {
     "name": "stdout",
     "output_type": "stream",
     "text": [
      "(1, 3329)\n",
      "(750, 3330)\n"
     ]
    },
    {
     "name": "stderr",
     "output_type": "stream",
     "text": [
      "100%|██████████| 64/64 [00:00<00:00, 86.27it/s]\n",
      "100%|██████████| 64/64 [00:00<00:00, 92.35it/s]\n",
      "100%|██████████| 64/64 [00:00<00:00, 98.96it/s]\n",
      "100%|██████████| 64/64 [00:00<00:00, 2224.25it/s]\n",
      "100%|██████████| 64/64 [00:00<00:00, 172.27it/s]\n",
      "100%|██████████| 64/64 [00:00<00:00, 146.93it/s]\n",
      "100%|██████████| 64/64 [00:08<00:00,  7.52it/s]\n",
      "100%|██████████| 64/64 [00:00<00:00, 3514.43it/s]\n",
      "100%|██████████| 64/64 [00:00<00:00, 918.98it/s]\n",
      "100%|██████████| 64/64 [00:00<00:00, 1157.66it/s]\n",
      "100%|██████████| 64/64 [00:00<00:00, 6618.88it/s]\n",
      "100%|██████████| 64/64 [00:00<00:00, 278749.18it/s]\n",
      "  0%|          | 0/64 [00:00<?, ?it/s]"
     ]
    },
    {
     "name": "stdout",
     "output_type": "stream",
     "text": [
      "(1, 3329)\n",
      "(751, 3330)\n"
     ]
    },
    {
     "name": "stderr",
     "output_type": "stream",
     "text": [
      "100%|██████████| 64/64 [00:00<00:00, 86.99it/s]\n",
      "100%|██████████| 64/64 [00:00<00:00, 92.29it/s]\n",
      "100%|██████████| 64/64 [00:00<00:00, 91.25it/s]\n",
      "100%|██████████| 64/64 [00:00<00:00, 1893.88it/s]\n",
      "100%|██████████| 64/64 [00:00<00:00, 176.53it/s]\n",
      "100%|██████████| 64/64 [00:00<00:00, 138.60it/s]\n",
      "100%|██████████| 64/64 [00:08<00:00,  7.48it/s]\n",
      "100%|██████████| 64/64 [00:00<00:00, 3420.91it/s]\n",
      "100%|██████████| 64/64 [00:00<00:00, 1352.08it/s]\n",
      "100%|██████████| 64/64 [00:00<00:00, 1218.90it/s]\n",
      "100%|██████████| 64/64 [00:00<00:00, 7629.69it/s]\n",
      "100%|██████████| 64/64 [00:00<00:00, 197961.25it/s]\n",
      "  0%|          | 0/64 [00:00<?, ?it/s]"
     ]
    },
    {
     "name": "stdout",
     "output_type": "stream",
     "text": [
      "(1, 3329)\n",
      "(752, 3330)\n"
     ]
    },
    {
     "name": "stderr",
     "output_type": "stream",
     "text": [
      "100%|██████████| 64/64 [00:00<00:00, 87.04it/s]\n",
      "100%|██████████| 64/64 [00:00<00:00, 86.86it/s]\n",
      "100%|██████████| 64/64 [00:00<00:00, 95.12it/s]\n",
      "100%|██████████| 64/64 [00:00<00:00, 2345.21it/s]\n",
      "100%|██████████| 64/64 [00:00<00:00, 166.56it/s]\n",
      "100%|██████████| 64/64 [00:00<00:00, 144.32it/s]\n",
      "100%|██████████| 64/64 [00:08<00:00,  7.42it/s]\n",
      "100%|██████████| 64/64 [00:00<00:00, 2962.01it/s]\n",
      "100%|██████████| 64/64 [00:00<00:00, 1285.48it/s]\n",
      "100%|██████████| 64/64 [00:00<00:00, 1322.60it/s]\n",
      "100%|██████████| 64/64 [00:00<00:00, 6748.34it/s]\n",
      "100%|██████████| 64/64 [00:00<00:00, 240749.29it/s]\n",
      "  0%|          | 0/64 [00:00<?, ?it/s]"
     ]
    },
    {
     "name": "stdout",
     "output_type": "stream",
     "text": [
      "(1, 3329)\n",
      "(753, 3330)\n"
     ]
    },
    {
     "name": "stderr",
     "output_type": "stream",
     "text": [
      "100%|██████████| 64/64 [00:00<00:00, 87.39it/s]\n",
      "100%|██████████| 64/64 [00:00<00:00, 89.99it/s]\n",
      "100%|██████████| 64/64 [00:00<00:00, 94.67it/s]\n",
      "100%|██████████| 64/64 [00:00<00:00, 2078.88it/s]\n",
      "100%|██████████| 64/64 [00:00<00:00, 179.91it/s]\n",
      "100%|██████████| 64/64 [00:00<00:00, 143.11it/s]\n",
      "100%|██████████| 64/64 [00:08<00:00,  7.66it/s]\n",
      "100%|██████████| 64/64 [00:00<00:00, 3489.44it/s]\n",
      "100%|██████████| 64/64 [00:00<00:00, 1286.39it/s]\n",
      "100%|██████████| 64/64 [00:00<00:00, 1307.74it/s]\n",
      "100%|██████████| 64/64 [00:00<00:00, 8121.36it/s]\n",
      "100%|██████████| 64/64 [00:00<00:00, 48717.87it/s]\n",
      "  0%|          | 0/64 [00:00<?, ?it/s]"
     ]
    },
    {
     "name": "stdout",
     "output_type": "stream",
     "text": [
      "(1, 3329)\n",
      "(754, 3330)\n"
     ]
    },
    {
     "name": "stderr",
     "output_type": "stream",
     "text": [
      "100%|██████████| 64/64 [00:00<00:00, 86.15it/s]\n",
      "100%|██████████| 64/64 [00:00<00:00, 91.53it/s]\n",
      "100%|██████████| 64/64 [00:00<00:00, 95.36it/s]\n",
      "100%|██████████| 64/64 [00:00<00:00, 2107.49it/s]\n",
      "100%|██████████| 64/64 [00:00<00:00, 167.05it/s]\n",
      "100%|██████████| 64/64 [00:00<00:00, 142.66it/s]\n",
      "100%|██████████| 64/64 [00:08<00:00,  7.29it/s]\n",
      "100%|██████████| 64/64 [00:00<00:00, 3340.62it/s]\n",
      "100%|██████████| 64/64 [00:00<00:00, 1249.60it/s]\n",
      "100%|██████████| 64/64 [00:00<00:00, 1269.84it/s]\n",
      "100%|██████████| 64/64 [00:00<00:00, 5817.09it/s]\n",
      "100%|██████████| 64/64 [00:00<00:00, 39164.79it/s]\n",
      "  0%|          | 0/64 [00:00<?, ?it/s]"
     ]
    },
    {
     "name": "stdout",
     "output_type": "stream",
     "text": [
      "(1, 3329)\n",
      "(755, 3330)\n"
     ]
    },
    {
     "name": "stderr",
     "output_type": "stream",
     "text": [
      "100%|██████████| 64/64 [00:00<00:00, 82.12it/s]\n",
      "100%|██████████| 64/64 [00:00<00:00, 89.57it/s]\n",
      "100%|██████████| 64/64 [00:00<00:00, 95.30it/s]\n",
      "100%|██████████| 64/64 [00:00<00:00, 1781.09it/s]\n",
      "100%|██████████| 64/64 [00:00<00:00, 159.33it/s]\n",
      "100%|██████████| 64/64 [00:00<00:00, 138.69it/s]\n",
      "100%|██████████| 64/64 [00:08<00:00,  7.40it/s]\n",
      "100%|██████████| 64/64 [00:00<00:00, 3436.94it/s]\n",
      "100%|██████████| 64/64 [00:00<00:00, 1353.34it/s]\n",
      "100%|██████████| 64/64 [00:00<00:00, 1324.97it/s]\n",
      "100%|██████████| 64/64 [00:00<00:00, 8033.14it/s]\n",
      "100%|██████████| 64/64 [00:00<00:00, 119357.69it/s]\n",
      " 14%|█▍        | 9/64 [00:00<00:00, 89.62it/s]"
     ]
    },
    {
     "name": "stdout",
     "output_type": "stream",
     "text": [
      "(1, 3329)\n",
      "(756, 3330)\n"
     ]
    },
    {
     "name": "stderr",
     "output_type": "stream",
     "text": [
      "100%|██████████| 64/64 [00:00<00:00, 85.53it/s]\n",
      "100%|██████████| 64/64 [00:00<00:00, 90.98it/s]\n",
      "100%|██████████| 64/64 [00:00<00:00, 94.65it/s]\n",
      "100%|██████████| 64/64 [00:00<00:00, 2121.70it/s]\n",
      "100%|██████████| 64/64 [00:00<00:00, 174.30it/s]\n",
      "100%|██████████| 64/64 [00:00<00:00, 146.05it/s]\n",
      "100%|██████████| 64/64 [00:08<00:00,  7.56it/s]\n",
      "100%|██████████| 64/64 [00:00<00:00, 2517.87it/s]\n",
      "100%|██████████| 64/64 [00:00<00:00, 1168.77it/s]\n",
      "100%|██████████| 64/64 [00:00<00:00, 1294.89it/s]\n",
      "100%|██████████| 64/64 [00:00<00:00, 7708.13it/s]\n",
      "100%|██████████| 64/64 [00:00<00:00, 28845.42it/s]\n",
      " 14%|█▍        | 9/64 [00:00<00:00, 86.94it/s]"
     ]
    },
    {
     "name": "stdout",
     "output_type": "stream",
     "text": [
      "(1, 3329)\n",
      "(757, 3330)\n"
     ]
    },
    {
     "name": "stderr",
     "output_type": "stream",
     "text": [
      "100%|██████████| 64/64 [00:00<00:00, 85.09it/s]\n",
      "100%|██████████| 64/64 [00:00<00:00, 89.10it/s]\n",
      "100%|██████████| 64/64 [00:00<00:00, 88.02it/s]\n",
      "100%|██████████| 64/64 [00:00<00:00, 2114.16it/s]\n",
      "100%|██████████| 64/64 [00:00<00:00, 174.82it/s]\n",
      "100%|██████████| 64/64 [00:00<00:00, 140.86it/s]\n",
      "100%|██████████| 64/64 [00:08<00:00,  7.44it/s]\n",
      "100%|██████████| 64/64 [00:00<00:00, 3445.68it/s]\n",
      "100%|██████████| 64/64 [00:00<00:00, 1350.55it/s]\n",
      "100%|██████████| 64/64 [00:00<00:00, 1246.15it/s]\n",
      "100%|██████████| 64/64 [00:00<00:00, 6884.37it/s]\n",
      "100%|██████████| 64/64 [00:00<00:00, 252526.30it/s]\n",
      " 14%|█▍        | 9/64 [00:00<00:00, 84.12it/s]"
     ]
    },
    {
     "name": "stdout",
     "output_type": "stream",
     "text": [
      "(1, 3329)\n",
      "(758, 3330)\n"
     ]
    },
    {
     "name": "stderr",
     "output_type": "stream",
     "text": [
      "100%|██████████| 64/64 [00:00<00:00, 87.26it/s]\n",
      "100%|██████████| 64/64 [00:00<00:00, 84.37it/s]\n",
      "100%|██████████| 64/64 [00:00<00:00, 89.17it/s]\n",
      "100%|██████████| 64/64 [00:00<00:00, 2231.75it/s]\n",
      "100%|██████████| 64/64 [00:00<00:00, 168.17it/s]\n",
      "100%|██████████| 64/64 [00:00<00:00, 134.90it/s]\n",
      "100%|██████████| 64/64 [00:08<00:00,  7.43it/s]\n",
      "100%|██████████| 64/64 [00:00<00:00, 3420.47it/s]\n",
      "100%|██████████| 64/64 [00:00<00:00, 1311.66it/s]\n",
      "100%|██████████| 64/64 [00:00<00:00, 1282.75it/s]\n",
      "100%|██████████| 64/64 [00:00<00:00, 5781.63it/s]\n",
      "100%|██████████| 64/64 [00:00<00:00, 171086.97it/s]\n",
      " 14%|█▍        | 9/64 [00:00<00:00, 88.31it/s]"
     ]
    },
    {
     "name": "stdout",
     "output_type": "stream",
     "text": [
      "(1, 3329)\n",
      "(759, 3330)\n"
     ]
    },
    {
     "name": "stderr",
     "output_type": "stream",
     "text": [
      "100%|██████████| 64/64 [00:00<00:00, 86.52it/s]\n",
      "100%|██████████| 64/64 [00:00<00:00, 89.62it/s]\n",
      "100%|██████████| 64/64 [00:00<00:00, 90.94it/s]\n",
      "100%|██████████| 64/64 [00:00<00:00, 2185.33it/s]\n",
      "100%|██████████| 64/64 [00:00<00:00, 177.08it/s]\n",
      "100%|██████████| 64/64 [00:00<00:00, 140.49it/s]\n",
      "100%|██████████| 64/64 [00:08<00:00,  7.58it/s]\n",
      "100%|██████████| 64/64 [00:00<00:00, 3450.59it/s]\n",
      "100%|██████████| 64/64 [00:00<00:00, 1343.45it/s]\n",
      "100%|██████████| 64/64 [00:00<00:00, 1104.98it/s]\n",
      "100%|██████████| 64/64 [00:00<00:00, 4361.90it/s]\n",
      "100%|██████████| 64/64 [00:00<00:00, 23734.35it/s]\n",
      "  0%|          | 0/64 [00:00<?, ?it/s]"
     ]
    },
    {
     "name": "stdout",
     "output_type": "stream",
     "text": [
      "(1, 3329)\n",
      "(760, 3330)\n"
     ]
    },
    {
     "name": "stderr",
     "output_type": "stream",
     "text": [
      "100%|██████████| 64/64 [00:00<00:00, 87.30it/s]\n",
      "100%|██████████| 64/64 [00:00<00:00, 93.01it/s]\n",
      "100%|██████████| 64/64 [00:00<00:00, 95.08it/s]\n",
      "100%|██████████| 64/64 [00:00<00:00, 2124.52it/s]\n",
      "100%|██████████| 64/64 [00:00<00:00, 163.24it/s]\n",
      "100%|██████████| 64/64 [00:00<00:00, 135.95it/s]\n",
      "100%|██████████| 64/64 [00:08<00:00,  7.54it/s]\n",
      "100%|██████████| 64/64 [00:00<00:00, 3418.12it/s]\n",
      "100%|██████████| 64/64 [00:00<00:00, 1351.10it/s]\n",
      "100%|██████████| 64/64 [00:00<00:00, 1194.97it/s]\n",
      "100%|██████████| 64/64 [00:00<00:00, 7092.46it/s]\n",
      "100%|██████████| 64/64 [00:00<00:00, 219668.95it/s]\n",
      " 14%|█▍        | 9/64 [00:00<00:00, 85.50it/s]"
     ]
    },
    {
     "name": "stdout",
     "output_type": "stream",
     "text": [
      "(1, 3329)\n",
      "(761, 3330)\n"
     ]
    },
    {
     "name": "stderr",
     "output_type": "stream",
     "text": [
      "100%|██████████| 64/64 [00:00<00:00, 87.55it/s]\n",
      "100%|██████████| 64/64 [00:00<00:00, 94.15it/s]\n",
      "100%|██████████| 64/64 [00:00<00:00, 94.78it/s]\n",
      "100%|██████████| 64/64 [00:00<00:00, 1961.77it/s]\n",
      "100%|██████████| 64/64 [00:00<00:00, 176.93it/s]\n",
      "100%|██████████| 64/64 [00:00<00:00, 139.67it/s]\n",
      "100%|██████████| 64/64 [00:08<00:00,  7.32it/s]\n",
      "100%|██████████| 64/64 [00:00<00:00, 3340.95it/s]\n",
      "100%|██████████| 64/64 [00:00<00:00, 1199.49it/s]\n",
      "100%|██████████| 64/64 [00:00<00:00, 1311.32it/s]\n",
      "100%|██████████| 64/64 [00:00<00:00, 6033.48it/s]\n",
      "100%|██████████| 64/64 [00:00<00:00, 146926.91it/s]\n",
      " 14%|█▍        | 9/64 [00:00<00:00, 89.31it/s]"
     ]
    },
    {
     "name": "stdout",
     "output_type": "stream",
     "text": [
      "(1, 3329)\n",
      "(762, 3330)\n"
     ]
    },
    {
     "name": "stderr",
     "output_type": "stream",
     "text": [
      "100%|██████████| 64/64 [00:00<00:00, 85.44it/s]\n",
      "100%|██████████| 64/64 [00:00<00:00, 87.23it/s]\n",
      "100%|██████████| 64/64 [00:00<00:00, 93.50it/s]\n",
      "100%|██████████| 64/64 [00:00<00:00, 2313.74it/s]\n",
      "100%|██████████| 64/64 [00:00<00:00, 173.60it/s]\n",
      "100%|██████████| 64/64 [00:00<00:00, 140.24it/s]\n",
      "100%|██████████| 64/64 [00:08<00:00,  7.56it/s]\n",
      "100%|██████████| 64/64 [00:00<00:00, 3300.57it/s]\n",
      "100%|██████████| 64/64 [00:00<00:00, 1308.04it/s]\n",
      "100%|██████████| 64/64 [00:00<00:00, 1135.10it/s]\n",
      "100%|██████████| 64/64 [00:00<00:00, 7130.71it/s]\n",
      "100%|██████████| 64/64 [00:00<00:00, 82367.43it/s]\n",
      " 16%|█▌        | 10/64 [00:00<00:00, 94.78it/s]"
     ]
    },
    {
     "name": "stdout",
     "output_type": "stream",
     "text": [
      "(1, 3329)\n",
      "(763, 3330)\n"
     ]
    },
    {
     "name": "stderr",
     "output_type": "stream",
     "text": [
      "100%|██████████| 64/64 [00:00<00:00, 91.23it/s]\n",
      "100%|██████████| 64/64 [00:00<00:00, 93.55it/s]\n",
      "100%|██████████| 64/64 [00:00<00:00, 98.95it/s]\n",
      "100%|██████████| 64/64 [00:00<00:00, 2128.51it/s]\n",
      "100%|██████████| 64/64 [00:00<00:00, 161.13it/s]\n",
      "100%|██████████| 64/64 [00:00<00:00, 127.98it/s]\n",
      "100%|██████████| 64/64 [00:08<00:00,  7.38it/s]\n",
      "100%|██████████| 64/64 [00:00<00:00, 2796.32it/s]\n",
      "100%|██████████| 64/64 [00:00<00:00, 1317.77it/s]\n",
      "100%|██████████| 64/64 [00:00<00:00, 1300.98it/s]\n",
      "100%|██████████| 64/64 [00:00<00:00, 6653.01it/s]\n",
      "100%|██████████| 64/64 [00:00<00:00, 48735.56it/s]\n",
      " 14%|█▍        | 9/64 [00:00<00:00, 86.65it/s]"
     ]
    },
    {
     "name": "stdout",
     "output_type": "stream",
     "text": [
      "(1, 3329)\n",
      "(764, 3330)\n"
     ]
    },
    {
     "name": "stderr",
     "output_type": "stream",
     "text": [
      "100%|██████████| 64/64 [00:00<00:00, 86.29it/s]\n",
      "100%|██████████| 64/64 [00:00<00:00, 89.31it/s]\n",
      "100%|██████████| 64/64 [00:00<00:00, 92.33it/s]\n",
      "100%|██████████| 64/64 [00:00<00:00, 1937.71it/s]\n",
      "100%|██████████| 64/64 [00:00<00:00, 172.87it/s]\n",
      "100%|██████████| 64/64 [00:00<00:00, 138.94it/s]\n",
      "100%|██████████| 64/64 [00:08<00:00,  7.34it/s]\n",
      "100%|██████████| 64/64 [00:00<00:00, 3208.15it/s]\n",
      "100%|██████████| 64/64 [00:00<00:00, 1312.29it/s]\n",
      "100%|██████████| 64/64 [00:00<00:00, 1065.56it/s]\n",
      "100%|██████████| 64/64 [00:00<00:00, 7158.47it/s]\n",
      "100%|██████████| 64/64 [00:00<00:00, 92980.76it/s]\n",
      "  0%|          | 0/64 [00:00<?, ?it/s]"
     ]
    },
    {
     "name": "stdout",
     "output_type": "stream",
     "text": [
      "(1, 3329)\n",
      "(765, 3330)\n"
     ]
    },
    {
     "name": "stderr",
     "output_type": "stream",
     "text": [
      "100%|██████████| 64/64 [00:00<00:00, 85.67it/s]\n",
      "100%|██████████| 64/64 [00:00<00:00, 89.33it/s]\n",
      "100%|██████████| 64/64 [00:00<00:00, 92.83it/s]\n",
      "100%|██████████| 64/64 [00:00<00:00, 2292.26it/s]\n",
      "100%|██████████| 64/64 [00:00<00:00, 178.91it/s]\n",
      "100%|██████████| 64/64 [00:00<00:00, 144.77it/s]\n",
      "100%|██████████| 64/64 [00:08<00:00,  7.60it/s]\n",
      "100%|██████████| 64/64 [00:00<00:00, 3527.17it/s]\n",
      "100%|██████████| 64/64 [00:00<00:00, 1192.86it/s]\n",
      "100%|██████████| 64/64 [00:00<00:00, 1266.02it/s]\n",
      "100%|██████████| 64/64 [00:00<00:00, 6836.33it/s]\n",
      "100%|██████████| 64/64 [00:00<00:00, 94887.05it/s]\n",
      "  0%|          | 0/64 [00:00<?, ?it/s]"
     ]
    },
    {
     "name": "stdout",
     "output_type": "stream",
     "text": [
      "(1, 3329)\n",
      "(766, 3330)\n"
     ]
    },
    {
     "name": "stderr",
     "output_type": "stream",
     "text": [
      "100%|██████████| 64/64 [00:00<00:00, 85.38it/s]\n",
      "100%|██████████| 64/64 [00:00<00:00, 89.66it/s]\n",
      "100%|██████████| 64/64 [00:00<00:00, 96.55it/s]\n",
      "100%|██████████| 64/64 [00:00<00:00, 1917.94it/s]\n",
      "100%|██████████| 64/64 [00:00<00:00, 168.80it/s]\n",
      "100%|██████████| 64/64 [00:00<00:00, 146.58it/s]\n",
      "100%|██████████| 64/64 [00:08<00:00,  7.46it/s]\n",
      "100%|██████████| 64/64 [00:00<00:00, 3219.46it/s]\n",
      "100%|██████████| 64/64 [00:00<00:00, 1030.16it/s]\n",
      "100%|██████████| 64/64 [00:00<00:00, 1025.43it/s]\n",
      "100%|██████████| 64/64 [00:00<00:00, 7045.18it/s]\n",
      "100%|██████████| 64/64 [00:00<00:00, 201225.98it/s]\n",
      "  0%|          | 0/64 [00:00<?, ?it/s]"
     ]
    },
    {
     "name": "stdout",
     "output_type": "stream",
     "text": [
      "(1, 3329)\n",
      "(767, 3330)\n"
     ]
    },
    {
     "name": "stderr",
     "output_type": "stream",
     "text": [
      "100%|██████████| 64/64 [00:00<00:00, 89.85it/s]\n",
      "100%|██████████| 64/64 [00:00<00:00, 86.59it/s]\n",
      "100%|██████████| 64/64 [00:00<00:00, 88.09it/s]\n",
      "100%|██████████| 64/64 [00:00<00:00, 2204.84it/s]\n",
      "100%|██████████| 64/64 [00:00<00:00, 174.88it/s]\n",
      "100%|██████████| 64/64 [00:00<00:00, 131.58it/s]\n",
      "100%|██████████| 64/64 [00:08<00:00,  7.53it/s]\n",
      "100%|██████████| 64/64 [00:00<00:00, 3791.68it/s]\n",
      "100%|██████████| 64/64 [00:00<00:00, 1300.01it/s]\n",
      "100%|██████████| 64/64 [00:00<00:00, 1159.89it/s]\n",
      "100%|██████████| 64/64 [00:00<00:00, 6492.10it/s]\n",
      "100%|██████████| 64/64 [00:00<00:00, 35734.22it/s]\n",
      "  0%|          | 0/64 [00:00<?, ?it/s]"
     ]
    },
    {
     "name": "stdout",
     "output_type": "stream",
     "text": [
      "(1, 3329)\n",
      "(768, 3330)\n"
     ]
    },
    {
     "name": "stderr",
     "output_type": "stream",
     "text": [
      "100%|██████████| 64/64 [00:00<00:00, 83.36it/s]\n",
      "100%|██████████| 64/64 [00:00<00:00, 88.81it/s]\n",
      "100%|██████████| 64/64 [00:00<00:00, 94.56it/s]\n",
      "100%|██████████| 64/64 [00:00<00:00, 2127.60it/s]\n",
      "100%|██████████| 64/64 [00:00<00:00, 171.78it/s]\n",
      "100%|██████████| 64/64 [00:00<00:00, 142.01it/s]\n",
      "100%|██████████| 64/64 [00:08<00:00,  7.54it/s]\n",
      "100%|██████████| 64/64 [00:00<00:00, 3451.66it/s]\n",
      "100%|██████████| 64/64 [00:00<00:00, 1208.65it/s]\n",
      "100%|██████████| 64/64 [00:00<00:00, 1310.68it/s]\n",
      "100%|██████████| 64/64 [00:00<00:00, 7598.38it/s]\n",
      "100%|██████████| 64/64 [00:00<00:00, 24144.22it/s]\n",
      "  0%|          | 0/64 [00:00<?, ?it/s]"
     ]
    },
    {
     "name": "stdout",
     "output_type": "stream",
     "text": [
      "(1, 3329)\n",
      "(769, 3330)\n"
     ]
    },
    {
     "name": "stderr",
     "output_type": "stream",
     "text": [
      "100%|██████████| 64/64 [00:00<00:00, 80.90it/s]\n",
      "100%|██████████| 64/64 [00:00<00:00, 83.59it/s]\n",
      "100%|██████████| 64/64 [00:00<00:00, 90.09it/s]\n",
      "100%|██████████| 64/64 [00:00<00:00, 1931.16it/s]\n",
      "100%|██████████| 64/64 [00:00<00:00, 172.44it/s]\n",
      "100%|██████████| 64/64 [00:00<00:00, 134.25it/s]\n",
      "100%|██████████| 64/64 [00:08<00:00,  7.44it/s]\n",
      "100%|██████████| 64/64 [00:00<00:00, 3296.32it/s]\n",
      "100%|██████████| 64/64 [00:00<00:00, 1184.01it/s]\n",
      "100%|██████████| 64/64 [00:00<00:00, 1256.47it/s]\n",
      "100%|██████████| 64/64 [00:00<00:00, 6743.93it/s]\n",
      "100%|██████████| 64/64 [00:00<00:00, 229432.01it/s]\n",
      " 16%|█▌        | 10/64 [00:00<00:00, 94.18it/s]"
     ]
    },
    {
     "name": "stdout",
     "output_type": "stream",
     "text": [
      "(1, 3329)\n",
      "(770, 3330)\n"
     ]
    },
    {
     "name": "stderr",
     "output_type": "stream",
     "text": [
      "100%|██████████| 64/64 [00:00<00:00, 87.43it/s]\n",
      "100%|██████████| 64/64 [00:00<00:00, 89.72it/s]\n",
      "100%|██████████| 64/64 [00:00<00:00, 93.82it/s]\n",
      "100%|██████████| 64/64 [00:00<00:00, 2143.33it/s]\n",
      "100%|██████████| 64/64 [00:00<00:00, 181.41it/s]\n",
      "100%|██████████| 64/64 [00:00<00:00, 144.66it/s]\n",
      "100%|██████████| 64/64 [00:08<00:00,  7.46it/s]\n",
      "100%|██████████| 64/64 [00:00<00:00, 3408.79it/s]\n",
      "100%|██████████| 64/64 [00:00<00:00, 1292.39it/s]\n",
      "100%|██████████| 64/64 [00:00<00:00, 1172.72it/s]\n",
      "100%|██████████| 64/64 [00:00<00:00, 6671.52it/s]\n",
      "100%|██████████| 64/64 [00:00<00:00, 196800.19it/s]\n",
      "  0%|          | 0/64 [00:00<?, ?it/s]"
     ]
    },
    {
     "name": "stdout",
     "output_type": "stream",
     "text": [
      "(1, 3329)\n",
      "(771, 3330)\n"
     ]
    },
    {
     "name": "stderr",
     "output_type": "stream",
     "text": [
      "100%|██████████| 64/64 [00:00<00:00, 86.75it/s]\n",
      "100%|██████████| 64/64 [00:00<00:00, 90.34it/s]\n",
      "100%|██████████| 64/64 [00:00<00:00, 90.26it/s]\n",
      "100%|██████████| 64/64 [00:00<00:00, 1925.26it/s]\n",
      "100%|██████████| 64/64 [00:00<00:00, 165.66it/s]\n",
      "100%|██████████| 64/64 [00:00<00:00, 138.67it/s]\n",
      "100%|██████████| 64/64 [00:08<00:00,  7.64it/s]\n",
      "100%|██████████| 64/64 [00:00<00:00, 3130.30it/s]\n",
      "100%|██████████| 64/64 [00:00<00:00, 1300.59it/s]\n",
      "100%|██████████| 64/64 [00:00<00:00, 1140.80it/s]\n",
      "100%|██████████| 64/64 [00:00<00:00, 7438.56it/s]\n",
      "100%|██████████| 64/64 [00:00<00:00, 23950.34it/s]\n",
      "  0%|          | 0/64 [00:00<?, ?it/s]"
     ]
    },
    {
     "name": "stdout",
     "output_type": "stream",
     "text": [
      "(1, 3329)\n",
      "(772, 3330)\n"
     ]
    },
    {
     "name": "stderr",
     "output_type": "stream",
     "text": [
      "100%|██████████| 64/64 [00:00<00:00, 86.61it/s]\n",
      "100%|██████████| 64/64 [00:00<00:00, 86.82it/s]\n",
      "100%|██████████| 64/64 [00:00<00:00, 93.02it/s]\n",
      "100%|██████████| 64/64 [00:00<00:00, 2200.98it/s]\n",
      "100%|██████████| 64/64 [00:00<00:00, 168.97it/s]\n",
      "100%|██████████| 64/64 [00:00<00:00, 140.32it/s]\n",
      "100%|██████████| 64/64 [00:08<00:00,  7.45it/s]\n",
      "100%|██████████| 64/64 [00:00<00:00, 3167.72it/s]\n",
      "100%|██████████| 64/64 [00:00<00:00, 1267.65it/s]\n",
      "100%|██████████| 64/64 [00:00<00:00, 1296.80it/s]\n",
      "100%|██████████| 64/64 [00:00<00:00, 6207.60it/s]\n",
      "100%|██████████| 64/64 [00:00<00:00, 235883.53it/s]\n",
      " 14%|█▍        | 9/64 [00:00<00:00, 86.62it/s]"
     ]
    },
    {
     "name": "stdout",
     "output_type": "stream",
     "text": [
      "(1, 3329)\n",
      "(773, 3330)\n"
     ]
    },
    {
     "name": "stderr",
     "output_type": "stream",
     "text": [
      "100%|██████████| 64/64 [00:00<00:00, 87.26it/s]\n",
      "100%|██████████| 64/64 [00:00<00:00, 92.71it/s]\n",
      "100%|██████████| 64/64 [00:00<00:00, 92.25it/s]\n",
      "100%|██████████| 64/64 [00:00<00:00, 2075.79it/s]\n",
      "100%|██████████| 64/64 [00:00<00:00, 159.82it/s]\n",
      "100%|██████████| 64/64 [00:00<00:00, 138.64it/s]\n",
      "100%|██████████| 64/64 [00:08<00:00,  7.31it/s]\n",
      "100%|██████████| 64/64 [00:00<00:00, 3430.09it/s]\n",
      "100%|██████████| 64/64 [00:00<00:00, 1262.39it/s]\n",
      "100%|██████████| 64/64 [00:00<00:00, 1269.03it/s]\n",
      "100%|██████████| 64/64 [00:00<00:00, 6347.34it/s]\n",
      "100%|██████████| 64/64 [00:00<00:00, 176951.52it/s]\n",
      "  0%|          | 0/64 [00:00<?, ?it/s]"
     ]
    },
    {
     "name": "stdout",
     "output_type": "stream",
     "text": [
      "(1, 3329)\n",
      "(774, 3330)\n"
     ]
    },
    {
     "name": "stderr",
     "output_type": "stream",
     "text": [
      "100%|██████████| 64/64 [00:00<00:00, 85.12it/s]\n",
      "100%|██████████| 64/64 [00:00<00:00, 85.68it/s]\n",
      "100%|██████████| 64/64 [00:00<00:00, 91.04it/s]\n",
      "100%|██████████| 64/64 [00:00<00:00, 2054.52it/s]\n",
      "100%|██████████| 64/64 [00:00<00:00, 162.03it/s]\n",
      "100%|██████████| 64/64 [00:00<00:00, 136.84it/s]\n",
      "100%|██████████| 64/64 [00:08<00:00,  7.42it/s]\n",
      "100%|██████████| 64/64 [00:00<00:00, 3264.72it/s]\n",
      "100%|██████████| 64/64 [00:00<00:00, 1269.47it/s]\n",
      "100%|██████████| 64/64 [00:00<00:00, 1278.38it/s]\n",
      "100%|██████████| 64/64 [00:00<00:00, 7613.03it/s]\n",
      "100%|██████████| 64/64 [00:00<00:00, 189439.28it/s]\n",
      "  0%|          | 0/64 [00:00<?, ?it/s]"
     ]
    },
    {
     "name": "stdout",
     "output_type": "stream",
     "text": [
      "(1, 3329)\n",
      "(775, 3330)\n"
     ]
    },
    {
     "name": "stderr",
     "output_type": "stream",
     "text": [
      "100%|██████████| 64/64 [00:00<00:00, 84.29it/s]\n",
      "100%|██████████| 64/64 [00:00<00:00, 87.53it/s]\n",
      "100%|██████████| 64/64 [00:00<00:00, 92.22it/s]\n",
      "100%|██████████| 64/64 [00:00<00:00, 2012.92it/s]\n",
      "100%|██████████| 64/64 [00:00<00:00, 171.76it/s]\n",
      "100%|██████████| 64/64 [00:00<00:00, 138.08it/s]\n",
      "100%|██████████| 64/64 [00:08<00:00,  7.24it/s]\n",
      "100%|██████████| 64/64 [00:00<00:00, 2531.34it/s]\n",
      "100%|██████████| 64/64 [00:00<00:00, 1360.14it/s]\n",
      "100%|██████████| 64/64 [00:00<00:00, 1228.57it/s]\n",
      "100%|██████████| 64/64 [00:00<00:00, 6415.91it/s]\n",
      "100%|██████████| 64/64 [00:00<00:00, 124333.24it/s]\n",
      "  0%|          | 0/64 [00:00<?, ?it/s]"
     ]
    },
    {
     "name": "stdout",
     "output_type": "stream",
     "text": [
      "(1, 3329)\n",
      "(776, 3330)\n"
     ]
    },
    {
     "name": "stderr",
     "output_type": "stream",
     "text": [
      "100%|██████████| 64/64 [00:00<00:00, 84.03it/s]\n",
      "100%|██████████| 64/64 [00:00<00:00, 87.21it/s]\n",
      "100%|██████████| 64/64 [00:00<00:00, 93.24it/s]\n",
      "100%|██████████| 64/64 [00:00<00:00, 2203.31it/s]\n",
      "100%|██████████| 64/64 [00:00<00:00, 165.45it/s]\n",
      "100%|██████████| 64/64 [00:00<00:00, 134.15it/s]\n",
      "100%|██████████| 64/64 [00:08<00:00,  7.24it/s]\n",
      "100%|██████████| 64/64 [00:00<00:00, 3620.90it/s]\n",
      "100%|██████████| 64/64 [00:00<00:00, 1127.62it/s]\n",
      "100%|██████████| 64/64 [00:00<00:00, 1322.42it/s]\n",
      "100%|██████████| 64/64 [00:00<00:00, 6990.32it/s]\n",
      "100%|██████████| 64/64 [00:00<00:00, 96524.80it/s]\n",
      "  0%|          | 0/64 [00:00<?, ?it/s]"
     ]
    },
    {
     "name": "stdout",
     "output_type": "stream",
     "text": [
      "(1, 3329)\n",
      "(777, 3330)\n"
     ]
    },
    {
     "name": "stderr",
     "output_type": "stream",
     "text": [
      "100%|██████████| 64/64 [00:00<00:00, 84.31it/s]\n",
      "100%|██████████| 64/64 [00:00<00:00, 89.59it/s]\n",
      "100%|██████████| 64/64 [00:00<00:00, 93.65it/s]\n",
      "100%|██████████| 64/64 [00:00<00:00, 2243.26it/s]\n",
      "100%|██████████| 64/64 [00:00<00:00, 170.79it/s]\n",
      "100%|██████████| 64/64 [00:00<00:00, 139.02it/s]\n",
      "100%|██████████| 64/64 [00:08<00:00,  7.51it/s]\n",
      "100%|██████████| 64/64 [00:00<00:00, 3372.43it/s]\n",
      "100%|██████████| 64/64 [00:00<00:00, 1370.34it/s]\n",
      "100%|██████████| 64/64 [00:00<00:00, 1178.95it/s]\n",
      "100%|██████████| 64/64 [00:00<00:00, 7038.90it/s]\n",
      "100%|██████████| 64/64 [00:00<00:00, 112788.01it/s]\n",
      "  0%|          | 0/64 [00:00<?, ?it/s]"
     ]
    },
    {
     "name": "stdout",
     "output_type": "stream",
     "text": [
      "(1, 3329)\n",
      "(778, 3330)\n"
     ]
    },
    {
     "name": "stderr",
     "output_type": "stream",
     "text": [
      "100%|██████████| 64/64 [00:00<00:00, 83.49it/s]\n",
      "100%|██████████| 64/64 [00:00<00:00, 86.96it/s]\n",
      "100%|██████████| 64/64 [00:00<00:00, 93.24it/s]\n",
      "100%|██████████| 64/64 [00:00<00:00, 1903.58it/s]\n",
      "100%|██████████| 64/64 [00:00<00:00, 171.71it/s]\n",
      "100%|██████████| 64/64 [00:00<00:00, 135.32it/s]\n",
      "100%|██████████| 64/64 [00:08<00:00,  7.31it/s]\n",
      "100%|██████████| 64/64 [00:00<00:00, 3394.18it/s]\n",
      "100%|██████████| 64/64 [00:00<00:00, 1209.90it/s]\n",
      "100%|██████████| 64/64 [00:00<00:00, 1109.28it/s]\n",
      "100%|██████████| 64/64 [00:00<00:00, 5865.13it/s]\n",
      "100%|██████████| 64/64 [00:00<00:00, 118097.43it/s]\n",
      "  0%|          | 0/64 [00:00<?, ?it/s]"
     ]
    },
    {
     "name": "stdout",
     "output_type": "stream",
     "text": [
      "(1, 3329)\n",
      "(779, 3330)\n"
     ]
    },
    {
     "name": "stderr",
     "output_type": "stream",
     "text": [
      "100%|██████████| 64/64 [00:00<00:00, 81.43it/s]\n",
      "100%|██████████| 64/64 [00:00<00:00, 86.44it/s]\n",
      "100%|██████████| 64/64 [00:00<00:00, 89.43it/s]\n",
      "100%|██████████| 64/64 [00:00<00:00, 2352.14it/s]\n",
      "100%|██████████| 64/64 [00:00<00:00, 169.07it/s]\n",
      "100%|██████████| 64/64 [00:00<00:00, 135.42it/s]\n",
      "100%|██████████| 64/64 [00:08<00:00,  7.35it/s]\n",
      "100%|██████████| 64/64 [00:00<00:00, 3414.17it/s]\n",
      "100%|██████████| 64/64 [00:00<00:00, 1234.96it/s]\n",
      "100%|██████████| 64/64 [00:00<00:00, 1092.44it/s]\n",
      "100%|██████████| 64/64 [00:00<00:00, 6621.17it/s]\n",
      "100%|██████████| 64/64 [00:00<00:00, 237974.70it/s]\n",
      " 14%|█▍        | 9/64 [00:00<00:00, 88.96it/s]"
     ]
    },
    {
     "name": "stdout",
     "output_type": "stream",
     "text": [
      "(1, 3329)\n",
      "(780, 3330)\n"
     ]
    },
    {
     "name": "stderr",
     "output_type": "stream",
     "text": [
      "100%|██████████| 64/64 [00:00<00:00, 83.38it/s]\n",
      "100%|██████████| 64/64 [00:00<00:00, 87.33it/s]\n",
      "100%|██████████| 64/64 [00:00<00:00, 96.74it/s]\n",
      "100%|██████████| 64/64 [00:00<00:00, 1953.42it/s]\n",
      "100%|██████████| 64/64 [00:00<00:00, 175.51it/s]\n",
      "100%|██████████| 64/64 [00:00<00:00, 144.06it/s]\n",
      "100%|██████████| 64/64 [00:08<00:00,  7.46it/s]\n",
      "100%|██████████| 64/64 [00:00<00:00, 3387.88it/s]\n",
      "100%|██████████| 64/64 [00:00<00:00, 1171.07it/s]\n",
      "100%|██████████| 64/64 [00:00<00:00, 1207.28it/s]\n",
      "100%|██████████| 64/64 [00:00<00:00, 6870.80it/s]\n",
      "100%|██████████| 64/64 [00:00<00:00, 222583.30it/s]\n",
      " 14%|█▍        | 9/64 [00:00<00:00, 87.54it/s]"
     ]
    },
    {
     "name": "stdout",
     "output_type": "stream",
     "text": [
      "(1, 3329)\n",
      "(781, 3330)\n"
     ]
    },
    {
     "name": "stderr",
     "output_type": "stream",
     "text": [
      "100%|██████████| 64/64 [00:00<00:00, 84.97it/s]\n",
      "100%|██████████| 64/64 [00:00<00:00, 84.03it/s]\n",
      "100%|██████████| 64/64 [00:00<00:00, 93.29it/s]\n",
      "100%|██████████| 64/64 [00:00<00:00, 2050.57it/s]\n",
      "100%|██████████| 64/64 [00:00<00:00, 178.72it/s]\n",
      "100%|██████████| 64/64 [00:00<00:00, 141.91it/s]\n",
      "100%|██████████| 64/64 [00:08<00:00,  7.44it/s]\n",
      "100%|██████████| 64/64 [00:00<00:00, 3307.28it/s]\n",
      "100%|██████████| 64/64 [00:00<00:00, 1358.87it/s]\n",
      "100%|██████████| 64/64 [00:00<00:00, 1287.44it/s]\n",
      "100%|██████████| 64/64 [00:00<00:00, 5214.06it/s]\n",
      "100%|██████████| 64/64 [00:00<00:00, 29677.77it/s]\n",
      "  0%|          | 0/64 [00:00<?, ?it/s]"
     ]
    },
    {
     "name": "stdout",
     "output_type": "stream",
     "text": [
      "(1, 3329)\n",
      "(782, 3330)\n"
     ]
    },
    {
     "name": "stderr",
     "output_type": "stream",
     "text": [
      "100%|██████████| 64/64 [00:00<00:00, 86.72it/s]\n",
      "100%|██████████| 64/64 [00:00<00:00, 88.54it/s]\n",
      "100%|██████████| 64/64 [00:00<00:00, 89.17it/s]\n",
      "100%|██████████| 64/64 [00:00<00:00, 2210.55it/s]\n",
      "100%|██████████| 64/64 [00:00<00:00, 161.60it/s]\n",
      "100%|██████████| 64/64 [00:00<00:00, 138.83it/s]\n",
      "100%|██████████| 64/64 [00:08<00:00,  7.30it/s]\n",
      "100%|██████████| 64/64 [00:00<00:00, 3467.40it/s]\n",
      "100%|██████████| 64/64 [00:00<00:00, 1370.09it/s]\n",
      "100%|██████████| 64/64 [00:00<00:00, 1281.05it/s]\n",
      "100%|██████████| 64/64 [00:00<00:00, 7304.96it/s]\n",
      "100%|██████████| 64/64 [00:00<00:00, 48975.64it/s]\n",
      "  0%|          | 0/64 [00:00<?, ?it/s]"
     ]
    },
    {
     "name": "stdout",
     "output_type": "stream",
     "text": [
      "(1, 3329)\n",
      "(783, 3330)\n"
     ]
    },
    {
     "name": "stderr",
     "output_type": "stream",
     "text": [
      "100%|██████████| 64/64 [00:00<00:00, 87.83it/s]\n",
      "100%|██████████| 64/64 [00:00<00:00, 92.07it/s]\n",
      "100%|██████████| 64/64 [00:00<00:00, 95.61it/s]\n",
      "100%|██████████| 64/64 [00:00<00:00, 2193.69it/s]\n",
      "100%|██████████| 64/64 [00:00<00:00, 175.33it/s]\n",
      "100%|██████████| 64/64 [00:00<00:00, 148.93it/s]\n",
      "100%|██████████| 64/64 [00:08<00:00,  7.54it/s]\n",
      "100%|██████████| 64/64 [00:00<00:00, 2347.80it/s]\n",
      "100%|██████████| 64/64 [00:00<00:00, 1370.65it/s]\n",
      "100%|██████████| 64/64 [00:00<00:00, 1286.92it/s]\n",
      "100%|██████████| 64/64 [00:00<00:00, 5577.53it/s]\n",
      "100%|██████████| 64/64 [00:00<00:00, 13983.93it/s]\n",
      "  0%|          | 0/64 [00:00<?, ?it/s]"
     ]
    },
    {
     "name": "stdout",
     "output_type": "stream",
     "text": [
      "(1, 3329)\n",
      "(784, 3330)\n"
     ]
    },
    {
     "name": "stderr",
     "output_type": "stream",
     "text": [
      "100%|██████████| 64/64 [00:00<00:00, 91.47it/s]\n",
      "100%|██████████| 64/64 [00:00<00:00, 90.19it/s]\n",
      "100%|██████████| 64/64 [00:00<00:00, 97.12it/s]\n",
      "100%|██████████| 64/64 [00:00<00:00, 2366.65it/s]\n",
      "100%|██████████| 64/64 [00:00<00:00, 180.05it/s]\n",
      "100%|██████████| 64/64 [00:00<00:00, 144.16it/s]\n",
      "100%|██████████| 64/64 [00:08<00:00,  7.28it/s]\n",
      "100%|██████████| 64/64 [00:00<00:00, 3462.43it/s]\n",
      "100%|██████████| 64/64 [00:00<00:00, 1330.13it/s]\n",
      "100%|██████████| 64/64 [00:00<00:00, 1191.73it/s]\n",
      "100%|██████████| 64/64 [00:00<00:00, 4335.41it/s]\n",
      "100%|██████████| 64/64 [00:00<00:00, 97755.08it/s]\n",
      "  0%|          | 0/64 [00:00<?, ?it/s]"
     ]
    },
    {
     "name": "stdout",
     "output_type": "stream",
     "text": [
      "(1, 3329)\n",
      "(785, 3330)\n"
     ]
    },
    {
     "name": "stderr",
     "output_type": "stream",
     "text": [
      "100%|██████████| 64/64 [00:00<00:00, 84.20it/s]\n",
      "100%|██████████| 64/64 [00:00<00:00, 88.49it/s]\n",
      "100%|██████████| 64/64 [00:00<00:00, 93.46it/s]\n",
      "100%|██████████| 64/64 [00:00<00:00, 2238.70it/s]\n",
      "100%|██████████| 64/64 [00:00<00:00, 167.26it/s]\n",
      "100%|██████████| 64/64 [00:00<00:00, 140.32it/s]\n",
      "100%|██████████| 64/64 [00:08<00:00,  7.69it/s]\n",
      "100%|██████████| 64/64 [00:00<00:00, 3626.18it/s]\n",
      "100%|██████████| 64/64 [00:00<00:00, 1370.11it/s]\n",
      "100%|██████████| 64/64 [00:00<00:00, 1369.21it/s]\n",
      "100%|██████████| 64/64 [00:00<00:00, 6815.16it/s]\n",
      "100%|██████████| 64/64 [00:00<00:00, 26470.31it/s]\n",
      " 16%|█▌        | 10/64 [00:00<00:00, 95.01it/s]"
     ]
    },
    {
     "name": "stdout",
     "output_type": "stream",
     "text": [
      "(1, 3329)\n",
      "(786, 3330)\n"
     ]
    },
    {
     "name": "stderr",
     "output_type": "stream",
     "text": [
      "100%|██████████| 64/64 [00:00<00:00, 91.87it/s]\n",
      "100%|██████████| 64/64 [00:00<00:00, 93.93it/s]\n",
      "100%|██████████| 64/64 [00:00<00:00, 94.57it/s]\n",
      "100%|██████████| 64/64 [00:00<00:00, 2242.62it/s]\n",
      "100%|██████████| 64/64 [00:00<00:00, 179.23it/s]\n",
      "100%|██████████| 64/64 [00:00<00:00, 142.61it/s]\n",
      "100%|██████████| 64/64 [00:08<00:00,  7.63it/s]\n",
      "100%|██████████| 64/64 [00:00<00:00, 3466.28it/s]\n",
      "100%|██████████| 64/64 [00:00<00:00, 1217.38it/s]\n",
      "100%|██████████| 64/64 [00:00<00:00, 1206.73it/s]\n",
      "100%|██████████| 64/64 [00:00<00:00, 8707.52it/s]\n",
      "100%|██████████| 64/64 [00:00<00:00, 31971.83it/s]\n",
      " 16%|█▌        | 10/64 [00:00<00:00, 96.46it/s]"
     ]
    },
    {
     "name": "stdout",
     "output_type": "stream",
     "text": [
      "(1, 3329)\n",
      "(787, 3330)\n"
     ]
    },
    {
     "name": "stderr",
     "output_type": "stream",
     "text": [
      "100%|██████████| 64/64 [00:00<00:00, 91.51it/s]\n",
      "100%|██████████| 64/64 [00:00<00:00, 95.41it/s]\n",
      "100%|██████████| 64/64 [00:00<00:00, 97.01it/s]\n",
      "100%|██████████| 64/64 [00:00<00:00, 2012.41it/s]\n",
      "100%|██████████| 64/64 [00:00<00:00, 175.47it/s]\n",
      "100%|██████████| 64/64 [00:00<00:00, 143.95it/s]\n",
      "100%|██████████| 64/64 [00:08<00:00,  7.51it/s]\n",
      "100%|██████████| 64/64 [00:00<00:00, 2900.88it/s]\n",
      "100%|██████████| 64/64 [00:00<00:00, 1273.76it/s]\n",
      "100%|██████████| 64/64 [00:00<00:00, 938.83it/s]\n",
      "100%|██████████| 64/64 [00:00<00:00, 7687.38it/s]\n",
      "100%|██████████| 64/64 [00:00<00:00, 81442.80it/s]\n",
      " 16%|█▌        | 10/64 [00:00<00:00, 97.07it/s]"
     ]
    },
    {
     "name": "stdout",
     "output_type": "stream",
     "text": [
      "(1, 3329)\n",
      "(788, 3330)\n"
     ]
    },
    {
     "name": "stderr",
     "output_type": "stream",
     "text": [
      "100%|██████████| 64/64 [00:00<00:00, 93.07it/s]\n",
      "100%|██████████| 64/64 [00:00<00:00, 90.57it/s]\n",
      "100%|██████████| 64/64 [00:00<00:00, 95.14it/s]\n",
      "100%|██████████| 64/64 [00:00<00:00, 2128.68it/s]\n",
      "100%|██████████| 64/64 [00:00<00:00, 172.78it/s]\n",
      "100%|██████████| 64/64 [00:00<00:00, 136.60it/s]\n",
      "100%|██████████| 64/64 [00:08<00:00,  7.92it/s]\n",
      "100%|██████████| 64/64 [00:00<00:00, 3660.90it/s]\n",
      "100%|██████████| 64/64 [00:00<00:00, 1291.08it/s]\n",
      "100%|██████████| 64/64 [00:00<00:00, 1369.96it/s]\n",
      "100%|██████████| 64/64 [00:00<00:00, 8959.50it/s]\n",
      "100%|██████████| 64/64 [00:00<00:00, 22241.73it/s]\n",
      " 16%|█▌        | 10/64 [00:00<00:00, 94.88it/s]"
     ]
    },
    {
     "name": "stdout",
     "output_type": "stream",
     "text": [
      "(1, 3329)\n",
      "(789, 3330)\n"
     ]
    },
    {
     "name": "stderr",
     "output_type": "stream",
     "text": [
      "100%|██████████| 64/64 [00:00<00:00, 95.68it/s]\n",
      "100%|██████████| 64/64 [00:00<00:00, 97.70it/s]\n",
      "100%|██████████| 64/64 [00:00<00:00, 99.85it/s]\n",
      "100%|██████████| 64/64 [00:00<00:00, 2194.55it/s]\n",
      "100%|██████████| 64/64 [00:00<00:00, 180.24it/s]\n",
      "100%|██████████| 64/64 [00:00<00:00, 143.41it/s]\n",
      "100%|██████████| 64/64 [00:08<00:00,  7.90it/s]\n",
      "100%|██████████| 64/64 [00:00<00:00, 3351.30it/s]\n",
      "100%|██████████| 64/64 [00:00<00:00, 1294.18it/s]\n",
      "100%|██████████| 64/64 [00:00<00:00, 1186.82it/s]\n",
      "100%|██████████| 64/64 [00:00<00:00, 8129.48it/s]\n",
      "100%|██████████| 64/64 [00:00<00:00, 80177.85it/s]\n",
      " 16%|█▌        | 10/64 [00:00<00:00, 95.61it/s]"
     ]
    },
    {
     "name": "stdout",
     "output_type": "stream",
     "text": [
      "(1, 3329)\n",
      "(790, 3330)\n"
     ]
    },
    {
     "name": "stderr",
     "output_type": "stream",
     "text": [
      "100%|██████████| 64/64 [00:00<00:00, 91.79it/s]\n",
      "100%|██████████| 64/64 [00:00<00:00, 94.63it/s]\n",
      "100%|██████████| 64/64 [00:00<00:00, 98.68it/s]\n",
      "100%|██████████| 64/64 [00:00<00:00, 2346.30it/s]\n",
      "100%|██████████| 64/64 [00:00<00:00, 184.25it/s]\n",
      "100%|██████████| 64/64 [00:00<00:00, 150.43it/s]\n",
      "100%|██████████| 64/64 [00:08<00:00,  7.68it/s]\n",
      "100%|██████████| 64/64 [00:00<00:00, 3626.13it/s]\n",
      "100%|██████████| 64/64 [00:00<00:00, 1394.49it/s]\n",
      "100%|██████████| 64/64 [00:00<00:00, 1380.57it/s]\n",
      "100%|██████████| 64/64 [00:00<00:00, 8450.93it/s]\n",
      "100%|██████████| 64/64 [00:00<00:00, 101143.73it/s]\n",
      " 16%|█▌        | 10/64 [00:00<00:00, 97.36it/s]"
     ]
    },
    {
     "name": "stdout",
     "output_type": "stream",
     "text": [
      "(1, 3329)\n",
      "(791, 3330)\n"
     ]
    },
    {
     "name": "stderr",
     "output_type": "stream",
     "text": [
      "100%|██████████| 64/64 [00:00<00:00, 92.54it/s]\n",
      "100%|██████████| 64/64 [00:00<00:00, 97.54it/s]\n",
      "100%|██████████| 64/64 [00:00<00:00, 99.31it/s]\n",
      "100%|██████████| 64/64 [00:00<00:00, 2338.53it/s]\n",
      "100%|██████████| 64/64 [00:00<00:00, 190.99it/s]\n",
      "100%|██████████| 64/64 [00:00<00:00, 147.02it/s]\n",
      "100%|██████████| 64/64 [00:08<00:00,  7.78it/s]\n",
      "100%|██████████| 64/64 [00:00<00:00, 3531.49it/s]\n",
      "100%|██████████| 64/64 [00:00<00:00, 1254.87it/s]\n",
      "100%|██████████| 64/64 [00:00<00:00, 1362.65it/s]\n",
      "100%|██████████| 64/64 [00:00<00:00, 7292.86it/s]\n",
      "100%|██████████| 64/64 [00:00<00:00, 222214.78it/s]\n",
      "  0%|          | 0/64 [00:00<?, ?it/s]"
     ]
    },
    {
     "name": "stdout",
     "output_type": "stream",
     "text": [
      "(1, 3329)\n",
      "(792, 3330)\n"
     ]
    },
    {
     "name": "stderr",
     "output_type": "stream",
     "text": [
      "100%|██████████| 64/64 [00:00<00:00, 91.17it/s]\n",
      "100%|██████████| 64/64 [00:00<00:00, 92.99it/s]\n",
      "100%|██████████| 64/64 [00:00<00:00, 99.54it/s] \n",
      "100%|██████████| 64/64 [00:00<00:00, 2441.85it/s]\n",
      "100%|██████████| 64/64 [00:00<00:00, 183.19it/s]\n",
      "100%|██████████| 64/64 [00:00<00:00, 150.83it/s]\n",
      "100%|██████████| 64/64 [00:07<00:00,  8.01it/s]\n",
      "100%|██████████| 64/64 [00:00<00:00, 3282.17it/s]\n",
      "100%|██████████| 64/64 [00:00<00:00, 1309.66it/s]\n",
      "100%|██████████| 64/64 [00:00<00:00, 1374.03it/s]\n",
      "100%|██████████| 64/64 [00:00<00:00, 6620.19it/s]\n",
      "100%|██████████| 64/64 [00:00<00:00, 221298.81it/s]\n",
      "  0%|          | 0/64 [00:00<?, ?it/s]"
     ]
    },
    {
     "name": "stdout",
     "output_type": "stream",
     "text": [
      "(1, 3329)\n",
      "(793, 3330)\n"
     ]
    },
    {
     "name": "stderr",
     "output_type": "stream",
     "text": [
      "100%|██████████| 64/64 [00:00<00:00, 91.70it/s]\n",
      "100%|██████████| 64/64 [00:00<00:00, 93.76it/s]\n",
      "100%|██████████| 64/64 [00:00<00:00, 95.58it/s]\n",
      "100%|██████████| 64/64 [00:00<00:00, 1806.53it/s]\n",
      "100%|██████████| 64/64 [00:00<00:00, 185.71it/s]\n",
      "100%|██████████| 64/64 [00:00<00:00, 147.68it/s]\n",
      "100%|██████████| 64/64 [00:08<00:00,  7.78it/s]\n",
      "100%|██████████| 64/64 [00:00<00:00, 3078.21it/s]\n",
      "100%|██████████| 64/64 [00:00<00:00, 1468.18it/s]\n",
      "100%|██████████| 64/64 [00:00<00:00, 1279.84it/s]\n",
      "100%|██████████| 64/64 [00:00<00:00, 7648.17it/s]\n",
      "100%|██████████| 64/64 [00:00<00:00, 93596.74it/s]\n",
      "  0%|          | 0/64 [00:00<?, ?it/s]"
     ]
    },
    {
     "name": "stdout",
     "output_type": "stream",
     "text": [
      "(1, 3329)\n",
      "(794, 3330)\n"
     ]
    },
    {
     "name": "stderr",
     "output_type": "stream",
     "text": [
      "100%|██████████| 64/64 [00:00<00:00, 88.51it/s]\n",
      "100%|██████████| 64/64 [00:00<00:00, 97.04it/s]\n",
      "100%|██████████| 64/64 [00:00<00:00, 100.74it/s]\n",
      "100%|██████████| 64/64 [00:00<00:00, 2187.58it/s]\n",
      "100%|██████████| 64/64 [00:00<00:00, 173.61it/s]\n",
      "100%|██████████| 64/64 [00:00<00:00, 147.71it/s]\n",
      "100%|██████████| 64/64 [00:08<00:00,  7.87it/s]\n",
      "100%|██████████| 64/64 [00:00<00:00, 3384.29it/s]\n",
      "100%|██████████| 64/64 [00:00<00:00, 1360.74it/s]\n",
      "100%|██████████| 64/64 [00:00<00:00, 1147.99it/s]\n",
      "100%|██████████| 64/64 [00:00<00:00, 6939.19it/s]\n",
      "100%|██████████| 64/64 [00:00<00:00, 88827.09it/s]\n",
      " 16%|█▌        | 10/64 [00:00<00:00, 93.91it/s]"
     ]
    },
    {
     "name": "stdout",
     "output_type": "stream",
     "text": [
      "(1, 3329)\n",
      "(795, 3330)\n"
     ]
    },
    {
     "name": "stderr",
     "output_type": "stream",
     "text": [
      "100%|██████████| 64/64 [00:00<00:00, 91.20it/s]\n",
      "100%|██████████| 64/64 [00:00<00:00, 92.11it/s]\n",
      "100%|██████████| 64/64 [00:00<00:00, 88.65it/s]\n",
      "100%|██████████| 64/64 [00:00<00:00, 2399.12it/s]\n",
      "100%|██████████| 64/64 [00:00<00:00, 168.37it/s]\n",
      "100%|██████████| 64/64 [00:00<00:00, 145.32it/s]\n",
      "100%|██████████| 64/64 [00:07<00:00,  8.13it/s]\n",
      "100%|██████████| 64/64 [00:00<00:00, 3508.82it/s]\n",
      "100%|██████████| 64/64 [00:00<00:00, 1380.37it/s]\n",
      "100%|██████████| 64/64 [00:00<00:00, 1350.13it/s]\n",
      "100%|██████████| 64/64 [00:00<00:00, 7345.14it/s]\n",
      "100%|██████████| 64/64 [00:00<00:00, 153479.39it/s]\n",
      "  0%|          | 0/64 [00:00<?, ?it/s]"
     ]
    },
    {
     "name": "stdout",
     "output_type": "stream",
     "text": [
      "(1, 3329)\n",
      "(796, 3330)\n"
     ]
    },
    {
     "name": "stderr",
     "output_type": "stream",
     "text": [
      "100%|██████████| 64/64 [00:00<00:00, 95.61it/s]\n",
      "100%|██████████| 64/64 [00:00<00:00, 99.27it/s]\n",
      "100%|██████████| 64/64 [00:00<00:00, 104.57it/s]\n",
      "100%|██████████| 64/64 [00:00<00:00, 2244.44it/s]\n",
      "100%|██████████| 64/64 [00:00<00:00, 186.92it/s]\n",
      "100%|██████████| 64/64 [00:00<00:00, 152.80it/s]\n",
      "100%|██████████| 64/64 [00:07<00:00,  8.12it/s]\n",
      "100%|██████████| 64/64 [00:00<00:00, 3325.64it/s]\n",
      "100%|██████████| 64/64 [00:00<00:00, 1275.03it/s]\n",
      "100%|██████████| 64/64 [00:00<00:00, 1035.25it/s]\n",
      "100%|██████████| 64/64 [00:00<00:00, 7436.50it/s]\n",
      "100%|██████████| 64/64 [00:00<00:00, 123248.60it/s]\n",
      " 16%|█▌        | 10/64 [00:00<00:00, 98.02it/s]"
     ]
    },
    {
     "name": "stdout",
     "output_type": "stream",
     "text": [
      "(1, 3329)\n",
      "(797, 3330)\n"
     ]
    },
    {
     "name": "stderr",
     "output_type": "stream",
     "text": [
      "100%|██████████| 64/64 [00:00<00:00, 91.90it/s]\n",
      "100%|██████████| 64/64 [00:00<00:00, 91.79it/s]\n",
      "100%|██████████| 64/64 [00:00<00:00, 99.32it/s]\n",
      "100%|██████████| 64/64 [00:00<00:00, 2222.88it/s]\n",
      "100%|██████████| 64/64 [00:00<00:00, 173.85it/s]\n",
      "100%|██████████| 64/64 [00:00<00:00, 153.74it/s]\n",
      "100%|██████████| 64/64 [00:08<00:00,  7.87it/s]\n",
      "100%|██████████| 64/64 [00:00<00:00, 3593.18it/s]\n",
      "100%|██████████| 64/64 [00:00<00:00, 1368.49it/s]\n",
      "100%|██████████| 64/64 [00:00<00:00, 1200.77it/s]\n",
      "100%|██████████| 64/64 [00:00<00:00, 7451.99it/s]\n",
      "100%|██████████| 64/64 [00:00<00:00, 27385.78it/s]\n",
      " 17%|█▋        | 11/64 [00:00<00:00, 105.60it/s]"
     ]
    },
    {
     "name": "stdout",
     "output_type": "stream",
     "text": [
      "(1, 3329)\n",
      "(798, 3330)\n"
     ]
    },
    {
     "name": "stderr",
     "output_type": "stream",
     "text": [
      "100%|██████████| 64/64 [00:00<00:00, 95.56it/s]\n",
      "100%|██████████| 64/64 [00:00<00:00, 96.81it/s]\n",
      "100%|██████████| 64/64 [00:00<00:00, 102.62it/s]\n",
      "100%|██████████| 64/64 [00:00<00:00, 2320.18it/s]\n",
      "100%|██████████| 64/64 [00:00<00:00, 182.58it/s]\n",
      "100%|██████████| 64/64 [00:00<00:00, 158.04it/s]\n",
      "100%|██████████| 64/64 [00:08<00:00,  7.93it/s]\n",
      "100%|██████████| 64/64 [00:00<00:00, 3043.07it/s]\n",
      "100%|██████████| 64/64 [00:00<00:00, 1239.57it/s]\n",
      "100%|██████████| 64/64 [00:00<00:00, 1203.03it/s]\n",
      "100%|██████████| 64/64 [00:00<00:00, 8027.38it/s]\n",
      "100%|██████████| 64/64 [00:00<00:00, 99383.73it/s]\n",
      "  0%|          | 0/64 [00:00<?, ?it/s]"
     ]
    },
    {
     "name": "stdout",
     "output_type": "stream",
     "text": [
      "(1, 3329)\n",
      "(799, 3330)\n"
     ]
    },
    {
     "name": "stderr",
     "output_type": "stream",
     "text": [
      "100%|██████████| 64/64 [00:00<00:00, 93.28it/s]\n",
      "100%|██████████| 64/64 [00:00<00:00, 88.90it/s]\n",
      "100%|██████████| 64/64 [00:00<00:00, 100.21it/s]\n",
      "100%|██████████| 64/64 [00:00<00:00, 1928.93it/s]\n",
      "100%|██████████| 64/64 [00:00<00:00, 183.87it/s]\n",
      "100%|██████████| 64/64 [00:00<00:00, 151.84it/s]\n",
      "100%|██████████| 64/64 [00:08<00:00,  7.92it/s]\n",
      "100%|██████████| 64/64 [00:00<00:00, 3305.29it/s]\n",
      "100%|██████████| 64/64 [00:00<00:00, 1287.63it/s]\n",
      "100%|██████████| 64/64 [00:00<00:00, 965.71it/s]\n",
      "100%|██████████| 64/64 [00:00<00:00, 7621.68it/s]\n",
      "100%|██████████| 64/64 [00:00<00:00, 22221.48it/s]\n",
      "  0%|          | 0/64 [00:00<?, ?it/s]"
     ]
    },
    {
     "name": "stdout",
     "output_type": "stream",
     "text": [
      "(1, 3329)\n",
      "(800, 3330)\n"
     ]
    },
    {
     "name": "stderr",
     "output_type": "stream",
     "text": [
      "100%|██████████| 64/64 [00:00<00:00, 93.32it/s]\n",
      "100%|██████████| 64/64 [00:00<00:00, 96.94it/s]\n",
      "100%|██████████| 64/64 [00:00<00:00, 102.39it/s]\n",
      "100%|██████████| 64/64 [00:00<00:00, 2462.28it/s]\n",
      "100%|██████████| 64/64 [00:00<00:00, 194.10it/s]\n",
      "100%|██████████| 64/64 [00:00<00:00, 159.65it/s]\n",
      "100%|██████████| 64/64 [00:07<00:00,  8.10it/s]\n",
      "100%|██████████| 64/64 [00:00<00:00, 3198.55it/s]\n",
      "100%|██████████| 64/64 [00:00<00:00, 1237.99it/s]\n",
      "100%|██████████| 64/64 [00:00<00:00, 1298.05it/s]\n",
      "100%|██████████| 64/64 [00:00<00:00, 6636.89it/s]\n",
      "100%|██████████| 64/64 [00:00<00:00, 33185.25it/s]\n",
      " 17%|█▋        | 11/64 [00:00<00:00, 104.98it/s]"
     ]
    },
    {
     "name": "stdout",
     "output_type": "stream",
     "text": [
      "(1, 3329)\n",
      "(801, 3330)\n"
     ]
    },
    {
     "name": "stderr",
     "output_type": "stream",
     "text": [
      "100%|██████████| 64/64 [00:00<00:00, 96.10it/s]\n",
      "100%|██████████| 64/64 [00:00<00:00, 96.87it/s]\n",
      "100%|██████████| 64/64 [00:00<00:00, 100.73it/s]\n",
      "100%|██████████| 64/64 [00:00<00:00, 1893.06it/s]\n",
      "100%|██████████| 64/64 [00:00<00:00, 179.35it/s]\n",
      "100%|██████████| 64/64 [00:00<00:00, 149.26it/s]\n",
      "100%|██████████| 64/64 [00:08<00:00,  7.80it/s]\n",
      "100%|██████████| 64/64 [00:00<00:00, 3513.14it/s]\n",
      "100%|██████████| 64/64 [00:00<00:00, 1368.15it/s]\n",
      "100%|██████████| 64/64 [00:00<00:00, 1370.51it/s]\n",
      "100%|██████████| 64/64 [00:00<00:00, 4505.16it/s]\n",
      "100%|██████████| 64/64 [00:00<00:00, 293051.81it/s]\n",
      "  0%|          | 0/64 [00:00<?, ?it/s]"
     ]
    },
    {
     "name": "stdout",
     "output_type": "stream",
     "text": [
      "(1, 3329)\n",
      "(802, 3330)\n"
     ]
    },
    {
     "name": "stderr",
     "output_type": "stream",
     "text": [
      "100%|██████████| 64/64 [00:00<00:00, 88.92it/s]\n",
      "100%|██████████| 64/64 [00:00<00:00, 93.75it/s]\n",
      "100%|██████████| 64/64 [00:00<00:00, 100.75it/s]\n",
      "100%|██████████| 64/64 [00:00<00:00, 2043.68it/s]\n",
      "100%|██████████| 64/64 [00:00<00:00, 183.32it/s]\n",
      "100%|██████████| 64/64 [00:00<00:00, 154.73it/s]\n",
      "100%|██████████| 64/64 [00:07<00:00,  8.02it/s]\n",
      "100%|██████████| 64/64 [00:00<00:00, 3273.72it/s]\n",
      "100%|██████████| 64/64 [00:00<00:00, 1338.67it/s]\n",
      "100%|██████████| 64/64 [00:00<00:00, 1400.44it/s]\n",
      "100%|██████████| 64/64 [00:00<00:00, 8271.00it/s]\n",
      "100%|██████████| 64/64 [00:00<00:00, 225576.01it/s]\n",
      "  0%|          | 0/64 [00:00<?, ?it/s]"
     ]
    },
    {
     "name": "stdout",
     "output_type": "stream",
     "text": [
      "(1, 3329)\n",
      "(803, 3330)\n"
     ]
    },
    {
     "name": "stderr",
     "output_type": "stream",
     "text": [
      "100%|██████████| 64/64 [00:00<00:00, 93.38it/s]\n",
      "100%|██████████| 64/64 [00:00<00:00, 98.07it/s]\n",
      "100%|██████████| 64/64 [00:00<00:00, 103.75it/s]\n",
      "100%|██████████| 64/64 [00:00<00:00, 2229.96it/s]\n",
      "100%|██████████| 64/64 [00:00<00:00, 185.75it/s]\n",
      "100%|██████████| 64/64 [00:00<00:00, 154.27it/s]\n",
      "100%|██████████| 64/64 [00:07<00:00,  8.06it/s]\n",
      "100%|██████████| 64/64 [00:00<00:00, 3448.29it/s]\n",
      "100%|██████████| 64/64 [00:00<00:00, 1275.97it/s]\n",
      "100%|██████████| 64/64 [00:00<00:00, 1325.16it/s]\n",
      "100%|██████████| 64/64 [00:00<00:00, 8025.22it/s]\n",
      "100%|██████████| 64/64 [00:00<00:00, 20104.51it/s]\n",
      "  0%|          | 0/64 [00:00<?, ?it/s]"
     ]
    },
    {
     "name": "stdout",
     "output_type": "stream",
     "text": [
      "(1, 3329)\n",
      "(804, 3330)\n"
     ]
    },
    {
     "name": "stderr",
     "output_type": "stream",
     "text": [
      "100%|██████████| 64/64 [00:00<00:00, 95.31it/s]\n",
      "100%|██████████| 64/64 [00:00<00:00, 100.86it/s]\n",
      "100%|██████████| 64/64 [00:00<00:00, 104.16it/s]\n",
      "100%|██████████| 64/64 [00:00<00:00, 2344.09it/s]\n",
      "100%|██████████| 64/64 [00:00<00:00, 197.59it/s]\n",
      "100%|██████████| 64/64 [00:00<00:00, 154.46it/s]\n",
      "100%|██████████| 64/64 [00:07<00:00,  8.17it/s]\n",
      "100%|██████████| 64/64 [00:00<00:00, 3394.27it/s]\n",
      "100%|██████████| 64/64 [00:00<00:00, 1371.70it/s]\n",
      "100%|██████████| 64/64 [00:00<00:00, 1174.36it/s]\n",
      "100%|██████████| 64/64 [00:00<00:00, 7393.29it/s]\n",
      "100%|██████████| 64/64 [00:00<00:00, 252052.07it/s]\n",
      "  0%|          | 0/64 [00:00<?, ?it/s]"
     ]
    },
    {
     "name": "stdout",
     "output_type": "stream",
     "text": [
      "(1, 3329)\n",
      "(805, 3330)\n"
     ]
    },
    {
     "name": "stderr",
     "output_type": "stream",
     "text": [
      "100%|██████████| 64/64 [00:00<00:00, 102.07it/s]\n",
      "100%|██████████| 64/64 [00:00<00:00, 98.74it/s]\n",
      "100%|██████████| 64/64 [00:00<00:00, 102.16it/s]\n",
      "100%|██████████| 64/64 [00:00<00:00, 1812.16it/s]\n",
      "100%|██████████| 64/64 [00:00<00:00, 188.13it/s]\n",
      "100%|██████████| 64/64 [00:00<00:00, 161.91it/s]\n",
      "100%|██████████| 64/64 [00:07<00:00,  8.11it/s]\n",
      "100%|██████████| 64/64 [00:00<00:00, 3385.28it/s]\n",
      "100%|██████████| 64/64 [00:00<00:00, 1273.14it/s]\n",
      "100%|██████████| 64/64 [00:00<00:00, 1154.84it/s]\n",
      "100%|██████████| 64/64 [00:00<00:00, 5775.41it/s]\n",
      "100%|██████████| 64/64 [00:00<00:00, 13093.14it/s]\n",
      "  0%|          | 0/64 [00:00<?, ?it/s]"
     ]
    },
    {
     "name": "stdout",
     "output_type": "stream",
     "text": [
      "(1, 3329)\n",
      "(806, 3330)\n"
     ]
    },
    {
     "name": "stderr",
     "output_type": "stream",
     "text": [
      "100%|██████████| 64/64 [00:00<00:00, 93.46it/s]\n",
      "100%|██████████| 64/64 [00:00<00:00, 101.10it/s]\n",
      "100%|██████████| 64/64 [00:00<00:00, 108.63it/s]\n",
      "100%|██████████| 64/64 [00:00<00:00, 2335.03it/s]\n",
      "100%|██████████| 64/64 [00:00<00:00, 188.50it/s]\n",
      "100%|██████████| 64/64 [00:00<00:00, 161.04it/s]\n",
      "100%|██████████| 64/64 [00:07<00:00,  8.35it/s]\n",
      "100%|██████████| 64/64 [00:00<00:00, 3490.30it/s]\n",
      "100%|██████████| 64/64 [00:00<00:00, 1221.75it/s]\n",
      "100%|██████████| 64/64 [00:00<00:00, 1351.36it/s]\n",
      "100%|██████████| 64/64 [00:00<00:00, 5856.56it/s]\n",
      "100%|██████████| 64/64 [00:00<00:00, 121080.49it/s]\n",
      " 16%|█▌        | 10/64 [00:00<00:00, 99.74it/s]"
     ]
    },
    {
     "name": "stdout",
     "output_type": "stream",
     "text": [
      "(1, 3329)\n",
      "(807, 3330)\n"
     ]
    },
    {
     "name": "stderr",
     "output_type": "stream",
     "text": [
      "100%|██████████| 64/64 [00:00<00:00, 97.89it/s]\n",
      "100%|██████████| 64/64 [00:00<00:00, 100.28it/s]\n",
      "100%|██████████| 64/64 [00:00<00:00, 104.74it/s]\n",
      "100%|██████████| 64/64 [00:00<00:00, 2218.75it/s]\n",
      "100%|██████████| 64/64 [00:00<00:00, 196.48it/s]\n",
      "100%|██████████| 64/64 [00:00<00:00, 159.36it/s]\n",
      "100%|██████████| 64/64 [00:07<00:00,  8.35it/s]\n",
      "100%|██████████| 64/64 [00:00<00:00, 3594.81it/s]\n",
      "100%|██████████| 64/64 [00:00<00:00, 1507.13it/s]\n",
      "100%|██████████| 64/64 [00:00<00:00, 1306.37it/s]\n",
      "100%|██████████| 64/64 [00:00<00:00, 7875.47it/s]\n",
      "100%|██████████| 64/64 [00:00<00:00, 30840.47it/s]\n",
      " 17%|█▋        | 11/64 [00:00<00:00, 105.84it/s]"
     ]
    },
    {
     "name": "stdout",
     "output_type": "stream",
     "text": [
      "(1, 3329)\n",
      "(808, 3330)\n"
     ]
    },
    {
     "name": "stderr",
     "output_type": "stream",
     "text": [
      "100%|██████████| 64/64 [00:00<00:00, 100.56it/s]\n",
      "100%|██████████| 64/64 [00:00<00:00, 104.36it/s]\n",
      "100%|██████████| 64/64 [00:00<00:00, 104.80it/s]\n",
      "100%|██████████| 64/64 [00:00<00:00, 2302.86it/s]\n",
      "100%|██████████| 64/64 [00:00<00:00, 190.84it/s]\n",
      "100%|██████████| 64/64 [00:00<00:00, 157.42it/s]\n",
      "100%|██████████| 64/64 [00:07<00:00,  8.30it/s]\n",
      "100%|██████████| 64/64 [00:00<00:00, 3800.59it/s]\n",
      "100%|██████████| 64/64 [00:00<00:00, 1243.94it/s]\n",
      "100%|██████████| 64/64 [00:00<00:00, 1512.08it/s]\n",
      "100%|██████████| 64/64 [00:00<00:00, 5364.31it/s]\n",
      "100%|██████████| 64/64 [00:00<00:00, 80587.05it/s]\n",
      "  0%|          | 0/64 [00:00<?, ?it/s]"
     ]
    },
    {
     "name": "stdout",
     "output_type": "stream",
     "text": [
      "(1, 3329)\n",
      "(809, 3330)\n"
     ]
    },
    {
     "name": "stderr",
     "output_type": "stream",
     "text": [
      "100%|██████████| 64/64 [00:00<00:00, 102.64it/s]\n",
      "100%|██████████| 64/64 [00:00<00:00, 104.12it/s]\n",
      "100%|██████████| 64/64 [00:00<00:00, 107.08it/s]\n",
      "100%|██████████| 64/64 [00:00<00:00, 2197.89it/s]\n",
      "100%|██████████| 64/64 [00:00<00:00, 197.00it/s]\n",
      "100%|██████████| 64/64 [00:00<00:00, 160.35it/s]\n",
      "100%|██████████| 64/64 [00:07<00:00,  8.42it/s]\n",
      "100%|██████████| 64/64 [00:00<00:00, 3578.33it/s]\n",
      "100%|██████████| 64/64 [00:00<00:00, 1381.76it/s]\n",
      "100%|██████████| 64/64 [00:00<00:00, 1438.51it/s]\n",
      "100%|██████████| 64/64 [00:00<00:00, 6356.96it/s]\n",
      "100%|██████████| 64/64 [00:00<00:00, 90871.85it/s]\n",
      " 17%|█▋        | 11/64 [00:00<00:00, 104.41it/s]"
     ]
    },
    {
     "name": "stdout",
     "output_type": "stream",
     "text": [
      "(1, 3329)\n",
      "(810, 3330)\n"
     ]
    },
    {
     "name": "stderr",
     "output_type": "stream",
     "text": [
      "100%|██████████| 64/64 [00:00<00:00, 92.51it/s]\n",
      "100%|██████████| 64/64 [00:00<00:00, 99.63it/s]\n",
      "100%|██████████| 64/64 [00:00<00:00, 101.52it/s]\n",
      "100%|██████████| 64/64 [00:00<00:00, 2384.42it/s]\n",
      "100%|██████████| 64/64 [00:00<00:00, 185.33it/s]\n",
      "100%|██████████| 64/64 [00:00<00:00, 153.07it/s]\n",
      "100%|██████████| 64/64 [00:07<00:00,  8.14it/s]\n",
      "100%|██████████| 64/64 [00:00<00:00, 3648.46it/s]\n",
      "100%|██████████| 64/64 [00:00<00:00, 1394.89it/s]\n",
      "100%|██████████| 64/64 [00:00<00:00, 1379.32it/s]\n",
      "100%|██████████| 64/64 [00:00<00:00, 8734.44it/s]\n",
      "100%|██████████| 64/64 [00:00<00:00, 96663.83it/s]\n",
      " 16%|█▌        | 10/64 [00:00<00:00, 94.58it/s]"
     ]
    },
    {
     "name": "stdout",
     "output_type": "stream",
     "text": [
      "(1, 3329)\n",
      "(811, 3330)\n"
     ]
    },
    {
     "name": "stderr",
     "output_type": "stream",
     "text": [
      "100%|██████████| 64/64 [00:00<00:00, 98.51it/s]\n",
      "100%|██████████| 64/64 [00:00<00:00, 101.26it/s]\n",
      "100%|██████████| 64/64 [00:00<00:00, 106.91it/s]\n",
      "100%|██████████| 64/64 [00:00<00:00, 2159.98it/s]\n",
      "100%|██████████| 64/64 [00:00<00:00, 188.93it/s]\n",
      "100%|██████████| 64/64 [00:00<00:00, 158.55it/s]\n",
      "100%|██████████| 64/64 [00:07<00:00,  8.16it/s]\n",
      "100%|██████████| 64/64 [00:00<00:00, 3688.52it/s]\n",
      "100%|██████████| 64/64 [00:00<00:00, 1442.93it/s]\n",
      "100%|██████████| 64/64 [00:00<00:00, 1374.20it/s]\n",
      "100%|██████████| 64/64 [00:00<00:00, 6930.41it/s]\n",
      "100%|██████████| 64/64 [00:00<00:00, 226910.78it/s]\n",
      " 16%|█▌        | 10/64 [00:00<00:00, 98.09it/s]"
     ]
    },
    {
     "name": "stdout",
     "output_type": "stream",
     "text": [
      "(1, 3329)\n",
      "(812, 3330)\n"
     ]
    },
    {
     "name": "stderr",
     "output_type": "stream",
     "text": [
      "100%|██████████| 64/64 [00:00<00:00, 96.29it/s]\n",
      "100%|██████████| 64/64 [00:00<00:00, 105.99it/s]\n",
      "100%|██████████| 64/64 [00:00<00:00, 107.63it/s]\n",
      "100%|██████████| 64/64 [00:00<00:00, 2276.32it/s]\n",
      "100%|██████████| 64/64 [00:00<00:00, 197.73it/s]\n",
      "100%|██████████| 64/64 [00:00<00:00, 157.46it/s]\n",
      "100%|██████████| 64/64 [00:07<00:00,  8.35it/s]\n",
      "100%|██████████| 64/64 [00:00<00:00, 3288.52it/s]\n",
      "100%|██████████| 64/64 [00:00<00:00, 1335.91it/s]\n",
      "100%|██████████| 64/64 [00:00<00:00, 1312.54it/s]\n",
      "100%|██████████| 64/64 [00:00<00:00, 6891.44it/s]\n",
      "100%|██████████| 64/64 [00:00<00:00, 24800.02it/s]\n",
      " 16%|█▌        | 10/64 [00:00<00:00, 96.46it/s]"
     ]
    },
    {
     "name": "stdout",
     "output_type": "stream",
     "text": [
      "(1, 3329)\n",
      "(813, 3330)\n"
     ]
    },
    {
     "name": "stderr",
     "output_type": "stream",
     "text": [
      "100%|██████████| 64/64 [00:00<00:00, 100.82it/s]\n",
      "100%|██████████| 64/64 [00:00<00:00, 99.79it/s]\n",
      "100%|██████████| 64/64 [00:00<00:00, 107.90it/s]\n",
      "100%|██████████| 64/64 [00:00<00:00, 2451.78it/s]\n",
      "100%|██████████| 64/64 [00:00<00:00, 185.02it/s]\n",
      "100%|██████████| 64/64 [00:00<00:00, 157.46it/s]\n",
      "100%|██████████| 64/64 [00:07<00:00,  8.29it/s]\n",
      "100%|██████████| 64/64 [00:00<00:00, 3166.74it/s]\n",
      "100%|██████████| 64/64 [00:00<00:00, 1400.51it/s]\n",
      "100%|██████████| 64/64 [00:00<00:00, 1419.50it/s]\n",
      "100%|██████████| 64/64 [00:00<00:00, 10907.58it/s]\n",
      "100%|██████████| 64/64 [00:00<00:00, 93629.39it/s]\n",
      " 17%|█▋        | 11/64 [00:00<00:00, 104.89it/s]"
     ]
    },
    {
     "name": "stdout",
     "output_type": "stream",
     "text": [
      "(1, 3329)\n",
      "(814, 3330)\n"
     ]
    },
    {
     "name": "stderr",
     "output_type": "stream",
     "text": [
      "100%|██████████| 64/64 [00:00<00:00, 95.22it/s]\n",
      "100%|██████████| 64/64 [00:00<00:00, 102.85it/s]\n",
      "100%|██████████| 64/64 [00:00<00:00, 104.69it/s]\n",
      "100%|██████████| 64/64 [00:00<00:00, 2320.26it/s]\n",
      "100%|██████████| 64/64 [00:00<00:00, 197.96it/s]\n",
      "100%|██████████| 64/64 [00:00<00:00, 158.50it/s]\n",
      "100%|██████████| 64/64 [00:07<00:00,  8.14it/s]\n",
      "100%|██████████| 64/64 [00:00<00:00, 3386.90it/s]\n",
      "100%|██████████| 64/64 [00:00<00:00, 1311.84it/s]\n",
      "100%|██████████| 64/64 [00:00<00:00, 1411.09it/s]\n",
      "100%|██████████| 64/64 [00:00<00:00, 6496.50it/s]\n",
      "100%|██████████| 64/64 [00:00<00:00, 263689.05it/s]\n",
      " 16%|█▌        | 10/64 [00:00<00:00, 96.17it/s]"
     ]
    },
    {
     "name": "stdout",
     "output_type": "stream",
     "text": [
      "(1, 3329)\n",
      "(815, 3330)\n"
     ]
    },
    {
     "name": "stderr",
     "output_type": "stream",
     "text": [
      "100%|██████████| 64/64 [00:00<00:00, 100.76it/s]\n",
      "100%|██████████| 64/64 [00:00<00:00, 99.03it/s]\n",
      "100%|██████████| 64/64 [00:00<00:00, 106.89it/s]\n",
      "100%|██████████| 64/64 [00:00<00:00, 2068.26it/s]\n",
      "100%|██████████| 64/64 [00:00<00:00, 180.56it/s]\n",
      "100%|██████████| 64/64 [00:00<00:00, 154.98it/s]\n",
      "100%|██████████| 64/64 [00:07<00:00,  8.33it/s]\n",
      "100%|██████████| 64/64 [00:00<00:00, 3570.29it/s]\n",
      "100%|██████████| 64/64 [00:00<00:00, 1376.26it/s]\n",
      "100%|██████████| 64/64 [00:00<00:00, 1283.37it/s]\n",
      "100%|██████████| 64/64 [00:00<00:00, 6773.88it/s]\n",
      "100%|██████████| 64/64 [00:00<00:00, 83702.98it/s]\n",
      "  0%|          | 0/64 [00:00<?, ?it/s]"
     ]
    },
    {
     "name": "stdout",
     "output_type": "stream",
     "text": [
      "(1, 3329)\n",
      "(816, 3330)\n"
     ]
    },
    {
     "name": "stderr",
     "output_type": "stream",
     "text": [
      "100%|██████████| 64/64 [00:00<00:00, 98.25it/s]\n",
      "100%|██████████| 64/64 [00:00<00:00, 100.28it/s]\n",
      "100%|██████████| 64/64 [00:00<00:00, 105.30it/s]\n",
      "100%|██████████| 64/64 [00:00<00:00, 1921.53it/s]\n",
      "100%|██████████| 64/64 [00:00<00:00, 177.22it/s]\n",
      "100%|██████████| 64/64 [00:00<00:00, 150.01it/s]\n",
      "100%|██████████| 64/64 [00:07<00:00,  8.27it/s]\n",
      "100%|██████████| 64/64 [00:00<00:00, 3655.66it/s]\n",
      "100%|██████████| 64/64 [00:00<00:00, 1325.67it/s]\n",
      "100%|██████████| 64/64 [00:00<00:00, 1376.42it/s]\n",
      "100%|██████████| 64/64 [00:00<00:00, 7473.36it/s]\n",
      "100%|██████████| 64/64 [00:00<00:00, 245370.62it/s]\n",
      "  0%|          | 0/64 [00:00<?, ?it/s]"
     ]
    },
    {
     "name": "stdout",
     "output_type": "stream",
     "text": [
      "(1, 3329)\n",
      "(817, 3330)\n"
     ]
    },
    {
     "name": "stderr",
     "output_type": "stream",
     "text": [
      "100%|██████████| 64/64 [00:00<00:00, 97.35it/s]\n",
      "100%|██████████| 64/64 [00:00<00:00, 101.83it/s]\n",
      "100%|██████████| 64/64 [00:00<00:00, 103.62it/s]\n",
      "100%|██████████| 64/64 [00:00<00:00, 2284.05it/s]\n",
      "100%|██████████| 64/64 [00:00<00:00, 193.00it/s]\n",
      "100%|██████████| 64/64 [00:00<00:00, 132.22it/s]\n",
      "100%|██████████| 64/64 [00:07<00:00,  8.26it/s]\n",
      "100%|██████████| 64/64 [00:00<00:00, 3048.43it/s]\n",
      "100%|██████████| 64/64 [00:00<00:00, 1351.11it/s]\n",
      "100%|██████████| 64/64 [00:00<00:00, 1368.03it/s]\n",
      "100%|██████████| 64/64 [00:00<00:00, 7657.77it/s]\n",
      "100%|██████████| 64/64 [00:00<00:00, 86900.44it/s]\n",
      " 17%|█▋        | 11/64 [00:00<00:00, 101.53it/s]"
     ]
    },
    {
     "name": "stdout",
     "output_type": "stream",
     "text": [
      "(1, 3329)\n",
      "(818, 3330)\n"
     ]
    },
    {
     "name": "stderr",
     "output_type": "stream",
     "text": [
      "100%|██████████| 64/64 [00:00<00:00, 99.33it/s]\n",
      "100%|██████████| 64/64 [00:00<00:00, 101.98it/s]\n",
      "100%|██████████| 64/64 [00:00<00:00, 103.33it/s]\n",
      "100%|██████████| 64/64 [00:00<00:00, 1929.12it/s]\n",
      "100%|██████████| 64/64 [00:00<00:00, 202.15it/s]\n",
      "100%|██████████| 64/64 [00:00<00:00, 159.92it/s]\n",
      "100%|██████████| 64/64 [00:07<00:00,  8.32it/s]\n",
      "100%|██████████| 64/64 [00:00<00:00, 3382.16it/s]\n",
      "100%|██████████| 64/64 [00:00<00:00, 1214.47it/s]\n",
      "100%|██████████| 64/64 [00:00<00:00, 1304.26it/s]\n",
      "100%|██████████| 64/64 [00:00<00:00, 7815.40it/s]\n",
      "100%|██████████| 64/64 [00:00<00:00, 91867.03it/s]\n",
      " 16%|█▌        | 10/64 [00:00<00:00, 98.18it/s]"
     ]
    },
    {
     "name": "stdout",
     "output_type": "stream",
     "text": [
      "(1, 3329)\n",
      "(819, 3330)\n"
     ]
    },
    {
     "name": "stderr",
     "output_type": "stream",
     "text": [
      "100%|██████████| 64/64 [00:00<00:00, 99.10it/s]\n",
      "100%|██████████| 64/64 [00:00<00:00, 103.59it/s]\n",
      "100%|██████████| 64/64 [00:00<00:00, 101.19it/s]\n",
      "100%|██████████| 64/64 [00:00<00:00, 2271.53it/s]\n",
      "100%|██████████| 64/64 [00:00<00:00, 191.00it/s]\n",
      "100%|██████████| 64/64 [00:00<00:00, 159.33it/s]\n",
      "100%|██████████| 64/64 [00:07<00:00,  8.36it/s]\n",
      "100%|██████████| 64/64 [00:00<00:00, 3782.81it/s]\n",
      "100%|██████████| 64/64 [00:00<00:00, 1467.52it/s]\n",
      "100%|██████████| 64/64 [00:00<00:00, 1218.47it/s]\n",
      "100%|██████████| 64/64 [00:00<00:00, 7010.22it/s]\n",
      "100%|██████████| 64/64 [00:00<00:00, 93045.22it/s]\n",
      "  0%|          | 0/64 [00:00<?, ?it/s]"
     ]
    },
    {
     "name": "stdout",
     "output_type": "stream",
     "text": [
      "(1, 3329)\n",
      "(820, 3330)\n"
     ]
    },
    {
     "name": "stderr",
     "output_type": "stream",
     "text": [
      "100%|██████████| 64/64 [00:00<00:00, 99.43it/s]\n",
      "100%|██████████| 64/64 [00:00<00:00, 103.78it/s]\n",
      "100%|██████████| 64/64 [00:00<00:00, 109.03it/s]\n",
      "100%|██████████| 64/64 [00:00<00:00, 1783.10it/s]\n",
      "100%|██████████| 64/64 [00:00<00:00, 195.29it/s]\n",
      "100%|██████████| 64/64 [00:00<00:00, 162.10it/s]\n",
      "100%|██████████| 64/64 [00:07<00:00,  8.47it/s]\n",
      "100%|██████████| 64/64 [00:00<00:00, 3430.49it/s]\n",
      "100%|██████████| 64/64 [00:00<00:00, 1340.74it/s]\n",
      "100%|██████████| 64/64 [00:00<00:00, 1231.33it/s]\n",
      "100%|██████████| 64/64 [00:00<00:00, 6048.84it/s]\n",
      "100%|██████████| 64/64 [00:00<00:00, 95189.88it/s]\n",
      "  0%|          | 0/64 [00:00<?, ?it/s]"
     ]
    },
    {
     "name": "stdout",
     "output_type": "stream",
     "text": [
      "(1, 3329)\n",
      "(821, 3330)\n"
     ]
    },
    {
     "name": "stderr",
     "output_type": "stream",
     "text": [
      "100%|██████████| 64/64 [00:00<00:00, 96.05it/s]\n",
      "100%|██████████| 64/64 [00:00<00:00, 103.21it/s]\n",
      "100%|██████████| 64/64 [00:00<00:00, 107.77it/s]\n",
      "100%|██████████| 64/64 [00:00<00:00, 2261.79it/s]\n",
      "100%|██████████| 64/64 [00:00<00:00, 205.30it/s]\n",
      "100%|██████████| 64/64 [00:00<00:00, 160.07it/s]\n",
      "100%|██████████| 64/64 [00:07<00:00,  8.51it/s]\n",
      "100%|██████████| 64/64 [00:00<00:00, 3690.75it/s]\n",
      "100%|██████████| 64/64 [00:00<00:00, 1452.87it/s]\n",
      "100%|██████████| 64/64 [00:00<00:00, 1429.12it/s]\n",
      "100%|██████████| 64/64 [00:00<00:00, 7650.79it/s]\n",
      "100%|██████████| 64/64 [00:00<00:00, 104004.44it/s]\n",
      " 17%|█▋        | 11/64 [00:00<00:00, 106.83it/s]"
     ]
    },
    {
     "name": "stdout",
     "output_type": "stream",
     "text": [
      "(1, 3329)\n",
      "(822, 3330)\n"
     ]
    },
    {
     "name": "stderr",
     "output_type": "stream",
     "text": [
      "100%|██████████| 64/64 [00:00<00:00, 101.75it/s]\n",
      "100%|██████████| 64/64 [00:00<00:00, 104.55it/s]\n",
      "100%|██████████| 64/64 [00:00<00:00, 107.59it/s]\n",
      "100%|██████████| 64/64 [00:00<00:00, 2269.05it/s]\n",
      "100%|██████████| 64/64 [00:00<00:00, 192.87it/s]\n",
      "100%|██████████| 64/64 [00:00<00:00, 156.61it/s]\n",
      "100%|██████████| 64/64 [00:07<00:00,  8.49it/s]\n",
      "100%|██████████| 64/64 [00:00<00:00, 3622.37it/s]\n",
      "100%|██████████| 64/64 [00:00<00:00, 1414.80it/s]\n",
      "100%|██████████| 64/64 [00:00<00:00, 1420.02it/s]\n",
      "100%|██████████| 64/64 [00:00<00:00, 7204.19it/s]\n",
      "100%|██████████| 64/64 [00:00<00:00, 72218.31it/s]\n",
      "  0%|          | 0/64 [00:00<?, ?it/s]"
     ]
    },
    {
     "name": "stdout",
     "output_type": "stream",
     "text": [
      "(1, 3329)\n",
      "(823, 3330)\n"
     ]
    },
    {
     "name": "stderr",
     "output_type": "stream",
     "text": [
      "100%|██████████| 64/64 [00:00<00:00, 101.63it/s]\n",
      "100%|██████████| 64/64 [00:00<00:00, 97.17it/s]\n",
      "100%|██████████| 64/64 [00:00<00:00, 106.26it/s]\n",
      "100%|██████████| 64/64 [00:00<00:00, 2147.31it/s]\n",
      "100%|██████████| 64/64 [00:00<00:00, 185.70it/s]\n",
      "100%|██████████| 64/64 [00:00<00:00, 161.71it/s]\n",
      "100%|██████████| 64/64 [00:07<00:00,  8.59it/s]\n",
      "100%|██████████| 64/64 [00:00<00:00, 3388.27it/s]\n",
      "100%|██████████| 64/64 [00:00<00:00, 1437.51it/s]\n",
      "100%|██████████| 64/64 [00:00<00:00, 1401.45it/s]\n",
      "100%|██████████| 64/64 [00:00<00:00, 8908.65it/s]\n",
      "100%|██████████| 64/64 [00:00<00:00, 64965.02it/s]\n",
      " 17%|█▋        | 11/64 [00:00<00:00, 101.17it/s]"
     ]
    },
    {
     "name": "stdout",
     "output_type": "stream",
     "text": [
      "(1, 3329)\n",
      "(824, 3330)\n"
     ]
    },
    {
     "name": "stderr",
     "output_type": "stream",
     "text": [
      "100%|██████████| 64/64 [00:00<00:00, 97.94it/s]\n",
      "100%|██████████| 64/64 [00:00<00:00, 100.44it/s]\n",
      "100%|██████████| 64/64 [00:00<00:00, 106.38it/s]\n",
      "100%|██████████| 64/64 [00:00<00:00, 2364.13it/s]\n",
      "100%|██████████| 64/64 [00:00<00:00, 202.98it/s]\n",
      "100%|██████████| 64/64 [00:00<00:00, 159.87it/s]\n",
      "100%|██████████| 64/64 [00:07<00:00,  8.61it/s]\n",
      "100%|██████████| 64/64 [00:00<00:00, 3537.49it/s]\n",
      "100%|██████████| 64/64 [00:00<00:00, 1387.48it/s]\n",
      "100%|██████████| 64/64 [00:00<00:00, 1344.91it/s]\n",
      "100%|██████████| 64/64 [00:00<00:00, 8801.74it/s]\n",
      "100%|██████████| 64/64 [00:00<00:00, 253959.75it/s]\n",
      " 17%|█▋        | 11/64 [00:00<00:00, 104.52it/s]"
     ]
    },
    {
     "name": "stdout",
     "output_type": "stream",
     "text": [
      "(1, 3329)\n",
      "(825, 3330)\n"
     ]
    },
    {
     "name": "stderr",
     "output_type": "stream",
     "text": [
      "100%|██████████| 64/64 [00:00<00:00, 98.99it/s]\n",
      "100%|██████████| 64/64 [00:00<00:00, 107.01it/s]\n",
      "100%|██████████| 64/64 [00:00<00:00, 108.56it/s]\n",
      "100%|██████████| 64/64 [00:00<00:00, 2412.14it/s]\n",
      "100%|██████████| 64/64 [00:00<00:00, 197.12it/s]\n",
      "100%|██████████| 64/64 [00:00<00:00, 156.18it/s]\n",
      "100%|██████████| 64/64 [00:07<00:00,  8.40it/s]\n",
      "100%|██████████| 64/64 [00:00<00:00, 3437.78it/s]\n",
      "100%|██████████| 64/64 [00:00<00:00, 1447.41it/s]\n",
      "100%|██████████| 64/64 [00:00<00:00, 1406.65it/s]\n",
      "100%|██████████| 64/64 [00:00<00:00, 8561.99it/s]\n",
      "100%|██████████| 64/64 [00:00<00:00, 98436.18it/s]\n",
      " 17%|█▋        | 11/64 [00:00<00:00, 105.04it/s]"
     ]
    },
    {
     "name": "stdout",
     "output_type": "stream",
     "text": [
      "(1, 3329)\n",
      "(826, 3330)\n"
     ]
    },
    {
     "name": "stderr",
     "output_type": "stream",
     "text": [
      "100%|██████████| 64/64 [00:00<00:00, 101.34it/s]\n",
      "100%|██████████| 64/64 [00:00<00:00, 105.82it/s]\n",
      "100%|██████████| 64/64 [00:00<00:00, 109.20it/s]\n",
      "100%|██████████| 64/64 [00:00<00:00, 2346.94it/s]\n",
      "100%|██████████| 64/64 [00:00<00:00, 199.13it/s]\n",
      "100%|██████████| 64/64 [00:00<00:00, 161.07it/s]\n",
      "100%|██████████| 64/64 [00:07<00:00,  8.61it/s]\n",
      "100%|██████████| 64/64 [00:00<00:00, 3547.45it/s]\n",
      "100%|██████████| 64/64 [00:00<00:00, 1240.69it/s]\n",
      "100%|██████████| 64/64 [00:00<00:00, 1427.51it/s]\n",
      "100%|██████████| 64/64 [00:00<00:00, 7137.15it/s]\n",
      "100%|██████████| 64/64 [00:00<00:00, 247405.95it/s]\n",
      "  0%|          | 0/64 [00:00<?, ?it/s]"
     ]
    },
    {
     "name": "stdout",
     "output_type": "stream",
     "text": [
      "(1, 3329)\n",
      "(827, 3330)\n"
     ]
    },
    {
     "name": "stderr",
     "output_type": "stream",
     "text": [
      "100%|██████████| 64/64 [00:00<00:00, 103.11it/s]\n",
      "100%|██████████| 64/64 [00:00<00:00, 104.81it/s]\n",
      "100%|██████████| 64/64 [00:00<00:00, 110.03it/s]\n",
      "100%|██████████| 64/64 [00:00<00:00, 2369.48it/s]\n",
      "100%|██████████| 64/64 [00:00<00:00, 205.46it/s]\n",
      "100%|██████████| 64/64 [00:00<00:00, 161.42it/s]\n",
      "100%|██████████| 64/64 [00:07<00:00,  8.68it/s]\n",
      "100%|██████████| 64/64 [00:00<00:00, 3823.32it/s]\n",
      "100%|██████████| 64/64 [00:00<00:00, 1434.58it/s]\n",
      "100%|██████████| 64/64 [00:00<00:00, 1447.58it/s]\n",
      "100%|██████████| 64/64 [00:00<00:00, 6781.93it/s]\n",
      "100%|██████████| 64/64 [00:00<00:00, 257368.61it/s]\n",
      " 17%|█▋        | 11/64 [00:00<00:00, 108.44it/s]"
     ]
    },
    {
     "name": "stdout",
     "output_type": "stream",
     "text": [
      "(1, 3329)\n",
      "(828, 3330)\n"
     ]
    },
    {
     "name": "stderr",
     "output_type": "stream",
     "text": [
      "100%|██████████| 64/64 [00:00<00:00, 99.61it/s] \n",
      "100%|██████████| 64/64 [00:00<00:00, 104.07it/s]\n",
      "100%|██████████| 64/64 [00:00<00:00, 104.36it/s]\n",
      "100%|██████████| 64/64 [00:00<00:00, 2088.68it/s]\n",
      "100%|██████████| 64/64 [00:00<00:00, 191.78it/s]\n",
      "100%|██████████| 64/64 [00:00<00:00, 162.88it/s]\n",
      "100%|██████████| 64/64 [00:07<00:00,  8.57it/s]\n",
      "100%|██████████| 64/64 [00:00<00:00, 3716.14it/s]\n",
      "100%|██████████| 64/64 [00:00<00:00, 1366.88it/s]\n",
      "100%|██████████| 64/64 [00:00<00:00, 1434.28it/s]\n",
      "100%|██████████| 64/64 [00:00<00:00, 7522.99it/s]\n",
      "100%|██████████| 64/64 [00:00<00:00, 241616.07it/s]\n",
      "  0%|          | 0/64 [00:00<?, ?it/s]"
     ]
    },
    {
     "name": "stdout",
     "output_type": "stream",
     "text": [
      "(1, 3329)\n",
      "(829, 3330)\n"
     ]
    },
    {
     "name": "stderr",
     "output_type": "stream",
     "text": [
      "100%|██████████| 64/64 [00:00<00:00, 102.12it/s]\n",
      "100%|██████████| 64/64 [00:00<00:00, 104.05it/s]\n",
      "100%|██████████| 64/64 [00:00<00:00, 111.27it/s]\n",
      "100%|██████████| 64/64 [00:00<00:00, 2364.28it/s]\n",
      "100%|██████████| 64/64 [00:00<00:00, 199.32it/s]\n",
      "100%|██████████| 64/64 [00:00<00:00, 166.14it/s]\n",
      "100%|██████████| 64/64 [00:07<00:00,  8.58it/s]\n",
      "100%|██████████| 64/64 [00:00<00:00, 3367.10it/s]\n",
      "100%|██████████| 64/64 [00:00<00:00, 1441.56it/s]\n",
      "100%|██████████| 64/64 [00:00<00:00, 1326.73it/s]\n",
      "100%|██████████| 64/64 [00:00<00:00, 6986.14it/s]\n",
      "100%|██████████| 64/64 [00:00<00:00, 91087.70it/s]\n",
      " 17%|█▋        | 11/64 [00:00<00:00, 105.78it/s]"
     ]
    },
    {
     "name": "stdout",
     "output_type": "stream",
     "text": [
      "(1, 3329)\n",
      "(830, 3330)\n"
     ]
    },
    {
     "name": "stderr",
     "output_type": "stream",
     "text": [
      "100%|██████████| 64/64 [00:00<00:00, 98.34it/s]\n",
      "100%|██████████| 64/64 [00:00<00:00, 106.78it/s]\n",
      "100%|██████████| 64/64 [00:00<00:00, 106.72it/s]\n",
      "100%|██████████| 64/64 [00:00<00:00, 2286.17it/s]\n",
      "100%|██████████| 64/64 [00:00<00:00, 192.50it/s]\n",
      "100%|██████████| 64/64 [00:00<00:00, 165.16it/s]\n",
      "100%|██████████| 64/64 [00:07<00:00,  8.62it/s]\n",
      "100%|██████████| 64/64 [00:00<00:00, 2947.54it/s]\n",
      "100%|██████████| 64/64 [00:00<00:00, 1357.54it/s]\n",
      "100%|██████████| 64/64 [00:00<00:00, 1414.07it/s]\n",
      "100%|██████████| 64/64 [00:00<00:00, 7172.43it/s]\n",
      "100%|██████████| 64/64 [00:00<00:00, 90109.25it/s]\n",
      " 16%|█▌        | 10/64 [00:00<00:00, 98.70it/s]"
     ]
    },
    {
     "name": "stdout",
     "output_type": "stream",
     "text": [
      "(1, 3329)\n",
      "(831, 3330)\n"
     ]
    },
    {
     "name": "stderr",
     "output_type": "stream",
     "text": [
      "100%|██████████| 64/64 [00:00<00:00, 101.84it/s]\n",
      "100%|██████████| 64/64 [00:00<00:00, 102.95it/s]\n",
      "100%|██████████| 64/64 [00:00<00:00, 107.43it/s]\n",
      "100%|██████████| 64/64 [00:00<00:00, 2360.10it/s]\n",
      "100%|██████████| 64/64 [00:00<00:00, 197.91it/s]\n",
      "100%|██████████| 64/64 [00:00<00:00, 162.67it/s]\n",
      "100%|██████████| 64/64 [00:07<00:00,  8.78it/s]\n",
      "100%|██████████| 64/64 [00:00<00:00, 3845.84it/s]\n",
      "100%|██████████| 64/64 [00:00<00:00, 1246.46it/s]\n",
      "100%|██████████| 64/64 [00:00<00:00, 1484.82it/s]\n",
      "100%|██████████| 64/64 [00:00<00:00, 8179.27it/s]\n",
      "100%|██████████| 64/64 [00:00<00:00, 42656.20it/s]\n",
      " 16%|█▌        | 10/64 [00:00<00:00, 96.00it/s]"
     ]
    },
    {
     "name": "stdout",
     "output_type": "stream",
     "text": [
      "(1, 3329)\n",
      "(832, 3330)\n"
     ]
    },
    {
     "name": "stderr",
     "output_type": "stream",
     "text": [
      "100%|██████████| 64/64 [00:00<00:00, 104.11it/s]\n",
      "100%|██████████| 64/64 [00:00<00:00, 102.60it/s]\n",
      "100%|██████████| 64/64 [00:00<00:00, 113.90it/s]\n",
      "100%|██████████| 64/64 [00:00<00:00, 2034.79it/s]\n",
      "100%|██████████| 64/64 [00:00<00:00, 194.96it/s]\n",
      "100%|██████████| 64/64 [00:00<00:00, 167.15it/s]\n",
      "100%|██████████| 64/64 [00:07<00:00,  8.41it/s]\n",
      "100%|██████████| 64/64 [00:00<00:00, 3674.48it/s]\n",
      "100%|██████████| 64/64 [00:00<00:00, 1465.46it/s]\n",
      "100%|██████████| 64/64 [00:00<00:00, 1277.83it/s]\n",
      "100%|██████████| 64/64 [00:00<00:00, 7499.66it/s]\n",
      "100%|██████████| 64/64 [00:00<00:00, 94820.01it/s]\n",
      " 16%|█▌        | 10/64 [00:00<00:00, 96.46it/s]"
     ]
    },
    {
     "name": "stdout",
     "output_type": "stream",
     "text": [
      "(1, 3329)\n",
      "(833, 3330)\n"
     ]
    },
    {
     "name": "stderr",
     "output_type": "stream",
     "text": [
      "100%|██████████| 64/64 [00:00<00:00, 101.67it/s]\n",
      "100%|██████████| 64/64 [00:00<00:00, 107.80it/s]\n",
      "100%|██████████| 64/64 [00:00<00:00, 107.86it/s]\n",
      "100%|██████████| 64/64 [00:00<00:00, 2404.34it/s]\n",
      "100%|██████████| 64/64 [00:00<00:00, 204.95it/s]\n",
      "100%|██████████| 64/64 [00:00<00:00, 167.91it/s]\n",
      "100%|██████████| 64/64 [00:07<00:00,  8.74it/s]\n",
      "100%|██████████| 64/64 [00:00<00:00, 3457.75it/s]\n",
      "100%|██████████| 64/64 [00:00<00:00, 1395.75it/s]\n",
      "100%|██████████| 64/64 [00:00<00:00, 1393.96it/s]\n",
      "100%|██████████| 64/64 [00:00<00:00, 9133.88it/s]\n",
      "100%|██████████| 64/64 [00:00<00:00, 93629.39it/s]\n",
      " 16%|█▌        | 10/64 [00:00<00:00, 97.07it/s]"
     ]
    },
    {
     "name": "stdout",
     "output_type": "stream",
     "text": [
      "(1, 3329)\n",
      "(834, 3330)\n"
     ]
    },
    {
     "name": "stderr",
     "output_type": "stream",
     "text": [
      "100%|██████████| 64/64 [00:00<00:00, 94.32it/s]\n",
      "100%|██████████| 64/64 [00:00<00:00, 106.64it/s]\n",
      "100%|██████████| 64/64 [00:00<00:00, 107.98it/s]\n",
      "100%|██████████| 64/64 [00:00<00:00, 2080.02it/s]\n",
      "100%|██████████| 64/64 [00:00<00:00, 207.06it/s]\n",
      "100%|██████████| 64/64 [00:00<00:00, 169.73it/s]\n",
      "100%|██████████| 64/64 [00:07<00:00,  8.84it/s]\n",
      "100%|██████████| 64/64 [00:00<00:00, 3684.31it/s]\n",
      "100%|██████████| 64/64 [00:00<00:00, 1533.74it/s]\n",
      "100%|██████████| 64/64 [00:00<00:00, 1520.14it/s]\n",
      "100%|██████████| 64/64 [00:00<00:00, 7832.50it/s]\n",
      "100%|██████████| 64/64 [00:00<00:00, 95122.42it/s]\n",
      " 17%|█▋        | 11/64 [00:00<00:00, 108.13it/s]"
     ]
    },
    {
     "name": "stdout",
     "output_type": "stream",
     "text": [
      "(1, 3329)\n",
      "(835, 3330)\n"
     ]
    },
    {
     "name": "stderr",
     "output_type": "stream",
     "text": [
      "100%|██████████| 64/64 [00:00<00:00, 103.58it/s]\n",
      "100%|██████████| 64/64 [00:00<00:00, 104.26it/s]\n",
      "100%|██████████| 64/64 [00:00<00:00, 111.08it/s]\n",
      "100%|██████████| 64/64 [00:00<00:00, 2339.16it/s]\n",
      "100%|██████████| 64/64 [00:00<00:00, 207.27it/s]\n",
      "100%|██████████| 64/64 [00:00<00:00, 157.37it/s]\n",
      "100%|██████████| 64/64 [00:07<00:00,  8.89it/s]\n",
      "100%|██████████| 64/64 [00:00<00:00, 3786.38it/s]\n",
      "100%|██████████| 64/64 [00:00<00:00, 1412.17it/s]\n",
      "100%|██████████| 64/64 [00:00<00:00, 1451.68it/s]\n",
      "100%|██████████| 64/64 [00:00<00:00, 8735.29it/s]\n",
      "100%|██████████| 64/64 [00:00<00:00, 43177.65it/s]\n",
      " 17%|█▋        | 11/64 [00:00<00:00, 108.26it/s]"
     ]
    },
    {
     "name": "stdout",
     "output_type": "stream",
     "text": [
      "(1, 3329)\n",
      "(836, 3330)\n"
     ]
    },
    {
     "name": "stderr",
     "output_type": "stream",
     "text": [
      "100%|██████████| 64/64 [00:00<00:00, 104.54it/s]\n",
      "100%|██████████| 64/64 [00:00<00:00, 107.98it/s]\n",
      "100%|██████████| 64/64 [00:00<00:00, 115.19it/s]\n",
      "100%|██████████| 64/64 [00:00<00:00, 2099.45it/s]\n",
      "100%|██████████| 64/64 [00:00<00:00, 211.63it/s]\n",
      "100%|██████████| 64/64 [00:00<00:00, 167.52it/s]\n",
      "100%|██████████| 64/64 [00:07<00:00,  8.85it/s]\n",
      "100%|██████████| 64/64 [00:00<00:00, 3290.70it/s]\n",
      "100%|██████████| 64/64 [00:00<00:00, 1448.97it/s]\n",
      "100%|██████████| 64/64 [00:00<00:00, 1505.37it/s]\n",
      "100%|██████████| 64/64 [00:00<00:00, 7654.28it/s]\n",
      "100%|██████████| 64/64 [00:00<00:00, 148717.70it/s]\n",
      " 17%|█▋        | 11/64 [00:00<00:00, 106.21it/s]"
     ]
    },
    {
     "name": "stdout",
     "output_type": "stream",
     "text": [
      "(1, 3329)\n",
      "(837, 3330)\n"
     ]
    },
    {
     "name": "stderr",
     "output_type": "stream",
     "text": [
      "100%|██████████| 64/64 [00:00<00:00, 95.27it/s]\n",
      "100%|██████████| 64/64 [00:00<00:00, 106.48it/s]\n",
      "100%|██████████| 64/64 [00:00<00:00, 114.39it/s]\n",
      "100%|██████████| 64/64 [00:00<00:00, 2611.85it/s]\n",
      "100%|██████████| 64/64 [00:00<00:00, 204.22it/s]\n",
      "100%|██████████| 64/64 [00:00<00:00, 166.34it/s]\n",
      "100%|██████████| 64/64 [00:07<00:00,  8.97it/s]\n",
      "100%|██████████| 64/64 [00:00<00:00, 3730.19it/s]\n",
      "100%|██████████| 64/64 [00:00<00:00, 1446.66it/s]\n",
      "100%|██████████| 64/64 [00:00<00:00, 1455.53it/s]\n",
      "100%|██████████| 64/64 [00:00<00:00, 6703.01it/s]\n",
      "100%|██████████| 64/64 [00:00<00:00, 101258.19it/s]\n",
      "  0%|          | 0/64 [00:00<?, ?it/s]"
     ]
    },
    {
     "name": "stdout",
     "output_type": "stream",
     "text": [
      "(1, 3329)\n",
      "(838, 3330)\n"
     ]
    },
    {
     "name": "stderr",
     "output_type": "stream",
     "text": [
      "100%|██████████| 64/64 [00:00<00:00, 100.10it/s]\n",
      "100%|██████████| 64/64 [00:00<00:00, 111.82it/s]\n",
      "100%|██████████| 64/64 [00:00<00:00, 113.06it/s]\n",
      "100%|██████████| 64/64 [00:00<00:00, 2537.75it/s]\n",
      "100%|██████████| 64/64 [00:00<00:00, 206.45it/s]\n",
      "100%|██████████| 64/64 [00:00<00:00, 169.61it/s]\n",
      "100%|██████████| 64/64 [00:07<00:00,  8.87it/s]\n",
      "100%|██████████| 64/64 [00:00<00:00, 2852.45it/s]\n",
      "100%|██████████| 64/64 [00:00<00:00, 1465.46it/s]\n",
      "100%|██████████| 64/64 [00:00<00:00, 1429.18it/s]\n",
      "100%|██████████| 64/64 [00:00<00:00, 7468.37it/s]\n",
      "100%|██████████| 64/64 [00:00<00:00, 27385.78it/s]\n",
      " 16%|█▌        | 10/64 [00:00<00:00, 96.46it/s]"
     ]
    },
    {
     "name": "stdout",
     "output_type": "stream",
     "text": [
      "(1, 3329)\n",
      "(839, 3330)\n"
     ]
    },
    {
     "name": "stderr",
     "output_type": "stream",
     "text": [
      "100%|██████████| 64/64 [00:00<00:00, 103.72it/s]\n",
      "100%|██████████| 64/64 [00:00<00:00, 107.37it/s]\n",
      "100%|██████████| 64/64 [00:00<00:00, 108.87it/s]\n",
      "100%|██████████| 64/64 [00:00<00:00, 2344.91it/s]\n",
      "100%|██████████| 64/64 [00:00<00:00, 211.36it/s]\n",
      "100%|██████████| 64/64 [00:00<00:00, 169.77it/s]\n",
      "100%|██████████| 64/64 [00:07<00:00,  8.58it/s]\n",
      "100%|██████████| 64/64 [00:00<00:00, 3857.27it/s]\n",
      "100%|██████████| 64/64 [00:00<00:00, 1499.29it/s]\n",
      "100%|██████████| 64/64 [00:00<00:00, 1460.67it/s]\n",
      "100%|██████████| 64/64 [00:00<00:00, 7303.77it/s]\n",
      "100%|██████████| 64/64 [00:00<00:00, 105766.53it/s]\n",
      " 17%|█▋        | 11/64 [00:00<00:00, 108.27it/s]"
     ]
    },
    {
     "name": "stdout",
     "output_type": "stream",
     "text": [
      "(1, 3329)\n",
      "(840, 3330)\n"
     ]
    },
    {
     "name": "stderr",
     "output_type": "stream",
     "text": [
      "100%|██████████| 64/64 [00:00<00:00, 105.92it/s]\n",
      "100%|██████████| 64/64 [00:00<00:00, 104.06it/s]\n",
      "100%|██████████| 64/64 [00:00<00:00, 115.21it/s]\n",
      "100%|██████████| 64/64 [00:00<00:00, 2587.16it/s]\n",
      "100%|██████████| 64/64 [00:00<00:00, 215.81it/s]\n",
      "100%|██████████| 64/64 [00:00<00:00, 169.08it/s]\n",
      "100%|██████████| 64/64 [00:07<00:00,  8.58it/s]\n",
      "100%|██████████| 64/64 [00:00<00:00, 3790.07it/s]\n",
      "100%|██████████| 64/64 [00:00<00:00, 1492.87it/s]\n",
      "100%|██████████| 64/64 [00:00<00:00, 1478.32it/s]\n",
      "100%|██████████| 64/64 [00:00<00:00, 7855.19it/s]\n",
      "100%|██████████| 64/64 [00:00<00:00, 42127.35it/s]\n",
      " 16%|█▌        | 10/64 [00:00<00:00, 96.45it/s]"
     ]
    },
    {
     "name": "stdout",
     "output_type": "stream",
     "text": [
      "(1, 3329)\n",
      "(841, 3330)\n"
     ]
    },
    {
     "name": "stderr",
     "output_type": "stream",
     "text": [
      "100%|██████████| 64/64 [00:00<00:00, 102.53it/s]\n",
      "100%|██████████| 64/64 [00:00<00:00, 105.38it/s]\n",
      "100%|██████████| 64/64 [00:00<00:00, 110.04it/s]\n",
      "100%|██████████| 64/64 [00:00<00:00, 2328.83it/s]\n",
      "100%|██████████| 64/64 [00:00<00:00, 199.84it/s]\n",
      "100%|██████████| 64/64 [00:00<00:00, 164.36it/s]\n",
      "100%|██████████| 64/64 [00:07<00:00,  8.76it/s]\n",
      "100%|██████████| 64/64 [00:00<00:00, 3693.74it/s]\n",
      "100%|██████████| 64/64 [00:00<00:00, 1463.84it/s]\n",
      "100%|██████████| 64/64 [00:00<00:00, 1325.83it/s]\n",
      "100%|██████████| 64/64 [00:00<00:00, 6677.83it/s]\n",
      "100%|██████████| 64/64 [00:00<00:00, 24949.85it/s]\n",
      "  0%|          | 0/64 [00:00<?, ?it/s]"
     ]
    },
    {
     "name": "stdout",
     "output_type": "stream",
     "text": [
      "(1, 3329)\n",
      "(842, 3330)\n"
     ]
    },
    {
     "name": "stderr",
     "output_type": "stream",
     "text": [
      "100%|██████████| 64/64 [00:00<00:00, 99.08it/s]\n",
      "100%|██████████| 64/64 [00:00<00:00, 107.69it/s]\n",
      "100%|██████████| 64/64 [00:00<00:00, 106.99it/s]\n",
      "100%|██████████| 64/64 [00:00<00:00, 2337.29it/s]\n",
      "100%|██████████| 64/64 [00:00<00:00, 203.04it/s]\n",
      "100%|██████████| 64/64 [00:00<00:00, 171.70it/s]\n",
      "100%|██████████| 64/64 [00:07<00:00,  8.82it/s]\n",
      "100%|██████████| 64/64 [00:00<00:00, 3580.86it/s]\n",
      "100%|██████████| 64/64 [00:00<00:00, 1436.24it/s]\n",
      "100%|██████████| 64/64 [00:00<00:00, 1353.96it/s]\n",
      "100%|██████████| 64/64 [00:00<00:00, 7787.51it/s]\n",
      "100%|██████████| 64/64 [00:00<00:00, 77269.85it/s]\n",
      "  0%|          | 0/64 [00:00<?, ?it/s]"
     ]
    },
    {
     "name": "stdout",
     "output_type": "stream",
     "text": [
      "(1, 3329)\n",
      "(843, 3330)\n"
     ]
    },
    {
     "name": "stderr",
     "output_type": "stream",
     "text": [
      "100%|██████████| 64/64 [00:00<00:00, 104.80it/s]\n",
      "100%|██████████| 64/64 [00:00<00:00, 110.82it/s]\n",
      "100%|██████████| 64/64 [00:00<00:00, 112.29it/s]\n",
      "100%|██████████| 64/64 [00:00<00:00, 2189.29it/s]\n",
      "100%|██████████| 64/64 [00:00<00:00, 200.46it/s]\n",
      "100%|██████████| 64/64 [00:00<00:00, 168.24it/s]\n",
      "100%|██████████| 64/64 [00:07<00:00,  8.60it/s]\n",
      "100%|██████████| 64/64 [00:00<00:00, 3311.81it/s]\n",
      "100%|██████████| 64/64 [00:00<00:00, 1312.87it/s]\n",
      "100%|██████████| 64/64 [00:00<00:00, 1433.92it/s]\n",
      "100%|██████████| 64/64 [00:00<00:00, 7761.17it/s]\n",
      "100%|██████████| 64/64 [00:00<00:00, 28271.24it/s]\n",
      " 17%|█▋        | 11/64 [00:00<00:00, 104.71it/s]"
     ]
    },
    {
     "name": "stdout",
     "output_type": "stream",
     "text": [
      "(1, 3329)\n",
      "(844, 3330)\n"
     ]
    },
    {
     "name": "stderr",
     "output_type": "stream",
     "text": [
      "100%|██████████| 64/64 [00:00<00:00, 103.85it/s]\n",
      "100%|██████████| 64/64 [00:00<00:00, 101.69it/s]\n",
      "100%|██████████| 64/64 [00:00<00:00, 106.46it/s]\n",
      "100%|██████████| 64/64 [00:00<00:00, 2364.30it/s]\n",
      "100%|██████████| 64/64 [00:00<00:00, 205.78it/s]\n",
      "100%|██████████| 64/64 [00:00<00:00, 164.76it/s]\n",
      "100%|██████████| 64/64 [00:07<00:00,  8.76it/s]\n",
      "100%|██████████| 64/64 [00:00<00:00, 3424.49it/s]\n",
      "100%|██████████| 64/64 [00:00<00:00, 1363.88it/s]\n",
      "100%|██████████| 64/64 [00:00<00:00, 1378.85it/s]\n",
      "100%|██████████| 64/64 [00:00<00:00, 6324.16it/s]\n",
      "100%|██████████| 64/64 [00:00<00:00, 128931.54it/s]\n",
      " 17%|█▋        | 11/64 [00:00<00:00, 105.21it/s]"
     ]
    },
    {
     "name": "stdout",
     "output_type": "stream",
     "text": [
      "(1, 3329)\n",
      "(845, 3330)\n"
     ]
    },
    {
     "name": "stderr",
     "output_type": "stream",
     "text": [
      "100%|██████████| 64/64 [00:00<00:00, 104.94it/s]\n",
      "100%|██████████| 64/64 [00:00<00:00, 105.99it/s]\n",
      "100%|██████████| 64/64 [00:00<00:00, 110.47it/s]\n",
      "100%|██████████| 64/64 [00:00<00:00, 2230.90it/s]\n",
      "100%|██████████| 64/64 [00:00<00:00, 204.55it/s]\n",
      "100%|██████████| 64/64 [00:00<00:00, 166.76it/s]\n",
      "100%|██████████| 64/64 [00:07<00:00,  8.62it/s]\n",
      "100%|██████████| 64/64 [00:00<00:00, 4121.66it/s]\n",
      "100%|██████████| 64/64 [00:00<00:00, 1479.33it/s]\n",
      "100%|██████████| 64/64 [00:00<00:00, 1433.54it/s]\n",
      "100%|██████████| 64/64 [00:00<00:00, 7113.89it/s]\n",
      "100%|██████████| 64/64 [00:00<00:00, 27912.60it/s]\n",
      " 17%|█▋        | 11/64 [00:00<00:00, 102.42it/s]"
     ]
    },
    {
     "name": "stdout",
     "output_type": "stream",
     "text": [
      "(1, 3329)\n",
      "(846, 3330)\n"
     ]
    },
    {
     "name": "stderr",
     "output_type": "stream",
     "text": [
      "100%|██████████| 64/64 [00:00<00:00, 96.45it/s]\n",
      "100%|██████████| 64/64 [00:00<00:00, 104.62it/s]\n",
      "100%|██████████| 64/64 [00:00<00:00, 106.69it/s]\n",
      "100%|██████████| 64/64 [00:00<00:00, 2384.97it/s]\n",
      "100%|██████████| 64/64 [00:00<00:00, 194.32it/s]\n",
      "100%|██████████| 64/64 [00:00<00:00, 158.80it/s]\n",
      "100%|██████████| 64/64 [00:07<00:00,  8.54it/s]\n",
      "100%|██████████| 64/64 [00:00<00:00, 3051.89it/s]\n",
      "100%|██████████| 64/64 [00:00<00:00, 1301.87it/s]\n",
      "100%|██████████| 64/64 [00:00<00:00, 1337.88it/s]\n",
      "100%|██████████| 64/64 [00:00<00:00, 7122.76it/s]\n",
      "100%|██████████| 64/64 [00:00<00:00, 131521.54it/s]\n",
      " 16%|█▌        | 10/64 [00:00<00:00, 99.61it/s]"
     ]
    },
    {
     "name": "stdout",
     "output_type": "stream",
     "text": [
      "(1, 3329)\n",
      "(847, 3330)\n"
     ]
    },
    {
     "name": "stderr",
     "output_type": "stream",
     "text": [
      "100%|██████████| 64/64 [00:00<00:00, 103.06it/s]\n",
      "100%|██████████| 64/64 [00:00<00:00, 103.62it/s]\n",
      "100%|██████████| 64/64 [00:00<00:00, 103.43it/s]\n",
      "100%|██████████| 64/64 [00:00<00:00, 2260.72it/s]\n",
      "100%|██████████| 64/64 [00:00<00:00, 192.35it/s]\n",
      "100%|██████████| 64/64 [00:00<00:00, 159.12it/s]\n",
      "100%|██████████| 64/64 [00:07<00:00,  8.61it/s]\n",
      "100%|██████████| 64/64 [00:00<00:00, 3587.41it/s]\n",
      "100%|██████████| 64/64 [00:00<00:00, 1543.18it/s]\n",
      "100%|██████████| 64/64 [00:00<00:00, 1416.98it/s]\n",
      "100%|██████████| 64/64 [00:00<00:00, 7688.92it/s]\n",
      "100%|██████████| 64/64 [00:00<00:00, 88417.48it/s]\n",
      " 17%|█▋        | 11/64 [00:00<00:00, 100.83it/s]"
     ]
    },
    {
     "name": "stdout",
     "output_type": "stream",
     "text": [
      "(1, 3329)\n",
      "(848, 3330)\n"
     ]
    },
    {
     "name": "stderr",
     "output_type": "stream",
     "text": [
      "100%|██████████| 64/64 [00:00<00:00, 105.36it/s]\n",
      "100%|██████████| 64/64 [00:00<00:00, 107.74it/s]\n",
      "100%|██████████| 64/64 [00:00<00:00, 111.00it/s]\n",
      "100%|██████████| 64/64 [00:00<00:00, 2524.98it/s]\n",
      "100%|██████████| 64/64 [00:00<00:00, 195.19it/s]\n",
      "100%|██████████| 64/64 [00:00<00:00, 163.15it/s]\n",
      "100%|██████████| 64/64 [00:07<00:00,  8.81it/s]\n",
      "100%|██████████| 64/64 [00:00<00:00, 3652.23it/s]\n",
      "100%|██████████| 64/64 [00:00<00:00, 1422.63it/s]\n",
      "100%|██████████| 64/64 [00:00<00:00, 1459.61it/s]\n",
      "100%|██████████| 64/64 [00:00<00:00, 6502.32it/s]\n",
      "100%|██████████| 64/64 [00:00<00:00, 237763.91it/s]\n",
      " 14%|█▍        | 9/64 [00:00<00:00, 87.46it/s]"
     ]
    },
    {
     "name": "stdout",
     "output_type": "stream",
     "text": [
      "(1, 3329)\n",
      "(849, 3330)\n"
     ]
    },
    {
     "name": "stderr",
     "output_type": "stream",
     "text": [
      "100%|██████████| 64/64 [00:00<00:00, 97.12it/s]\n",
      "100%|██████████| 64/64 [00:00<00:00, 104.05it/s]\n",
      "100%|██████████| 64/64 [00:00<00:00, 104.92it/s]\n",
      "100%|██████████| 64/64 [00:00<00:00, 2320.30it/s]\n",
      "100%|██████████| 64/64 [00:00<00:00, 198.18it/s]\n",
      "100%|██████████| 64/64 [00:00<00:00, 163.09it/s]\n",
      "100%|██████████| 64/64 [00:07<00:00,  8.78it/s]\n",
      "100%|██████████| 64/64 [00:00<00:00, 3291.06it/s]\n",
      "100%|██████████| 64/64 [00:00<00:00, 1506.92it/s]\n",
      "100%|██████████| 64/64 [00:00<00:00, 1329.86it/s]\n",
      "100%|██████████| 64/64 [00:00<00:00, 7087.40it/s]\n",
      "100%|██████████| 64/64 [00:00<00:00, 24636.15it/s]\n",
      "  0%|          | 0/64 [00:00<?, ?it/s]"
     ]
    },
    {
     "name": "stdout",
     "output_type": "stream",
     "text": [
      "(1, 3329)\n",
      "(850, 3330)\n"
     ]
    },
    {
     "name": "stderr",
     "output_type": "stream",
     "text": [
      "100%|██████████| 64/64 [00:00<00:00, 94.28it/s]\n",
      "100%|██████████| 64/64 [00:00<00:00, 101.11it/s]\n",
      "100%|██████████| 64/64 [00:00<00:00, 105.40it/s]\n",
      "100%|██████████| 64/64 [00:00<00:00, 2371.88it/s]\n",
      "100%|██████████| 64/64 [00:00<00:00, 194.81it/s]\n",
      "100%|██████████| 64/64 [00:00<00:00, 158.35it/s]\n",
      "100%|██████████| 64/64 [00:07<00:00,  8.71it/s]\n",
      "100%|██████████| 64/64 [00:00<00:00, 3577.76it/s]\n",
      "100%|██████████| 64/64 [00:00<00:00, 1541.78it/s]\n",
      "100%|██████████| 64/64 [00:00<00:00, 1252.54it/s]\n",
      "100%|██████████| 64/64 [00:00<00:00, 7981.31it/s]\n",
      "100%|██████████| 64/64 [00:00<00:00, 91180.52it/s]\n",
      " 17%|█▋        | 11/64 [00:00<00:00, 103.35it/s]"
     ]
    },
    {
     "name": "stdout",
     "output_type": "stream",
     "text": [
      "(1, 3329)\n",
      "(851, 3330)\n"
     ]
    },
    {
     "name": "stderr",
     "output_type": "stream",
     "text": [
      "100%|██████████| 64/64 [00:00<00:00, 104.15it/s]\n",
      "100%|██████████| 64/64 [00:00<00:00, 104.75it/s]\n",
      "100%|██████████| 64/64 [00:00<00:00, 108.92it/s]\n",
      "100%|██████████| 64/64 [00:00<00:00, 2297.91it/s]\n",
      "100%|██████████| 64/64 [00:00<00:00, 198.09it/s]\n",
      "100%|██████████| 64/64 [00:00<00:00, 167.68it/s]\n",
      "100%|██████████| 64/64 [00:07<00:00,  8.90it/s]\n",
      "100%|██████████| 64/64 [00:00<00:00, 3718.61it/s]\n",
      "100%|██████████| 64/64 [00:00<00:00, 1257.97it/s]\n",
      "100%|██████████| 64/64 [00:00<00:00, 1418.13it/s]\n",
      "100%|██████████| 64/64 [00:00<00:00, 7442.69it/s]\n",
      "100%|██████████| 64/64 [00:00<00:00, 215092.51it/s]\n",
      " 17%|█▋        | 11/64 [00:00<00:00, 107.14it/s]"
     ]
    },
    {
     "name": "stdout",
     "output_type": "stream",
     "text": [
      "(1, 3329)\n",
      "(852, 3330)\n"
     ]
    },
    {
     "name": "stderr",
     "output_type": "stream",
     "text": [
      "100%|██████████| 64/64 [00:00<00:00, 106.07it/s]\n",
      "100%|██████████| 64/64 [00:00<00:00, 104.63it/s]\n",
      "100%|██████████| 64/64 [00:00<00:00, 108.90it/s]\n",
      "100%|██████████| 64/64 [00:00<00:00, 2251.77it/s]\n",
      "100%|██████████| 64/64 [00:00<00:00, 183.49it/s]\n",
      "100%|██████████| 64/64 [00:00<00:00, 164.18it/s]\n",
      "100%|██████████| 64/64 [00:07<00:00,  8.91it/s]\n",
      "100%|██████████| 64/64 [00:00<00:00, 3944.62it/s]\n",
      "100%|██████████| 64/64 [00:00<00:00, 1490.77it/s]\n",
      "100%|██████████| 64/64 [00:00<00:00, 1329.71it/s]\n",
      "100%|██████████| 64/64 [00:00<00:00, 6535.89it/s]\n",
      "100%|██████████| 64/64 [00:00<00:00, 76937.65it/s]\n",
      " 17%|█▋        | 11/64 [00:00<00:00, 103.45it/s]"
     ]
    },
    {
     "name": "stdout",
     "output_type": "stream",
     "text": [
      "(1, 3329)\n",
      "(853, 3330)\n"
     ]
    },
    {
     "name": "stderr",
     "output_type": "stream",
     "text": [
      "100%|██████████| 64/64 [00:00<00:00, 98.70it/s]\n",
      "100%|██████████| 64/64 [00:00<00:00, 104.44it/s]\n",
      "100%|██████████| 64/64 [00:00<00:00, 104.10it/s]\n",
      "100%|██████████| 64/64 [00:00<00:00, 2126.61it/s]\n",
      "100%|██████████| 64/64 [00:00<00:00, 195.21it/s]\n",
      "100%|██████████| 64/64 [00:00<00:00, 154.44it/s]\n",
      "100%|██████████| 64/64 [00:07<00:00,  8.38it/s]\n",
      "100%|██████████| 64/64 [00:00<00:00, 3612.62it/s]\n",
      "100%|██████████| 64/64 [00:00<00:00, 1431.56it/s]\n",
      "100%|██████████| 64/64 [00:00<00:00, 1304.69it/s]\n",
      "100%|██████████| 64/64 [00:00<00:00, 7423.75it/s]\n",
      "100%|██████████| 64/64 [00:00<00:00, 40257.27it/s]\n",
      "  0%|          | 0/64 [00:00<?, ?it/s]"
     ]
    },
    {
     "name": "stdout",
     "output_type": "stream",
     "text": [
      "(1, 3329)\n",
      "(854, 3330)\n"
     ]
    },
    {
     "name": "stderr",
     "output_type": "stream",
     "text": [
      "100%|██████████| 64/64 [00:00<00:00, 105.88it/s]\n",
      "100%|██████████| 64/64 [00:00<00:00, 105.27it/s]\n",
      "100%|██████████| 64/64 [00:00<00:00, 108.56it/s]\n",
      "100%|██████████| 64/64 [00:00<00:00, 1740.12it/s]\n",
      "100%|██████████| 64/64 [00:00<00:00, 198.10it/s]\n",
      "100%|██████████| 64/64 [00:00<00:00, 164.31it/s]\n",
      "100%|██████████| 64/64 [00:07<00:00,  8.63it/s]\n",
      "100%|██████████| 64/64 [00:00<00:00, 3721.24it/s]\n",
      "100%|██████████| 64/64 [00:00<00:00, 1461.70it/s]\n",
      "100%|██████████| 64/64 [00:00<00:00, 1404.14it/s]\n",
      "100%|██████████| 64/64 [00:00<00:00, 7940.47it/s]\n",
      "100%|██████████| 64/64 [00:00<00:00, 88621.81it/s]\n",
      " 16%|█▌        | 10/64 [00:00<00:00, 98.30it/s]"
     ]
    },
    {
     "name": "stdout",
     "output_type": "stream",
     "text": [
      "(1, 3329)\n",
      "(855, 3330)\n"
     ]
    },
    {
     "name": "stderr",
     "output_type": "stream",
     "text": [
      "100%|██████████| 64/64 [00:00<00:00, 100.86it/s]\n",
      "100%|██████████| 64/64 [00:00<00:00, 106.19it/s]\n",
      "100%|██████████| 64/64 [00:00<00:00, 105.67it/s]\n",
      "100%|██████████| 64/64 [00:00<00:00, 2219.26it/s]\n",
      "100%|██████████| 64/64 [00:00<00:00, 211.22it/s]\n",
      "100%|██████████| 64/64 [00:00<00:00, 163.78it/s]\n",
      "100%|██████████| 64/64 [00:07<00:00,  8.84it/s]\n",
      "100%|██████████| 64/64 [00:00<00:00, 3742.62it/s]\n",
      "100%|██████████| 64/64 [00:00<00:00, 1337.19it/s]\n",
      "100%|██████████| 64/64 [00:00<00:00, 1511.80it/s]\n",
      "100%|██████████| 64/64 [00:00<00:00, 8027.86it/s]\n",
      "100%|██████████| 64/64 [00:00<00:00, 243810.59it/s]\n",
      " 17%|█▋        | 11/64 [00:00<00:00, 107.49it/s]"
     ]
    },
    {
     "name": "stdout",
     "output_type": "stream",
     "text": [
      "(1, 3329)\n",
      "(856, 3330)\n"
     ]
    },
    {
     "name": "stderr",
     "output_type": "stream",
     "text": [
      "100%|██████████| 64/64 [00:00<00:00, 104.14it/s]\n",
      "100%|██████████| 64/64 [00:00<00:00, 107.05it/s]\n",
      "100%|██████████| 64/64 [00:00<00:00, 110.49it/s]\n",
      "100%|██████████| 64/64 [00:00<00:00, 2304.09it/s]\n",
      "100%|██████████| 64/64 [00:00<00:00, 210.90it/s]\n",
      "100%|██████████| 64/64 [00:00<00:00, 171.80it/s]\n",
      "100%|██████████| 64/64 [00:07<00:00,  8.75it/s]\n",
      "100%|██████████| 64/64 [00:00<00:00, 3789.32it/s]\n",
      "100%|██████████| 64/64 [00:00<00:00, 1552.30it/s]\n",
      "100%|██████████| 64/64 [00:00<00:00, 1312.46it/s]\n",
      "100%|██████████| 64/64 [00:00<00:00, 6885.26it/s]\n",
      "100%|██████████| 64/64 [00:00<00:00, 242489.12it/s]\n",
      " 17%|█▋        | 11/64 [00:00<00:00, 103.49it/s]"
     ]
    },
    {
     "name": "stdout",
     "output_type": "stream",
     "text": [
      "(1, 3329)\n",
      "(857, 3330)\n"
     ]
    },
    {
     "name": "stderr",
     "output_type": "stream",
     "text": [
      "100%|██████████| 64/64 [00:00<00:00, 105.57it/s]\n",
      "100%|██████████| 64/64 [00:00<00:00, 109.98it/s]\n",
      "100%|██████████| 64/64 [00:00<00:00, 109.50it/s]\n",
      "100%|██████████| 64/64 [00:00<00:00, 2448.98it/s]\n",
      "100%|██████████| 64/64 [00:00<00:00, 202.61it/s]\n",
      "100%|██████████| 64/64 [00:00<00:00, 165.05it/s]\n",
      "100%|██████████| 64/64 [00:07<00:00,  8.84it/s]\n",
      "100%|██████████| 64/64 [00:00<00:00, 3778.33it/s]\n",
      "100%|██████████| 64/64 [00:00<00:00, 1452.67it/s]\n",
      "100%|██████████| 64/64 [00:00<00:00, 1490.94it/s]\n",
      "100%|██████████| 64/64 [00:00<00:00, 7215.04it/s]\n",
      "100%|██████████| 64/64 [00:00<00:00, 133152.51it/s]\n",
      " 17%|█▋        | 11/64 [00:00<00:00, 108.54it/s]"
     ]
    },
    {
     "name": "stdout",
     "output_type": "stream",
     "text": [
      "(1, 3329)\n",
      "(858, 3330)\n"
     ]
    },
    {
     "name": "stderr",
     "output_type": "stream",
     "text": [
      "100%|██████████| 64/64 [00:00<00:00, 108.63it/s]\n",
      "100%|██████████| 64/64 [00:00<00:00, 108.15it/s]\n",
      "100%|██████████| 64/64 [00:00<00:00, 112.04it/s]\n",
      "100%|██████████| 64/64 [00:00<00:00, 2637.49it/s]\n",
      "100%|██████████| 64/64 [00:00<00:00, 209.46it/s]\n",
      "100%|██████████| 64/64 [00:00<00:00, 164.72it/s]\n",
      "100%|██████████| 64/64 [00:07<00:00,  8.94it/s]\n",
      "100%|██████████| 64/64 [00:00<00:00, 3978.18it/s]\n",
      "100%|██████████| 64/64 [00:00<00:00, 1501.65it/s]\n",
      "100%|██████████| 64/64 [00:00<00:00, 1439.08it/s]\n",
      "100%|██████████| 64/64 [00:00<00:00, 8421.50it/s]\n",
      "100%|██████████| 64/64 [00:00<00:00, 93858.55it/s]\n",
      " 17%|█▋        | 11/64 [00:00<00:00, 102.53it/s]"
     ]
    },
    {
     "name": "stdout",
     "output_type": "stream",
     "text": [
      "(1, 3329)\n",
      "(859, 3330)\n"
     ]
    },
    {
     "name": "stderr",
     "output_type": "stream",
     "text": [
      "100%|██████████| 64/64 [00:00<00:00, 107.93it/s]\n",
      "100%|██████████| 64/64 [00:00<00:00, 106.69it/s]\n",
      "100%|██████████| 64/64 [00:00<00:00, 112.92it/s]\n",
      "100%|██████████| 64/64 [00:00<00:00, 2453.80it/s]\n",
      "100%|██████████| 64/64 [00:00<00:00, 196.53it/s]\n",
      "100%|██████████| 64/64 [00:00<00:00, 163.69it/s]\n",
      "100%|██████████| 64/64 [00:07<00:00,  8.53it/s]\n",
      "100%|██████████| 64/64 [00:00<00:00, 3641.09it/s]\n",
      "100%|██████████| 64/64 [00:00<00:00, 1184.63it/s]\n",
      "100%|██████████| 64/64 [00:00<00:00, 1037.29it/s]\n",
      "100%|██████████| 64/64 [00:00<00:00, 7273.69it/s]\n",
      "100%|██████████| 64/64 [00:00<00:00, 103006.70it/s]\n",
      " 17%|█▋        | 11/64 [00:00<00:00, 106.25it/s]"
     ]
    },
    {
     "name": "stdout",
     "output_type": "stream",
     "text": [
      "(1, 3329)\n",
      "(860, 3330)\n"
     ]
    },
    {
     "name": "stderr",
     "output_type": "stream",
     "text": [
      "100%|██████████| 64/64 [00:00<00:00, 100.28it/s]\n",
      "100%|██████████| 64/64 [00:00<00:00, 103.64it/s]\n",
      "100%|██████████| 64/64 [00:00<00:00, 105.06it/s]\n",
      "100%|██████████| 64/64 [00:00<00:00, 1858.38it/s]\n",
      "100%|██████████| 64/64 [00:00<00:00, 200.94it/s]\n",
      "100%|██████████| 64/64 [00:00<00:00, 164.73it/s]\n",
      "100%|██████████| 64/64 [00:07<00:00,  8.80it/s]\n",
      "100%|██████████| 64/64 [00:00<00:00, 3384.25it/s]\n",
      "100%|██████████| 64/64 [00:00<00:00, 1435.81it/s]\n",
      "100%|██████████| 64/64 [00:00<00:00, 1103.46it/s]\n",
      "100%|██████████| 64/64 [00:00<00:00, 6979.78it/s]\n",
      "100%|██████████| 64/64 [00:00<00:00, 22689.16it/s]\n",
      "  0%|          | 0/64 [00:00<?, ?it/s]"
     ]
    },
    {
     "name": "stdout",
     "output_type": "stream",
     "text": [
      "(1, 3329)\n",
      "(861, 3330)\n"
     ]
    },
    {
     "name": "stderr",
     "output_type": "stream",
     "text": [
      "100%|██████████| 64/64 [00:00<00:00, 102.84it/s]\n",
      "100%|██████████| 64/64 [00:00<00:00, 93.17it/s]\n",
      "100%|██████████| 64/64 [00:00<00:00, 109.67it/s]\n",
      "100%|██████████| 64/64 [00:00<00:00, 2281.68it/s]\n",
      "100%|██████████| 64/64 [00:00<00:00, 210.88it/s]\n",
      "100%|██████████| 64/64 [00:00<00:00, 166.71it/s]\n",
      "100%|██████████| 64/64 [00:07<00:00,  8.82it/s]\n",
      "100%|██████████| 64/64 [00:00<00:00, 3469.41it/s]\n",
      "100%|██████████| 64/64 [00:00<00:00, 1402.13it/s]\n",
      "100%|██████████| 64/64 [00:00<00:00, 1316.52it/s]\n",
      "100%|██████████| 64/64 [00:00<00:00, 6486.77it/s]\n",
      "100%|██████████| 64/64 [00:00<00:00, 29092.39it/s]\n",
      " 17%|█▋        | 11/64 [00:00<00:00, 104.06it/s]"
     ]
    },
    {
     "name": "stdout",
     "output_type": "stream",
     "text": [
      "(1, 3329)\n",
      "(862, 3330)\n"
     ]
    },
    {
     "name": "stderr",
     "output_type": "stream",
     "text": [
      "100%|██████████| 64/64 [00:00<00:00, 103.34it/s]\n",
      "100%|██████████| 64/64 [00:00<00:00, 107.92it/s]\n",
      "100%|██████████| 64/64 [00:00<00:00, 111.27it/s]\n",
      "100%|██████████| 64/64 [00:00<00:00, 2368.79it/s]\n",
      "100%|██████████| 64/64 [00:00<00:00, 199.00it/s]\n",
      "100%|██████████| 64/64 [00:00<00:00, 179.92it/s]\n",
      "100%|██████████| 64/64 [00:07<00:00,  8.74it/s]\n",
      "100%|██████████| 64/64 [00:00<00:00, 4028.69it/s]\n",
      "100%|██████████| 64/64 [00:00<00:00, 1607.16it/s]\n",
      "100%|██████████| 64/64 [00:00<00:00, 1548.85it/s]\n",
      "100%|██████████| 64/64 [00:00<00:00, 8198.76it/s]\n",
      "100%|██████████| 64/64 [00:00<00:00, 257863.07it/s]\n",
      " 14%|█▍        | 9/64 [00:00<00:00, 89.93it/s]"
     ]
    },
    {
     "name": "stdout",
     "output_type": "stream",
     "text": [
      "(1, 3329)\n",
      "(863, 3330)\n"
     ]
    },
    {
     "name": "stderr",
     "output_type": "stream",
     "text": [
      "100%|██████████| 64/64 [00:00<00:00, 99.36it/s]\n",
      "100%|██████████| 64/64 [00:00<00:00, 102.74it/s]\n",
      "100%|██████████| 64/64 [00:00<00:00, 117.68it/s]\n",
      "100%|██████████| 64/64 [00:00<00:00, 2621.41it/s]\n",
      "100%|██████████| 64/64 [00:00<00:00, 210.47it/s]\n",
      "100%|██████████| 64/64 [00:00<00:00, 174.01it/s]\n",
      "100%|██████████| 64/64 [00:07<00:00,  9.12it/s]\n",
      "100%|██████████| 64/64 [00:00<00:00, 3957.18it/s]\n",
      "100%|██████████| 64/64 [00:00<00:00, 1451.94it/s]\n",
      "100%|██████████| 64/64 [00:00<00:00, 1565.83it/s]\n",
      "100%|██████████| 64/64 [00:00<00:00, 7655.59it/s]\n",
      "100%|██████████| 64/64 [00:00<00:00, 30997.17it/s]\n",
      " 19%|█▉        | 12/64 [00:00<00:00, 115.30it/s]"
     ]
    },
    {
     "name": "stdout",
     "output_type": "stream",
     "text": [
      "(1, 3329)\n",
      "(864, 3330)\n"
     ]
    },
    {
     "name": "stderr",
     "output_type": "stream",
     "text": [
      "100%|██████████| 64/64 [00:00<00:00, 107.80it/s]\n",
      "100%|██████████| 64/64 [00:00<00:00, 108.32it/s]\n",
      "100%|██████████| 64/64 [00:00<00:00, 110.37it/s]\n",
      "100%|██████████| 64/64 [00:00<00:00, 2623.93it/s]\n",
      "100%|██████████| 64/64 [00:00<00:00, 216.51it/s]\n",
      "100%|██████████| 64/64 [00:00<00:00, 169.42it/s]\n",
      "100%|██████████| 64/64 [00:07<00:00,  8.92it/s]\n",
      "100%|██████████| 64/64 [00:00<00:00, 3698.78it/s]\n",
      "100%|██████████| 64/64 [00:00<00:00, 1483.40it/s]\n",
      "100%|██████████| 64/64 [00:00<00:00, 1429.35it/s]\n",
      "100%|██████████| 64/64 [00:00<00:00, 6258.55it/s]\n",
      "100%|██████████| 64/64 [00:00<00:00, 27495.18it/s]\n",
      " 19%|█▉        | 12/64 [00:00<00:00, 110.47it/s]"
     ]
    },
    {
     "name": "stdout",
     "output_type": "stream",
     "text": [
      "(1, 3329)\n",
      "(865, 3330)\n"
     ]
    },
    {
     "name": "stderr",
     "output_type": "stream",
     "text": [
      "100%|██████████| 64/64 [00:00<00:00, 109.38it/s]\n",
      "100%|██████████| 64/64 [00:00<00:00, 108.47it/s]\n",
      "100%|██████████| 64/64 [00:00<00:00, 113.36it/s]\n",
      "100%|██████████| 64/64 [00:00<00:00, 2606.35it/s]\n",
      "100%|██████████| 64/64 [00:00<00:00, 211.20it/s]\n",
      "100%|██████████| 64/64 [00:00<00:00, 168.70it/s]\n",
      "100%|██████████| 64/64 [00:07<00:00,  8.91it/s]\n",
      "100%|██████████| 64/64 [00:00<00:00, 3302.85it/s]\n",
      "100%|██████████| 64/64 [00:00<00:00, 1447.33it/s]\n",
      "100%|██████████| 64/64 [00:00<00:00, 1286.44it/s]\n",
      "100%|██████████| 64/64 [00:00<00:00, 7656.02it/s]\n",
      "100%|██████████| 64/64 [00:00<00:00, 104085.09it/s]\n",
      " 16%|█▌        | 10/64 [00:00<00:00, 99.39it/s]"
     ]
    },
    {
     "name": "stdout",
     "output_type": "stream",
     "text": [
      "(1, 3329)\n",
      "(866, 3330)\n"
     ]
    },
    {
     "name": "stderr",
     "output_type": "stream",
     "text": [
      "100%|██████████| 64/64 [00:00<00:00, 105.86it/s]\n",
      "100%|██████████| 64/64 [00:00<00:00, 104.79it/s]\n",
      "100%|██████████| 64/64 [00:00<00:00, 113.89it/s]\n",
      "100%|██████████| 64/64 [00:00<00:00, 2595.64it/s]\n",
      "100%|██████████| 64/64 [00:00<00:00, 209.18it/s]\n",
      "100%|██████████| 64/64 [00:00<00:00, 170.07it/s]\n",
      "100%|██████████| 64/64 [00:07<00:00,  8.87it/s]\n",
      "100%|██████████| 64/64 [00:00<00:00, 3823.49it/s]\n",
      "100%|██████████| 64/64 [00:00<00:00, 1494.01it/s]\n",
      "100%|██████████| 64/64 [00:00<00:00, 1425.56it/s]\n",
      "100%|██████████| 64/64 [00:00<00:00, 6874.50it/s]\n",
      "100%|██████████| 64/64 [00:00<00:00, 92852.11it/s]\n",
      " 17%|█▋        | 11/64 [00:00<00:00, 108.90it/s]"
     ]
    },
    {
     "name": "stdout",
     "output_type": "stream",
     "text": [
      "(1, 3329)\n",
      "(867, 3330)\n"
     ]
    },
    {
     "name": "stderr",
     "output_type": "stream",
     "text": [
      "100%|██████████| 64/64 [00:00<00:00, 105.47it/s]\n",
      "100%|██████████| 64/64 [00:00<00:00, 105.09it/s]\n",
      "100%|██████████| 64/64 [00:00<00:00, 114.76it/s]\n",
      "100%|██████████| 64/64 [00:00<00:00, 2126.47it/s]\n",
      "100%|██████████| 64/64 [00:00<00:00, 207.53it/s]\n",
      "100%|██████████| 64/64 [00:00<00:00, 162.17it/s]\n",
      "100%|██████████| 64/64 [00:07<00:00,  8.91it/s]\n",
      "100%|██████████| 64/64 [00:00<00:00, 3346.24it/s]\n",
      "100%|██████████| 64/64 [00:00<00:00, 1340.21it/s]\n",
      "100%|██████████| 64/64 [00:00<00:00, 1475.43it/s]\n",
      "100%|██████████| 64/64 [00:00<00:00, 7625.79it/s]\n",
      "100%|██████████| 64/64 [00:00<00:00, 28318.96it/s]\n",
      "  0%|          | 0/64 [00:00<?, ?it/s]"
     ]
    },
    {
     "name": "stdout",
     "output_type": "stream",
     "text": [
      "(1, 3329)\n",
      "(868, 3330)\n"
     ]
    },
    {
     "name": "stderr",
     "output_type": "stream",
     "text": [
      "100%|██████████| 64/64 [00:00<00:00, 103.03it/s]\n",
      "100%|██████████| 64/64 [00:00<00:00, 107.46it/s]\n",
      "100%|██████████| 64/64 [00:00<00:00, 114.00it/s]\n",
      "100%|██████████| 64/64 [00:00<00:00, 2431.55it/s]\n",
      "100%|██████████| 64/64 [00:00<00:00, 201.48it/s]\n",
      "100%|██████████| 64/64 [00:00<00:00, 158.50it/s]\n",
      "100%|██████████| 64/64 [00:07<00:00,  8.95it/s]\n",
      "100%|██████████| 64/64 [00:00<00:00, 3816.85it/s]\n",
      "100%|██████████| 64/64 [00:00<00:00, 1546.30it/s]\n",
      "100%|██████████| 64/64 [00:00<00:00, 1285.06it/s]\n",
      "100%|██████████| 64/64 [00:00<00:00, 8809.25it/s]\n",
      "100%|██████████| 64/64 [00:00<00:00, 92755.86it/s]\n",
      " 19%|█▉        | 12/64 [00:00<00:00, 115.31it/s]"
     ]
    },
    {
     "name": "stdout",
     "output_type": "stream",
     "text": [
      "(1, 3329)\n",
      "(869, 3330)\n"
     ]
    },
    {
     "name": "stderr",
     "output_type": "stream",
     "text": [
      "100%|██████████| 64/64 [00:00<00:00, 113.11it/s]\n",
      "100%|██████████| 64/64 [00:00<00:00, 110.04it/s]\n",
      "100%|██████████| 64/64 [00:00<00:00, 109.40it/s]\n",
      "100%|██████████| 64/64 [00:00<00:00, 2153.55it/s]\n",
      "100%|██████████| 64/64 [00:00<00:00, 206.79it/s]\n",
      "100%|██████████| 64/64 [00:00<00:00, 172.96it/s]\n",
      "100%|██████████| 64/64 [00:07<00:00,  8.93it/s]\n",
      "100%|██████████| 64/64 [00:00<00:00, 3606.31it/s]\n",
      "100%|██████████| 64/64 [00:00<00:00, 1492.95it/s]\n",
      "100%|██████████| 64/64 [00:00<00:00, 1275.84it/s]\n",
      "100%|██████████| 64/64 [00:00<00:00, 7315.71it/s]\n",
      "100%|██████████| 64/64 [00:00<00:00, 31703.73it/s]\n",
      " 17%|█▋        | 11/64 [00:00<00:00, 102.75it/s]"
     ]
    },
    {
     "name": "stdout",
     "output_type": "stream",
     "text": [
      "(1, 3329)\n",
      "(870, 3330)\n"
     ]
    },
    {
     "name": "stderr",
     "output_type": "stream",
     "text": [
      "100%|██████████| 64/64 [00:00<00:00, 105.90it/s]\n",
      "100%|██████████| 64/64 [00:00<00:00, 104.74it/s]\n",
      "100%|██████████| 64/64 [00:00<00:00, 111.61it/s]\n",
      "100%|██████████| 64/64 [00:00<00:00, 2488.23it/s]\n",
      "100%|██████████| 64/64 [00:00<00:00, 214.33it/s]\n",
      "100%|██████████| 64/64 [00:00<00:00, 171.28it/s]\n",
      "100%|██████████| 64/64 [00:06<00:00,  9.14it/s]\n",
      "100%|██████████| 64/64 [00:00<00:00, 2698.44it/s]\n",
      "100%|██████████| 64/64 [00:00<00:00, 1305.45it/s]\n",
      "100%|██████████| 64/64 [00:00<00:00, 1466.72it/s]\n",
      "100%|██████████| 64/64 [00:00<00:00, 8392.28it/s]\n",
      "100%|██████████| 64/64 [00:00<00:00, 33723.05it/s]\n",
      " 17%|█▋        | 11/64 [00:00<00:00, 105.52it/s]"
     ]
    },
    {
     "name": "stdout",
     "output_type": "stream",
     "text": [
      "(1, 3329)\n",
      "(871, 3330)\n"
     ]
    },
    {
     "name": "stderr",
     "output_type": "stream",
     "text": [
      "100%|██████████| 64/64 [00:00<00:00, 107.72it/s]\n",
      "100%|██████████| 64/64 [00:00<00:00, 113.06it/s]\n",
      "100%|██████████| 64/64 [00:00<00:00, 113.16it/s]\n",
      "100%|██████████| 64/64 [00:00<00:00, 2329.42it/s]\n",
      "100%|██████████| 64/64 [00:00<00:00, 212.67it/s]\n",
      "100%|██████████| 64/64 [00:00<00:00, 167.95it/s]\n",
      "100%|██████████| 64/64 [00:07<00:00,  9.08it/s]\n",
      "100%|██████████| 64/64 [00:00<00:00, 3887.21it/s]\n",
      "100%|██████████| 64/64 [00:00<00:00, 1491.51it/s]\n",
      "100%|██████████| 64/64 [00:00<00:00, 1525.67it/s]\n",
      "100%|██████████| 64/64 [00:00<00:00, 10933.34it/s]\n",
      "100%|██████████| 64/64 [00:00<00:00, 232613.05it/s]\n",
      " 17%|█▋        | 11/64 [00:00<00:00, 108.60it/s]"
     ]
    },
    {
     "name": "stdout",
     "output_type": "stream",
     "text": [
      "(1, 3329)\n",
      "(872, 3330)\n"
     ]
    },
    {
     "name": "stderr",
     "output_type": "stream",
     "text": [
      "100%|██████████| 64/64 [00:00<00:00, 104.41it/s]\n",
      "100%|██████████| 64/64 [00:00<00:00, 107.82it/s]\n",
      "100%|██████████| 64/64 [00:00<00:00, 112.04it/s]\n",
      "100%|██████████| 64/64 [00:00<00:00, 2486.53it/s]\n",
      "100%|██████████| 64/64 [00:00<00:00, 206.26it/s]\n",
      "100%|██████████| 64/64 [00:00<00:00, 164.58it/s]\n",
      "100%|██████████| 64/64 [00:07<00:00,  9.10it/s]\n",
      "100%|██████████| 64/64 [00:00<00:00, 3896.52it/s]\n",
      "100%|██████████| 64/64 [00:00<00:00, 1469.49it/s]\n",
      "100%|██████████| 64/64 [00:00<00:00, 1354.95it/s]\n",
      "100%|██████████| 64/64 [00:00<00:00, 6840.86it/s]\n",
      "100%|██████████| 64/64 [00:00<00:00, 232009.90it/s]\n",
      " 17%|█▋        | 11/64 [00:00<00:00, 106.63it/s]"
     ]
    },
    {
     "name": "stdout",
     "output_type": "stream",
     "text": [
      "(1, 3329)\n",
      "(873, 3330)\n"
     ]
    },
    {
     "name": "stderr",
     "output_type": "stream",
     "text": [
      "100%|██████████| 64/64 [00:00<00:00, 100.85it/s]\n",
      "100%|██████████| 64/64 [00:00<00:00, 107.97it/s]\n",
      "100%|██████████| 64/64 [00:00<00:00, 108.35it/s]\n",
      "100%|██████████| 64/64 [00:00<00:00, 2397.24it/s]\n",
      "100%|██████████| 64/64 [00:00<00:00, 211.87it/s]\n",
      "100%|██████████| 64/64 [00:00<00:00, 166.91it/s]\n",
      "100%|██████████| 64/64 [00:07<00:00,  8.95it/s]\n",
      "100%|██████████| 64/64 [00:00<00:00, 3700.82it/s]\n",
      "100%|██████████| 64/64 [00:00<00:00, 1424.76it/s]\n",
      "100%|██████████| 64/64 [00:00<00:00, 1260.92it/s]\n",
      "100%|██████████| 64/64 [00:00<00:00, 7478.35it/s]\n",
      "100%|██████████| 64/64 [00:00<00:00, 27688.03it/s]\n",
      " 17%|█▋        | 11/64 [00:00<00:00, 109.73it/s]"
     ]
    },
    {
     "name": "stdout",
     "output_type": "stream",
     "text": [
      "(1, 3329)\n",
      "(874, 3330)\n"
     ]
    },
    {
     "name": "stderr",
     "output_type": "stream",
     "text": [
      "100%|██████████| 64/64 [00:00<00:00, 107.34it/s]\n",
      "100%|██████████| 64/64 [00:00<00:00, 103.86it/s]\n",
      "100%|██████████| 64/64 [00:00<00:00, 107.16it/s]\n",
      "100%|██████████| 64/64 [00:00<00:00, 2360.56it/s]\n",
      "100%|██████████| 64/64 [00:00<00:00, 209.39it/s]\n",
      "100%|██████████| 64/64 [00:00<00:00, 167.02it/s]\n",
      "100%|██████████| 64/64 [00:07<00:00,  8.84it/s]\n",
      "100%|██████████| 64/64 [00:00<00:00, 3422.44it/s]\n",
      "100%|██████████| 64/64 [00:00<00:00, 1463.84it/s]\n",
      "100%|██████████| 64/64 [00:00<00:00, 1439.27it/s]\n",
      "100%|██████████| 64/64 [00:00<00:00, 8159.38it/s]\n",
      "100%|██████████| 64/64 [00:00<00:00, 32736.03it/s]\n",
      " 17%|█▋        | 11/64 [00:00<00:00, 109.64it/s]"
     ]
    },
    {
     "name": "stdout",
     "output_type": "stream",
     "text": [
      "(1, 3329)\n",
      "(875, 3330)\n"
     ]
    },
    {
     "name": "stderr",
     "output_type": "stream",
     "text": [
      "100%|██████████| 64/64 [00:00<00:00, 107.78it/s]\n",
      "100%|██████████| 64/64 [00:00<00:00, 108.23it/s]\n",
      "100%|██████████| 64/64 [00:00<00:00, 114.04it/s]\n",
      "100%|██████████| 64/64 [00:00<00:00, 1768.94it/s]\n",
      "100%|██████████| 64/64 [00:00<00:00, 213.91it/s]\n",
      "100%|██████████| 64/64 [00:00<00:00, 173.06it/s]\n",
      "100%|██████████| 64/64 [00:07<00:00,  8.88it/s]\n",
      "100%|██████████| 64/64 [00:00<00:00, 3676.54it/s]\n",
      "100%|██████████| 64/64 [00:00<00:00, 1376.92it/s]\n",
      "100%|██████████| 64/64 [00:00<00:00, 1476.96it/s]\n",
      "100%|██████████| 64/64 [00:00<00:00, 7730.10it/s]\n",
      "100%|██████████| 64/64 [00:00<00:00, 87580.90it/s]\n",
      " 17%|█▋        | 11/64 [00:00<00:00, 108.40it/s]"
     ]
    },
    {
     "name": "stdout",
     "output_type": "stream",
     "text": [
      "(1, 3329)\n",
      "(876, 3330)\n"
     ]
    },
    {
     "name": "stderr",
     "output_type": "stream",
     "text": [
      "100%|██████████| 64/64 [00:00<00:00, 108.51it/s]\n",
      "100%|██████████| 64/64 [00:00<00:00, 107.76it/s]\n",
      "100%|██████████| 64/64 [00:00<00:00, 119.04it/s]\n",
      "100%|██████████| 64/64 [00:00<00:00, 2348.33it/s]\n",
      "100%|██████████| 64/64 [00:00<00:00, 213.15it/s]\n",
      "100%|██████████| 64/64 [00:00<00:00, 163.61it/s]\n",
      "100%|██████████| 64/64 [00:07<00:00,  8.92it/s]\n",
      "100%|██████████| 64/64 [00:00<00:00, 3841.71it/s]\n",
      "100%|██████████| 64/64 [00:00<00:00, 1474.73it/s]\n",
      "100%|██████████| 64/64 [00:00<00:00, 1564.78it/s]\n",
      "100%|██████████| 64/64 [00:00<00:00, 6776.11it/s]\n",
      "100%|██████████| 64/64 [00:00<00:00, 89270.19it/s]\n",
      "  0%|          | 0/64 [00:00<?, ?it/s]"
     ]
    },
    {
     "name": "stdout",
     "output_type": "stream",
     "text": [
      "(1, 3329)\n",
      "(877, 3330)\n"
     ]
    },
    {
     "name": "stderr",
     "output_type": "stream",
     "text": [
      "100%|██████████| 64/64 [00:00<00:00, 107.18it/s]\n",
      "100%|██████████| 64/64 [00:00<00:00, 111.90it/s]\n",
      "100%|██████████| 64/64 [00:00<00:00, 114.48it/s]\n",
      "100%|██████████| 64/64 [00:00<00:00, 2487.96it/s]\n",
      "100%|██████████| 64/64 [00:00<00:00, 210.36it/s]\n",
      "100%|██████████| 64/64 [00:00<00:00, 172.08it/s]\n",
      "100%|██████████| 64/64 [00:06<00:00,  9.20it/s]\n",
      "100%|██████████| 64/64 [00:00<00:00, 3451.84it/s]\n",
      "100%|██████████| 64/64 [00:00<00:00, 1542.55it/s]\n",
      "100%|██████████| 64/64 [00:00<00:00, 1476.73it/s]\n",
      "100%|██████████| 64/64 [00:00<00:00, 8517.70it/s]\n",
      "100%|██████████| 64/64 [00:00<00:00, 246723.76it/s]\n",
      "  0%|          | 0/64 [00:00<?, ?it/s]"
     ]
    },
    {
     "name": "stdout",
     "output_type": "stream",
     "text": [
      "(1, 3329)\n",
      "(878, 3330)\n"
     ]
    },
    {
     "name": "stderr",
     "output_type": "stream",
     "text": [
      "100%|██████████| 64/64 [00:00<00:00, 107.09it/s]\n",
      "100%|██████████| 64/64 [00:00<00:00, 112.76it/s]\n",
      "100%|██████████| 64/64 [00:00<00:00, 112.01it/s]\n",
      "100%|██████████| 64/64 [00:00<00:00, 2414.23it/s]\n",
      "100%|██████████| 64/64 [00:00<00:00, 219.22it/s]\n",
      "100%|██████████| 64/64 [00:00<00:00, 174.82it/s]\n",
      "100%|██████████| 64/64 [00:07<00:00,  9.07it/s]\n",
      "100%|██████████| 64/64 [00:00<00:00, 3837.31it/s]\n",
      "100%|██████████| 64/64 [00:00<00:00, 1476.71it/s]\n",
      "100%|██████████| 64/64 [00:00<00:00, 1242.54it/s]\n",
      "100%|██████████| 64/64 [00:00<00:00, 6828.51it/s]\n",
      "100%|██████████| 64/64 [00:00<00:00, 283758.41it/s]\n",
      " 16%|█▌        | 10/64 [00:00<00:00, 98.20it/s]"
     ]
    },
    {
     "name": "stdout",
     "output_type": "stream",
     "text": [
      "(1, 3329)\n",
      "(879, 3330)\n"
     ]
    },
    {
     "name": "stderr",
     "output_type": "stream",
     "text": [
      "100%|██████████| 64/64 [00:00<00:00, 105.74it/s]\n",
      "100%|██████████| 64/64 [00:00<00:00, 103.52it/s]\n",
      "100%|██████████| 64/64 [00:00<00:00, 109.74it/s]\n",
      "100%|██████████| 64/64 [00:00<00:00, 2347.02it/s]\n",
      "100%|██████████| 64/64 [00:00<00:00, 199.56it/s]\n",
      "100%|██████████| 64/64 [00:00<00:00, 175.45it/s]\n",
      "100%|██████████| 64/64 [00:07<00:00,  9.05it/s]\n",
      "100%|██████████| 64/64 [00:00<00:00, 3890.48it/s]\n",
      "100%|██████████| 64/64 [00:00<00:00, 1483.96it/s]\n",
      "100%|██████████| 64/64 [00:00<00:00, 1529.47it/s]\n",
      "100%|██████████| 64/64 [00:00<00:00, 7408.39it/s]\n",
      "100%|██████████| 64/64 [00:00<00:00, 96978.13it/s]\n",
      " 19%|█▉        | 12/64 [00:00<00:00, 111.01it/s]"
     ]
    },
    {
     "name": "stdout",
     "output_type": "stream",
     "text": [
      "(1, 3329)\n",
      "(880, 3330)\n"
     ]
    },
    {
     "name": "stderr",
     "output_type": "stream",
     "text": [
      "100%|██████████| 64/64 [00:00<00:00, 105.28it/s]\n",
      "100%|██████████| 64/64 [00:00<00:00, 107.53it/s]\n",
      "100%|██████████| 64/64 [00:00<00:00, 110.61it/s]\n",
      "100%|██████████| 64/64 [00:00<00:00, 2344.50it/s]\n",
      "100%|██████████| 64/64 [00:00<00:00, 204.34it/s]\n",
      "100%|██████████| 64/64 [00:00<00:00, 166.14it/s]\n",
      "100%|██████████| 64/64 [00:07<00:00,  9.00it/s]\n",
      "100%|██████████| 64/64 [00:00<00:00, 3735.53it/s]\n",
      "100%|██████████| 64/64 [00:00<00:00, 1537.76it/s]\n",
      "100%|██████████| 64/64 [00:00<00:00, 1492.83it/s]\n",
      "100%|██████████| 64/64 [00:00<00:00, 6870.63it/s]\n",
      "100%|██████████| 64/64 [00:00<00:00, 39750.55it/s]\n",
      " 19%|█▉        | 12/64 [00:00<00:00, 110.74it/s]"
     ]
    },
    {
     "name": "stdout",
     "output_type": "stream",
     "text": [
      "(1, 3329)\n",
      "(881, 3330)\n"
     ]
    },
    {
     "name": "stderr",
     "output_type": "stream",
     "text": [
      "100%|██████████| 64/64 [00:00<00:00, 106.96it/s]\n",
      "100%|██████████| 64/64 [00:00<00:00, 106.74it/s]\n",
      "100%|██████████| 64/64 [00:00<00:00, 114.51it/s]\n",
      "100%|██████████| 64/64 [00:00<00:00, 2585.66it/s]\n",
      "100%|██████████| 64/64 [00:00<00:00, 220.80it/s]\n",
      "100%|██████████| 64/64 [00:00<00:00, 177.49it/s]\n",
      "100%|██████████| 64/64 [00:07<00:00,  8.89it/s]\n",
      "100%|██████████| 64/64 [00:00<00:00, 3524.81it/s]\n",
      "100%|██████████| 64/64 [00:00<00:00, 1526.55it/s]\n",
      "100%|██████████| 64/64 [00:00<00:00, 1301.14it/s]\n",
      "100%|██████████| 64/64 [00:00<00:00, 7167.45it/s]\n",
      "100%|██████████| 64/64 [00:00<00:00, 202899.06it/s]\n",
      " 19%|█▉        | 12/64 [00:00<00:00, 116.20it/s]"
     ]
    },
    {
     "name": "stdout",
     "output_type": "stream",
     "text": [
      "(1, 3329)\n",
      "(882, 3330)\n"
     ]
    },
    {
     "name": "stderr",
     "output_type": "stream",
     "text": [
      "100%|██████████| 64/64 [00:00<00:00, 108.49it/s]\n",
      "100%|██████████| 64/64 [00:00<00:00, 106.84it/s]\n",
      "100%|██████████| 64/64 [00:00<00:00, 118.17it/s]\n",
      "100%|██████████| 64/64 [00:00<00:00, 2455.25it/s]\n",
      "100%|██████████| 64/64 [00:00<00:00, 201.22it/s]\n",
      "100%|██████████| 64/64 [00:00<00:00, 179.71it/s]\n",
      "100%|██████████| 64/64 [00:07<00:00,  9.09it/s]\n",
      "100%|██████████| 64/64 [00:00<00:00, 3617.34it/s]\n",
      "100%|██████████| 64/64 [00:00<00:00, 1477.42it/s]\n",
      "100%|██████████| 64/64 [00:00<00:00, 1468.19it/s]\n",
      "100%|██████████| 64/64 [00:00<00:00, 8224.38it/s]\n",
      "100%|██████████| 64/64 [00:00<00:00, 257863.07it/s]\n",
      " 19%|█▉        | 12/64 [00:00<00:00, 113.36it/s]"
     ]
    },
    {
     "name": "stdout",
     "output_type": "stream",
     "text": [
      "(1, 3329)\n",
      "(883, 3330)\n"
     ]
    },
    {
     "name": "stderr",
     "output_type": "stream",
     "text": [
      "100%|██████████| 64/64 [00:00<00:00, 106.36it/s]\n",
      "100%|██████████| 64/64 [00:00<00:00, 102.68it/s]\n",
      "100%|██████████| 64/64 [00:00<00:00, 106.09it/s]\n",
      "100%|██████████| 64/64 [00:00<00:00, 2151.56it/s]\n",
      "100%|██████████| 64/64 [00:00<00:00, 201.33it/s]\n",
      "100%|██████████| 64/64 [00:00<00:00, 164.70it/s]\n",
      "100%|██████████| 64/64 [00:07<00:00,  9.00it/s]\n",
      "100%|██████████| 64/64 [00:00<00:00, 3510.75it/s]\n",
      "100%|██████████| 64/64 [00:00<00:00, 1429.53it/s]\n",
      "100%|██████████| 64/64 [00:00<00:00, 1423.22it/s]\n",
      "100%|██████████| 64/64 [00:00<00:00, 7662.80it/s]\n",
      "100%|██████████| 64/64 [00:00<00:00, 261633.00it/s]\n",
      " 19%|█▉        | 12/64 [00:00<00:00, 111.75it/s]"
     ]
    },
    {
     "name": "stdout",
     "output_type": "stream",
     "text": [
      "(1, 3329)\n",
      "(884, 3330)\n"
     ]
    },
    {
     "name": "stderr",
     "output_type": "stream",
     "text": [
      "100%|██████████| 64/64 [00:00<00:00, 104.78it/s]\n",
      "100%|██████████| 64/64 [00:00<00:00, 106.35it/s]\n",
      "100%|██████████| 64/64 [00:00<00:00, 115.65it/s]\n",
      "100%|██████████| 64/64 [00:00<00:00, 2509.54it/s]\n",
      "100%|██████████| 64/64 [00:00<00:00, 217.54it/s]\n",
      "100%|██████████| 64/64 [00:00<00:00, 171.48it/s]\n",
      "100%|██████████| 64/64 [00:07<00:00,  8.96it/s]\n",
      "100%|██████████| 64/64 [00:00<00:00, 3715.06it/s]\n",
      "100%|██████████| 64/64 [00:00<00:00, 1321.35it/s]\n",
      "100%|██████████| 64/64 [00:00<00:00, 1288.19it/s]\n",
      "100%|██████████| 64/64 [00:00<00:00, 8008.46it/s]\n",
      "100%|██████████| 64/64 [00:00<00:00, 31918.60it/s]\n",
      " 17%|█▋        | 11/64 [00:00<00:00, 109.02it/s]"
     ]
    },
    {
     "name": "stdout",
     "output_type": "stream",
     "text": [
      "(1, 3329)\n",
      "(885, 3330)\n"
     ]
    },
    {
     "name": "stderr",
     "output_type": "stream",
     "text": [
      "100%|██████████| 64/64 [00:00<00:00, 104.43it/s]\n",
      "100%|██████████| 64/64 [00:00<00:00, 105.03it/s]\n",
      "100%|██████████| 64/64 [00:00<00:00, 106.64it/s]\n",
      "100%|██████████| 64/64 [00:00<00:00, 2335.50it/s]\n",
      "100%|██████████| 64/64 [00:00<00:00, 215.22it/s]\n",
      "100%|██████████| 64/64 [00:00<00:00, 175.36it/s]\n",
      "100%|██████████| 64/64 [00:07<00:00,  8.90it/s]\n",
      "100%|██████████| 64/64 [00:00<00:00, 3553.55it/s]\n",
      "100%|██████████| 64/64 [00:00<00:00, 1246.29it/s]\n",
      "100%|██████████| 64/64 [00:00<00:00, 1444.36it/s]\n",
      "100%|██████████| 64/64 [00:00<00:00, 6727.20it/s]\n",
      "100%|██████████| 64/64 [00:00<00:00, 260870.22it/s]\n",
      "  0%|          | 0/64 [00:00<?, ?it/s]"
     ]
    },
    {
     "name": "stdout",
     "output_type": "stream",
     "text": [
      "(1, 3329)\n",
      "(886, 3330)\n"
     ]
    },
    {
     "name": "stderr",
     "output_type": "stream",
     "text": [
      "100%|██████████| 64/64 [00:00<00:00, 105.04it/s]\n",
      "100%|██████████| 64/64 [00:00<00:00, 106.38it/s]\n",
      "100%|██████████| 64/64 [00:00<00:00, 110.01it/s]\n",
      "100%|██████████| 64/64 [00:00<00:00, 1545.71it/s]\n",
      "100%|██████████| 64/64 [00:00<00:00, 197.51it/s]\n",
      "100%|██████████| 64/64 [00:00<00:00, 168.75it/s]\n",
      "100%|██████████| 64/64 [00:07<00:00,  8.99it/s]\n",
      "100%|██████████| 64/64 [00:00<00:00, 3914.59it/s]\n",
      "100%|██████████| 64/64 [00:00<00:00, 1534.74it/s]\n",
      "100%|██████████| 64/64 [00:00<00:00, 1579.52it/s]\n",
      "100%|██████████| 64/64 [00:00<00:00, 7656.90it/s]\n",
      "100%|██████████| 64/64 [00:00<00:00, 110421.82it/s]\n",
      " 17%|█▋        | 11/64 [00:00<00:00, 107.96it/s]"
     ]
    },
    {
     "name": "stdout",
     "output_type": "stream",
     "text": [
      "(1, 3329)\n",
      "(887, 3330)\n"
     ]
    },
    {
     "name": "stderr",
     "output_type": "stream",
     "text": [
      "100%|██████████| 64/64 [00:00<00:00, 106.74it/s]\n",
      "100%|██████████| 64/64 [00:00<00:00, 111.49it/s]\n",
      "100%|██████████| 64/64 [00:00<00:00, 112.43it/s]\n",
      "100%|██████████| 64/64 [00:00<00:00, 2680.57it/s]\n",
      "100%|██████████| 64/64 [00:00<00:00, 210.64it/s]\n",
      "100%|██████████| 64/64 [00:00<00:00, 169.67it/s]\n",
      "100%|██████████| 64/64 [00:07<00:00,  9.06it/s]\n",
      "100%|██████████| 64/64 [00:00<00:00, 3200.84it/s]\n",
      "100%|██████████| 64/64 [00:00<00:00, 1461.41it/s]\n",
      "100%|██████████| 64/64 [00:00<00:00, 1484.14it/s]\n",
      "100%|██████████| 64/64 [00:00<00:00, 8093.69it/s]\n",
      "100%|██████████| 64/64 [00:00<00:00, 96282.44it/s]\n",
      "  0%|          | 0/64 [00:00<?, ?it/s]"
     ]
    },
    {
     "name": "stdout",
     "output_type": "stream",
     "text": [
      "(1, 3329)\n",
      "(888, 3330)\n"
     ]
    },
    {
     "name": "stderr",
     "output_type": "stream",
     "text": [
      "100%|██████████| 64/64 [00:00<00:00, 102.74it/s]\n",
      "100%|██████████| 64/64 [00:00<00:00, 107.81it/s]\n",
      "100%|██████████| 64/64 [00:00<00:00, 112.01it/s]\n",
      "100%|██████████| 64/64 [00:00<00:00, 2581.51it/s]\n",
      "100%|██████████| 64/64 [00:00<00:00, 204.09it/s]\n",
      "100%|██████████| 64/64 [00:00<00:00, 169.44it/s]\n",
      "100%|██████████| 64/64 [00:07<00:00,  8.85it/s]\n",
      "100%|██████████| 64/64 [00:00<00:00, 3669.61it/s]\n",
      "100%|██████████| 64/64 [00:00<00:00, 1556.56it/s]\n",
      "100%|██████████| 64/64 [00:00<00:00, 1361.31it/s]\n",
      "100%|██████████| 64/64 [00:00<00:00, 9034.58it/s]\n",
      "100%|██████████| 64/64 [00:00<00:00, 27938.74it/s]\n",
      " 19%|█▉        | 12/64 [00:00<00:00, 113.78it/s]"
     ]
    },
    {
     "name": "stdout",
     "output_type": "stream",
     "text": [
      "(1, 3329)\n",
      "(889, 3330)\n"
     ]
    },
    {
     "name": "stderr",
     "output_type": "stream",
     "text": [
      "100%|██████████| 64/64 [00:00<00:00, 107.19it/s]\n",
      "100%|██████████| 64/64 [00:00<00:00, 110.81it/s]\n",
      "100%|██████████| 64/64 [00:00<00:00, 114.15it/s]\n",
      "100%|██████████| 64/64 [00:00<00:00, 2588.55it/s]\n",
      "100%|██████████| 64/64 [00:00<00:00, 213.58it/s]\n",
      "100%|██████████| 64/64 [00:00<00:00, 174.19it/s]\n",
      "100%|██████████| 64/64 [00:07<00:00,  8.74it/s]\n",
      "100%|██████████| 64/64 [00:00<00:00, 3325.18it/s]\n",
      "100%|██████████| 64/64 [00:00<00:00, 1268.02it/s]\n",
      "100%|██████████| 64/64 [00:00<00:00, 1341.02it/s]\n",
      "100%|██████████| 64/64 [00:00<00:00, 8720.25it/s]\n",
      "100%|██████████| 64/64 [00:00<00:00, 31033.00it/s]\n",
      " 17%|█▋        | 11/64 [00:00<00:00, 101.01it/s]"
     ]
    },
    {
     "name": "stdout",
     "output_type": "stream",
     "text": [
      "(1, 3329)\n",
      "(890, 3330)\n"
     ]
    },
    {
     "name": "stderr",
     "output_type": "stream",
     "text": [
      "100%|██████████| 64/64 [00:00<00:00, 104.48it/s]\n",
      "100%|██████████| 64/64 [00:00<00:00, 107.28it/s]\n",
      "100%|██████████| 64/64 [00:00<00:00, 112.87it/s]\n",
      "100%|██████████| 64/64 [00:00<00:00, 2548.93it/s]\n",
      "100%|██████████| 64/64 [00:00<00:00, 205.63it/s]\n",
      "100%|██████████| 64/64 [00:00<00:00, 163.66it/s]\n",
      "100%|██████████| 64/64 [00:07<00:00,  9.10it/s]\n",
      "100%|██████████| 64/64 [00:00<00:00, 2893.81it/s]\n",
      "100%|██████████| 64/64 [00:00<00:00, 1254.57it/s]\n",
      "100%|██████████| 64/64 [00:00<00:00, 1185.55it/s]\n",
      "100%|██████████| 64/64 [00:00<00:00, 8750.10it/s]\n",
      "100%|██████████| 64/64 [00:00<00:00, 31395.96it/s]\n",
      " 19%|█▉        | 12/64 [00:00<00:00, 112.56it/s]"
     ]
    },
    {
     "name": "stdout",
     "output_type": "stream",
     "text": [
      "(1, 3329)\n",
      "(891, 3330)\n"
     ]
    },
    {
     "name": "stderr",
     "output_type": "stream",
     "text": [
      "100%|██████████| 64/64 [00:00<00:00, 105.55it/s]\n",
      "100%|██████████| 64/64 [00:00<00:00, 106.47it/s]\n",
      "100%|██████████| 64/64 [00:00<00:00, 111.70it/s]\n",
      "100%|██████████| 64/64 [00:00<00:00, 2454.81it/s]\n",
      "100%|██████████| 64/64 [00:00<00:00, 214.03it/s]\n",
      "100%|██████████| 64/64 [00:00<00:00, 161.22it/s]\n",
      "100%|██████████| 64/64 [00:07<00:00,  8.99it/s]\n",
      "100%|██████████| 64/64 [00:00<00:00, 3594.67it/s]\n",
      "100%|██████████| 64/64 [00:00<00:00, 1438.47it/s]\n",
      "100%|██████████| 64/64 [00:00<00:00, 1312.83it/s]\n",
      "100%|██████████| 64/64 [00:00<00:00, 7529.11it/s]\n",
      "100%|██████████| 64/64 [00:00<00:00, 223509.96it/s]\n",
      " 16%|█▌        | 10/64 [00:00<00:00, 92.40it/s]"
     ]
    },
    {
     "name": "stdout",
     "output_type": "stream",
     "text": [
      "(1, 3329)\n",
      "(892, 3330)\n"
     ]
    },
    {
     "name": "stderr",
     "output_type": "stream",
     "text": [
      "100%|██████████| 64/64 [00:00<00:00, 107.01it/s]\n",
      "100%|██████████| 64/64 [00:00<00:00, 114.49it/s]\n",
      "100%|██████████| 64/64 [00:00<00:00, 118.00it/s]\n",
      "100%|██████████| 64/64 [00:00<00:00, 1882.24it/s]\n",
      "100%|██████████| 64/64 [00:00<00:00, 220.44it/s]\n",
      "100%|██████████| 64/64 [00:00<00:00, 175.67it/s]\n",
      "100%|██████████| 64/64 [00:07<00:00,  9.12it/s]\n",
      "100%|██████████| 64/64 [00:00<00:00, 3320.13it/s]\n",
      "100%|██████████| 64/64 [00:00<00:00, 1383.17it/s]\n",
      "100%|██████████| 64/64 [00:00<00:00, 1552.13it/s]\n",
      "100%|██████████| 64/64 [00:00<00:00, 8090.04it/s]\n",
      "100%|██████████| 64/64 [00:00<00:00, 121794.67it/s]\n",
      " 17%|█▋        | 11/64 [00:00<00:00, 109.63it/s]"
     ]
    },
    {
     "name": "stdout",
     "output_type": "stream",
     "text": [
      "(1, 3329)\n",
      "(893, 3330)\n"
     ]
    },
    {
     "name": "stderr",
     "output_type": "stream",
     "text": [
      "100%|██████████| 64/64 [00:00<00:00, 109.37it/s]\n",
      "100%|██████████| 64/64 [00:00<00:00, 100.89it/s]\n",
      "100%|██████████| 64/64 [00:00<00:00, 111.52it/s]\n",
      "100%|██████████| 64/64 [00:00<00:00, 2144.98it/s]\n",
      "100%|██████████| 64/64 [00:00<00:00, 209.18it/s]\n",
      "100%|██████████| 64/64 [00:00<00:00, 167.74it/s]\n",
      "100%|██████████| 64/64 [00:07<00:00,  9.02it/s]\n",
      "100%|██████████| 64/64 [00:00<00:00, 3295.30it/s]\n",
      "100%|██████████| 64/64 [00:00<00:00, 1247.46it/s]\n",
      "100%|██████████| 64/64 [00:00<00:00, 1476.99it/s]\n",
      "100%|██████████| 64/64 [00:00<00:00, 8363.26it/s]\n",
      "100%|██████████| 64/64 [00:00<00:00, 43408.06it/s]\n",
      " 19%|█▉        | 12/64 [00:00<00:00, 113.20it/s]"
     ]
    },
    {
     "name": "stdout",
     "output_type": "stream",
     "text": [
      "(1, 3329)\n",
      "(894, 3330)\n"
     ]
    },
    {
     "name": "stderr",
     "output_type": "stream",
     "text": [
      "100%|██████████| 64/64 [00:00<00:00, 108.70it/s]\n",
      "100%|██████████| 64/64 [00:00<00:00, 112.20it/s]\n",
      "100%|██████████| 64/64 [00:00<00:00, 109.37it/s]\n",
      "100%|██████████| 64/64 [00:00<00:00, 2532.24it/s]\n",
      "100%|██████████| 64/64 [00:00<00:00, 211.11it/s]\n",
      "100%|██████████| 64/64 [00:00<00:00, 175.97it/s]\n",
      "100%|██████████| 64/64 [00:07<00:00,  8.86it/s]\n",
      "100%|██████████| 64/64 [00:00<00:00, 3855.11it/s]\n",
      "100%|██████████| 64/64 [00:00<00:00, 1461.87it/s]\n",
      "100%|██████████| 64/64 [00:00<00:00, 1442.41it/s]\n",
      "100%|██████████| 64/64 [00:00<00:00, 8547.81it/s]\n",
      "100%|██████████| 64/64 [00:00<00:00, 28064.34it/s]\n",
      " 17%|█▋        | 11/64 [00:00<00:00, 106.59it/s]"
     ]
    },
    {
     "name": "stdout",
     "output_type": "stream",
     "text": [
      "(1, 3329)\n",
      "(895, 3330)\n"
     ]
    },
    {
     "name": "stderr",
     "output_type": "stream",
     "text": [
      "100%|██████████| 64/64 [00:00<00:00, 109.53it/s]\n",
      "100%|██████████| 64/64 [00:00<00:00, 107.46it/s]\n",
      "100%|██████████| 64/64 [00:00<00:00, 118.77it/s]\n",
      "100%|██████████| 64/64 [00:00<00:00, 2043.65it/s]\n",
      "100%|██████████| 64/64 [00:00<00:00, 208.72it/s]\n",
      "100%|██████████| 64/64 [00:00<00:00, 168.47it/s]\n",
      "100%|██████████| 64/64 [00:07<00:00,  8.99it/s]\n",
      "100%|██████████| 64/64 [00:00<00:00, 3935.25it/s]\n",
      "100%|██████████| 64/64 [00:00<00:00, 1484.12it/s]\n",
      "100%|██████████| 64/64 [00:00<00:00, 1315.03it/s]\n",
      "100%|██████████| 64/64 [00:00<00:00, 8983.48it/s]\n",
      "100%|██████████| 64/64 [00:00<00:00, 197379.01it/s]\n",
      " 16%|█▌        | 10/64 [00:00<00:00, 99.15it/s]"
     ]
    },
    {
     "name": "stdout",
     "output_type": "stream",
     "text": [
      "(1, 3329)\n",
      "(896, 3330)\n"
     ]
    },
    {
     "name": "stderr",
     "output_type": "stream",
     "text": [
      "100%|██████████| 64/64 [00:00<00:00, 104.63it/s]\n",
      "100%|██████████| 64/64 [00:00<00:00, 111.33it/s]\n",
      "100%|██████████| 64/64 [00:00<00:00, 112.50it/s]\n",
      "100%|██████████| 64/64 [00:00<00:00, 2370.48it/s]\n",
      "100%|██████████| 64/64 [00:00<00:00, 210.53it/s]\n",
      "100%|██████████| 64/64 [00:00<00:00, 167.22it/s]\n",
      "100%|██████████| 64/64 [00:07<00:00,  8.99it/s]\n",
      "100%|██████████| 64/64 [00:00<00:00, 3692.93it/s]\n",
      "100%|██████████| 64/64 [00:00<00:00, 1484.74it/s]\n",
      "100%|██████████| 64/64 [00:00<00:00, 1408.28it/s]\n",
      "100%|██████████| 64/64 [00:00<00:00, 5714.31it/s]\n",
      "100%|██████████| 64/64 [00:00<00:00, 228455.71it/s]\n",
      " 17%|█▋        | 11/64 [00:00<00:00, 108.82it/s]"
     ]
    },
    {
     "name": "stdout",
     "output_type": "stream",
     "text": [
      "(1, 3329)\n",
      "(897, 3330)\n"
     ]
    },
    {
     "name": "stderr",
     "output_type": "stream",
     "text": [
      "100%|██████████| 64/64 [00:00<00:00, 103.50it/s]\n",
      "100%|██████████| 64/64 [00:00<00:00, 108.60it/s]\n",
      "100%|██████████| 64/64 [00:00<00:00, 108.77it/s]\n",
      "100%|██████████| 64/64 [00:00<00:00, 2530.57it/s]\n",
      "100%|██████████| 64/64 [00:00<00:00, 218.91it/s]\n",
      "100%|██████████| 64/64 [00:00<00:00, 175.43it/s]\n",
      "100%|██████████| 64/64 [00:07<00:00,  8.97it/s]\n",
      "100%|██████████| 64/64 [00:00<00:00, 3870.62it/s]\n",
      "100%|██████████| 64/64 [00:00<00:00, 1359.41it/s]\n",
      "100%|██████████| 64/64 [00:00<00:00, 1344.50it/s]\n",
      "100%|██████████| 64/64 [00:00<00:00, 9062.34it/s]\n",
      "100%|██████████| 64/64 [00:00<00:00, 102105.54it/s]\n",
      " 19%|█▉        | 12/64 [00:00<00:00, 112.79it/s]"
     ]
    },
    {
     "name": "stdout",
     "output_type": "stream",
     "text": [
      "(1, 3329)\n",
      "(898, 3330)\n"
     ]
    },
    {
     "name": "stderr",
     "output_type": "stream",
     "text": [
      "100%|██████████| 64/64 [00:00<00:00, 106.94it/s]\n",
      "100%|██████████| 64/64 [00:00<00:00, 109.93it/s]\n",
      "100%|██████████| 64/64 [00:00<00:00, 112.95it/s]\n",
      "100%|██████████| 64/64 [00:00<00:00, 2463.32it/s]\n",
      "100%|██████████| 64/64 [00:00<00:00, 215.91it/s]\n",
      "100%|██████████| 64/64 [00:00<00:00, 171.62it/s]\n",
      "100%|██████████| 64/64 [00:07<00:00,  9.13it/s]\n",
      "100%|██████████| 64/64 [00:00<00:00, 3679.42it/s]\n",
      "100%|██████████| 64/64 [00:00<00:00, 1350.46it/s]\n",
      "100%|██████████| 64/64 [00:00<00:00, 1495.65it/s]\n",
      "100%|██████████| 64/64 [00:00<00:00, 7984.87it/s]\n",
      "100%|██████████| 64/64 [00:00<00:00, 94753.07it/s]\n",
      " 19%|█▉        | 12/64 [00:00<00:00, 110.91it/s]"
     ]
    },
    {
     "name": "stdout",
     "output_type": "stream",
     "text": [
      "(1, 3329)\n",
      "(899, 3330)\n"
     ]
    },
    {
     "name": "stderr",
     "output_type": "stream",
     "text": [
      "100%|██████████| 64/64 [00:00<00:00, 109.92it/s]\n",
      "100%|██████████| 64/64 [00:00<00:00, 106.90it/s]\n",
      "100%|██████████| 64/64 [00:00<00:00, 117.25it/s]\n",
      "100%|██████████| 64/64 [00:00<00:00, 2531.38it/s]\n",
      "100%|██████████| 64/64 [00:00<00:00, 218.55it/s]\n",
      "100%|██████████| 64/64 [00:00<00:00, 170.94it/s]\n",
      "100%|██████████| 64/64 [00:07<00:00,  8.99it/s]\n",
      "100%|██████████| 64/64 [00:00<00:00, 3721.55it/s]\n",
      "100%|██████████| 64/64 [00:00<00:00, 1434.39it/s]\n",
      "100%|██████████| 64/64 [00:00<00:00, 1469.89it/s]\n",
      "100%|██████████| 64/64 [00:00<00:00, 8916.94it/s]\n",
      "100%|██████████| 64/64 [00:00<00:00, 21548.96it/s]\n",
      "  0%|          | 0/64 [00:00<?, ?it/s]"
     ]
    },
    {
     "name": "stdout",
     "output_type": "stream",
     "text": [
      "(1, 3329)\n",
      "(900, 3330)\n"
     ]
    },
    {
     "name": "stderr",
     "output_type": "stream",
     "text": [
      "100%|██████████| 64/64 [00:00<00:00, 103.60it/s]\n",
      "100%|██████████| 64/64 [00:00<00:00, 105.34it/s]\n",
      "100%|██████████| 64/64 [00:00<00:00, 111.93it/s]\n",
      "100%|██████████| 64/64 [00:00<00:00, 2229.79it/s]\n",
      "100%|██████████| 64/64 [00:00<00:00, 203.59it/s]\n",
      "100%|██████████| 64/64 [00:00<00:00, 168.62it/s]\n",
      "100%|██████████| 64/64 [00:07<00:00,  8.70it/s]\n",
      "100%|██████████| 64/64 [00:00<00:00, 3601.71it/s]\n",
      "100%|██████████| 64/64 [00:00<00:00, 1469.49it/s]\n",
      "100%|██████████| 64/64 [00:00<00:00, 1318.43it/s]\n",
      "100%|██████████| 64/64 [00:00<00:00, 7283.36it/s]\n",
      "100%|██████████| 64/64 [00:00<00:00, 124218.17it/s]\n",
      " 17%|█▋        | 11/64 [00:00<00:00, 106.20it/s]"
     ]
    },
    {
     "name": "stdout",
     "output_type": "stream",
     "text": [
      "(1, 3329)\n",
      "(901, 3330)\n"
     ]
    },
    {
     "name": "stderr",
     "output_type": "stream",
     "text": [
      "100%|██████████| 64/64 [00:00<00:00, 103.38it/s]\n",
      "100%|██████████| 64/64 [00:00<00:00, 101.91it/s]\n",
      "100%|██████████| 64/64 [00:00<00:00, 108.02it/s]\n",
      "100%|██████████| 64/64 [00:00<00:00, 2368.89it/s]\n",
      "100%|██████████| 64/64 [00:00<00:00, 210.35it/s]\n",
      "100%|██████████| 64/64 [00:00<00:00, 175.35it/s]\n",
      "100%|██████████| 64/64 [00:07<00:00,  9.05it/s]\n",
      "100%|██████████| 64/64 [00:00<00:00, 3476.51it/s]\n",
      "100%|██████████| 64/64 [00:00<00:00, 1370.93it/s]\n",
      "100%|██████████| 64/64 [00:00<00:00, 1362.25it/s]\n",
      "100%|██████████| 64/64 [00:00<00:00, 8624.43it/s]\n",
      "100%|██████████| 64/64 [00:00<00:00, 28505.41it/s]\n",
      " 19%|█▉        | 12/64 [00:00<00:00, 110.87it/s]"
     ]
    },
    {
     "name": "stdout",
     "output_type": "stream",
     "text": [
      "(1, 3329)\n",
      "(902, 3330)\n"
     ]
    },
    {
     "name": "stderr",
     "output_type": "stream",
     "text": [
      "100%|██████████| 64/64 [00:00<00:00, 111.53it/s]\n",
      "100%|██████████| 64/64 [00:00<00:00, 109.62it/s]\n",
      "100%|██████████| 64/64 [00:00<00:00, 118.97it/s]\n",
      "100%|██████████| 64/64 [00:00<00:00, 2499.14it/s]\n",
      "100%|██████████| 64/64 [00:00<00:00, 200.69it/s]\n",
      "100%|██████████| 64/64 [00:00<00:00, 174.28it/s]\n",
      "100%|██████████| 64/64 [00:07<00:00,  9.01it/s]\n",
      "100%|██████████| 64/64 [00:00<00:00, 3496.03it/s]\n",
      "100%|██████████| 64/64 [00:00<00:00, 1549.46it/s]\n",
      "100%|██████████| 64/64 [00:00<00:00, 1559.25it/s]\n",
      "100%|██████████| 64/64 [00:00<00:00, 7365.29it/s]\n",
      "100%|██████████| 64/64 [00:00<00:00, 145178.72it/s]\n",
      " 17%|█▋        | 11/64 [00:00<00:00, 109.55it/s]"
     ]
    },
    {
     "name": "stdout",
     "output_type": "stream",
     "text": [
      "(1, 3329)\n",
      "(903, 3330)\n"
     ]
    },
    {
     "name": "stderr",
     "output_type": "stream",
     "text": [
      "100%|██████████| 64/64 [00:00<00:00, 104.64it/s]\n",
      "100%|██████████| 64/64 [00:00<00:00, 104.33it/s]\n",
      "100%|██████████| 64/64 [00:00<00:00, 104.81it/s]\n",
      "100%|██████████| 64/64 [00:00<00:00, 2279.76it/s]\n",
      "100%|██████████| 64/64 [00:00<00:00, 197.65it/s]\n",
      "100%|██████████| 64/64 [00:00<00:00, 162.15it/s]\n",
      "100%|██████████| 64/64 [00:07<00:00,  9.03it/s]\n",
      "100%|██████████| 64/64 [00:00<00:00, 3767.09it/s]\n",
      "100%|██████████| 64/64 [00:00<00:00, 1548.62it/s]\n",
      "100%|██████████| 64/64 [00:00<00:00, 1492.33it/s]\n",
      "100%|██████████| 64/64 [00:00<00:00, 7630.13it/s]\n",
      "100%|██████████| 64/64 [00:00<00:00, 272523.31it/s]\n",
      " 17%|█▋        | 11/64 [00:00<00:00, 109.45it/s]"
     ]
    },
    {
     "name": "stdout",
     "output_type": "stream",
     "text": [
      "(1, 3329)\n",
      "(904, 3330)\n"
     ]
    },
    {
     "name": "stderr",
     "output_type": "stream",
     "text": [
      "100%|██████████| 64/64 [00:00<00:00, 105.11it/s]\n",
      "100%|██████████| 64/64 [00:00<00:00, 112.41it/s]\n",
      "100%|██████████| 64/64 [00:00<00:00, 112.16it/s]\n",
      "100%|██████████| 64/64 [00:00<00:00, 2588.20it/s]\n",
      "100%|██████████| 64/64 [00:00<00:00, 217.41it/s]\n",
      "100%|██████████| 64/64 [00:00<00:00, 169.73it/s]\n",
      "100%|██████████| 64/64 [00:07<00:00,  8.92it/s]\n",
      "100%|██████████| 64/64 [00:00<00:00, 3953.16it/s]\n",
      "100%|██████████| 64/64 [00:00<00:00, 1510.42it/s]\n",
      "100%|██████████| 64/64 [00:00<00:00, 1226.00it/s]\n",
      "100%|██████████| 64/64 [00:00<00:00, 7843.03it/s]\n",
      "100%|██████████| 64/64 [00:00<00:00, 111569.18it/s]\n",
      " 17%|█▋        | 11/64 [00:00<00:00, 105.93it/s]"
     ]
    },
    {
     "name": "stdout",
     "output_type": "stream",
     "text": [
      "(1, 3329)\n",
      "(905, 3330)\n"
     ]
    },
    {
     "name": "stderr",
     "output_type": "stream",
     "text": [
      "100%|██████████| 64/64 [00:00<00:00, 110.16it/s]\n",
      "100%|██████████| 64/64 [00:00<00:00, 110.38it/s]\n",
      "100%|██████████| 64/64 [00:00<00:00, 113.14it/s]\n",
      "100%|██████████| 64/64 [00:00<00:00, 2502.68it/s]\n",
      "100%|██████████| 64/64 [00:00<00:00, 216.04it/s]\n",
      "100%|██████████| 64/64 [00:00<00:00, 176.69it/s]\n",
      "100%|██████████| 64/64 [00:06<00:00,  9.15it/s]\n",
      "100%|██████████| 64/64 [00:00<00:00, 4098.13it/s]\n",
      "100%|██████████| 64/64 [00:00<00:00, 1586.12it/s]\n",
      "100%|██████████| 64/64 [00:00<00:00, 1330.29it/s]\n",
      "100%|██████████| 64/64 [00:00<00:00, 6010.24it/s]\n",
      "100%|██████████| 64/64 [00:00<00:00, 32529.75it/s]\n",
      " 17%|█▋        | 11/64 [00:00<00:00, 105.06it/s]"
     ]
    },
    {
     "name": "stdout",
     "output_type": "stream",
     "text": [
      "(1, 3329)\n",
      "(906, 3330)\n"
     ]
    },
    {
     "name": "stderr",
     "output_type": "stream",
     "text": [
      "100%|██████████| 64/64 [00:00<00:00, 106.35it/s]\n",
      "100%|██████████| 64/64 [00:00<00:00, 101.74it/s]\n",
      "100%|██████████| 64/64 [00:00<00:00, 115.26it/s]\n",
      "100%|██████████| 64/64 [00:00<00:00, 2527.52it/s]\n",
      "100%|██████████| 64/64 [00:00<00:00, 207.43it/s]\n",
      "100%|██████████| 64/64 [00:00<00:00, 169.70it/s]\n",
      "100%|██████████| 64/64 [00:07<00:00,  8.88it/s]\n",
      "100%|██████████| 64/64 [00:00<00:00, 3930.01it/s]\n",
      "100%|██████████| 64/64 [00:00<00:00, 1432.30it/s]\n",
      "100%|██████████| 64/64 [00:00<00:00, 1265.32it/s]\n",
      "100%|██████████| 64/64 [00:00<00:00, 6766.20it/s]\n",
      "100%|██████████| 64/64 [00:00<00:00, 31188.04it/s]\n",
      " 17%|█▋        | 11/64 [00:00<00:00, 102.83it/s]"
     ]
    },
    {
     "name": "stdout",
     "output_type": "stream",
     "text": [
      "(1, 3329)\n",
      "(907, 3330)\n"
     ]
    },
    {
     "name": "stderr",
     "output_type": "stream",
     "text": [
      "100%|██████████| 64/64 [00:00<00:00, 103.10it/s]\n",
      "100%|██████████| 64/64 [00:00<00:00, 106.41it/s]\n",
      "100%|██████████| 64/64 [00:00<00:00, 111.48it/s]\n",
      "100%|██████████| 64/64 [00:00<00:00, 2439.52it/s]\n",
      "100%|██████████| 64/64 [00:00<00:00, 219.22it/s]\n",
      "100%|██████████| 64/64 [00:00<00:00, 172.64it/s]\n",
      "100%|██████████| 64/64 [00:07<00:00,  9.08it/s]\n",
      "100%|██████████| 64/64 [00:00<00:00, 3402.31it/s]\n",
      "100%|██████████| 64/64 [00:00<00:00, 1570.84it/s]\n",
      "100%|██████████| 64/64 [00:00<00:00, 1321.61it/s]\n",
      "100%|██████████| 64/64 [00:00<00:00, 8605.63it/s]\n",
      "100%|██████████| 64/64 [00:00<00:00, 100991.52it/s]\n",
      " 19%|█▉        | 12/64 [00:00<00:00, 112.06it/s]"
     ]
    },
    {
     "name": "stdout",
     "output_type": "stream",
     "text": [
      "(1, 3329)\n",
      "(908, 3330)\n"
     ]
    },
    {
     "name": "stderr",
     "output_type": "stream",
     "text": [
      "100%|██████████| 64/64 [00:00<00:00, 107.23it/s]\n",
      "100%|██████████| 64/64 [00:00<00:00, 109.78it/s]\n",
      "100%|██████████| 64/64 [00:00<00:00, 115.60it/s]\n",
      "100%|██████████| 64/64 [00:00<00:00, 2473.72it/s]\n",
      "100%|██████████| 64/64 [00:00<00:00, 208.34it/s]\n",
      "100%|██████████| 64/64 [00:00<00:00, 165.57it/s]\n",
      "100%|██████████| 64/64 [00:06<00:00,  9.19it/s]\n",
      "100%|██████████| 64/64 [00:00<00:00, 3781.21it/s]\n",
      "100%|██████████| 64/64 [00:00<00:00, 1478.74it/s]\n",
      "100%|██████████| 64/64 [00:00<00:00, 1617.22it/s]\n",
      "100%|██████████| 64/64 [00:00<00:00, 8362.21it/s]\n",
      "100%|██████████| 64/64 [00:00<00:00, 103046.24it/s]\n",
      " 17%|█▋        | 11/64 [00:00<00:00, 109.78it/s]"
     ]
    },
    {
     "name": "stdout",
     "output_type": "stream",
     "text": [
      "(1, 3329)\n",
      "(909, 3330)\n"
     ]
    },
    {
     "name": "stderr",
     "output_type": "stream",
     "text": [
      "100%|██████████| 64/64 [00:00<00:00, 105.48it/s]\n",
      "100%|██████████| 64/64 [00:00<00:00, 113.09it/s]\n",
      "100%|██████████| 64/64 [00:00<00:00, 115.21it/s]\n",
      "100%|██████████| 64/64 [00:00<00:00, 2446.37it/s]\n",
      "100%|██████████| 64/64 [00:00<00:00, 208.83it/s]\n",
      "100%|██████████| 64/64 [00:00<00:00, 174.47it/s]\n",
      "100%|██████████| 64/64 [00:07<00:00,  9.05it/s]\n",
      "100%|██████████| 64/64 [00:00<00:00, 4051.79it/s]\n",
      "100%|██████████| 64/64 [00:00<00:00, 1368.54it/s]\n",
      "100%|██████████| 64/64 [00:00<00:00, 1515.93it/s]\n",
      "100%|██████████| 64/64 [00:00<00:00, 8173.54it/s]\n",
      "100%|██████████| 64/64 [00:00<00:00, 58725.76it/s]\n",
      " 19%|█▉        | 12/64 [00:00<00:00, 118.74it/s]"
     ]
    },
    {
     "name": "stdout",
     "output_type": "stream",
     "text": [
      "(1, 3329)\n",
      "(910, 3330)\n"
     ]
    },
    {
     "name": "stderr",
     "output_type": "stream",
     "text": [
      "100%|██████████| 64/64 [00:00<00:00, 111.61it/s]\n",
      "100%|██████████| 64/64 [00:00<00:00, 112.73it/s]\n",
      "100%|██████████| 64/64 [00:00<00:00, 119.53it/s]\n",
      "100%|██████████| 64/64 [00:00<00:00, 2159.18it/s]\n",
      "100%|██████████| 64/64 [00:00<00:00, 212.47it/s]\n",
      "100%|██████████| 64/64 [00:00<00:00, 173.15it/s]\n",
      "100%|██████████| 64/64 [00:06<00:00,  9.20it/s]\n",
      "100%|██████████| 64/64 [00:00<00:00, 3947.12it/s]\n",
      "100%|██████████| 64/64 [00:00<00:00, 1563.90it/s]\n",
      "100%|██████████| 64/64 [00:00<00:00, 1365.76it/s]\n",
      "100%|██████████| 64/64 [00:00<00:00, 8357.01it/s]\n",
      "100%|██████████| 64/64 [00:00<00:00, 294660.22it/s]\n",
      " 20%|██        | 13/64 [00:00<00:00, 122.88it/s]"
     ]
    },
    {
     "name": "stdout",
     "output_type": "stream",
     "text": [
      "(1, 3329)\n",
      "(911, 3330)\n"
     ]
    },
    {
     "name": "stderr",
     "output_type": "stream",
     "text": [
      "100%|██████████| 64/64 [00:00<00:00, 115.03it/s]\n",
      "100%|██████████| 64/64 [00:00<00:00, 117.68it/s]\n",
      "100%|██████████| 64/64 [00:00<00:00, 114.58it/s]\n",
      "100%|██████████| 64/64 [00:00<00:00, 2779.78it/s]\n",
      "100%|██████████| 64/64 [00:00<00:00, 221.95it/s]\n",
      "100%|██████████| 64/64 [00:00<00:00, 179.80it/s]\n",
      "100%|██████████| 64/64 [00:06<00:00,  9.32it/s]\n",
      "100%|██████████| 64/64 [00:00<00:00, 3277.68it/s]\n",
      "100%|██████████| 64/64 [00:00<00:00, 1498.07it/s]\n",
      "100%|██████████| 64/64 [00:00<00:00, 1503.84it/s]\n",
      "100%|██████████| 64/64 [00:00<00:00, 6369.03it/s]\n",
      "100%|██████████| 64/64 [00:00<00:00, 32840.16it/s]\n",
      " 17%|█▋        | 11/64 [00:00<00:00, 105.37it/s]"
     ]
    },
    {
     "name": "stdout",
     "output_type": "stream",
     "text": [
      "(1, 3329)\n",
      "(912, 3330)\n"
     ]
    },
    {
     "name": "stderr",
     "output_type": "stream",
     "text": [
      "100%|██████████| 64/64 [00:00<00:00, 106.67it/s]\n",
      "100%|██████████| 64/64 [00:00<00:00, 111.93it/s]\n",
      "100%|██████████| 64/64 [00:00<00:00, 115.76it/s]\n",
      "100%|██████████| 64/64 [00:00<00:00, 2452.34it/s]\n",
      "100%|██████████| 64/64 [00:00<00:00, 222.52it/s]\n",
      "100%|██████████| 64/64 [00:00<00:00, 173.57it/s]\n",
      "100%|██████████| 64/64 [00:07<00:00,  9.08it/s]\n",
      "100%|██████████| 64/64 [00:00<00:00, 3710.03it/s]\n",
      "100%|██████████| 64/64 [00:00<00:00, 1545.06it/s]\n",
      "100%|██████████| 64/64 [00:00<00:00, 1491.72it/s]\n",
      "100%|██████████| 64/64 [00:00<00:00, 7383.53it/s]\n",
      "100%|██████████| 64/64 [00:00<00:00, 297600.28it/s]\n",
      " 19%|█▉        | 12/64 [00:00<00:00, 116.28it/s]"
     ]
    },
    {
     "name": "stdout",
     "output_type": "stream",
     "text": [
      "(1, 3329)\n",
      "(913, 3330)\n"
     ]
    },
    {
     "name": "stderr",
     "output_type": "stream",
     "text": [
      "100%|██████████| 64/64 [00:00<00:00, 109.43it/s]\n",
      "100%|██████████| 64/64 [00:00<00:00, 98.53it/s]\n",
      "100%|██████████| 64/64 [00:00<00:00, 115.85it/s]\n",
      "100%|██████████| 64/64 [00:00<00:00, 2432.67it/s]\n",
      "100%|██████████| 64/64 [00:00<00:00, 210.38it/s]\n",
      "100%|██████████| 64/64 [00:00<00:00, 173.45it/s]\n",
      "100%|██████████| 64/64 [00:07<00:00,  9.06it/s]\n",
      "100%|██████████| 64/64 [00:00<00:00, 3617.63it/s]\n",
      "100%|██████████| 64/64 [00:00<00:00, 1391.60it/s]\n",
      "100%|██████████| 64/64 [00:00<00:00, 1254.71it/s]\n",
      "100%|██████████| 64/64 [00:00<00:00, 8849.62it/s]\n",
      "100%|██████████| 64/64 [00:00<00:00, 90718.30it/s]\n",
      "  0%|          | 0/64 [00:00<?, ?it/s]"
     ]
    },
    {
     "name": "stdout",
     "output_type": "stream",
     "text": [
      "(1, 3329)\n",
      "(914, 3330)\n"
     ]
    },
    {
     "name": "stderr",
     "output_type": "stream",
     "text": [
      "100%|██████████| 64/64 [00:00<00:00, 105.67it/s]\n",
      "100%|██████████| 64/64 [00:00<00:00, 111.15it/s]\n",
      "100%|██████████| 64/64 [00:00<00:00, 118.45it/s]\n",
      "100%|██████████| 64/64 [00:00<00:00, 2342.29it/s]\n",
      "100%|██████████| 64/64 [00:00<00:00, 202.04it/s]\n",
      "100%|██████████| 64/64 [00:00<00:00, 178.61it/s]\n",
      "100%|██████████| 64/64 [00:06<00:00,  9.22it/s]\n",
      "100%|██████████| 64/64 [00:00<00:00, 3470.58it/s]\n",
      "100%|██████████| 64/64 [00:00<00:00, 1454.15it/s]\n",
      "100%|██████████| 64/64 [00:00<00:00, 1588.19it/s]\n",
      "100%|██████████| 64/64 [00:00<00:00, 7706.80it/s]\n",
      "100%|██████████| 64/64 [00:00<00:00, 116457.90it/s]\n",
      " 19%|█▉        | 12/64 [00:00<00:00, 113.85it/s]"
     ]
    },
    {
     "name": "stdout",
     "output_type": "stream",
     "text": [
      "(1, 3329)\n",
      "(915, 3330)\n"
     ]
    },
    {
     "name": "stderr",
     "output_type": "stream",
     "text": [
      "100%|██████████| 64/64 [00:00<00:00, 111.11it/s]\n",
      "100%|██████████| 64/64 [00:00<00:00, 115.45it/s]\n",
      "100%|██████████| 64/64 [00:00<00:00, 119.88it/s]\n",
      "100%|██████████| 64/64 [00:00<00:00, 2618.14it/s]\n",
      "100%|██████████| 64/64 [00:00<00:00, 216.18it/s]\n",
      "100%|██████████| 64/64 [00:00<00:00, 179.59it/s]\n",
      "100%|██████████| 64/64 [00:06<00:00,  9.26it/s]\n",
      "100%|██████████| 64/64 [00:00<00:00, 3857.05it/s]\n",
      "100%|██████████| 64/64 [00:00<00:00, 1176.01it/s]\n",
      "100%|██████████| 64/64 [00:00<00:00, 1414.36it/s]\n",
      "100%|██████████| 64/64 [00:00<00:00, 7710.12it/s]\n",
      "100%|██████████| 64/64 [00:00<00:00, 284359.59it/s]\n",
      " 17%|█▋        | 11/64 [00:00<00:00, 100.93it/s]"
     ]
    },
    {
     "name": "stdout",
     "output_type": "stream",
     "text": [
      "(1, 3329)\n",
      "(916, 3330)\n"
     ]
    },
    {
     "name": "stderr",
     "output_type": "stream",
     "text": [
      "100%|██████████| 64/64 [00:00<00:00, 105.41it/s]\n",
      "100%|██████████| 64/64 [00:00<00:00, 112.26it/s]\n",
      "100%|██████████| 64/64 [00:00<00:00, 115.50it/s]\n",
      "100%|██████████| 64/64 [00:00<00:00, 2267.54it/s]\n",
      "100%|██████████| 64/64 [00:00<00:00, 211.61it/s]\n",
      "100%|██████████| 64/64 [00:00<00:00, 171.73it/s]\n",
      "100%|██████████| 64/64 [00:07<00:00,  8.84it/s]\n",
      "100%|██████████| 64/64 [00:00<00:00, 4003.15it/s]\n",
      "100%|██████████| 64/64 [00:00<00:00, 1439.80it/s]\n",
      "100%|██████████| 64/64 [00:00<00:00, 1410.43it/s]\n",
      "100%|██████████| 64/64 [00:00<00:00, 9838.57it/s]\n",
      "100%|██████████| 64/64 [00:00<00:00, 38943.20it/s]\n",
      " 19%|█▉        | 12/64 [00:00<00:00, 111.58it/s]"
     ]
    },
    {
     "name": "stdout",
     "output_type": "stream",
     "text": [
      "(1, 3329)\n",
      "(917, 3330)\n"
     ]
    },
    {
     "name": "stderr",
     "output_type": "stream",
     "text": [
      "100%|██████████| 64/64 [00:00<00:00, 105.67it/s]\n",
      "100%|██████████| 64/64 [00:00<00:00, 106.91it/s]\n",
      "100%|██████████| 64/64 [00:00<00:00, 117.09it/s]\n",
      "100%|██████████| 64/64 [00:00<00:00, 2516.24it/s]\n",
      "100%|██████████| 64/64 [00:00<00:00, 217.89it/s]\n",
      "100%|██████████| 64/64 [00:00<00:00, 173.68it/s]\n",
      "100%|██████████| 64/64 [00:07<00:00,  9.11it/s]\n",
      "100%|██████████| 64/64 [00:00<00:00, 2746.73it/s]\n",
      "100%|██████████| 64/64 [00:00<00:00, 1495.94it/s]\n",
      "100%|██████████| 64/64 [00:00<00:00, 1339.09it/s]\n",
      "100%|██████████| 64/64 [00:00<00:00, 7418.83it/s]\n",
      "100%|██████████| 64/64 [00:00<00:00, 84201.84it/s]\n",
      " 19%|█▉        | 12/64 [00:00<00:00, 112.56it/s]"
     ]
    },
    {
     "name": "stdout",
     "output_type": "stream",
     "text": [
      "(1, 3329)\n",
      "(918, 3330)\n"
     ]
    },
    {
     "name": "stderr",
     "output_type": "stream",
     "text": [
      "100%|██████████| 64/64 [00:00<00:00, 109.42it/s]\n",
      "100%|██████████| 64/64 [00:00<00:00, 113.67it/s]\n",
      "100%|██████████| 64/64 [00:00<00:00, 115.33it/s]\n",
      "100%|██████████| 64/64 [00:00<00:00, 2656.65it/s]\n",
      "100%|██████████| 64/64 [00:00<00:00, 211.90it/s]\n",
      "100%|██████████| 64/64 [00:00<00:00, 173.92it/s]\n",
      "100%|██████████| 64/64 [00:07<00:00,  9.07it/s]\n",
      "100%|██████████| 64/64 [00:00<00:00, 3699.60it/s]\n",
      "100%|██████████| 64/64 [00:00<00:00, 1253.50it/s]\n",
      "100%|██████████| 64/64 [00:00<00:00, 1376.35it/s]\n",
      "100%|██████████| 64/64 [00:00<00:00, 9367.84it/s]\n",
      "100%|██████████| 64/64 [00:00<00:00, 31685.02it/s]\n",
      " 19%|█▉        | 12/64 [00:00<00:00, 104.86it/s]"
     ]
    },
    {
     "name": "stdout",
     "output_type": "stream",
     "text": [
      "(1, 3329)\n",
      "(919, 3330)\n"
     ]
    },
    {
     "name": "stderr",
     "output_type": "stream",
     "text": [
      "100%|██████████| 64/64 [00:00<00:00, 103.22it/s]\n",
      "100%|██████████| 64/64 [00:00<00:00, 107.93it/s]\n",
      "100%|██████████| 64/64 [00:00<00:00, 114.16it/s]\n",
      "100%|██████████| 64/64 [00:00<00:00, 2456.87it/s]\n",
      "100%|██████████| 64/64 [00:00<00:00, 208.53it/s]\n",
      "100%|██████████| 64/64 [00:00<00:00, 172.43it/s]\n",
      "100%|██████████| 64/64 [00:07<00:00,  9.09it/s]\n",
      "100%|██████████| 64/64 [00:00<00:00, 3647.96it/s]\n",
      "100%|██████████| 64/64 [00:00<00:00, 1448.11it/s]\n",
      "100%|██████████| 64/64 [00:00<00:00, 1396.60it/s]\n",
      "100%|██████████| 64/64 [00:00<00:00, 9484.68it/s]\n",
      "100%|██████████| 64/64 [00:00<00:00, 31392.29it/s]\n",
      " 17%|█▋        | 11/64 [00:00<00:00, 103.29it/s]"
     ]
    },
    {
     "name": "stdout",
     "output_type": "stream",
     "text": [
      "(1, 3329)\n",
      "(920, 3330)\n"
     ]
    },
    {
     "name": "stderr",
     "output_type": "stream",
     "text": [
      "100%|██████████| 64/64 [00:00<00:00, 105.73it/s]\n",
      "100%|██████████| 64/64 [00:00<00:00, 100.58it/s]\n",
      "100%|██████████| 64/64 [00:00<00:00, 109.61it/s]\n",
      "100%|██████████| 64/64 [00:00<00:00, 2471.51it/s]\n",
      "100%|██████████| 64/64 [00:00<00:00, 197.97it/s]\n",
      "100%|██████████| 64/64 [00:00<00:00, 170.79it/s]\n",
      "100%|██████████| 64/64 [00:07<00:00,  8.86it/s]\n",
      "100%|██████████| 64/64 [00:00<00:00, 3752.51it/s]\n",
      "100%|██████████| 64/64 [00:00<00:00, 1315.26it/s]\n",
      "100%|██████████| 64/64 [00:00<00:00, 1564.34it/s]\n",
      "100%|██████████| 64/64 [00:00<00:00, 9315.50it/s]\n",
      "100%|██████████| 64/64 [00:00<00:00, 102652.18it/s]\n",
      " 17%|█▋        | 11/64 [00:00<00:00, 109.08it/s]"
     ]
    },
    {
     "name": "stdout",
     "output_type": "stream",
     "text": [
      "(1, 3329)\n",
      "(921, 3330)\n"
     ]
    },
    {
     "name": "stderr",
     "output_type": "stream",
     "text": [
      "100%|██████████| 64/64 [00:00<00:00, 103.56it/s]\n",
      "100%|██████████| 64/64 [00:00<00:00, 113.92it/s]\n",
      "100%|██████████| 64/64 [00:00<00:00, 111.87it/s]\n",
      "100%|██████████| 64/64 [00:00<00:00, 2373.83it/s]\n",
      "100%|██████████| 64/64 [00:00<00:00, 211.06it/s]\n",
      "100%|██████████| 64/64 [00:00<00:00, 173.90it/s]\n",
      "100%|██████████| 64/64 [00:07<00:00,  9.05it/s]\n",
      "100%|██████████| 64/64 [00:00<00:00, 3099.75it/s]\n",
      "100%|██████████| 64/64 [00:00<00:00, 1381.73it/s]\n",
      "100%|██████████| 64/64 [00:00<00:00, 1488.73it/s]\n",
      "100%|██████████| 64/64 [00:00<00:00, 7592.14it/s]\n",
      "100%|██████████| 64/64 [00:00<00:00, 41701.95it/s]\n",
      " 17%|█▋        | 11/64 [00:00<00:00, 107.87it/s]"
     ]
    },
    {
     "name": "stdout",
     "output_type": "stream",
     "text": [
      "(1, 3329)\n",
      "(922, 3330)\n"
     ]
    },
    {
     "name": "stderr",
     "output_type": "stream",
     "text": [
      "100%|██████████| 64/64 [00:00<00:00, 105.44it/s]\n",
      "100%|██████████| 64/64 [00:00<00:00, 112.88it/s]\n",
      "100%|██████████| 64/64 [00:00<00:00, 116.24it/s]\n",
      "100%|██████████| 64/64 [00:00<00:00, 2554.75it/s]\n",
      "100%|██████████| 64/64 [00:00<00:00, 203.33it/s]\n",
      "100%|██████████| 64/64 [00:00<00:00, 176.54it/s]\n",
      "100%|██████████| 64/64 [00:07<00:00,  9.11it/s]\n",
      "100%|██████████| 64/64 [00:00<00:00, 3620.22it/s]\n",
      "100%|██████████| 64/64 [00:00<00:00, 1513.94it/s]\n",
      "100%|██████████| 64/64 [00:00<00:00, 1502.97it/s]\n",
      "100%|██████████| 64/64 [00:00<00:00, 7141.52it/s]\n",
      "100%|██████████| 64/64 [00:00<00:00, 26881.18it/s]\n",
      " 17%|█▋        | 11/64 [00:00<00:00, 106.39it/s]"
     ]
    },
    {
     "name": "stdout",
     "output_type": "stream",
     "text": [
      "(1, 3329)\n",
      "(923, 3330)\n"
     ]
    },
    {
     "name": "stderr",
     "output_type": "stream",
     "text": [
      "100%|██████████| 64/64 [00:00<00:00, 105.03it/s]\n",
      "100%|██████████| 64/64 [00:00<00:00, 109.45it/s]\n",
      "100%|██████████| 64/64 [00:00<00:00, 113.41it/s]\n",
      "100%|██████████| 64/64 [00:00<00:00, 2451.89it/s]\n",
      "100%|██████████| 64/64 [00:00<00:00, 184.43it/s]\n",
      "100%|██████████| 64/64 [00:00<00:00, 145.22it/s]\n",
      "100%|██████████| 64/64 [00:07<00:00,  8.71it/s]\n",
      "100%|██████████| 64/64 [00:00<00:00, 3839.67it/s]\n",
      "100%|██████████| 64/64 [00:00<00:00, 1428.18it/s]\n",
      "100%|██████████| 64/64 [00:00<00:00, 1432.89it/s]\n",
      "100%|██████████| 64/64 [00:00<00:00, 7031.71it/s]\n",
      "100%|██████████| 64/64 [00:00<00:00, 104287.28it/s]\n",
      " 16%|█▌        | 10/64 [00:00<00:00, 97.27it/s]"
     ]
    },
    {
     "name": "stdout",
     "output_type": "stream",
     "text": [
      "(1, 3329)\n",
      "(924, 3330)\n"
     ]
    },
    {
     "name": "stderr",
     "output_type": "stream",
     "text": [
      "100%|██████████| 64/64 [00:00<00:00, 103.02it/s]\n",
      "100%|██████████| 64/64 [00:00<00:00, 112.00it/s]\n",
      "100%|██████████| 64/64 [00:00<00:00, 114.05it/s]\n",
      "100%|██████████| 64/64 [00:00<00:00, 2507.17it/s]\n",
      "100%|██████████| 64/64 [00:00<00:00, 206.71it/s]\n",
      "100%|██████████| 64/64 [00:00<00:00, 171.85it/s]\n",
      "100%|██████████| 64/64 [00:07<00:00,  9.01it/s]\n",
      "100%|██████████| 64/64 [00:00<00:00, 4082.79it/s]\n",
      "100%|██████████| 64/64 [00:00<00:00, 1486.52it/s]\n",
      "100%|██████████| 64/64 [00:00<00:00, 1523.82it/s]\n",
      "100%|██████████| 64/64 [00:00<00:00, 7233.31it/s]\n",
      "100%|██████████| 64/64 [00:00<00:00, 110059.64it/s]\n",
      " 19%|█▉        | 12/64 [00:00<00:00, 113.39it/s]"
     ]
    },
    {
     "name": "stdout",
     "output_type": "stream",
     "text": [
      "(1, 3329)\n",
      "(925, 3330)\n"
     ]
    },
    {
     "name": "stderr",
     "output_type": "stream",
     "text": [
      "100%|██████████| 64/64 [00:00<00:00, 105.70it/s]\n",
      "100%|██████████| 64/64 [00:00<00:00, 106.55it/s]\n",
      "100%|██████████| 64/64 [00:00<00:00, 115.02it/s]\n",
      "100%|██████████| 64/64 [00:00<00:00, 2584.22it/s]\n",
      "100%|██████████| 64/64 [00:00<00:00, 215.74it/s]\n",
      "100%|██████████| 64/64 [00:00<00:00, 172.36it/s]\n",
      "100%|██████████| 64/64 [00:07<00:00,  9.09it/s]\n",
      "100%|██████████| 64/64 [00:00<00:00, 3640.69it/s]\n",
      "100%|██████████| 64/64 [00:00<00:00, 1571.75it/s]\n",
      "100%|██████████| 64/64 [00:00<00:00, 1476.31it/s]\n",
      "100%|██████████| 64/64 [00:00<00:00, 6220.70it/s]\n",
      "100%|██████████| 64/64 [00:00<00:00, 191876.67it/s]\n",
      " 16%|█▌        | 10/64 [00:00<00:00, 98.34it/s]"
     ]
    },
    {
     "name": "stdout",
     "output_type": "stream",
     "text": [
      "(1, 3329)\n",
      "(926, 3330)\n"
     ]
    },
    {
     "name": "stderr",
     "output_type": "stream",
     "text": [
      "100%|██████████| 64/64 [00:00<00:00, 104.77it/s]\n",
      "100%|██████████| 64/64 [00:00<00:00, 108.03it/s]\n",
      "100%|██████████| 64/64 [00:00<00:00, 108.78it/s]\n",
      "100%|██████████| 64/64 [00:00<00:00, 2430.69it/s]\n",
      "100%|██████████| 64/64 [00:00<00:00, 208.59it/s]\n",
      "100%|██████████| 64/64 [00:00<00:00, 171.89it/s]\n",
      "100%|██████████| 64/64 [00:07<00:00,  8.84it/s]\n",
      "100%|██████████| 64/64 [00:00<00:00, 3653.23it/s]\n",
      "100%|██████████| 64/64 [00:00<00:00, 1564.79it/s]\n",
      "100%|██████████| 64/64 [00:00<00:00, 1543.85it/s]\n",
      "100%|██████████| 64/64 [00:00<00:00, 7367.11it/s]\n",
      "100%|██████████| 64/64 [00:00<00:00, 86872.32it/s]\n",
      " 17%|█▋        | 11/64 [00:00<00:00, 105.13it/s]"
     ]
    },
    {
     "name": "stdout",
     "output_type": "stream",
     "text": [
      "(1, 3329)\n",
      "(927, 3330)\n"
     ]
    },
    {
     "name": "stderr",
     "output_type": "stream",
     "text": [
      "100%|██████████| 64/64 [00:00<00:00, 106.74it/s]\n",
      "100%|██████████| 64/64 [00:00<00:00, 112.87it/s]\n",
      "100%|██████████| 64/64 [00:00<00:00, 114.58it/s]\n",
      "100%|██████████| 64/64 [00:00<00:00, 1796.14it/s]\n",
      "100%|██████████| 64/64 [00:00<00:00, 218.76it/s]\n",
      "100%|██████████| 64/64 [00:00<00:00, 170.53it/s]\n",
      "100%|██████████| 64/64 [00:07<00:00,  9.07it/s]\n",
      "100%|██████████| 64/64 [00:00<00:00, 3727.80it/s]\n",
      "100%|██████████| 64/64 [00:00<00:00, 1448.32it/s]\n",
      "100%|██████████| 64/64 [00:00<00:00, 1473.03it/s]\n",
      "100%|██████████| 64/64 [00:00<00:00, 8078.35it/s]\n",
      "100%|██████████| 64/64 [00:00<00:00, 31729.96it/s]\n",
      " 17%|█▋        | 11/64 [00:00<00:00, 109.65it/s]"
     ]
    },
    {
     "name": "stdout",
     "output_type": "stream",
     "text": [
      "(1, 3329)\n",
      "(928, 3330)\n"
     ]
    },
    {
     "name": "stderr",
     "output_type": "stream",
     "text": [
      "100%|██████████| 64/64 [00:00<00:00, 108.14it/s]\n",
      "100%|██████████| 64/64 [00:00<00:00, 109.91it/s]\n",
      "100%|██████████| 64/64 [00:00<00:00, 115.05it/s]\n",
      "100%|██████████| 64/64 [00:00<00:00, 2449.72it/s]\n",
      "100%|██████████| 64/64 [00:00<00:00, 196.91it/s]\n",
      "100%|██████████| 64/64 [00:00<00:00, 173.47it/s]\n",
      "100%|██████████| 64/64 [00:07<00:00,  9.13it/s]\n",
      "100%|██████████| 64/64 [00:00<00:00, 3935.54it/s]\n",
      "100%|██████████| 64/64 [00:00<00:00, 1508.91it/s]\n",
      "100%|██████████| 64/64 [00:00<00:00, 1524.20it/s]\n",
      "100%|██████████| 64/64 [00:00<00:00, 5177.85it/s]\n",
      "100%|██████████| 64/64 [00:00<00:00, 130816.50it/s]\n",
      " 19%|█▉        | 12/64 [00:00<00:00, 116.63it/s]"
     ]
    },
    {
     "name": "stdout",
     "output_type": "stream",
     "text": [
      "(1, 3329)\n",
      "(929, 3330)\n"
     ]
    },
    {
     "name": "stderr",
     "output_type": "stream",
     "text": [
      "100%|██████████| 64/64 [00:00<00:00, 110.25it/s]\n",
      "100%|██████████| 64/64 [00:00<00:00, 110.74it/s]\n",
      "100%|██████████| 64/64 [00:00<00:00, 115.06it/s]\n",
      "100%|██████████| 64/64 [00:00<00:00, 2397.34it/s]\n",
      "100%|██████████| 64/64 [00:00<00:00, 215.34it/s]\n",
      "100%|██████████| 64/64 [00:00<00:00, 177.08it/s]\n",
      "100%|██████████| 64/64 [00:07<00:00,  9.14it/s]\n",
      "100%|██████████| 64/64 [00:00<00:00, 3884.40it/s]\n",
      "100%|██████████| 64/64 [00:00<00:00, 1274.20it/s]\n",
      "100%|██████████| 64/64 [00:00<00:00, 1360.85it/s]\n",
      "100%|██████████| 64/64 [00:00<00:00, 11167.13it/s]\n",
      "100%|██████████| 64/64 [00:00<00:00, 295308.53it/s]\n",
      " 19%|█▉        | 12/64 [00:00<00:00, 114.36it/s]"
     ]
    },
    {
     "name": "stdout",
     "output_type": "stream",
     "text": [
      "(1, 3329)\n",
      "(930, 3330)\n"
     ]
    },
    {
     "name": "stderr",
     "output_type": "stream",
     "text": [
      "100%|██████████| 64/64 [00:00<00:00, 108.63it/s]\n",
      "100%|██████████| 64/64 [00:00<00:00, 100.67it/s]\n",
      "100%|██████████| 64/64 [00:00<00:00, 109.84it/s]\n",
      "100%|██████████| 64/64 [00:00<00:00, 2351.03it/s]\n",
      "100%|██████████| 64/64 [00:00<00:00, 198.80it/s]\n",
      "100%|██████████| 64/64 [00:00<00:00, 180.13it/s]\n",
      "100%|██████████| 64/64 [00:07<00:00,  9.06it/s]\n",
      "100%|██████████| 64/64 [00:00<00:00, 3650.74it/s]\n",
      "100%|██████████| 64/64 [00:00<00:00, 1537.59it/s]\n",
      "100%|██████████| 64/64 [00:00<00:00, 1557.07it/s]\n",
      "100%|██████████| 64/64 [00:00<00:00, 6198.00it/s]\n",
      "100%|██████████| 64/64 [00:00<00:00, 40832.90it/s]\n",
      " 19%|█▉        | 12/64 [00:00<00:00, 115.46it/s]"
     ]
    },
    {
     "name": "stdout",
     "output_type": "stream",
     "text": [
      "(1, 3329)\n",
      "(931, 3330)\n"
     ]
    },
    {
     "name": "stderr",
     "output_type": "stream",
     "text": [
      "100%|██████████| 64/64 [00:00<00:00, 110.35it/s]\n",
      "100%|██████████| 64/64 [00:00<00:00, 113.13it/s]\n",
      "100%|██████████| 64/64 [00:00<00:00, 112.42it/s]\n",
      "100%|██████████| 64/64 [00:00<00:00, 2496.38it/s]\n",
      "100%|██████████| 64/64 [00:00<00:00, 222.04it/s]\n",
      "100%|██████████| 64/64 [00:00<00:00, 172.71it/s]\n",
      "100%|██████████| 64/64 [00:06<00:00,  9.16it/s]\n",
      "100%|██████████| 64/64 [00:00<00:00, 4014.17it/s]\n",
      "100%|██████████| 64/64 [00:00<00:00, 1228.05it/s]\n",
      "100%|██████████| 64/64 [00:00<00:00, 1517.98it/s]\n",
      "100%|██████████| 64/64 [00:00<00:00, 7004.92it/s]\n",
      "100%|██████████| 64/64 [00:00<00:00, 64902.19it/s]\n",
      " 17%|█▋        | 11/64 [00:00<00:00, 107.34it/s]"
     ]
    },
    {
     "name": "stdout",
     "output_type": "stream",
     "text": [
      "(1, 3329)\n",
      "(932, 3330)\n"
     ]
    },
    {
     "name": "stderr",
     "output_type": "stream",
     "text": [
      "100%|██████████| 64/64 [00:00<00:00, 108.75it/s]\n",
      "100%|██████████| 64/64 [00:00<00:00, 112.48it/s]\n",
      "100%|██████████| 64/64 [00:00<00:00, 118.35it/s]\n",
      "100%|██████████| 64/64 [00:00<00:00, 2508.23it/s]\n",
      "100%|██████████| 64/64 [00:00<00:00, 212.52it/s]\n",
      "100%|██████████| 64/64 [00:00<00:00, 179.06it/s]\n",
      "100%|██████████| 64/64 [00:07<00:00,  9.05it/s]\n",
      "100%|██████████| 64/64 [00:00<00:00, 3658.06it/s]\n",
      "100%|██████████| 64/64 [00:00<00:00, 1488.97it/s]\n",
      "100%|██████████| 64/64 [00:00<00:00, 1490.99it/s]\n",
      "100%|██████████| 64/64 [00:00<00:00, 7732.55it/s]\n",
      "100%|██████████| 64/64 [00:00<00:00, 26379.27it/s]\n",
      "  0%|          | 0/64 [00:00<?, ?it/s]"
     ]
    },
    {
     "name": "stdout",
     "output_type": "stream",
     "text": [
      "(1, 3329)\n",
      "(933, 3330)\n"
     ]
    },
    {
     "name": "stderr",
     "output_type": "stream",
     "text": [
      "100%|██████████| 64/64 [00:00<00:00, 103.66it/s]\n",
      "100%|██████████| 64/64 [00:00<00:00, 104.98it/s]\n",
      "100%|██████████| 64/64 [00:00<00:00, 110.25it/s]\n",
      "100%|██████████| 64/64 [00:00<00:00, 2395.27it/s]\n",
      "100%|██████████| 64/64 [00:00<00:00, 194.33it/s]\n",
      "100%|██████████| 64/64 [00:00<00:00, 169.45it/s]\n",
      "100%|██████████| 64/64 [00:07<00:00,  9.05it/s]\n",
      "100%|██████████| 64/64 [00:00<00:00, 3903.95it/s]\n",
      "100%|██████████| 64/64 [00:00<00:00, 1305.65it/s]\n",
      "100%|██████████| 64/64 [00:00<00:00, 1502.04it/s]\n",
      "100%|██████████| 64/64 [00:00<00:00, 5730.90it/s]\n",
      "100%|██████████| 64/64 [00:00<00:00, 26509.53it/s]\n",
      " 19%|█▉        | 12/64 [00:00<00:00, 115.94it/s]"
     ]
    },
    {
     "name": "stdout",
     "output_type": "stream",
     "text": [
      "(1, 3329)\n",
      "(934, 3330)\n"
     ]
    },
    {
     "name": "stderr",
     "output_type": "stream",
     "text": [
      "100%|██████████| 64/64 [00:00<00:00, 114.27it/s]\n",
      "100%|██████████| 64/64 [00:00<00:00, 110.41it/s]\n",
      "100%|██████████| 64/64 [00:00<00:00, 119.25it/s]\n",
      "100%|██████████| 64/64 [00:00<00:00, 2594.11it/s]\n",
      "100%|██████████| 64/64 [00:00<00:00, 213.02it/s]\n",
      "100%|██████████| 64/64 [00:00<00:00, 172.69it/s]\n",
      "100%|██████████| 64/64 [00:06<00:00,  9.31it/s]\n",
      "100%|██████████| 64/64 [00:00<00:00, 3697.71it/s]\n",
      "100%|██████████| 64/64 [00:00<00:00, 1335.55it/s]\n",
      "100%|██████████| 64/64 [00:00<00:00, 1567.32it/s]\n",
      "100%|██████████| 64/64 [00:00<00:00, 7533.97it/s]\n",
      "100%|██████████| 64/64 [00:00<00:00, 113263.91it/s]\n",
      " 19%|█▉        | 12/64 [00:00<00:00, 111.64it/s]"
     ]
    },
    {
     "name": "stdout",
     "output_type": "stream",
     "text": [
      "(1, 3329)\n",
      "(935, 3330)\n"
     ]
    },
    {
     "name": "stderr",
     "output_type": "stream",
     "text": [
      "100%|██████████| 64/64 [00:00<00:00, 106.58it/s]\n",
      "100%|██████████| 64/64 [00:00<00:00, 114.66it/s]\n",
      "100%|██████████| 64/64 [00:00<00:00, 114.92it/s]\n",
      "100%|██████████| 64/64 [00:00<00:00, 2578.71it/s]\n",
      "100%|██████████| 64/64 [00:00<00:00, 218.30it/s]\n",
      "100%|██████████| 64/64 [00:00<00:00, 177.44it/s]\n",
      "100%|██████████| 64/64 [00:06<00:00,  9.24it/s]\n",
      "100%|██████████| 64/64 [00:00<00:00, 3701.18it/s]\n",
      "100%|██████████| 64/64 [00:00<00:00, 1328.83it/s]\n",
      "100%|██████████| 64/64 [00:00<00:00, 1442.39it/s]\n",
      "100%|██████████| 64/64 [00:00<00:00, 7974.44it/s]\n",
      "100%|██████████| 64/64 [00:00<00:00, 99531.13it/s]\n",
      " 17%|█▋        | 11/64 [00:00<00:00, 109.55it/s]"
     ]
    },
    {
     "name": "stdout",
     "output_type": "stream",
     "text": [
      "(1, 3329)\n",
      "(936, 3330)\n"
     ]
    },
    {
     "name": "stderr",
     "output_type": "stream",
     "text": [
      "100%|██████████| 64/64 [00:00<00:00, 111.18it/s]\n",
      "100%|██████████| 64/64 [00:00<00:00, 108.36it/s]\n",
      "100%|██████████| 64/64 [00:00<00:00, 116.23it/s]\n",
      "100%|██████████| 64/64 [00:00<00:00, 2498.14it/s]\n",
      "100%|██████████| 64/64 [00:00<00:00, 203.24it/s]\n",
      "100%|██████████| 64/64 [00:00<00:00, 171.00it/s]\n",
      "100%|██████████| 64/64 [00:07<00:00,  9.06it/s]\n",
      "100%|██████████| 64/64 [00:00<00:00, 3809.59it/s]\n",
      "100%|██████████| 64/64 [00:00<00:00, 1591.02it/s]\n",
      "100%|██████████| 64/64 [00:00<00:00, 1445.96it/s]\n",
      "100%|██████████| 64/64 [00:00<00:00, 7879.17it/s]\n",
      "100%|██████████| 64/64 [00:00<00:00, 60254.87it/s]\n",
      " 19%|█▉        | 12/64 [00:00<00:00, 112.00it/s]"
     ]
    },
    {
     "name": "stdout",
     "output_type": "stream",
     "text": [
      "(1, 3329)\n",
      "(937, 3330)\n"
     ]
    },
    {
     "name": "stderr",
     "output_type": "stream",
     "text": [
      "100%|██████████| 64/64 [00:00<00:00, 109.69it/s]\n",
      "100%|██████████| 64/64 [00:00<00:00, 112.02it/s]\n",
      "100%|██████████| 64/64 [00:00<00:00, 108.79it/s]\n",
      "100%|██████████| 64/64 [00:00<00:00, 2484.80it/s]\n",
      "100%|██████████| 64/64 [00:00<00:00, 223.92it/s]\n",
      "100%|██████████| 64/64 [00:00<00:00, 166.34it/s]\n",
      "100%|██████████| 64/64 [00:06<00:00,  9.22it/s]\n",
      "100%|██████████| 64/64 [00:00<00:00, 3218.07it/s]\n",
      "100%|██████████| 64/64 [00:00<00:00, 1596.59it/s]\n",
      "100%|██████████| 64/64 [00:00<00:00, 1499.35it/s]\n",
      "100%|██████████| 64/64 [00:00<00:00, 7648.17it/s]\n",
      "100%|██████████| 64/64 [00:00<00:00, 32159.51it/s]\n",
      " 17%|█▋        | 11/64 [00:00<00:00, 105.27it/s]"
     ]
    },
    {
     "name": "stdout",
     "output_type": "stream",
     "text": [
      "(1, 3329)\n",
      "(938, 3330)\n"
     ]
    },
    {
     "name": "stderr",
     "output_type": "stream",
     "text": [
      "100%|██████████| 64/64 [00:00<00:00, 112.65it/s]\n",
      "100%|██████████| 64/64 [00:00<00:00, 114.40it/s]\n",
      "100%|██████████| 64/64 [00:00<00:00, 119.08it/s]\n",
      "100%|██████████| 64/64 [00:00<00:00, 2262.01it/s]\n",
      "100%|██████████| 64/64 [00:00<00:00, 207.48it/s]\n",
      "100%|██████████| 64/64 [00:00<00:00, 175.56it/s]\n",
      "100%|██████████| 64/64 [00:07<00:00,  9.11it/s]\n",
      "100%|██████████| 64/64 [00:00<00:00, 3409.31it/s]\n",
      "100%|██████████| 64/64 [00:00<00:00, 1550.70it/s]\n",
      "100%|██████████| 64/64 [00:00<00:00, 1544.24it/s]\n",
      "100%|██████████| 64/64 [00:00<00:00, 7477.94it/s]\n",
      "100%|██████████| 64/64 [00:00<00:00, 101603.12it/s]\n",
      " 19%|█▉        | 12/64 [00:00<00:00, 111.96it/s]"
     ]
    },
    {
     "name": "stdout",
     "output_type": "stream",
     "text": [
      "(1, 3329)\n",
      "(939, 3330)\n"
     ]
    },
    {
     "name": "stderr",
     "output_type": "stream",
     "text": [
      "100%|██████████| 64/64 [00:00<00:00, 110.16it/s]\n",
      "100%|██████████| 64/64 [00:00<00:00, 110.08it/s]\n",
      "100%|██████████| 64/64 [00:00<00:00, 118.68it/s]\n",
      "100%|██████████| 64/64 [00:00<00:00, 2391.85it/s]\n",
      "100%|██████████| 64/64 [00:00<00:00, 195.22it/s]\n",
      "100%|██████████| 64/64 [00:00<00:00, 159.56it/s]\n",
      "100%|██████████| 64/64 [00:06<00:00,  9.19it/s]\n",
      "100%|██████████| 64/64 [00:00<00:00, 2532.17it/s]\n",
      "100%|██████████| 64/64 [00:00<00:00, 1457.94it/s]\n",
      "100%|██████████| 64/64 [00:00<00:00, 1463.78it/s]\n",
      "100%|██████████| 64/64 [00:00<00:00, 6828.68it/s]\n",
      "100%|██████████| 64/64 [00:00<00:00, 162589.62it/s]\n",
      " 19%|█▉        | 12/64 [00:00<00:00, 114.69it/s]"
     ]
    },
    {
     "name": "stdout",
     "output_type": "stream",
     "text": [
      "(1, 3329)\n",
      "(940, 3330)\n"
     ]
    },
    {
     "name": "stderr",
     "output_type": "stream",
     "text": [
      "100%|██████████| 64/64 [00:00<00:00, 107.45it/s]\n",
      "100%|██████████| 64/64 [00:00<00:00, 110.74it/s]\n",
      "100%|██████████| 64/64 [00:00<00:00, 119.67it/s]\n",
      "100%|██████████| 64/64 [00:00<00:00, 2593.70it/s]\n",
      "100%|██████████| 64/64 [00:00<00:00, 201.27it/s]\n",
      "100%|██████████| 64/64 [00:00<00:00, 174.69it/s]\n",
      "100%|██████████| 64/64 [00:06<00:00,  9.35it/s]\n",
      "100%|██████████| 64/64 [00:00<00:00, 3783.45it/s]\n",
      "100%|██████████| 64/64 [00:00<00:00, 1532.58it/s]\n",
      "100%|██████████| 64/64 [00:00<00:00, 1551.68it/s]\n",
      "100%|██████████| 64/64 [00:00<00:00, 7888.66it/s]\n",
      "100%|██████████| 64/64 [00:00<00:00, 102378.13it/s]\n",
      " 19%|█▉        | 12/64 [00:00<00:00, 111.22it/s]"
     ]
    },
    {
     "name": "stdout",
     "output_type": "stream",
     "text": [
      "(1, 3329)\n",
      "(941, 3330)\n"
     ]
    },
    {
     "name": "stderr",
     "output_type": "stream",
     "text": [
      "100%|██████████| 64/64 [00:00<00:00, 108.38it/s]\n",
      "100%|██████████| 64/64 [00:00<00:00, 116.11it/s]\n",
      "100%|██████████| 64/64 [00:00<00:00, 114.35it/s]\n",
      "100%|██████████| 64/64 [00:00<00:00, 2653.31it/s]\n",
      "100%|██████████| 64/64 [00:00<00:00, 223.56it/s]\n",
      "100%|██████████| 64/64 [00:00<00:00, 183.87it/s]\n",
      "100%|██████████| 64/64 [00:07<00:00,  9.12it/s]\n",
      "100%|██████████| 64/64 [00:00<00:00, 3624.52it/s]\n",
      "100%|██████████| 64/64 [00:00<00:00, 1490.27it/s]\n",
      "100%|██████████| 64/64 [00:00<00:00, 1197.66it/s]\n",
      "100%|██████████| 64/64 [00:00<00:00, 6733.11it/s]\n",
      "100%|██████████| 64/64 [00:00<00:00, 32860.26it/s]\n",
      "  0%|          | 0/64 [00:00<?, ?it/s]"
     ]
    },
    {
     "name": "stdout",
     "output_type": "stream",
     "text": [
      "(1, 3329)\n",
      "(942, 3330)\n"
     ]
    },
    {
     "name": "stderr",
     "output_type": "stream",
     "text": [
      "100%|██████████| 64/64 [00:00<00:00, 107.43it/s]\n",
      "100%|██████████| 64/64 [00:00<00:00, 109.32it/s]\n",
      "100%|██████████| 64/64 [00:00<00:00, 109.81it/s]\n",
      "100%|██████████| 64/64 [00:00<00:00, 2290.89it/s]\n",
      "100%|██████████| 64/64 [00:00<00:00, 202.59it/s]\n",
      "100%|██████████| 64/64 [00:00<00:00, 172.02it/s]\n",
      "100%|██████████| 64/64 [00:06<00:00,  9.27it/s]\n",
      "100%|██████████| 64/64 [00:00<00:00, 3746.27it/s]\n",
      "100%|██████████| 64/64 [00:00<00:00, 1542.91it/s]\n",
      "100%|██████████| 64/64 [00:00<00:00, 1497.73it/s]\n",
      "100%|██████████| 64/64 [00:00<00:00, 7255.01it/s]\n",
      "100%|██████████| 64/64 [00:00<00:00, 97153.62it/s]\n",
      " 17%|█▋        | 11/64 [00:00<00:00, 110.00it/s]"
     ]
    },
    {
     "name": "stdout",
     "output_type": "stream",
     "text": [
      "(1, 3329)\n",
      "(943, 3330)\n"
     ]
    },
    {
     "name": "stderr",
     "output_type": "stream",
     "text": [
      "100%|██████████| 64/64 [00:00<00:00, 101.46it/s]\n",
      "100%|██████████| 64/64 [00:00<00:00, 107.84it/s]\n",
      "100%|██████████| 64/64 [00:00<00:00, 111.09it/s]\n",
      "100%|██████████| 64/64 [00:00<00:00, 2633.97it/s]\n",
      "100%|██████████| 64/64 [00:00<00:00, 211.22it/s]\n",
      "100%|██████████| 64/64 [00:00<00:00, 172.14it/s]\n",
      "100%|██████████| 64/64 [00:06<00:00,  9.39it/s]\n",
      "100%|██████████| 64/64 [00:00<00:00, 2905.15it/s]\n",
      "100%|██████████| 64/64 [00:00<00:00, 1566.51it/s]\n",
      "100%|██████████| 64/64 [00:00<00:00, 1323.16it/s]\n",
      "100%|██████████| 64/64 [00:00<00:00, 9291.00it/s]\n",
      "100%|██████████| 64/64 [00:00<00:00, 210207.87it/s]\n",
      " 17%|█▋        | 11/64 [00:00<00:00, 108.38it/s]"
     ]
    },
    {
     "name": "stdout",
     "output_type": "stream",
     "text": [
      "(1, 3329)\n",
      "(944, 3330)\n"
     ]
    },
    {
     "name": "stderr",
     "output_type": "stream",
     "text": [
      "100%|██████████| 64/64 [00:00<00:00, 106.41it/s]\n",
      "100%|██████████| 64/64 [00:00<00:00, 110.26it/s]\n",
      "100%|██████████| 64/64 [00:00<00:00, 120.43it/s]\n",
      "100%|██████████| 64/64 [00:00<00:00, 2284.03it/s]\n",
      "100%|██████████| 64/64 [00:00<00:00, 219.30it/s]\n",
      "100%|██████████| 64/64 [00:00<00:00, 177.04it/s]\n",
      "100%|██████████| 64/64 [00:06<00:00,  9.17it/s]\n",
      "100%|██████████| 64/64 [00:00<00:00, 3898.73it/s]\n",
      "100%|██████████| 64/64 [00:00<00:00, 1430.88it/s]\n",
      "100%|██████████| 64/64 [00:00<00:00, 1556.99it/s]\n",
      "100%|██████████| 64/64 [00:00<00:00, 8165.59it/s]\n",
      "100%|██████████| 64/64 [00:00<00:00, 228650.30it/s]\n",
      " 17%|█▋        | 11/64 [00:00<00:00, 108.27it/s]"
     ]
    },
    {
     "name": "stdout",
     "output_type": "stream",
     "text": [
      "(1, 3329)\n",
      "(945, 3330)\n"
     ]
    },
    {
     "name": "stderr",
     "output_type": "stream",
     "text": [
      "100%|██████████| 64/64 [00:00<00:00, 107.91it/s]\n",
      "100%|██████████| 64/64 [00:00<00:00, 112.43it/s]\n",
      "100%|██████████| 64/64 [00:00<00:00, 117.60it/s]\n",
      "100%|██████████| 64/64 [00:00<00:00, 2088.50it/s]\n",
      "100%|██████████| 64/64 [00:00<00:00, 223.46it/s]\n",
      "100%|██████████| 64/64 [00:00<00:00, 172.35it/s]\n",
      "100%|██████████| 64/64 [00:07<00:00,  9.04it/s]\n",
      "100%|██████████| 64/64 [00:00<00:00, 4021.14it/s]\n",
      "100%|██████████| 64/64 [00:00<00:00, 1495.92it/s]\n",
      "100%|██████████| 64/64 [00:00<00:00, 1440.14it/s]\n",
      "100%|██████████| 64/64 [00:00<00:00, 7578.21it/s]\n",
      "100%|██████████| 64/64 [00:00<00:00, 100424.79it/s]\n",
      " 17%|█▋        | 11/64 [00:00<00:00, 109.00it/s]"
     ]
    },
    {
     "name": "stdout",
     "output_type": "stream",
     "text": [
      "(1, 3329)\n",
      "(946, 3330)\n"
     ]
    },
    {
     "name": "stderr",
     "output_type": "stream",
     "text": [
      "100%|██████████| 64/64 [00:00<00:00, 108.10it/s]\n",
      "100%|██████████| 64/64 [00:00<00:00, 110.69it/s]\n",
      "100%|██████████| 64/64 [00:00<00:00, 118.29it/s]\n",
      "100%|██████████| 64/64 [00:00<00:00, 1859.09it/s]\n",
      "100%|██████████| 64/64 [00:00<00:00, 212.49it/s]\n",
      "100%|██████████| 64/64 [00:00<00:00, 174.38it/s]\n",
      "100%|██████████| 64/64 [00:07<00:00,  9.11it/s]\n",
      "100%|██████████| 64/64 [00:00<00:00, 3871.01it/s]\n",
      "100%|██████████| 64/64 [00:00<00:00, 1514.50it/s]\n",
      "100%|██████████| 64/64 [00:00<00:00, 1404.44it/s]\n",
      "100%|██████████| 64/64 [00:00<00:00, 6809.80it/s]\n",
      "100%|██████████| 64/64 [00:00<00:00, 257863.07it/s]\n",
      " 17%|█▋        | 11/64 [00:00<00:00, 105.55it/s]"
     ]
    },
    {
     "name": "stdout",
     "output_type": "stream",
     "text": [
      "(1, 3329)\n",
      "(947, 3330)\n"
     ]
    },
    {
     "name": "stderr",
     "output_type": "stream",
     "text": [
      "100%|██████████| 64/64 [00:00<00:00, 108.40it/s]\n",
      "100%|██████████| 64/64 [00:00<00:00, 110.62it/s]\n",
      "100%|██████████| 64/64 [00:00<00:00, 117.83it/s]\n",
      "100%|██████████| 64/64 [00:00<00:00, 2527.66it/s]\n",
      "100%|██████████| 64/64 [00:00<00:00, 220.72it/s]\n",
      "100%|██████████| 64/64 [00:00<00:00, 179.50it/s]\n",
      "100%|██████████| 64/64 [00:06<00:00,  9.25it/s]\n",
      "100%|██████████| 64/64 [00:00<00:00, 3790.50it/s]\n",
      "100%|██████████| 64/64 [00:00<00:00, 1496.56it/s]\n",
      "100%|██████████| 64/64 [00:00<00:00, 1519.00it/s]\n",
      "100%|██████████| 64/64 [00:00<00:00, 7428.27it/s]\n",
      "100%|██████████| 64/64 [00:00<00:00, 151401.84it/s]\n",
      "  0%|          | 0/64 [00:00<?, ?it/s]"
     ]
    },
    {
     "name": "stdout",
     "output_type": "stream",
     "text": [
      "(1, 3329)\n",
      "(948, 3330)\n"
     ]
    },
    {
     "name": "stderr",
     "output_type": "stream",
     "text": [
      "100%|██████████| 64/64 [00:00<00:00, 111.15it/s]\n",
      "100%|██████████| 64/64 [00:00<00:00, 116.23it/s]\n",
      "100%|██████████| 64/64 [00:00<00:00, 117.03it/s]\n",
      "100%|██████████| 64/64 [00:00<00:00, 2094.04it/s]\n",
      "100%|██████████| 64/64 [00:00<00:00, 218.09it/s]\n",
      "100%|██████████| 64/64 [00:00<00:00, 158.53it/s]\n",
      "100%|██████████| 64/64 [00:07<00:00,  8.94it/s]\n",
      "100%|██████████| 64/64 [00:00<00:00, 3710.54it/s]\n",
      "100%|██████████| 64/64 [00:00<00:00, 1456.36it/s]\n",
      "100%|██████████| 64/64 [00:00<00:00, 1442.05it/s]\n",
      "100%|██████████| 64/64 [00:00<00:00, 6534.62it/s]\n",
      "100%|██████████| 64/64 [00:00<00:00, 100537.62it/s]\n",
      "  0%|          | 0/64 [00:00<?, ?it/s]"
     ]
    },
    {
     "name": "stdout",
     "output_type": "stream",
     "text": [
      "(1, 3329)\n",
      "(949, 3330)\n"
     ]
    },
    {
     "name": "stderr",
     "output_type": "stream",
     "text": [
      "100%|██████████| 64/64 [00:00<00:00, 106.13it/s]\n",
      "100%|██████████| 64/64 [00:00<00:00, 110.53it/s]\n",
      "100%|██████████| 64/64 [00:00<00:00, 110.86it/s]\n",
      "100%|██████████| 64/64 [00:00<00:00, 2221.45it/s]\n",
      "100%|██████████| 64/64 [00:00<00:00, 201.24it/s]\n",
      "100%|██████████| 64/64 [00:00<00:00, 154.33it/s]\n",
      "100%|██████████| 64/64 [00:07<00:00,  9.06it/s]\n",
      "100%|██████████| 64/64 [00:00<00:00, 3846.33it/s]\n",
      "100%|██████████| 64/64 [00:00<00:00, 1333.25it/s]\n",
      "100%|██████████| 64/64 [00:00<00:00, 1527.34it/s]\n",
      "100%|██████████| 64/64 [00:00<00:00, 7199.94it/s]\n",
      "100%|██████████| 64/64 [00:00<00:00, 97259.22it/s]\n",
      " 17%|█▋        | 11/64 [00:00<00:00, 107.22it/s]"
     ]
    },
    {
     "name": "stdout",
     "output_type": "stream",
     "text": [
      "(1, 3329)\n",
      "(950, 3330)\n"
     ]
    },
    {
     "name": "stderr",
     "output_type": "stream",
     "text": [
      "100%|██████████| 64/64 [00:00<00:00, 109.41it/s]\n",
      "100%|██████████| 64/64 [00:00<00:00, 96.35it/s]\n",
      "100%|██████████| 64/64 [00:00<00:00, 116.76it/s]\n",
      "100%|██████████| 64/64 [00:00<00:00, 1818.09it/s]\n",
      "100%|██████████| 64/64 [00:00<00:00, 206.17it/s]\n",
      "100%|██████████| 64/64 [00:00<00:00, 172.96it/s]\n",
      "100%|██████████| 64/64 [00:07<00:00,  9.03it/s]\n",
      "100%|██████████| 64/64 [00:00<00:00, 2227.75it/s]\n",
      "100%|██████████| 64/64 [00:00<00:00, 1258.61it/s]\n",
      "100%|██████████| 64/64 [00:00<00:00, 1477.72it/s]\n",
      "100%|██████████| 64/64 [00:00<00:00, 6906.87it/s]\n",
      "100%|██████████| 64/64 [00:00<00:00, 96213.43it/s]\n",
      " 17%|█▋        | 11/64 [00:00<00:00, 106.85it/s]"
     ]
    },
    {
     "name": "stdout",
     "output_type": "stream",
     "text": [
      "(1, 3329)\n",
      "(951, 3330)\n"
     ]
    },
    {
     "name": "stderr",
     "output_type": "stream",
     "text": [
      "100%|██████████| 64/64 [00:00<00:00, 103.43it/s]\n",
      "100%|██████████| 64/64 [00:00<00:00, 109.33it/s]\n",
      "100%|██████████| 64/64 [00:00<00:00, 109.01it/s]\n",
      "100%|██████████| 64/64 [00:00<00:00, 2113.65it/s]\n",
      "100%|██████████| 64/64 [00:00<00:00, 200.21it/s]\n",
      "100%|██████████| 64/64 [00:00<00:00, 162.97it/s]\n",
      "100%|██████████| 64/64 [00:07<00:00,  8.92it/s]\n",
      "100%|██████████| 64/64 [00:00<00:00, 3229.34it/s]\n",
      "100%|██████████| 64/64 [00:00<00:00, 1468.87it/s]\n",
      "100%|██████████| 64/64 [00:00<00:00, 1408.67it/s]\n",
      "100%|██████████| 64/64 [00:00<00:00, 7403.69it/s]\n",
      "100%|██████████| 64/64 [00:00<00:00, 32792.02it/s]\n",
      " 17%|█▋        | 11/64 [00:00<00:00, 104.76it/s]"
     ]
    },
    {
     "name": "stdout",
     "output_type": "stream",
     "text": [
      "(1, 3329)\n",
      "(952, 3330)\n"
     ]
    },
    {
     "name": "stderr",
     "output_type": "stream",
     "text": [
      "100%|██████████| 64/64 [00:00<00:00, 95.86it/s]\n",
      "100%|██████████| 64/64 [00:00<00:00, 103.17it/s]\n",
      "100%|██████████| 64/64 [00:00<00:00, 110.30it/s]\n",
      "100%|██████████| 64/64 [00:00<00:00, 2548.13it/s]\n",
      "100%|██████████| 64/64 [00:00<00:00, 214.51it/s]\n",
      "100%|██████████| 64/64 [00:00<00:00, 168.68it/s]\n",
      "100%|██████████| 64/64 [00:07<00:00,  8.80it/s]\n",
      "100%|██████████| 64/64 [00:00<00:00, 3732.47it/s]\n",
      "100%|██████████| 64/64 [00:00<00:00, 1533.13it/s]\n",
      "100%|██████████| 64/64 [00:00<00:00, 1573.66it/s]\n",
      "100%|██████████| 64/64 [00:00<00:00, 7210.58it/s]\n",
      "100%|██████████| 64/64 [00:00<00:00, 89867.91it/s]\n",
      "  0%|          | 0/64 [00:00<?, ?it/s]"
     ]
    },
    {
     "name": "stdout",
     "output_type": "stream",
     "text": [
      "(1, 3329)\n",
      "(953, 3330)\n"
     ]
    },
    {
     "name": "stderr",
     "output_type": "stream",
     "text": [
      "100%|██████████| 64/64 [00:00<00:00, 107.76it/s]\n",
      "100%|██████████| 64/64 [00:00<00:00, 106.31it/s]\n",
      "100%|██████████| 64/64 [00:00<00:00, 111.15it/s]\n",
      "100%|██████████| 64/64 [00:00<00:00, 2522.15it/s]\n",
      "100%|██████████| 64/64 [00:00<00:00, 203.80it/s]\n",
      "100%|██████████| 64/64 [00:00<00:00, 165.70it/s]\n",
      "100%|██████████| 64/64 [00:07<00:00,  8.97it/s]\n",
      "100%|██████████| 64/64 [00:00<00:00, 3740.69it/s]\n",
      "100%|██████████| 64/64 [00:00<00:00, 1494.29it/s]\n",
      "100%|██████████| 64/64 [00:00<00:00, 1236.18it/s]\n",
      "100%|██████████| 64/64 [00:00<00:00, 6525.88it/s]\n",
      "100%|██████████| 64/64 [00:00<00:00, 30972.13it/s]\n",
      "  0%|          | 0/64 [00:00<?, ?it/s]"
     ]
    },
    {
     "name": "stdout",
     "output_type": "stream",
     "text": [
      "(1, 3329)\n",
      "(954, 3330)\n"
     ]
    },
    {
     "name": "stderr",
     "output_type": "stream",
     "text": [
      "100%|██████████| 64/64 [00:00<00:00, 105.86it/s]\n",
      "100%|██████████| 64/64 [00:00<00:00, 108.35it/s]\n",
      "100%|██████████| 64/64 [00:00<00:00, 106.51it/s]\n",
      "100%|██████████| 64/64 [00:00<00:00, 2344.50it/s]\n",
      "100%|██████████| 64/64 [00:00<00:00, 213.62it/s]\n",
      "100%|██████████| 64/64 [00:00<00:00, 173.97it/s]\n",
      "100%|██████████| 64/64 [00:07<00:00,  8.94it/s]\n",
      "100%|██████████| 64/64 [00:00<00:00, 3868.84it/s]\n",
      "100%|██████████| 64/64 [00:00<00:00, 1468.26it/s]\n",
      "100%|██████████| 64/64 [00:00<00:00, 1407.89it/s]\n",
      "100%|██████████| 64/64 [00:00<00:00, 8072.76it/s]\n",
      "100%|██████████| 64/64 [00:00<00:00, 252052.07it/s]\n",
      " 17%|█▋        | 11/64 [00:00<00:00, 105.06it/s]"
     ]
    },
    {
     "name": "stdout",
     "output_type": "stream",
     "text": [
      "(1, 3329)\n",
      "(955, 3330)\n"
     ]
    },
    {
     "name": "stderr",
     "output_type": "stream",
     "text": [
      "100%|██████████| 64/64 [00:00<00:00, 109.65it/s]\n",
      "100%|██████████| 64/64 [00:00<00:00, 110.04it/s]\n",
      "100%|██████████| 64/64 [00:00<00:00, 117.38it/s]\n",
      "100%|██████████| 64/64 [00:00<00:00, 2422.46it/s]\n",
      "100%|██████████| 64/64 [00:00<00:00, 206.24it/s]\n",
      "100%|██████████| 64/64 [00:00<00:00, 166.10it/s]\n",
      "100%|██████████| 64/64 [00:07<00:00,  8.87it/s]\n",
      "100%|██████████| 64/64 [00:00<00:00, 3721.91it/s]\n",
      "100%|██████████| 64/64 [00:00<00:00, 1390.67it/s]\n",
      "100%|██████████| 64/64 [00:00<00:00, 1331.59it/s]\n",
      "100%|██████████| 64/64 [00:00<00:00, 8365.34it/s]\n",
      "100%|██████████| 64/64 [00:00<00:00, 89389.10it/s]\n",
      " 17%|█▋        | 11/64 [00:00<00:00, 105.89it/s]"
     ]
    },
    {
     "name": "stdout",
     "output_type": "stream",
     "text": [
      "(1, 3329)\n",
      "(956, 3330)\n"
     ]
    },
    {
     "name": "stderr",
     "output_type": "stream",
     "text": [
      "100%|██████████| 64/64 [00:00<00:00, 104.59it/s]\n",
      "100%|██████████| 64/64 [00:00<00:00, 108.69it/s]\n",
      "100%|██████████| 64/64 [00:00<00:00, 113.37it/s]\n",
      "100%|██████████| 64/64 [00:00<00:00, 2509.59it/s]\n",
      "100%|██████████| 64/64 [00:00<00:00, 199.68it/s]\n",
      "100%|██████████| 64/64 [00:00<00:00, 165.31it/s]\n",
      "100%|██████████| 64/64 [00:07<00:00,  8.99it/s]\n",
      "100%|██████████| 64/64 [00:00<00:00, 3949.44it/s]\n",
      "100%|██████████| 64/64 [00:00<00:00, 1523.06it/s]\n",
      "100%|██████████| 64/64 [00:00<00:00, 1400.22it/s]\n",
      "100%|██████████| 64/64 [00:00<00:00, 6748.34it/s]\n",
      "100%|██████████| 64/64 [00:00<00:00, 183482.88it/s]\n",
      " 19%|█▉        | 12/64 [00:00<00:00, 113.73it/s]"
     ]
    },
    {
     "name": "stdout",
     "output_type": "stream",
     "text": [
      "(1, 3329)\n",
      "(957, 3330)\n"
     ]
    },
    {
     "name": "stderr",
     "output_type": "stream",
     "text": [
      "100%|██████████| 64/64 [00:00<00:00, 105.68it/s]\n",
      "100%|██████████| 64/64 [00:00<00:00, 112.30it/s]\n",
      "100%|██████████| 64/64 [00:00<00:00, 113.35it/s]\n",
      "100%|██████████| 64/64 [00:00<00:00, 2055.94it/s]\n",
      "100%|██████████| 64/64 [00:00<00:00, 206.03it/s]\n",
      "100%|██████████| 64/64 [00:00<00:00, 168.63it/s]\n",
      "100%|██████████| 64/64 [00:07<00:00,  9.03it/s]\n",
      "100%|██████████| 64/64 [00:00<00:00, 3631.92it/s]\n",
      "100%|██████████| 64/64 [00:00<00:00, 1557.90it/s]\n",
      "100%|██████████| 64/64 [00:00<00:00, 1111.70it/s]\n",
      "100%|██████████| 64/64 [00:00<00:00, 8000.10it/s]\n",
      "100%|██████████| 64/64 [00:00<00:00, 228067.51it/s]\n",
      " 17%|█▋        | 11/64 [00:00<00:00, 107.90it/s]"
     ]
    },
    {
     "name": "stdout",
     "output_type": "stream",
     "text": [
      "(1, 3329)\n",
      "(958, 3330)\n"
     ]
    },
    {
     "name": "stderr",
     "output_type": "stream",
     "text": [
      "100%|██████████| 64/64 [00:00<00:00, 107.52it/s]\n",
      "100%|██████████| 64/64 [00:00<00:00, 111.43it/s]\n",
      "100%|██████████| 64/64 [00:00<00:00, 118.78it/s]\n",
      "100%|██████████| 64/64 [00:00<00:00, 2596.54it/s]\n",
      "100%|██████████| 64/64 [00:00<00:00, 197.98it/s]\n",
      "100%|██████████| 64/64 [00:00<00:00, 156.09it/s]\n",
      "100%|██████████| 64/64 [00:07<00:00,  8.80it/s]\n",
      "100%|██████████| 64/64 [00:00<00:00, 3625.74it/s]\n",
      "100%|██████████| 64/64 [00:00<00:00, 1462.48it/s]\n",
      "100%|██████████| 64/64 [00:00<00:00, 1391.62it/s]\n",
      "100%|██████████| 64/64 [00:00<00:00, 7164.77it/s]\n",
      "100%|██████████| 64/64 [00:00<00:00, 171633.92it/s]\n",
      " 16%|█▌        | 10/64 [00:00<00:00, 98.95it/s]"
     ]
    },
    {
     "name": "stdout",
     "output_type": "stream",
     "text": [
      "(1, 3329)\n",
      "(959, 3330)\n"
     ]
    },
    {
     "name": "stderr",
     "output_type": "stream",
     "text": [
      "100%|██████████| 64/64 [00:00<00:00, 103.66it/s]\n",
      "100%|██████████| 64/64 [00:00<00:00, 104.28it/s]\n",
      "100%|██████████| 64/64 [00:00<00:00, 109.28it/s]\n",
      "100%|██████████| 64/64 [00:00<00:00, 2468.64it/s]\n",
      "100%|██████████| 64/64 [00:00<00:00, 198.32it/s]\n",
      "100%|██████████| 64/64 [00:00<00:00, 166.64it/s]\n",
      "100%|██████████| 64/64 [00:07<00:00,  9.09it/s]\n",
      "100%|██████████| 64/64 [00:00<00:00, 3902.47it/s]\n",
      "100%|██████████| 64/64 [00:00<00:00, 1522.95it/s]\n",
      "100%|██████████| 64/64 [00:00<00:00, 1546.14it/s]\n",
      "100%|██████████| 64/64 [00:00<00:00, 7040.75it/s]\n",
      "100%|██████████| 64/64 [00:00<00:00, 45107.62it/s]\n",
      " 17%|█▋        | 11/64 [00:00<00:00, 108.49it/s]"
     ]
    },
    {
     "name": "stdout",
     "output_type": "stream",
     "text": [
      "(1, 3329)\n",
      "(960, 3330)\n"
     ]
    },
    {
     "name": "stderr",
     "output_type": "stream",
     "text": [
      "100%|██████████| 64/64 [00:00<00:00, 107.87it/s]\n",
      "100%|██████████| 64/64 [00:00<00:00, 114.58it/s]\n",
      "100%|██████████| 64/64 [00:00<00:00, 116.80it/s]\n",
      "100%|██████████| 64/64 [00:00<00:00, 2488.14it/s]\n",
      "100%|██████████| 64/64 [00:00<00:00, 214.04it/s]\n",
      "100%|██████████| 64/64 [00:00<00:00, 172.13it/s]\n",
      "100%|██████████| 64/64 [00:07<00:00,  9.10it/s]\n",
      "100%|██████████| 64/64 [00:00<00:00, 3220.23it/s]\n",
      "100%|██████████| 64/64 [00:00<00:00, 1274.68it/s]\n",
      "100%|██████████| 64/64 [00:00<00:00, 1590.19it/s]\n",
      "100%|██████████| 64/64 [00:00<00:00, 6594.98it/s]\n",
      "100%|██████████| 64/64 [00:00<00:00, 109655.01it/s]\n",
      " 19%|█▉        | 12/64 [00:00<00:00, 114.61it/s]"
     ]
    },
    {
     "name": "stdout",
     "output_type": "stream",
     "text": [
      "(1, 3329)\n",
      "(961, 3330)\n"
     ]
    },
    {
     "name": "stderr",
     "output_type": "stream",
     "text": [
      "100%|██████████| 64/64 [00:00<00:00, 107.23it/s]\n",
      "100%|██████████| 64/64 [00:00<00:00, 109.67it/s]\n",
      "100%|██████████| 64/64 [00:00<00:00, 113.93it/s]\n",
      "100%|██████████| 64/64 [00:00<00:00, 2545.38it/s]\n",
      "100%|██████████| 64/64 [00:00<00:00, 206.46it/s]\n",
      "100%|██████████| 64/64 [00:00<00:00, 174.49it/s]\n",
      "100%|██████████| 64/64 [00:07<00:00,  9.00it/s]\n",
      "100%|██████████| 64/64 [00:00<00:00, 3721.71it/s]\n",
      "100%|██████████| 64/64 [00:00<00:00, 1623.01it/s]\n",
      "100%|██████████| 64/64 [00:00<00:00, 1478.21it/s]\n",
      "100%|██████████| 64/64 [00:00<00:00, 10542.18it/s]\n",
      "100%|██████████| 64/64 [00:00<00:00, 256385.34it/s]\n",
      " 17%|█▋        | 11/64 [00:00<00:00, 109.97it/s]"
     ]
    },
    {
     "name": "stdout",
     "output_type": "stream",
     "text": [
      "(1, 3329)\n",
      "(962, 3330)\n"
     ]
    },
    {
     "name": "stderr",
     "output_type": "stream",
     "text": [
      "100%|██████████| 64/64 [00:00<00:00, 102.38it/s]\n",
      "100%|██████████| 64/64 [00:00<00:00, 100.33it/s]\n",
      "100%|██████████| 64/64 [00:00<00:00, 111.97it/s]\n",
      "100%|██████████| 64/64 [00:00<00:00, 2530.79it/s]\n",
      "100%|██████████| 64/64 [00:00<00:00, 200.61it/s]\n",
      "100%|██████████| 64/64 [00:00<00:00, 139.14it/s]\n",
      "100%|██████████| 64/64 [00:07<00:00,  8.95it/s]\n",
      "100%|██████████| 64/64 [00:00<00:00, 3775.68it/s]\n",
      "100%|██████████| 64/64 [00:00<00:00, 1445.91it/s]\n",
      "100%|██████████| 64/64 [00:00<00:00, 1381.08it/s]\n",
      "100%|██████████| 64/64 [00:00<00:00, 7570.52it/s]\n",
      "100%|██████████| 64/64 [00:00<00:00, 99163.45it/s]\n",
      "  0%|          | 0/64 [00:00<?, ?it/s]"
     ]
    },
    {
     "name": "stdout",
     "output_type": "stream",
     "text": [
      "(1, 3329)\n",
      "(963, 3330)\n"
     ]
    },
    {
     "name": "stderr",
     "output_type": "stream",
     "text": [
      "100%|██████████| 64/64 [00:00<00:00, 94.98it/s]\n",
      "100%|██████████| 64/64 [00:00<00:00, 96.31it/s]\n",
      "100%|██████████| 64/64 [00:00<00:00, 107.73it/s]\n",
      "100%|██████████| 64/64 [00:00<00:00, 2343.25it/s]\n",
      "100%|██████████| 64/64 [00:00<00:00, 194.20it/s]\n",
      "100%|██████████| 64/64 [00:00<00:00, 158.05it/s]\n",
      "100%|██████████| 64/64 [00:07<00:00,  8.76it/s]\n",
      "100%|██████████| 64/64 [00:00<00:00, 3469.28it/s]\n",
      "100%|██████████| 64/64 [00:00<00:00, 1510.24it/s]\n",
      "100%|██████████| 64/64 [00:00<00:00, 1512.60it/s]\n",
      "100%|██████████| 64/64 [00:00<00:00, 8454.93it/s]\n",
      "100%|██████████| 64/64 [00:00<00:00, 125320.01it/s]\n",
      "  0%|          | 0/64 [00:00<?, ?it/s]"
     ]
    },
    {
     "name": "stdout",
     "output_type": "stream",
     "text": [
      "(1, 3329)\n",
      "(964, 3330)\n"
     ]
    },
    {
     "name": "stderr",
     "output_type": "stream",
     "text": [
      "100%|██████████| 64/64 [00:00<00:00, 102.91it/s]\n",
      "100%|██████████| 64/64 [00:00<00:00, 106.28it/s]\n",
      "100%|██████████| 64/64 [00:00<00:00, 111.76it/s]\n",
      "100%|██████████| 64/64 [00:00<00:00, 2335.95it/s]\n",
      "100%|██████████| 64/64 [00:00<00:00, 201.63it/s]\n",
      "100%|██████████| 64/64 [00:00<00:00, 169.44it/s]\n",
      "100%|██████████| 64/64 [00:07<00:00,  8.71it/s]\n",
      "100%|██████████| 64/64 [00:00<00:00, 3696.19it/s]\n",
      "100%|██████████| 64/64 [00:00<00:00, 1416.17it/s]\n",
      "100%|██████████| 64/64 [00:00<00:00, 1404.09it/s]\n",
      "100%|██████████| 64/64 [00:00<00:00, 7983.69it/s]\n",
      "100%|██████████| 64/64 [00:00<00:00, 90810.37it/s]\n",
      "  0%|          | 0/64 [00:00<?, ?it/s]"
     ]
    },
    {
     "name": "stdout",
     "output_type": "stream",
     "text": [
      "(1, 3329)\n",
      "(965, 3330)\n"
     ]
    },
    {
     "name": "stderr",
     "output_type": "stream",
     "text": [
      "100%|██████████| 64/64 [00:00<00:00, 98.33it/s]\n",
      "100%|██████████| 64/64 [00:00<00:00, 105.60it/s]\n",
      "100%|██████████| 64/64 [00:00<00:00, 110.40it/s]\n",
      "100%|██████████| 64/64 [00:00<00:00, 2404.99it/s]\n",
      "100%|██████████| 64/64 [00:00<00:00, 194.20it/s]\n",
      "100%|██████████| 64/64 [00:00<00:00, 158.72it/s]\n",
      "100%|██████████| 64/64 [00:07<00:00,  8.47it/s]\n",
      "100%|██████████| 64/64 [00:00<00:00, 3298.42it/s]\n",
      "100%|██████████| 64/64 [00:00<00:00, 1344.08it/s]\n",
      "100%|██████████| 64/64 [00:00<00:00, 1496.39it/s]\n",
      "100%|██████████| 64/64 [00:00<00:00, 8178.02it/s]\n",
      "100%|██████████| 64/64 [00:00<00:00, 104004.44it/s]\n",
      "  0%|          | 0/64 [00:00<?, ?it/s]"
     ]
    },
    {
     "name": "stdout",
     "output_type": "stream",
     "text": [
      "(1, 3329)\n",
      "(966, 3330)\n"
     ]
    },
    {
     "name": "stderr",
     "output_type": "stream",
     "text": [
      "100%|██████████| 64/64 [00:00<00:00, 101.59it/s]\n",
      "100%|██████████| 64/64 [00:00<00:00, 110.77it/s]\n",
      "100%|██████████| 64/64 [00:00<00:00, 111.75it/s]\n",
      "100%|██████████| 64/64 [00:00<00:00, 2443.14it/s]\n",
      "100%|██████████| 64/64 [00:00<00:00, 205.09it/s]\n",
      "100%|██████████| 64/64 [00:00<00:00, 166.88it/s]\n",
      "100%|██████████| 64/64 [00:07<00:00,  8.74it/s]\n",
      "100%|██████████| 64/64 [00:00<00:00, 3838.30it/s]\n",
      "100%|██████████| 64/64 [00:00<00:00, 1508.15it/s]\n",
      "100%|██████████| 64/64 [00:00<00:00, 1431.09it/s]\n",
      "100%|██████████| 64/64 [00:00<00:00, 6477.22it/s]\n",
      "100%|██████████| 64/64 [00:00<00:00, 234236.87it/s]\n",
      "  0%|          | 0/64 [00:00<?, ?it/s]"
     ]
    },
    {
     "name": "stdout",
     "output_type": "stream",
     "text": [
      "(1, 3329)\n",
      "(967, 3330)\n"
     ]
    },
    {
     "name": "stderr",
     "output_type": "stream",
     "text": [
      "100%|██████████| 64/64 [00:00<00:00, 109.66it/s]\n",
      "100%|██████████| 64/64 [00:00<00:00, 106.75it/s]\n",
      "100%|██████████| 64/64 [00:00<00:00, 112.28it/s]\n",
      "100%|██████████| 64/64 [00:00<00:00, 2364.40it/s]\n",
      "100%|██████████| 64/64 [00:00<00:00, 212.72it/s]\n",
      "100%|██████████| 64/64 [00:00<00:00, 167.06it/s]\n",
      "100%|██████████| 64/64 [00:07<00:00,  8.71it/s]\n",
      "100%|██████████| 64/64 [00:00<00:00, 3573.14it/s]\n",
      "100%|██████████| 64/64 [00:00<00:00, 1570.61it/s]\n",
      "100%|██████████| 64/64 [00:00<00:00, 1463.39it/s]\n",
      "100%|██████████| 64/64 [00:00<00:00, 6571.89it/s]\n",
      "100%|██████████| 64/64 [00:00<00:00, 140911.00it/s]\n",
      " 17%|█▋        | 11/64 [00:00<00:00, 105.07it/s]"
     ]
    },
    {
     "name": "stdout",
     "output_type": "stream",
     "text": [
      "(1, 3329)\n",
      "(968, 3330)\n"
     ]
    },
    {
     "name": "stderr",
     "output_type": "stream",
     "text": [
      "100%|██████████| 64/64 [00:00<00:00, 105.79it/s]\n",
      "100%|██████████| 64/64 [00:00<00:00, 102.09it/s]\n",
      "100%|██████████| 64/64 [00:00<00:00, 108.95it/s]\n",
      "100%|██████████| 64/64 [00:00<00:00, 2434.35it/s]\n",
      "100%|██████████| 64/64 [00:00<00:00, 200.43it/s]\n",
      "100%|██████████| 64/64 [00:00<00:00, 163.10it/s]\n",
      "100%|██████████| 64/64 [00:07<00:00,  8.65it/s]\n",
      "100%|██████████| 64/64 [00:00<00:00, 3136.33it/s]\n",
      "100%|██████████| 64/64 [00:00<00:00, 1473.61it/s]\n",
      "100%|██████████| 64/64 [00:00<00:00, 1488.36it/s]\n",
      "100%|██████████| 64/64 [00:00<00:00, 6992.69it/s]\n",
      "100%|██████████| 64/64 [00:00<00:00, 280790.23it/s]\n",
      " 16%|█▌        | 10/64 [00:00<00:00, 96.19it/s]"
     ]
    },
    {
     "name": "stdout",
     "output_type": "stream",
     "text": [
      "(1, 3329)\n",
      "(969, 3330)\n"
     ]
    },
    {
     "name": "stderr",
     "output_type": "stream",
     "text": [
      "100%|██████████| 64/64 [00:00<00:00, 101.60it/s]\n",
      "100%|██████████| 64/64 [00:00<00:00, 105.09it/s]\n",
      "100%|██████████| 64/64 [00:00<00:00, 110.27it/s]\n",
      "100%|██████████| 64/64 [00:00<00:00, 2372.70it/s]\n",
      "100%|██████████| 64/64 [00:00<00:00, 198.10it/s]\n",
      "100%|██████████| 64/64 [00:00<00:00, 164.80it/s]\n",
      "100%|██████████| 64/64 [00:07<00:00,  8.80it/s]\n",
      "100%|██████████| 64/64 [00:00<00:00, 3799.19it/s]\n",
      "100%|██████████| 64/64 [00:00<00:00, 1460.69it/s]\n",
      "100%|██████████| 64/64 [00:00<00:00, 1534.82it/s]\n",
      "100%|██████████| 64/64 [00:00<00:00, 8097.84it/s]\n",
      "100%|██████████| 64/64 [00:00<00:00, 31097.71it/s]\n",
      "  0%|          | 0/64 [00:00<?, ?it/s]"
     ]
    },
    {
     "name": "stdout",
     "output_type": "stream",
     "text": [
      "(1, 3329)\n",
      "(970, 3330)\n"
     ]
    },
    {
     "name": "stderr",
     "output_type": "stream",
     "text": [
      "100%|██████████| 64/64 [00:00<00:00, 102.96it/s]\n",
      "100%|██████████| 64/64 [00:00<00:00, 106.40it/s]\n",
      "100%|██████████| 64/64 [00:00<00:00, 109.70it/s]\n",
      "100%|██████████| 64/64 [00:00<00:00, 2307.00it/s]\n",
      "100%|██████████| 64/64 [00:00<00:00, 205.86it/s]\n",
      "100%|██████████| 64/64 [00:00<00:00, 166.39it/s]\n",
      "100%|██████████| 64/64 [00:07<00:00,  8.87it/s]\n",
      "100%|██████████| 64/64 [00:00<00:00, 3625.89it/s]\n",
      "100%|██████████| 64/64 [00:00<00:00, 1452.35it/s]\n",
      "100%|██████████| 64/64 [00:00<00:00, 1409.02it/s]\n",
      "100%|██████████| 64/64 [00:00<00:00, 7609.36it/s]\n",
      "100%|██████████| 64/64 [00:00<00:00, 120482.70it/s]\n",
      " 17%|█▋        | 11/64 [00:00<00:00, 104.41it/s]"
     ]
    },
    {
     "name": "stdout",
     "output_type": "stream",
     "text": [
      "(1, 3329)\n",
      "(971, 3330)\n"
     ]
    },
    {
     "name": "stderr",
     "output_type": "stream",
     "text": [
      "100%|██████████| 64/64 [00:00<00:00, 106.18it/s]\n",
      "100%|██████████| 64/64 [00:00<00:00, 106.18it/s]\n",
      "100%|██████████| 64/64 [00:00<00:00, 115.05it/s]\n",
      "100%|██████████| 64/64 [00:00<00:00, 1938.96it/s]\n",
      "100%|██████████| 64/64 [00:00<00:00, 202.52it/s]\n",
      "100%|██████████| 64/64 [00:00<00:00, 168.91it/s]\n",
      "100%|██████████| 64/64 [00:07<00:00,  8.86it/s]\n",
      "100%|██████████| 64/64 [00:00<00:00, 3331.54it/s]\n",
      "100%|██████████| 64/64 [00:00<00:00, 1545.99it/s]\n",
      "100%|██████████| 64/64 [00:00<00:00, 1542.40it/s]\n",
      "100%|██████████| 64/64 [00:00<00:00, 8969.97it/s]\n",
      "100%|██████████| 64/64 [00:00<00:00, 44099.80it/s]\n",
      "  0%|          | 0/64 [00:00<?, ?it/s]"
     ]
    },
    {
     "name": "stdout",
     "output_type": "stream",
     "text": [
      "(1, 3329)\n",
      "(972, 3330)\n"
     ]
    },
    {
     "name": "stderr",
     "output_type": "stream",
     "text": [
      "100%|██████████| 64/64 [00:00<00:00, 109.52it/s]\n",
      "100%|██████████| 64/64 [00:00<00:00, 107.38it/s]\n",
      "100%|██████████| 64/64 [00:00<00:00, 112.75it/s]\n",
      "100%|██████████| 64/64 [00:00<00:00, 2288.12it/s]\n",
      "100%|██████████| 64/64 [00:00<00:00, 206.52it/s]\n",
      "100%|██████████| 64/64 [00:00<00:00, 172.74it/s]\n",
      "100%|██████████| 64/64 [00:07<00:00,  8.91it/s]\n",
      "100%|██████████| 64/64 [00:00<00:00, 3601.23it/s]\n",
      "100%|██████████| 64/64 [00:00<00:00, 1397.63it/s]\n",
      "100%|██████████| 64/64 [00:00<00:00, 1270.97it/s]\n",
      "100%|██████████| 64/64 [00:00<00:00, 7819.72it/s]\n",
      "100%|██████████| 64/64 [00:00<00:00, 199136.09it/s]\n",
      " 19%|█▉        | 12/64 [00:00<00:00, 115.50it/s]"
     ]
    },
    {
     "name": "stdout",
     "output_type": "stream",
     "text": [
      "(1, 3329)\n",
      "(973, 3330)\n"
     ]
    },
    {
     "name": "stderr",
     "output_type": "stream",
     "text": [
      "100%|██████████| 64/64 [00:00<00:00, 109.22it/s]\n",
      "100%|██████████| 64/64 [00:00<00:00, 109.42it/s]\n",
      "100%|██████████| 64/64 [00:00<00:00, 112.96it/s]\n",
      "100%|██████████| 64/64 [00:00<00:00, 2350.98it/s]\n",
      "100%|██████████| 64/64 [00:00<00:00, 199.91it/s]\n",
      "100%|██████████| 64/64 [00:00<00:00, 158.79it/s]\n",
      "100%|██████████| 64/64 [00:07<00:00,  9.00it/s]\n",
      "100%|██████████| 64/64 [00:00<00:00, 3685.78it/s]\n",
      "100%|██████████| 64/64 [00:00<00:00, 1536.43it/s]\n",
      "100%|██████████| 64/64 [00:00<00:00, 1487.13it/s]\n",
      "100%|██████████| 64/64 [00:00<00:00, 8500.98it/s]\n",
      "100%|██████████| 64/64 [00:00<00:00, 56052.51it/s]\n",
      " 17%|█▋        | 11/64 [00:00<00:00, 104.19it/s]"
     ]
    },
    {
     "name": "stdout",
     "output_type": "stream",
     "text": [
      "(1, 3329)\n",
      "(974, 3330)\n"
     ]
    },
    {
     "name": "stderr",
     "output_type": "stream",
     "text": [
      "100%|██████████| 64/64 [00:00<00:00, 106.58it/s]\n",
      "100%|██████████| 64/64 [00:00<00:00, 113.59it/s]\n",
      "100%|██████████| 64/64 [00:00<00:00, 101.21it/s]\n",
      "100%|██████████| 64/64 [00:00<00:00, 2409.87it/s]\n",
      "100%|██████████| 64/64 [00:00<00:00, 204.54it/s]\n",
      "100%|██████████| 64/64 [00:00<00:00, 171.28it/s]\n",
      "100%|██████████| 64/64 [00:07<00:00,  8.76it/s]\n",
      "100%|██████████| 64/64 [00:00<00:00, 3492.34it/s]\n",
      "100%|██████████| 64/64 [00:00<00:00, 1479.51it/s]\n",
      "100%|██████████| 64/64 [00:00<00:00, 1477.90it/s]\n",
      "100%|██████████| 64/64 [00:00<00:00, 9734.39it/s]\n",
      "100%|██████████| 64/64 [00:00<00:00, 29488.68it/s]\n",
      " 16%|█▌        | 10/64 [00:00<00:00, 97.65it/s]"
     ]
    },
    {
     "name": "stdout",
     "output_type": "stream",
     "text": [
      "(1, 3329)\n",
      "(975, 3330)\n"
     ]
    },
    {
     "name": "stderr",
     "output_type": "stream",
     "text": [
      "100%|██████████| 64/64 [00:00<00:00, 98.90it/s]\n",
      "100%|██████████| 64/64 [00:00<00:00, 101.30it/s]\n",
      "100%|██████████| 64/64 [00:00<00:00, 114.79it/s]\n",
      "100%|██████████| 64/64 [00:00<00:00, 2353.64it/s]\n",
      "100%|██████████| 64/64 [00:00<00:00, 219.76it/s]\n",
      "100%|██████████| 64/64 [00:00<00:00, 169.54it/s]\n",
      "100%|██████████| 64/64 [00:07<00:00,  8.99it/s]\n",
      "100%|██████████| 64/64 [00:00<00:00, 3501.00it/s]\n",
      "100%|██████████| 64/64 [00:00<00:00, 1398.04it/s]\n",
      "100%|██████████| 64/64 [00:00<00:00, 1341.87it/s]\n"
     ]
    },
    {
     "name": "stdout",
     "output_type": "stream",
     "text": [
      "(1, 3329)\n",
      "(976, 3330)\n"
     ]
    }
   ],
   "source": [
    "\n",
    "# filenames=pd.read_csv(label_file_path)\n",
    "# filenames.columns=['filenames','target']\n",
    "# filenames.head()\n",
    "input_df=pd.DataFrame({\"\":[]})\n",
    "for i in range (1,len(X_data)):\n",
    "    # filename=file[0]\n",
    "    target=y_data[i]\n",
    "    file=X_data[i]\n",
    "    file=pd.DataFrame(file)\n",
    "    # print(file)\n",
    "    # raw_df=pd.read_csv(filename+'.txt',skiprows=[0],header=None)\n",
    "    features=getfeatures(file)\n",
    "    features=features.to_numpy()\n",
    "    features=features.ravel()\n",
    "    features=numpy.append(features,target)\n",
    "    tmp_df=pd.DataFrame(features)\n",
    "    tmp_df=tmp_df.T\n",
    "    print(tmp_df.shape)\n",
    "    input_df=input_df.append(tmp_df, ignore_index = True)\n",
    "    print(input_df.shape)\n",
    "# input_df.to_csv('/home/sachin/Documents/5th_Year/9th_sem/MTP/MTP-2/features.csv')'''\n",
    "input_df.to_pickle('/content/drive/My Drive/Colab Notebooks/jupyter/nfeatures_2.pkl') "
   ]
  },
  {
   "cell_type": "code",
   "execution_count": 0,
   "metadata": {
    "colab": {},
    "colab_type": "code",
    "id": "UF_izmSvd5Qw"
   },
   "outputs": [],
   "source": [
    "input_df.to_pickle('/content/drive/My Drive/Colab Notebooks/jupyter/nfeatures_2.pkl') \n"
   ]
  },
  {
   "cell_type": "code",
   "execution_count": 0,
   "metadata": {
    "colab": {},
    "colab_type": "code",
    "id": "SgehsG4Sd5Q0"
   },
   "outputs": [],
   "source": [
    "input_df.to_csv('/home/sachin/Documents/5th_Year/9th_sem/MTP/MTP-2/nfeatures.csv')\n"
   ]
  },
  {
   "cell_type": "code",
   "execution_count": 0,
   "metadata": {
    "colab": {},
    "colab_type": "code",
    "id": "G7Ig1zu3d5Q4",
    "scrolled": false
   },
   "outputs": [],
   "source": [
    "\n",
    "# filename=\"/home/sachin/Documents/5th_Year/9th_sem/MTP/MTP-2/data/sub-02_ses-11/F_0.txt\"\n",
    "# raw_df=pd.read_csv(filename,skiprows=[0],header=None)"
   ]
  },
  {
   "cell_type": "code",
   "execution_count": 0,
   "metadata": {
    "colab": {},
    "colab_type": "code",
    "id": "anpI5u3Ud5Q8",
    "scrolled": true
   },
   "outputs": [],
   "source": [
    "# features=getfeatures(raw_df)"
   ]
  },
  {
   "cell_type": "code",
   "execution_count": 0,
   "metadata": {
    "colab": {},
    "colab_type": "code",
    "id": "5Rpw9Ehtd5RA"
   },
   "outputs": [],
   "source": [
    "temp_features=input_df"
   ]
  },
  {
   "cell_type": "code",
   "execution_count": 16,
   "metadata": {
    "colab": {
     "base_uri": "https://localhost:8080/"
    },
    "colab_type": "code",
    "executionInfo": {
     "elapsed": 10863715,
     "status": "ok",
     "timestamp": 1590812229089,
     "user": {
      "displayName": "sachin kumar",
      "photoUrl": "https://lh3.googleusercontent.com/a-/AOh14GilxrxoTXuXScRxNWGUHg9HViW0rvRI8ufn0V_jBwk=s64",
      "userId": "08533866445201955072"
     },
     "user_tz": -330
    },
    "id": "Yu8WmfeFd5RF",
    "outputId": "7f3e16d0-3cb5-4479-cf76-50355e607a4e"
   },
   "outputs": [
    {
     "name": "stdout",
     "output_type": "stream",
     "text": [
      "(3329,)\n",
      "(3329,)\n"
     ]
    },
    {
     "data": {
      "text/plain": [
       "(3330,)"
      ]
     },
     "execution_count": 16,
     "metadata": {
      "tags": []
     },
     "output_type": "execute_result"
    }
   ],
   "source": [
    "f=[]\n",
    "features1=features\n",
    "f.append(features1)\n",
    "f.append(features1)\n",
    "print(features1.shape)\n",
    "# features1.append(0)\n",
    "features2=features1.ravel()\n",
    "print(features2.shape)\n",
    "features2=numpy.append(features2,target)\n",
    "features2.shape\n",
    "# print(f.shape)\n",
    "\n",
    "# print(f)"
   ]
  },
  {
   "cell_type": "code",
   "execution_count": 0,
   "metadata": {
    "colab": {},
    "colab_type": "code",
    "id": "9N2e0r6qd5RI"
   },
   "outputs": [],
   "source": [
    "d=pd.DataFrame(features2)\n",
    "d=d.T\n",
    "# d.append(d)"
   ]
  },
  {
   "cell_type": "code",
   "execution_count": 0,
   "metadata": {
    "colab": {},
    "colab_type": "code",
    "id": "M_t4xQ5medCM"
   },
   "outputs": [],
   "source": [
    "# label_file_path='/home/sachin/Documents/5th_Year/9th_sem/MTP/MTP-2/label.csv'\n",
    "# filenames=pd.read_csv(label_file_path)\n",
    "# filenames.columns=['filenames','target']\n",
    "# # filenames.head()\n",
    "# input_df=pd.DataFrame({\"\":[]})\n",
    "# for file in filenames.values:\n",
    "#     filename=file[0]\n",
    "#     target=file[1]\n",
    "#     raw_df=pd.read_csv(filename+'.txt',skiprows=[0],header=None)\n",
    "#     features=getfeatures(raw_df)\n",
    "#     features=features.to_numpy()\n",
    "#     features=features.ravel()\n",
    "#     features=numpy.append(features,target)\n",
    "#     tmp_df=pd.DataFrame(features)\n",
    "#     tmp_df=tmp_df.T\n",
    "#     print(tmp_df.shape)\n",
    "#     input_df=input_df.append(tmp_df, ignore_index = True)\n",
    "#     print(input_df.shape)\n",
    "# input_df.to_csv('/home/sachin/Documents/5th_Year/9th_sem/MTP/MTP-2/features.csv')"
   ]
  }
 ],
 "metadata": {
  "accelerator": "GPU",
  "colab": {
   "collapsed_sections": [],
   "name": "mtp2-feature-extraction.ipynb",
   "provenance": []
  },
  "kernelspec": {
   "display_name": "Python 3",
   "language": "python",
   "name": "python3"
  },
  "language_info": {
   "codemirror_mode": {
    "name": "ipython",
    "version": 3
   },
   "file_extension": ".py",
   "mimetype": "text/x-python",
   "name": "python",
   "nbconvert_exporter": "python",
   "pygments_lexer": "ipython3",
   "version": "3.8.5"
  }
 },
 "nbformat": 4,
 "nbformat_minor": 1
}
